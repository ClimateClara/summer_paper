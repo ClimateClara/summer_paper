{
 "cells": [
  {
   "cell_type": "code",
   "execution_count": null,
   "id": "0",
   "metadata": {},
   "outputs": [],
   "source": [
    "\"\"\"\n",
    "Created on Mon Apr 08 16:22 2024\n",
    "\n",
    "This script is to make a timeseries of runs that have crossed the viability limit\n",
    "\n",
    "@author: Clara Burgard\n",
    "\"\"\""
   ]
  },
  {
   "cell_type": "code",
   "execution_count": null,
   "id": "1",
   "metadata": {},
   "outputs": [],
   "source": [
    "import xarray as xr\n",
    "import numpy as np\n",
    "import pandas as pd\n",
    "from tqdm.notebook import tqdm\n",
    "import matplotlib.pyplot as plt\n",
    "import seaborn as sns\n",
    "from matplotlib import cm\n",
    "import matplotlib as mpl\n",
    "import cmocean\n",
    "import glob\n",
    "from matplotlib.colors import ListedColormap, LinearSegmentedColormap\n",
    "import os"
   ]
  },
  {
   "cell_type": "code",
   "execution_count": null,
   "id": "2",
   "metadata": {},
   "outputs": [],
   "source": [
    "sns.set_context('paper')"
   ]
  },
  {
   "cell_type": "code",
   "execution_count": null,
   "id": "3",
   "metadata": {},
   "outputs": [],
   "source": [
    "%matplotlib qt5"
   ]
  },
  {
   "cell_type": "code",
   "execution_count": null,
   "id": "4",
   "metadata": {},
   "outputs": [],
   "source": [
    "# make the domain a little smaller to make the computation even more efficient - file isf has already been made smaller at its creation\n",
    "map_lim = [-3000000,3000000]"
   ]
  },
  {
   "cell_type": "markdown",
   "id": "5",
   "metadata": {},
   "source": [
    "READ IN DATA"
   ]
  },
  {
   "cell_type": "code",
   "execution_count": null,
   "id": "6",
   "metadata": {},
   "outputs": [],
   "source": [
    "home_path = '/bettik/burgardc/'\n",
    "plot_path = '/bettik/burgardc/PLOTS/summer_paper_plots/'\n",
    "outputpath_GL = '/bettik/burgardc/DATA/SUMMER_PAPER/processed/GL_FLUX/'\n",
    "inputpath_weights = '/bettik/burgardc/DATA/SUMMER_PAPER/processed/ANALYSIS/'\n",
    "inputpath_atmo = '/bettik/burgardc/DATA/SUMMER_PAPER/raw/TS_SMB_DATA/out/'\n",
    "inputpath_data='/bettik/burgardc/DATA/SUMMER_PAPER/interim/'\n"
   ]
  },
  {
   "cell_type": "code",
   "execution_count": null,
   "id": "7",
   "metadata": {},
   "outputs": [],
   "source": [
    "inputpath_mask = home_path+'/DATA/SUMMER_PAPER/interim/ANTARCTICA_IS_MASKS/BedMachine_4km/'\n",
    "file_isf_orig = xr.open_dataset(inputpath_mask+'BedMachinev2_4km_isf_masks_and_info_and_distance_oneFRIS.nc')\n",
    "nonnan_Nisf = file_isf_orig['Nisf'].where(np.isfinite(file_isf_orig['front_bot_depth_max']), drop=True).astype(int)\n",
    "file_isf_nonnan = file_isf_orig.sel(Nisf=nonnan_Nisf)\n",
    "rignot_isf = file_isf_nonnan.Nisf.where(np.isfinite(file_isf_nonnan['isf_area_rignot']), drop=True)\n",
    "file_isf = file_isf_nonnan.sel(Nisf=rignot_isf)"
   ]
  },
  {
   "cell_type": "code",
   "execution_count": null,
   "id": "8",
   "metadata": {},
   "outputs": [],
   "source": [
    "weight_file = xr.open_dataset(inputpath_weights + 'bayesian_weights_davison_varying_combined.nc')\n",
    "weight_2300_file = xr.open_dataset(inputpath_weights + 'bayesian_weights_davison_varying_combined_2300.nc')\n",
    "file_viability_info = xr.open_dataset(inputpath_weights + 'all_fluxes_br.nc')"
   ]
  },
  {
   "cell_type": "code",
   "execution_count": null,
   "id": "9",
   "metadata": {},
   "outputs": [],
   "source": [
    "ano_choice = xr.open_dataset(inputpath_weights + 'NEMOorISMIP_choice_and_weights.nc')['ano_choice']"
   ]
  },
  {
   "cell_type": "code",
   "execution_count": null,
   "id": "10",
   "metadata": {},
   "outputs": [],
   "source": [
    "file_TS_scen_list = []\n",
    "for scenario in ['ssp126','ssp245','ssp585']:\n",
    "    print(scenario)\n",
    "    \n",
    "    file_TS_model_list = []\n",
    "    for mod in weight_file.model.values:\n",
    "        print(mod)\n",
    "\n",
    "        if mod in ['CNRM-CM6-1','CNRM-ESM2-1']:\n",
    "            to2300 = False\n",
    "        elif mod in ['GISS-E2-1-H']:\n",
    "            to2300 = True\n",
    "        elif mod in ['ACCESS-CM2','ACCESS-ESM1-5','CESM2-WACCM','CanESM5','IPSL-CM6A-LR','MRI-ESM2-0']:\n",
    "            to2300 = True\n",
    "        elif mod in ['MPI-ESM1-2-HR','GFDL-CM4','GFDL-ESM4']:\n",
    "            to2300 = False\n",
    "        elif mod == 'UKESM1-0-LL':\n",
    "            to2300 = True     \n",
    "        elif mod == 'CESM2':\n",
    "            to2300 = False        \n",
    "\n",
    "        if scenario == 'historical':\n",
    "            yystart = 1850 #1980 #1850\n",
    "            yyend = 2014\n",
    "        elif scenario == 'ssp245':\n",
    "            yystart = 2015\n",
    "            yyend = 2100  \n",
    "        else:\n",
    "            if to2300:\n",
    "                yystart = 2015\n",
    "                yyend = 2300\n",
    "            else:\n",
    "                yystart = 2015\n",
    "                yyend = 2100 \n",
    "\n",
    "        inputpath_profiles = home_path+'/DATA/SUMMER_PAPER/interim/T_S_PROF/CMIP/'+mod+'/'\n",
    "\n",
    "        T_Clim = xr.open_dataset(inputpath_profiles + 'T_mean_prof_50km_contshelf_'+mod+'_clim.nc')\n",
    "        S_Clim = xr.open_dataset(inputpath_profiles + 'S_mean_prof_50km_contshelf_'+mod+'_clim.nc')\n",
    "        TS_Clim = xr.merge([T_Clim.rename({'thetao':'theta_ocean'}),S_Clim.rename({'so':'salinity_ocean'})])\n",
    "        \n",
    "        if scenario == 'ssp126' and mod == 'GFDL-CM4':\n",
    "            print('beuh')\n",
    "        else:\n",
    "        \n",
    "            file_TS_list = []\n",
    "            for tt in tqdm(range(yystart,yyend+1)):\n",
    "                file_T_orig = xr.open_dataset(inputpath_profiles+'T_mean_prof_50km_contshelf_'+mod+'_'+scenario+'_'+str(tt)+'.nc')\n",
    "                file_S_orig = xr.open_dataset(inputpath_profiles+'S_mean_prof_50km_contshelf_'+mod+'_'+scenario+'_'+str(tt)+'.nc')\n",
    "                file_TS_orig = xr.merge([file_T_orig.rename({'thetao':'theta_ocean'}), file_S_orig.rename({'so':'salinity_ocean'})]).sel(Nisf=rignot_isf).assign_coords({'time': tt})\n",
    "                file_TS_list.append(file_TS_orig)\n",
    "            file_TS_0 = xr.concat(file_TS_list, dim='time') \n",
    "            file_TS_model_list.append(file_TS_0.assign_coords({'model': mod}))\n",
    "        file_TS1 = xr.concat(file_TS_model_list, dim='model')\n",
    "    file_TS_scen_list.append(file_TS1.assign_coords({'scenario': scenario}))\n",
    "file_TS2 = xr.concat(file_TS_scen_list, dim='scenario')"
   ]
  },
  {
   "cell_type": "code",
   "execution_count": null,
   "id": "11",
   "metadata": {},
   "outputs": [],
   "source": [
    "file_TS2.to_netcdf(home_path+'/DATA/SUMMER_PAPER/interim/T_S_PROF/CMIP/T_S_prof_allfuturescen_allmod.nc')"
   ]
  },
  {
   "cell_type": "code",
   "execution_count": null,
   "id": "12",
   "metadata": {},
   "outputs": [],
   "source": [
    "file_TS2 = xr.open_dataset(home_path+'/DATA/SUMMER_PAPER/interim/T_S_PROF/CMIP/T_S_prof_allfuturescen_allmod.nc')"
   ]
  },
  {
   "cell_type": "code",
   "execution_count": null,
   "id": "13",
   "metadata": {},
   "outputs": [],
   "source": [
    "Tmax = file_TS2['theta_ocean'].max('z')"
   ]
  },
  {
   "cell_type": "markdown",
   "id": "14",
   "metadata": {},
   "source": [
    "PREPARE THE DATA"
   ]
  },
  {
   "cell_type": "code",
   "execution_count": null,
   "id": "15",
   "metadata": {},
   "outputs": [],
   "source": [
    "sorted_isf_rignot = [11,69,43,28,12,57,\n",
    "                     70,44,29,13,58,71,45,30,14,\n",
    "                     59,72,46,\n",
    "                     31,\n",
    "                     15,61,73,47,32,16,48,33,17,62,49,34,18,63,74,\n",
    "                     50,35,19,64,\n",
    "                     10,\n",
    "                     36,20,65,51,37,\n",
    "                     22,38,52,23,66,53,39,24,\n",
    "                     67,40,54,75,25,41,\n",
    "                     26,42,55,68,60,27]"
   ]
  },
  {
   "cell_type": "code",
   "execution_count": null,
   "id": "16",
   "metadata": {},
   "outputs": [],
   "source": [
    "sens_weights = xr.DataArray(data=np.array([0.11,\n",
    "                                           0.24,\n",
    "                                           0.03,\n",
    "                                           0.10,\n",
    "                                           0.10,\n",
    "                                           0.10,\n",
    "                                           0.10,\n",
    "                                           0.24,\n",
    "                                           0.47,\n",
    "                                           0.41,\n",
    "                                           0.12,\n",
    "                                           0.43,\n",
    "                                           0.39,\n",
    "                                           0.05]), dims=['model']).assign_coords({'model': \n",
    "                                                                                  ['ACCESS-CM2','ACCESS-ESM1-5','CanESM5',\n",
    "                                                                                   'CESM2','CESM2-WACCM','CNRM-CM6-1','CNRM-ESM2-1',\n",
    "                                                                                   'GFDL-CM4','GFDL-ESM4','GISS-E2-1-H', 'IPSL-CM6A-LR',\n",
    "                                                                                   'MPI-ESM1-2-HR','MRI-ESM2-0','UKESM1-0-LL']})"
   ]
  },
  {
   "cell_type": "code",
   "execution_count": null,
   "id": "17",
   "metadata": {},
   "outputs": [],
   "source": [
    "model_2300 = ['ACCESS-CM2','ACCESS-ESM1-5','CanESM5','CESM2-WACCM','GISS-E2-1-H', 'IPSL-CM6A-LR','MRI-ESM2-0','UKESM1-0-LL']"
   ]
  },
  {
   "cell_type": "code",
   "execution_count": null,
   "id": "18",
   "metadata": {},
   "outputs": [],
   "source": [
    "bay_weights = weight_file['bay_weights']\n",
    "bay_weights_2300 = weight_2300_file['bay_weights']"
   ]
  },
  {
   "cell_type": "code",
   "execution_count": null,
   "id": "19",
   "metadata": {},
   "outputs": [],
   "source": [
    "mass_balance_weighted_yy = file_viability_info['MASS_BALANCE'].sel(time=range(1850,2101)).weighted(bay_weights * sens_weights)\n",
    "mass_balance_weighted_yy_2300 = file_viability_info['MASS_BALANCE'].sel(time=range(1850,2300)).sel(model=model_2300).weighted(bay_weights_2300 * sens_weights.sel(model=model_2300))"
   ]
  },
  {
   "cell_type": "code",
   "execution_count": null,
   "id": "20",
   "metadata": {},
   "outputs": [],
   "source": [
    "weighted_quantiles = mass_balance_weighted_yy.quantile([0,0.1,0.33,0.66,0.5,0.9],dim=['model','param','m'])\n",
    "weighted_quantiles_2300 = mass_balance_weighted_yy_2300.quantile([0,0.1,0.33,0.66,0.5,0.9],dim=['model','param','m'])"
   ]
  },
  {
   "cell_type": "code",
   "execution_count": null,
   "id": "21",
   "metadata": {},
   "outputs": [],
   "source": [
    "unviable_times = weighted_quantiles > 0\n",
    "unviable_times_2300 = weighted_quantiles_2300 > 0\n"
   ]
  },
  {
   "cell_type": "code",
   "execution_count": null,
   "id": "22",
   "metadata": {},
   "outputs": [],
   "source": [
    "unviable_yy = file_viability_info['MASS_BALANCE'].sel(time=range(1850,2101)) > 0\n",
    "unviable_yy_2300 = file_viability_info['MASS_BALANCE'].sel(time=range(1850,2300)).sel(model=model_2300) > 0"
   ]
  },
  {
   "cell_type": "code",
   "execution_count": null,
   "id": "23",
   "metadata": {},
   "outputs": [],
   "source": [
    "viability_diff = unviable_times.sel(time=range(2100,1849,-1)).cumsum('time').diff('time')\n",
    "limit_max = viability_diff.time.where(viability_diff == 0).max('time') + 1\n",
    "limit_max = limit_max.where(limit_max<2100)\n",
    "limit_max = limit_max.where(~(np.isnan(limit_max) & unviable_times.sel(time=1850)), 1850)\n",
    "\n",
    "limit_max_full = limit_max.where(np.isfinite(limit_max), 2301)\n",
    "\n",
    "count_unviable_isf = (unviable_times.time >= limit_max_full).sum('Nisf')"
   ]
  },
  {
   "cell_type": "code",
   "execution_count": null,
   "id": "24",
   "metadata": {},
   "outputs": [],
   "source": [
    "viability_diff_2300 = unviable_times_2300.sel(time=range(2299,1849,-1)).cumsum('time').diff('time')\n",
    "limit_max_2300 = viability_diff_2300.time.where(viability_diff_2300 == 0).max('time') + 1\n",
    "limit_max_2300 = limit_max_2300.where(limit_max_2300<2300)\n",
    "limit_max_2300 = limit_max_2300.where(~(np.isnan(limit_max_2300) & unviable_times_2300.sel(time=1850)), 1850)\n",
    "\n",
    "limit_max_full_2300 = limit_max_2300.where(np.isfinite(limit_max_2300), 2305)\n",
    "\n",
    "count_unviable_isf_2300 = (unviable_times_2300.time >= limit_max_full_2300).sum('Nisf')\n"
   ]
  },
  {
   "cell_type": "code",
   "execution_count": null,
   "id": "25",
   "metadata": {},
   "outputs": [],
   "source": [
    "unviable_Tmax = Tmax.where(unviable_yy)"
   ]
  },
  {
   "cell_type": "code",
   "execution_count": null,
   "id": "26",
   "metadata": {},
   "outputs": [],
   "source": [
    "Tmax.where(unviable_yy).sel(Nisf=66,scenario='ssp585')"
   ]
  },
  {
   "cell_type": "code",
   "execution_count": null,
   "id": "27",
   "metadata": {},
   "outputs": [],
   "source": [
    "f.savefig(plot_path + 'relationship_with_Tocean.png',dpi=300)"
   ]
  },
  {
   "cell_type": "code",
   "execution_count": null,
   "id": "28",
   "metadata": {},
   "outputs": [],
   "source": [
    "f = plt.figure()\n",
    "f.set_size_inches(8.25*3, 8.25*3)\n",
    "\n",
    "ax={}\n",
    "\n",
    "anomaly_mb = file_viability_info['MASS_BALANCE'].sel(time=range(2015,2101)) - file_viability_info['MASS_BALANCE'].sel(time=range(2015,2101)).mean('time')\n",
    "\n",
    "i = 0\n",
    "\n",
    "for kisf in tqdm(file_isf.Nisf.sel(Nisf=sorted_isf_rignot[::-1])):\n",
    "\n",
    "    ax[i] = f.add_subplot(8,8,i+1)\n",
    "        \n",
    "    for scen in ['ssp126','ssp245','ssp585']:\n",
    "\n",
    "        if scen == 'ssp126':\n",
    "            ccol = 'gold'\n",
    "        elif scen == 'ssp245':\n",
    "            ccol = 'darkorange'\n",
    "        elif scen == 'ssp585':\n",
    "            ccol = 'red'\n",
    "    \n",
    "        \n",
    "        for mmod in Tmax.model:\n",
    "            \n",
    "            for mparam in file_viability_info['MASS_BALANCE'].param:\n",
    "                \n",
    "                for mm in file_viability_info['MASS_BALANCE'].m:\n",
    "                    \n",
    "                    ax[i].scatter(Tmax.sel(Nisf=kisf,scenario=scen,time=range(2015,2101),model=mmod),anomaly_mb.sel(model=mmod, Nisf=kisf, scenario=scen, param=mparam, m=mm), s=10, color=ccol, alpha=0.075)\n",
    "            \n",
    "    i = i+1\n",
    "    \n",
    "    sns.despine()\n",
    "    plt.grid(linestyle='--')\n",
    "    plt.tight_layout()"
   ]
  },
  {
   "cell_type": "code",
   "execution_count": null,
   "id": "29",
   "metadata": {},
   "outputs": [],
   "source": []
  },
  {
   "cell_type": "code",
   "execution_count": null,
   "id": "30",
   "metadata": {},
   "outputs": [],
   "source": [
    "file_isf.Nisf.sel(Nisf=sorted_isf_rignot[::-1])"
   ]
  },
  {
   "cell_type": "code",
   "execution_count": null,
   "id": "31",
   "metadata": {},
   "outputs": [],
   "source": [
    "file_viability_info['MASS_BALANCE'].sel(time=range(1850,2101), Nisf=kisf, scenario=scen, param=mparam, m=mm)"
   ]
  },
  {
   "cell_type": "code",
   "execution_count": null,
   "id": "32",
   "metadata": {},
   "outputs": [],
   "source": []
  }
 ],
 "metadata": {
  "kernelspec": {
   "display_name": "py38",
   "language": "python",
   "name": "py38"
  },
  "language_info": {
   "codemirror_mode": {
    "name": "ipython",
    "version": 3
   },
   "file_extension": ".py",
   "mimetype": "text/x-python",
   "name": "python",
   "nbconvert_exporter": "python",
   "pygments_lexer": "ipython3",
   "version": "3.8.12"
  }
 },
 "nbformat": 4,
 "nbformat_minor": 5
}
