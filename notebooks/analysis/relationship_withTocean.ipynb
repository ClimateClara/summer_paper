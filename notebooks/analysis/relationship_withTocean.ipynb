{
 "cells": [
  {
   "cell_type": "code",
   "execution_count": null,
   "id": "0",
   "metadata": {},
   "outputs": [],
   "source": [
    "\"\"\"\n",
    "Created on Mon Apr 08 16:22 2024\n",
    "\n",
    "This script is to make a timeseries of runs that have crossed the viability limit\n",
    "\n",
    "@author: Clara Burgard\n",
    "\"\"\""
   ]
  },
  {
   "cell_type": "code",
   "execution_count": null,
   "id": "1",
   "metadata": {},
   "outputs": [],
   "source": [
    "import xarray as xr\n",
    "import numpy as np\n",
    "import pandas as pd\n",
    "from tqdm.notebook import tqdm\n",
    "import matplotlib.pyplot as plt\n",
    "import seaborn as sns\n",
    "from matplotlib import cm\n",
    "import matplotlib as mpl\n",
    "import cmocean\n",
    "import glob\n",
    "from matplotlib.colors import ListedColormap, LinearSegmentedColormap\n",
    "import os\n",
    "import multimelt.useful_functions as uf"
   ]
  },
  {
   "cell_type": "code",
   "execution_count": null,
   "id": "2",
   "metadata": {},
   "outputs": [],
   "source": [
    "sns.set_context('paper')"
   ]
  },
  {
   "cell_type": "code",
   "execution_count": null,
   "id": "3",
   "metadata": {},
   "outputs": [],
   "source": [
    "%matplotlib qt5"
   ]
  },
  {
   "cell_type": "code",
   "execution_count": null,
   "id": "4",
   "metadata": {},
   "outputs": [],
   "source": [
    "# make the domain a little smaller to make the computation even more efficient - file isf has already been made smaller at its creation\n",
    "map_lim = [-3000000,3000000]"
   ]
  },
  {
   "cell_type": "markdown",
   "id": "5",
   "metadata": {},
   "source": [
    "READ IN DATA"
   ]
  },
  {
   "cell_type": "code",
   "execution_count": null,
   "id": "6",
   "metadata": {},
   "outputs": [],
   "source": [
    "home_path = '/bettik/burgardc/'\n",
    "plot_path = '/bettik/burgardc/PLOTS/summer_paper_plots/'\n",
    "outputpath_GL = '/bettik/burgardc/DATA/SUMMER_PAPER/processed/GL_FLUX/'\n",
    "inputpath_weights = '/bettik/burgardc/DATA/SUMMER_PAPER/processed/ANALYSIS/'\n",
    "inputpath_atmo = '/bettik/burgardc/DATA/SUMMER_PAPER/raw/TS_SMB_DATA/out/'\n",
    "inputpath_data='/bettik/burgardc/DATA/SUMMER_PAPER/interim/'\n"
   ]
  },
  {
   "cell_type": "code",
   "execution_count": null,
   "id": "7",
   "metadata": {},
   "outputs": [],
   "source": [
    "inputpath_mask = home_path+'/DATA/SUMMER_PAPER/interim/ANTARCTICA_IS_MASKS/BedMachine_4km/'\n",
    "file_isf_orig = xr.open_dataset(inputpath_mask+'BedMachinev2_4km_isf_masks_and_info_and_distance_oneFRIS.nc')\n",
    "nonnan_Nisf = file_isf_orig['Nisf'].where(np.isfinite(file_isf_orig['front_bot_depth_max']), drop=True).astype(int)\n",
    "file_isf_nonnan = file_isf_orig.sel(Nisf=nonnan_Nisf)\n",
    "rignot_isf = file_isf_nonnan.Nisf.where(np.isfinite(file_isf_nonnan['isf_area_rignot']), drop=True)\n",
    "file_isf = file_isf_nonnan.sel(Nisf=rignot_isf)"
   ]
  },
  {
   "cell_type": "code",
   "execution_count": null,
   "id": "8",
   "metadata": {},
   "outputs": [],
   "source": [
    "weight_file = xr.open_dataset(inputpath_weights + 'bayesian_weights_davison_varying_combined_withoutGISS.nc')\n",
    "weight_2300_file = xr.open_dataset(inputpath_weights + 'bayesian_weights_davison_varying_combined_2300_withoutGISS.nc')\n",
    "file_viability_info = xr.open_dataset(inputpath_weights + 'all_fluxes_br_withoutGISS.nc')"
   ]
  },
  {
   "cell_type": "code",
   "execution_count": null,
   "id": "9",
   "metadata": {},
   "outputs": [],
   "source": [
    "ano_choice = xr.open_dataset(inputpath_weights + 'ano_choice_NEMOorISMIP_withoutGISS.nc')['ano_choice']"
   ]
  },
  {
   "cell_type": "code",
   "execution_count": null,
   "id": "10",
   "metadata": {},
   "outputs": [],
   "source": [
    "file_TS_scen_list = []\n",
    "for scenario in ['ssp126','ssp245','ssp585']:\n",
    "    print(scenario)\n",
    "    \n",
    "    file_TS_model_list = []\n",
    "    for mod in weight_file.model.values:\n",
    "        print(mod)\n",
    "\n",
    "        if mod in ['CNRM-CM6-1','CNRM-ESM2-1']:\n",
    "            to2300 = False\n",
    "        elif mod in ['GISS-E2-1-H']:\n",
    "            to2300 = True\n",
    "        elif mod in ['ACCESS-CM2','ACCESS-ESM1-5','CESM2-WACCM','CanESM5','IPSL-CM6A-LR','MRI-ESM2-0']:\n",
    "            to2300 = True\n",
    "        elif mod in ['MPI-ESM1-2-HR','GFDL-CM4','GFDL-ESM4']:\n",
    "            to2300 = False\n",
    "        elif mod == 'UKESM1-0-LL':\n",
    "            to2300 = True     \n",
    "        elif mod == 'CESM2':\n",
    "            to2300 = False        \n",
    "\n",
    "        if scenario == 'historical':\n",
    "            yystart = 1850 #1980 #1850\n",
    "            yyend = 2014\n",
    "        elif scenario == 'ssp245':\n",
    "            yystart = 2015\n",
    "            yyend = 2100  \n",
    "        else:\n",
    "            if to2300:\n",
    "                yystart = 2015\n",
    "                yyend = 2300\n",
    "            else:\n",
    "                yystart = 2015\n",
    "                yyend = 2100 \n",
    "\n",
    "        inputpath_profiles = home_path+'/DATA/SUMMER_PAPER/interim/T_S_PROF/CMIP/'+mod+'/'\n",
    "\n",
    "        T_Clim = xr.open_dataset(inputpath_profiles + 'T_mean_prof_50km_contshelf_'+mod+'_clim.nc')\n",
    "        S_Clim = xr.open_dataset(inputpath_profiles + 'S_mean_prof_50km_contshelf_'+mod+'_clim.nc')\n",
    "        TS_Clim = xr.merge([T_Clim.rename({'thetao':'theta_ocean'}),S_Clim.rename({'so':'salinity_ocean'})])\n",
    "        \n",
    "        if scenario == 'ssp126' and mod == 'GFDL-CM4':\n",
    "            print('beuh')\n",
    "        else:\n",
    "        \n",
    "            file_TS_list = []\n",
    "            for tt in tqdm(range(yystart,yyend+1)):\n",
    "                file_T_orig = xr.open_dataset(inputpath_profiles+'T_mean_prof_50km_contshelf_'+mod+'_'+scenario+'_'+str(tt)+'.nc')\n",
    "                file_S_orig = xr.open_dataset(inputpath_profiles+'S_mean_prof_50km_contshelf_'+mod+'_'+scenario+'_'+str(tt)+'.nc')\n",
    "                file_TS_orig = xr.merge([file_T_orig.rename({'thetao':'theta_ocean'}), file_S_orig.rename({'so':'salinity_ocean'})]).sel(Nisf=rignot_isf).assign_coords({'time': tt})\n",
    "                file_TS_list.append(file_TS_orig)\n",
    "            file_TS_0 = xr.concat(file_TS_list, dim='time') \n",
    "            file_TS_model_list.append(file_TS_0.assign_coords({'model': mod}))\n",
    "        file_TS1 = xr.concat(file_TS_model_list, dim='model')\n",
    "    file_TS_scen_list.append(file_TS1.assign_coords({'scenario': scenario}))\n",
    "file_TS2 = xr.concat(file_TS_scen_list, dim='scenario')"
   ]
  },
  {
   "cell_type": "code",
   "execution_count": null,
   "id": "11",
   "metadata": {},
   "outputs": [],
   "source": [
    "file_TS2.to_netcdf(home_path+'/DATA/SUMMER_PAPER/interim/T_S_PROF/CMIP/T_S_prof_allfuturescen_allmod.nc')"
   ]
  },
  {
   "cell_type": "code",
   "execution_count": null,
   "id": "12",
   "metadata": {},
   "outputs": [],
   "source": [
    "file_TS2 = xr.open_dataset(home_path+'/DATA/SUMMER_PAPER/interim/T_S_PROF/CMIP/T_S_prof_allfuturescen_allmod.nc')"
   ]
  },
  {
   "cell_type": "code",
   "execution_count": null,
   "id": "13",
   "metadata": {},
   "outputs": [],
   "source": [
    "Tmax = file_TS2['theta_ocean'].max('z')"
   ]
  },
  {
   "cell_type": "code",
   "execution_count": null,
   "id": "14",
   "metadata": {},
   "outputs": [],
   "source": [
    "Tmean = file_TS2['theta_ocean'].mean('z')"
   ]
  },
  {
   "cell_type": "code",
   "execution_count": null,
   "id": "15",
   "metadata": {},
   "outputs": [],
   "source": [
    "scen = 'ssp126'\n",
    "\n",
    "f = plt.figure()\n",
    "f.set_size_inches(8.25*3, 8.25*3)\n",
    "\n",
    "ax={}\n",
    "\n",
    "i = 0\n",
    "\n",
    "for kisf in tqdm(file_isf.Nisf.sel(Nisf=sorted_isf_rignot)):\n",
    "\n",
    "    ax[i] = f.add_subplot(8,8,i+1)\n",
    "                    \n",
    "    ax[i].plot(np.arange(2015,2300),Tmax.sel(model='GISS-E2-1-H',scenario=scen, time=range(2015,2300), Nisf=kisf), color='orange')\n",
    "\n",
    "            \n",
    "    i = i+1\n",
    "    \n",
    "sns.despine()\n",
    "plt.tight_layout()\n",
    "f.savefig(plot_path + 'Tmean_GISS_'+scen+'.png',dpi=300)"
   ]
  },
  {
   "cell_type": "code",
   "execution_count": null,
   "id": "16",
   "metadata": {},
   "outputs": [],
   "source": [
    "file_TS_scen_list = []\n",
    "for scenario in ['historical','ssp126','ssp245','ssp585']:\n",
    "    print(scenario)\n",
    "    \n",
    "    file_TS_model_list = []\n",
    "    for mod in tqdm(weight_file.model.values):\n",
    "\n",
    "        if mod in ['CNRM-CM6-1','CNRM-ESM2-1']:\n",
    "            to2300 = False\n",
    "        elif mod in ['GISS-E2-1-H']:\n",
    "            to2300 = True\n",
    "        elif mod in ['ACCESS-CM2','ACCESS-ESM1-5','CESM2-WACCM','CanESM5','IPSL-CM6A-LR','MRI-ESM2-0']:\n",
    "            to2300 = True\n",
    "        elif mod in ['MPI-ESM1-2-HR','GFDL-CM4','GFDL-ESM4']:\n",
    "            to2300 = False\n",
    "        elif mod == 'UKESM1-0-LL':\n",
    "            to2300 = True     \n",
    "        elif mod == 'CESM2':\n",
    "            to2300 = False        \n",
    "\n",
    "        if scenario == 'historical':\n",
    "            yystart = 1850 #1980 #1850\n",
    "            yyend = 2014\n",
    "        elif scenario == 'ssp245':\n",
    "            yystart = 2015\n",
    "            yyend = 2100  \n",
    "        else:\n",
    "            if to2300:\n",
    "                yystart = 2015\n",
    "                yyend = 2300\n",
    "            else:\n",
    "                yystart = 2015\n",
    "                yyend = 2100 \n",
    "\n",
    "        outputpath_mean = home_path+'/DATA/SUMMER_PAPER/interim/T_S_mean/'+mod+'/'\n",
    "        \n",
    "        if scenario == 'ssp126' and mod == 'GFDL-CM4':\n",
    "            print('beuh')\n",
    "        else:\n",
    "            mean_prop = xr.open_dataset(outputpath_mean + 'T_S_TF_isfmean_'+scenario+'.nc')\n",
    "            file_TS_model_list.append(mean_prop.assign_coords({'model': mod}))\n",
    "        file_TS1 = xr.concat(file_TS_model_list, dim='model')\n",
    "    file_TS_scen_list.append(file_TS1.assign_coords({'scenario': scenario}))\n",
    "file_TS3 = xr.concat(file_TS_scen_list, dim='scenario')"
   ]
  },
  {
   "cell_type": "code",
   "execution_count": null,
   "id": "17",
   "metadata": {},
   "outputs": [],
   "source": [
    "Tmax_quantiles = weighted_Tmax.quantile([0.33,0.5,0.66],dim=['model','param','m'])\n",
    "Tmean_quantiles = weighted_Tmean.quantile([0.33,0.5,0.66],dim=['model','param','m'])"
   ]
  },
  {
   "cell_type": "markdown",
   "id": "18",
   "metadata": {},
   "source": [
    "PREPARE THE DATA"
   ]
  },
  {
   "cell_type": "code",
   "execution_count": null,
   "id": "19",
   "metadata": {},
   "outputs": [],
   "source": [
    "sorted_isf_rignot = [11,69,43,28,12,57,\n",
    "                     70,44,29,13,58,71,45,30,14,\n",
    "                     59,72,46,\n",
    "                     31,\n",
    "                     15,61,73,47,32,16,48,33,17,62,49,34,18,63,74,\n",
    "                     50,35,19,64,\n",
    "                     10,\n",
    "                     36,20,65,51,37,\n",
    "                     22,38,52,23,66,53,39,24,\n",
    "                     67,40,54,75,25,41,\n",
    "                     26,42,55,68,60,27]"
   ]
  },
  {
   "cell_type": "code",
   "execution_count": null,
   "id": "20",
   "metadata": {},
   "outputs": [],
   "source": [
    "sens_weights = xr.DataArray(data=np.array([0.11,\n",
    "                                           0.24,\n",
    "                                           0.03,\n",
    "                                           0.10,\n",
    "                                           0.10,\n",
    "                                           0.10,\n",
    "                                           0.10,\n",
    "                                           0.24,\n",
    "                                           0.47,\n",
    "                                           0.41,\n",
    "                                           0.12,\n",
    "                                           0.43,\n",
    "                                           0.39,\n",
    "                                           0.05]), dims=['model']).assign_coords({'model': \n",
    "                                                                                  ['ACCESS-CM2','ACCESS-ESM1-5','CanESM5',\n",
    "                                                                                   'CESM2','CESM2-WACCM','CNRM-CM6-1','CNRM-ESM2-1',\n",
    "                                                                                   'GFDL-CM4','GFDL-ESM4','GISS-E2-1-H', 'IPSL-CM6A-LR',\n",
    "                                                                                   'MPI-ESM1-2-HR','MRI-ESM2-0','UKESM1-0-LL']})\n",
    "sens_weights = sens_weights.drop_sel(model='GISS-E2-1-H')"
   ]
  },
  {
   "cell_type": "code",
   "execution_count": null,
   "id": "21",
   "metadata": {},
   "outputs": [],
   "source": [
    "model_2300 = ['ACCESS-CM2','ACCESS-ESM1-5','CanESM5','CESM2-WACCM', 'IPSL-CM6A-LR','MRI-ESM2-0','UKESM1-0-LL'] #'GISS-E2-1-H',"
   ]
  },
  {
   "cell_type": "code",
   "execution_count": null,
   "id": "22",
   "metadata": {},
   "outputs": [],
   "source": [
    "bay_weights = weight_file['bay_weights']\n",
    "bay_weights_2300 = weight_2300_file['bay_weights']"
   ]
  },
  {
   "cell_type": "code",
   "execution_count": null,
   "id": "23",
   "metadata": {},
   "outputs": [],
   "source": [
    "mass_balance_weighted_yy = file_viability_info['MASS_BALANCE'].sel(time=range(1850,2101)).weighted(bay_weights * sens_weights)\n",
    "mass_balance_weighted_yy_2300 = file_viability_info['MASS_BALANCE'].sel(time=range(1850,2300)).sel(model=model_2300).weighted(bay_weights_2300 * sens_weights.sel(model=model_2300))"
   ]
  },
  {
   "cell_type": "code",
   "execution_count": null,
   "id": "24",
   "metadata": {},
   "outputs": [],
   "source": [
    "weighted_quantiles = mass_balance_weighted_yy.quantile([0,0.1,0.33,0.66,0.5,0.9,1],dim=['model','param','m'])\n",
    "weighted_quantiles_2300 = mass_balance_weighted_yy_2300.quantile([0,0.1,0.33,0.66,0.5,0.9,1],dim=['model','param','m'])"
   ]
  },
  {
   "cell_type": "code",
   "execution_count": null,
   "id": "25",
   "metadata": {},
   "outputs": [],
   "source": [
    "unviable_times = weighted_quantiles > 0\n",
    "unviable_times_2300 = weighted_quantiles_2300 > 0\n"
   ]
  },
  {
   "cell_type": "code",
   "execution_count": null,
   "id": "26",
   "metadata": {},
   "outputs": [],
   "source": [
    "viability_diff = unviable_times.sel(time=range(2100,1849,-1)).cumsum('time').diff('time')\n",
    "limit_max = viability_diff.time.where(viability_diff == 0).max('time') + 1\n",
    "limit_max = limit_max.where(limit_max<2099)\n",
    "limit_max = limit_max.where(~(np.isnan(limit_max) & unviable_times.sel(time=1850)), 1850)\n",
    "\n",
    "limit_max_full = limit_max.where(np.isfinite(limit_max), 2301)\n",
    "\n",
    "count_unviable_isf = (unviable_times.time >= limit_max_full).sum('Nisf')"
   ]
  },
  {
   "cell_type": "code",
   "execution_count": null,
   "id": "27",
   "metadata": {},
   "outputs": [],
   "source": [
    "viability_diff_2300 = unviable_times_2300.sel(time=range(2298,1849,-1)).cumsum('time').diff('time')\n",
    "limit_max_2300 = viability_diff_2300.time.where(viability_diff_2300 == 0).max('time') + 1\n",
    "limit_max_2300 = limit_max_2300.where(limit_max_2300<2299)\n",
    "limit_max_2300 = limit_max_2300.where(~(np.isnan(limit_max_2300) & unviable_times_2300.sel(time=1850)), 1850)\n",
    "\n",
    "limit_max_full_2300 = limit_max_2300.where(np.isfinite(limit_max_2300), 2305)\n",
    "\n",
    "count_unviable_isf_2300 = (unviable_times_2300.time >= limit_max_full_2300).sum('Nisf')"
   ]
  },
  {
   "cell_type": "code",
   "execution_count": null,
   "id": "28",
   "metadata": {},
   "outputs": [],
   "source": [
    "mean_prop_weighted = file_TS3.weighted(bay_weights * sens_weights)\n",
    "mean_prop_weighted_2300 = file_TS3.sel(model=model_2300).weighted(bay_weights_2300 * sens_weights.sel(model=model_2300))"
   ]
  },
  {
   "cell_type": "code",
   "execution_count": null,
   "id": "29",
   "metadata": {},
   "outputs": [],
   "source": [
    "weighted_Tmax = Tmax.sel(model=model_2300).weighted(bay_weights_2300 * sens_weights.sel(model=model_2300))\n",
    "weighted_Tmean = Tmean.sel(model=model_2300).weighted(bay_weights_2300 * sens_weights.sel(model=model_2300))"
   ]
  },
  {
   "cell_type": "code",
   "execution_count": null,
   "id": "30",
   "metadata": {},
   "outputs": [],
   "source": [
    "Tmax_quantiles = weighted_Tmax.quantile([0.33,0.5,0.66],dim=['model','param','m'])\n",
    "Tmean_quantiles = weighted_Tmean.quantile([0.33,0.5,0.66],dim=['model','param','m'])"
   ]
  },
  {
   "cell_type": "code",
   "execution_count": null,
   "id": "31",
   "metadata": {},
   "outputs": [],
   "source": [
    "f = plt.figure()\n",
    "f.set_size_inches(8.25*3, 8.25*3)\n",
    "\n",
    "ax={}\n",
    "\n",
    "anomaly_mb = file_viability_info['MASS_BALANCE'].sel(time=range(2015,2101)) - file_viability_info['MASS_BALANCE'].sel(time=range(2015,2101)).mean('time')\n",
    "\n",
    "i = 0\n",
    "\n",
    "nonviable_ano = anomaly_mb.where(file_viability_info['MASS_BALANCE'] > 0)\n",
    "\n",
    "for kisf in tqdm(file_isf.Nisf.sel(Nisf=sorted_isf_rignot[::-1])):\n",
    "\n",
    "    ax[i] = f.add_subplot(8,8,i+1)\n",
    "        \n",
    "    for scen in ['ssp126','ssp245','ssp585']:\n",
    "\n",
    "        if scen == 'ssp126':\n",
    "            ccol = 'gold'\n",
    "        elif scen == 'ssp245':\n",
    "            ccol = 'darkorange'\n",
    "        elif scen == 'ssp585':\n",
    "            ccol = 'red'\n",
    "    \n",
    "                    \n",
    "        ax[i].scatter(Tmax.where(nonviable_ano).sel(scenario=scen,Nisf=kisf),anomaly_mb.where(nonviable_ano).sel(scenario=scen,Nisf=kisf), s=5, color=ccol, alpha=0.05)\n",
    "        ax[i].set_title(file_isf['isf_name'].sel(Nisf=kisf).values)\n",
    "            \n",
    "    i = i+1\n",
    "    \n",
    "sns.despine()\n",
    "plt.grid(linestyle='--')\n",
    "plt.tight_layout()\n",
    "f.savefig(plot_path + 'relationship_with_Tocean_atnonviability.png',dpi=300)"
   ]
  },
  {
   "cell_type": "code",
   "execution_count": null,
   "id": "32",
   "metadata": {},
   "outputs": [],
   "source": [
    "weighted_prop_2300 = file_TS3.weighted(bay_weights_2300 * sens_weights.sel(model=model_2300)).quantile([0.33,0.5,0.66],dim=['model','param','m'])"
   ]
  },
  {
   "cell_type": "code",
   "execution_count": null,
   "id": "33",
   "metadata": {},
   "outputs": [],
   "source": [
    "scen = 'ssp585'\n",
    "var = 'TF_mean'\n",
    "\n",
    "f = plt.figure()\n",
    "f.set_size_inches(8.25*1.5, 8.25*1.5)\n",
    "\n",
    "ax={}\n",
    "\n",
    "i = 0\n",
    "\n",
    "for kisf in tqdm(file_isf.Nisf.sel(Nisf=sorted_isf_rignot)):\n",
    "    \n",
    "    if i > 0:\n",
    "        ax[i] = f.add_subplot(8,8,i+1, sharex=ax[0])\n",
    "    else:\n",
    "        ax[i] = f.add_subplot(8,8,i+1)\n",
    "\n",
    "    \n",
    "                    \n",
    "    ax[i].plot(np.arange(1850,2015),weighted_prop_2300[var].sel(quantile=0.5, scenario=scen, time=range(1850,2015), Nisf=kisf), color='orange')\n",
    "\n",
    "    ax[i].plot(np.arange(2015,2300),weighted_prop_2300[var].sel(quantile=0.5, scenario=scen, time=range(2015,2300), Nisf=kisf), color='orange')\n",
    "    \n",
    "    \n",
    "    ax[i].set_title(file_isf['isf_name'].sel(Nisf=kisf).values)\n",
    "    ax[i].set_xticks([1900,2000,2100,2200,2300])\n",
    "    if i < 56:\n",
    "        ax[i].tick_params(labelbottom=False)\n",
    "    else:\n",
    "        ax[i].set_xticklabels([1900, 2000, 2100, 2200, 2300], rotation=45)\n",
    "    \n",
    "            \n",
    "    i = i+1\n",
    "    \n",
    "sns.despine()\n",
    "plt.tight_layout()"
   ]
  },
  {
   "cell_type": "code",
   "execution_count": null,
   "id": "34",
   "metadata": {},
   "outputs": [],
   "source": [
    "non_viable_ensmembers_2300 = file_viability_info['MASS_BALANCE'].sel(model=model_2300) > 0\n",
    "\n",
    "non_via_diff_2300 = non_viable_ensmembers_2300.sel(time=range(2299,1849,-1)).cumsum('time').diff('time')\n",
    "limit_via_max_2300 = non_via_diff_2300.time.where(non_via_diff_2300 == 0).max('time') + 1\n",
    "limit_via_max_2300 = limit_via_max_2300.where(limit_via_max_2300<2299)\n",
    "limit_via_max_2300 = limit_via_max_2300.where(~(np.isnan(limit_via_max_2300) & non_viable_ensmembers_2300.sel(time=1850)), 1850)"
   ]
  },
  {
   "cell_type": "code",
   "execution_count": null,
   "id": "35",
   "metadata": {},
   "outputs": [],
   "source": [
    "time_br_2300, _ = xr.broadcast(file_viability_info.time, file_viability_info['MASS_BALANCE'].sel(model=model_2300))\n",
    "file_TS3_br, _ = xr.broadcast(file_TS3, file_viability_info['MASS_BALANCE'].sel(model=model_2300))\n",
    "non_viable_time_2300 = limit_via_max_2300\n",
    "nonvia_prop_2300 = file_TS3_br.where(time_br_2300 == non_viable_time_2300, drop=True).max('time')\n"
   ]
  },
  {
   "cell_type": "code",
   "execution_count": null,
   "id": "36",
   "metadata": {},
   "outputs": [],
   "source": [
    "nonvia_prop_2300_w = nonvia_prop_2300#.weighted(bay_weights_2300 * sens_weights.sel(model=model_2300)).mean(['param','m'])"
   ]
  },
  {
   "cell_type": "code",
   "execution_count": null,
   "id": "37",
   "metadata": {},
   "outputs": [],
   "source": [
    "f = plt.figure()\n",
    "f.set_size_inches(8.25, 8.25)\n",
    "\n",
    "date_of_int = limit_max_full_2300.sel(quantile=0.33,scenario='ssp585') \n",
    "#prop_to_plot = mean_prop_weighted.mean(['m','param']).sel(scenario='ssp585')\n",
    "#anom_TF = prop_to_plot['TF_mean'].sel(scenario='ssp585') - prop_to_plot['TF_mean'].sel(scenario='historical',time=range(1850,1901)).mean('time')\n",
    "\n",
    "#plt.scatter(prop_to_plot['T_mean'].sel(time=date_of_int-1),prop_to_plot['T_mean'].sel(time=date_of_int))\n",
    "#plt.scatter(anom_TF.sel(time=date_of_int-1),anom_TF.sel(time=date_of_int))\n",
    "for model in nonvia_prop_2300_w.model:\n",
    "    for m in nonvia_prop_2300_w.m:\n",
    "        for param in bay_weights_2300.param:\n",
    "            plt.scatter(nonvia_prop_2300_w['T_mean'].sel(m=m,model=model,param=param),nonvia_prop_2300_w['TF_mean'].sel(m=m,model=model,param=param), alpha=(bay_weights_2300 * sens_weights.sel(model=model_2300)).sel(m=m,model=model,param=param)*2)\n",
    "\n",
    "sns.despine()\n",
    "plt.grid(linestyle='--')\n",
    "plt.tight_layout()\n"
   ]
  },
  {
   "cell_type": "code",
   "execution_count": null,
   "id": "38",
   "metadata": {},
   "outputs": [],
   "source": [
    "param"
   ]
  },
  {
   "cell_type": "code",
   "execution_count": null,
   "id": "39",
   "metadata": {},
   "outputs": [],
   "source": [
    "f = plt.figure()\n",
    "f.set_size_inches(8.25, 8.25)\n",
    "\n",
    "date_of_int = limit_max_full_2300.sel(quantile=0.33,scenario='ssp585') \n",
    "prop_to_plot = mean_prop_weighted_2300.mean(['m','param','model'])\n",
    "nb_of_int = count_unviable_isf_2300.sel(quantile=0.33,scenario='ssp585')\n",
    "anom_TF = prop_to_plot['TF_mean'].sel(scenario='ssp585') - prop_to_plot['TF_mean'].sel(scenario='historical',time=range(1850,1901)).mean('time')\n",
    "plt.scatter((anom_TF >= 0.5).sum('Nisf').sel(time=nb_of_int.time),nb_of_int)\n",
    "    \n",
    "sns.despine()\n",
    "plt.xlim(0,64)\n",
    "plt.ylim(0,64)\n",
    "plt.plot(range(64),range(64))\n",
    "plt.grid(linestyle='--')\n",
    "#plt.tight_layout()\n",
    "plt.xlabel('Thermal forcing anomaly >= 0.5°C at non-viability')\n",
    "plt.ylabel('Number of non-viable ice shelves')\n",
    "\n"
   ]
  },
  {
   "cell_type": "code",
   "execution_count": null,
   "id": "40",
   "metadata": {},
   "outputs": [],
   "source": [
    "prop_to_plot"
   ]
  },
  {
   "cell_type": "code",
   "execution_count": null,
   "id": "41",
   "metadata": {},
   "outputs": [],
   "source": [
    "scen = 'ssp585'\n",
    "\n",
    "f = plt.figure()\n",
    "f.set_size_inches(8.25*3, 8.25*3)\n",
    "\n",
    "ax={}\n",
    "\n",
    "i = 0\n",
    "\n",
    "\n",
    "for kisf in tqdm(file_isf.Nisf.sel(Nisf=sorted_isf_rignot)):\n",
    "    \n",
    "    ax[i] = f.add_subplot(8,8,i+1)\n",
    "\n",
    "    #for mmod in model_2300:\n",
    "\n",
    "\n",
    "     #   ax[i].plot(np.arange(2015,2300),file_TS3['TF_mean'].sel(model=mmod,scenario='ssp585',Nisf=kisf,time=range(2015,2300)))\n",
    "    ax[i].plot(np.arange(2015,2300),prop_to_plot['TF_mean'].sel(scenario='ssp585',Nisf=kisf,time=range(2015,2300)))\n",
    "\n",
    "    ax[i].set_title(file_isf['isf_name'].sel(Nisf=kisf).values)\n",
    "    ax[i].axvline(x=2100)\n",
    "\n",
    "    i = i+1\n",
    "\n",
    "sns.despine()\n",
    "plt.tight_layout()\n",
    "plt.legend()\n"
   ]
  },
  {
   "cell_type": "markdown",
   "id": "42",
   "metadata": {},
   "source": [
    "Look at BMB in this relationship as well"
   ]
  },
  {
   "cell_type": "code",
   "execution_count": null,
   "id": "43",
   "metadata": {},
   "outputs": [],
   "source": [
    "file_viability_info = xr.open_dataset(inputpath_weights + 'all_fluxes_br_withoutGISS.nc')"
   ]
  },
  {
   "cell_type": "code",
   "execution_count": null,
   "id": "44",
   "metadata": {},
   "outputs": [],
   "source": [
    "BMB_weighted_mean = file_viability_info['BMB'].sel(model=model_2300).weighted(bay_weights_2300 * sens_weights.sel(model=model_2300)).mean(['model','param','m'])\n",
    "GLflux_weighted_mean = file_viability_info['ABUMIP'].sel(model=model_2300).weighted(bay_weights_2300 * sens_weights.sel(model=model_2300)).mean(['model','param','m']).sel(scenario='ssp585',time=2020)"
   ]
  },
  {
   "cell_type": "code",
   "execution_count": null,
   "id": "45",
   "metadata": {},
   "outputs": [],
   "source": [
    "smoothed_curve = BMB_weighted_mean.rolling(time=60,center=True).mean()\n",
    "slope_before = (smoothed_curve.sel(scenario='ssp585') - smoothed_curve.shift(time=30).sel(scenario='ssp585'))\n",
    "slope_after = (smoothed_curve.shift(time=-30).sel(scenario='ssp585') - smoothed_curve.sel(scenario='ssp585'))\n",
    "slope_diff = slope_after - slope_before\n",
    "slope_diff2 = smoothed_curve.shift(time=-30).sel(scenario='ssp585') - smoothed_curve.shift(time=30).sel(scenario='ssp585')\n",
    "max_slope_time = slope_diff.time.isel(time=slope_diff.argmax('time'))"
   ]
  },
  {
   "cell_type": "code",
   "execution_count": null,
   "id": "46",
   "metadata": {},
   "outputs": [],
   "source": [
    "smoothed_slope_diff2 = slope_diff2.rolling(time=30,center=True).mean()\n",
    "slope_slope_diff2 = smoothed_slope_diff2.shift(time=-20) - smoothed_slope_diff2.shift(time=20)\n",
    "max_slope2_time = slope_slope_diff2.argmax('time')"
   ]
  },
  {
   "cell_type": "code",
   "execution_count": null,
   "id": "47",
   "metadata": {},
   "outputs": [],
   "source": [
    "date_of_int = limit_max_full_2300.sel(quantile=0.33,scenario='ssp585') "
   ]
  },
  {
   "cell_type": "code",
   "execution_count": null,
   "id": "48",
   "metadata": {},
   "outputs": [],
   "source": [
    "time_scale = GLflux_weighted_mean/slope_after.sel(time=max_slope_time)"
   ]
  },
  {
   "cell_type": "code",
   "execution_count": null,
   "id": "49",
   "metadata": {},
   "outputs": [],
   "source": [
    "smoothed_curve = file_viability_info['BMB'].sel(model=model_2300).rolling(time=60,center=True).mean('time')\n",
    "slope_before = (smoothed_curve.sel(scenario='ssp585') - smoothed_curve.shift(time=60).sel(scenario='ssp585'))\n",
    "slope_after = (smoothed_curve.shift(time=-60).sel(scenario='ssp585') - smoothed_curve.sel(scenario='ssp585'))\n",
    "slope_across = (smoothed_curve.shift(time=-60).sel(scenario='ssp585') - smoothed_curve.shift(time=60).sel(scenario='ssp585'))\n",
    "slope_diff2 = slope_across.shift(time=-1) - slope_across.shift(time=1)\n",
    "slope_diff = slope_after - slope_before "
   ]
  },
  {
   "cell_type": "code",
   "execution_count": null,
   "id": "50",
   "metadata": {},
   "outputs": [],
   "source": [
    "max_slope_time = slope_diff.time.isel(time=slope_diff.argmax('time'))\n",
    "max_slope2_time = slope_diff2.time.isel(time=slope_diff2.argmax('time')) "
   ]
  },
  {
   "cell_type": "code",
   "execution_count": null,
   "id": "51",
   "metadata": {},
   "outputs": [],
   "source": [
    "# looks like max_slope2_time is good\n",
    "mm = 2\n",
    "mparam = 6\n",
    "mmod = 3\n",
    "kisf = 10\n",
    "smoothed_curve.isel(m=mm,param=mparam,model=mmod,Nisf=kisf).sel(scenario='ssp585').plot()\n",
    "plt.axvline(x=max_slope2_time.isel(m=mm,param=mparam,model=mmod,Nisf=kisf))\n",
    "plt.axvline(x=max_slope_time.isel(m=mm,param=mparam,model=mmod,Nisf=kisf),linestyle='--')"
   ]
  },
  {
   "cell_type": "code",
   "execution_count": null,
   "id": "52",
   "metadata": {},
   "outputs": [],
   "source": [
    "slopemom_prop_2300 = file_TS3_br.where(time_br_2300 == max_slope2_time, drop=True).max('time')\n"
   ]
  },
  {
   "cell_type": "code",
   "execution_count": null,
   "id": "53",
   "metadata": {},
   "outputs": [],
   "source": [
    "slopemom_prop_2300['T_mean'].sel(m=m,model=model,param=param,scenario='ssp585',Nisf=kisf)"
   ]
  },
  {
   "cell_type": "code",
   "execution_count": null,
   "id": "54",
   "metadata": {},
   "outputs": [],
   "source": [
    "max_slope2_time.sel(Nisf=kisf)"
   ]
  },
  {
   "cell_type": "code",
   "execution_count": null,
   "id": "55",
   "metadata": {},
   "outputs": [],
   "source": [
    "scen = 'ssp585'\n",
    "\n",
    "f = plt.figure()\n",
    "f.set_size_inches(8.25*3, 8.25*3)\n",
    "\n",
    "ax={}\n",
    "\n",
    "i = 0\n",
    "\n",
    "\n",
    "for kisf in tqdm(file_isf.Nisf.sel(Nisf=sorted_isf_rignot)):\n",
    "    \n",
    "    ax[i] = f.add_subplot(8,8,i+1)\n",
    "\n",
    "    #for mmod in model_2300:\n",
    "    for model in nonvia_prop_2300_w.model:\n",
    "        for m in nonvia_prop_2300_w.m:\n",
    "            for param in bay_weights_2300.param:\n",
    "\n",
    "             #   ax[i].plot(np.arange(2015,2300),file_TS3['TF_mean'].sel(model=mmod,scenario='ssp585',Nisf=kisf,time=range(2015,2300)))\n",
    "                ax[i].scatter(max_slope2_time.sel(m=m,model=model,param=param,Nisf=kisf),slopemom_prop_2300['TF_mean'].sel(m=m,model=model,param=param,scenario='ssp585',Nisf=kisf), c='deepskyblue', alpha=(bay_weights_2300 * sens_weights.sel(model=model_2300)).sel(m=m,model=model,param=param)*100)\n",
    "\n",
    "    ax[i].set_title(file_isf['isf_name'].sel(Nisf=kisf).values)\n",
    "    ax[i].axvline(x=2100)\n",
    "    ax[i].set_ylim(0,4)\n",
    "\n",
    "    i = i+1\n",
    "\n",
    "sns.despine()\n",
    "plt.tight_layout()\n",
    "plt.legend()\n"
   ]
  },
  {
   "cell_type": "code",
   "execution_count": null,
   "id": "56",
   "metadata": {},
   "outputs": [],
   "source": [
    "f = plt.figure()\n",
    "f.set_size_inches(8.25, 8.25)\n",
    "\n",
    "\n",
    "#plt.scatter(prop_to_plot['T_mean'].sel(time=date_of_int-1),prop_to_plot['T_mean'].sel(time=date_of_int))\n",
    "#plt.scatter(anom_TF.sel(time=date_of_int-1),anom_TF.sel(time=date_of_int))\n",
    "for model in nonvia_prop_2300_w.model:\n",
    "    for m in nonvia_prop_2300_w.m:\n",
    "        for param in bay_weights_2300.param:\n",
    "            plt.scatter(slopemom_prop_2300['T_mean'].sel(m=m,model=model,param=param),slopemom_prop_2300['TF_mean'].sel(m=m,model=model,param=param), alpha=(bay_weights_2300 * sens_weights.sel(model=model_2300)).sel(m=m,model=model,param=param)*2)\n",
    "\n",
    "sns.despine()\n",
    "plt.grid(linestyle='--')\n",
    "plt.tight_layout()\n"
   ]
  },
  {
   "cell_type": "code",
   "execution_count": null,
   "id": "57",
   "metadata": {},
   "outputs": [],
   "source": [
    "max_slope_time.quantile([0.33,0.5,0.66])"
   ]
  },
  {
   "cell_type": "code",
   "execution_count": null,
   "id": "58",
   "metadata": {},
   "outputs": [],
   "source": [
    "max_slope_time.std()"
   ]
  },
  {
   "cell_type": "code",
   "execution_count": null,
   "id": "59",
   "metadata": {},
   "outputs": [],
   "source": [
    "scen = 'ssp585'\n",
    "\n",
    "f = plt.figure()\n",
    "f.set_size_inches(8.25*3, 8.25*3)\n",
    "\n",
    "ax={}\n",
    "\n",
    "i = 0\n",
    "\n",
    "\n",
    "for kisf in tqdm(file_isf.Nisf.sel(Nisf=sorted_isf_rignot)):\n",
    "    \n",
    "    ax[i] = f.add_subplot(8,8,i+1)\n",
    "\n",
    "    #ax[i].plot(np.arange(1850,2300),BMB_weighted_mean.sel(scenario='ssp585',Nisf=kisf))\n",
    "    #ax[i].plot(np.arange(1850,2300),smoothed_curve.sel(scenario='ssp585',Nisf=kisf))\n",
    "    ax[i].plot(np.arange(1850,2300),prop_to_plot['TF_mean'].sel(scenario='ssp585',Nisf=kisf,time=np.arange(1850,2300)))\n",
    "    \n",
    "    #ax[i].plot(np.arange(1850,2300),slope_diff.sel(Nisf=kisf))\n",
    "    #ax[i].plot(np.arange(1850,2300),slope_slope_diff2.sel(Nisf=kisf))\n",
    "    \n",
    "    ax[i].text(1850,0,str(np.round(time_scale.sel(Nisf=kisf).values,0)))\n",
    "\n",
    "\n",
    "    ax[i].set_title(file_isf['isf_name'].sel(Nisf=kisf).values)\n",
    "    ax[i].axvline(x=max_slope_time.sel(Nisf=kisf), c='grey')\n",
    "    ax[i].axvline(x=date_of_int.sel(Nisf=kisf), c='black')\n",
    "\n",
    "\n",
    "    i = i+1\n",
    "\n",
    "sns.despine()\n",
    "plt.tight_layout()\n",
    "plt.legend()\n"
   ]
  },
  {
   "cell_type": "code",
   "execution_count": null,
   "id": "60",
   "metadata": {},
   "outputs": [],
   "source": [
    "TF_diff = prop_to_plot['TF_mean'].sel(scenario='ssp585',time=max_slope_time+30) - prop_to_plot['TF_mean'].sel(scenario='ssp585',time=max_slope_time-30)\n",
    "plt.figure()\n",
    "plt.scatter(TF_diff,slope_diff.sel(time=max_slope_time)/file_isf['isf_area_here'])"
   ]
  },
  {
   "cell_type": "code",
   "execution_count": null,
   "id": "61",
   "metadata": {},
   "outputs": [],
   "source": [
    "plt.figure()\n",
    "plt.scatter(BMB_weighted_mean.sel(scenario='ssp585',time=range(1850,1901)).mean('time')/file_isf['isf_area_here'], GLflux_weighted_mean/slope_after.sel(time=max_slope_time))\n",
    "plt.xlabel('Mean historical melt [Gt/yr/km2]')\n",
    "plt.ylabel('ABUMIPflux / slope in first 30 years start of large increase in basal melt [yr]')\n",
    "sns.despine()"
   ]
  },
  {
   "cell_type": "code",
   "execution_count": null,
   "id": "62",
   "metadata": {},
   "outputs": [],
   "source": [
    "plt.figure()\n",
    "plt.scatter(prop_to_plot['TF_mean'].sel(scenario='historical',time=range(1850,1901)).mean('time'), GLflux_weighted_mean/slope_after.sel(time=max_slope_time))\n",
    "plt.xlabel('Mean historical thermal forcing [°C]')\n",
    "plt.ylabel('ABUMIPflux / slope in first 30 years start of large increase in basal melt [yr]')\n",
    "sns.despine()"
   ]
  },
  {
   "cell_type": "raw",
   "id": "63",
   "metadata": {},
   "source": [
    "plt.figure()\n",
    "plt.scatter(prop_to_plot['TF_mean'].sel(scenario='historical',time=range(1850,1901)).mean('time'), slope_after.sel(time=max_slope_time))\n",
    "sns.despine()\n",
    "plt.xlabel('Mean historical thermal forcing [°C]')\n",
    "plt.ylabel('Slope in first 30 years start of large increase in basal melt [Gt/yr/yr]')"
   ]
  },
  {
   "cell_type": "code",
   "execution_count": null,
   "id": "64",
   "metadata": {},
   "outputs": [],
   "source": [
    "plt.figure()\n",
    "plt.scatter(BMB_weighted_mean.sel(scenario='ssp585',time=range(1850,1901)).mean('time')/file_isf['isf_area_here'], slope_after.sel(time=max_slope_time)/file_isf['isf_area_here'])\n",
    "sns.despine()\n",
    "plt.xlabel('Mean historical melt [Gt/yr/km2]')\n",
    "plt.ylabel('Slope in first 30 years start of large increase in basal melt [Gt/yr/yr/km2]')"
   ]
  },
  {
   "cell_type": "code",
   "execution_count": null,
   "id": "65",
   "metadata": {},
   "outputs": [],
   "source": [
    "nisf_of_int = file_isf.Nisf.sel(Nisf=[10,11,44])\n",
    "\n",
    "plt.figure()\n",
    "plt.scatter(prop_to_plot['TF_mean'].sel(scenario='ssp585',time=np.arange(1850,2300),Nisf=nisf_of_int),BMB_weighted_mean.sel(scenario='ssp585',Nisf=nisf_of_int), s=20, alpha=0.1)"
   ]
  },
  {
   "cell_type": "code",
   "execution_count": null,
   "id": "66",
   "metadata": {},
   "outputs": [],
   "source": [
    "nisf_of_int = file_isf.Nisf.sel(Nisf=[66,23,48])\n",
    "plt.figure()\n",
    "plt.scatter(xr.broadcast(nisf_of_int,prop_to_plot.time)[0],prop_to_plot['TF_mean'].sel(scenario='ssp585',Nisf=nisf_of_int))\n",
    "plt.scatter(nisf_of_int,prop_to_plot['TF_mean'].sel(scenario='ssp585',time=max_slope_time.sel(Nisf=nisf_of_int),Nisf=nisf_of_int))"
   ]
  },
  {
   "cell_type": "code",
   "execution_count": null,
   "id": "67",
   "metadata": {},
   "outputs": [],
   "source": [
    "nisf_of_int = file_isf.Nisf.sel(Nisf=[10,11,44])\n",
    "plt.figure()\n",
    "plt.scatter(xr.broadcast(nisf_of_int,prop_to_plot.time)[0],prop_to_plot['TF_mean'].sel(scenario='ssp585',Nisf=nisf_of_int))\n",
    "plt.scatter(nisf_of_int,prop_to_plot['TF_mean'].sel(scenario='ssp585',time=max_slope_time.sel(Nisf=nisf_of_int),Nisf=nisf_of_int))"
   ]
  },
  {
   "cell_type": "code",
   "execution_count": null,
   "id": "68",
   "metadata": {},
   "outputs": [],
   "source": [
    "plt.figure()\n",
    "plt.scatter(file_isf['isf_area_here'],GLflux_weighted_mean/slope_after.sel(time=max_slope_time))"
   ]
  },
  {
   "cell_type": "code",
   "execution_count": null,
   "id": "69",
   "metadata": {},
   "outputs": [],
   "source": [
    "plt.figure()\n",
    "plt.scatter(prop_to_plot['TF_mean'].sel(scenario='ssp585',time=max_slope_time),GLflux_weighted_mean/slope_after.sel(time=max_slope_time))"
   ]
  },
  {
   "cell_type": "code",
   "execution_count": null,
   "id": "70",
   "metadata": {},
   "outputs": [],
   "source": [
    "plt.figure()\n",
    "plt.scatter(prop_to_plot['TF_mean'].sel(scenario='ssp585',time=max_slope_time),GLflux_weighted_mean/slope_after.sel(time=max_slope_time))"
   ]
  },
  {
   "cell_type": "code",
   "execution_count": null,
   "id": "71",
   "metadata": {},
   "outputs": [],
   "source": [
    "anom_TF = prop_to_plot['TF_mean'].sel(scenario='ssp585') - prop_to_plot['TF_mean'].sel(scenario='historical',time=range(1850,1901)).mean('time')"
   ]
  },
  {
   "cell_type": "code",
   "execution_count": null,
   "id": "72",
   "metadata": {},
   "outputs": [],
   "source": [
    "plt.figure()\n",
    "plt.scatter(anom_TF.sel(time=max_slope_time),GLflux_weighted_mean/slope_after.sel(time=max_slope_time)) #/GLflux_weighted_mean"
   ]
  },
  {
   "cell_type": "code",
   "execution_count": null,
   "id": "73",
   "metadata": {},
   "outputs": [],
   "source": [
    "file_viability_info['MASS_BALANCE'].sel(time=range(1850,2101), Nisf=kisf, scenario=scen, param=mparam, m=mm)"
   ]
  },
  {
   "cell_type": "code",
   "execution_count": null,
   "id": "74",
   "metadata": {},
   "outputs": [],
   "source": [
    "file_isf['isf_name'].sel(Nisf=48).load()"
   ]
  },
  {
   "cell_type": "code",
   "execution_count": null,
   "id": "75",
   "metadata": {},
   "outputs": [],
   "source": [
    "mean_prop_weighted.mean(['model','param','m']).sel(scenario='ssp585')"
   ]
  },
  {
   "cell_type": "code",
   "execution_count": null,
   "id": "76",
   "metadata": {},
   "outputs": [],
   "source": [
    "inputpath_tas = '/bettik/burgardc/DATA/SUMMER_PAPER/interim/CMIP_TEMP/'\n",
    "mod_list = ['ACCESS-CM2','ACCESS-ESM1-5','CNRM-CM6-1','CNRM-ESM2-1','GISS_E2-1-H',\n",
    "            'CESM2-WACCM','CESM2','CanESM5','IPSL-CM6A-LR','MRI-ESM2-0','MPI-ESM1-2-HR',\n",
    "            'GFDL-CM4','GFDL-ESM4','UKESM1-0-LL']\n",
    "\n",
    "tas_mod_list = []\n",
    "\n",
    "for mod in mod_list:\n",
    "    print(mod)\n",
    "    if mod not in ['GISS_E2-1-H']:\n",
    "        tas_scen_list = []\n",
    "        for scen in ['historical','ssp126','ssp245','ssp585']:\n",
    "            if (mod == 'GFDL-CM4') and (scen == 'ssp126'):\n",
    "                tas_mod_scen['tas'] = tas_mod_scen['tas']*np.nan\n",
    "            else:\n",
    "                tas_mod_scen = xr.open_dataset(inputpath_tas+mod+'/tas_Amon_'+mod+'_'+scen+'_fldmean_ymean.nc')\n",
    "                #tas_mod_scen = xr.open_dataset(inputpath_tas+mod+'/tas_Amon_'+mod+'_'+scen+'_ymean_fldmeansouthof60.nc')\n",
    "                tas_mod_scen['time'] = tas_mod_scen.time.dt.year\n",
    "            tas_out = tas_mod_scen['tas'].squeeze(drop=True)\n",
    "            if 'height' in tas_out.coords:\n",
    "                tas_out = tas_out.drop('height')\n",
    "            tas_scen_list.append(tas_out.assign_coords({'scenario':scen}))\n",
    "\n",
    "        tas_all_scen = xr.concat(tas_scen_list,dim='scenario')\n",
    "        tas_mod_list.append(tas_all_scen.assign_coords({'model':mod}))\n",
    "        \n",
    "tas_all_mod = xr.concat(tas_mod_list, dim='model') "
   ]
  },
  {
   "cell_type": "code",
   "execution_count": null,
   "id": "77",
   "metadata": {},
   "outputs": [],
   "source": [
    "tas_out"
   ]
  },
  {
   "cell_type": "code",
   "execution_count": null,
   "id": "78",
   "metadata": {},
   "outputs": [],
   "source": [
    "tas_all_mod_ano = tas_all_mod - tas_all_mod.sel(scenario='historical',time=range(1850,1901)).mean('time')\n",
    "glob_T_ano_weighted = tas_all_mod_ano.sel(scenario='ssp585').sel(model=model_2300).weighted(bay_weights_2300 * sens_weights.sel(model=model_2300))"
   ]
  },
  {
   "cell_type": "code",
   "execution_count": null,
   "id": "79",
   "metadata": {},
   "outputs": [],
   "source": [
    "mean_glob_T = glob_T_ano_weighted.mean(['model','param','m'])"
   ]
  },
  {
   "cell_type": "code",
   "execution_count": null,
   "id": "80",
   "metadata": {},
   "outputs": [],
   "source": [
    "plt.figure()\n",
    "plt.scatter(mean_glob_T.sel(time=max_slope_time),prop_to_plot['TF_mean'].sel(scenario='historical',time=range(1850,1900)).mean('time'))"
   ]
  },
  {
   "cell_type": "code",
   "execution_count": null,
   "id": "81",
   "metadata": {},
   "outputs": [],
   "source": [
    "plt.figure()\n",
    "plt.scatter(mean_glob_T.sel(time=max_slope_time),prop_to_plot['TF_mean'].sel(scenario='ssp585',time=max_slope_time))"
   ]
  },
  {
   "cell_type": "code",
   "execution_count": null,
   "id": "82",
   "metadata": {},
   "outputs": [],
   "source": []
  },
  {
   "cell_type": "markdown",
   "id": "83",
   "metadata": {},
   "source": [
    "ON THE MODEL SCALE (not very conclusive)"
   ]
  },
  {
   "cell_type": "code",
   "execution_count": null,
   "id": "84",
   "metadata": {},
   "outputs": [],
   "source": [
    "BMB_weighted_mean_mod = file_viability_info['BMB'].sel(model=model_2300).weighted(bay_weights_2300 * sens_weights.sel(model=model_2300)).mean(['param','m'])\n"
   ]
  },
  {
   "cell_type": "code",
   "execution_count": null,
   "id": "85",
   "metadata": {},
   "outputs": [],
   "source": [
    "smoothed_curve = BMB_weighted_mean_mod.rolling(time=60,center=True).mean('time')\n",
    "slope_before = (smoothed_curve.sel(scenario='ssp585') - smoothed_curve.shift(time=30).sel(scenario='ssp585'))\n",
    "slope_after = (smoothed_curve.shift(time=-30).sel(scenario='ssp585') - smoothed_curve.sel(scenario='ssp585'))\n",
    "slope_diff = slope_after - slope_before\n",
    "slope_diff2 = smoothed_curve.shift(time=-30).sel(scenario='ssp585') - smoothed_curve.shift(time=30).sel(scenario='ssp585')\n",
    "max_slope_time = slope_diff.time.isel(time=slope_diff.argmax('time'))"
   ]
  },
  {
   "cell_type": "code",
   "execution_count": null,
   "id": "86",
   "metadata": {},
   "outputs": [],
   "source": [
    "for mmod in model_2300:\n",
    "    plt.figure()\n",
    "    plt.scatter(tas_all_mod_ano.sel(scenario='ssp585',time=max_slope_time.sel(model=mmod),model=mmod),file_TS3['TF_mean'].sel(scenario='historical',time=range(1850,1900),model=mmod).mean('time'))"
   ]
  },
  {
   "cell_type": "code",
   "execution_count": null,
   "id": "87",
   "metadata": {},
   "outputs": [],
   "source": [
    "plt.scatter(mean_glob_T.sel(time=max_slope_time),prop_to_plot['TF_mean'].sel(scenario='ssp585',time=max_slope_time))"
   ]
  },
  {
   "cell_type": "code",
   "execution_count": null,
   "id": "88",
   "metadata": {},
   "outputs": [],
   "source": [
    "plt.figure()\n",
    "plt.scatter(mean_glob_T.sel(time=max_slope_time),prop_to_plot['TF_mean'].sel(scenario='historical',time=range(1850,1900)).mean('time'))"
   ]
  },
  {
   "cell_type": "code",
   "execution_count": null,
   "id": "89",
   "metadata": {},
   "outputs": [],
   "source": [
    "plt.scatter(mean_glob_T.sel(time=max_slope_time),BMB_weighted_mean.sel(scenario='ssp585',time=max_slope_time)/file_isf['isf_area_here'])"
   ]
  },
  {
   "cell_type": "code",
   "execution_count": null,
   "id": "90",
   "metadata": {},
   "outputs": [],
   "source": []
  }
 ],
 "metadata": {
  "kernelspec": {
   "display_name": "py38",
   "language": "python",
   "name": "py38"
  },
  "language_info": {
   "codemirror_mode": {
    "name": "ipython",
    "version": 3
   },
   "file_extension": ".py",
   "mimetype": "text/x-python",
   "name": "python",
   "nbconvert_exporter": "python",
   "pygments_lexer": "ipython3",
   "version": "3.8.12"
  }
 },
 "nbformat": 4,
 "nbformat_minor": 5
}
