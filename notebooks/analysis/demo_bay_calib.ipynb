{
 "cells": [
  {
   "cell_type": "code",
   "execution_count": null,
   "id": "0",
   "metadata": {},
   "outputs": [],
   "source": [
    "\"\"\"\n",
    "Created on Wed Mar 20 15:07 2024\n",
    "\n",
    "This script is to make 2D maps of viability limits\n",
    "\n",
    "@author: Clara Burgard\n",
    "\"\"\""
   ]
  },
  {
   "cell_type": "code",
   "execution_count": null,
   "id": "1",
   "metadata": {},
   "outputs": [],
   "source": [
    "import xarray as xr\n",
    "import numpy as np\n",
    "import pandas as pd\n",
    "from tqdm.notebook import tqdm\n",
    "import matplotlib.pyplot as plt\n",
    "import seaborn as sns\n",
    "from matplotlib import cm\n",
    "import matplotlib as mpl\n",
    "import cmocean\n",
    "import glob\n",
    "from matplotlib.colors import ListedColormap, LinearSegmentedColormap\n",
    "import os\n",
    "from mpl_toolkits.axes_grid1.inset_locator import inset_axes"
   ]
  },
  {
   "cell_type": "code",
   "execution_count": null,
   "id": "2",
   "metadata": {},
   "outputs": [],
   "source": [
    "sns.set_context('paper')"
   ]
  },
  {
   "cell_type": "code",
   "execution_count": null,
   "id": "3",
   "metadata": {},
   "outputs": [],
   "source": [
    "%matplotlib qt5"
   ]
  },
  {
   "cell_type": "code",
   "execution_count": null,
   "id": "4",
   "metadata": {},
   "outputs": [],
   "source": [
    "# make the domain a little smaller to make the computation even more efficient - file isf has already been made smaller at its creation\n",
    "map_lim = [-3000000,3000000]"
   ]
  },
  {
   "cell_type": "markdown",
   "id": "5",
   "metadata": {},
   "source": [
    "READ DATA"
   ]
  },
  {
   "cell_type": "code",
   "execution_count": null,
   "id": "6",
   "metadata": {},
   "outputs": [],
   "source": [
    "home_path = '/bettik/burgardc/'\n",
    "plot_path = '/bettik/burgardc/PLOTS/summer_paper_plots/'\n",
    "outputpath_GL = '/bettik/burgardc/DATA/SUMMER_PAPER/processed/GL_FLUX/'\n",
    "inputpath_weights = '/bettik/burgardc/DATA/SUMMER_PAPER/processed/ANALYSIS/'\n",
    "inputpath_atmo = '/bettik/burgardc/DATA/SUMMER_PAPER/raw/TS_SMB_DATA/out/'\n",
    "inputpath_data='/bettik/burgardc/DATA/SUMMER_PAPER/interim/'\n"
   ]
  },
  {
   "cell_type": "code",
   "execution_count": null,
   "id": "7",
   "metadata": {},
   "outputs": [],
   "source": [
    "GL_flux = xr.open_dataset(outputpath_GL + 'all_GL_fluxes_varying_m.nc')"
   ]
  },
  {
   "cell_type": "code",
   "execution_count": null,
   "id": "8",
   "metadata": {},
   "outputs": [],
   "source": [
    "GL_flux_ag = xr.Dataset()\n",
    "GL_flux_ag['flux_Gt_ref'] = xr.concat([GL_flux['flux_Gt_ref_m1'].assign_coords({'m': 1}),\n",
    "                                       GL_flux['flux_Gt_ref_m3'].assign_coords({'m': 3}),\n",
    "                                       GL_flux['flux_Gt_ref_m5'].assign_coords({'m': 5})], dim='m')\n",
    "GL_flux_ag['flux_Gt_ABUMIP'] = xr.concat([GL_flux['flux_Gt_ABUMIP_m1'].assign_coords({'m': 1}),\n",
    "                                       GL_flux['flux_Gt_ABUMIP_m3'].assign_coords({'m': 3}),\n",
    "                                       GL_flux['flux_Gt_ABUMIP_m5'].assign_coords({'m': 5})], dim='m')\n",
    "\n",
    "GL_flux_ABUMIP = GL_flux_ag['flux_Gt_ABUMIP']"
   ]
  },
  {
   "cell_type": "code",
   "execution_count": null,
   "id": "9",
   "metadata": {},
   "outputs": [],
   "source": [
    "inputpath_mask = home_path+'/DATA/SUMMER_PAPER/interim/ANTARCTICA_IS_MASKS/BedMachine_4km/'\n",
    "file_isf_orig = xr.open_dataset(inputpath_mask+'BedMachinev2_4km_isf_masks_and_info_and_distance_oneFRIS.nc')\n",
    "nonnan_Nisf = file_isf_orig['Nisf'].where(np.isfinite(file_isf_orig['front_bot_depth_max']), drop=True).astype(int)\n",
    "file_isf_nonnan = file_isf_orig.sel(Nisf=nonnan_Nisf)\n",
    "rignot_isf = file_isf_nonnan.Nisf.where(np.isfinite(file_isf_nonnan['isf_area_rignot']), drop=True)\n",
    "file_isf = file_isf_nonnan.sel(Nisf=rignot_isf)"
   ]
  },
  {
   "cell_type": "code",
   "execution_count": null,
   "id": "10",
   "metadata": {},
   "outputs": [],
   "source": [
    "isf_mask = file_isf['ISF_mask']"
   ]
  },
  {
   "cell_type": "code",
   "execution_count": null,
   "id": "11",
   "metadata": {},
   "outputs": [],
   "source": [
    "file_isf_mask = file_isf['ISF_mask'].where(file_isf['ISF_mask']==file_isf.Nisf).sum('Nisf')"
   ]
  },
  {
   "cell_type": "code",
   "execution_count": null,
   "id": "12",
   "metadata": {},
   "outputs": [],
   "source": [
    "weight_file = xr.open_dataset(inputpath_weights + 'bayesian_weights_davison_varying_combined_withoutGISS.nc')\n",
    "weight_2300_file = xr.open_dataset(inputpath_weights + 'bayesian_weights_davison_varying_combined_2300_withoutGISS.nc')\n",
    "file_viability_info = xr.open_dataset(inputpath_weights + 'all_fluxes_br_withoutGISS.nc')"
   ]
  },
  {
   "cell_type": "code",
   "execution_count": null,
   "id": "13",
   "metadata": {},
   "outputs": [],
   "source": [
    "mask_basins = xr.open_dataset(inputpath_data + 'Mask_Iceshelf_4km_IMBIE_withNisf.nc')"
   ]
  },
  {
   "cell_type": "markdown",
   "id": "14",
   "metadata": {},
   "source": [
    "PREPARE DATA"
   ]
  },
  {
   "cell_type": "code",
   "execution_count": null,
   "id": "15",
   "metadata": {},
   "outputs": [],
   "source": [
    "sens_weights = xr.DataArray(data=np.array([0.11,\n",
    "                                           0.24,\n",
    "                                           0.03,\n",
    "                                           0.10,\n",
    "                                           0.10,\n",
    "                                           0.10,\n",
    "                                           0.10,\n",
    "                                           0.24,\n",
    "                                           0.47,\n",
    "                                           0.41,\n",
    "                                           0.12,\n",
    "                                           0.43,\n",
    "                                           0.39,\n",
    "                                           0.05]), dims=['model']).assign_coords({'model': \n",
    "                                                                                  ['ACCESS-CM2','ACCESS-ESM1-5','CanESM5',\n",
    "                                                                                   'CESM2','CESM2-WACCM','CNRM-CM6-1','CNRM-ESM2-1',\n",
    "                                                                                   'GFDL-CM4','GFDL-ESM4','GISS-E2-1-H', 'IPSL-CM6A-LR',\n",
    "                                                                                   'MPI-ESM1-2-HR','MRI-ESM2-0','UKESM1-0-LL']})"
   ]
  },
  {
   "cell_type": "code",
   "execution_count": null,
   "id": "16",
   "metadata": {},
   "outputs": [],
   "source": [
    "model_2300 = ['ACCESS-CM2','ACCESS-ESM1-5','CanESM5','CESM2-WACCM', 'IPSL-CM6A-LR','MRI-ESM2-0','UKESM1-0-LL'] #,'GISS-E2-1-H'"
   ]
  },
  {
   "cell_type": "code",
   "execution_count": null,
   "id": "17",
   "metadata": {},
   "outputs": [],
   "source": [
    "bay_weights = weight_file['bay_weights']\n",
    "bay_weights_2300 = weight_2300_file['bay_weights']"
   ]
  },
  {
   "cell_type": "code",
   "execution_count": null,
   "id": "18",
   "metadata": {},
   "outputs": [],
   "source": [
    "mass_balance_weighted = file_viability_info['MASS_BALANCE'].weighted(bay_weights * sens_weights)\n",
    "mass_balance_weighted_2300 = file_viability_info['MASS_BALANCE'].sel(model=model_2300).weighted(bay_weights_2300 * sens_weights.sel(model=model_2300))"
   ]
  },
  {
   "cell_type": "code",
   "execution_count": null,
   "id": "19",
   "metadata": {},
   "outputs": [],
   "source": [
    "weighted_quantiles = mass_balance_weighted.quantile([0,0.1,0.33,0.66,0.5,0.9],dim=['model','param','m'])\n",
    "unweighted_quantiles = file_viability_info['MASS_BALANCE'].quantile([0,0.1,0.33,0.66,0.5,0.9],dim=['model','param','m'])\n"
   ]
  },
  {
   "cell_type": "code",
   "execution_count": null,
   "id": "20",
   "metadata": {},
   "outputs": [],
   "source": [
    "weighted_quantiles_2300 = mass_balance_weighted_2300.quantile([0,0.1,0.33,0.66,0.5,0.9],dim=['model','param','m'])\n",
    "unweighted_quantiles_2300 = file_viability_info['MASS_BALANCE'].sel(model=model_2300).quantile([0,0.1,0.33,0.66,0.5,0.9],dim=['model','param','m'])\n"
   ]
  },
  {
   "cell_type": "code",
   "execution_count": null,
   "id": "21",
   "metadata": {},
   "outputs": [],
   "source": [
    "kisf = 10\n",
    "scen = 'ssp585'\n",
    "weight_to_plot = weighted_quantiles_2300.sel(Nisf=kisf)\n",
    "unweight_to_plot = unweighted_quantiles_2300.sel(Nisf=kisf)\n",
    "\n",
    "\n",
    "plt.figure()\n",
    "\n",
    "#for mparam in file_viability_info.param:\n",
    "#    for m in file_viability_info.m:\n",
    "#        for mod in file_viability_info.model:\n",
    "#            plt.plot(file_viability_info['MASS_BALANCE'].sel(param=mparam, Nisf=kisf, scenario=scen, m=m, model=mod), alpha=0.05)\n",
    "plt.fill_between(x=unweight_to_plot.time,y1=unweight_to_plot.sel(scenario=scen, quantile=0.33), y2=unweight_to_plot.sel(scenario=scen, quantile=0.66),alpha=0.2, color='red')\n",
    "plt.fill_between(x=weight_to_plot.time,y1=weight_to_plot.sel(scenario=scen, quantile=0.33), y2=weight_to_plot.sel(scenario=scen, quantile=0.66),alpha=0.4, color='red')\n",
    "plt.axhline(y=-89.2024,color='k')\n",
    "plt.fill_between(x=unweight_to_plot.time,y1=-89.2024-141,y2=-89.2024+141,alpha=0.2,color='grey')\n",
    "sns.despine()"
   ]
  },
  {
   "cell_type": "code",
   "execution_count": null,
   "id": "22",
   "metadata": {},
   "outputs": [],
   "source": [
    "unweighted_quantiles.sel(scenario=scen, quantile=0.33)"
   ]
  },
  {
   "cell_type": "code",
   "execution_count": null,
   "id": "23",
   "metadata": {},
   "outputs": [],
   "source": [
    "kisf = 10\n",
    "f = plt.figure()\n",
    "\n",
    "weight = bay_weights * sens_weights\n",
    "\n",
    "for i,ddim in enumerate(['param','model','m']): #\n",
    "\n",
    "    if ddim == 'param':\n",
    "        weight_ddim = weight.sum('Nisf').stack(stack_dim=['model','m'])\n",
    "    elif ddim == 'model':\n",
    "        weight_ddim = weight.sum('Nisf').stack(stack_dim=['param','m'])\n",
    "    elif ddim == 'm':        \n",
    "        weight_ddim = weight.sum('Nisf').stack(stack_dim=['param','model'])\n",
    "\n",
    "\n",
    "    bins = weight_ddim[ddim]\n",
    "    _, bin_edges = np.histogram(weight_ddim.values, bins=np.arange(len(bins)), weights=weight_ddim.values)\n",
    "\n",
    "    hist = weight_ddim.sum('stack_dim') # / weight_ddim.sum()\n",
    "\n",
    "    ax = f.add_subplot(1,3,i+1)\n",
    "    ax.barh(weight_ddim[ddim], hist,  edgecolor='black') #width=1,\n",
    "    #ax.set_title('sigma_mod = '+str(mult_fac)+' x std deviation')\n",
    "#f.suptitle(file_isf['isf_name'].sel(Nisf=kisf).values)"
   ]
  },
  {
   "cell_type": "code",
   "execution_count": null,
   "id": "24",
   "metadata": {},
   "outputs": [],
   "source": [
    "weight"
   ]
  },
  {
   "cell_type": "code",
   "execution_count": null,
   "id": "25",
   "metadata": {},
   "outputs": [],
   "source": [
    "kisf = 10\n",
    "f = plt.figure(figsize=(8.25*3/2,8.25/2))\n",
    "\n",
    "weight = bay_weights * sens_weights\n",
    "weight_norm = weight / weight.sum(['param','model','m'])\n",
    "\n",
    "for i,ddim in enumerate(['param','model','m']): #\n",
    "\n",
    "    if ddim == 'param':\n",
    "        weight_ddim = weight_norm.sum('Nisf').stack(stack_dim=['model','m'])\n",
    "    elif ddim == 'model':\n",
    "        weight_ddim = weight_norm.sum('Nisf').stack(stack_dim=['param','m'])\n",
    "    elif ddim == 'm':        \n",
    "        weight_ddim = weight_norm.sum('Nisf').stack(stack_dim=['param','model'])\n",
    "\n",
    "\n",
    "    bins = weight_ddim[ddim]\n",
    "    _, bin_edges = np.histogram(weight_ddim.values, bins=np.arange(len(bins)), weights=weight_ddim.values)\n",
    "\n",
    "    hist = weight_ddim.sum('stack_dim') # / weight_ddim.sum()\n",
    "\n",
    "    ax = f.add_subplot(1,3,i+1)\n",
    "    ax.bar(weight_ddim[ddim], hist,  edgecolor='None') #width=1,\n",
    "    #ax.set_title('sigma_mod = '+str(mult_fac)+' x std deviation')\n",
    "#f.suptitle(file_isf['isf_name'].sel(Nisf=kisf).values)\n",
    "sns.despine()\n",
    "#plt.tight_layout()\n",
    "f.savefig(plot_path + 'histo_weights_sum_iceshelves.pdf')"
   ]
  },
  {
   "cell_type": "code",
   "execution_count": null,
   "id": "26",
   "metadata": {},
   "outputs": [],
   "source": [
    "f = plt.figure(figsize=(8.25*3/2,8.25/2))\n",
    "\n",
    "weight = bay_weights * sens_weights\n",
    "weight_norm = weight.sel(Nisf=kisf, model=model_2300) / weight.sel(Nisf=kisf).sum(['param','model','m'])\n",
    "\n",
    "for i,ddim in enumerate(['param','model','m']): #\n",
    "\n",
    "    if ddim == 'param':\n",
    "        weight_ddim = weight_norm.sum('Nisf').stack(stack_dim=['model','m'])\n",
    "    elif ddim == 'model':\n",
    "        weight_ddim = weight_norm.sum('Nisf').stack(stack_dim=['param','m'])\n",
    "    elif ddim == 'm':        \n",
    "        weight_ddim = weight_norm.sum('Nisf').stack(stack_dim=['param','model'])\n",
    "\n",
    "\n",
    "    bins = weight_ddim[ddim]\n",
    "    _, bin_edges = np.histogram(weight_ddim.values, bins=np.arange(len(bins)), weights=weight_ddim.values)\n",
    "\n",
    "    hist = weight_ddim.sum('stack_dim') # / weight_ddim.sum()\n",
    "\n",
    "    ax = f.add_subplot(1,3,i+1)\n",
    "    ax.bar(weight_ddim[ddim], hist,  edgecolor='None')#width=1,\n",
    "    plt.xticks(rotation=90)\n",
    "    #ax.set_title('sigma_mod = '+str(mult_fac)+' x std deviation')\n",
    "#f.suptitle(file_isf['isf_name'].sel(Nisf=kisf).values)\n",
    "sns.despine()\n",
    "#plt.tight_layout()\n",
    "f.savefig(plot_path + 'histo_weights_sum_iceshelve_2300.pdf')"
   ]
  },
  {
   "cell_type": "code",
   "execution_count": null,
   "id": "27",
   "metadata": {},
   "outputs": [],
   "source": [
    "sorted_isf_rignot = [11,69,43,28,12,57,\n",
    "                     70,44,29,13,58,71,45,30,14,\n",
    "                     59,72,46,\n",
    "                     31,\n",
    "                     15,61,73,47,32,16,48,33,17,62,49,34,18,63,74,\n",
    "                     50,35,19,64,\n",
    "                     10,\n",
    "                     36,20,65,51,37,\n",
    "                     22,38,52,23,66,53,39,24,\n",
    "                     67,40,54,75,25,41,\n",
    "                     26,42,55,68,60,27]"
   ]
  },
  {
   "cell_type": "code",
   "execution_count": null,
   "id": "28",
   "metadata": {},
   "outputs": [],
   "source": [
    "ddim = 'm' #'param','model','m'\n",
    "\n",
    "\n",
    "f = plt.figure()\n",
    "f.set_size_inches(8.25*3, 8.25*3)\n",
    "\n",
    "ax={}\n",
    "\n",
    "leg_hdl = []\n",
    "\n",
    "i = 0\n",
    "\n",
    "weight = bay_weights * sens_weights\n",
    "\n",
    "for kisf in tqdm(sorted_isf_rignot):\n",
    "    \n",
    "    ax[i] = f.add_subplot(8,8,i+1)\n",
    "    \n",
    "    weight_norm_kisf = weight.sel(Nisf=kisf, model=model_2300) / weight.sel(Nisf=kisf).sum(['param','model','m'])\n",
    "\n",
    "    if ddim == 'param':\n",
    "        weight_ddim = weight_norm_kisf.stack(stack_dim=['model','m'])\n",
    "    elif ddim == 'model':\n",
    "        weight_ddim = weight_norm_kisf.stack(stack_dim=['param','m'])\n",
    "    elif ddim == 'm':        \n",
    "        weight_ddim = weight_norm_kisf.stack(stack_dim=['param','model'])\n",
    "\n",
    "    bins = weight_ddim[ddim]\n",
    "    _, bin_edges = np.histogram(weight_ddim.values, bins=np.arange(len(bins)), weights=weight_ddim.values)\n",
    "\n",
    "    hist = weight_ddim.sum('stack_dim') # / weight_ddim.sum()\n",
    "\n",
    "    ax[i].bar(weight_ddim[ddim], hist,  edgecolor='None')#width=1,\n",
    "\n",
    "    #ax[i].set_title(ano_choice.sel(Nisf=kisf))\n",
    "\n",
    "    #if kisf == 23:\n",
    "    #    ax[i].set_title('Tracy Tremenchus')\n",
    "    #elif kisf == 24:#\n",
    "    #    ax[i].set_title('Conger/Glenzer')\n",
    "    #elif kisf == 110:\n",
    "    #    ax[i].set_title('Ekström')\n",
    "    #else:\n",
    "    ax[i].set_title(str(file_isf['isf_name'].sel(Nisf=kisf).values))\n",
    "    #if file_isf['isf_name'].sel(Nisf=kisf).values not in ['Larsen B', 'Wordie']:\n",
    "    #    ax[i].set_ylim(0,mass_balance_simu_anoISMIP.sel(Nisf=kisf).max().values)\n",
    "    #ax[i].axvline(x=30, c='k', linestyle='--')\n",
    "    \n",
    "    if i < 56:\n",
    "        ax[i].set_xticklabels('')\n",
    "    if i not in [0,8,16,24,32,40,48,56]:\n",
    "        ax[i].set_yticklabels('')\n",
    "        \n",
    "    i = i+1\n",
    "\n",
    "    plt.xticks(rotation=90)\n",
    "#f.legend()\n",
    "#f.subplots_adjust(bottom=0.05, wspace=0.1)\n",
    "\n",
    "f.tight_layout()\n",
    "sns.despine()\n",
    "f.savefig(plot_path + 'histo_weights_per_iceshelf_2300_'+ddim+'.pdf')"
   ]
  },
  {
   "cell_type": "code",
   "execution_count": null,
   "id": "29",
   "metadata": {},
   "outputs": [],
   "source": []
  }
 ],
 "metadata": {
  "kernelspec": {
   "display_name": "py38",
   "language": "python",
   "name": "py38"
  },
  "language_info": {
   "codemirror_mode": {
    "name": "ipython",
    "version": 3
   },
   "file_extension": ".py",
   "mimetype": "text/x-python",
   "name": "python",
   "nbconvert_exporter": "python",
   "pygments_lexer": "ipython3",
   "version": "3.8.20"
  }
 },
 "nbformat": 4,
 "nbformat_minor": 5
}
