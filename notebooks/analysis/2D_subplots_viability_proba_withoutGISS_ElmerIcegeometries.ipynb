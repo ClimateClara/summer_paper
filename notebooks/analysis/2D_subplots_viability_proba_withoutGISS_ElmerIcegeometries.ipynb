{
 "cells": [
  {
   "cell_type": "code",
   "execution_count": null,
   "id": "0",
   "metadata": {},
   "outputs": [],
   "source": [
    "\"\"\"\n",
    "Created on Wed Mar 20 15:07 2024\n",
    "\n",
    "This script is to make 2D maps of viability limits\n",
    "\n",
    "@author: Clara Burgard\n",
    "\"\"\""
   ]
  },
  {
   "cell_type": "code",
   "execution_count": null,
   "id": "1",
   "metadata": {},
   "outputs": [],
   "source": [
    "import xarray as xr\n",
    "import numpy as np\n",
    "import pandas as pd\n",
    "from tqdm.notebook import tqdm\n",
    "import matplotlib.pyplot as plt\n",
    "import seaborn as sns\n",
    "from matplotlib import cm\n",
    "import matplotlib as mpl\n",
    "import cmocean\n",
    "import glob\n",
    "from matplotlib.colors import ListedColormap, LinearSegmentedColormap\n",
    "import os\n",
    "from mpl_toolkits.axes_grid1.inset_locator import inset_axes\n",
    "import multimelt.useful_functions as uf"
   ]
  },
  {
   "cell_type": "code",
   "execution_count": null,
   "id": "2",
   "metadata": {},
   "outputs": [],
   "source": [
    "sns.set_context('paper')"
   ]
  },
  {
   "cell_type": "code",
   "execution_count": null,
   "id": "3",
   "metadata": {},
   "outputs": [],
   "source": [
    "%matplotlib qt5"
   ]
  },
  {
   "cell_type": "code",
   "execution_count": null,
   "id": "4",
   "metadata": {},
   "outputs": [],
   "source": [
    "# make the domain a little smaller to make the computation even more efficient - file isf has already been made smaller at its creation\n",
    "map_lim = [-3000000,3000000]"
   ]
  },
  {
   "cell_type": "markdown",
   "id": "5",
   "metadata": {},
   "source": [
    "READ DATA"
   ]
  },
  {
   "cell_type": "code",
   "execution_count": null,
   "id": "6",
   "metadata": {},
   "outputs": [],
   "source": [
    "home_path = '/bettik/burgardc/'\n",
    "plot_path = '/bettik/burgardc/PLOTS/summer_paper_plots/'\n",
    "outputpath_GL = '/bettik/burgardc/DATA/SUMMER_PAPER/processed/GL_FLUX/'\n",
    "inputpath_weights = '/bettik/burgardc/DATA/SUMMER_PAPER/processed/ANALYSIS/'\n",
    "inputpath_data='/bettik/burgardc/DATA/SUMMER_PAPER/interim/'\n"
   ]
  },
  {
   "cell_type": "code",
   "execution_count": null,
   "id": "7",
   "metadata": {},
   "outputs": [],
   "source": [
    "geoyear = 2150"
   ]
  },
  {
   "cell_type": "code",
   "execution_count": null,
   "id": "8",
   "metadata": {},
   "outputs": [],
   "source": [
    "inputpath_mask = home_path+'/DATA/SUMMER_PAPER/interim/ANTARCTICA_IS_MASKS/ElmerIce_'+str(geoyear)+'/'\n",
    "file_isf_orig = xr.open_dataset(inputpath_mask+'ElmerIce_4km_'+str(geoyear)+'isf_masks_and_info_and_distance_oneFRIS.nc')\n",
    "nonnan_Nisf = file_isf_orig['Nisf'].where(np.isfinite(file_isf_orig['front_bot_depth_max']), drop=True).astype(int)\n",
    "file_isf_nonnan = file_isf_orig.sel(Nisf=nonnan_Nisf)\n",
    "sorted_isf_rignot = [11,69,43,28,12,57,\n",
    "                     70,44,29,13,58,71,45,30,14,\n",
    "                     59,72,46,\n",
    "                     31,\n",
    "                     15,61,73,47,32,16,48,33,17,62,49,34,18,63,74,\n",
    "                     50,35,19,64,\n",
    "                     10,\n",
    "                     36,20,65,51,37,\n",
    "                     22,38,52,23,66,53,39,24,\n",
    "                     67,40,54,75,25,41,\n",
    "                     26,42,55,68,60,27]\n",
    "    \n",
    "file_isf = file_isf_nonnan.sel(Nisf=sorted_isf_rignot)"
   ]
  },
  {
   "cell_type": "code",
   "execution_count": null,
   "id": "9",
   "metadata": {},
   "outputs": [],
   "source": [
    "isf_mask = file_isf['ISF_mask']"
   ]
  },
  {
   "cell_type": "code",
   "execution_count": null,
   "id": "10",
   "metadata": {},
   "outputs": [],
   "source": [
    "file_isf_mask = file_isf['ISF_mask'].where(file_isf['ISF_mask']==file_isf.Nisf).sum('Nisf')"
   ]
  },
  {
   "cell_type": "code",
   "execution_count": null,
   "id": "11",
   "metadata": {},
   "outputs": [],
   "source": [
    "model_2300 = ['ACCESS-CM2','ACCESS-ESM1-5','CanESM5','CESM2-WACCM', 'IPSL-CM6A-LR','MRI-ESM2-0','UKESM1-0-LL'] #'GISS-E2-1-H',"
   ]
  },
  {
   "cell_type": "code",
   "execution_count": null,
   "id": "12",
   "metadata": {},
   "outputs": [],
   "source": [
    "weight_file = xr.open_dataset(inputpath_weights + 'bayesian_weights_davison_varying_combined_withoutGISS.nc')\n",
    "weight_2300_file = xr.open_dataset(inputpath_weights + 'bayesian_weights_davison_varying_combined_2300_withoutGISS.nc')\n",
    "file_viability_info = xr.open_dataset(inputpath_weights + 'all_fluxes_br_withoutGISS_ElmerIcegeo'+str(geoyear)+'.nc').sel(model=model_2300)"
   ]
  },
  {
   "cell_type": "code",
   "execution_count": null,
   "id": "13",
   "metadata": {},
   "outputs": [],
   "source": [
    "mask_basins = xr.open_dataset(inputpath_data + 'Mask_Iceshelf_4km_IMBIE_withNisf.nc')"
   ]
  },
  {
   "cell_type": "code",
   "execution_count": null,
   "id": "14",
   "metadata": {},
   "outputs": [],
   "source": [
    "GL_fluxes_ref = xr.open_dataset(outputpath_GL + 'all_ref_GL_fluxes_varying_m_ElmerIcegeometries.nc')"
   ]
  },
  {
   "cell_type": "code",
   "execution_count": null,
   "id": "15",
   "metadata": {},
   "outputs": [],
   "source": [
    "GL_flux_ag = GL_fluxes_ref['flux_Gt_ref'].sel(geoyear=geoyear)"
   ]
  },
  {
   "cell_type": "markdown",
   "id": "16",
   "metadata": {},
   "source": [
    "PREPARE DATA"
   ]
  },
  {
   "cell_type": "code",
   "execution_count": null,
   "id": "17",
   "metadata": {},
   "outputs": [],
   "source": [
    "sens_weights = xr.DataArray(data=np.array([0.11,\n",
    "                                           0.24,\n",
    "                                           0.03,\n",
    "                                           0.10,\n",
    "                                           0.10,\n",
    "                                           0.10,\n",
    "                                           0.10,\n",
    "                                           0.24,\n",
    "                                           0.47,\n",
    "                                           0.41,\n",
    "                                           0.12,\n",
    "                                           0.43,\n",
    "                                           0.39,\n",
    "                                           0.05]), dims=['model']).assign_coords({'model': \n",
    "                                                                                  ['ACCESS-CM2','ACCESS-ESM1-5','CanESM5',\n",
    "                                                                                   'CESM2','CESM2-WACCM','CNRM-CM6-1','CNRM-ESM2-1',\n",
    "                                                                                   'GFDL-CM4','GFDL-ESM4','GISS-E2-1-H', 'IPSL-CM6A-LR',\n",
    "                                                                                   'MPI-ESM1-2-HR','MRI-ESM2-0','UKESM1-0-LL']})\n",
    "\n",
    "sens_weights = sens_weights.drop_sel(model='GISS-E2-1-H')"
   ]
  },
  {
   "cell_type": "code",
   "execution_count": null,
   "id": "18",
   "metadata": {},
   "outputs": [],
   "source": [
    "bay_weights_2300 = weight_2300_file['bay_weights']"
   ]
  },
  {
   "cell_type": "code",
   "execution_count": null,
   "id": "19",
   "metadata": {},
   "outputs": [],
   "source": [
    "# CALVING = 0\n",
    "mass_balance_weighted_yy_2300 = (file_viability_info['MASS_BALANCE'] - file_viability_info['CALVING']).sel(time=range(geoyear,2300)).sel(model=model_2300).weighted(bay_weights_2300 * sens_weights.sel(model=model_2300))"
   ]
  },
  {
   "cell_type": "code",
   "execution_count": null,
   "id": "20",
   "metadata": {},
   "outputs": [],
   "source": [
    "weighted_quantiles_2300 = mass_balance_weighted_yy_2300.quantile([0,0.1,0.33,0.66,0.5,0.9,1],dim=['model','param','m'])"
   ]
  },
  {
   "cell_type": "code",
   "execution_count": null,
   "id": "21",
   "metadata": {},
   "outputs": [],
   "source": [
    "unviable_times_2300 = weighted_quantiles_2300 > 0"
   ]
  },
  {
   "cell_type": "code",
   "execution_count": null,
   "id": "22",
   "metadata": {},
   "outputs": [],
   "source": [
    "viability_diff_2300 = unviable_times_2300.sel(time=range(2298,geoyear-1,-1)).cumsum('time').diff('time')\n",
    "limit_max_2300 = viability_diff_2300.time.where(viability_diff_2300 == 0).max('time') + 1\n",
    "limit_max_2300 = limit_max_2300.where(limit_max_2300<2299)\n",
    "limit_max_2300 = limit_max_2300.where(~(np.isnan(limit_max_2300) & unviable_times_2300.sel(time=geoyear)), geoyear)\n",
    "\n",
    "limit_max_full_2300 = limit_max_2300.where(np.isfinite(limit_max_2300), 2305)\n",
    "\n",
    "unviable_isf_2300 = (unviable_times_2300.time >= limit_max_full_2300)\n",
    "count_unviable_isf_2300 = (unviable_times_2300.time >= limit_max_full_2300).sum('Nisf')\n"
   ]
  },
  {
   "cell_type": "code",
   "execution_count": null,
   "id": "23",
   "metadata": {},
   "outputs": [],
   "source": [
    "likelihood_list = ['vunlikely','unlikely','about','likely','vlikely']"
   ]
  },
  {
   "cell_type": "code",
   "execution_count": null,
   "id": "24",
   "metadata": {},
   "outputs": [],
   "source": [
    "quant_distrib_2300 = unviable_isf_2300.sel(quantile=[0,0.1,0.33,0.66,0.9,1]).sum('quantile')"
   ]
  },
  {
   "cell_type": "markdown",
   "id": "25",
   "metadata": {},
   "source": [
    "PREPARE PLOT"
   ]
  },
  {
   "cell_type": "code",
   "execution_count": null,
   "id": "26",
   "metadata": {},
   "outputs": [],
   "source": [
    "grounded_msk03 = file_isf['ground_mask'].where(file_isf['ground_mask']==0,3)\n",
    "grounded_msk = (grounded_msk03.where(grounded_msk03!=3,1)-1)*-1"
   ]
  },
  {
   "cell_type": "code",
   "execution_count": null,
   "id": "27",
   "metadata": {},
   "outputs": [],
   "source": [
    "grounded_basin = mask_basins['Iceshelf'].where(grounded_msk == 0)"
   ]
  },
  {
   "cell_type": "code",
   "execution_count": null,
   "id": "28",
   "metadata": {},
   "outputs": [],
   "source": [
    "icesheet_msk_0inf = file_isf_mask.where(file_isf_mask!=1,0)\n",
    "icesheet_msk = icesheet_msk_0inf.where(icesheet_msk_0inf < 1, 1)"
   ]
  },
  {
   "cell_type": "code",
   "execution_count": null,
   "id": "29",
   "metadata": {},
   "outputs": [],
   "source": [
    "### Colorbar:\n",
    "cmap = mpl.cm.YlOrRd # define the colormap\n",
    "# extract all colors from the .jet map\n",
    "cmaplist = [cmap(i) for i in range(cmap.N)]\n",
    "# force the first color entry to be grey\n",
    "# cmaplist[0] = (.5, .5, .5, 1.0)\n",
    "\n",
    "# create the new map\n",
    "cmap_new = mpl.colors.LinearSegmentedColormap.from_list(\n",
    "    'Custom cmap', cmaplist, cmap.N)\n",
    "\n",
    "alpha = 0.8\n",
    "cmap_with_alpha = cmap(np.arange(cmap_new.N))\n",
    "cmap_with_alpha[:, -1] = alpha\n",
    "cmap_new2 = mpl.colors.ListedColormap(cmap_with_alpha)\n",
    "\n",
    "# define the bins and normalize\n",
    "bounds = np.arange(6)\n",
    "norm = mpl.colors.BoundaryNorm(bounds, cmap_new2.N)\n",
    "\n",
    "\n"
   ]
  },
  {
   "cell_type": "code",
   "execution_count": null,
   "id": "30",
   "metadata": {},
   "outputs": [],
   "source": [
    "def truncate_colormap(cmap, minval=0.0, maxval=1.0, n=100):\n",
    "    new_cmap = mpl.colors.LinearSegmentedColormap.from_list(\n",
    "        'trunc({n},{a:.2f},{b:.2f})'.format(n=cmap.name, a=minval, b=maxval),\n",
    "        cmap(np.linspace(minval, maxval, n)))\n",
    "    return new_cmap"
   ]
  },
  {
   "cell_type": "code",
   "execution_count": null,
   "id": "31",
   "metadata": {},
   "outputs": [],
   "source": [
    "yy = 2297\n",
    "via_to_plot = quant_distrib_2300.sel(time=yy) \n",
    "#via_to_plot = quant_distrib.sel(time=yy,scenario=scen)\n",
    "\n",
    "if geoyear == 2100:\n",
    "    weird_isf = [57,47,32,36,41]\n",
    "elif geoyear == 2150:\n",
    "    weird_isf = [57,72,35,19,36,41,26]\n",
    "\n",
    "map_to_plot = file_isf['ISF_mask'] * np.nan\n",
    "map_to_plot2 = file_isf['ISF_mask'] * np.nan\n",
    "map_to_plot3 = file_isf['ISF_mask'] * np.nan\n",
    "map_to_plot4 = file_isf['ISF_mask'] * np.nan\n",
    "\n",
    "grounded_basin_kisf = file_isf['ISF_mask'] * np.nan\n",
    "\n",
    "for kisf in tqdm(file_isf['Nisf']): #\n",
    "    map_to_plot = map_to_plot.where(file_isf['ISF_mask'] != kisf, via_to_plot.sel(Nisf=kisf))\n",
    "    other_Nisf = mask_basins['ID_IMBIE'].sel(Nisf=kisf)\n",
    "    #print(kisf.values,file_isf['isf_name'].sel(Nisf=kisf).values, other_Nisf.values)\n",
    "    grounded_basin_kisf = grounded_basin_kisf.where(grounded_basin != other_Nisf, kisf)\n",
    "    map_to_plot2 = map_to_plot2.where(grounded_basin != other_Nisf, via_to_plot.sel(Nisf=kisf))\n",
    "    if kisf.values in weird_isf:\n",
    "        map_to_plot3 = map_to_plot3.where(grounded_basin != other_Nisf, 1.0)\n",
    "        map_to_plot4 = map_to_plot4.where(file_isf['ISF_mask'] != kisf, 1.0)\n",
    "    else:\n",
    "        map_to_plot3 = map_to_plot3.where(grounded_basin != other_Nisf, np.nan)\n",
    "        map_to_plot4 = map_to_plot4.where(file_isf['ISF_mask'] != kisf, np.nan)\n",
    "\n",
    "map_to_plot_all = map_to_plot.combine_first(map_to_plot2)\n",
    "grounded_basin_kisf = grounded_basin_kisf.where(np.isfinite(grounded_basin_kisf), 76)\n",
    "\n",
    "fig = plt.figure(figsize=(8.25,8.25))\n",
    "\n",
    "# MAR masks:\n",
    "grd=file_isf['ISF_mask']\n",
    "msk_ice = grd.where( (grd>0.) )* 0 + 1\n",
    "\n",
    "# Basin masks:\n",
    "basin=xr.open_dataset('/bettik/burgardc/DATA/SUMMER_PAPER/interim/Mask_Iceshelf_4km_IMBIE_withNisf.nc')\n",
    "\n",
    "##########################################################################\n",
    "# PLOT :\n",
    "\n",
    "#----------\n",
    "# Colorbar:\n",
    "#cbar_range = np.arange(0.,4200.,200.)\n",
    "#newcolors = col(np.linspace(0.47, 1.00,256))\n",
    "\n",
    "#----------\n",
    "# Defining colormap:\n",
    "\n",
    "# moving the zero of colorbar\n",
    "# NB: modify the Ncool to Nwarm ratio (total=256) to place zero as desired.\n",
    "#Ncool=int(256*(-np.amin(cbar_range)/(np.amax(cbar_range)-np.amin(cbar_range))))\n",
    "#Nwarm=256-Ncool\n",
    "#col = cm.get_cmap('PuOr', 256)\n",
    "#tmp1 = col(np.linspace(0.47, 1.00, Ncool)) # decrease first number to have more white in the middle light-blue colors\n",
    "#tmp2 = col(np.linspace(0.00, 0.51, Nwarm)) # increase second number to have more white in the middle light-yellow colors\n",
    "#newcolors = np.append(tmp1[::-1,:],tmp2[::-1,:],axis=0)\n",
    "#newcolors = col(np.linspace(0.47, 1.00,256))\n",
    "#cmap_new = ListedColormap(newcolors)\n",
    "\n",
    "levels = range(10,77)\n",
    "\n",
    "#cax=fig.add_axes([0.52, 0.02, 0.43, 0.015]) # color bar\n",
    "im0=plt.contourf(grd.x,grd.y,map_to_plot,extend='max',cmap=cmap_new2, norm=norm, levels=bounds)\n",
    "plt.contourf(grd.x,grd.y,map_to_plot2,extend='max',cmap=cmap_new2, norm=norm, levels=bounds) #, alpha=0.7\n",
    "\n",
    "plt.contourf(grd.x,grd.y,map_to_plot3,cmap=truncate_colormap(mpl.cm.Greys, 0.6, 0.8))\n",
    "plt.contourf(grd.x,grd.y,map_to_plot4,cmap=truncate_colormap(mpl.cm.Greys, 0.6, 0.8))\n",
    "\n",
    "#plt.contour(grd.x,grd.y,map_to_plot2,extend='max',colors='grey',zorder=15)\n",
    "plt.contour(grd.x,grd.y,file_isf['ISF_mask'],levels,linewidths=0.7,colors='darkgrey',linestyles='solid',zorder=10) #.where(np.isnan(grounded_msk))\n",
    "plt.contour(grd.x,grd.y,grounded_basin_kisf,levels,linewidths=0.7,colors='darkgrey',linestyles='solid',zorder=10)\n",
    "plt.contour(grd.x,grd.y,grounded_msk,linewidths=0.7,colors='darkgrey',zorder=12)\n",
    "plt.contour(grd.x,grd.y,icesheet_msk,linewidths=0.9,colors='black',zorder=15)\n",
    "\n",
    "plt.title('Viability probability '+str(yy)+' Elmergeo '+str(geoyear))\n",
    "\n",
    "ax2 = fig.add_axes([0.90, 0.1, 0.03, 0.8])\n",
    "cb = mpl.colorbar.ColorbarBase(ax2, cmap=cmap_new2, norm=norm,\n",
    "    spacing='proportional', ticks=np.arange(0.5,5), boundaries=bounds) #, format='%1i'\n",
    "cb.set_ticklabels(likelihood_list, rotation=90)\n",
    "\n",
    "#plt.tight_layout()\n",
    "fig.savefig(plot_path + 'map_2D_likelihood_'+str(yy)+'_mod2300_withoutGISS_ElmerIcegeo'+str(geoyear)+'.png', dpi=300)"
   ]
  },
  {
   "cell_type": "markdown",
   "id": "32",
   "metadata": {},
   "source": [
    "ANALYTICS AREA PROPORTION"
   ]
  },
  {
   "cell_type": "code",
   "execution_count": null,
   "id": "33",
   "metadata": {},
   "outputs": [],
   "source": [
    "map_lim = [-3000000,3000000]\n",
    "\n",
    "\n",
    "file_mask_orig = xr.open_dataset(inputpath_data+'BedMachine_v2_aggregated4km_allvars.nc')\n",
    "file_mask_orig_cut = uf.cut_domain_stereo(file_mask_orig, map_lim, map_lim)\n",
    "\n",
    "ice_thickness = file_mask_orig_cut['thickness']"
   ]
  },
  {
   "cell_type": "code",
   "execution_count": null,
   "id": "34",
   "metadata": {},
   "outputs": [],
   "source": [
    "grid_cell_area_file = xr.open_dataset(inputpath_data+'gridarea_ISMIP6_AIS_4000m_grid.nc').sel(x=file_isf.x,y=file_isf.y)\n",
    "true_grid_cell_area = grid_cell_area_file['cell_area'].drop('lon').drop('lat')"
   ]
  },
  {
   "cell_type": "code",
   "execution_count": null,
   "id": "35",
   "metadata": {},
   "outputs": [],
   "source": [
    "total_grounded_area = (np.isfinite(grounded_basin).astype(int) * true_grid_cell_area).sum()\n",
    "total_grounded_volume = (np.isfinite(grounded_basin).astype(int) * true_grid_cell_area * ice_thickness).sum()"
   ]
  },
  {
   "cell_type": "code",
   "execution_count": null,
   "id": "36",
   "metadata": {},
   "outputs": [],
   "source": [
    "file_mask_orig['thickness'].plot()"
   ]
  },
  {
   "cell_type": "code",
   "execution_count": null,
   "id": "37",
   "metadata": {},
   "outputs": [],
   "source": [
    "vol_kisf_list = []\n",
    "for kisf in file_isf.Nisf:\n",
    "    grounded_vol_kisf = ((grounded_basin == kisf).astype(int) * true_grid_cell_area * ice_thickness).sum()\n",
    "    vol_kisf_list.append(grounded_vol_kisf.assign_coords({'Nisf': kisf}))\n",
    "grounded_vol_allisf = xr.concat(vol_kisf_list, dim='Nisf')"
   ]
  },
  {
   "cell_type": "code",
   "execution_count": null,
   "id": "38",
   "metadata": {},
   "outputs": [],
   "source": [
    "GL_flux = file_viability_info['ABUMIP'].isel(scenario=0,model=0,param=0,time=0)"
   ]
  },
  {
   "cell_type": "code",
   "execution_count": null,
   "id": "39",
   "metadata": {},
   "outputs": [],
   "source": [
    "limit_int = limit_max_full_2300.sel(scenario='ssp585', quantile=0.33)"
   ]
  },
  {
   "cell_type": "code",
   "execution_count": null,
   "id": "40",
   "metadata": {},
   "outputs": [],
   "source": [
    "time_to_empty = (grounded_vol_allisf / GL_flux.mean('m'))"
   ]
  },
  {
   "cell_type": "code",
   "execution_count": null,
   "id": "41",
   "metadata": {},
   "outputs": [],
   "source": [
    "plt.scatter(limit_int,time_to_empty)"
   ]
  },
  {
   "cell_type": "code",
   "execution_count": null,
   "id": "42",
   "metadata": {},
   "outputs": [],
   "source": [
    "for kisf in file_isf.Nisf:\n",
    "    print(kisf.values,file_isf['isf_name'].sel(Nisf=kisf).values)"
   ]
  },
  {
   "cell_type": "code",
   "execution_count": null,
   "id": "43",
   "metadata": {},
   "outputs": [],
   "source": [
    "mask_below_sea_level = (file_mask_orig['bed'] < 0) & (grounded_msk == 0)\n",
    "sea_level_eq_volume = (file_mask_orig['surface'].where(mask_below_sea_level) * true_grid_cell_area)"
   ]
  },
  {
   "cell_type": "code",
   "execution_count": null,
   "id": "44",
   "metadata": {},
   "outputs": [],
   "source": [
    "scen = 'ssp585'\n",
    "yy = 2297\n",
    "via_to_plot = quant_distrib_2300.sel(time=yy,scenario=scen) \n",
    "#via_to_plot = quant_distrib.sel(time=yy,scenario=scen)\n",
    "\n",
    "map_to_plot = file_isf['ISF_mask'] * np.nan\n",
    "map_to_plot2 = file_isf['ISF_mask'] * np.nan\n",
    "grounded_basin_kisf = file_isf['ISF_mask'] * np.nan\n",
    "\n",
    "for kisf in tqdm(file_isf['Nisf']): #\n",
    "    map_to_plot = map_to_plot.where(file_isf['ISF_mask'] != kisf, via_to_plot.sel(Nisf=kisf))\n",
    "    other_Nisf = mask_basins['ID_IMBIE'].sel(Nisf=kisf)\n",
    "    #print(kisf.values,file_isf['isf_name'].sel(Nisf=kisf).values, other_Nisf.values)\n",
    "    grounded_basin_kisf = grounded_basin_kisf.where(grounded_basin != other_Nisf, kisf)\n",
    "    map_to_plot2 = map_to_plot2.where(grounded_basin != other_Nisf, via_to_plot.sel(Nisf=kisf))\n",
    "map_to_plot_all = map_to_plot.combine_first(map_to_plot2)\n",
    "grounded_basin_kisf = grounded_basin_kisf.where(np.isfinite(grounded_basin_kisf), 76)"
   ]
  },
  {
   "cell_type": "code",
   "execution_count": null,
   "id": "45",
   "metadata": {},
   "outputs": [],
   "source": [
    "((map_to_plot2 > 3) * sea_level_eq_volume).plot()"
   ]
  },
  {
   "cell_type": "code",
   "execution_count": null,
   "id": "46",
   "metadata": {},
   "outputs": [],
   "source": [
    "((map_to_plot2 > 3) * sea_level_eq_volume * 917./1028.).sum() / (3.625e14)"
   ]
  },
  {
   "cell_type": "code",
   "execution_count": null,
   "id": "47",
   "metadata": {},
   "outputs": [],
   "source": [
    "map_to_plot2_2200 = map_to_plot2.copy()"
   ]
  },
  {
   "cell_type": "code",
   "execution_count": null,
   "id": "48",
   "metadata": {},
   "outputs": [],
   "source": [
    "((map_to_plot2 > 3).astype(int) - (map_to_plot2_2200 > 3).astype(int)).plot()"
   ]
  },
  {
   "cell_type": "code",
   "execution_count": null,
   "id": "49",
   "metadata": {},
   "outputs": [],
   "source": [
    "plt.figure()\n",
    "(map_to_plot2_2200 > 3).plot()"
   ]
  },
  {
   "cell_type": "code",
   "execution_count": null,
   "id": "50",
   "metadata": {},
   "outputs": [],
   "source": [
    "mask_below_sea_level.plot()"
   ]
  },
  {
   "cell_type": "code",
   "execution_count": null,
   "id": "51",
   "metadata": {},
   "outputs": [],
   "source": [
    "(mask_below_sea_level * (map_to_plot2_2200 > 3) * true_grid_cell_area).sum() / ((map_to_plot2_2200 > 3) * true_grid_cell_area).sum()"
   ]
  },
  {
   "cell_type": "code",
   "execution_count": null,
   "id": "52",
   "metadata": {},
   "outputs": [],
   "source": [
    "# PERCENTAGE OF AREA WHERE BED IS BELOW SEA LEVEL\n",
    "(mask_below_sea_level * (map_to_plot2 > 3) * true_grid_cell_area).sum() / ((map_to_plot2 > 3) * true_grid_cell_area).sum()"
   ]
  },
  {
   "cell_type": "code",
   "execution_count": null,
   "id": "53",
   "metadata": {},
   "outputs": [],
   "source": [
    "((map_to_plot2 > 3) * sea_level_eq_volume).sum() "
   ]
  },
  {
   "cell_type": "code",
   "execution_count": null,
   "id": "54",
   "metadata": {},
   "outputs": [],
   "source": [
    "((map_to_plot2 > 3) * true_grid_cell_area).sum() / total_grounded_area"
   ]
  },
  {
   "cell_type": "code",
   "execution_count": null,
   "id": "55",
   "metadata": {},
   "outputs": [],
   "source": [
    "((map_to_plot2 > 3) * true_grid_cell_area * ice_thickness).sum() / total_grounded_volume"
   ]
  },
  {
   "cell_type": "markdown",
   "id": "56",
   "metadata": {},
   "source": [
    "PIE CHARTS"
   ]
  },
  {
   "cell_type": "code",
   "execution_count": null,
   "id": "57",
   "metadata": {},
   "outputs": [],
   "source": [
    "dx"
   ]
  },
  {
   "cell_type": "code",
   "execution_count": null,
   "id": "58",
   "metadata": {},
   "outputs": [],
   "source": [
    "kisf_mask.x"
   ]
  },
  {
   "cell_type": "code",
   "execution_count": null,
   "id": "59",
   "metadata": {},
   "outputs": [],
   "source": [
    "center_x"
   ]
  },
  {
   "cell_type": "code",
   "execution_count": null,
   "id": "60",
   "metadata": {},
   "outputs": [],
   "source": [
    "center_x_list = []\n",
    "center_y_list = []\n",
    "for kisf in tqdm(file_isf.Nisf):\n",
    "    kisf_mask = isf_mask.where(isf_mask == kisf, drop=True)\n",
    "    center_x = kisf_mask.x.isel(x=np.ceil(len(kisf_mask.x)/2).astype(int))\n",
    "    center_y = kisf_mask.y.isel(y=np.ceil(len(kisf_mask.y)/2).astype(int))\n",
    "\n",
    "    dx = kisf_mask.x.isel(x=1) - kisf_mask.x.isel(x=0)\n",
    "\n",
    "    if np.isnan(kisf_mask.sel(x=center_x,y=center_y)):\n",
    "        center_x = kisf_mask.x.min() \n",
    "        while np.isnan(kisf_mask.sel(x=center_x,y=center_y)):\n",
    "            center_x = center_x + dx\n",
    "            if center_x.values in kisf_mask.x.values: \n",
    "                center_x = center_x\n",
    "            else:\n",
    "                center_x = center_x + dx\n",
    "\n",
    "    center_x_list.append(xr.DataArray(data=center_x.values).assign_coords({'Nisf': kisf}))\n",
    "    center_y_list.append(xr.DataArray(data=center_y.values).assign_coords({'Nisf': kisf}))\n",
    "\n",
    "center_dim = xr.Dataset()\n",
    "center_dim['center_x'] = xr.concat(center_x_list, dim='Nisf')\n",
    "center_dim['center_y'] = xr.concat(center_y_list, dim='Nisf')\n"
   ]
  },
  {
   "cell_type": "code",
   "execution_count": null,
   "id": "61",
   "metadata": {},
   "outputs": [],
   "source": [
    "ocean_basin = mask_basins['Iceshelf_extrap'].where((grounded_msk == 1) & (file_isf_mask == 0))"
   ]
  },
  {
   "cell_type": "code",
   "execution_count": null,
   "id": "62",
   "metadata": {},
   "outputs": [],
   "source": [
    "center_x_oc_list = []\n",
    "center_y_oc_list = []\n",
    "for kisf in tqdm(file_isf.Nisf):\n",
    "    other_kisf = mask_basins['ID_IMBIE'].sel(Nisf=kisf)\n",
    "\n",
    "    if kisf == 67:\n",
    "        center_x_oc = xr.DataArray(data=[-1.825e6])\n",
    "        center_y_oc = xr.DataArray(data=[2e5])\n",
    "    else:\n",
    "        oc_mask = isf_mask.where(ocean_basin == other_kisf, drop=True)\n",
    "        if len(oc_mask.x) > 1:\n",
    "            center_x_oc = oc_mask.x.isel(x=np.ceil(len(oc_mask.x)/2).astype(int))\n",
    "            dx = oc_mask.x.isel(x=1) - oc_mask.x.isel(x=0)\n",
    "        else:\n",
    "            center_x_oc = oc_mask.x[0].astype(int)\n",
    "        if len(oc_mask.y) > 1:\n",
    "            center_y_oc = oc_mask.y.isel(y=np.ceil(len(oc_mask.y)/2).astype(int))\n",
    "        else:\n",
    "            center_y_oc = oc_mask.y[0].astype(int)\n",
    "    \n",
    "    # individual corrections\n",
    "    if kisf == 11:\n",
    "        center_x_oc = xr.DataArray(data=[-1.97e6])\n",
    "        center_y_oc = xr.DataArray(data=[2.61e6])\n",
    "    elif kisf == 10:\n",
    "        center_x_oc = xr.DataArray(data=[-2.44e5])\n",
    "        center_y_oc = xr.DataArray(data=[-2.6e6])\n",
    "    elif kisf == 43:\n",
    "        center_x_oc = xr.DataArray(data=[-7.8e5])\n",
    "        center_y_oc = xr.DataArray(data=[2.0e6])\n",
    "    elif kisf == 44:\n",
    "        center_x_oc = xr.DataArray(data=[9.4e4])\n",
    "    elif kisf == 45:\n",
    "        center_x_oc = xr.DataArray(data=[1.35e6])\n",
    "        center_y_oc = xr.DataArray(data=[2.5e6])\n",
    "    elif kisf == 46:\n",
    "        center_x_oc = xr.DataArray(data=[2.27e6])\n",
    "        center_y_oc = xr.DataArray(data=[1.4e6])        \n",
    "    elif kisf == 59:\n",
    "        center_x_oc = xr.DataArray(data=[2.01e6])\n",
    "        center_y_oc = xr.DataArray(data=[2.06e6])  \n",
    "    elif kisf == 14:\n",
    "        center_x_oc = xr.DataArray(data=[1.7e6])\n",
    "        center_y_oc = xr.DataArray(data=[1.9e6])\n",
    "    elif kisf == 31:\n",
    "        center_x_oc = xr.DataArray(data=[2.8e6])\n",
    "        center_y_oc = xr.DataArray(data=[1.1e6])\n",
    "    elif kisf == 73:\n",
    "        center_x_oc = xr.DataArray(data=[2.9e6])\n",
    "    elif kisf == 63:\n",
    "        center_y_oc = xr.DataArray(data=[-2.38e6])\n",
    "    elif kisf == 50:\n",
    "        center_x_oc = xr.DataArray(data=[1.5e5])\n",
    "        center_y_oc = xr.DataArray(data=[-1.96e6])\n",
    "    elif kisf == 72:\n",
    "        center_x_oc = xr.DataArray(data=[2.26e6])\n",
    "        center_y_oc = xr.DataArray(data=[1.94e6])\n",
    "    elif kisf == 74:\n",
    "        center_x_oc = xr.DataArray(data=[4.03e5])\n",
    "        center_y_oc = xr.DataArray(data=[-2.18e6])\n",
    "    elif kisf == 34:\n",
    "        center_x_oc = xr.DataArray(data=[1.29e6])\n",
    "        center_y_oc = xr.DataArray(data=[-2.33e6])\n",
    "    elif kisf == 18:\n",
    "        center_x_oc = xr.DataArray(data=[9.8e5])\n",
    "        center_y_oc = xr.DataArray(data=[-2.27e6])\n",
    "    elif kisf == 62:\n",
    "        center_x_oc = xr.DataArray(data=[1.8e6])\n",
    "        center_y_oc = xr.DataArray(data=[-2.24e6])\n",
    "    elif kisf == 17:\n",
    "        center_x_oc = xr.DataArray(data=[2.07e6])\n",
    "        center_y_oc = xr.DataArray(data=[-1.95e6])\n",
    "    elif kisf == 33:\n",
    "        #center_x_oc = xr.DataArray(data=[2.07e6])\n",
    "        center_y_oc = xr.DataArray(data=[-2.03e6])\n",
    "    elif kisf == 48:\n",
    "        center_x_oc = xr.DataArray(data=[2.7e6])\n",
    "        center_y_oc = xr.DataArray(data=[-1.3e6])\n",
    "    elif kisf == 15:\n",
    "        center_x_oc = xr.DataArray(data=[2.36e6])\n",
    "        #center_y_oc = xr.DataArray(data=[-2.03e6])\n",
    "    elif kisf == 16:\n",
    "        center_x_oc = xr.DataArray(data=[2.6e6])\n",
    "        #center_y_oc = xr.DataArray(data=[-2.03e6])\n",
    "    elif kisf == 32:\n",
    "        #center_x_oc = xr.DataArray(data=[2.6e6])\n",
    "        center_y_oc = xr.DataArray(data=[-6.6e5])\n",
    "    elif kisf == 64:\n",
    "        center_x_oc = xr.DataArray(data=[6.0e4])\n",
    "        center_y_oc = xr.DataArray(data=[-1.48e6])\n",
    "    elif kisf == 35:\n",
    "        center_x_oc = xr.DataArray(data=[2.34e5])\n",
    "        center_y_oc = xr.DataArray(data=[-1.7e6])\n",
    "    elif kisf == 19:\n",
    "        center_x_oc = xr.DataArray(data=[3.56e5])\n",
    "        center_y_oc = xr.DataArray(data=[-1.58e6])\n",
    "    elif kisf == 65:\n",
    "        center_x_oc = xr.DataArray(data=[-8.3e5])\n",
    "        center_y_oc = xr.DataArray(data=[-1.56e6])\n",
    "    elif kisf == 20:\n",
    "        #center_x_oc = xr.DataArray(data=[-8.3e5])\n",
    "        center_y_oc = xr.DataArray(data=[-1.4e6])\n",
    "    elif kisf == 37:\n",
    "        center_x_oc = xr.DataArray(data=[-1.1e6])\n",
    "        center_y_oc = xr.DataArray(data=[-1.35e6])\n",
    "    elif kisf == 22:\n",
    "        center_x_oc = xr.DataArray(data=[-1.3e6])\n",
    "        center_y_oc = xr.DataArray(data=[-1.67e6])\n",
    "    elif kisf == 52:\n",
    "        center_x_oc = xr.DataArray(data=[-1.65e6])\n",
    "        center_y_oc = xr.DataArray(data=[-2.22e6])\n",
    "    elif kisf == 23:\n",
    "        center_x_oc = xr.DataArray(data=[-2.15e6])\n",
    "        center_y_oc = xr.DataArray(data=[-1.11e6])\n",
    "    elif kisf == 39:\n",
    "        center_x_oc = xr.DataArray(data=[-2.3e6])\n",
    "        center_y_oc = xr.DataArray(data=[-1.6e5])\n",
    "    elif kisf == 66:\n",
    "        center_x_oc = xr.DataArray(data=[-2.7e6])\n",
    "        center_y_oc = xr.DataArray(data=[-1.3e6])\n",
    "    elif kisf == 38:\n",
    "        center_x_oc = xr.DataArray(data=[-1.71e6])\n",
    "        center_y_oc = xr.DataArray(data=[-1.07e6])\n",
    "    elif kisf == 53:\n",
    "        center_x_oc = xr.DataArray(data=[-2.42e6])\n",
    "        center_y_oc = xr.DataArray(data=[-6.95e5])\n",
    "    elif kisf == 41:\n",
    "        center_x_oc = xr.DataArray(data=[-2.65e6])\n",
    "        #center_y_oc = xr.DataArray(data=[-6.95e5])\n",
    "    elif kisf == 75:\n",
    "        center_x_oc = xr.DataArray(data=[-2.70e6])\n",
    "        center_y_oc = xr.DataArray(data=[5.7e5])\n",
    "    elif kisf == 24:\n",
    "        center_x_oc = xr.DataArray(data=[-2.04e6])\n",
    "        center_y_oc = xr.DataArray(data=[0])\n",
    "    elif kisf == 67:\n",
    "        center_x_oc = xr.DataArray(data=[-1.9e6])\n",
    "        #center_y_oc = xr.DataArray(data=[0])\n",
    "    elif kisf == 40:\n",
    "        center_x_oc = xr.DataArray(data=[-2.11e6])\n",
    "        center_y_oc = xr.DataArray(data=[2.12e5])\n",
    "    elif kisf == 54:\n",
    "        center_x_oc = xr.DataArray(data=[-2.33e6])\n",
    "        center_y_oc = xr.DataArray(data=[4.8e5])\n",
    "    elif kisf == 25:\n",
    "        center_x_oc = xr.DataArray(data=[-2.66e6])\n",
    "        center_y_oc = xr.DataArray(data=[2.3e5])\n",
    "    elif kisf == 26:\n",
    "        #center_x_oc = xr.DataArray(data=[-2.30e6])\n",
    "        center_y_oc = xr.DataArray(data=[1.46e6])\n",
    "    elif kisf == 42:\n",
    "        center_x_oc = xr.DataArray(data=[-2.16e6])\n",
    "        #center_y_oc = xr.DataArray(data=[1.46e6])\n",
    "    elif kisf == 68:\n",
    "        center_x_oc = xr.DataArray(data=[-1.69e6])\n",
    "        center_y_oc = xr.DataArray(data=[1.08e6])\n",
    "    elif kisf == 27:\n",
    "        center_x_oc = xr.DataArray(data=[-1.37e6])\n",
    "        center_y_oc = xr.DataArray(data=[8.75e5])\n",
    "        \n",
    "    center_x_oc_list.append(xr.DataArray(data=center_x_oc.values).assign_coords({'Nisf': kisf}))\n",
    "    center_y_oc_list.append(xr.DataArray(data=center_y_oc.values).assign_coords({'Nisf': kisf}))\n",
    "\n",
    "#center_dim = xr.Dataset()\n",
    "center_dim['center_x_oc'] = xr.concat(center_x_oc_list, dim='Nisf')\n",
    "center_dim['center_y_oc'] = xr.concat(center_y_oc_list, dim='Nisf')\n"
   ]
  },
  {
   "cell_type": "code",
   "execution_count": null,
   "id": "63",
   "metadata": {},
   "outputs": [],
   "source": [
    "flux_ref_br, _ = xr.broadcast(GL_flux_ag, file_viability_info['ABUMIP'])"
   ]
  },
  {
   "cell_type": "code",
   "execution_count": null,
   "id": "64",
   "metadata": {},
   "outputs": [],
   "source": [
    "flux_ref_weighted_mean = flux_ref_br.weighted(weight_2300_file['bay_weights']).mean(['param','model','m','time'])\n",
    "ABUMIP_weighted_mean = file_viability_info['ABUMIP'].weighted(weight_2300_file['bay_weights']).mean(['param','model','m','time',])"
   ]
  },
  {
   "cell_type": "code",
   "execution_count": null,
   "id": "65",
   "metadata": {},
   "outputs": [],
   "source": [
    "\n",
    "yy = 2297\n",
    "via_to_plot = quant_distrib_2300.sel(time=yy)\n",
    "#via_to_plot = quant_distrib.sel(time=yy,scenario=scen)\n",
    "\n",
    "map_to_plot = file_isf['ISF_mask'] * np.nan\n",
    "map_to_plot2 = file_isf['ISF_mask'] * np.nan\n",
    "grounded_basin_kisf = file_isf['ISF_mask'] * np.nan\n",
    "\n",
    "for kisf in tqdm(file_isf['Nisf']):\n",
    "    map_to_plot = map_to_plot.where(file_isf['ISF_mask'] != kisf, via_to_plot.sel(Nisf=kisf))\n",
    "    other_Nisf = mask_basins['ID_IMBIE'].sel(Nisf=kisf)\n",
    "    #print(kisf.values,file_isf['isf_name'].sel(Nisf=kisf).values, other_Nisf.values)\n",
    "    grounded_basin_kisf = grounded_basin_kisf.where(grounded_basin != other_Nisf, kisf)\n",
    "    map_to_plot2 = map_to_plot2.where(grounded_basin != other_Nisf, via_to_plot.sel(Nisf=kisf))\n",
    "map_to_plot_all = map_to_plot.combine_first(map_to_plot2)\n",
    "grounded_basin_kisf = grounded_basin_kisf.where(np.isfinite(grounded_basin_kisf), 76)\n",
    "\n",
    "fig, ax = plt.subplots(figsize=(8.25,8.25))\n",
    "# MAR masks:\n",
    "grd=file_isf['ISF_mask']\n",
    "msk_ice = grd.where( (grd>0.) )* 0 + 1\n",
    "\n",
    "# Basin masks:\n",
    "basin=xr.open_dataset('/bettik/burgardc/DATA/SUMMER_PAPER/interim/Mask_Iceshelf_4km_IMBIE_withNisf.nc')\n",
    "\n",
    "##########################################################################\n",
    "# PLOT :\n",
    "\n",
    "#----------\n",
    "# Colorbar:\n",
    "#cbar_range = np.arange(0.,4200.,200.)\n",
    "#newcolors = col(np.linspace(0.47, 1.00,256))\n",
    "\n",
    "#----------\n",
    "# Defining colormap:\n",
    "\n",
    "# moving the zero of colorbar\n",
    "# NB: modify the Ncool to Nwarm ratio (total=256) to place zero as desired.\n",
    "#Ncool=int(256*(-np.amin(cbar_range)/(np.amax(cbar_range)-np.amin(cbar_range))))\n",
    "#Nwarm=256-Ncool\n",
    "#col = cm.get_cmap('PuOr', 256)\n",
    "#tmp1 = col(np.linspace(0.47, 1.00, Ncool)) # decrease first number to have more white in the middle light-blue colors\n",
    "#tmp2 = col(np.linspace(0.00, 0.51, Nwarm)) # increase second number to have more white in the middle light-yellow colors\n",
    "#newcolors = np.append(tmp1[::-1,:],tmp2[::-1,:],axis=0)\n",
    "#newcolors = col(np.linspace(0.47, 1.00,256))\n",
    "#cmap_new = ListedColormap(newcolors)\n",
    "\n",
    "levels = range(10,77)\n",
    "\n",
    "#cax=fig.add_axes([0.52, 0.02, 0.43, 0.015]) # color bar\n",
    "im0=plt.contourf(grd.x,grd.y,map_to_plot,extend='max',cmap=cmap_new, norm=norm)\n",
    "ax.contourf(grd.x,grd.y,map_to_plot2,extend='max',cmap=cmap_new, norm=norm, alpha=0.7)\n",
    "#plt.contour(grd.x,grd.y,map_to_plot2,extend='max',colors='grey',zorder=15)\n",
    "ax.contour(grd.x,grd.y,grounded_basin_kisf,levels,linewidths=0.5,colors='grey',zorder=10)\n",
    "ax.contour(grd.x,grd.y,grounded_msk,linewidths=0.5,colors='black',zorder=10)\n",
    "ax.contour(grd.x,grd.y,icesheet_msk,linewidths=0.1,colors='black',zorder=15)\n",
    "ax.plot([center_dim['center_x'].squeeze().values, center_dim['center_x_oc'].squeeze().values], [center_dim['center_y'].squeeze().values, center_dim['center_y_oc'].squeeze().values], linestyle=\"-\", color = 'k', linewidth = 0.5)\n",
    "\n",
    "\n",
    "\n",
    "for kisf in tqdm(file_isf['Nisf']):\n",
    "    if ((ABUMIP_weighted_mean.sel(Nisf=kisf) > 0) & ((ABUMIP_weighted_mean.sel(Nisf=kisf) - flux_ref_weighted_mean.sel(Nisf=kisf)) > 0)):\n",
    "        pos_x = center_dim['center_x_oc'].sel(Nisf=kisf).squeeze().values\n",
    "        pos_y = center_dim['center_y_oc'].sel(Nisf=kisf).squeeze().values\n",
    "        size = [((ABUMIP_weighted_mean.sel(Nisf=kisf) - flux_ref_weighted_mean.sel(Nisf=kisf))/ABUMIP_weighted_mean.sel(Nisf=kisf)).values,(flux_ref_weighted_mean.sel(Nisf=kisf)/ABUMIP_weighted_mean.sel(Nisf=kisf)).values]\n",
    "        radius = ABUMIP_weighted_mean.sel(Nisf=kisf) /ABUMIP_weighted_mean.max().values + 0.2\n",
    "        \n",
    "        ax_sub= inset_axes(ax, width=radius.values.item(), height=radius.values.item(), loc=10, \n",
    "                           bbox_to_anchor=(pos_x, pos_y),\n",
    "                           bbox_transform=ax.transData, \n",
    "                           borderpad=0)\n",
    "        ax_sub.pie(np.array(size), colors=['steelblue','lightblue'], startangle=90)\n",
    "        ax_sub.set_aspect(\"equal\")\n",
    "    else:\n",
    "        print(kisf.values,file_isf['isf_name'].sel(Nisf=kisf).values)\n",
    "\n",
    "    \n",
    "\n",
    "ax.set_title('Viability probability '+str(yy)+' ElmerIcegeo '+str(geoyear))\n",
    "\n",
    "ax2 = fig.add_axes([0.90, 0.1, 0.03, 0.8])\n",
    "cb = mpl.colorbar.ColorbarBase(ax2, cmap=cmap_new, norm=norm,\n",
    "    spacing='proportional', ticks=np.arange(0.5,5), boundaries=bounds) #, format='%1i'\n",
    "cb.set_ticklabels(likelihood_list, rotation=90)\n",
    "\n",
    "#plt.tight_layout()\n",
    "fig.savefig(plot_path + 'map_2D_likelihood_'+str(yy)+'_withpiecharts_ElmerIcegeo'+str(geoyear)+'.png', dpi=300)"
   ]
  },
  {
   "cell_type": "code",
   "execution_count": null,
   "id": "66",
   "metadata": {},
   "outputs": [],
   "source": [
    "((ABUMIP_weighted_mean.sel(Nisf=kisf) - flux_ref_weighted_mean.sel(Nisf=kisf)) > 0)"
   ]
  },
  {
   "cell_type": "code",
   "execution_count": null,
   "id": "67",
   "metadata": {},
   "outputs": [],
   "source": [
    "file_isf['isf_name'].sel(Nisf=kisf).load()"
   ]
  },
  {
   "cell_type": "code",
   "execution_count": null,
   "id": "68",
   "metadata": {},
   "outputs": [],
   "source": [
    "file_viability_info['ABUMIP'].sel(Nisf=kisf).weighted(weight_file['bay_weights']"
   ]
  },
  {
   "cell_type": "code",
   "execution_count": null,
   "id": "69",
   "metadata": {},
   "outputs": [],
   "source": [
    "ABUMIP_weighted_mean.sel(Nisf=kisf)"
   ]
  },
  {
   "cell_type": "code",
   "execution_count": null,
   "id": "70",
   "metadata": {},
   "outputs": [],
   "source": [
    "flux_ref_weighted_mean.sel(Nisf=kisf)"
   ]
  },
  {
   "cell_type": "code",
   "execution_count": null,
   "id": "71",
   "metadata": {},
   "outputs": [],
   "source": [
    "flux_ref_weighted_mean"
   ]
  },
  {
   "cell_type": "code",
   "execution_count": null,
   "id": "72",
   "metadata": {},
   "outputs": [],
   "source": [
    "scen = 'ssp126'\n",
    "yy = 2100\n",
    "via_to_plot = quant_distrib_2300.sel(time=yy,scenario=scen)\n",
    "#via_to_plot = quant_distrib.sel(time=yy,scenario=scen)\n",
    "\n",
    "map_to_plot = file_isf['ISF_mask'] * np.nan\n",
    "map_to_plot2 = file_isf['ISF_mask'] * np.nan\n",
    "grounded_basin_kisf = file_isf['ISF_mask'] * np.nan\n",
    "\n",
    "for kisf in tqdm(file_isf['Nisf']):\n",
    "    map_to_plot = map_to_plot.where(file_isf['ISF_mask'] != kisf, via_to_plot.sel(Nisf=kisf))\n",
    "    other_Nisf = mask_basins['ID_IMBIE'].sel(Nisf=kisf)\n",
    "    #print(kisf.values,file_isf['isf_name'].sel(Nisf=kisf).values, other_Nisf.values)\n",
    "    grounded_basin_kisf = grounded_basin_kisf.where(grounded_basin != other_Nisf, kisf)\n",
    "    map_to_plot2 = map_to_plot2.where(grounded_basin != other_Nisf, via_to_plot.sel(Nisf=kisf))\n",
    "map_to_plot_all = map_to_plot.combine_first(map_to_plot2)\n",
    "grounded_basin_kisf = grounded_basin_kisf.where(np.isfinite(grounded_basin_kisf), 76)\n",
    "\n",
    "\n",
    "fig, ax = plt.subplots(figsize=(8.25,8.25))\n",
    "# MAR masks:\n",
    "grd=file_isf['ISF_mask']\n",
    "msk_ice = grd.where( (grd>0.) )* 0 + 1\n",
    "\n",
    "# Basin masks:\n",
    "basin=xr.open_dataset('/bettik/burgardc/DATA/SUMMER_PAPER/interim/Mask_Iceshelf_4km_IMBIE_withNisf.nc')\n",
    "\n",
    "##########################################################################\n",
    "# PLOT :\n",
    "\n",
    "#----------\n",
    "# Colorbar:\n",
    "#cbar_range = np.arange(0.,4200.,200.)\n",
    "#newcolors = col(np.linspace(0.47, 1.00,256))\n",
    "\n",
    "#----------\n",
    "# Defining colormap:\n",
    "\n",
    "# moving the zero of colorbar\n",
    "# NB: modify the Ncool to Nwarm ratio (total=256) to place zero as desired.\n",
    "#Ncool=int(256*(-np.amin(cbar_range)/(np.amax(cbar_range)-np.amin(cbar_range))))\n",
    "#Nwarm=256-Ncool\n",
    "#col = cm.get_cmap('PuOr', 256)\n",
    "#tmp1 = col(np.linspace(0.47, 1.00, Ncool)) # decrease first number to have more white in the middle light-blue colors\n",
    "#tmp2 = col(np.linspace(0.00, 0.51, Nwarm)) # increase second number to have more white in the middle light-yellow colors\n",
    "#newcolors = np.append(tmp1[::-1,:],tmp2[::-1,:],axis=0)\n",
    "#newcolors = col(np.linspace(0.47, 1.00,256))\n",
    "#cmap_new = ListedColormap(newcolors)\n",
    "\n",
    "levels = range(10,77)\n",
    "\n",
    "#cax=fig.add_axes([0.52, 0.02, 0.43, 0.015]) # color bar\n",
    "im0=plt.contourf(grd.x,grd.y,map_to_plot,extend='max',cmap=cmap_new, norm=norm, levels=bounds)\n",
    "plt.contourf(grd.x,grd.y,map_to_plot2,extend='max',cmap=cmap_new, norm=norm, alpha=0.7, levels=bounds)\n",
    "#plt.contour(grd.x,grd.y,map_to_plot2,extend='max',colors='grey',zorder=15)\n",
    "ax.contour(grd.x,grd.y,grounded_basin_kisf,levels,linewidths=0.5,colors='grey',zorder=0)\n",
    "ax.contour(grd.x,grd.y,grounded_msk,linewidths=0.5,colors='black',zorder=0)\n",
    "ax.contour(grd.x,grd.y,icesheet_msk,linewidths=0.1,colors='black',zorder=5)\n",
    "ax.plot([center_dim['center_x'].squeeze().values, center_dim['center_x_oc'].squeeze().values], [center_dim['center_y'].squeeze().values, center_dim['center_y_oc'].squeeze().values], linestyle=\"-\", color = 'k', linewidth = 0.5)\n",
    "\n",
    "for kisf in tqdm(file_isf['Nisf']):\n",
    "    pos_x = center_dim['center_x_oc'].sel(Nisf=kisf).squeeze().values\n",
    "    pos_y = center_dim['center_y_oc'].sel(Nisf=kisf).squeeze().values\n",
    "    size = [((ABUMIP_weighted_mean.sel(Nisf=kisf) - flux_ref_weighted_mean.sel(Nisf=kisf))/ABUMIP_weighted_mean.sel(Nisf=kisf)).values,(flux_ref_weighted_mean.sel(Nisf=kisf)/ABUMIP_weighted_mean.sel(Nisf=kisf)).values]\n",
    "    prop_ABUMIP = ABUMIP_weighted_mean.sel(Nisf=kisf) / ABUMIP_weighted_mean.max().values\n",
    "    prop_ref = flux_ref_weighted_mean.sel(Nisf=kisf) / ABUMIP_weighted_mean.max().values\n",
    "    radius = np.sqrt(prop_ABUMIP/np.pi) * 3\n",
    "    radius2 = np.sqrt(prop_ref/np.pi) * 3\n",
    "    \n",
    "    ax_sub = inset_axes(ax, width=radius.values.item(), height=radius.values.item(), loc=10, \n",
    "                       bbox_to_anchor=(pos_x, pos_y),\n",
    "                       bbox_transform=ax.transData, \n",
    "                       borderpad=0)\n",
    "    ax_sub.pie(np.array(size), colors=['steelblue','lightblue'], startangle=90)\n",
    "    #ax_sub.set_aspect(\"equal\")\n",
    "\n",
    "    ax_sub2 = inset_axes(ax, width=radius2.values.item(), height=radius2.values.item(), loc=10, \n",
    "                   bbox_to_anchor=(pos_x, pos_y),\n",
    "                   bbox_transform=ax.transData, \n",
    "                   borderpad=0)\n",
    "    ax_sub2.pie(np.array([1]), colors=['lightskyblue'], startangle=90)\n",
    "\n",
    "    ax_sub2.set_aspect(\"equal\")\n",
    "\n",
    "#ax2 = ax.twinx()\n",
    "#ax2.scatter(center_dim['center_x_oc'], center_dim['center_y_oc'], s=flux_ref_weighted_mean, color='lightskyblue', zorder=20)\n",
    "\n",
    "ax.set_title('Viability probability '+str(yy)+' '+scen)\n",
    "\n",
    "ax2 = fig.add_axes([0.90, 0.1, 0.03, 0.8])\n",
    "cb = mpl.colorbar.ColorbarBase(ax2, cmap=cmap_new, norm=norm,\n",
    "    spacing='proportional', ticks=np.arange(0.5,5), boundaries=bounds) #, format='%1i'\n",
    "cb.set_ticklabels(likelihood_list, rotation=90)\n",
    "\n",
    "#plt.tight_layout()\n",
    "fig.savefig(plot_path + 'map_2D_likelihood_'+str(yy)+'_'+scen+'_withpiecharts_withproportionality.png', dpi=300)"
   ]
  },
  {
   "cell_type": "markdown",
   "id": "73",
   "metadata": {},
   "source": [
    "Compute percentage"
   ]
  },
  {
   "cell_type": "markdown",
   "id": "74",
   "metadata": {},
   "source": [
    "2300 values"
   ]
  },
  {
   "cell_type": "code",
   "execution_count": null,
   "id": "75",
   "metadata": {},
   "outputs": [],
   "source": [
    "# CALVING = 0\n",
    "non_viable_ensmembers_2300 = (file_viability_info['MASS_BALANCE'] - file_viability_info['CALVING']).squeeze().drop('scenario').sel(model=model_2300) > 0\n",
    "\n",
    "non_via_diff_2300 = non_viable_ensmembers_2300.sel(time=range(2299,geoyear-1,-1)).cumsum('time').diff('time')\n",
    "limit_via_max_2300 = non_via_diff_2300.time.where(non_via_diff_2300 == 0).max('time') + 1\n",
    "limit_via_max_2300 = limit_via_max_2300.where(limit_via_max_2300<2299)\n",
    "limit_via_max_2300 = limit_via_max_2300.where(~(np.isnan(limit_via_max_2300) & non_viable_ensmembers_2300.sel(time=geoyear)), geoyear)"
   ]
  },
  {
   "cell_type": "code",
   "execution_count": null,
   "id": "76",
   "metadata": {},
   "outputs": [],
   "source": [
    "# CALVING = 0\n",
    "time_br_2300, _ = xr.broadcast(file_viability_info.time, (file_viability_info['MASS_BALANCE'] - file_viability_info['CALVING']).sel(model=model_2300).squeeze().drop('scenario'))"
   ]
  },
  {
   "cell_type": "code",
   "execution_count": null,
   "id": "77",
   "metadata": {},
   "outputs": [],
   "source": [
    "non_viable_time_2300 = limit_via_max_2300"
   ]
  },
  {
   "cell_type": "code",
   "execution_count": null,
   "id": "78",
   "metadata": {},
   "outputs": [],
   "source": [
    "nonvia_GLflux_2300 = file_viability_info['ABUMIP'].sel(model=model_2300).where(time_br_2300 == non_viable_time_2300, drop=True).max('time')\n",
    "nonvia_SMB_2300 = file_viability_info['SMB'].squeeze().drop('scenario').sel(model=model_2300).where(time_br_2300 == non_viable_time_2300, drop=True).max('time') * (-1)\n",
    "nonvia_BMB_2300 = file_viability_info['BMB'].sel(model=model_2300).where(time_br_2300 == non_viable_time_2300, drop=True).max('time')\n",
    "nonvia_calv_2300 = 0 * file_viability_info['CALVING'].sel(model=model_2300).where(time_br_2300 == non_viable_time_2300, drop=True).max('time')"
   ]
  },
  {
   "cell_type": "code",
   "execution_count": null,
   "id": "79",
   "metadata": {},
   "outputs": [],
   "source": [
    "nonvia_SMB_perc_2300 = nonvia_SMB_2300 / nonvia_GLflux_2300 * 100\n",
    "nonvia_BMB_perc_2300 = nonvia_BMB_2300 / nonvia_GLflux_2300 * 100\n",
    "calv_perc_2300 = nonvia_calv_2300 / nonvia_GLflux_2300 * 100"
   ]
  },
  {
   "cell_type": "code",
   "execution_count": null,
   "id": "80",
   "metadata": {},
   "outputs": [],
   "source": [
    "nonvia_SMB_perc_mean_2300 = nonvia_SMB_perc_2300.weighted(bay_weights * sens_weights.sel(model=model_2300)).mean(['param','model','m'])\n",
    "nonvia_BMB_perc_mean_2300 = nonvia_BMB_perc_2300.weighted(bay_weights * sens_weights.sel(model=model_2300)).mean(['param','model','m'])\n",
    "calv_perc_mean_2300 = calv_perc_2300.weighted(bay_weights * sens_weights.sel(model=model_2300)).mean(['param','model','m'])"
   ]
  },
  {
   "cell_type": "code",
   "execution_count": null,
   "id": "81",
   "metadata": {},
   "outputs": [],
   "source": [
    "plt.rcParams[\"hatch.linewidth\"] = 2"
   ]
  },
  {
   "cell_type": "code",
   "execution_count": null,
   "id": "82",
   "metadata": {},
   "outputs": [],
   "source": [
    "np.isfinite(nonvia_BMB_perc_mean_2300.sel(scenario='ssp126')).sum()"
   ]
  },
  {
   "cell_type": "code",
   "execution_count": null,
   "id": "83",
   "metadata": {},
   "outputs": [],
   "source": [
    "49/53"
   ]
  },
  {
   "cell_type": "code",
   "execution_count": null,
   "id": "84",
   "metadata": {},
   "outputs": [],
   "source": [
    "(file_isf['ISF_mask'] == 41).plot()"
   ]
  },
  {
   "cell_type": "code",
   "execution_count": null,
   "id": "85",
   "metadata": {},
   "outputs": [],
   "source": [
    "for kisf in [26,32,34,41,67]:\n",
    "    print(file_isf['isf_name'].sel(Nisf=kisf).values)"
   ]
  },
  {
   "cell_type": "code",
   "execution_count": null,
   "id": "86",
   "metadata": {},
   "outputs": [],
   "source": [
    "nonvia_BMB_perc_mean_2300.sel(scenario='ssp585').where(nonvia_BMB_perc_mean_2300.sel(scenario='ssp585') < 50, drop=True)"
   ]
  },
  {
   "cell_type": "code",
   "execution_count": null,
   "id": "87",
   "metadata": {},
   "outputs": [],
   "source": [
    "nonvia_SMB_perc_mean_2300.sel(scenario='ssp126').mean()"
   ]
  },
  {
   "cell_type": "code",
   "execution_count": null,
   "id": "88",
   "metadata": {},
   "outputs": [],
   "source": [
    "nonvia_SMB_perc_mean_2300.sel(scenario='ssp585').where(nonvia_SMB_perc_mean_2300.sel(scenario='ssp585') == nonvia_SMB_perc_mean_2300.sel(scenario='ssp585').where(nonvia_SMB_perc_mean_2300.sel(scenario='ssp585') > 0).max(), drop=True)"
   ]
  },
  {
   "cell_type": "code",
   "execution_count": null,
   "id": "89",
   "metadata": {},
   "outputs": [],
   "source": [
    "36/64"
   ]
  },
  {
   "cell_type": "code",
   "execution_count": null,
   "id": "90",
   "metadata": {},
   "outputs": [],
   "source": [
    "file_isf['isf_name'].where(file_isf['isf_name'] == 'Crosson', drop=True)"
   ]
  },
  {
   "cell_type": "code",
   "execution_count": null,
   "id": "91",
   "metadata": {},
   "outputs": [],
   "source": [
    "for kisf in file_isf.Nisf:\n",
    "    prop_to_reach_ABUMIP = (ABUMIP_weighted_mean.sel(Nisf=kisf) - flux_ref_weighted_mean.sel(Nisf=kisf)) / flux_ref_weighted_mean.sel(Nisf=kisf)\n",
    "    print(kisf.values,file_isf['isf_name'].sel(Nisf=kisf).values,np.round(prop_to_reach_ABUMIP*100,1).values)\n"
   ]
  },
  {
   "cell_type": "code",
   "execution_count": null,
   "id": "92",
   "metadata": {},
   "outputs": [],
   "source": [
    "plt.scatter(flux_ref_weighted_mean,ABUMIP_weighted_mean)"
   ]
  },
  {
   "cell_type": "code",
   "execution_count": null,
   "id": "93",
   "metadata": {},
   "outputs": [],
   "source": [
    "(file_isf['ISF_mask'] == 26).plot()"
   ]
  },
  {
   "cell_type": "code",
   "execution_count": null,
   "id": "94",
   "metadata": {},
   "outputs": [],
   "source": [
    "(nonvia_SMB_perc_mean_2300.sel(scenario='ssp126') > 0).sum()/64"
   ]
  },
  {
   "cell_type": "code",
   "execution_count": null,
   "id": "95",
   "metadata": {},
   "outputs": [],
   "source": [
    "nonvia_SMB_perc_mean_2300.sel(scenario='ssp585').mean()"
   ]
  },
  {
   "cell_type": "code",
   "execution_count": null,
   "id": "96",
   "metadata": {},
   "outputs": [],
   "source": [
    "nonvia_SMB_perc_mean_2300"
   ]
  },
  {
   "cell_type": "code",
   "execution_count": null,
   "id": "97",
   "metadata": {},
   "outputs": [],
   "source": [
    "nonvia_SMB_perc_mean_2300.sel(scenario='ssp126').mean()"
   ]
  },
  {
   "cell_type": "code",
   "execution_count": null,
   "id": "98",
   "metadata": {},
   "outputs": [],
   "source": [
    "plt.rcParams[\"hatch.linewidth\"] = 2"
   ]
  },
  {
   "cell_type": "code",
   "execution_count": null,
   "id": "99",
   "metadata": {},
   "outputs": [],
   "source": [
    "#scen = 'ssp126'\n",
    "yy = 2300\n",
    "\n",
    "if yy == 2300:\n",
    "    via_to_plot = quant_distrib_2300.sel(time=2297)\n",
    "else:\n",
    "    via_to_plot = quant_distrib.sel(time=yy)\n",
    "\n",
    "map_to_plot = file_isf['ISF_mask'] * np.nan\n",
    "map_to_plot2 = file_isf['ISF_mask'] * np.nan\n",
    "grounded_basin_kisf = file_isf['ISF_mask'] * np.nan\n",
    "\n",
    "for kisf in tqdm(file_isf['Nisf']):\n",
    "    map_to_plot = map_to_plot.where(file_isf['ISF_mask'] != kisf, via_to_plot.sel(Nisf=kisf))\n",
    "    other_Nisf = mask_basins['ID_IMBIE'].sel(Nisf=kisf)\n",
    "    #print(kisf.values,file_isf['isf_name'].sel(Nisf=kisf).values, other_Nisf.values)\n",
    "    grounded_basin_kisf = grounded_basin_kisf.where(grounded_basin != other_Nisf, kisf)\n",
    "    map_to_plot2 = map_to_plot2.where(grounded_basin != other_Nisf, via_to_plot.sel(Nisf=kisf))\n",
    "map_to_plot_all = map_to_plot.combine_first(map_to_plot2)\n",
    "grounded_basin_kisf = grounded_basin_kisf.where(np.isfinite(grounded_basin_kisf), 76)\n",
    "\n",
    "fig, ax = plt.subplots(figsize=(8.25,8.25))\n",
    "# MAR masks:\n",
    "grd=file_isf['ISF_mask']\n",
    "msk_ice = grd.where( (grd>0.) )* 0 + 1\n",
    "\n",
    "# Basin masks:\n",
    "basin=xr.open_dataset('/bettik/burgardc/DATA/SUMMER_PAPER/interim/Mask_Iceshelf_4km_IMBIE_withNisf.nc')\n",
    "\n",
    "##########################################################################\n",
    "# PLOT :\n",
    "\n",
    "#----------\n",
    "# Colorbar:\n",
    "#cbar_range = np.arange(0.,4200.,200.)\n",
    "#newcolors = col(np.linspace(0.47, 1.00,256))\n",
    "\n",
    "#----------\n",
    "# Defining colormap:\n",
    "\n",
    "# moving the zero of colorbar\n",
    "# NB: modify the Ncool to Nwarm ratio (total=256) to place zero as desired.\n",
    "#Ncool=int(256*(-np.amin(cbar_range)/(np.amax(cbar_range)-np.amin(cbar_range))))\n",
    "#Nwarm=256-Ncool\n",
    "#col = cm.get_cmap('PuOr', 256)\n",
    "#tmp1 = col(np.linspace(0.47, 1.00, Ncool)) # decrease first number to have more white in the middle light-blue colors\n",
    "#tmp2 = col(np.linspace(0.00, 0.51, Nwarm)) # increase second number to have more white in the middle light-yellow colors\n",
    "#newcolors = np.append(tmp1[::-1,:],tmp2[::-1,:],axis=0)\n",
    "#newcolors = col(np.linspace(0.47, 1.00,256))\n",
    "#cmap_new = ListedColormap(newcolors)\n",
    "\n",
    "levels = range(10,77)\n",
    "\n",
    "#cax=fig.add_axes([0.52, 0.02, 0.43, 0.015]) # color bar\n",
    "im0=plt.contourf(grd.x,grd.y,map_to_plot,extend='max',cmap=cmap_new2, norm=norm, levels=bounds)\n",
    "plt.contourf(grd.x,grd.y,map_to_plot2,extend='max',cmap=cmap_new2, norm=norm, levels=bounds) #, alpha=0.7\n",
    "#plt.contour(grd.x,grd.y,map_to_plot2,extend='max',colors='grey',zorder=15)\n",
    "plt.contour(grd.x,grd.y,file_isf['ISF_mask'],levels,linewidths=0.7,colors='darkgrey',linestyles='solid',zorder=10) #.where(np.isnan(grounded_msk))\n",
    "plt.contour(grd.x,grd.y,grounded_basin_kisf,levels,linewidths=0.7,colors='darkgrey',linestyles='solid',zorder=10)\n",
    "plt.contour(grd.x,grd.y,grounded_msk,linewidths=0.7,colors='darkgrey',zorder=12)\n",
    "plt.contour(grd.x,grd.y,icesheet_msk,linewidths=0.9,colors='black',zorder=15)\n",
    "\n",
    "#if yy == 2100:\n",
    "#    SMB_to_plot = nonvia_SMB_perc_mean.sel(scenario=scen)/100 \n",
    "#    BMB_to_plot = nonvia_BMB_perc_mean.sel(scenario=scen)/100\n",
    "#    calv_to_plot = calv_perc_mean.sel(scenario=scen)/100\n",
    "#elif yy == 2300:\n",
    "SMB_to_plot = nonvia_SMB_perc_mean_2300/100 \n",
    "BMB_to_plot = nonvia_BMB_perc_mean_2300/100\n",
    "calv_to_plot = calv_perc_mean_2300/100\n",
    "\n",
    "\n",
    "center_dim_masked = center_dim.where(np.isfinite(BMB_to_plot))\n",
    "ax.plot([center_dim_masked['center_x'].squeeze().values, center_dim_masked['center_x_oc'].squeeze().values], [center_dim_masked['center_y'].squeeze().values, center_dim_masked['center_y_oc'].squeeze().values], linestyle=\"-\", color = 'k', linewidth = 0.5)\n",
    "\n",
    "\n",
    "for kisf in tqdm(file_isf['Nisf']):\n",
    "    \n",
    "    pos_x = center_dim['center_x_oc'].sel(Nisf=kisf).squeeze().values\n",
    "    pos_y = center_dim['center_y_oc'].sel(Nisf=kisf).squeeze().values\n",
    "    \n",
    "    \n",
    "    prop_ABUMIP = ABUMIP_weighted_mean.sel(Nisf=kisf) / ABUMIP_weighted_mean.max().values\n",
    "    prop_ref = flux_ref_weighted_mean.sel(Nisf=kisf) / ABUMIP_weighted_mean.max().values\n",
    "    radius = np.sqrt(prop_ABUMIP/np.pi) * 4\n",
    "    radius2 = np.sqrt(prop_ref/np.pi) * 4\n",
    "\n",
    "    if (prop_ABUMIP > 0) & (prop_ABUMIP > prop_ref):\n",
    "    \n",
    "        \n",
    "        if kisf.values in SMB_to_plot.Nisf.values:\n",
    "            if np.isfinite(BMB_to_plot.sel(Nisf=kisf)):\n",
    "                if SMB_to_plot.sel(Nisf=kisf) > 0:\n",
    "                    size = [SMB_to_plot.sel(Nisf=kisf), BMB_to_plot.sel(Nisf=kisf), calv_to_plot.sel(Nisf=kisf)]\n",
    "                else:\n",
    "                    size = [-1*SMB_to_plot.sel(Nisf=kisf), BMB_to_plot.sel(Nisf=kisf) - SMB_to_plot.sel(Nisf=kisf), calv_to_plot.sel(Nisf=kisf)]\n",
    "    \n",
    "            else:\n",
    "                size = [1]\n",
    "                radius = SMB_to_plot.sel(Nisf=kisf)\n",
    "    \n",
    "                \n",
    "        if kisf.values in SMB_to_plot.Nisf.values: \n",
    "            if SMB_to_plot.sel(Nisf=kisf) > 0:   \n",
    "                \n",
    "                #ax.plot([center_dim['center_x'].sel(Nisf=kisf).squeeze().values, center_dim['center_x_oc'].sel(Nisf=kisf).squeeze().values], \n",
    "                #        [center_dim['center_y'].sel(Nisf=kisf).squeeze().values, center_dim['center_y_oc'].sel(Nisf=kisf).squeeze().values], linestyle=\"-\", color = 'k', linewidth = 0.5)\n",
    "        \n",
    "                ax_sub = inset_axes(ax, width=radius.values.item(), height=radius.values.item(), loc=10, \n",
    "                                   bbox_to_anchor=(pos_x, pos_y),\n",
    "                                   bbox_transform=ax.transData, \n",
    "                                   borderpad=0)\n",
    "                ax_sub.pie(np.array(size), colors=['orange','c','olive'], startangle=90)\n",
    "                #ax_sub.set_aspect(\"equal\")\n",
    "            else:\n",
    "                ax_sub = inset_axes(ax, width=radius.values.item(), height=radius.values.item(), loc=10, \n",
    "                                   bbox_to_anchor=(pos_x, pos_y),\n",
    "                                   bbox_transform=ax.transData, \n",
    "                                   borderpad=0)\n",
    "                wedges, _ = ax_sub.pie(np.array(size), colors=['c','c','olive'], hatch=['','',''], startangle=90) #//\n",
    "                #ax_sub.set_aspect(\"equal\") \n",
    "                pie_wedge = wedges[0]\n",
    "                pie_wedge.set_edgecolor('orange')\n",
    "                pie_wedge.set_linewidth(3)\n",
    "                pie_wedge.set_facecolor('c')\n",
    "                #pie_wedge.set_hatch('-') #///\n",
    "        \n",
    "        else:\n",
    "                ax_sub = inset_axes(ax, width=radius.values.item()*np.nan, height=radius.values.item()*np.nan, loc=10, \n",
    "                                   bbox_to_anchor=(pos_x, pos_y),\n",
    "                                   bbox_transform=ax.transData, \n",
    "                                   borderpad=0)\n",
    "                ax_sub.pie(np.array(size), colors=['orange','c','olive'], startangle=90)\n",
    "                ax_sub.set_aspect(\"equal\")\n",
    "                \n",
    "        if np.isfinite(BMB_to_plot.sel(Nisf=kisf)):\n",
    "    \n",
    "            ax_sub2 = inset_axes(ax, width=radius2.values.item(), height=radius2.values.item(), loc=10, \n",
    "                           bbox_to_anchor=(pos_x, pos_y),\n",
    "                           bbox_transform=ax.transData, \n",
    "                           borderpad=0)\n",
    "            ax_sub2.pie(np.array([1]), colors=['lightgrey'], startangle=90)\n",
    "    \n",
    "            ax_sub2.set_aspect(\"equal\")\n",
    "            \n",
    "    else:\n",
    "        print(kisf.values, file_isf['isf_name'].sel(Nisf=kisf).values)\n",
    "\n",
    "#ax2 = ax.twinx()\n",
    "#ax2.scatter(center_dim['center_x_oc'], center_dim['center_y_oc'], s=flux_ref_weighted_mean, color='lightskyblue', zorder=20)\n",
    "\n",
    "ax.set_title('Viability probability '+str(yy)+' ElmerIcegeo '+str(geoyear))\n",
    "ax.set_axis_off()\n",
    "\n",
    "#ax2 = fig.add_axes([0.90, 0.1, 0.03, 0.8])\n",
    "#cb = mpl.colorbar.ColorbarBase(ax2, cmap=cmap_new, norm=norm,\n",
    "#    spacing='proportional', ticks=np.arange(0.5,5), boundaries=bounds) #, format='%1i'\n",
    "#cb.set_ticklabels(likelihood_list, rotation=90)\n",
    "\n",
    "#plt.tight_layout()\n",
    "fig.savefig(plot_path + 'map_2D_likelihood_'+str(yy)+'_withpiecharts_withproportionality_ElmerIcegeo'+str(geoyear)+'.png', dpi=300)"
   ]
  },
  {
   "cell_type": "code",
   "execution_count": null,
   "id": "100",
   "metadata": {},
   "outputs": [],
   "source": [
    "SMB_to_plot"
   ]
  },
  {
   "cell_type": "raw",
   "id": "101",
   "metadata": {},
   "source": [
    "radius3"
   ]
  },
  {
   "cell_type": "code",
   "execution_count": null,
   "id": "102",
   "metadata": {},
   "outputs": [],
   "source": [
    "scen = 'ssp585'\n",
    "yy = 2300\n",
    "\n",
    "\n",
    "fig, ax = plt.subplots(figsize=(8.25,8.25))\n",
    "# MAR masks:\n",
    "grd=file_isf['ISF_mask']\n",
    "msk_ice = grd.where( (grd>0.) )* 0 + 1\n",
    "\n",
    "# Basin masks:\n",
    "basin=xr.open_dataset('/bettik/burgardc/DATA/SUMMER_PAPER/interim/Mask_Iceshelf_4km_IMBIE_withNisf.nc')\n",
    "\n",
    "##########################################################################\n",
    "# PLOT :\n",
    "\n",
    "#----------\n",
    "# Colorbar:\n",
    "#cbar_range = np.arange(0.,4200.,200.)\n",
    "#newcolors = col(np.linspace(0.47, 1.00,256))\n",
    "\n",
    "#----------\n",
    "# Defining colormap:\n",
    "\n",
    "# moving the zero of colorbar\n",
    "# NB: modify the Ncool to Nwarm ratio (total=256) to place zero as desired.\n",
    "#Ncool=int(256*(-np.amin(cbar_range)/(np.amax(cbar_range)-np.amin(cbar_range))))\n",
    "#Nwarm=256-Ncool\n",
    "#col = cm.get_cmap('PuOr', 256)\n",
    "#tmp1 = col(np.linspace(0.47, 1.00, Ncool)) # decrease first number to have more white in the middle light-blue colors\n",
    "#tmp2 = col(np.linspace(0.00, 0.51, Nwarm)) # increase second number to have more white in the middle light-yellow colors\n",
    "#newcolors = np.append(tmp1[::-1,:],tmp2[::-1,:],axis=0)\n",
    "#newcolors = col(np.linspace(0.47, 1.00,256))\n",
    "#cmap_new = ListedColormap(newcolors)\n",
    "\n",
    "levels = range(10,77)\n",
    "\n",
    "#cax=fig.add_axes([0.52, 0.02, 0.43, 0.015]) # color bar\n",
    "im0=plt.contourf(grd.x,grd.y,map_to_plot,extend='max',cmap=cmap_new2, norm=norm, levels=bounds)\n",
    "plt.contourf(grd.x,grd.y,map_to_plot2,extend='max',cmap=cmap_new2, norm=norm, levels=bounds) #, alpha=0.7\n",
    "#plt.contour(grd.x,grd.y,map_to_plot2,extend='max',colors='grey',zorder=15)\n",
    "#plt.contour(grd.x,grd.y,file_isf['ISF_mask'],levels,linewidths=0.7,colors='darkgrey',linestyles='solid',zorder=10) #.where(np.isnan(grounded_msk))\n",
    "#plt.contour(grd.x,grd.y,grounded_basin_kisf,levels,linewidths=0.7,colors='darkgrey',linestyles='solid',zorder=10)\n",
    "#plt.contour(grd.x,grd.y,grounded_msk,linewidths=0.7,colors='darkgrey',zorder=12)\n",
    "#plt.contour(grd.x,grd.y,icesheet_msk,linewidths=0.9,colors='black',zorder=15)\n",
    "\n",
    "#if yy == 2100:\n",
    "#    SMB_to_plot = nonvia_SMB_perc_mean.sel(scenario=scen)/100 \n",
    "#    BMB_to_plot = nonvia_BMB_perc_mean.sel(scenario=scen)/100\n",
    "#    calv_to_plot = calv_perc_mean.sel(scenario=scen)/100\n",
    "#elif yy == 2300:\n",
    "SMB_to_plot = nonvia_SMB_perc_mean_2300.sel(scenario=scen)/100 \n",
    "BMB_to_plot = nonvia_BMB_perc_mean_2300.sel(scenario=scen)/100\n",
    "calv_to_plot = calv_perc_mean_2300.sel(scenario=scen)/100\n",
    "\n",
    "\n",
    "center_dim_masked = center_dim.where(np.isfinite(BMB_to_plot))\n",
    "\n",
    "\n",
    "kisf = 11\n",
    "\n",
    "pos_x = center_dim['center_x_oc'].sel(Nisf=kisf).squeeze().values\n",
    "pos_y = center_dim['center_y_oc'].sel(Nisf=kisf).squeeze().values\n",
    "\n",
    "\n",
    "prop_100 = 100 / ABUMIP_weighted_mean.max().values\n",
    "prop_500 = 500 / ABUMIP_weighted_mean.max().values\n",
    "prop_1000 = 1000 / ABUMIP_weighted_mean.max().values\n",
    "prop_4000 = 4000 / ABUMIP_weighted_mean.max().values\n",
    "\n",
    "\n",
    "radius = np.sqrt(prop_100/np.pi) * 4\n",
    "radius2 = np.sqrt(prop_500/np.pi) * 4\n",
    "radius3 = np.sqrt(prop_1000/np.pi) * 4\n",
    "radius4 = np.sqrt(prop_4000/np.pi) * 4\n",
    "\n",
    "ax_sub = inset_axes(ax, width=radius4, height=radius4, loc=10, \n",
    "                   bbox_to_anchor=(pos_x, pos_y),\n",
    "                   bbox_transform=ax.transData, \n",
    "                   borderpad=0)\n",
    "ax_sub.pie(np.array([1.0]), colors=['white'], startangle=90, wedgeprops={'edgecolor': 'black'})\n",
    "\n",
    "ax_sub = inset_axes(ax, width=radius3, height=radius3, loc=10, \n",
    "                   bbox_to_anchor=(pos_x, pos_y),\n",
    "                   bbox_transform=ax.transData, \n",
    "                   borderpad=0)\n",
    "ax_sub.pie(np.array([1.0]), colors=['white'], startangle=90, wedgeprops={'edgecolor': 'black'})\n",
    "\n",
    "ax_sub = inset_axes(ax, width=radius2, height=radius2, loc=10, \n",
    "                   bbox_to_anchor=(pos_x, pos_y),\n",
    "                   bbox_transform=ax.transData, \n",
    "                   borderpad=0)\n",
    "ax_sub.pie(np.array([1.0]), colors=['white'], startangle=90, wedgeprops={'edgecolor': 'black'})\n",
    "\n",
    "ax_sub = inset_axes(ax, width=radius, height=radius, loc=10, \n",
    "                   bbox_to_anchor=(pos_x, pos_y),\n",
    "                   bbox_transform=ax.transData, \n",
    "                   borderpad=0)\n",
    "ax_sub.pie(np.array([1.0]), colors=['white'], startangle=90, wedgeprops={'edgecolor': 'black'})\n",
    "\n",
    "ax.set_axis_off()\n",
    "fig.savefig(plot_path + 'piechart_size_100_500_1000_4000.pdf', dpi=300)"
   ]
  },
  {
   "cell_type": "code",
   "execution_count": null,
   "id": "103",
   "metadata": {},
   "outputs": [],
   "source": [
    "BMB_to_plot.sel(Nisf=kisf)"
   ]
  },
  {
   "cell_type": "code",
   "execution_count": null,
   "id": "104",
   "metadata": {},
   "outputs": [],
   "source": [
    "scen = 'ssp585'\n",
    "\n",
    "fig, ax = plt.subplots(figsize=(8.25,8.25))\n",
    "# MAR masks:\n",
    "grd=file_isf['ISF_mask']\n",
    "msk_ice = grd.where( (grd>0.) )* 0 + 1\n",
    "\n",
    "# Basin masks:\n",
    "basin=xr.open_dataset('/bettik/burgardc/DATA/SUMMER_PAPER/interim/Mask_Iceshelf_4km_IMBIE_withNisf.nc')\n",
    "\n",
    "##########################################################################\n",
    "# PLOT :\n",
    "\n",
    "#----------\n",
    "# Colorbar:\n",
    "#cbar_range = np.arange(0.,4200.,200.)\n",
    "#newcolors = col(np.linspace(0.47, 1.00,256))\n",
    "\n",
    "#----------\n",
    "# Defining colormap:\n",
    "\n",
    "# moving the zero of colorbar\n",
    "# NB: modify the Ncool to Nwarm ratio (total=256) to place zero as desired.\n",
    "#Ncool=int(256*(-np.amin(cbar_range)/(np.amax(cbar_range)-np.amin(cbar_range))))\n",
    "#Nwarm=256-Ncool\n",
    "#col = cm.get_cmap('PuOr', 256)\n",
    "#tmp1 = col(np.linspace(0.47, 1.00, Ncool)) # decrease first number to have more white in the middle light-blue colors\n",
    "#tmp2 = col(np.linspace(0.00, 0.51, Nwarm)) # increase second number to have more white in the middle light-yellow colors\n",
    "#newcolors = np.append(tmp1[::-1,:],tmp2[::-1,:],axis=0)\n",
    "#newcolors = col(np.linspace(0.47, 1.00,256))\n",
    "#cmap_new = ListedColormap(newcolors)\n",
    "\n",
    "levels = range(10,77)\n",
    "\n",
    "#cax=fig.add_axes([0.52, 0.02, 0.43, 0.015]) # color bar\n",
    "im0=plt.contourf(grd.x,grd.y,map_to_plot,extend='max',cmap=cmap_new, norm=norm)\n",
    "ax.contourf(grd.x,grd.y,map_to_plot2,extend='max',cmap=cmap_new, norm=norm, alpha=0.7)\n",
    "#plt.contour(grd.x,grd.y,map_to_plot2,extend='max',colors='grey',zorder=15)\n",
    "ax.contour(grd.x,grd.y,grounded_basin_kisf,levels,linewidths=0.5,colors='grey',zorder=0)\n",
    "ax.contour(grd.x,grd.y,grounded_msk,linewidths=0.5,colors='black',zorder=0)\n",
    "ax.contour(grd.x,grd.y,icesheet_msk,linewidths=0.1,colors='black',zorder=5)\n",
    "ax.plot([center_dim['center_x'].squeeze().values, center_dim['center_x_oc'].squeeze().values], [center_dim['center_y'].squeeze().values, center_dim['center_y_oc'].squeeze().values], linestyle=\"-\", color = 'k', linewidth = 0.5)\n",
    "\n",
    "SMB_to_plot = nonvia_SMB_perc_mean_2300.sel(scenario=scen)/100 \n",
    "BMB_to_plot = nonvia_BMB_perc_mean_2300.sel(scenario=scen)/100\n",
    "calv_to_plot = calv_perc_mean_2300.sel(scenario=scen)/100\n",
    "\n",
    "for kisf in tqdm(file_isf['Nisf']):\n",
    "    pos_x = center_dim['center_x_oc'].sel(Nisf=kisf).squeeze().values\n",
    "    pos_y = center_dim['center_y_oc'].sel(Nisf=kisf).squeeze().values\n",
    "    \n",
    "    prop_ABUMIP = ABUMIP_weighted_mean.sel(Nisf=kisf) / ABUMIP_weighted_mean.max().values\n",
    "    prop_ref = flux_ref_weighted_mean.sel(Nisf=kisf) / ABUMIP_weighted_mean.max().values\n",
    "    radius = np.sqrt(prop_ABUMIP/np.pi) * 4\n",
    "    radius2 = np.sqrt(prop_ref/np.pi) * 4\n",
    "    \n",
    "    if kisf.values in SMB_to_plot.Nisf.values:\n",
    "        if np.isfinite(BMB_to_plot.sel(Nisf=kisf)):\n",
    "            if SMB_to_plot.sel(Nisf=kisf) > 0:\n",
    "                size = [SMB_to_plot.sel(Nisf=kisf), BMB_to_plot.sel(Nisf=kisf), calv_to_plot.sel(Nisf=kisf)]\n",
    "            else:\n",
    "                size = [-1*SMB_to_plot.sel(Nisf=kisf), BMB_to_plot.sel(Nisf=kisf) - SMB_to_plot.sel(Nisf=kisf), calv_to_plot.sel(Nisf=kisf)]\n",
    "\n",
    "        else:\n",
    "            radius = SMB_to_plot.sel(Nisf=kisf)\n",
    "\n",
    "            \n",
    "    if kisf.values in SMB_to_plot.Nisf.values:    \n",
    "        if SMB_to_plot.sel(Nisf=kisf) > 0:   \n",
    "            ax_sub = inset_axes(ax, width=radius.values.item(), height=radius.values.item(), loc=10, \n",
    "                               bbox_to_anchor=(pos_x, pos_y),\n",
    "                               bbox_transform=ax.transData, \n",
    "                               borderpad=0)\n",
    "            ax_sub.pie(np.array(size), colors=['orange','blue','olive'], startangle=90)\n",
    "            #ax_sub.set_aspect(\"equal\")\n",
    "        else:\n",
    "            ax_sub = inset_axes(ax, width=radius.values.item(), height=radius.values.item(), loc=10, \n",
    "                               bbox_to_anchor=(pos_x, pos_y),\n",
    "                               bbox_transform=ax.transData, \n",
    "                               borderpad=0)\n",
    "            wedges, _ = ax_sub.pie(np.array(size), colors=['blue','blue','olive'], hatch=['//','',''], startangle=90) #\n",
    "            #ax_sub.set_aspect(\"equal\")\n",
    "            pie_wedge = wedges[0]\n",
    "            pie_wedge.set_edgecolor('orange')\n",
    "            pie_wedge.set_facecolor('blue')\n",
    "            pie_wedge.set_hatch('///')\n",
    "    \n",
    "    else:\n",
    "            ax_sub = inset_axes(ax, width=radius.values.item()*np.nan, height=radius.values.item()*np.nan, loc=10, \n",
    "                               bbox_to_anchor=(pos_x, pos_y),\n",
    "                               bbox_transform=ax.transData, \n",
    "                               borderpad=0)\n",
    "            ax_sub.pie(np.array(size), colors=['orange','blue','olive'], startangle=90)\n",
    "            #ax_sub.set_aspect(\"equal\")\n",
    "            \n",
    "        \n",
    "\n",
    "    ax_sub2 = inset_axes(ax, width=radius2.values.item(), height=radius2.values.item(), loc=10, \n",
    "                   bbox_to_anchor=(pos_x, pos_y),\n",
    "                   bbox_transform=ax.transData, \n",
    "                   borderpad=0)\n",
    "    ax_sub2.pie(np.array([1]), colors=['lightskyblue'], startangle=90)\n",
    "\n",
    "    ax_sub2.set_aspect(\"equal\")\n",
    "\n",
    "#ax2 = ax.twinx()\n",
    "#ax2.scatter(center_dim['center_x_oc'], center_dim['center_y_oc'], s=flux_ref_weighted_mean, color='lightskyblue', zorder=20)\n",
    "\n",
    "ax.set_title('Viability probability '+str(yy)+' ElmerIcegeo '+str(geoyear)\n",
    "\n",
    "#ax2 = fig.add_axes([0.90, 0.1, 0.03, 0.8])\n",
    "#cb = mpl.colorbar.ColorbarBase(ax2, cmap=cmap_new, norm=norm,\n",
    "#    spacing='proportional', ticks=np.arange(0.5,5), boundaries=bounds) #, format='%1i'\n",
    "#cb.set_ticklabels(likelihood_list, rotation=90)\n",
    "\n",
    "#plt.tight_layout()\n",
    "fig.savefig(plot_path + 'map_2D_likelihood_'+str(yy)+'_withpiecharts_withproportionality_ElmerIcegeo'+str(geoyear)+'.png', dpi=300)"
   ]
  },
  {
   "cell_type": "code",
   "execution_count": null,
   "id": "105",
   "metadata": {},
   "outputs": [],
   "source": [
    "for kisf in tqdm(file_isf['Nisf']):\n",
    "    print(kisf.values,file_isf['isf_name'].sel(Nisf=kisf).values)"
   ]
  },
  {
   "cell_type": "code",
   "execution_count": null,
   "id": "106",
   "metadata": {},
   "outputs": [],
   "source": [
    "fig,ax = plt.subplots()\n",
    "ax.set_aspect('equal')\n",
    "p1,t1 = plt.pie([50,50], center=(0,0))\n",
    "p2,t2 = plt.pie([1,1,1,1], center=(1.2,0)) # this pie-chart is over the first one\n",
    "\n",
    "[p.set_zorder(-1) for p in p2]"
   ]
  },
  {
   "cell_type": "code",
   "execution_count": null,
   "id": "107",
   "metadata": {},
   "outputs": [],
   "source": [
    "plt.scatter(center_dim['center_x_oc'],center_dim['center_y_oc'], s= flux_ref_weighted_mean, color='lightskyblue')"
   ]
  },
  {
   "cell_type": "code",
   "execution_count": null,
   "id": "108",
   "metadata": {},
   "outputs": [],
   "source": [
    "radius_outer"
   ]
  },
  {
   "cell_type": "code",
   "execution_count": null,
   "id": "109",
   "metadata": {},
   "outputs": [],
   "source": [
    "np.array(radius.values)"
   ]
  },
  {
   "cell_type": "code",
   "execution_count": null,
   "id": "110",
   "metadata": {},
   "outputs": [],
   "source": [
    "    ax_sub= inset_axes(ax, width=width, height=width, loc=10, \n",
    "                       bbox_to_anchor=(ilon, ilat),\n",
    "                       bbox_transform=ax.transData, \n",
    "                       borderpad=0)\n",
    "    wedges,texts= ax_sub.pie(data)\n",
    "\n",
    "    ax_sub.set_aspect(\"equal\")"
   ]
  },
  {
   "cell_type": "code",
   "execution_count": null,
   "id": "111",
   "metadata": {},
   "outputs": [],
   "source": []
  },
  {
   "cell_type": "code",
   "execution_count": null,
   "id": "112",
   "metadata": {},
   "outputs": [],
   "source": [
    "(flux_ref_weighted_mean.sel(Nisf=kisf))/ABUMIP_weighted_mean.sel(Nisf=kisf)"
   ]
  },
  {
   "cell_type": "code",
   "execution_count": null,
   "id": "113",
   "metadata": {},
   "outputs": [],
   "source": [
    "(ABUMIP_weighted_mean.sel(Nisf=kisf) - flux_ref_weighted_mean.sel(Nisf=kisf))/ABUMIP_weighted_mean.sel(Nisf=kisf)"
   ]
  },
  {
   "cell_type": "code",
   "execution_count": null,
   "id": "114",
   "metadata": {},
   "outputs": [],
   "source": [
    "flux_ref_weighted_mean"
   ]
  },
  {
   "cell_type": "code",
   "execution_count": null,
   "id": "115",
   "metadata": {},
   "outputs": [],
   "source": [
    "ABUMIP_weighted_mean"
   ]
  },
  {
   "cell_type": "code",
   "execution_count": null,
   "id": "116",
   "metadata": {},
   "outputs": [],
   "source": [
    "(ABUMIP_weighted_mean.sel(Nisf=kisf)/ABUMIP_weighted_mean.max()).values"
   ]
  },
  {
   "cell_type": "code",
   "execution_count": null,
   "id": "117",
   "metadata": {},
   "outputs": [],
   "source": [
    "kisf = 10\n",
    "a = plt.pie(\n",
    "    [(flux_ref_weighted_mean.sel(Nisf=kisf))/ABUMIP_weighted_mean.sel(Nisf=kisf), (ABUMIP_weighted_mean.sel(Nisf=kisf) - flux_ref_weighted_mean.sel(Nisf=kisf))/ABUMIP_weighted_mean.sel(Nisf=kisf)],\n",
    "    colors = ['lightblue', 'deepskyblue' ],\n",
    "    # wedgeprops={'alpha':1},\n",
    "    radius = (ABUMIP_weighted_mean.sel(Nisf=kisf)/ABUMIP_weighted_mean.max()).values + 0.5) \n"
   ]
  },
  {
   "cell_type": "code",
   "execution_count": null,
   "id": "118",
   "metadata": {},
   "outputs": [],
   "source": [
    "fig, axs = plt.subplots(nrows=1,ncols=1,figsize=(18.0,18.0))\n",
    "#im0=axs.contourf(grd.x,grd.y,via_to_plot,extend='max',cmap=cmap_new, norm=norm)\n",
    "axs.contour(grd.x,grd.y,grounded_msk,linewidths=0.5,colors='black',zorder=10)\n",
    "axs.contour(grd.x,grd.y,icesheet_msk,linewidths=0.5,colors='black',zorder=15)\n",
    "axs.scatter(center_dim['center_x'],center_dim['center_y'])\n",
    "axs.scatter(center_dim['center_x_oc'],center_dim['center_y_oc'])"
   ]
  }
 ],
 "metadata": {
  "kernelspec": {
   "display_name": "py38",
   "language": "python",
   "name": "py38"
  },
  "language_info": {
   "codemirror_mode": {
    "name": "ipython",
    "version": 3
   },
   "file_extension": ".py",
   "mimetype": "text/x-python",
   "name": "python",
   "nbconvert_exporter": "python",
   "pygments_lexer": "ipython3",
   "version": "3.8.20"
  }
 },
 "nbformat": 4,
 "nbformat_minor": 5
}
