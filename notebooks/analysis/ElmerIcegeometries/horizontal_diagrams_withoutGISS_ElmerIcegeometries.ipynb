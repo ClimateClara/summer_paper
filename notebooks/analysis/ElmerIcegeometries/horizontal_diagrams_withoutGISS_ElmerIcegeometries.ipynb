{
 "cells": [
  {
   "cell_type": "code",
   "execution_count": null,
   "id": "0",
   "metadata": {},
   "outputs": [],
   "source": [
    "\"\"\"\n",
    "Created on Mon Mar 04 17:32 2024\n",
    "\n",
    "Apply weights to long historical period\n",
    "\n",
    "Author: @claraburgard\n",
    "\n",
    "\"\"\""
   ]
  },
  {
   "cell_type": "code",
   "execution_count": null,
   "id": "1",
   "metadata": {},
   "outputs": [],
   "source": [
    "import xarray as xr\n",
    "import numpy as np\n",
    "from tqdm.notebook import tqdm\n",
    "import seaborn as sns\n",
    "import multimelt.useful_functions as uf\n",
    "import random\n",
    "import os"
   ]
  },
  {
   "cell_type": "code",
   "execution_count": null,
   "id": "2",
   "metadata": {},
   "outputs": [],
   "source": [
    "sns.set_context('paper')"
   ]
  },
  {
   "cell_type": "code",
   "execution_count": null,
   "id": "3",
   "metadata": {},
   "outputs": [],
   "source": [
    "%matplotlib qt5"
   ]
  },
  {
   "cell_type": "markdown",
   "id": "4",
   "metadata": {},
   "source": [
    "READ IN DATA"
   ]
  },
  {
   "cell_type": "code",
   "execution_count": null,
   "id": "5",
   "metadata": {},
   "outputs": [],
   "source": [
    "home_path = '/bettik/burgardc/'\n",
    "plot_path = '/bettik/burgardc/PLOTS/summer_paper_plots/'\n",
    "outputpath_GL = '/bettik/burgardc/DATA/SUMMER_PAPER/processed/GL_FLUX/'\n",
    "inputpath_weights = '/bettik/burgardc/DATA/SUMMER_PAPER/processed/ANALYSIS/'\n",
    "inputpath_atmo = '/bettik/burgardc/DATA/SUMMER_PAPER/raw/TS_SMB_DATA/out/'\n",
    "inputpath_mask = home_path+'/DATA/SUMMER_PAPER/interim/ANTARCTICA_IS_MASKS/ElmerIce_'+str(geoyear)+'/'\n",
    "\n"
   ]
  },
  {
   "cell_type": "code",
   "execution_count": null,
   "id": "6",
   "metadata": {},
   "outputs": [],
   "source": [
    "geoyear = 2100"
   ]
  },
  {
   "cell_type": "code",
   "execution_count": null,
   "id": "7",
   "metadata": {},
   "outputs": [],
   "source": [
    "file_isf_orig = xr.open_dataset(inputpath_mask+'ElmerIce_4km_'+str(geoyear)+'isf_masks_and_info_and_distance_oneFRIS.nc')\n",
    "nonnan_Nisf = file_isf_orig['Nisf'].where(np.isfinite(file_isf_orig['front_bot_depth_max']), drop=True).astype(int)\n",
    "file_isf_nonnan = file_isf_orig.sel(Nisf=nonnan_Nisf)\n",
    "sorted_isf_rignot = [11,69,43,28,12,57,\n",
    "                     70,44,29,13,58,71,45,30,14,\n",
    "                     59,72,46,\n",
    "                     31,\n",
    "                     15,61,73,47,32,16,48,33,17,62,49,34,18,63,74,\n",
    "                     50,35,19,64,\n",
    "                     10,\n",
    "                     36,20,65,51,37,\n",
    "                     22,38,52,23,66,53,39,24,\n",
    "                     67,40,54,75,25,41,\n",
    "                     26,42,55,68,60,27]\n",
    "file_isf = file_isf_nonnan.sel(Nisf=sorted_isf_rignot)\n",
    "file_isf['isf_name'] = file_isf['isf_name'].astype(str)"
   ]
  },
  {
   "cell_type": "code",
   "execution_count": null,
   "id": "8",
   "metadata": {},
   "outputs": [],
   "source": [
    "rignot_isf = sorted_isf_rignot"
   ]
  },
  {
   "cell_type": "code",
   "execution_count": null,
   "id": "9",
   "metadata": {},
   "outputs": [],
   "source": [
    "param_classic_list = ['linear_local',\n",
    "              'quadratic_local','quadratic_local_locslope',\n",
    "              'quadratic_mixed_mean','quadratic_mixed_locslope',\n",
    "              'lazero19',\n",
    "              'boxes_4_pismyes_picopno']\n",
    "\n",
    "param_NN_list = ['NNsmall']"
   ]
  },
  {
   "cell_type": "markdown",
   "id": "10",
   "metadata": {},
   "source": [
    "CALVING"
   ]
  },
  {
   "cell_type": "code",
   "execution_count": null,
   "id": "11",
   "metadata": {},
   "outputs": [],
   "source": [
    "inputpath_davison = home_path+'/DATA/SUMMER_PAPER/raw/'\n",
    "davison_file = xr.open_dataset(inputpath_davison + 'steadystate_davison23.nc')\n",
    "calving_flux = davison_file['calving_obs']"
   ]
  },
  {
   "cell_type": "markdown",
   "id": "12",
   "metadata": {},
   "source": [
    "ABUMIP GL FLUX"
   ]
  },
  {
   "cell_type": "code",
   "execution_count": null,
   "id": "13",
   "metadata": {},
   "outputs": [],
   "source": [
    "GL_flux = xr.open_dataset(outputpath_GL + 'all_GL_fluxes_varying_m_ElmerIcegeometries.nc')"
   ]
  },
  {
   "cell_type": "code",
   "execution_count": null,
   "id": "14",
   "metadata": {},
   "outputs": [],
   "source": [
    "GL_flux_ABUMIP = GL_flux.sel(geoyear=geoyear)"
   ]
  },
  {
   "cell_type": "markdown",
   "id": "15",
   "metadata": {},
   "source": [
    "SMB"
   ]
  },
  {
   "cell_type": "code",
   "execution_count": null,
   "id": "16",
   "metadata": {},
   "outputs": [],
   "source": [
    "def start_end_year(mod, scen):\n",
    "    if mod in ['CNRM-CM6-1','CNRM-ESM2-1']:\n",
    "        ens_run = 'r1i1p1f2'\n",
    "        to2300 = False\n",
    "    elif mod in ['GISS-E2-1-H']:\n",
    "        ens_run = 'r1i1p1f2'\n",
    "        to2300 = True\n",
    "    elif mod in ['ACCESS-CM2','ACCESS-ESM1-5','CESM2-WACCM','CanESM5','IPSL-CM6A-LR','MRI-ESM2-0']:\n",
    "        ens_run = 'r1i1p1f1'\n",
    "        to2300 = True\n",
    "    elif mod in ['MPI-ESM1-2-HR','GFDL-CM4','GFDL-ESM4']:\n",
    "        ens_run = 'r1i1p1f1'\n",
    "        to2300 = False\n",
    "    elif mod == 'UKESM1-0-LL':\n",
    "        ens_run = 'r4i1p1f2'\n",
    "        to2300 = True     \n",
    "    elif mod == 'CESM2':\n",
    "        ens_run = 'r11i1p1f1'\n",
    "        to2300 = False        \n",
    "\n",
    "\n",
    "    if scenario == 'historical':\n",
    "        yystart = 1850 #1850\n",
    "        yyend = 2014\n",
    "    elif scenario == 'ssp245':\n",
    "        yystart = 2015\n",
    "        yyend = 2100  \n",
    "    else:\n",
    "        if to2300:\n",
    "            yystart = 2015\n",
    "            yyend = 2299\n",
    "        else:\n",
    "            yystart = 2015\n",
    "            yyend = 2100  \n",
    "    \n",
    "    return ens_run, yystart, yyend"
   ]
  },
  {
   "cell_type": "code",
   "execution_count": null,
   "id": "17",
   "metadata": {},
   "outputs": [],
   "source": [
    "melt_atmo_list2 = []\n",
    "inputpath_atmo_Chris = '/bettik/burgardc/DATA/SUMMER_PAPER/raw/TS_SMB_DATA/out2/' #/bettik/burgardc/DATA/SUMMER_PAPER/raw/TS_SMB_DATA/out/\n",
    "inputpath_atmo_Nico = '/bettik/burgardc/DATA/SUMMER_PAPER/interim/SMB_EMULATED/'\n",
    "#for mod in ['ACCESS-ESM1-5','ACCESS-CM2','CESM2','CESM2-WACCM','CNRM-CM6-1','CNRM-ESM2-1',\n",
    "#            'CanESM5','GFDL-CM4','GFDL-ESM4','GISS-E2-1-H', 'IPSL-CM6A-LR',\n",
    "#           'MPI-ESM1-2-HR','MRI-ESM2-0','UKESM1-0-LL']:\n",
    "    \n",
    "melt_atmo3_list = []\n",
    "for scenario in ['historical','ssp126','ssp245','ssp585']: #\n",
    "\n",
    "    melt_atmo_list = []\n",
    "    for mod in ['CESM2','IPSL-CM6A-LR','MPI-ESM1-2-HR','UKESM1-0-LL']: #'CNRM-CM6-1',\n",
    "        \n",
    "        _, yystart, yyend = start_end_year(mod, scenario)\n",
    "        #print(mod,yystart,yyend)\n",
    "        \n",
    "        if (scenario == 'historical') and (yystart == 1850):\n",
    "            \n",
    "            melt_atmo_1850 = xr.open_dataset(inputpath_atmo_Nico+mod+'_SMB_'+scenario+'-1850-1979.nc').sel(Nisf=rignot_isf)\n",
    "            \n",
    "            if (os.path.exists(inputpath_atmo_Chris+mod+'_SMB_'+scenario+'-1980-2014.nc')):\n",
    "                melt_atmo = xr.open_dataset(inputpath_atmo_Chris+mod+'_SMB_'+scenario+'-1980-2014.nc').sel(Nisf=rignot_isf)\n",
    "                melt_atmo['time'] = melt_atmo['time'].dt.year\n",
    "            else:\n",
    "                melt_atmo = xr.open_dataset(inputpath_atmo_Nico+mod+'_SMB_'+scenario+'-1980-2014.nc').sel(Nisf=rignot_isf)\n",
    "                \n",
    "            melt_atmo_list.append(xr.concat([melt_atmo_1850['SMB'],melt_atmo['SMB']], dim='time').assign_coords({'model': mod}))\n",
    "\n",
    "        else:\n",
    "            \n",
    "            if os.path.exists(inputpath_atmo_Chris+mod+'_SMB_'+scenario+'-'+str(yystart)+'-'+str(yyend)+'.nc'):\n",
    "                melt_atmo = xr.open_dataset(inputpath_atmo_Chris+mod+'_SMB_'+scenario+'-'+str(yystart)+'-'+str(yyend)+'.nc').sel(Nisf=rignot_isf)\n",
    "                melt_atmo['time'] = melt_atmo['time'].dt.year\n",
    "                melt_atmo_list.append(melt_atmo['SMB'].assign_coords({'model': mod}))\n",
    "            else:\n",
    "                melt_atmo = xr.open_dataset(inputpath_atmo_Nico+mod+'_SMB_'+scenario+'-'+str(yystart)+'-'+str(yyend)+'.nc').sel(Nisf=rignot_isf)\n",
    "                melt_atmo_list.append(melt_atmo['SMB'].assign_coords({'model': mod}))\n",
    "\n",
    "\n",
    "    for mod in ['ACCESS-ESM1-5','ACCESS-CM2','CESM2-WACCM','CNRM-CM6-1','CNRM-ESM2-1',\n",
    "                'CanESM5','GFDL-CM4','GFDL-ESM4', \n",
    "               'MRI-ESM2-0']: #'GISS-E2-1-H',\n",
    "\n",
    "        _, yystart, yyend = start_end_year(mod, scenario)\n",
    "        #print(mod,yystart,yyend)\n",
    "        \n",
    "        if mod == 'GFDL-CM4' and scenario == 'ssp126':\n",
    "            melt_atmo = melt_atmo * np.nan\n",
    "        \n",
    "        else:\n",
    "            \n",
    "            if (scenario == 'historical') and (yystart == 1850):\n",
    "                    \n",
    "                melt_atmo_1850 = xr.open_dataset(inputpath_atmo_Nico+mod+'_SMB_'+scenario+'-1850-1979.nc').sel(Nisf=rignot_isf)\n",
    "                melt_atmo = xr.open_dataset(inputpath_atmo_Nico+mod+'_SMB_'+scenario+'-1980-2014.nc').sel(Nisf=rignot_isf)\n",
    "                melt_atmo_list.append(xr.concat([melt_atmo_1850['SMB'],melt_atmo['SMB']], dim='time').assign_coords({'model': mod}))\n",
    "            \n",
    "            else:\n",
    "            \n",
    "                melt_atmo = xr.open_dataset(inputpath_atmo_Nico+mod+'_SMB_'+scenario+'-'+str(yystart)+'-'+str(yyend)+'.nc').sel(Nisf=rignot_isf)\n",
    "                melt_atmo_list.append(melt_atmo['SMB'].assign_coords({'model': mod}))\n",
    "\n",
    "    melt_atmo_scenario = xr.concat(melt_atmo_list, dim='model')\n",
    "    melt_atmo3_list.append(melt_atmo_scenario.assign_coords({'scenario': scenario}))\n",
    "melt_atmo_all0 = xr.concat(melt_atmo3_list, dim='scenario').sel(Nisf=rignot_isf)\n",
    "#melt_atmo_all = xr.concat(melt_atmo_list2, dim='model')\n"
   ]
  },
  {
   "cell_type": "code",
   "execution_count": null,
   "id": "18",
   "metadata": {},
   "outputs": [],
   "source": [
    "concat_melt_atmo_list = []\n",
    "\n",
    "for scen in ['ssp126','ssp245','ssp585']:\n",
    "    concat_melt_atmo = xr.concat([melt_atmo_all0.sel(time=range(1850,2015),scenario='historical').drop('scenario'), melt_atmo_all0.sel(time=range(2015,2300),scenario=scen).drop('scenario')], dim='time')\n",
    "    concat_melt_atmo_list.append(concat_melt_atmo.assign_coords({'scenario': scen}))\n",
    "melt_atmo_all = xr.concat(concat_melt_atmo_list, dim='scenario')"
   ]
  },
  {
   "cell_type": "markdown",
   "id": "19",
   "metadata": {},
   "source": [
    "##### OCEAN"
   ]
  },
  {
   "cell_type": "code",
   "execution_count": null,
   "id": "20",
   "metadata": {},
   "outputs": [],
   "source": [
    "Gt_list_models = []\n",
    "box1_list_models = []\n",
    "\n",
    "for mod in tqdm(['ACCESS-ESM1-5','ACCESS-CM2','CESM2','CESM2-WACCM','CNRM-CM6-1','CNRM-ESM2-1',\n",
    "            'CanESM5','GFDL-CM4','GFDL-ESM4', 'IPSL-CM6A-LR',\n",
    "           'MPI-ESM1-2-HR','MRI-ESM2-0','UKESM1-0-LL']): #'GISS-E2-1-H',\n",
    "    \n",
    "    outputpath_melt = '/bettik/burgardc/DATA/SUMMER_PAPER/processed/OCEAN_MELT_RATE_CMIP/'+mod+'/'\n",
    "\n",
    "    melt1D_list1 = []\n",
    "\n",
    "    for mparam in param_classic_list:\n",
    "\n",
    "        melt1D_scenario_list = []\n",
    "        for scenario in ['ssp585']:\n",
    "            if mod == 'GFDL-CM4' and scenario == 'ssp126':\n",
    "                melt_1D = melt_1D * np.nan \n",
    "            else:\n",
    "                melt_1D = xr.open_dataset(outputpath_melt + 'eval_metrics_1D_'+mparam+'_'+scenario+'_oneFRIS_anoISMIP_ElmerIcegeo'+str(geoyear)+'.nc')\n",
    "                melt1D_scenario_list.append(melt_1D.assign_coords({'scenario': scenario}))\n",
    "        melt1D_scenario = xr.concat(melt1D_scenario_list, dim='scenario')\n",
    "        melt1D_list1.append(melt1D_scenario.assign_coords({'param':mparam}))\n",
    "    melt1D_classic = xr.concat(melt1D_list1, dim='param')       \n",
    "    Gt_classic = melt1D_classic['melt_1D_Gt_per_y']\n",
    "    box1_classic = melt1D_classic['melt_1D_mean_myr_box1']\n",
    "    \n",
    "    melt1D_list2 = []\n",
    "    for mparam in param_NN_list:\n",
    "\n",
    "        melt1D_scenario_list = []\n",
    "        for scenario in ['ssp585']:\n",
    "            if mod == 'GFDL-CM4' and scenario == 'ssp126':\n",
    "                melt_1D = melt_1D * np.nan \n",
    "            else:\n",
    "                melt_1D = xr.open_dataset(outputpath_melt + 'evalmetrics_1D_'+mparam+'_'+scenario+'_anoISMIP_ElmerIcegeo'+str(geoyear)+'.nc')\n",
    "                melt1D_scenario_list.append(melt_1D.assign_coords({'scenario': scenario}))\n",
    "        melt1D_scenario = xr.concat(melt1D_scenario_list, dim='scenario')\n",
    "        melt1D_list2.append(melt1D_scenario.assign_coords({'param':mparam}))\n",
    "    melt1D_NN = xr.concat(melt1D_list2, dim='param')   \n",
    "    Gt_NN = melt1D_NN['predicted_melt'].sel(metrics='Gt')\n",
    "    box1_NN = melt1D_NN['predicted_melt'].sel(metrics='box1')\n",
    "    \n",
    "    Gt_all = xr.concat([Gt_classic, Gt_NN], dim='param')\n",
    "    box1_all = xr.concat([box1_classic, box1_NN], dim='param')\n",
    "    \n",
    "    Gt_list_models.append(Gt_all.assign_coords({'model':mod}))\n",
    "    box1_list_models.append(box1_all.assign_coords({'model':mod}))\n",
    "\n",
    "Gt_all_mod_anoISMIP = xr.concat(Gt_list_models, dim='model')\n",
    "box1_all_mod_anoISMIP = xr.concat(box1_list_models, dim='model')\n",
    "\n",
    "\n",
    "    \n",
    "    "
   ]
  },
  {
   "cell_type": "code",
   "execution_count": null,
   "id": "21",
   "metadata": {},
   "outputs": [],
   "source": [
    "Gt_list_models = []\n",
    "box1_list_models = []\n",
    "\n",
    "for mod in tqdm(['ACCESS-ESM1-5','ACCESS-CM2','CESM2','CESM2-WACCM','CNRM-CM6-1','CNRM-ESM2-1',\n",
    "            'CanESM5','GFDL-CM4','GFDL-ESM4', 'IPSL-CM6A-LR',\n",
    "           'MPI-ESM1-2-HR','MRI-ESM2-0','UKESM1-0-LL']): #'GISS-E2-1-H',\n",
    "    \n",
    "    outputpath_melt = '/bettik/burgardc/DATA/SUMMER_PAPER/processed/OCEAN_MELT_RATE_CMIP/'+mod+'/'\n",
    "\n",
    "    melt1D_list1 = []\n",
    "\n",
    "    for mparam in param_classic_list:\n",
    "\n",
    "        melt1D_scenario_list = []\n",
    "        for scenario in ['ssp585']:\n",
    "            if mod == 'GFDL-CM4' and scenario == 'ssp126':\n",
    "                melt_1D = melt_1D * np.nan \n",
    "            else:\n",
    "                melt_1D = xr.open_dataset(outputpath_melt + 'eval_metrics_1D_'+mparam+'_'+scenario+'_oneFRIS_anoNEMO_ElmerIcegeo'+str(geoyear)+'.nc')\n",
    "                melt1D_scenario_list.append(melt_1D.assign_coords({'scenario': scenario}))\n",
    "        melt1D_scenario = xr.concat(melt1D_scenario_list, dim='scenario')\n",
    "        melt1D_list1.append(melt1D_scenario.assign_coords({'param':mparam}))\n",
    "    melt1D_classic = xr.concat(melt1D_list1, dim='param')       \n",
    "    Gt_classic = melt1D_classic['melt_1D_Gt_per_y']\n",
    "    box1_classic = melt1D_classic['melt_1D_mean_myr_box1']\n",
    "    \n",
    "    melt1D_list2 = []\n",
    "    for mparam in param_NN_list:\n",
    "\n",
    "        melt1D_scenario_list = []\n",
    "        for scenario in ['ssp585']:\n",
    "            if mod == 'GFDL-CM4' and scenario == 'ssp126':\n",
    "                melt_1D = melt_1D * np.nan \n",
    "            else:\n",
    "                melt_1D = xr.open_dataset(outputpath_melt + 'evalmetrics_1D_'+mparam+'_'+scenario+'_anoNEMO_ElmerIcegeo'+str(geoyear)+'.nc')\n",
    "                melt1D_scenario_list.append(melt_1D.assign_coords({'scenario': scenario}))\n",
    "        melt1D_scenario = xr.concat(melt1D_scenario_list, dim='scenario')\n",
    "        melt1D_list2.append(melt1D_scenario.assign_coords({'param':mparam}))\n",
    "    melt1D_NN = xr.concat(melt1D_list2, dim='param')   \n",
    "    Gt_NN = melt1D_NN['predicted_melt'].sel(metrics='Gt')\n",
    "    box1_NN = melt1D_NN['predicted_melt'].sel(metrics='box1')\n",
    "    \n",
    "    Gt_all = xr.concat([Gt_classic, Gt_NN], dim='param')\n",
    "    box1_all = xr.concat([box1_classic, box1_NN], dim='param')\n",
    "    \n",
    "    Gt_list_models.append(Gt_all.assign_coords({'model':mod}))\n",
    "    box1_list_models.append(box1_all.assign_coords({'model':mod}))\n",
    "\n",
    "Gt_all_mod_anoNEMO = xr.concat(Gt_list_models, dim='model')\n",
    "box1_all_mod_anoNEMO = xr.concat(box1_list_models, dim='model')\n",
    "\n",
    "\n",
    "    \n",
    "    "
   ]
  },
  {
   "cell_type": "code",
   "execution_count": null,
   "id": "22",
   "metadata": {},
   "outputs": [],
   "source": [
    "ano_choice_file = xr.open_dataset(inputpath_weights + 'ano_choice_NEMOorISMIP_withoutGISS.nc')\n",
    "\n",
    "\n",
    "bmb_combined_list = []\n",
    "for kisf in tqdm(file_isf.Nisf):\n",
    "    if ano_choice_file['ano_choice'].sel(Nisf=kisf).values == 'NEMO':\n",
    "        bmb_combined_list.append(Gt_all_mod_anoNEMO.sel(Nisf=kisf))\n",
    "    elif ano_choice_file['ano_choice'].sel(Nisf=kisf).values == 'ISMIP':\n",
    "        bmb_combined_list.append(Gt_all_mod_anoISMIP.sel(Nisf=kisf))\n",
    "bmb_combined0 = xr.concat(bmb_combined_list, dim='Nisf')\n",
    "\n",
    "concat_bmb_list = []\n",
    "\n",
    "bmb_combined = bmb_combined0.sel(time=range(geoyear,2300),scenario=scen)"
   ]
  },
  {
   "cell_type": "code",
   "execution_count": null,
   "id": "23",
   "metadata": {},
   "outputs": [],
   "source": [
    "bmb_alldim, GL_flux_ABUMIP_alldim  = xr.broadcast(bmb_combined.sel(time=range(geoyear,2300)), GL_flux_ABUMIP['flux_Gt_ABUMIP'])\n",
    "_, smb_alldim  = xr.broadcast(bmb_alldim.sel(time=range(geoyear,2300)), melt_atmo_all.sel(time=range(geoyear,2300)))\n",
    "_, calv_alldim = xr.broadcast(bmb_alldim.sel(time=range(geoyear,2300)), davison_file['calving_obs'])"
   ]
  },
  {
   "cell_type": "markdown",
   "id": "24",
   "metadata": {},
   "source": [
    "MASS BALANCE"
   ]
  },
  {
   "cell_type": "code",
   "execution_count": null,
   "id": "25",
   "metadata": {},
   "outputs": [],
   "source": [
    "weight_file = xr.open_dataset(inputpath_weights + 'bayesian_weights_davison_varying_combined_withoutGISS.nc')\n",
    "weight_2300_file = xr.open_dataset(inputpath_weights + 'bayesian_weights_davison_varying_combined_2300_withoutGISS.nc')"
   ]
  },
  {
   "cell_type": "code",
   "execution_count": null,
   "id": "26",
   "metadata": {},
   "outputs": [],
   "source": [
    "mass_balance_simu = bmb_combined - melt_atmo_all + davison_file['calving_obs'] - GL_flux_ABUMIP['flux_Gt_ABUMIP']"
   ]
  },
  {
   "cell_type": "code",
   "execution_count": null,
   "id": "27",
   "metadata": {},
   "outputs": [],
   "source": [
    "mass_balance_simu_2300 = mass_balance_simu.sel(model=['ACCESS-CM2','ACCESS-ESM1-5','CanESM5',\n",
    "                                                        'CESM2-WACCM', 'IPSL-CM6A-LR',\n",
    "                                                        'MRI-ESM2-0','UKESM1-0-LL']) #'GISS-E2-1-H',\n"
   ]
  },
  {
   "cell_type": "markdown",
   "id": "28",
   "metadata": {},
   "source": [
    "WRITE INTO NETCDF FILE FOR FURTHER ANALYSIS IN OTHER NOTEBOOK"
   ]
  },
  {
   "cell_type": "code",
   "execution_count": null,
   "id": "29",
   "metadata": {},
   "outputs": [],
   "source": [
    "GL_flux_ABUMIP_alldim"
   ]
  },
  {
   "cell_type": "code",
   "execution_count": null,
   "id": "30",
   "metadata": {},
   "outputs": [],
   "source": [
    "file_viability_info = xr.Dataset()\n",
    "file_viability_info['BMB'] = bmb_alldim\n",
    "file_viability_info['SMB'] = smb_alldim\n",
    "file_viability_info['ABUMIP'] = GL_flux_ABUMIP_alldim\n",
    "file_viability_info['CALVING'] = calv_alldim\n",
    "file_viability_info['MASS_BALANCE'] = mass_balance_simu\n",
    "file_viability_info.to_netcdf(inputpath_weights + 'all_fluxes_br_withoutGISS_ElmerIcegeo'+str(geoyear)+'.nc')"
   ]
  },
  {
   "cell_type": "code",
   "execution_count": null,
   "id": "31",
   "metadata": {},
   "outputs": [],
   "source": [
    "#bay_weights = xr.open_dataset(inputpath_weights + 'bayesian_weights_davison.nc')['bay_weights']\n",
    "bay_weights = weight_file['bay_weights']\n",
    "bay_weights_2300 = weight_2300_file['bay_weights']"
   ]
  },
  {
   "cell_type": "code",
   "execution_count": null,
   "id": "32",
   "metadata": {},
   "outputs": [],
   "source": [
    "sens_weights = xr.DataArray(data=np.array([0.11,\n",
    "                                           0.24,\n",
    "                                           0.03,\n",
    "                                           0.10,\n",
    "                                           0.10,\n",
    "                                           0.10,\n",
    "                                           0.10,\n",
    "                                           0.24,\n",
    "                                           0.47,\n",
    "                                           0.41,\n",
    "                                           0.12,\n",
    "                                           0.43,\n",
    "                                           0.39,\n",
    "                                           0.05]), dims=['model']).assign_coords({'model': \n",
    "                                                                                  ['ACCESS-CM2','ACCESS-ESM1-5','CanESM5',\n",
    "                                                                                   'CESM2','CESM2-WACCM','CNRM-CM6-1','CNRM-ESM2-1',\n",
    "                                                                                   'GFDL-CM4','GFDL-ESM4','GISS-E2-1-H', 'IPSL-CM6A-LR',\n",
    "                                                                                   'MPI-ESM1-2-HR','MRI-ESM2-0','UKESM1-0-LL']})"
   ]
  },
  {
   "cell_type": "code",
   "execution_count": null,
   "id": "33",
   "metadata": {},
   "outputs": [],
   "source": [
    "ensmean_weighted = uf.weighted_mean(mass_balance_simu, ['model','param','m'], bay_weights * sens_weights.sel(model=mass_balance_simu.model))\n",
    "ensmean_weighted_2300 = uf.weighted_mean(mass_balance_simu_2300, ['model','param','m'], bay_weights_2300 * sens_weights.sel(model=mass_balance_simu_2300.model))\n",
    "\n",
    "#ensmean_nonweighted = mass_balance_simu.mean(['model','param'])"
   ]
  },
  {
   "cell_type": "code",
   "execution_count": null,
   "id": "34",
   "metadata": {},
   "outputs": [],
   "source": [
    "da_weighted = mass_balance_simu.weighted(bay_weights * sens_weights.sel(model=mass_balance_simu.model))\n",
    "da_weighted_2300 = mass_balance_simu_2300.weighted(bay_weights_2300 * sens_weights.sel(model=mass_balance_simu_2300.model))"
   ]
  },
  {
   "cell_type": "code",
   "execution_count": null,
   "id": "35",
   "metadata": {},
   "outputs": [],
   "source": [
    "#ensstat_weighted = da_weighted.quantile([0.05,0.5,0.95],dim=['model','param'])\n",
    "ensstat_weighted = da_weighted.quantile([0.05,0.1,0.33,0.66,0.5,0.9,0.95],dim=['model','param','m'])\n",
    "ensstat_weighted_2300 = da_weighted_2300.quantile([0.05,0.1,0.33,0.66,0.5,0.9,0.95],dim=['model','param','m'])\n"
   ]
  },
  {
   "cell_type": "markdown",
   "id": "36",
   "metadata": {},
   "source": [
    "VIABILITY LIMIT"
   ]
  },
  {
   "cell_type": "code",
   "execution_count": null,
   "id": "37",
   "metadata": {},
   "outputs": [],
   "source": [
    "limit_50 = ensstat_weighted.sel(quantile = 0.5) > 0\n",
    "limit_66 = ensstat_weighted.sel(quantile = 0.33) > 0\n",
    "limit_90 = ensstat_weighted.sel(quantile = 0.10) > 0"
   ]
  },
  {
   "cell_type": "code",
   "execution_count": null,
   "id": "38",
   "metadata": {},
   "outputs": [],
   "source": [
    "limit_50_2300 = ensstat_weighted_2300.sel(quantile = 0.5) > 0\n",
    "limit_66_2300 = ensstat_weighted_2300.sel(quantile = 0.33) > 0\n",
    "limit_90_2300 = ensstat_weighted_2300.sel(quantile = 0.10) > 0"
   ]
  },
  {
   "cell_type": "code",
   "execution_count": null,
   "id": "39",
   "metadata": {},
   "outputs": [],
   "source": [
    "fig, ax = plt.subplots()\n",
    "fig1 = plt.gcf()\n",
    "fig.set_size_inches(8.25, 8.25*1.5)\n",
    "\n",
    "ll = 0\n",
    "label_list = []\n",
    "\n",
    "for scen in ['ssp126','ssp245','ssp585']: \n",
    "    \n",
    "    if scen == 'ssp126':\n",
    "        ccol = 'gold'\n",
    "        shift=+0.3\n",
    "    elif scen == 'ssp245':\n",
    "        ccol = 'darkorange'\n",
    "        shift=0\n",
    "    elif scen == 'ssp585':\n",
    "        ccol = 'red'\n",
    "        shift=-0.3\n",
    "    #elif scen == 'historical':\n",
    "    #    ccol = 'grey'\n",
    "    #    shift=0        \n",
    "    \n",
    "\n",
    "    yval = xr.DataArray(data=np.array(range(len(sorted_isf_rignot))), dims=['Nisf']).assign_coords({'Nisf': sorted_isf_rignot[::-1]})\n",
    "    _ , yval_br = xr.broadcast(limit_66.time,yval)\n",
    "    \n",
    "    ll2=0\n",
    "    #for k,kisf in enumerate(file_isf.Nisf.sel(Nisf=sorted_isf_rignot[::-1])):\n",
    "    for k,kisf in enumerate(yval.Nisf):\n",
    "        time_nonvia50 = limit_50.time.where(limit_50.sel(Nisf=kisf,scenario=scen))\n",
    "        time_nonvia66 = limit_66.time.where(limit_66.sel(Nisf=kisf,scenario=scen))\n",
    "        time_nonvia90 = limit_90.time.where(limit_90.sel(Nisf=kisf,scenario=scen))\n",
    "        \n",
    "        lim50_yes = limit_50.sel(Nisf=kisf,scenario=scen).astype(int)\n",
    "        lim66_yes = limit_66.sel(Nisf=kisf,scenario=scen).astype(int)\n",
    "        lim90_yes = limit_90.sel(Nisf=kisf,scenario=scen).astype(int)\n",
    "\n",
    "        plt.scatter(time_nonvia50,yval_br.sel(Nisf=kisf)+shift+ll2,alpha=lim50_yes*0.33,s=10,edgecolors='None',color=ccol)\n",
    "        plt.scatter(time_nonvia66,yval_br.sel(Nisf=kisf)+shift+ll2,alpha=lim66_yes*0.4,s=10,edgecolors='None',color=ccol)\n",
    "        plt.scatter(time_nonvia90,yval_br.sel(Nisf=kisf)+shift+ll2,alpha=lim90_yes*1,s=10,edgecolors='None',color=ccol)\n",
    "        \n",
    "        \n",
    "        if ll == 0:\n",
    "            label_list.append(file_isf['isf_name'].sel(Nisf=kisf).values)\n",
    "            \n",
    "            if kisf in [69,59,48,50,22,40,41]:\n",
    "                ll2 = ll2+1\n",
    "                plt.scatter(time_nonvia66,yval_br.sel(Nisf=kisf)+shift*np.nan,alpha=lim66_yes*0.3,s=10,edgecolors='None',color=ccol)\n",
    "                plt.axhline(yval_br.sel(Nisf=kisf).max().values+ll2,linestyle='--')\n",
    "                label_list.append(' ')\n",
    "                \n",
    "        \n",
    "        else:\n",
    "            if kisf in [69,59,48,50,22,40,41]:                \n",
    "                ll2 = ll2+1\n",
    "        \n",
    "    ll = ll+1\n",
    "    \n",
    "ax.set_yticks(np.arange(len(label_list)), labels=label_list)    \n",
    "#ax.set_yticks(yval, labels=file_isf['isf_name'].sel(Nisf=sorted_isf_rignot[::-1]).values)\n",
    "#ax.set_yticklabels(file_isf['isf_name'].sel(Nisf=sorted_isf_rignot).values)\n",
    "ax.set_xlim(1850,2100)\n",
    "#ax.set_title(scen)\n",
    "\n",
    "sns.despine()\n",
    "plt.grid(linestyle='--')\n",
    "plt.tight_layout()\n",
    "\n",
    "fig.savefig(plot_path + 'scatterbarplots_allscen_until2100.png')\n"
   ]
  },
  {
   "cell_type": "markdown",
   "id": "40",
   "metadata": {},
   "source": [
    "UNTIL 2300"
   ]
  },
  {
   "cell_type": "code",
   "execution_count": null,
   "id": "41",
   "metadata": {},
   "outputs": [],
   "source": [
    "fig, ax = plt.subplots()\n",
    "fig1 = plt.gcf()\n",
    "fig.set_size_inches(8.25, 8.25*1.5)\n",
    "\n",
    "ll = 0\n",
    "label_list = []\n",
    "\n",
    "for scen in ['ssp126','ssp585']: #'historical',\n",
    "    \n",
    "    if scen == 'ssp126':\n",
    "        ccol = 'gold'\n",
    "        shift=+0.2\n",
    "    elif scen == 'ssp245':\n",
    "        ccol = 'darkorange'\n",
    "        shift=0\n",
    "    elif scen == 'ssp585':\n",
    "        ccol = 'red'\n",
    "        shift=-0.2\n",
    "    elif scen == 'historical':\n",
    "        ccol = 'grey'\n",
    "        shift=0        \n",
    "    \n",
    "\n",
    "    yval = xr.DataArray(data=np.array(range(len(sorted_isf_rignot))), dims=['Nisf']).assign_coords({'Nisf': sorted_isf_rignot[::-1]})\n",
    "    _ , yval_br = xr.broadcast(limit_66.time,yval)\n",
    "    \n",
    "    ll2=0\n",
    "    #for k,kisf in enumerate(file_isf.Nisf.sel(Nisf=sorted_isf_rignot[::-1])):\n",
    "    for k,kisf in enumerate(yval.Nisf):\n",
    "        time_nonvia50 = limit_50_2300.time.where(limit_50_2300.sel(Nisf=kisf,scenario=scen))\n",
    "        time_nonvia66 = limit_66_2300.time.where(limit_66_2300.sel(Nisf=kisf,scenario=scen))\n",
    "        time_nonvia90 = limit_90_2300.time.where(limit_90_2300.sel(Nisf=kisf,scenario=scen))\n",
    "\n",
    "        lim50_yes = limit_50_2300.sel(Nisf=kisf,scenario=scen).astype(int)\n",
    "        lim66_yes = limit_66_2300.sel(Nisf=kisf,scenario=scen).astype(int)\n",
    "        lim90_yes = limit_90_2300.sel(Nisf=kisf,scenario=scen).astype(int)\n",
    "\n",
    "        plt.scatter(time_nonvia50,yval_br.sel(Nisf=kisf)+shift+ll2,alpha=lim50_yes*0.1,s=10,edgecolors='None',color=ccol)\n",
    "        plt.scatter(time_nonvia66,yval_br.sel(Nisf=kisf)+shift+ll2,alpha=lim66_yes*0.2,s=10,edgecolors='None',color=ccol)\n",
    "        plt.scatter(time_nonvia90,yval_br.sel(Nisf=kisf)+shift+ll2,alpha=lim90_yes*1,s=10,edgecolors='None',color=ccol)\n",
    "        \n",
    "        \n",
    "        if ll == 0:\n",
    "            label_list.append(file_isf['isf_name'].sel(Nisf=kisf).values)\n",
    "            \n",
    "            if kisf in [69,59,48,50,22,40,41]:\n",
    "                ll2 = ll2+1\n",
    "                plt.scatter(time_nonvia66,yval_br.sel(Nisf=kisf)+shift*np.nan,alpha=lim66_yes*0.3,s=10,edgecolors='None',color=ccol)\n",
    "                plt.axhline(yval_br.sel(Nisf=kisf).max().values+ll2,linestyle='--')\n",
    "                label_list.append(' ')\n",
    "                \n",
    "        \n",
    "        else:\n",
    "            if kisf in [69,59,48,50,22,40,41]:                \n",
    "                ll2 = ll2+1\n",
    "        \n",
    "    ll = ll+1\n",
    "    \n",
    "ax.set_yticks(np.arange(len(label_list)), labels=label_list)    \n",
    "#ax.set_yticks(yval, labels=file_isf['isf_name'].sel(Nisf=sorted_isf_rignot[::-1]).values)\n",
    "#ax.set_yticklabels(file_isf['isf_name'].sel(Nisf=sorted_isf_rignot).values)\n",
    "ax.set_xlim(1850,2300)\n",
    "#ax.set_title(scen)\n",
    "\n",
    "sns.despine()\n",
    "plt.grid(linestyle='--')\n",
    "plt.tight_layout()\n",
    "\n",
    "fig.savefig(plot_path + 'scatterbarplots_allscen_until2300.png')\n"
   ]
  },
  {
   "cell_type": "markdown",
   "id": "42",
   "metadata": {},
   "source": [
    "PROBABILITY CURVES"
   ]
  },
  {
   "cell_type": "code",
   "execution_count": null,
   "id": "43",
   "metadata": {},
   "outputs": [],
   "source": [
    "all_weights = bay_weights * sens_weights.sel(model=mass_balance_simu.model)\n",
    "non_viable_mask = mass_balance_simu > 0\n",
    "non_viable_sum = all_weights.where(non_viable_mask).sum(['model','param','m'])\n",
    "all_weights_sum = all_weights.sum(['model','param','m'])\n",
    "non_viable_normed = non_viable_sum/all_weights_sum"
   ]
  },
  {
   "cell_type": "markdown",
   "id": "44",
   "metadata": {},
   "source": [
    "Define viability limit as a date"
   ]
  },
  {
   "cell_type": "code",
   "execution_count": null,
   "id": "45",
   "metadata": {},
   "outputs": [],
   "source": [
    "viability_50_diff = limit_50.sel(time=range(2100,1849,-1)).cumsum('time').diff('time')\n",
    "limit50_max = viability_50_diff.time.where(viability_50_diff == 0).max('time') + 1\n",
    "limit50_max = limit50_max.where(limit50_max<2100)\n",
    "limit50_max = limit50_max.where(~(np.isnan(limit50_max) & limit_50.sel(time=1850)), 1850)\n",
    "\n",
    "viability_66_diff = limit_66.sel(time=range(2100,1849,-1)).cumsum('time').diff('time')\n",
    "limit66_max = viability_66_diff.time.where(viability_66_diff == 0).max('time') + 1\n",
    "limit66_max = limit66_max.where(limit66_max<2100)\n",
    "limit66_max = limit66_max.where(~(np.isnan(limit66_max) & limit_66.sel(time=1850)), 1850)\n",
    "\n",
    "viability_90_diff = limit_90.sel(time=range(2100,1849,-1)).cumsum('time').diff('time')\n",
    "limit90_max = viability_90_diff.time.where(viability_90_diff == 0).max('time') + 1\n",
    "limit90_max = limit90_max.where(limit90_max<2100)\n",
    "limit90_max = limit90_max.where(~(np.isnan(limit90_max) & limit_90.sel(time=1850)), 1850)"
   ]
  },
  {
   "cell_type": "code",
   "execution_count": null,
   "id": "46",
   "metadata": {},
   "outputs": [],
   "source": [
    "regions = ['Weddell','Bellingshausen','Amundsen','Ross','East 1','East 2','Dronning Maud Land']\n",
    "colors = ['red','orange','gold','mediumturquoise','maroon','magenta','cornflowerblue','lightseagreen',\n",
    "          'yellowgreen','royalblue','tomato','darkslateblue','purple','darkgoldenrod']\n",
    "\n",
    "f = plt.figure()\n",
    "f.set_size_inches(8.25*3, 8.25*3)\n",
    "\n",
    "ax={}\n",
    "\n",
    "leg_hdl = []\n",
    "\n",
    "i = 0\n",
    "\n",
    "\n",
    "for kisf in tqdm(sorted_isf_rignot):\n",
    "    \n",
    "    ax[i] = f.add_subplot(8,8,i+1)\n",
    "\n",
    "    ax[i].plot(non_viable_normed.time.sel(time=range(1850,2015)), non_viable_normed.sel(Nisf=kisf,scenario='ssp126',time=range(1850,2015)), color='grey')    \n",
    "    ax[i].plot(non_viable_normed.time.sel(time=range(2015,2100)), non_viable_normed.sel(Nisf=kisf,scenario='ssp126',time=range(2015,2100)), color='gold')\n",
    "    ax[i].plot(non_viable_normed.time.sel(time=range(2015,2100)), non_viable_normed.sel(Nisf=kisf,scenario='ssp245',time=range(2015,2100)), color='darkorange')\n",
    "    ax[i].plot(non_viable_normed.time.sel(time=range(2015,2100)), non_viable_normed.sel(Nisf=kisf,scenario='ssp585',time=range(2015,2100)), color='red')\n",
    "    ax[i].axhline(y=0.50, color='deepskyblue', alpha=0.9, linestyle='--')\n",
    "    ax[i].axhline(y=0.66, color='deepskyblue', alpha=0.5, linestyle='--')\n",
    "    ax[i].axhline(y=0.90, color='deepskyblue', alpha=0.2, linestyle='--')\n",
    "    ax[i].axvline(x=limit50_max.sel(Nisf=kisf, scenario='ssp585'), color='black', linestyle='--')\n",
    "\n",
    "    #ax[i].set_title(ano_choice.sel(Nisf=kisf))\n",
    "\n",
    "    #if kisf == 23:\n",
    "    #    ax[i].set_title('Tracy Tremenchus')\n",
    "    #elif kisf == 24:#\n",
    "    #    ax[i].set_title('Conger/Glenzer')\n",
    "    #elif kisf == 110:\n",
    "    #    ax[i].set_title('Ekström')\n",
    "    #else:\n",
    "    ax[i].set_title(str(file_isf['isf_name'].sel(Nisf=kisf).values)+' '+str(kisf))\n",
    "    #if file_isf['isf_name'].sel(Nisf=kisf).values not in ['Larsen B', 'Wordie']:\n",
    "    #    ax[i].set_ylim(0,mass_balance_simu_anoISMIP.sel(Nisf=kisf).max().values)\n",
    "    ax[i].set_xlim(1840,2099)\n",
    "    ax[i].set_ylim(0,1)\n",
    "    #ax[i].axvline(x=30, c='k', linestyle='--')\n",
    "\n",
    "    i = i+1\n",
    "\n",
    "#f.legend()\n",
    "#f.subplots_adjust(bottom=0.05, wspace=0.1)\n",
    "\n",
    "f.tight_layout()\n",
    "sns.despine()\n",
    "f.savefig(plot_path + 'prob_distrib_allscen_until2100.pdf')\n"
   ]
  },
  {
   "cell_type": "code",
   "execution_count": null,
   "id": "47",
   "metadata": {},
   "outputs": [],
   "source": [
    "all_weights_2300 = bay_weights_2300 * sens_weights.sel(model=mass_balance_simu_2300.model)\n",
    "non_viable_mask_2300 = mass_balance_simu_2300 > 0\n",
    "non_viable_sum_2300 = all_weights_2300.where(non_viable_mask_2300).sum(['model','param','m'])\n",
    "all_weights_sum_2300 = all_weights_2300.sum(['model','param','m'])\n",
    "non_viable_normed_2300 = non_viable_sum_2300/all_weights_sum_2300"
   ]
  },
  {
   "cell_type": "markdown",
   "id": "48",
   "metadata": {},
   "source": [
    "Define viability limit as a date"
   ]
  },
  {
   "cell_type": "code",
   "execution_count": null,
   "id": "49",
   "metadata": {},
   "outputs": [],
   "source": [
    "viability_50_diff = limit_50_2300.sel(time=range(2299,1849,-1)).cumsum('time').diff('time')\n",
    "limit50_max_2300 = viability_50_diff.time.where(viability_50_diff == 0).max('time') + 1\n",
    "limit50_max_2300 = limit50_max_2300.where(limit50_max_2300<2299)\n",
    "limit50_max_2300 = limit50_max_2300.where(~(np.isnan(limit50_max_2300) & limit_50_2300.sel(time=1850)), 1850)\n",
    "\n",
    "viability_66_diff = limit_66_2300.sel(time=range(2299,1849,-1)).cumsum('time').diff('time')\n",
    "limit66_max_2300 = viability_66_diff.time.where(viability_66_diff == 0).max('time') + 1\n",
    "limit66_max_2300 = limit66_max_2300.where(limit66_max_2300<2299)\n",
    "limit66_max_2300 = limit66_max_2300.where(~(np.isnan(limit66_max_2300) & limit_66_2300.sel(time=1850)), 1850)\n",
    "\n",
    "viability_90_diff = limit_90_2300.sel(time=range(2299,1849,-1)).cumsum('time').diff('time')\n",
    "limit90_max_2300 = viability_90_diff.time.where(viability_90_diff == 0).max('time') + 1\n",
    "limit90_max_2300 = limit90_max_2300.where(limit90_max_2300<2299)\n",
    "limit90_max_2300 = limit90_max_2300.where(~(np.isnan(limit90_max_2300) & limit_90_2300.sel(time=1850)), 1850)"
   ]
  },
  {
   "cell_type": "code",
   "execution_count": null,
   "id": "50",
   "metadata": {},
   "outputs": [],
   "source": [
    "regions = ['Weddell','Bellingshausen','Amundsen','Ross','East 1','East 2','Dronning Maud Land']\n",
    "colors = ['red','orange','gold','mediumturquoise','maroon','magenta','cornflowerblue','lightseagreen',\n",
    "          'yellowgreen','royalblue','tomato','darkslateblue','purple','darkgoldenrod']\n",
    "\n",
    "f = plt.figure()\n",
    "f.set_size_inches(8.25*3, 8.25*3)\n",
    "\n",
    "ax={}\n",
    "\n",
    "leg_hdl = []\n",
    "\n",
    "i = 0\n",
    "\n",
    "\n",
    "for kisf in tqdm(sorted_isf_rignot):\n",
    "    \n",
    "    ax[i] = f.add_subplot(8,8,i+1)\n",
    "    \n",
    "    \n",
    "    ax[i].plot(non_viable_normed_2300.time.sel(time=range(1850,2015)), non_viable_normed_2300.sel(Nisf=kisf,scenario='ssp126',time=range(1850,2015)), color='grey')    \n",
    "    ax[i].plot(non_viable_normed_2300.time.sel(time=range(2015,2300)), non_viable_normed_2300.sel(Nisf=kisf,scenario='ssp126',time=range(2015,2300)), color='gold')\n",
    "    ax[i].plot(non_viable_normed_2300.time.sel(time=range(2015,2300)), non_viable_normed_2300.sel(Nisf=kisf,scenario='ssp585',time=range(2015,2300)), color='red')\n",
    "    ax[i].axhline(y=0.50, color='deepskyblue', alpha=0.9, linestyle='--')\n",
    "    ax[i].axhline(y=0.66, color='deepskyblue', alpha=0.5, linestyle='--')\n",
    "    ax[i].axhline(y=0.90, color='deepskyblue', alpha=0.2, linestyle='--')\n",
    "    ax[i].axvline(x=limit66_max_2300.sel(Nisf=kisf, scenario='ssp585'), color='black', linestyle='--')\n",
    "\n",
    "    #ax[i].set_title(ano_choice.sel(Nisf=kisf))\n",
    "\n",
    "    #if kisf == 23:\n",
    "    #    ax[i].set_title('Tracy Tremenchus')\n",
    "    #elif kisf == 24:#\n",
    "    #    ax[i].set_title('Conger/Glenzer')\n",
    "    #elif kisf == 110:\n",
    "    #    ax[i].set_title('Ekström')\n",
    "    #else:\n",
    "    ax[i].set_title(str(file_isf['isf_name'].sel(Nisf=kisf).values)+' '+str(kisf))\n",
    "    #if file_isf['isf_name'].sel(Nisf=kisf).values not in ['Larsen B', 'Wordie']:\n",
    "    #    ax[i].set_ylim(0,mass_balance_simu_anoISMIP.sel(Nisf=kisf).max().values)\n",
    "    ax[i].set_xlim(1840,2300)\n",
    "    ax[i].set_ylim(0,1)\n",
    "    #ax[i].axvline(x=30, c='k', linestyle='--')\n",
    "\n",
    "    i = i+1\n",
    "\n",
    "#f.legend()\n",
    "#f.subplots_adjust(bottom=0.05, wspace=0.1)\n",
    "\n",
    "f.tight_layout()\n",
    "sns.despine()\n",
    "\n",
    "f.savefig(plot_path + 'prob_distrib_allscen_until2300.pdf')\n"
   ]
  },
  {
   "cell_type": "code",
   "execution_count": null,
   "id": "51",
   "metadata": {},
   "outputs": [],
   "source": [
    "viability_limit_dates = xr.Dataset()\n",
    "viability_limit_dates['viability_limit_2100'] = xr.concat([limit50_max.assign_coords({'quant': 50}),\n",
    "                                                          limit66_max.assign_coords({'quant': 66}),\n",
    "                                                          limit90_max.assign_coords({'quant': 90})], dim='quant')\n",
    "viability_limit_dates['viability_limit_2300'] = xr.concat([limit50_max_2300.assign_coords({'quant': 50}),\n",
    "                                                          limit66_max_2300.assign_coords({'quant': 66}),\n",
    "                                                          limit90_max_2300.assign_coords({'quant': 90})], dim='quant')\n",
    "viability_limit_dates.to_netcdf(inputpath_weights + 'viability_limits.nc')"
   ]
  },
  {
   "cell_type": "markdown",
   "id": "52",
   "metadata": {},
   "source": [
    "ATTRIBUTING CHANGES TO SMB AND BMB"
   ]
  },
  {
   "cell_type": "markdown",
   "id": "53",
   "metadata": {},
   "source": [
    "Compute viability limit for each ensemble member for 2100"
   ]
  },
  {
   "cell_type": "code",
   "execution_count": null,
   "id": "54",
   "metadata": {},
   "outputs": [],
   "source": [
    "non_viable_ensmembers = mass_balance_simu > 0"
   ]
  },
  {
   "cell_type": "code",
   "execution_count": null,
   "id": "55",
   "metadata": {},
   "outputs": [],
   "source": [
    "non_via_diff = non_viable_ensmembers.sel(time=range(2100,1849,-1)).cumsum('time').diff('time')\n",
    "limit_via_max = non_via_diff.time.where(non_via_diff == 0).max('time') + 1\n",
    "limit_via_max = limit_via_max.where(limit_via_max<2100)\n",
    "limit_via_max = limit_via_max.where(~(np.isnan(limit_via_max) & non_viable_ensmembers.sel(time=1850)), 1850)"
   ]
  },
  {
   "cell_type": "code",
   "execution_count": null,
   "id": "56",
   "metadata": {},
   "outputs": [],
   "source": [
    "stacked_limit_via_max = limit_via_max.stack(stack_dim = ['model','param','m']) #.sel(scenario='ssp585').sel(Nisf=66)\n",
    "stacked_mass_balance_simu = mass_balance_simu.stack(stack_dim = ['model','param','m'])"
   ]
  },
  {
   "cell_type": "markdown",
   "id": "57",
   "metadata": {},
   "source": [
    "Double-check that it is setting the limit at the right place"
   ]
  },
  {
   "cell_type": "code",
   "execution_count": null,
   "id": "58",
   "metadata": {},
   "outputs": [],
   "source": [
    "i = random.randint(1, len(stacked_limit_via_max.stack_dim))\n",
    "sd = stacked_limit_via_max.stack_dim.isel(stack_dim=i)\n",
    "kisf=24\n",
    "\n",
    "plt.figure()\n",
    "stacked_mass_balance_simu.sel(scenario='ssp585').sel(Nisf=kisf).sel(stack_dim=sd.values).plot()\n",
    "non_viable_time = stacked_limit_via_max.sel(scenario='ssp585').sel(Nisf=kisf).sel(stack_dim=sd).values\n",
    "if np.isfinite(non_viable_time):\n",
    "    print(i)\n",
    "    plt.axvline(non_viable_time , linestyle='--')\n",
    "plt.axhline(0,color='k')"
   ]
  },
  {
   "cell_type": "code",
   "execution_count": null,
   "id": "59",
   "metadata": {},
   "outputs": [],
   "source": [
    "GL_flux_diff = GL_flux_ag['flux_Gt_ABUMIP'] - GL_flux_ag['flux_Gt_ref']\n",
    "GL_flux_ABUMIP = GL_flux_ag['flux_Gt_ABUMIP']\n",
    "SMB = - 1*melt_atmo_all\n",
    "BMB = bmb_combined"
   ]
  },
  {
   "cell_type": "code",
   "execution_count": null,
   "id": "60",
   "metadata": {},
   "outputs": [],
   "source": [
    "non_viable_time = limit_via_max"
   ]
  },
  {
   "cell_type": "code",
   "execution_count": null,
   "id": "61",
   "metadata": {},
   "outputs": [],
   "source": [
    "GL_flux_ABUMIP_br, BMB_br = xr.broadcast(GL_flux_ag['flux_Gt_ABUMIP'], BMB)\n",
    "SMB_br, _ = xr.broadcast(SMB, BMB_br)\n",
    "time_br, _ = xr.broadcast(BMB_br.time, BMB_br)"
   ]
  },
  {
   "cell_type": "code",
   "execution_count": null,
   "id": "62",
   "metadata": {},
   "outputs": [],
   "source": [
    "nonvia_GLflux = GL_flux_ABUMIP_br.where(time_br == non_viable_time, drop=True).max('time')\n",
    "nonvia_SMB = SMB_br.where(time_br == non_viable_time, drop=True).max('time')\n",
    "nonvia_BMB = BMB_br.where(time_br == non_viable_time, drop=True).max('time')"
   ]
  },
  {
   "cell_type": "code",
   "execution_count": null,
   "id": "63",
   "metadata": {},
   "outputs": [],
   "source": [
    "nonvia_GLflux_stacked = nonvia_GLflux.stack(stack_dim=['m','param','model'])\n",
    "nonvia_SMB_stacked = nonvia_SMB.stack(stack_dim=['m','param','model'])\n",
    "nonvia_BMB_stacked = nonvia_BMB.stack(stack_dim=['m','param','model'])"
   ]
  },
  {
   "cell_type": "code",
   "execution_count": null,
   "id": "64",
   "metadata": {},
   "outputs": [],
   "source": [
    "all_weights = bay_weights * sens_weights.sel(model=mass_balance_simu.model)"
   ]
  },
  {
   "cell_type": "code",
   "execution_count": null,
   "id": "65",
   "metadata": {},
   "outputs": [],
   "source": [
    "nonvia_BMB_weighted = nonvia_BMB.weighted(bay_weights * sens_weights.sel(model=mass_balance_simu.model))\n",
    "nonvia_SMB_weighted = nonvia_SMB.weighted(bay_weights * sens_weights.sel(model=mass_balance_simu.model))\n",
    "nonvia_GLflux_weighted = nonvia_GLflux.weighted(bay_weights * sens_weights.sel(model=mass_balance_simu.model))\n"
   ]
  },
  {
   "cell_type": "code",
   "execution_count": null,
   "id": "66",
   "metadata": {},
   "outputs": [],
   "source": [
    "BMB_quantiles = nonvia_BMB_weighted.quantile([0.1,0.33,0.5,0.66,0.9],dim=['model','param','m'])\n",
    "SMB_quantiles = nonvia_SMB_weighted.quantile([0.1,0.33,0.5,0.66,0.9],dim=['model','param','m'])\n",
    "GLflux_quantiles = nonvia_GLflux_weighted.quantile([0.1,0.33,0.5,0.66,0.9],dim=['model','param','m'])"
   ]
  },
  {
   "cell_type": "code",
   "execution_count": null,
   "id": "67",
   "metadata": {},
   "outputs": [],
   "source": [
    "width_BMB_inner = BMB_quantiles.sel(quantile=0.66) - BMB_quantiles.sel(quantile=0.33)\n",
    "width_BMB_outer = BMB_quantiles.sel(quantile=0.9) - BMB_quantiles.sel(quantile=0.1)\n",
    "width_BMB_inner = width_BMB_inner.where(np.isfinite(width_BMB_inner), 0)\n",
    "width_BMB_outer = width_BMB_outer.where(np.isfinite(width_BMB_outer), 0)"
   ]
  },
  {
   "cell_type": "code",
   "execution_count": null,
   "id": "68",
   "metadata": {},
   "outputs": [],
   "source": [
    "width_SMB_inner = SMB_quantiles.sel(quantile=0.66) - SMB_quantiles.sel(quantile=0.33)\n",
    "width_SMB_outer = SMB_quantiles.sel(quantile=0.9) - SMB_quantiles.sel(quantile=0.1)\n",
    "width_SMB_inner = width_SMB_inner.where(np.isfinite(width_SMB_inner), 0)\n",
    "width_SMB_outer = width_SMB_outer.where(np.isfinite(width_SMB_outer), 0)"
   ]
  },
  {
   "cell_type": "code",
   "execution_count": null,
   "id": "69",
   "metadata": {},
   "outputs": [],
   "source": [
    "\n",
    "for mmod in SMB.model:\n",
    "    plt.figure()\n",
    "    #SMB.sum('Nisf').sel(model=mmod).sel(scenario='historical').plot(color='grey')\n",
    "    #SMB.sum('Nisf').sel(model=mmod).sel(scenario='ssp126').plot(color='gold')\n",
    "    #SMB.sum('Nisf').sel(model=mmod).sel(scenario='ssp245').plot(color='orange')\n",
    "    SMB.sum('Nisf').sel(model=mmod).sel(scenario='ssp585').plot(color='red')\n",
    "    plt.title(mmod.values)"
   ]
  },
  {
   "cell_type": "code",
   "execution_count": null,
   "id": "70",
   "metadata": {},
   "outputs": [],
   "source": [
    "for scen in ['ssp126','ssp245','ssp585']:\n",
    "    \n",
    "    if scen == 'ssp126':\n",
    "        ccol = 'gold'\n",
    "    elif scen == 'ssp245':\n",
    "        ccol = 'darkorange'\n",
    "    elif scen == 'ssp585':\n",
    "        ccol = 'red'\n",
    "    \n",
    "    fig, ax = plt.subplots()\n",
    "    fig1 = plt.gcf()\n",
    "    fig.set_size_inches(8.25, 8.25*1.5)\n",
    "\n",
    "    yval = np.array(range(len(sorted_isf_rignot)))\n",
    "    #width_plot = width.where(np.isfinite(width), 0)\n",
    "\n",
    "    for k,kisf in enumerate(file_isf.Nisf.sel(Nisf=sorted_isf_rignot[::-1])):\n",
    "        if kisf in width_BMB_inner.Nisf.values.tolist():\n",
    "            ax.barh(k+0.35, width=width_BMB_inner.sel(Nisf=kisf,scenario=scen), left=BMB_quantiles.sel(quantile=0.33).sel(Nisf=kisf,scenario=scen), height=0.35, color='blue',alpha=0.8)\n",
    "            ax.barh(k+0.35, width=width_BMB_outer.sel(Nisf=kisf,scenario=scen), left=BMB_quantiles.sel(quantile=0.1).sel(Nisf=kisf,scenario=scen), height=0.35, color='blue',alpha=0.2)#,yerr=d[\"{0}_per1_all_std\".format(var)][4,:])\n",
    "            ax.barh(k-0.35, width=width_SMB_inner.sel(Nisf=kisf,scenario=scen), left=SMB_quantiles.sel(quantile=0.33).sel(Nisf=kisf,scenario=scen), height=0.35, color='orange',alpha=0.8)\n",
    "            ax.barh(k-0.35, width=width_SMB_outer.sel(Nisf=kisf,scenario=scen), left=SMB_quantiles.sel(quantile=0.1).sel(Nisf=kisf,scenario=scen), height=0.35, color='orange',alpha=0.2)#,yerr=d[\"{0}_per1_all_std\".format(var)][4,:])\n",
    "            #ax.barh(k, width=2300-limit_dates['highest_90_threshold'].sel(Nisf=kisf,scenario=scen), left=limit_dates['highest_90_threshold'].sel(Nisf=kisf,scenario=scen), height=0.4, color='darkgrey',hatch='/',alpha=0.9)\n",
    "\n",
    "    ax.set_yticks(yval, labels=file_isf['isf_name'].sel(Nisf=sorted_isf_rignot[::-1]).values)\n",
    "    #ax.set_yticklabels(file_isf['isf_name'].sel(Nisf=sorted_isf_rignot).values)\n",
    "    #ax.set_xlim(2014,2100)\n",
    "    ax.set_title(scen)\n",
    "\n",
    "    sns.despine()\n",
    "    plt.grid(linestyle='--')\n",
    "    plt.tight_layout()"
   ]
  },
  {
   "cell_type": "code",
   "execution_count": null,
   "id": "71",
   "metadata": {},
   "outputs": [],
   "source": [
    "##### CHECK EVERY TERM FOR ONE ICE SHELF"
   ]
  },
  {
   "cell_type": "code",
   "execution_count": null,
   "id": "72",
   "metadata": {},
   "outputs": [],
   "source": [
    "kisf = 41\n",
    "scen = 'ssp585'\n",
    "\n",
    "plt.figure()\n",
    "for mod in mass_balance_simu.model:\n",
    "    for mparam in mass_balance_simu.param:\n",
    "        bmb_combined.sel(model=mod,param=mparam,Nisf=kisf,scenario=scen,time=range(1850,2101)).plot(color='blue', alpha=0.2)\n",
    "plt.title(str(file_isf['isf_name'].sel(Nisf=kisf).values)+' basal melt')\n"
   ]
  },
  {
   "cell_type": "code",
   "execution_count": null,
   "id": "73",
   "metadata": {},
   "outputs": [],
   "source": [
    "kisf = 41\n",
    "scen = 'ssp585'\n",
    "\n",
    "plt.figure()\n",
    "for mod in mass_balance_simu.model:\n",
    "    (-1*melt_atmo_all.sel(model=mod,Nisf=kisf,scenario=scen,time=range(1850,2101))).plot(color='orange', alpha=0.2)\n",
    "plt.title(str(file_isf['isf_name'].sel(Nisf=kisf).values)+' SMB * -1')\n"
   ]
  },
  {
   "cell_type": "code",
   "execution_count": null,
   "id": "74",
   "metadata": {},
   "outputs": [],
   "source": [
    "kisf = 41\n",
    "scen = 'ssp585'\n",
    "\n",
    "plt.figure()\n",
    "plt.axhline(calv.sel(Nisf=kisf),color='olive')\n",
    "plt.title(str(file_isf['isf_name'].sel(Nisf=kisf).values)+' calving')\n"
   ]
  },
  {
   "cell_type": "code",
   "execution_count": null,
   "id": "75",
   "metadata": {},
   "outputs": [],
   "source": [
    "kisf = 41\n",
    "scen = 'ssp585'\n",
    "\n",
    "plt.figure()\n",
    "for mod in mass_balance_simu.m:\n",
    "    plt.axhline(GL_flux_ag['flux_Gt_ABUMIP'].sel(m=m,Nisf=kisf),color='black', alpha=0.2)\n",
    "plt.title(str(file_isf['isf_name'].sel(Nisf=kisf).values)+' ABUMIP limit')\n"
   ]
  },
  {
   "cell_type": "code",
   "execution_count": null,
   "id": "76",
   "metadata": {},
   "outputs": [],
   "source": [
    "##############"
   ]
  },
  {
   "cell_type": "code",
   "execution_count": null,
   "id": "77",
   "metadata": {},
   "outputs": [],
   "source": [
    "nonvia_SMB = nonvia_SMB \n",
    "nonvia_BMB = nonvia_BMB\n",
    "calv = davison_file['calving_obs']"
   ]
  },
  {
   "cell_type": "code",
   "execution_count": null,
   "id": "78",
   "metadata": {},
   "outputs": [],
   "source": [
    "nonvia_SMB_mean = nonvia_SMB.weighted(bay_weights * sens_weights.sel(model=mass_balance_simu.model)).mean(['param','model','m'])\n",
    "nonvia_BMB_mean = nonvia_BMB.weighted(bay_weights * sens_weights.sel(model=mass_balance_simu.model)).mean(['param','model','m'])\n",
    "calv_mean = calv.weighted(bay_weights * sens_weights.sel(model=mass_balance_simu.model)).mean(['param','model','m'])"
   ]
  },
  {
   "cell_type": "code",
   "execution_count": null,
   "id": "79",
   "metadata": {},
   "outputs": [],
   "source": [
    "for scen in ['ssp126','ssp245','ssp585']:\n",
    "    \n",
    "    if scen == 'ssp126':\n",
    "        ccol = 'gold'\n",
    "    elif scen == 'ssp245':\n",
    "        ccol = 'darkorange'\n",
    "    elif scen == 'ssp585':\n",
    "        ccol = 'red'\n",
    "    \n",
    "    fig, ax = plt.subplots()\n",
    "    fig1 = plt.gcf()\n",
    "    fig.set_size_inches(8.25, 8.25*1.5)\n",
    "\n",
    "    yval = np.array(range(len(sorted_isf_rignot)))\n",
    "    #width_plot = width.where(np.isfinite(width), 0)\n",
    "\n",
    "    for k,kisf in enumerate(file_isf.Nisf.sel(Nisf=sorted_isf_rignot[::-1])):\n",
    "        \n",
    "        if kisf in width_BMB_inner.Nisf.values.tolist():\n",
    "            \n",
    "            if nonvia_SMB_mean.sel(Nisf=kisf,scenario=scen) > 0:\n",
    "                lleft = 0\n",
    "            else:\n",
    "                lleft = nonvia_SMB_mean.sel(Nisf=kisf,scenario=scen)\n",
    "                \n",
    "            ax.barh(k+0.2, width=GL_flux_ABUMIP.sel(Nisf=kisf).min(), left=0, height=0.4, color='grey',alpha=1.0)\n",
    "            ax.barh(k+0.2, width=GL_flux_ABUMIP.sel(Nisf=kisf).median(), left=GL_flux_ABUMIP.sel(Nisf=kisf).min(), height=0.4, color='grey',alpha=0.6)\n",
    "            ax.barh(k+0.2, width=GL_flux_ABUMIP.sel(Nisf=kisf).max(), left=GL_flux_ABUMIP.sel(Nisf=kisf).min() + GL_flux_ABUMIP.sel(Nisf=kisf).median(), height=0.4, color='grey',alpha=0.3)\n",
    "            \n",
    "            ax.barh(k-0.2, width=np.abs(nonvia_SMB_mean.sel(Nisf=kisf,scenario=scen)), left=lleft, height=0.4, color='orange')\n",
    "            ax.barh(k-0.2, width=nonvia_BMB_mean.sel(Nisf=kisf,scenario=scen), left=lleft+np.abs(nonvia_SMB_mean.sel(Nisf=kisf,scenario=scen)), height=0.4, color='blue')#,yerr=d[\"{0}_per1_all_std\".format(var)][4,:])\n",
    "            ax.barh(k-0.2, width=calv.sel(Nisf=kisf),left=nonvia_BMB_mean.sel(Nisf=kisf,scenario=scen) + lleft+np.abs(nonvia_SMB_mean.sel(Nisf=kisf,scenario=scen)), height=0.4, color='olive')\n",
    "            \n",
    "    ax.set_yticks(yval, labels=file_isf['isf_name'].sel(Nisf=sorted_isf_rignot[::-1]).values)\n",
    "    #ax.set_yticklabels(file_isf['isf_name'].sel(Nisf=sorted_isf_rignot).values)\n",
    "    #ax.set_xlim(2014,2100)\n",
    "    ax.set_title(scen)\n",
    "\n",
    "    sns.despine()\n",
    "    plt.grid(linestyle='--')\n",
    "    plt.tight_layout()"
   ]
  },
  {
   "cell_type": "markdown",
   "id": "80",
   "metadata": {},
   "source": [
    "Look where ABUMIP is below Davison calving flux"
   ]
  },
  {
   "cell_type": "code",
   "execution_count": null,
   "id": "81",
   "metadata": {},
   "outputs": [],
   "source": [
    "for kisf in sorted_isf_rignot:\n",
    "    if GL_flux_ABUMIP.sel(Nisf=kisf).min() < calv.sel(Nisf=kisf):\n",
    "        print(kisf, file_isf['isf_name'].sel(Nisf=kisf).values)"
   ]
  },
  {
   "cell_type": "code",
   "execution_count": null,
   "id": "82",
   "metadata": {},
   "outputs": [],
   "source": [
    "nonvia_SMB_perc = nonvia_SMB / nonvia_GLflux * 100\n",
    "nonvia_BMB_perc = nonvia_BMB / nonvia_GLflux * 100\n",
    "calv_perc = davison_file['calving_obs'] / nonvia_GLflux * 100"
   ]
  },
  {
   "cell_type": "code",
   "execution_count": null,
   "id": "83",
   "metadata": {},
   "outputs": [],
   "source": [
    "nonvia_SMB_perc_mean = nonvia_SMB_perc.weighted(bay_weights * sens_weights.sel(model=mass_balance_simu.model)).mean(['param','model','m'])\n",
    "nonvia_BMB_perc_mean = nonvia_BMB_perc.weighted(bay_weights * sens_weights.sel(model=mass_balance_simu.model)).mean(['param','model','m'])\n",
    "calv_perc_mean = calv_perc.weighted(bay_weights * sens_weights.sel(model=mass_balance_simu.model)).mean(['param','model','m'])"
   ]
  },
  {
   "cell_type": "code",
   "execution_count": null,
   "id": "84",
   "metadata": {},
   "outputs": [],
   "source": [
    "nonvia_BMB_perc_mean.mean('Nisf')"
   ]
  },
  {
   "cell_type": "code",
   "execution_count": null,
   "id": "85",
   "metadata": {},
   "outputs": [],
   "source": [
    "calv_perc_mean.mean('Nisf')"
   ]
  },
  {
   "cell_type": "code",
   "execution_count": null,
   "id": "86",
   "metadata": {},
   "outputs": [],
   "source": [
    "for scen in ['ssp126','ssp245','ssp585']:\n",
    "    \n",
    "    if scen == 'ssp126':\n",
    "        ccol = 'gold'\n",
    "    elif scen == 'ssp245':\n",
    "        ccol = 'darkorange'\n",
    "    elif scen == 'ssp585':\n",
    "        ccol = 'red'\n",
    "    \n",
    "    fig, ax = plt.subplots()\n",
    "    fig1 = plt.gcf()\n",
    "    fig.set_size_inches(8.25, 8.25*1.5)\n",
    "\n",
    "    yval = np.array(range(len(sorted_isf_rignot)))\n",
    "    #width_plot = width.where(np.isfinite(width), 0)\n",
    "\n",
    "    for k,kisf in enumerate(file_isf.Nisf.sel(Nisf=sorted_isf_rignot[::-1])):\n",
    "        if kisf in width_BMB_inner.Nisf.values.tolist():\n",
    "            #ax.barh(k+0.2, width=GLflux_quantiles.sel(quantile=0.5).sel(Nisf=kisf,scenario=scen), left=0, height=0.4, color='deepskyblue',alpha=0.4)\n",
    "            if nonvia_SMB_perc_mean.sel(Nisf=kisf,scenario=scen) > 0:\n",
    "                lleft = 0\n",
    "            else:\n",
    "                lleft = nonvia_SMB_perc_mean.sel(Nisf=kisf,scenario=scen)\n",
    "            ax.barh(k, width=np.abs(nonvia_SMB_perc_mean.sel(Nisf=kisf,scenario=scen)), left=lleft, height=0.4, color='orange')#,yerr=d[\"{0}_per1_all_std\".format(var)][4,:])\n",
    "            ax.barh(k, width=nonvia_BMB_perc_mean.sel(Nisf=kisf,scenario=scen), left=lleft+np.abs(nonvia_SMB_perc_mean.sel(Nisf=kisf,scenario=scen)), height=0.4, color='blue')\n",
    "            ax.barh(k, width=calv_perc_mean.sel(Nisf=kisf,scenario=scen), left=nonvia_BMB_perc_mean.sel(Nisf=kisf,scenario=scen) + lleft+np.abs(nonvia_SMB_perc_mean.sel(Nisf=kisf,scenario=scen)), height=0.4, color='olive')#,yerr=d[\"{0}_per1_all_std\".format(var)][4,:])\n",
    "            \n",
    "            #if lleft == nonvia_SMB_perc_mean.sel(Nisf=kisf,scenario=scen):\n",
    "            #    ax.barh(k, width=np.abs(nonvia_SMB_perc_mean.sel(Nisf=kisf,scenario=scen)), left=nonvia_BMB_perc_mean.sel(Nisf=kisf,scenario=scen) + lleft + calv_perc_mean.sel(Nisf=kisf,scenario=scen), hatch=r\"\\\\\", facecolor='white', height=0.4, alpha=0.6)\n",
    "                \n",
    "            #ax.barh(k, width=2300-limit_dates['highest_90_threshold'].sel(Nisf=kisf,scenario=scen), left=limit_dates['highest_90_threshold'].sel(Nisf=kisf,scenario=scen), height=0.4, color='darkgrey',hatch='/',alpha=0.9)\n",
    "\n",
    "    ax.set_yticks(yval, labels=file_isf['isf_name'].sel(Nisf=sorted_isf_rignot[::-1]).values)\n",
    "    #ax.set_yticklabels(file_isf['isf_name'].sel(Nisf=sorted_isf_rignot).values)\n",
    "    #ax.set_xlim(2014,2100)\n",
    "    ax.set_title(scen)\n",
    "\n",
    "    sns.despine()\n",
    "    plt.grid(linestyle='--')\n",
    "    plt.tight_layout()\n",
    "    plt.savefig(plot_path + 'barplots_percentage_of_ABUMIP_until2100_'+scen+'.pdf')"
   ]
  },
  {
   "cell_type": "code",
   "execution_count": null,
   "id": "87",
   "metadata": {},
   "outputs": [],
   "source": [
    "nonvia_SMB_perc_median = nonvia_SMB_perc.weighted(bay_weights * sens_weights.sel(model=mass_balance_simu.model)).quantile(0.5, dim=['param','model','m'])\n",
    "nonvia_BMB_perc_median = nonvia_BMB_perc.weighted(bay_weights * sens_weights.sel(model=mass_balance_simu.model)).quantile(0.5, dim=['param','model','m'])"
   ]
  },
  {
   "cell_type": "code",
   "execution_count": null,
   "id": "88",
   "metadata": {},
   "outputs": [],
   "source": [
    "for scen in ['ssp126','ssp245','ssp585']:\n",
    "    \n",
    "    if scen == 'ssp126':\n",
    "        ccol = 'gold'\n",
    "    elif scen == 'ssp245':\n",
    "        ccol = 'darkorange'\n",
    "    elif scen == 'ssp585':\n",
    "        ccol = 'red'\n",
    "    \n",
    "    fig, ax = plt.subplots()\n",
    "    fig1 = plt.gcf()\n",
    "    fig.set_size_inches(8.25, 8.25*1.5)\n",
    "\n",
    "    yval = np.array(range(len(sorted_isf_rignot)))\n",
    "    #width_plot = width.where(np.isfinite(width), 0)\n",
    "\n",
    "    for k,kisf in enumerate(file_isf.Nisf.sel(Nisf=sorted_isf_rignot[::-1])):\n",
    "        if kisf in width_BMB_inner.Nisf.values.tolist():\n",
    "            #ax.barh(k+0.2, width=GLflux_quantiles.sel(quantile=0.5).sel(Nisf=kisf,scenario=scen), left=0, height=0.4, color='deepskyblue',alpha=0.4)\n",
    "            ax.barh(k, width=nonvia_BMB_perc_median.sel(Nisf=kisf,scenario=scen), left=0, height=0.4, color='blue')\n",
    "            ax.barh(k, width=nonvia_SMB_perc_median.sel(Nisf=kisf,scenario=scen), left=nonvia_BMB_perc_median.sel(Nisf=kisf,scenario=scen), height=0.4, color='orange')#,yerr=d[\"{0}_per1_all_std\".format(var)][4,:])\n",
    "            #ax.barh(k, width=2300-limit_dates['highest_90_threshold'].sel(Nisf=kisf,scenario=scen), left=limit_dates['highest_90_threshold'].sel(Nisf=kisf,scenario=scen), height=0.4, color='darkgrey',hatch='/',alpha=0.9)\n",
    "\n",
    "    ax.set_yticks(yval, labels=file_isf['isf_name'].sel(Nisf=sorted_isf_rignot[::-1]).values)\n",
    "    #ax.set_yticklabels(file_isf['isf_name'].sel(Nisf=sorted_isf_rignot).values)\n",
    "    #ax.set_xlim(2014,2100)\n",
    "    ax.set_title(scen)\n",
    "\n",
    "    sns.despine()\n",
    "    plt.grid(linestyle='--')\n",
    "    plt.tight_layout()"
   ]
  },
  {
   "cell_type": "markdown",
   "id": "89",
   "metadata": {},
   "source": [
    "Compute viability limit for 2300"
   ]
  },
  {
   "cell_type": "code",
   "execution_count": null,
   "id": "90",
   "metadata": {},
   "outputs": [],
   "source": [
    "non_viable_ensmembers_2300 = mass_balance_simu_2300 > 0\n",
    "\n",
    "non_via_diff_2300 = non_viable_ensmembers_2300.sel(time=range(2299,1849,-1)).cumsum('time').diff('time')\n",
    "limit_via_max_2300 = non_via_diff_2300.time.where(non_via_diff_2300 == 0).max('time') + 1\n",
    "limit_via_max_2300 = limit_via_max_2300.where(limit_via_max_2300<2299)\n",
    "limit_via_max_2300 = limit_via_max_2300.where(~(np.isnan(limit_via_max_2300) & non_viable_ensmembers_2300.sel(time=1850)), 1850)"
   ]
  },
  {
   "cell_type": "code",
   "execution_count": null,
   "id": "91",
   "metadata": {},
   "outputs": [],
   "source": [
    "GL_flux_diff = GL_flux_ag['flux_Gt_ABUMIP'] - GL_flux_ag['flux_Gt_ref']\n",
    "GL_flux_ABUMIP = GL_flux_ag['flux_Gt_ABUMIP']\n",
    "SMB_2300 = - 1*melt_atmo_all.sel(model=mass_balance_simu_2300.model)\n",
    "BMB_2300 = bmb_combined.sel(model=mass_balance_simu_2300.model)"
   ]
  },
  {
   "cell_type": "code",
   "execution_count": null,
   "id": "92",
   "metadata": {},
   "outputs": [],
   "source": [
    "non_viable_time_2300 = limit_via_max_2300"
   ]
  },
  {
   "cell_type": "code",
   "execution_count": null,
   "id": "93",
   "metadata": {},
   "outputs": [],
   "source": [
    "GL_flux_ABUMIP_br, BMB_2300_br = xr.broadcast(GL_flux_ag['flux_Gt_ABUMIP'], BMB_2300)\n",
    "SMB_2300_br, _ = xr.broadcast(SMB_2300, BMB_2300_br)\n",
    "time_2300_br, _ = xr.broadcast(BMB_2300_br.time, BMB_2300_br)"
   ]
  },
  {
   "cell_type": "code",
   "execution_count": null,
   "id": "94",
   "metadata": {},
   "outputs": [],
   "source": [
    "nonvia_GLflux = GL_flux_ABUMIP_br.where(time_br == non_viable_time_2300, drop=True).max('time')\n",
    "nonvia_SMB_2300 = SMB_2300_br.where(time_br == non_viable_time_2300, drop=True).max('time')\n",
    "nonvia_BMB_2300 = BMB_2300_br.where(time_br == non_viable_time_2300, drop=True).max('time')"
   ]
  },
  {
   "cell_type": "code",
   "execution_count": null,
   "id": "95",
   "metadata": {},
   "outputs": [],
   "source": [
    "all_weights_2300 = bay_weights * sens_weights.sel(model=mass_balance_simu_2300.model)"
   ]
  },
  {
   "cell_type": "code",
   "execution_count": null,
   "id": "96",
   "metadata": {},
   "outputs": [],
   "source": [
    "nonvia_BMB_2300_weighted = nonvia_BMB_2300.weighted(bay_weights * sens_weights.sel(model=mass_balance_simu_2300.model))\n",
    "nonvia_SMB_2300_weighted = nonvia_SMB_2300.weighted(bay_weights * sens_weights.sel(model=mass_balance_simu_2300.model))\n",
    "nonvia_GLflux_2300_weighted = nonvia_GLflux.weighted(bay_weights * sens_weights.sel(model=mass_balance_simu_2300.model))"
   ]
  },
  {
   "cell_type": "code",
   "execution_count": null,
   "id": "97",
   "metadata": {},
   "outputs": [],
   "source": [
    "BMB_2300_quantiles = nonvia_BMB_2300_weighted.quantile([0.1,0.33,0.5,0.66,0.9],dim=['model','param','m'])\n",
    "SMB_2300_quantiles = nonvia_SMB_2300_weighted.quantile([0.1,0.33,0.5,0.66,0.9],dim=['model','param','m'])\n",
    "GLflux_2300_quantiles = nonvia_GLflux_2300_weighted.quantile([0.1,0.33,0.5,0.66,0.9],dim=['model','param','m'])"
   ]
  },
  {
   "cell_type": "code",
   "execution_count": null,
   "id": "98",
   "metadata": {},
   "outputs": [],
   "source": [
    "nonvia_SMB_2300_perc = nonvia_SMB_2300 / nonvia_GLflux * 100\n",
    "nonvia_BMB_2300_perc = nonvia_BMB_2300 / nonvia_GLflux * 100\n",
    "calv_perc = davison_file['calving_obs'] / nonvia_GLflux * 100"
   ]
  },
  {
   "cell_type": "code",
   "execution_count": null,
   "id": "99",
   "metadata": {},
   "outputs": [],
   "source": [
    "nonvia_SMB_2300_perc_mean = nonvia_SMB_2300_perc.weighted(bay_weights * sens_weights.sel(model=mass_balance_simu_2300.model)).mean(['param','model','m'])\n",
    "nonvia_BMB_2300_perc_mean = nonvia_BMB_2300_perc.weighted(bay_weights * sens_weights.sel(model=mass_balance_simu_2300.model)).mean(['param','model','m'])\n",
    "calv_2300_perc_mean = calv_perc.weighted(bay_weights * sens_weights.sel(model=mass_balance_simu_2300.model)).mean(['param','model','m'])"
   ]
  },
  {
   "cell_type": "code",
   "execution_count": null,
   "id": "100",
   "metadata": {},
   "outputs": [],
   "source": [
    "calv_2300_perc_mean.mean('Nisf')"
   ]
  },
  {
   "cell_type": "code",
   "execution_count": null,
   "id": "101",
   "metadata": {},
   "outputs": [],
   "source": [
    "for scen in ['ssp126','ssp245','ssp585']:\n",
    "    \n",
    "    if scen == 'ssp126':\n",
    "        ccol = 'gold'\n",
    "    elif scen == 'ssp245':\n",
    "        ccol = 'darkorange'\n",
    "    elif scen == 'ssp585':\n",
    "        ccol = 'red'\n",
    "    \n",
    "    fig, ax = plt.subplots()\n",
    "    fig1 = plt.gcf()\n",
    "    fig.set_size_inches(8.25, 8.25*1.5)\n",
    "\n",
    "    yval = np.array(range(len(sorted_isf_rignot)))\n",
    "    #width_plot = width.where(np.isfinite(width), 0)\n",
    "\n",
    "    for k,kisf in enumerate(file_isf.Nisf.sel(Nisf=sorted_isf_rignot[::-1])):\n",
    "        if kisf in mass_balance_simu_2300.Nisf.values.tolist():\n",
    "            #ax.barh(k+0.2, width=GLflux_quantiles.sel(quantile=0.5).sel(Nisf=kisf,scenario=scen), left=0, height=0.4, color='deepskyblue',alpha=0.4)\n",
    "            if nonvia_SMB_2300_perc_mean.sel(Nisf=kisf,scenario=scen) > 0:\n",
    "                lleft = 0\n",
    "            else:\n",
    "                lleft = nonvia_SMB_2300_perc_mean.sel(Nisf=kisf,scenario=scen)\n",
    "            ax.barh(k, width=np.abs(nonvia_SMB_2300_perc_mean.sel(Nisf=kisf,scenario=scen)), left=lleft, height=0.4, color='orange')#,yerr=d[\"{0}_per1_all_std\".format(var)][4,:])\n",
    "            ax.barh(k, width=nonvia_BMB_2300_perc_mean.sel(Nisf=kisf,scenario=scen), left=lleft+np.abs(nonvia_SMB_2300_perc_mean.sel(Nisf=kisf,scenario=scen)), height=0.4, color='blue')\n",
    "            ax.barh(k, width=calv_2300_perc_mean.sel(Nisf=kisf,scenario=scen), left=nonvia_BMB_2300_perc_mean.sel(Nisf=kisf,scenario=scen) + lleft+np.abs(nonvia_SMB_2300_perc_mean.sel(Nisf=kisf,scenario=scen)), height=0.4, color='olive')#,yerr=d[\"{0}_per1_all_std\".format(var)][4,:])\n",
    "            \n",
    "            #if lleft == nonvia_SMB_perc_mean.sel(Nisf=kisf,scenario=scen):\n",
    "            #    ax.barh(k, width=np.abs(nonvia_SMB_perc_mean.sel(Nisf=kisf,scenario=scen)), left=nonvia_BMB_perc_mean.sel(Nisf=kisf,scenario=scen) + lleft + calv_perc_mean.sel(Nisf=kisf,scenario=scen), hatch=r\"\\\\\", facecolor='white', height=0.4, alpha=0.6)\n",
    "                \n",
    "            #ax.barh(k, width=2300-limit_dates['highest_90_threshold'].sel(Nisf=kisf,scenario=scen), left=limit_dates['highest_90_threshold'].sel(Nisf=kisf,scenario=scen), height=0.4, color='darkgrey',hatch='/',alpha=0.9)\n",
    "\n",
    "    ax.set_yticks(yval, labels=file_isf['isf_name'].sel(Nisf=sorted_isf_rignot[::-1]).values)\n",
    "    #ax.set_yticklabels(file_isf['isf_name'].sel(Nisf=sorted_isf_rignot).values)\n",
    "    #ax.set_xlim(2014,2100)\n",
    "    ax.set_title(scen)\n",
    "\n",
    "    sns.despine()\n",
    "    plt.grid(linestyle='--')\n",
    "    plt.tight_layout()\n",
    "    plt.savefig(plot_path + 'barplots_percentage_of_ABUMIP_until2300_'+scen+'.pdf')"
   ]
  },
  {
   "cell_type": "markdown",
   "id": "102",
   "metadata": {},
   "source": [
    "Then do a weighted mean"
   ]
  },
  {
   "cell_type": "code",
   "execution_count": null,
   "id": "103",
   "metadata": {},
   "outputs": [],
   "source": [
    "BMB_simu_list = []\n",
    "for kisf in tqdm(file_isf.Nisf):\n",
    "    if ano_and_weights['ano_choice'].sel(Nisf=kisf).values == 'NEMO':\n",
    "        BMB_simu_list.append(Gt_all_mod_anoNEMO.sel(Nisf=kisf))\n",
    "    elif ano_and_weights['ano_choice'].sel(Nisf=kisf).values == 'ISMIP':\n",
    "        BMB_simu_list.append(Gt_all_mod_anoISMIP.sel(Nisf=kisf))\n",
    "BMB_simu = xr.concat(BMB_simu_list, dim='Nisf')"
   ]
  },
  {
   "cell_type": "code",
   "execution_count": null,
   "id": "104",
   "metadata": {},
   "outputs": [],
   "source": [
    "BMB_perc = (BMB_simu / mass_balance_simu).where(non_viable_mask)\n",
    "SMB_perc = (melt_atmo_all / mass_balance_simu).where(non_viable_mask)"
   ]
  },
  {
   "cell_type": "markdown",
   "id": "105",
   "metadata": {},
   "source": [
    "Need to think more about this!!!!!! It is tricky"
   ]
  },
  {
   "cell_type": "markdown",
   "id": "106",
   "metadata": {},
   "source": [
    "VIABILITY LIMIT (this was dividing the m's, not needed anymore)"
   ]
  },
  {
   "cell_type": "code",
   "execution_count": null,
   "id": "107",
   "metadata": {},
   "outputs": [],
   "source": [
    "limit_dates = xr.Dataset()\n",
    "\n",
    "# 66 % above lowest ABUMIP limit\n",
    "limit_dates['lowest_66'] = ensstat_weighted.sel(quantile=0.66) > 0\n",
    "\n",
    "# 90 % above lowest ABUMIP limit\n",
    "limit_dates['lowest_90'] = ensstat_weighted.sel(quantile=0.90) > GL_flux_ABUMIP_inone.min('m')\n",
    "\n",
    "# 66 % above highest ABUMIP limit\n",
    "limit_dates['highest_66'] = ensstat_weighted.sel(quantile=0.66) > GL_flux_ABUMIP_inone.max('m')\n",
    "\n",
    "# 90 % above highest ABUMIP limit\n",
    "limit_dates['highest_90'] = ensstat_weighted.sel(quantile=0.90) > GL_flux_ABUMIP_inone.max('m')"
   ]
  },
  {
   "cell_type": "code",
   "execution_count": null,
   "id": "108",
   "metadata": {},
   "outputs": [],
   "source": [
    "kisf=66\n",
    "scen = 'ssp585'\n",
    "\n",
    "limit_dates['highest_66'].sel(scenario='ssp585', Nisf=kisf).plot()"
   ]
  },
  {
   "cell_type": "code",
   "execution_count": null,
   "id": "109",
   "metadata": {},
   "outputs": [],
   "source": [
    "for stat in ['lowest_66','highest_66','lowest_90','highest_90']:\n",
    "    fyear = limit_dates[stat].cumsum('time')\n",
    "    time_br, _ = xr.broadcast(limit_dates.time, limit_dates)\n",
    "    limit_dates[stat+'_threshold'] = time_br.where(fyear == 1).max('time')\n",
    "    limit_dates[stat+'_threshold'] = limit_dates[stat+'_threshold'].where(np.isfinite(limit_dates[stat+'_threshold']),2014)"
   ]
  },
  {
   "cell_type": "code",
   "execution_count": null,
   "id": "110",
   "metadata": {},
   "outputs": [],
   "source": [
    "width = xr.Dataset()\n",
    "#for scen in ['historical','ssp126','ssp245','ssp585']:\n",
    "    #allmax = limit_dates['highest_66_threshold'].where(limit_dates['highest_90_threshold'] <= limit_dates['highest_66_threshold'], limit_dates['highest_90_threshold'])\n",
    "    #allmin = limit_dates['lowest_66_threshold'].where(limit_dates['lowest_90_threshold'] >= limit_dates['lowest_66_threshold'], limit_dates['lowest_90_threshold'])\n",
    "width['range66'] = limit_dates['highest_66_threshold'] - limit_dates['lowest_66_threshold']\n",
    "width['range90'] = limit_dates['highest_90_threshold'] - limit_dates['lowest_90_threshold']\n",
    "    #'historical',"
   ]
  },
  {
   "cell_type": "code",
   "execution_count": null,
   "id": "111",
   "metadata": {},
   "outputs": [],
   "source": [
    "scen='ssp585'\n",
    "kisf = 66\n",
    "\n",
    "limit_dates_list = []\n",
    "for stat in ['lowest_66','highest_66','lowest_90','highest_90']:\n",
    "    print(stat)\n",
    "    limit_dates_scen_list = []\n",
    "    for scen in ['historical','ssp126','ssp245','ssp585']:\n",
    "        if scen == 'historical':\n",
    "            limit_dates[stat] = 1850 + (limit_dates[stat+'_threshold'].sel(scenario=scen) == False).sum('time')\n",
    "        else:\n",
    "            limit_dates[stat] = 2014 + (limit_dates[stat+'_threshold'].sel(scenario=scen) == False).sum('time')\n",
    "        limit_dates_scen_list.append(limit_dates[stat].assign_coords({'scenario': scen}))\n",
    "    limit_dates_scen = xr.concat(limit_dates_scen_list, dim='scenario')\n",
    "    limit_dates_list.append(limit_dates_scen)\n",
    "limit_dates_all = xr.merge(limit_dates_list)\n",
    "\n",
    "\n"
   ]
  },
  {
   "cell_type": "code",
   "execution_count": null,
   "id": "112",
   "metadata": {},
   "outputs": [],
   "source": [
    "ensstat_weighted['quantile']"
   ]
  },
  {
   "cell_type": "code",
   "execution_count": null,
   "id": "113",
   "metadata": {},
   "outputs": [],
   "source": [
    "width_plot['historical_66'].sel(Nisf=kisf)"
   ]
  },
  {
   "cell_type": "code",
   "execution_count": null,
   "id": "114",
   "metadata": {},
   "outputs": [],
   "source": []
  },
  {
   "cell_type": "code",
   "execution_count": null,
   "id": "115",
   "metadata": {},
   "outputs": [],
   "source": [
    "for scen in ['ssp126','ssp245','ssp585']:\n",
    "    \n",
    "    if scen == 'ssp126':\n",
    "        ccol = 'gold'\n",
    "    elif scen == 'ssp245':\n",
    "        ccol = 'darkorange'\n",
    "    elif scen == 'ssp585':\n",
    "        ccol = 'red'\n",
    "    \n",
    "    fig, ax = plt.subplots()\n",
    "    fig1 = plt.gcf()\n",
    "    fig.set_size_inches(8.25, 8.25*1.5)\n",
    "\n",
    "    yval = np.array(range(len(sorted_isf_rignot)))\n",
    "    width_plot = width.where(np.isfinite(width), 0)\n",
    "\n",
    "    for k,kisf in enumerate(file_isf.Nisf.sel(Nisf=sorted_isf_rignot[::-1])):\n",
    "        ax.barh(k, width=width_plot['range66'].sel(Nisf=kisf,scenario=scen), left=limit_dates['lowest_66_threshold'].sel(Nisf=kisf,scenario=scen), height=0.35, color=ccol,alpha=0.4)\n",
    "        ax.barh(k, width=width_plot['range90'].sel(Nisf=kisf,scenario=scen), left=limit_dates['lowest_90_threshold'].sel(Nisf=kisf,scenario=scen), height=0.35, color=ccol,alpha=0.4)#,yerr=d[\"{0}_per1_all_std\".format(var)][4,:])\n",
    "        #ax.barh(k, width=2300-limit_dates['highest_90_threshold'].sel(Nisf=kisf,scenario=scen), left=limit_dates['highest_90_threshold'].sel(Nisf=kisf,scenario=scen), height=0.4, color='darkgrey',hatch='/',alpha=0.9)\n",
    "        \n",
    "    ax.set_yticks(yval, labels=file_isf['isf_name'].sel(Nisf=sorted_isf_rignot[::-1]).values)\n",
    "    #ax.set_yticklabels(file_isf['isf_name'].sel(Nisf=sorted_isf_rignot).values)\n",
    "    ax.set_xlim(2014,2100)\n",
    "    ax.set_title(scen)\n",
    "\n",
    "    sns.despine()\n",
    "    plt.grid(linestyle='--')\n",
    "    plt.tight_layout()\n",
    "    \n",
    "    fig.savefig(plot_path + 'barplots_'+scen+'_until2100.png')\n"
   ]
  },
  {
   "cell_type": "code",
   "execution_count": null,
   "id": "116",
   "metadata": {},
   "outputs": [],
   "source": [
    "for scen in ['ssp126','ssp245','ssp585']:\n",
    "    \n",
    "    if scen == 'ssp126':\n",
    "        ccol = 'gold'\n",
    "    elif scen == 'ssp245':\n",
    "        ccol = 'darkorange'\n",
    "    elif scen == 'ssp585':\n",
    "        ccol = 'red'\n",
    "    \n",
    "    fig, ax = plt.subplots()\n",
    "    fig1 = plt.gcf()\n",
    "    fig.set_size_inches(8.25, 8.25*1.5)\n",
    "\n",
    "    yval = np.array(range(len(sorted_isf_rignot)))\n",
    "    width_plot = width.where(np.isfinite(width), 0)\n",
    "\n",
    "    for k,kisf in enumerate(file_isf.Nisf.sel(Nisf=sorted_isf_rignot[::-1])):\n",
    "        ax.barh(k, width=width_plot['range66'].sel(Nisf=kisf,scenario=scen), left=limit_dates['lowest_66_threshold'].sel(Nisf=kisf,scenario=scen), height=0.8, color=ccol,alpha=0.4)\n",
    "        ax.barh(k, width=width_plot['range90'].sel(Nisf=kisf,scenario=scen), left=limit_dates['lowest_90_threshold'].sel(Nisf=kisf,scenario=scen), height=0.8, color=ccol,alpha=0.4)#,yerr=d[\"{0}_per1_all_std\".format(var)][4,:])\n",
    "\n",
    "    ax.set_yticks(yval, labels=file_isf['isf_name'].sel(Nisf=sorted_isf_rignot[::-1]).values)\n",
    "    #ax.set_yticklabels(file_isf['isf_name'].sel(Nisf=sorted_isf_rignot).values)\n",
    "    ax.set_xlim(2014,2300)\n",
    "    ax.set_title(scen)\n",
    "\n",
    "    sns.despine()\n",
    "    plt.grid(linestyle='--')\n",
    "    plt.tight_layout()\n",
    "    \n",
    "    \n",
    "    fig.savefig(plot_path + 'barplots_'+scen+'_until2300.png')\n"
   ]
  },
  {
   "cell_type": "code",
   "execution_count": null,
   "id": "117",
   "metadata": {},
   "outputs": [],
   "source": [
    "scen = 'historical'\n",
    "ccol = 'darkgrey'\n",
    "\n",
    "\n",
    "fig, ax = plt.subplots()\n",
    "fig1 = plt.gcf()\n",
    "fig.set_size_inches(8.25, 8.25*1.5)\n",
    "\n",
    "yval = np.array(range(len(sorted_isf_rignot)))\n",
    "width_plot = width.where(np.isfinite(width), 0)\n",
    "\n",
    "for k,kisf in enumerate(file_isf.Nisf.sel(Nisf=sorted_isf_rignot[::-1])):\n",
    "    ax.barh(k, width=width_plot['range66'].sel(Nisf=kisf,scenario=scen), left=limit_dates['lowest_66_threshold'].sel(Nisf=kisf,scenario=scen), height=0.8, color=ccol,alpha=0.4)\n",
    "    ax.barh(k, width=width_plot['range90'].sel(Nisf=kisf,scenario=scen), left=limit_dates['lowest_90_threshold'].sel(Nisf=kisf,scenario=scen), height=0.8, color=ccol,alpha=0.4)#,yerr=d[\"{0}_per1_all_std\".format(var)][4,:])\n",
    "\n",
    "ax.set_yticks(yval, labels=file_isf['isf_name'].sel(Nisf=sorted_isf_rignot[::-1]).values)\n",
    "#ax.set_yticklabels(file_isf['isf_name'].sel(Nisf=sorted_isf_rignot).values)\n",
    "ax.set_xlim(1850,2014)\n",
    "ax.set_title(scen)\n",
    "\n",
    "sns.despine()\n",
    "plt.grid(linestyle='--')\n",
    "plt.tight_layout()\n",
    "\n",
    "fig.savefig(plot_path + 'barplots_'+scen+'.png')\n"
   ]
  },
  {
   "cell_type": "code",
   "execution_count": null,
   "id": "118",
   "metadata": {},
   "outputs": [],
   "source": [
    "fig, ax = plt.subplots()\n",
    "fig1 = plt.gcf()\n",
    "fig.set_size_inches(8.25, 8.25*2)\n",
    "\n",
    "yval = np.array(range(len(sorted_isf_rignot)))\n",
    "width_plot = width.where(np.isfinite(width), 0)\n",
    "\n",
    "for kisf in file_isf.Nisf.sel(Nisf=sorted_isf_rignot):\n",
    "    scen = 'ssp126'\n",
    "    ax.barh(kisf, width=width_plot['range66'].sel(Nisf=kisf,scenario=scen), left=limit_dates['lowest_66_threshold'].sel(Nisf=kisf,scenario=scen), height=0.2, color='gold',alpha=0.5)\n",
    "    ax.barh(kisf, width=width_plot['range90'].sel(Nisf=kisf,scenario=scen), left=limit_dates['lowest_90_threshold'].sel(Nisf=kisf,scenario=scen), height=0.2, color='gold',alpha=0.5)#,yerr=d[\"{0}_per1_all_std\".format(var)][4,:])\n",
    "    scen = 'ssp245'\n",
    "    ax.barh(kisf+0.25, width=width_plot['range66'].sel(Nisf=kisf,scenario=scen), left=limit_dates['lowest_66_threshold'].sel(Nisf=kisf,scenario=scen), height=0.2, color='darkorange',alpha=0.5)\n",
    "    ax.barh(kisf+0.25, width=width_plot['range90'].sel(Nisf=kisf,scenario=scen), left=limit_dates['lowest_90_threshold'].sel(Nisf=kisf,scenario=scen), height=0.2, color='darkorange',alpha=0.5)#,yerr=d[\"{0}_per1_all_std\".format(var)][4,:])\n",
    "    scen = 'ssp585'\n",
    "    ax.barh(kisf+0.5, width=width_plot['range66'].sel(Nisf=kisf,scenario=scen), left=limit_dates['lowest_66_threshold'].sel(Nisf=kisf,scenario=scen), height=0.2, color='red',alpha=0.5)\n",
    "    ax.barh(kisf+0.5, width=width_plot['range90'].sel(Nisf=kisf,scenario=scen), left=limit_dates['lowest_90_threshold'].sel(Nisf=kisf,scenario=scen), height=0.2, color='red',alpha=0.5)#,yerr=d[\"{0}_per1_all_std\".format(var)][4,:])\n",
    "\n",
    "ax.set_yticks(yval+0.25, labels=file_isf['isf_name'].sel(Nisf=sorted_isf_rignot).values)\n",
    "#ax.set_yticklabels(file_isf['isf_name'].sel(Nisf=sorted_isf_rignot).values)\n",
    "ax.set_xlim(2014,2100)\n",
    "\n",
    "sns.despine()\n",
    "plt.grid()\n"
   ]
  }
 ],
 "metadata": {
  "kernelspec": {
   "display_name": "py38",
   "language": "python",
   "name": "py38"
  },
  "language_info": {
   "codemirror_mode": {
    "name": "ipython",
    "version": 3
   },
   "file_extension": ".py",
   "mimetype": "text/x-python",
   "name": "python",
   "nbconvert_exporter": "python",
   "pygments_lexer": "ipython3",
   "version": "3.8.20"
  }
 },
 "nbformat": 4,
 "nbformat_minor": 5
}
