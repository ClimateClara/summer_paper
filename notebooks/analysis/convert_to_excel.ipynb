{
 "cells": [
  {
   "cell_type": "code",
   "execution_count": null,
   "id": "0",
   "metadata": {},
   "outputs": [],
   "source": [
    "\"\"\"\n",
    "\n",
    "Convert netcdf to excel file if it works\n",
    "\n",
    "\"\"\""
   ]
  },
  {
   "cell_type": "code",
   "execution_count": null,
   "id": "1",
   "metadata": {},
   "outputs": [],
   "source": [
    "import xarray as xr"
   ]
  },
  {
   "cell_type": "code",
   "execution_count": null,
   "id": "2",
   "metadata": {},
   "outputs": [],
   "source": [
    "inputpath_data = '/bettik/burgardc/DATA/SUMMER_PAPER_FOR_ZENODO/'\n",
    "inputpath_data2 = '/bettik/burgardc/DATA/SUMMER_PAPER/processed/ANALYSIS/'\n",
    "outputpath_csv = '/bettik/burgardc/DATA/SUMMER_PAPER/csv/'"
   ]
  },
  {
   "cell_type": "markdown",
   "id": "3",
   "metadata": {},
   "source": [
    "Hydrofracturing"
   ]
  },
  {
   "cell_type": "code",
   "execution_count": null,
   "id": "4",
   "metadata": {},
   "outputs": [],
   "source": [
    "DS = xr.open_dataset(inputpath_data + 'hydrofracturing_limits_new.nc')\n"
   ]
  },
  {
   "cell_type": "code",
   "execution_count": null,
   "id": "5",
   "metadata": {},
   "outputs": [],
   "source": [
    "DS_ssp126 = DS.sel(pctl=[10,33,66,90], scenario='ssp126').drop('ID_IMBIE').drop('scenario')\n",
    "DS_ssp126.to_dataframe().unstack(\"pctl\").to_csv(outputpath_csv + 'hydrofracturing_limits_new_ssp126.csv')\n"
   ]
  },
  {
   "cell_type": "code",
   "execution_count": null,
   "id": "6",
   "metadata": {},
   "outputs": [],
   "source": [
    "DS_ssp585 = DS.sel(pctl=[10,33,66,90], scenario='ssp585').drop('ID_IMBIE').drop('scenario')\n",
    "DS_ssp585.to_dataframe().unstack(\"pctl\").to_csv(outputpath_csv + 'hydrofracturing_limits_new_ssp585.csv')"
   ]
  },
  {
   "cell_type": "markdown",
   "id": "7",
   "metadata": {},
   "source": [
    "Viability limits"
   ]
  },
  {
   "cell_type": "code",
   "execution_count": null,
   "id": "8",
   "metadata": {},
   "outputs": [],
   "source": [
    "DS = xr.open_dataset(inputpath_data2 + 'viability_limits.nc')"
   ]
  },
  {
   "cell_type": "code",
   "execution_count": null,
   "id": "9",
   "metadata": {},
   "outputs": [],
   "source": [
    "DS_ssp126 = DS.sel(scenario='ssp126').drop('scenario')\n",
    "DS_ssp126.to_dataframe().unstack(\"quantile\").astype(int).to_csv(outputpath_csv + 'viabiliy_limits_ssp126.csv')\n"
   ]
  },
  {
   "cell_type": "code",
   "execution_count": null,
   "id": "10",
   "metadata": {},
   "outputs": [],
   "source": [
    "DS_ssp585 = DS.sel(scenario='ssp585').drop('scenario')\n",
    "DS_ssp585.to_dataframe().unstack(\"quantile\").astype(int).to_csv(outputpath_csv + 'viabiliy_limits_ssp585.csv')"
   ]
  },
  {
   "cell_type": "markdown",
   "id": "11",
   "metadata": {},
   "source": [
    "ISF names"
   ]
  },
  {
   "cell_type": "code",
   "execution_count": null,
   "id": "12",
   "metadata": {},
   "outputs": [],
   "source": [
    "mask_basins = xr.open_dataset(inputpath_data + 'Mask_Iceshelf_4km_IMBIE_withNisf.nc')"
   ]
  },
  {
   "cell_type": "code",
   "execution_count": null,
   "id": "13",
   "metadata": {},
   "outputs": [],
   "source": [
    "mask_basins['isf_name'].drop('ID_IMBIE').to_dataframe().to_csv(outputpath_csv + 'isf_names.csv')"
   ]
  },
  {
   "cell_type": "markdown",
   "id": "14",
   "metadata": {},
   "source": [
    "Temperature"
   ]
  },
  {
   "cell_type": "code",
   "execution_count": null,
   "id": "15",
   "metadata": {},
   "outputs": [],
   "source": [
    "DS = xr.open_dataset(inputpath_data2 + 'weighted_mean_tas.nc')"
   ]
  },
  {
   "cell_type": "code",
   "execution_count": null,
   "id": "16",
   "metadata": {},
   "outputs": [],
   "source": [
    "DS.sel(scenario=['historical','ssp126','ssp585']).to_dataframe().unstack(\"scenario\").to_csv(outputpath_csv + 'weighted_tas_anomaly_mean.csv')"
   ]
  },
  {
   "cell_type": "code",
   "execution_count": null,
   "id": "17",
   "metadata": {},
   "outputs": [],
   "source": [
    "DS = xr.open_dataset(inputpath_data2 + 'weighted_std_tas.nc')\n",
    "DS.sel(scenario=['historical','ssp126','ssp585']).to_dataframe().unstack(\"scenario\").to_csv(outputpath_csv + 'weighted_tas_anomaly_std.csv')"
   ]
  },
  {
   "cell_type": "code",
   "execution_count": null,
   "id": "18",
   "metadata": {},
   "outputs": [],
   "source": []
  }
 ],
 "metadata": {
  "kernelspec": {
   "display_name": "py38",
   "language": "python",
   "name": "py38"
  },
  "language_info": {
   "codemirror_mode": {
    "name": "ipython",
    "version": 3
   },
   "file_extension": ".py",
   "mimetype": "text/x-python",
   "name": "python",
   "nbconvert_exporter": "python",
   "pygments_lexer": "ipython3",
   "version": "3.8.20"
  }
 },
 "nbformat": 4,
 "nbformat_minor": 5
}
