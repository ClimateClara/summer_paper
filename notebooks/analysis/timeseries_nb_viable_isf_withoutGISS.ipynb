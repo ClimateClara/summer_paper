{
 "cells": [
  {
   "cell_type": "code",
   "execution_count": null,
   "id": "0",
   "metadata": {},
   "outputs": [],
   "source": [
    "\"\"\"\n",
    "Created on Mon Apr 08 16:22 2024\n",
    "\n",
    "This script is to make a timeseries of runs that have crossed the viability limit\n",
    "\n",
    "@author: Clara Burgard\n",
    "\"\"\""
   ]
  },
  {
   "cell_type": "code",
   "execution_count": null,
   "id": "1",
   "metadata": {},
   "outputs": [],
   "source": [
    "import xarray as xr\n",
    "import numpy as np\n",
    "import pandas as pd\n",
    "from tqdm.notebook import tqdm\n",
    "import matplotlib.pyplot as plt\n",
    "import seaborn as sns\n",
    "from matplotlib import cm\n",
    "import matplotlib as mpl\n",
    "import cmocean\n",
    "import glob\n",
    "from matplotlib.colors import ListedColormap, LinearSegmentedColormap\n",
    "import os"
   ]
  },
  {
   "cell_type": "code",
   "execution_count": null,
   "id": "2",
   "metadata": {},
   "outputs": [],
   "source": [
    "#sns.set_context('poster')\n",
    "sns.set_context('paper')"
   ]
  },
  {
   "cell_type": "code",
   "execution_count": null,
   "id": "3",
   "metadata": {},
   "outputs": [],
   "source": [
    "%matplotlib qt5"
   ]
  },
  {
   "cell_type": "code",
   "execution_count": null,
   "id": "4",
   "metadata": {},
   "outputs": [],
   "source": [
    "# make the domain a little smaller to make the computation even more efficient - file isf has already been made smaller at its creation\n",
    "map_lim = [-3000000,3000000]"
   ]
  },
  {
   "cell_type": "markdown",
   "id": "5",
   "metadata": {},
   "source": [
    "READ IN DATA"
   ]
  },
  {
   "cell_type": "code",
   "execution_count": null,
   "id": "6",
   "metadata": {},
   "outputs": [],
   "source": [
    "home_path = '/bettik/burgardc/'\n",
    "plot_path = '/bettik/burgardc/PLOTS/summer_paper_plots/'\n",
    "outputpath_GL = '/bettik/burgardc/DATA/SUMMER_PAPER/processed/GL_FLUX/'\n",
    "inputpath_weights = '/bettik/burgardc/DATA/SUMMER_PAPER/processed/ANALYSIS/'\n",
    "inputpath_atmo = '/bettik/burgardc/DATA/SUMMER_PAPER/raw/TS_SMB_DATA/out/'\n",
    "inputpath_data='/bettik/burgardc/DATA/SUMMER_PAPER/interim/'\n"
   ]
  },
  {
   "cell_type": "code",
   "execution_count": null,
   "id": "7",
   "metadata": {},
   "outputs": [],
   "source": [
    "inputpath_mask = home_path+'/DATA/SUMMER_PAPER/interim/ANTARCTICA_IS_MASKS/BedMachine_4km/'\n",
    "file_isf_orig = xr.open_dataset(inputpath_mask+'BedMachinev2_4km_isf_masks_and_info_and_distance_oneFRIS.nc')\n",
    "nonnan_Nisf = file_isf_orig['Nisf'].where(np.isfinite(file_isf_orig['front_bot_depth_max']), drop=True).astype(int)\n",
    "file_isf_nonnan = file_isf_orig.sel(Nisf=nonnan_Nisf)\n",
    "rignot_isf = file_isf_nonnan.Nisf.where(np.isfinite(file_isf_nonnan['isf_area_rignot']), drop=True)\n",
    "file_isf = file_isf_nonnan.sel(Nisf=rignot_isf)"
   ]
  },
  {
   "cell_type": "code",
   "execution_count": null,
   "id": "8",
   "metadata": {},
   "outputs": [],
   "source": [
    "weight_file = xr.open_dataset(inputpath_weights + 'bayesian_weights_davison_varying_combined_withoutGISS.nc')\n",
    "weight_2300_file = xr.open_dataset(inputpath_weights + 'bayesian_weights_davison_varying_combined_2300_withoutGISS.nc')\n",
    "file_viability_info = xr.open_dataset(inputpath_weights + 'all_fluxes_br_withoutGISS.nc')"
   ]
  },
  {
   "cell_type": "code",
   "execution_count": null,
   "id": "9",
   "metadata": {},
   "outputs": [],
   "source": [
    "weight_2300_file.drop('metrics').drop('box_nb_tot').drop('config')"
   ]
  },
  {
   "cell_type": "code",
   "execution_count": null,
   "id": "10",
   "metadata": {},
   "outputs": [],
   "source": [
    "### Colorbar:\n",
    "cmap = mpl.cm.YlOrRd # define the colormap\n",
    "# extract all colors from the .jet map\n",
    "cmaplist = [cmap(i) for i in range(cmap.N)]\n",
    "# force the first color entry to be grey\n",
    "# cmaplist[0] = (.5, .5, .5, 1.0)\n",
    "\n",
    "# create the new map\n",
    "cmap_new = mpl.colors.LinearSegmentedColormap.from_list(\n",
    "    'Custom cmap', cmaplist, cmap.N)\n",
    "\n",
    "alpha = 0.8\n",
    "cmap_with_alpha = cmap(np.arange(cmap_new.N))\n",
    "cmap_with_alpha[:, -1] = alpha\n",
    "cmap_new2 = mpl.colors.ListedColormap(cmap_with_alpha)\n",
    "\n",
    "# define the bins and normalize\n",
    "bounds = np.arange(6)\n",
    "norm = mpl.colors.BoundaryNorm(bounds, cmap_new2.N)"
   ]
  },
  {
   "cell_type": "code",
   "execution_count": null,
   "id": "11",
   "metadata": {},
   "outputs": [],
   "source": [
    "rgba = cmap(0.33)\n",
    "print(rgba)"
   ]
  },
  {
   "cell_type": "markdown",
   "id": "12",
   "metadata": {},
   "source": [
    "Air temperature"
   ]
  },
  {
   "cell_type": "code",
   "execution_count": null,
   "id": "13",
   "metadata": {},
   "outputs": [],
   "source": [
    "inputpath_tas = '/bettik/burgardc/DATA/SUMMER_PAPER/interim/CMIP_TEMP/'\n",
    "mod_list = ['ACCESS-CM2','ACCESS-ESM1-5','CNRM-CM6-1','CNRM-ESM2-1','GISS_E2-1-H',\n",
    "            'CESM2-WACCM','CESM2','CanESM5','IPSL-CM6A-LR','MRI-ESM2-0','MPI-ESM1-2-HR',\n",
    "            'GFDL-CM4','GFDL-ESM4','UKESM1-0-LL']\n",
    "\n",
    "tas_mod_list = []\n",
    "\n",
    "for mod in mod_list:\n",
    "    print(mod)\n",
    "    if mod not in ['GISS_E2-1-H']:\n",
    "        tas_scen_list = []\n",
    "        for scen in ['historical','ssp126','ssp245','ssp585']:\n",
    "            if (mod == 'GFDL-CM4') and (scen == 'ssp126'):\n",
    "                tas_mod_scen['tas'] = tas_mod_scen['tas']*np.nan\n",
    "            else:\n",
    "                tas_mod_scen = xr.open_dataset(inputpath_tas+mod+'/tas_Amon_'+mod+'_'+scen+'_fldmean_ymean.nc')\n",
    "                #tas_mod_scen = xr.open_dataset(inputpath_tas+mod+'/tas_Amon_'+mod+'_'+scen+'_ymean_fldmeansouthof60.nc')\n",
    "                tas_mod_scen['time'] = tas_mod_scen.time.dt.year\n",
    "            tas_out = tas_mod_scen['tas'].squeeze(drop=True)\n",
    "            if 'height' in tas_out.coords:\n",
    "                tas_out = tas_out.drop('height')\n",
    "            tas_scen_list.append(tas_out.assign_coords({'scenario':scen}))\n",
    "\n",
    "        tas_all_scen = xr.concat(tas_scen_list,dim='scenario')\n",
    "        tas_mod_list.append(tas_all_scen.assign_coords({'model':mod}))\n",
    "        \n",
    "tas_all_mod = xr.concat(tas_mod_list, dim='model') "
   ]
  },
  {
   "cell_type": "code",
   "execution_count": null,
   "id": "14",
   "metadata": {},
   "outputs": [],
   "source": [
    "tas_all_mod_ano = tas_all_mod - tas_all_mod.sel(scenario='historical',time=range(1850,1901)).mean('time')"
   ]
  },
  {
   "cell_type": "markdown",
   "id": "15",
   "metadata": {},
   "source": [
    "PREPARE THE DATA"
   ]
  },
  {
   "cell_type": "code",
   "execution_count": null,
   "id": "16",
   "metadata": {},
   "outputs": [],
   "source": [
    "sorted_isf_rignot = [11,69,43,28,12,57,\n",
    "                     70,44,29,13,58,71,45,30,14,\n",
    "                     59,72,46,\n",
    "                     31,\n",
    "                     15,61,73,47,32,16,48,33,17,62,49,34,18,63,74,\n",
    "                     50,35,19,64,\n",
    "                     10,\n",
    "                     36,20,65,51,37,\n",
    "                     22,38,52,23,66,53,39,24,\n",
    "                     67,40,54,75,25,41,\n",
    "                     26,42,55,68,60,27]"
   ]
  },
  {
   "cell_type": "code",
   "execution_count": null,
   "id": "17",
   "metadata": {},
   "outputs": [],
   "source": [
    "sens_weights = xr.DataArray(data=np.array([0.11,\n",
    "                                           0.24,\n",
    "                                           0.03,\n",
    "                                           0.10,\n",
    "                                           0.10,\n",
    "                                           0.10,\n",
    "                                           0.10,\n",
    "                                           0.24,\n",
    "                                           0.47,\n",
    "                                           0.41,\n",
    "                                           0.12,\n",
    "                                           0.43,\n",
    "                                           0.39,\n",
    "                                           0.05]), dims=['model']).assign_coords({'model': \n",
    "                                                                                  ['ACCESS-CM2','ACCESS-ESM1-5','CanESM5',\n",
    "                                                                                   'CESM2','CESM2-WACCM','CNRM-CM6-1','CNRM-ESM2-1',\n",
    "                                                                                   'GFDL-CM4','GFDL-ESM4','GISS-E2-1-H', 'IPSL-CM6A-LR',\n",
    "                                                                                   'MPI-ESM1-2-HR','MRI-ESM2-0','UKESM1-0-LL']})\n",
    "sens_weights = sens_weights.drop_sel(model='GISS-E2-1-H')"
   ]
  },
  {
   "cell_type": "code",
   "execution_count": null,
   "id": "18",
   "metadata": {},
   "outputs": [],
   "source": [
    "model_2300 = ['ACCESS-CM2','ACCESS-ESM1-5','CanESM5','CESM2-WACCM', 'IPSL-CM6A-LR','MRI-ESM2-0','UKESM1-0-LL'] #'GISS-E2-1-H',"
   ]
  },
  {
   "cell_type": "code",
   "execution_count": null,
   "id": "19",
   "metadata": {},
   "outputs": [],
   "source": [
    "bay_weights = weight_file['bay_weights']\n",
    "bay_weights_2300 = weight_2300_file['bay_weights']"
   ]
  },
  {
   "cell_type": "code",
   "execution_count": null,
   "id": "20",
   "metadata": {},
   "outputs": [],
   "source": [
    "total_weights = bay_weights * sens_weights\n",
    "total_weights_2300 = bay_weights_2300 * sens_weights"
   ]
  },
  {
   "cell_type": "code",
   "execution_count": null,
   "id": "21",
   "metadata": {},
   "outputs": [],
   "source": [
    "final_weights = xr.merge([total_weights.to_dataset(name='weights_2100_ensemble'), total_weights_2300.to_dataset(name='weights_2300_ensemble')]).drop('metrics').drop('box_nb_tot').drop('config')\n",
    "final_weights.sum(['m','param']).to_netcdf(inputpath_weights + 'combined_weights_for_Nico.nc')"
   ]
  },
  {
   "cell_type": "code",
   "execution_count": null,
   "id": "22",
   "metadata": {},
   "outputs": [],
   "source": [
    "final_weights.sum(['m','param'])"
   ]
  },
  {
   "cell_type": "code",
   "execution_count": null,
   "id": "23",
   "metadata": {},
   "outputs": [],
   "source": [
    "# CALVING = 0\n",
    "#mass_balance_weighted_yy = (file_viability_info['MASS_BALANCE'] - file_viability_info['CALVING']).sel(time=range(1850,2101)).weighted(bay_weights * sens_weights)\n",
    "#mass_balance_weighted_yy_2300 = (file_viability_info['MASS_BALANCE'] - file_viability_info['CALVING']).sel(time=range(1850,2300)).sel(model=model_2300).weighted(bay_weights_2300 * sens_weights.sel(model=model_2300))"
   ]
  },
  {
   "cell_type": "code",
   "execution_count": null,
   "id": "24",
   "metadata": {},
   "outputs": [],
   "source": [
    "mass_balance_weighted_yy = file_viability_info['MASS_BALANCE'].sel(time=range(1850,2101)).weighted(bay_weights * sens_weights)\n",
    "mass_balance_weighted_yy_2300 = file_viability_info['MASS_BALANCE'].sel(time=range(1850,2300)).sel(model=model_2300).weighted(bay_weights_2300 * sens_weights.sel(model=model_2300))"
   ]
  },
  {
   "cell_type": "code",
   "execution_count": null,
   "id": "25",
   "metadata": {},
   "outputs": [],
   "source": [
    "weighted_quantiles = mass_balance_weighted_yy.quantile([0,0.1,0.33,0.66,0.5,0.9,1],dim=['model','param','m'])\n",
    "weighted_quantiles_2300 = mass_balance_weighted_yy_2300.quantile([0,0.1,0.33,0.66,0.5,0.9,1],dim=['model','param','m'])"
   ]
  },
  {
   "cell_type": "code",
   "execution_count": null,
   "id": "26",
   "metadata": {},
   "outputs": [],
   "source": [
    "unviable_times = weighted_quantiles > 0\n",
    "unviable_times_2300 = weighted_quantiles_2300 > 0\n"
   ]
  },
  {
   "cell_type": "code",
   "execution_count": null,
   "id": "27",
   "metadata": {},
   "outputs": [],
   "source": [
    "viability_diff = unviable_times.sel(time=range(2100,1849,-1)).cumsum('time').diff('time')\n",
    "limit_max = viability_diff.time.where(viability_diff == 0).max('time') + 1\n",
    "limit_max = limit_max.where(limit_max<2099)\n",
    "limit_max = limit_max.where(~(np.isnan(limit_max) & unviable_times.sel(time=1850)), 1850)\n",
    "\n",
    "limit_max_full = limit_max.where(np.isfinite(limit_max), 2301)\n",
    "\n",
    "count_unviable_isf = (unviable_times.time >= limit_max_full).sum('Nisf')"
   ]
  },
  {
   "cell_type": "code",
   "execution_count": null,
   "id": "28",
   "metadata": {},
   "outputs": [],
   "source": [
    "viability_diff_2300 = unviable_times_2300.sel(time=range(2298,1849,-1)).cumsum('time').diff('time')\n",
    "limit_max_2300 = viability_diff_2300.time.where(viability_diff_2300 == 0).max('time') + 1\n",
    "limit_max_2300 = limit_max_2300.where(limit_max_2300<2299)\n",
    "limit_max_2300 = limit_max_2300.where(~(np.isnan(limit_max_2300) & unviable_times_2300.sel(time=1850)), 1850)\n",
    "\n",
    "limit_max_full_2300 = limit_max_2300.where(np.isfinite(limit_max_2300), 2305)\n",
    "\n",
    "count_unviable_isf_2300 = (unviable_times_2300.time >= limit_max_full_2300).sum('Nisf')"
   ]
  },
  {
   "cell_type": "code",
   "execution_count": null,
   "id": "29",
   "metadata": {},
   "outputs": [],
   "source": [
    "limit_of_int = limit_max_full_2300.sel(scenario='ssp585',quantile=0.33)\n",
    "time_of_int = weighted_mean_tas.sel(scenario='ssp585').time.where((weighted_mean_tas.sel(scenario='ssp585') > 4) & (weighted_mean_tas.sel(scenario='ssp585') <= 5), drop=True)\n",
    "isf_4_5 = limit_of_int.where((limit_of_int >= time_of_int.min()) & (limit_of_int <= time_of_int.max()), drop=True)"
   ]
  },
  {
   "cell_type": "code",
   "execution_count": null,
   "id": "30",
   "metadata": {},
   "outputs": [],
   "source": [
    "time_of_int = weighted_mean_tas.sel(scenario='ssp585').time.where((weighted_mean_tas.sel(scenario='ssp585') > 5) & (weighted_mean_tas.sel(scenario='ssp585') <= 6), drop=True)\n",
    "isf_5_6 = limit_of_int.where((limit_of_int >= time_of_int.min()) & (limit_of_int <= time_of_int.max()), drop=True)"
   ]
  },
  {
   "cell_type": "code",
   "execution_count": null,
   "id": "31",
   "metadata": {},
   "outputs": [],
   "source": [
    "time_of_int = weighted_mean_tas.sel(scenario='ssp585').time.where((weighted_mean_tas.sel(scenario='ssp585') > 6) & (weighted_mean_tas.sel(scenario='ssp585') <= 7), drop=True)\n",
    "isf_6_7 = limit_of_int.where((limit_of_int >= time_of_int.min()) & (limit_of_int <= time_of_int.max()), drop=True)"
   ]
  },
  {
   "cell_type": "code",
   "execution_count": null,
   "id": "32",
   "metadata": {},
   "outputs": [],
   "source": [
    "for kisf in isf_4_5.Nisf:\n",
    "    print(file_isf['isf_name'].sel(Nisf=kisf).values)"
   ]
  },
  {
   "cell_type": "code",
   "execution_count": null,
   "id": "33",
   "metadata": {},
   "outputs": [],
   "source": [
    "for kisf in isf_5_6.Nisf:\n",
    "    print(file_isf['isf_name'].sel(Nisf=kisf).values)"
   ]
  },
  {
   "cell_type": "code",
   "execution_count": null,
   "id": "34",
   "metadata": {},
   "outputs": [],
   "source": [
    "for kisf in isf_6_7.Nisf:\n",
    "    print(file_isf['isf_name'].sel(Nisf=kisf).values)"
   ]
  },
  {
   "cell_type": "code",
   "execution_count": null,
   "id": "35",
   "metadata": {},
   "outputs": [],
   "source": [
    "(weighted_mean_tas.sel(scenario='ssp585') > 4).time.where((weighted_mean_tas.sel(scenario='ssp585') > 4) & (weighted_mean_tas.sel(scenario='ssp585') <= 5), drop=True)"
   ]
  },
  {
   "cell_type": "code",
   "execution_count": null,
   "id": "36",
   "metadata": {},
   "outputs": [],
   "source": [
    "weighted_tas_2100 = tas_all_mod_ano.weighted(bay_weights * sens_weights) \n",
    "weighted_mean_tas_2100 = weighted_tas_2100.mean(['Nisf','model','param','m'])\n",
    "weighted_tas_std_2100 = weighted_tas_2100.std(['Nisf','model','param','m'])\n"
   ]
  },
  {
   "cell_type": "code",
   "execution_count": null,
   "id": "37",
   "metadata": {},
   "outputs": [],
   "source": [
    "weighted_tas = tas_all_mod_ano.sel(model=model_2300).weighted(bay_weights_2300 * sens_weights.sel(model=model_2300)) \n",
    "weighted_mean_tas = weighted_tas.mean(['Nisf','model','param','m'])\n",
    "weighted_tas_std = weighted_tas.std(['Nisf','model','param','m'])\n"
   ]
  },
  {
   "cell_type": "code",
   "execution_count": null,
   "id": "38",
   "metadata": {},
   "outputs": [],
   "source": [
    "scen = 'ssp126'\n",
    "scen2 = 'ssp585'\n",
    "scen3 = 'ssp245'\n",
    "\n",
    "f = plt.figure()\n",
    "f.set_size_inches(8.25/1.5, 8.25/1.5)\n",
    "\n",
    "weighted_mean_tas_2100.sel(scenario=scen,time=range(1850,2101)).plot()\n",
    "plt.fill_between(x=range(1850,2101),y1=weighted_mean_tas_2100.sel(scenario=scen,time=range(1850,2101)) - weighted_tas_std_2100.sel(scenario=scen,time=range(1850,2101)), \n",
    "                 y2=weighted_mean_tas_2100.sel(scenario=scen,time=range(1850,2101)) + weighted_tas_std_2100.sel(scenario=scen,time=range(1850,2101)), alpha=0.5)\n",
    "\n",
    "weighted_mean_tas_2100.sel(scenario=scen3,time=range(1850,2101)).plot()\n",
    "plt.fill_between(x=range(1850,2101),y1=weighted_mean_tas_2100.sel(scenario=scen3,time=range(1850,2101)) - weighted_tas_std_2100.sel(scenario=scen3,time=range(1850,2101)), \n",
    "                 y2=weighted_mean_tas_2100.sel(scenario=scen3,time=range(1850,2101)) + weighted_tas_std_2100.sel(scenario=scen3,time=range(1850,2101)), alpha=0.5)\n",
    "\n",
    "weighted_mean_tas_2100.sel(scenario=scen2,time=range(1850,2101)).plot()\n",
    "plt.fill_between(x=range(1850,2101),y1=weighted_mean_tas_2100.sel(scenario=scen2,time=range(1850,2101)) - weighted_tas_std_2100.sel(scenario=scen2,time=range(1850,2101)), \n",
    "                 y2=weighted_mean_tas_2100.sel(scenario=scen2,time=range(1850,2101)) + weighted_tas_std_2100.sel(scenario=scen2,time=range(1850,2101)), alpha=0.5)\n",
    "\n",
    "sns.despine()\n",
    "plt.title('')\n",
    "plt.xlabel('Time')\n",
    "plt.ylabel('Global surface air temperature anomaly w.r.t. 1850-1900 [K]')\n",
    "f.savefig(plot_path + 'tas_evolution_2100.png',dpi=250)\n",
    "#plt.axvline(x=2075,linestyle='--')\n",
    "#plt.axvline(x=2180,linestyle='--')"
   ]
  },
  {
   "cell_type": "code",
   "execution_count": null,
   "id": "39",
   "metadata": {},
   "outputs": [],
   "source": [
    "scen = 'ssp126'\n",
    "scen2 = 'ssp585'\n",
    "scen3 = 'ssp245'\n",
    "\n",
    "f = plt.figure()\n",
    "f.set_size_inches(8.25/1.5, 8.25/1.5)\n",
    "\n",
    "weighted_mean_tas.sel(scenario=scen).plot()\n",
    "plt.fill_between(x=range(1850,2301),y1=weighted_mean_tas.sel(scenario=scen) - weighted_tas_std.sel(scenario=scen), \n",
    "                 y2=weighted_mean_tas.sel(scenario=scen) + weighted_tas_std.sel(scenario=scen), alpha=0.5)\n",
    "\n",
    "weighted_mean_tas.sel(scenario=scen3).plot()\n",
    "plt.fill_between(x=range(1850,2301),y1=weighted_mean_tas.sel(scenario=scen3) - weighted_tas_std.sel(scenario=scen3), \n",
    "                 y2=weighted_mean_tas.sel(scenario=scen3) + weighted_tas_std.sel(scenario=scen3), alpha=0.5)\n",
    "\n",
    "weighted_mean_tas.sel(scenario=scen2).plot()\n",
    "plt.fill_between(x=range(1850,2301),y1=weighted_mean_tas.sel(scenario=scen2) - weighted_tas_std.sel(scenario=scen2), \n",
    "                 y2=weighted_mean_tas.sel(scenario=scen2) + weighted_tas_std.sel(scenario=scen2), alpha=0.5)\n",
    "\n",
    "sns.despine()\n",
    "plt.title('')\n",
    "#plt.ylim(0,16)\n",
    "plt.xlabel('Time')\n",
    "plt.ylabel('Global surface air temperature anomaly w.r.t. 1850-1900 [K]')\n",
    "f.savefig(plot_path + 'tas_evolution.png',dpi=250)\n",
    "#f.savefig(plot_path + 'tas_evolution_southof60.png',dpi=250)\n",
    "\n",
    "\n",
    "#plt.axvline(x=2075,linestyle='--')\n",
    "#plt.axvline(x=2180,linestyle='--')"
   ]
  },
  {
   "cell_type": "code",
   "execution_count": null,
   "id": "40",
   "metadata": {},
   "outputs": [],
   "source": [
    "scen = 'ssp126'\n",
    "scen2 = 'ssp585'\n",
    "scen3 = 'ssp245'\n",
    "\n",
    "f = plt.figure()\n",
    "f.set_size_inches(8.25/1.5, 8.25/1.5)\n",
    "\n",
    "plt.scatter(count_unviable_isf_2300.sel(scenario=scen,quantile=0.33,time=range(1850,2298)), weighted_mean_tas.sel(scenario=scen,time=range(1850,2298)),s=10,alpha=0.3)\n",
    "plt.scatter(count_unviable_isf_2300.sel(scenario=scen3,quantile=0.33,time=range(1850,2298)), weighted_mean_tas.sel(scenario=scen3,time=range(1850,2298)),s=10,alpha=0.3)\n",
    "plt.scatter(count_unviable_isf_2300.sel(scenario=scen2,quantile=0.33,time=range(1850,2298)), weighted_mean_tas.sel(scenario=scen2,time=range(1850,2298)),s=10,alpha=0.3)\n",
    "\n",
    "\n",
    "sns.despine()\n",
    "plt.title('')\n",
    "plt.ylim(0,14.5)\n",
    "plt.ylabel('Global surface air temperature anomaly w.r.t. 1850-1900 [K]')\n",
    "plt.xlabel('Number of likely non-viable ice shelves')\n",
    "plt.axhline(y=4.5)\n",
    "f.savefig(plot_path + 'tas_nonviable_scatter.png',dpi=250)\n",
    "#f.savefig(plot_path + 'tas_southof60_nonviable_scatter.png',dpi=250)"
   ]
  },
  {
   "cell_type": "code",
   "execution_count": null,
   "id": "41",
   "metadata": {},
   "outputs": [],
   "source": [
    "scen = 'ssp126'\n",
    "scen2 = 'ssp585'\n",
    "scen3 = 'ssp245'\n",
    "\n",
    "f = plt.figure()\n",
    "f.set_size_inches(8.25/1.5, 8.25/1.5)\n",
    "\n",
    "plt.scatter(count_unviable_isf_2300.sel(scenario=scen,quantile=0.33,time=range(1850,2298)), weighted_mean_tas.sel(scenario=scen,time=range(1850,2298)),s=10,alpha=0.3)\n",
    "plt.scatter(count_unviable_isf_2300.sel(scenario=scen3,quantile=0.33,time=range(1850,2298)), weighted_mean_tas.sel(scenario=scen3,time=range(1850,2298)),s=10,alpha=0.3)\n",
    "plt.scatter(count_unviable_isf_2300.sel(scenario=scen2,quantile=0.33,time=range(1850,2298)), weighted_mean_tas.sel(scenario=scen2,time=range(1850,2298)),s=10,alpha=0.3)\n",
    "\n",
    "\n",
    "sns.despine()\n",
    "plt.title('')\n",
    "plt.ylim(0,14.5)\n",
    "plt.ylabel('Global surface air temperature anomaly w.r.t. 1850-1900 [K]')\n",
    "plt.xlabel('Number of likely non-viable ice shelves')\n",
    "f.savefig(plot_path + 'tas_nonviable_scatter_calving0.png',dpi=250)"
   ]
  },
  {
   "cell_type": "code",
   "execution_count": null,
   "id": "42",
   "metadata": {},
   "outputs": [],
   "source": [
    "scen = 'ssp126'\n",
    "scen2 = 'ssp585'\n",
    "scen3 = 'ssp245'\n",
    "\n",
    "f = plt.figure()\n",
    "f.set_size_inches(8.25/1.5, 8.25/1.5)\n",
    "\n",
    "plt.scatter(weighted_mean_tas_2100.sel(scenario=scen,time=range(1850,2101)),count_unviable_isf.sel(scenario=scen,quantile=0.33,time=range(1850,2101)),s=10,alpha=0.3)\n",
    "plt.scatter(weighted_mean_tas_2100.sel(scenario=scen3,time=range(1850,2101)),count_unviable_isf.sel(scenario=scen3,quantile=0.33,time=range(1850,2101)),s=10,alpha=0.3)\n",
    "plt.scatter(weighted_mean_tas_2100.sel(scenario=scen2,time=range(1850,2101)),count_unviable_isf.sel(scenario=scen2,quantile=0.33,time=range(1850,2101)),s=10,alpha=0.3)\n",
    "\n",
    "\n",
    "sns.despine()\n",
    "plt.title('')\n",
    "plt.xlabel('Global surface air temperature anomaly w.r.t. 1850-1900 [K]')\n",
    "plt.ylabel('Number of likely non-viable ice shelves')\n",
    "f.savefig(plot_path + 'tas_nonviable_scatter_2100.png',dpi=250)"
   ]
  },
  {
   "cell_type": "code",
   "execution_count": null,
   "id": "43",
   "metadata": {},
   "outputs": [],
   "source": [
    "weighted_mean_tas.sel(scenario=scen2,time=2300)"
   ]
  },
  {
   "cell_type": "code",
   "execution_count": null,
   "id": "44",
   "metadata": {},
   "outputs": [],
   "source": [
    "weighted_mean_tas.sel(scenario='ssp585',time=2184)"
   ]
  },
  {
   "cell_type": "code",
   "execution_count": null,
   "id": "45",
   "metadata": {},
   "outputs": [],
   "source": [
    "weighted_tas_std.sel(scenario='ssp585',time=2184)"
   ]
  },
  {
   "cell_type": "code",
   "execution_count": null,
   "id": "46",
   "metadata": {},
   "outputs": [],
   "source": [
    "weighted_mean_tas.sel(scenario=scen2,time=2300)"
   ]
  },
  {
   "cell_type": "code",
   "execution_count": null,
   "id": "47",
   "metadata": {},
   "outputs": [],
   "source": [
    "file_isf['isf_name'].sel(Nisf=24).load()"
   ]
  },
  {
   "cell_type": "code",
   "execution_count": null,
   "id": "48",
   "metadata": {},
   "outputs": [],
   "source": [
    "count_unviable_isf_2300.sel(time=2255, scenario='ssp126', quantile=0.9)"
   ]
  },
  {
   "cell_type": "code",
   "execution_count": null,
   "id": "49",
   "metadata": {},
   "outputs": [],
   "source": [
    "\n",
    "limit_max_full_2300.sel(quantile=0.33,scenario='ssp126').where(limit_max_full_2300.sel(quantile=0.33,scenario='ssp126') < 2298).dropna('Nisf')"
   ]
  },
  {
   "cell_type": "code",
   "execution_count": null,
   "id": "50",
   "metadata": {},
   "outputs": [],
   "source": [
    "date_of_int = 2084\n",
    "limit_max_full_2300.sel(quantile=0.33,scenario='ssp585').where(limit_max_full_2300.sel(quantile=0.33,scenario='ssp585') < date_of_int).dropna('Nisf')"
   ]
  },
  {
   "cell_type": "code",
   "execution_count": null,
   "id": "51",
   "metadata": {},
   "outputs": [],
   "source": [
    "date_of_int = 2184\n",
    "limit_max_full_2300.sel(quantile=0.33,scenario='ssp585').where(limit_max_full_2300.sel(quantile=0.33,scenario='ssp585') < date_of_int).dropna('Nisf')"
   ]
  },
  {
   "cell_type": "code",
   "execution_count": null,
   "id": "52",
   "metadata": {},
   "outputs": [],
   "source": [
    "26/64"
   ]
  },
  {
   "cell_type": "code",
   "execution_count": null,
   "id": "53",
   "metadata": {},
   "outputs": [],
   "source": [
    "(35-3)/64"
   ]
  },
  {
   "cell_type": "code",
   "execution_count": null,
   "id": "54",
   "metadata": {},
   "outputs": [],
   "source": [
    "diff_scen = ( (unviable_times.time >= limit_max_full).sel(scenario='ssp126').sel(time=range(1850,2000)).astype(int) - (unviable_times.time >= limit_max_full).sel(scenario='ssp585').sel(time=range(1850,2000)).astype(int))"
   ]
  },
  {
   "cell_type": "code",
   "execution_count": null,
   "id": "55",
   "metadata": {},
   "outputs": [],
   "source": [
    "unviable_times.sel(Nisf=25,quantile=0.33,time=1850)"
   ]
  },
  {
   "cell_type": "code",
   "execution_count": null,
   "id": "56",
   "metadata": {},
   "outputs": [],
   "source": [
    "limit_max_full.sel(Nisf=42,quantile=0.9)"
   ]
  },
  {
   "cell_type": "code",
   "execution_count": null,
   "id": "57",
   "metadata": {},
   "outputs": [],
   "source": [
    "diff_scen.where(diff_scen != 0, drop=True).sel(quantile=0.9,Nisf=42)"
   ]
  },
  {
   "cell_type": "code",
   "execution_count": null,
   "id": "58",
   "metadata": {},
   "outputs": [],
   "source": [
    "\n",
    "### THINK ABOUT THE SIGMA_MOD AND SIGMA_OBS AGAIN\n",
    "\n",
    "regions = ['Weddell','Bellingshausen','Amundsen','Ross','East 1','East 2','Dronning Maud Land']\n",
    "colors = ['red','orange','gold','mediumturquoise','maroon','magenta','cornflowerblue','lightseagreen',\n",
    "          'yellowgreen','royalblue','tomato','darkslateblue','purple','darkgoldenrod']\n",
    "\n",
    "f = plt.figure()\n",
    "f.set_size_inches(8.25*3, 8.25)\n",
    "\n",
    "ax={}\n",
    "\n",
    "leg_hdl = []\n",
    "\n",
    "i = 0\n",
    "\n",
    "plt.fill_between(x=range(1850,2014), y1=count_unviable_isf.sel(quantile=0.33,scenario='ssp585',time=range(1850,2014)), y2=count_unviable_isf.sel(quantile=0.66,scenario='ssp585',time=range(1850,2014)), color='grey',alpha=0.2)\n",
    "plt.fill_between(x=range(2014,2101), y1=count_unviable_isf.sel(quantile=0.33,scenario='ssp585',time=range(2014,2101)), y2=count_unviable_isf.sel(quantile=0.66,scenario='ssp585',time=range(2014,2101)), color='deeppink',alpha=0.2)\n",
    "plt.fill_between(x=range(2014,2101), y1=count_unviable_isf.sel(quantile=0.33,scenario='ssp245',time=range(2014,2101)), y2=count_unviable_isf.sel(quantile=0.66,scenario='ssp245',time=range(2014,2101)), color='orange',alpha=0.2)\n",
    "plt.fill_between(x=range(2014,2101), y1=count_unviable_isf.sel(quantile=0.33,scenario='ssp126',time=range(2014,2101)), y2=count_unviable_isf.sel(quantile=0.66,scenario='ssp126',time=range(2014,2101)), color='violet',alpha=0.2)\n",
    "\n",
    "plt.plot(range(1850,2014),count_unviable_isf.sel(quantile=0.5,scenario='ssp585',time=range(1850,2014)), color='k')\n",
    "plt.plot(range(2014,2101),count_unviable_isf.sel(quantile=0.5,scenario='ssp585',time=range(2014,2101)), color='deeppink')\n",
    "plt.plot(range(2014,2101),count_unviable_isf.sel(quantile=0.5,scenario='ssp245',time=range(2014,2101)), color='orange')\n",
    "plt.plot(range(2014,2101),count_unviable_isf.sel(quantile=0.5,scenario='ssp126',time=range(2014,2101)), color='violet')\n",
    "\n",
    "plt.plot(range(1850,2014),count_unviable_isf.sel(quantile=0.1,scenario='ssp585',time=range(1850,2014)), color='k', linestyle = '--')\n",
    "plt.plot(range(2014,2101),count_unviable_isf.sel(quantile=0.1,scenario='ssp585',time=range(2014,2101)), color='deeppink', linestyle = '--')\n",
    "plt.plot(range(2014,2101),count_unviable_isf.sel(quantile=0.1,scenario='ssp245',time=range(2014,2101)), color='orange', linestyle = '--')\n",
    "plt.plot(range(2014,2101),count_unviable_isf.sel(quantile=0.1,scenario='ssp126',time=range(2014,2101)), color='violet', linestyle = '--')\n",
    "\n",
    "plt.plot(range(1850,2014),count_unviable_isf.sel(quantile=0.9,scenario='ssp585',time=range(1850,2014)), color='k', linestyle = '--')\n",
    "plt.plot(range(2014,2101),count_unviable_isf.sel(quantile=0.9,scenario='ssp585',time=range(2014,2101)), color='red', linestyle = '--')\n",
    "plt.plot(range(2014,2101),count_unviable_isf.sel(quantile=0.9,scenario='ssp245',time=range(2014,2101)), color='orange', linestyle = '--')\n",
    "plt.plot(range(2014,2101),count_unviable_isf.sel(quantile=0.9,scenario='ssp126',time=range(2014,2101)), color='violet', linestyle = '--')\n",
    "\n",
    "#f.legend()\n",
    "#f.subplots_adjust(bottom=0.05, wspace=0.1)\n",
    "\n",
    "f.tight_layout()\n",
    "sns.despine()\n",
    "plt.savefig(plot_path + 'nb_non_viable_isf_2100_withoutGISS.pdf')"
   ]
  },
  {
   "cell_type": "code",
   "execution_count": null,
   "id": "59",
   "metadata": {},
   "outputs": [],
   "source": [
    "\n",
    "### THINK ABOUT THE SIGMA_MOD AND SIGMA_OBS AGAIN\n",
    "\n",
    "regions = ['Weddell','Bellingshausen','Amundsen','Ross','East 1','East 2','Dronning Maud Land']\n",
    "colors = ['red','orange','gold','mediumturquoise','maroon','magenta','cornflowerblue','lightseagreen',\n",
    "          'yellowgreen','royalblue','tomato','darkslateblue','purple','darkgoldenrod']\n",
    "\n",
    "f = plt.figure()\n",
    "#f.set_size_inches(8.25, 8.25)\n",
    "f.set_size_inches(8.25*3, 8.25)\n",
    "\n",
    "ax={}\n",
    "\n",
    "leg_hdl = []\n",
    "\n",
    "i = 0\n",
    "\n",
    "plt.fill_between(x=range(1850,2014), y1=count_unviable_isf_2300.sel(quantile=0.33,scenario='ssp585',time=range(1850,2014)), y2=count_unviable_isf_2300.sel(quantile=0.66,scenario='ssp585',time=range(1850,2014)), color='grey',alpha=0.2)\n",
    "plt.fill_between(x=range(2014,2299), y1=count_unviable_isf_2300.sel(quantile=0.33,scenario='ssp585',time=range(2014,2299)), y2=count_unviable_isf_2300.sel(quantile=0.66,scenario='ssp585',time=range(2014,2299)), color='deeppink',alpha=0.2)\n",
    "plt.fill_between(x=range(2014,2299), y1=count_unviable_isf_2300.sel(quantile=0.33,scenario='ssp126',time=range(2014,2299)), y2=count_unviable_isf_2300.sel(quantile=0.66,scenario='ssp126',time=range(2014,2299)), color='violet',alpha=0.2)\n",
    "\n",
    "plt.plot(range(1850,2014),count_unviable_isf_2300.sel(quantile=0.5,scenario='ssp585',time=range(1850,2014)), color='k')\n",
    "plt.plot(range(2014,2299),count_unviable_isf_2300.sel(quantile=0.5,scenario='ssp585',time=range(2014,2299)), color='deeppink')\n",
    "plt.plot(range(2014,2299),count_unviable_isf_2300.sel(quantile=0.5,scenario='ssp126',time=range(2014,2299)), color='violet')\n",
    "\n",
    "plt.plot(range(1850,2014),count_unviable_isf_2300.sel(quantile=0.1,scenario='ssp585',time=range(1850,2014)), color='k', linestyle = '--')\n",
    "plt.plot(range(2014,2299),count_unviable_isf_2300.sel(quantile=0.1,scenario='ssp585',time=range(2014,2299)), color='deeppink', linestyle = '--')\n",
    "plt.plot(range(2014,2299),count_unviable_isf_2300.sel(quantile=0.1,scenario='ssp126',time=range(2014,2299)), color='violet', linestyle = '--')\n",
    "\n",
    "plt.plot(range(1850,2014),count_unviable_isf_2300.sel(quantile=0.9,scenario='ssp585',time=range(1850,2014)), color='k', linestyle = '--')\n",
    "plt.plot(range(2014,2299),count_unviable_isf_2300.sel(quantile=0.9,scenario='ssp585',time=range(2014,2299)), color='deeppink', linestyle = '--')\n",
    "plt.plot(range(2014,2299),count_unviable_isf_2300.sel(quantile=0.9,scenario='ssp126',time=range(2014,2299)), color='violet', linestyle = '--')\n",
    "\n",
    "#f.legend()\n",
    "#f.subplots_adjust(bottom=0.05, wspace=0.1)\n",
    "plt.xlim(1850,2298)\n",
    "plt.ylabel('Number of non-viable ice shelves')\n",
    "plt.xlabel('Time')\n",
    "f.tight_layout()\n",
    "sns.despine()\n",
    "plt.savefig(plot_path + 'nb_non_viable_isf_2300.pdf')"
   ]
  },
  {
   "cell_type": "code",
   "execution_count": null,
   "id": "60",
   "metadata": {},
   "outputs": [],
   "source": [
    "\n",
    "### THINK ABOUT THE SIGMA_MOD AND SIGMA_OBS AGAIN\n",
    "\n",
    "regions = ['Weddell','Bellingshausen','Amundsen','Ross','East 1','East 2','Dronning Maud Land']\n",
    "colors = ['red','orange','gold','mediumturquoise','maroon','magenta','cornflowerblue','lightseagreen',\n",
    "          'yellowgreen','royalblue','tomato','darkslateblue','purple','darkgoldenrod']\n",
    "\n",
    "f = plt.figure()\n",
    "#f.set_size_inches(8.25, 8.25)\n",
    "f.set_size_inches(8.25*1.5, 8.25/3*1.5)\n",
    "\n",
    "ax={}\n",
    "\n",
    "leg_hdl = []\n",
    "\n",
    "i = 0\n",
    "\n",
    "#plt.fill_between(x=range(1850,2014), y1=count_unviable_isf_2300.sel(quantile=0.33,scenario='ssp585',time=range(1850,2014)), y2=count_unviable_isf_2300.sel(quantile=0.66,scenario='ssp585',time=range(1850,2014)), color='grey',alpha=0.2)\n",
    "#plt.fill_between(x=range(2014,2299), y1=count_unviable_isf_2300.sel(quantile=0.33,scenario='ssp585',time=range(2014,2299)), y2=count_unviable_isf_2300.sel(quantile=0.66,scenario='ssp585',time=range(2014,2299)), color='deeppink',alpha=0.2)\n",
    "#plt.fill_between(x=range(2014,2299), y1=count_unviable_isf_2300.sel(quantile=0.33,scenario='ssp126',time=range(2014,2299)), y2=count_unviable_isf_2300.sel(quantile=0.66,scenario='ssp126',time=range(2014,2299)), color='violet',alpha=0.2)\n",
    "\n",
    "for qq in [0.1,0.33,0.66,0.9]: #\n",
    "    plt.plot(range(1850,2014),count_unviable_isf_2300.sel(quantile=qq,scenario='ssp585',time=range(1850,2014)), color=cmap(1-qq), linestyle='dashdot',linewidth=2)\n",
    "    plt.plot(range(2014,2298),count_unviable_isf_2300.sel(quantile=qq,scenario='ssp585',time=range(2014,2298)), color=cmap(1-qq), linestyle='-',linewidth=2)\n",
    "    plt.plot(range(2014,2298),count_unviable_isf_2300.sel(quantile=qq,scenario='ssp126',time=range(2014,2298)), color=cmap(1-qq), linestyle='--',linewidth=2)\n",
    "\n",
    "#plt.plot(range(1850,2014),count_unviable_isf_2300.sel(quantile=0.1,scenario='ssp585',time=range(1850,2014)), color='k', linestyle = '--')\n",
    "#plt.plot(range(2014,2299),count_unviable_isf_2300.sel(quantile=0.1,scenario='ssp585',time=range(2014,2299)), color='deeppink', linestyle = '--')\n",
    "#plt.plot(range(2014,2299),count_unviable_isf_2300.sel(quantile=0.1,scenario='ssp126',time=range(2014,2299)), color='violet', linestyle = '--')\n",
    "\n",
    "#plt.plot(range(1850,2014),count_unviable_isf_2300.sel(quantile=0.9,scenario='ssp585',time=range(1850,2014)), color='k', linestyle = '--')\n",
    "#plt.plot(range(2014,2299),count_unviable_isf_2300.sel(quantile=0.9,scenario='ssp585',time=range(2014,2299)), color='deeppink', linestyle = '--')\n",
    "#plt.plot(range(2014,2299),count_unviable_isf_2300.sel(quantile=0.9,scenario='ssp126',time=range(2014,2299)), color='violet', linestyle = '--')\n",
    "\n",
    "#f.legend()\n",
    "#f.subplots_adjust(bottom=0.05, wspace=0.1)\n",
    "plt.xlim(1850,2298)\n",
    "plt.ylabel('Number of non-viable ice shelves')\n",
    "plt.xlabel('Time')\n",
    "f.tight_layout()\n",
    "sns.despine()\n",
    "plt.savefig(plot_path + 'nb_non_viable_isf_2300_lines.pdf')"
   ]
  },
  {
   "cell_type": "code",
   "execution_count": null,
   "id": "61",
   "metadata": {},
   "outputs": [],
   "source": [
    "count_unviable_isf_2300.sel(quantile=qq_list[n-1],scenario=scen,time=range(1850,2014))"
   ]
  },
  {
   "cell_type": "code",
   "execution_count": null,
   "id": "62",
   "metadata": {},
   "outputs": [],
   "source": [
    "scen='ssp126'\n",
    "\n",
    "### THINK ABOUT THE SIGMA_MOD AND SIGMA_OBS AGAIN\n",
    "\n",
    "regions = ['Weddell','Bellingshausen','Amundsen','Ross','East 1','East 2','Dronning Maud Land']\n",
    "colors = ['red','orange','gold','mediumturquoise','maroon','magenta','cornflowerblue','lightseagreen',\n",
    "          'yellowgreen','royalblue','tomato','darkslateblue','purple','darkgoldenrod']\n",
    "\n",
    "f = plt.figure()\n",
    "#f.set_size_inches(8.25, 8.25)\n",
    "f.set_size_inches(8.25*0.75, 8.25/2*0.75) #*1.25\n",
    "\n",
    "ax={}\n",
    "\n",
    "leg_hdl = []\n",
    "\n",
    "i = 0\n",
    "\n",
    "#plt.fill_between(x=range(1850,2014), y1=count_unviable_isf_2300.sel(quantile=0.33,scenario='ssp585',time=range(1850,2014)), y2=count_unviable_isf_2300.sel(quantile=0.66,scenario='ssp585',time=range(1850,2014)), color='grey',alpha=0.2)\n",
    "#plt.fill_between(x=range(2014,2299), y1=count_unviable_isf_2300.sel(quantile=0.33,scenario='ssp585',time=range(2014,2299)), y2=count_unviable_isf_2300.sel(quantile=0.66,scenario='ssp585',time=range(2014,2299)), color='deeppink',alpha=0.2)\n",
    "#plt.fill_between(x=range(2014,2299), y1=count_unviable_isf_2300.sel(quantile=0.33,scenario='ssp126',time=range(2014,2299)), y2=count_unviable_isf_2300.sel(quantile=0.66,scenario='ssp126',time=range(2014,2299)), color='violet',alpha=0.2)\n",
    "\n",
    "#qq_list = [1,0.9,0.66,0.33,0.1,0]\n",
    "qq_list = [0,0.1,0.33,0.66,0.9]\n",
    "col_tot = 4\n",
    "\n",
    "for n in range(len(qq_list)-1,0,-1):\n",
    "    if qq_list[n] == 0.1:\n",
    "        plt.fill_between(x=range(1850,2015),y1=0,\n",
    "                                    y2=count_unviable_isf_2300.sel(quantile=qq_list[n],scenario=scen,time=range(1850,2015)), color=cmap_new2(1-0.00001))\n",
    "        plt.fill_between(x=range(2014,2298),y1=0,\n",
    "                                            y2=count_unviable_isf_2300.sel(quantile=qq_list[n],scenario=scen,time=range(2014,2298)), color=cmap_new2(1-0.0001))\n",
    "        plt.fill_between(x=range(1850,2015),y1=count_unviable_isf_2300.sel(quantile=qq_list[n],scenario=scen,time=range(1850,2015)),\n",
    "                                            y2=count_unviable_isf_2300.sel(quantile=qq_list[n+1],scenario=scen,time=range(1850,2015)), color=cmap_new2(1 - n/col_tot))\n",
    "        plt.fill_between(x=range(2014,2298),y1=count_unviable_isf_2300.sel(quantile=qq_list[n],scenario=scen,time=range(2014,2298)),\n",
    "                                            y2=count_unviable_isf_2300.sel(quantile=qq_list[n+1],scenario=scen,time=range(2014,2298)), color=cmap_new2(1 - n/col_tot))\n",
    "    elif qq_list[n] == 0.9:\n",
    "        plt.fill_between(x=range(1850,2015),y1=count_unviable_isf_2300.sel(quantile=qq_list[n],scenario=scen,time=range(1850,2015)), color=cmap_new2(1-n/col_tot),\n",
    "                                            y2=64)\n",
    "        plt.fill_between(x=range(2014,2298),y1=count_unviable_isf_2300.sel(quantile=qq_list[n],scenario=scen,time=range(2014,2298)), color=cmap_new2(1-n/col_tot),\n",
    "                                            y2=64)\n",
    "        \n",
    "    else:\n",
    "        plt.fill_between(x=range(1850,2015),y1=count_unviable_isf_2300.sel(quantile=qq_list[n],scenario=scen,time=range(1850,2015)),\n",
    "                                            y2=count_unviable_isf_2300.sel(quantile=qq_list[n+1],scenario=scen,time=range(1850,2015)), color=cmap_new2(1 - n/col_tot))\n",
    "        plt.fill_between(x=range(2014,2298),y1=count_unviable_isf_2300.sel(quantile=qq_list[n],scenario=scen,time=range(2014,2298)),\n",
    "                                            y2=count_unviable_isf_2300.sel(quantile=qq_list[n+1],scenario=scen,time=range(2014,2298)), color=cmap_new2(1 - n/col_tot))\n",
    "\n",
    "#f.legend()\n",
    "#f.subplots_adjust(bottom=0.05, wspace=0.1)\n",
    "plt.xlim(1850,2298)\n",
    "plt.ylim(0,64)\n",
    "plt.ylabel('Number of non-viable ice shelves')\n",
    "plt.xlabel('Time')\n",
    "f.tight_layout()\n",
    "sns.despine()\n",
    "plt.savefig(plot_path + 'nb_non_viable_isf_2300_withoutGISS_fill_'+scen+'.pdf')"
   ]
  },
  {
   "cell_type": "code",
   "execution_count": null,
   "id": "63",
   "metadata": {},
   "outputs": [],
   "source": [
    "scen='ssp585'\n",
    "\n",
    "### THINK ABOUT THE SIGMA_MOD AND SIGMA_OBS AGAIN\n",
    "\n",
    "regions = ['Weddell','Bellingshausen','Amundsen','Ross','East 1','East 2','Dronning Maud Land']\n",
    "colors = ['red','orange','gold','mediumturquoise','maroon','magenta','cornflowerblue','lightseagreen',\n",
    "          'yellowgreen','royalblue','tomato','darkslateblue','purple','darkgoldenrod']\n",
    "\n",
    "f = plt.figure()\n",
    "#f.set_size_inches(8.25, 8.25)\n",
    "f.set_size_inches(8.25*0.75, 8.25/2*0.75) #*1.25\n",
    "\n",
    "ax={}\n",
    "\n",
    "leg_hdl = []\n",
    "\n",
    "i = 0\n",
    "\n",
    "#plt.fill_between(x=range(1850,2014), y1=count_unviable_isf_2300.sel(quantile=0.33,scenario='ssp585',time=range(1850,2014)), y2=count_unviable_isf_2300.sel(quantile=0.66,scenario='ssp585',time=range(1850,2014)), color='grey',alpha=0.2)\n",
    "#plt.fill_between(x=range(2014,2299), y1=count_unviable_isf_2300.sel(quantile=0.33,scenario='ssp585',time=range(2014,2299)), y2=count_unviable_isf_2300.sel(quantile=0.66,scenario='ssp585',time=range(2014,2299)), color='deeppink',alpha=0.2)\n",
    "#plt.fill_between(x=range(2014,2299), y1=count_unviable_isf_2300.sel(quantile=0.33,scenario='ssp126',time=range(2014,2299)), y2=count_unviable_isf_2300.sel(quantile=0.66,scenario='ssp126',time=range(2014,2299)), color='violet',alpha=0.2)\n",
    "\n",
    "#qq_list = [1,0.9,0.66,0.33,0.1,0]\n",
    "qq_list = [0,0.1,0.33,0.66,0.9]\n",
    "col_tot = 4\n",
    "\n",
    "for n in range(len(qq_list)-1,0,-1):\n",
    "    if qq_list[n] == 0.1:\n",
    "        plt.fill_between(x=range(1850,2015),y1=0,\n",
    "                                    y2=count_unviable_isf_2300.sel(quantile=qq_list[n],scenario=scen,time=range(1850,2015)), color=cmap_new2(1-0.00001))\n",
    "        plt.fill_between(x=range(2014,2298),y1=0,\n",
    "                                            y2=count_unviable_isf_2300.sel(quantile=qq_list[n],scenario=scen,time=range(2014,2298)), color=cmap_new2(1-0.0001))\n",
    "        plt.fill_between(x=range(1850,2015),y1=count_unviable_isf_2300.sel(quantile=qq_list[n],scenario=scen,time=range(1850,2015)),\n",
    "                                            y2=count_unviable_isf_2300.sel(quantile=qq_list[n+1],scenario=scen,time=range(1850,2015)), color=cmap_new2(1 - n/col_tot))\n",
    "        plt.fill_between(x=range(2014,2298),y1=count_unviable_isf_2300.sel(quantile=qq_list[n],scenario=scen,time=range(2014,2298)),\n",
    "                                            y2=count_unviable_isf_2300.sel(quantile=qq_list[n+1],scenario=scen,time=range(2014,2298)), color=cmap_new2(1 - n/col_tot))\n",
    "    elif qq_list[n] == 0.9:\n",
    "        plt.fill_between(x=range(1850,2015),y1=count_unviable_isf_2300.sel(quantile=qq_list[n],scenario=scen,time=range(1850,2015)), color=cmap_new2(1-n/col_tot),\n",
    "                                            y2=64)\n",
    "        plt.fill_between(x=range(2014,2298),y1=count_unviable_isf_2300.sel(quantile=qq_list[n],scenario=scen,time=range(2014,2298)), color=cmap_new2(1-n/col_tot),\n",
    "                                            y2=64)\n",
    "        \n",
    "    else:\n",
    "        plt.fill_between(x=range(1850,2015),y1=count_unviable_isf_2300.sel(quantile=qq_list[n],scenario=scen,time=range(1850,2015)),\n",
    "                                            y2=count_unviable_isf_2300.sel(quantile=qq_list[n+1],scenario=scen,time=range(1850,2015)), color=cmap_new2(1 - n/col_tot))\n",
    "        plt.fill_between(x=range(2014,2298),y1=count_unviable_isf_2300.sel(quantile=qq_list[n],scenario=scen,time=range(2014,2298)),\n",
    "                                            y2=count_unviable_isf_2300.sel(quantile=qq_list[n+1],scenario=scen,time=range(2014,2298)), color=cmap_new2(1 - n/col_tot))\n",
    "\n",
    "#f.legend()\n",
    "#f.subplots_adjust(bottom=0.05, wspace=0.1)\n",
    "plt.xlim(1850,2298)\n",
    "plt.ylim(0,64)\n",
    "plt.ylabel('Number of non-viable ice shelves')\n",
    "plt.xlabel('Time')\n",
    "f.tight_layout()\n",
    "sns.despine()\n",
    "plt.savefig(plot_path + 'nb_non_viable_isf_2300_withoutGISS_fill_'+scen+'_calving0.pdf')"
   ]
  },
  {
   "cell_type": "code",
   "execution_count": null,
   "id": "64",
   "metadata": {},
   "outputs": [],
   "source": [
    "scen='ssp126'\n",
    "\n",
    "### THINK ABOUT THE SIGMA_MOD AND SIGMA_OBS AGAIN\n",
    "\n",
    "regions = ['Weddell','Bellingshausen','Amundsen','Ross','East 1','East 2','Dronning Maud Land']\n",
    "colors = ['red','orange','gold','mediumturquoise','maroon','magenta','cornflowerblue','lightseagreen',\n",
    "          'yellowgreen','royalblue','tomato','darkslateblue','purple','darkgoldenrod']\n",
    "\n",
    "f = plt.figure()\n",
    "#f.set_size_inches(8.25, 8.25)\n",
    "f.set_size_inches(8.25*0.75, 8.25/2*0.75) #*1.25\n",
    "\n",
    "ax={}\n",
    "\n",
    "leg_hdl = []\n",
    "\n",
    "i = 0\n",
    "\n",
    "#plt.fill_between(x=range(1850,2014), y1=count_unviable_isf_2300.sel(quantile=0.33,scenario='ssp585',time=range(1850,2014)), y2=count_unviable_isf_2300.sel(quantile=0.66,scenario='ssp585',time=range(1850,2014)), color='grey',alpha=0.2)\n",
    "#plt.fill_between(x=range(2014,2299), y1=count_unviable_isf_2300.sel(quantile=0.33,scenario='ssp585',time=range(2014,2299)), y2=count_unviable_isf_2300.sel(quantile=0.66,scenario='ssp585',time=range(2014,2299)), color='deeppink',alpha=0.2)\n",
    "#plt.fill_between(x=range(2014,2299), y1=count_unviable_isf_2300.sel(quantile=0.33,scenario='ssp126',time=range(2014,2299)), y2=count_unviable_isf_2300.sel(quantile=0.66,scenario='ssp126',time=range(2014,2299)), color='violet',alpha=0.2)\n",
    "\n",
    "#qq_list = [1,0.9,0.66,0.33,0.1,0]\n",
    "qq_list = [0,0.1,0.33,0.66,0.9]\n",
    "col_tot = 4\n",
    "\n",
    "for n in range(len(qq_list)-1,0,-1):\n",
    "    if qq_list[n] == 0.1:\n",
    "        plt.fill_between(x=range(1850,2015),y1=0,\n",
    "                                    y2=count_unviable_isf_2300.sel(quantile=qq_list[n],scenario=scen,time=range(1850,2015)), color=cmap_new2(1-0.00001))\n",
    "        plt.fill_between(x=range(2014,2101),y1=0,\n",
    "                                            y2=count_unviable_isf_2300.sel(quantile=qq_list[n],scenario=scen,time=range(2014,2101)), color=cmap_new2(1-0.0001))\n",
    "        plt.fill_between(x=range(1850,2015),y1=count_unviable_isf_2300.sel(quantile=qq_list[n],scenario=scen,time=range(1850,2015)),\n",
    "                                            y2=count_unviable_isf_2300.sel(quantile=qq_list[n+1],scenario=scen,time=range(1850,2015)), color=cmap_new2(1 - n/col_tot))\n",
    "        plt.fill_between(x=range(2014,2101),y1=count_unviable_isf_2300.sel(quantile=qq_list[n],scenario=scen,time=range(2014,2101)),\n",
    "                                            y2=count_unviable_isf_2300.sel(quantile=qq_list[n+1],scenario=scen,time=range(2014,2101)), color=cmap_new2(1 - n/col_tot))\n",
    "    elif qq_list[n] == 0.9:\n",
    "        plt.fill_between(x=range(1850,2015),y1=count_unviable_isf_2300.sel(quantile=qq_list[n],scenario=scen,time=range(1850,2015)), color=cmap_new2(1-n/col_tot),\n",
    "                                            y2=64)\n",
    "        plt.fill_between(x=range(2014,2101),y1=count_unviable_isf_2300.sel(quantile=qq_list[n],scenario=scen,time=range(2014,2101)), color=cmap_new2(1-n/col_tot),\n",
    "                                            y2=64)\n",
    "        \n",
    "    else:\n",
    "        plt.fill_between(x=range(1850,2015),y1=count_unviable_isf_2300.sel(quantile=qq_list[n],scenario=scen,time=range(1850,2015)),\n",
    "                                            y2=count_unviable_isf_2300.sel(quantile=qq_list[n+1],scenario=scen,time=range(1850,2015)), color=cmap_new2(1 - n/col_tot))\n",
    "        plt.fill_between(x=range(2014,2101),y1=count_unviable_isf_2300.sel(quantile=qq_list[n],scenario=scen,time=range(2014,2101)),\n",
    "                                            y2=count_unviable_isf_2300.sel(quantile=qq_list[n+1],scenario=scen,time=range(2014,2101)), color=cmap_new2(1 - n/col_tot))\n",
    "\n",
    "#f.legend()\n",
    "#f.subplots_adjust(bottom=0.05, wspace=0.1)\n",
    "plt.xlim(1850,2100)\n",
    "plt.ylim(0,64)\n",
    "plt.ylabel('Number of non-viable ice shelves')\n",
    "plt.xlabel('Time')\n",
    "f.tight_layout()\n",
    "sns.despine()\n",
    "plt.savefig(plot_path + 'nb_non_viable_isf_2300_fill_'+scen+'_only2100.pdf')"
   ]
  },
  {
   "cell_type": "code",
   "execution_count": null,
   "id": "65",
   "metadata": {},
   "outputs": [],
   "source": [
    "scen='ssp585'\n",
    "\n",
    "### THINK ABOUT THE SIGMA_MOD AND SIGMA_OBS AGAIN\n",
    "\n",
    "regions = ['Weddell','Bellingshausen','Amundsen','Ross','East 1','East 2','Dronning Maud Land']\n",
    "colors = ['red','orange','gold','mediumturquoise','maroon','magenta','cornflowerblue','lightseagreen',\n",
    "          'yellowgreen','royalblue','tomato','darkslateblue','purple','darkgoldenrod']\n",
    "\n",
    "f = plt.figure()\n",
    "#f.set_size_inches(8.25, 8.25)\n",
    "f.set_size_inches(8.25*0.75, 8.25/2*0.75) #*1.25\n",
    "\n",
    "ax={}\n",
    "\n",
    "leg_hdl = []\n",
    "\n",
    "i = 0\n",
    "\n",
    "#plt.fill_between(x=range(1850,2014), y1=count_unviable_isf_2300.sel(quantile=0.33,scenario='ssp585',time=range(1850,2014)), y2=count_unviable_isf_2300.sel(quantile=0.66,scenario='ssp585',time=range(1850,2014)), color='grey',alpha=0.2)\n",
    "#plt.fill_between(x=range(2014,2299), y1=count_unviable_isf_2300.sel(quantile=0.33,scenario='ssp585',time=range(2014,2299)), y2=count_unviable_isf_2300.sel(quantile=0.66,scenario='ssp585',time=range(2014,2299)), color='deeppink',alpha=0.2)\n",
    "#plt.fill_between(x=range(2014,2299), y1=count_unviable_isf_2300.sel(quantile=0.33,scenario='ssp126',time=range(2014,2299)), y2=count_unviable_isf_2300.sel(quantile=0.66,scenario='ssp126',time=range(2014,2299)), color='violet',alpha=0.2)\n",
    "\n",
    "#qq_list = [1,0.9,0.66,0.33,0.1,0]\n",
    "qq_list = [0,0.1,0.33,0.66,0.9]\n",
    "col_tot = 4\n",
    "\n",
    "for n in range(len(qq_list)-1,0,-1):\n",
    "    if qq_list[n] == 0.1:\n",
    "        plt.fill_between(x=range(1850,2015),y1=0,\n",
    "                                    y2=count_unviable_isf.sel(quantile=qq_list[n],scenario=scen,time=range(1850,2015)), color=cmap_new2(1-0.00001))\n",
    "        plt.fill_between(x=range(2014,2101),y1=0,\n",
    "                                            y2=count_unviable_isf.sel(quantile=qq_list[n],scenario=scen,time=range(2014,2101)), color=cmap_new2(1-0.0001))\n",
    "        plt.fill_between(x=range(1850,2015),y1=count_unviable_isf.sel(quantile=qq_list[n],scenario=scen,time=range(1850,2015)),\n",
    "                                            y2=count_unviable_isf.sel(quantile=qq_list[n+1],scenario=scen,time=range(1850,2015)), color=cmap_new2(1 - n/col_tot))\n",
    "        plt.fill_between(x=range(2014,2101),y1=count_unviable_isf.sel(quantile=qq_list[n],scenario=scen,time=range(2014,2101)),\n",
    "                                            y2=count_unviable_isf.sel(quantile=qq_list[n+1],scenario=scen,time=range(2014,2101)), color=cmap_new2(1 - n/col_tot))\n",
    "    elif qq_list[n] == 0.9:\n",
    "        plt.fill_between(x=range(1850,2015),y1=count_unviable_isf.sel(quantile=qq_list[n],scenario=scen,time=range(1850,2015)), color=cmap_new2(1 - n/col_tot),\n",
    "                                            y2=64)\n",
    "        plt.fill_between(x=range(2014,2101),y1=count_unviable_isf.sel(quantile=qq_list[n],scenario=scen,time=range(2014,2101)), color=cmap_new2(1 - n/col_tot),\n",
    "                                            y2=64)\n",
    "        \n",
    "    else:\n",
    "        plt.fill_between(x=range(1850,2015),y1=count_unviable_isf.sel(quantile=qq_list[n],scenario=scen,time=range(1850,2015)),\n",
    "                                            y2=count_unviable_isf.sel(quantile=qq_list[n+1],scenario=scen,time=range(1850,2015)), color=cmap_new2(1 - n/col_tot))\n",
    "        plt.fill_between(x=range(2014,2101),y1=count_unviable_isf.sel(quantile=qq_list[n],scenario=scen,time=range(2014,2101)),\n",
    "                                            y2=count_unviable_isf.sel(quantile=qq_list[n+1],scenario=scen,time=range(2014,2101)), color=cmap_new2(1 - n/col_tot))\n",
    "\n",
    "#f.legend()\n",
    "#f.subplots_adjust(bottom=0.05, wspace=0.1)\n",
    "plt.xlim(1850,2101)\n",
    "plt.ylabel('Number of non-viable ice shelves')\n",
    "plt.xlabel('Time')\n",
    "f.tight_layout()\n",
    "sns.despine()\n",
    "plt.savefig(plot_path + 'nb_non_viable_isf_2100_fill_'+scen+'_only2100.pdf')"
   ]
  },
  {
   "cell_type": "code",
   "execution_count": null,
   "id": "66",
   "metadata": {},
   "outputs": [],
   "source": [
    "\n",
    "### THINK ABOUT THE SIGMA_MOD AND SIGMA_OBS AGAIN\n",
    "\n",
    "regions = ['Weddell','Bellingshausen','Amundsen','Ross','East 1','East 2','Dronning Maud Land']\n",
    "colors = ['red','orange','gold','mediumturquoise','maroon','magenta','cornflowerblue','lightseagreen',\n",
    "          'yellowgreen','royalblue','tomato','darkslateblue','purple','darkgoldenrod']\n",
    "\n",
    "f = plt.figure()\n",
    "#f.set_size_inches(8.25, 8.25)\n",
    "f.set_size_inches(8.25*1.5, 8.25/3*1.5)\n",
    "\n",
    "ax={}\n",
    "\n",
    "leg_hdl = []\n",
    "\n",
    "i = 0\n",
    "\n",
    "#plt.fill_between(x=range(1850,2014), y1=count_unviable_isf_2300.sel(quantile=0.33,scenario='ssp585',time=range(1850,2014)), y2=count_unviable_isf_2300.sel(quantile=0.66,scenario='ssp585',time=range(1850,2014)), color='grey',alpha=0.2)\n",
    "#plt.fill_between(x=range(2014,2299), y1=count_unviable_isf_2300.sel(quantile=0.33,scenario='ssp585',time=range(2014,2299)), y2=count_unviable_isf_2300.sel(quantile=0.66,scenario='ssp585',time=range(2014,2299)), color='deeppink',alpha=0.2)\n",
    "#plt.fill_between(x=range(2014,2299), y1=count_unviable_isf_2300.sel(quantile=0.33,scenario='ssp126',time=range(2014,2299)), y2=count_unviable_isf_2300.sel(quantile=0.66,scenario='ssp126',time=range(2014,2299)), color='violet',alpha=0.2)\n",
    "\n",
    "for qq in [0.1,0.33,0.66,0.9]:\n",
    "    plt.plot(range(1850,2014),count_unviable_isf_2300.sel(quantile=qq,scenario='ssp585',time=range(1850,2014)), color=cmap(1-qq), linestyle='dashdot',linewidth=2)\n",
    "    plt.plot(range(2014,2298),count_unviable_isf_2300.sel(quantile=qq,scenario='ssp585',time=range(2014,2298)), color=cmap(1-qq), linestyle='-',linewidth=2)\n",
    "    plt.plot(range(2014,2298),count_unviable_isf_2300.sel(quantile=qq,scenario='ssp126',time=range(2014,2298)), color=cmap(1-qq), linestyle='--',linewidth=2)\n",
    "\n",
    "#plt.plot(range(1850,2014),count_unviable_isf_2300.sel(quantile=0.1,scenario='ssp585',time=range(1850,2014)), color='k', linestyle = '--')\n",
    "#plt.plot(range(2014,2299),count_unviable_isf_2300.sel(quantile=0.1,scenario='ssp585',time=range(2014,2299)), color='deeppink', linestyle = '--')\n",
    "#plt.plot(range(2014,2299),count_unviable_isf_2300.sel(quantile=0.1,scenario='ssp126',time=range(2014,2299)), color='violet', linestyle = '--')\n",
    "\n",
    "#plt.plot(range(1850,2014),count_unviable_isf_2300.sel(quantile=0.9,scenario='ssp585',time=range(1850,2014)), color='k', linestyle = '--')\n",
    "#plt.plot(range(2014,2299),count_unviable_isf_2300.sel(quantile=0.9,scenario='ssp585',time=range(2014,2299)), color='deeppink', linestyle = '--')\n",
    "#plt.plot(range(2014,2299),count_unviable_isf_2300.sel(quantile=0.9,scenario='ssp126',time=range(2014,2299)), color='violet', linestyle = '--')\n",
    "\n",
    "#f.legend()\n",
    "#f.subplots_adjust(bottom=0.05, wspace=0.1)\n",
    "plt.xlim(1850,2298)\n",
    "plt.ylabel('Number of non-viable ice shelves')\n",
    "plt.xlabel('Time')\n",
    "f.tight_layout()\n",
    "sns.despine()\n",
    "plt.savefig(plot_path + 'nb_non_viable_isf_2300_lines_calving0.pdf')"
   ]
  },
  {
   "cell_type": "code",
   "execution_count": null,
   "id": "67",
   "metadata": {},
   "outputs": [],
   "source": [
    "# NON-VIABILITY SMB\n",
    "SMB_weighted_yy_2300 = file_viability_info['SMB'].sel(time=range(1850,2300)).sel(model=model_2300).weighted(bay_weights_2300 * sens_weights.sel(model=model_2300))\n",
    "weighted_quantiles_SMB_2300 = SMB_weighted_yy_2300.quantile([0,0.1,0.33,0.66,0.5,0.9,1],dim=['model','param','m'])\n",
    "SMB_unviable_times_2300 = weighted_quantiles_SMB_2300 < 0\n",
    "\n",
    "SMB_viability_diff_2300 = SMB_unviable_times_2300.sel(time=range(2298,1849,-1)).cumsum('time').diff('time')\n",
    "SMB_limit_max_2300 = SMB_viability_diff_2300.time.where(SMB_viability_diff_2300 == 0).max('time') + 1\n",
    "SMB_limit_max_2300 = SMB_limit_max_2300.where(SMB_limit_max_2300<2299)\n",
    "SMB_limit_max_2300 = SMB_limit_max_2300.where(~(np.isnan(SMB_limit_max_2300) & SMB_unviable_times_2300.sel(time=1850)), 1850)\n",
    "\n",
    "SMB_limit_max_full_2300 = SMB_limit_max_2300.where(np.isfinite(SMB_limit_max_2300), 2305)\n",
    "\n",
    "SMB_count_unviable_isf_2300 = (SMB_unviable_times_2300.time >= SMB_limit_max_full_2300).sum('Nisf')"
   ]
  },
  {
   "cell_type": "code",
   "execution_count": null,
   "id": "68",
   "metadata": {},
   "outputs": [],
   "source": [
    "scen='ssp585'\n",
    "\n",
    "### THINK ABOUT THE SIGMA_MOD AND SIGMA_OBS AGAIN\n",
    "\n",
    "regions = ['Weddell','Bellingshausen','Amundsen','Ross','East 1','East 2','Dronning Maud Land']\n",
    "colors = ['red','orange','gold','mediumturquoise','maroon','magenta','cornflowerblue','lightseagreen',\n",
    "          'yellowgreen','royalblue','tomato','darkslateblue','purple','darkgoldenrod']\n",
    "\n",
    "f = plt.figure()\n",
    "#f.set_size_inches(8.25, 8.25)\n",
    "f.set_size_inches(8.25*0.75, 8.25/2*0.75) #*1.25\n",
    "\n",
    "ax={}\n",
    "\n",
    "leg_hdl = []\n",
    "\n",
    "i = 0\n",
    "\n",
    "#plt.fill_between(x=range(1850,2014), y1=count_unviable_isf_2300.sel(quantile=0.33,scenario='ssp585',time=range(1850,2014)), y2=count_unviable_isf_2300.sel(quantile=0.66,scenario='ssp585',time=range(1850,2014)), color='grey',alpha=0.2)\n",
    "#plt.fill_between(x=range(2014,2299), y1=count_unviable_isf_2300.sel(quantile=0.33,scenario='ssp585',time=range(2014,2299)), y2=count_unviable_isf_2300.sel(quantile=0.66,scenario='ssp585',time=range(2014,2299)), color='deeppink',alpha=0.2)\n",
    "#plt.fill_between(x=range(2014,2299), y1=count_unviable_isf_2300.sel(quantile=0.33,scenario='ssp126',time=range(2014,2299)), y2=count_unviable_isf_2300.sel(quantile=0.66,scenario='ssp126',time=range(2014,2299)), color='violet',alpha=0.2)\n",
    "\n",
    "#qq_list = [1,0.9,0.66,0.33,0.1,0]\n",
    "qq_list = [0,0.1,0.33,0.66,0.9]\n",
    "col_tot = 4\n",
    "\n",
    "for n in range(len(qq_list)-1,0,-1):\n",
    "    if qq_list[n] == 0.1:\n",
    "        plt.fill_between(x=range(1850,2015),y1=0,\n",
    "                                    y2=SMB_count_unviable_isf_2300.sel(quantile=qq_list[n],scenario=scen,time=range(1850,2015)), color=cmap_new2(1-0.00001))\n",
    "        plt.fill_between(x=range(2014,2298),y1=0,\n",
    "                                            y2=SMB_count_unviable_isf_2300.sel(quantile=qq_list[n],scenario=scen,time=range(2014,2298)), color=cmap_new2(1-0.0001))\n",
    "        plt.fill_between(x=range(1850,2015),y1=SMB_count_unviable_isf_2300.sel(quantile=qq_list[n],scenario=scen,time=range(1850,2015)),\n",
    "                                            y2=SMB_count_unviable_isf_2300.sel(quantile=qq_list[n+1],scenario=scen,time=range(1850,2015)), color=cmap_new2(1 - n/col_tot))\n",
    "        plt.fill_between(x=range(2014,2298),y1=SMB_count_unviable_isf_2300.sel(quantile=qq_list[n],scenario=scen,time=range(2014,2298)),\n",
    "                                            y2=SMB_count_unviable_isf_2300.sel(quantile=qq_list[n+1],scenario=scen,time=range(2014,2298)), color=cmap_new2(1 - n/col_tot))\n",
    "    elif qq_list[n] == 0.9:\n",
    "        plt.fill_between(x=range(1850,2015),y1=SMB_count_unviable_isf_2300.sel(quantile=qq_list[n],scenario=scen,time=range(1850,2015)), color=cmap_new2(1-n/col_tot),\n",
    "                                            y2=64)\n",
    "        plt.fill_between(x=range(2014,2298),y1=SMB_count_unviable_isf_2300.sel(quantile=qq_list[n],scenario=scen,time=range(2014,2298)), color=cmap_new2(1-n/col_tot),\n",
    "                                            y2=64)\n",
    "        \n",
    "    else:\n",
    "        plt.fill_between(x=range(1850,2015),y1=SMB_count_unviable_isf_2300.sel(quantile=qq_list[n],scenario=scen,time=range(1850,2015)),\n",
    "                                            y2=SMB_count_unviable_isf_2300.sel(quantile=qq_list[n+1],scenario=scen,time=range(1850,2015)), color=cmap_new2(1 - n/col_tot))\n",
    "        plt.fill_between(x=range(2014,2298),y1=SMB_count_unviable_isf_2300.sel(quantile=qq_list[n],scenario=scen,time=range(2014,2298)),\n",
    "                                            y2=SMB_count_unviable_isf_2300.sel(quantile=qq_list[n+1],scenario=scen,time=range(2014,2298)), color=cmap_new2(1 - n/col_tot))\n",
    "\n",
    "#f.legend()\n",
    "#f.subplots_adjust(bottom=0.05, wspace=0.1)\n",
    "plt.xlim(1850,2298)\n",
    "plt.ylim(0,64)\n",
    "plt.ylabel('Number of ice shelves reaching SMB < 0')\n",
    "plt.xlabel('Time')\n",
    "f.tight_layout()\n",
    "sns.despine()\n",
    "plt.savefig(plot_path + 'SMB_nb_non_viable_isf_2300_withoutGISS_fill_'+scen+'.pdf')"
   ]
  },
  {
   "cell_type": "code",
   "execution_count": null,
   "id": "69",
   "metadata": {},
   "outputs": [],
   "source": [
    "SMB_limit_max_full_2300.sel(quantile=0.33,scenario='ssp585')"
   ]
  },
  {
   "cell_type": "code",
   "execution_count": null,
   "id": "70",
   "metadata": {},
   "outputs": [],
   "source": [
    "limit_max_full_2300.sel(quantile=0.33,scenario='ssp585')"
   ]
  },
  {
   "cell_type": "code",
   "execution_count": null,
   "id": "71",
   "metadata": {},
   "outputs": [],
   "source": [
    "Nisf_very_likely = limit_max_full_2300.Nisf.where(limit_max_full_2300.sel(quantile=0.1,scenario='ssp585') > SMB_limit_max_full_2300.sel(quantile=0.1,scenario='ssp585'), drop=True)\n",
    "Nisf_likely = limit_max_full_2300.Nisf.where(limit_max_full_2300.sel(quantile=0.33,scenario='ssp585') > SMB_limit_max_full_2300.sel(quantile=0.33,scenario='ssp585'), drop=True)"
   ]
  },
  {
   "cell_type": "code",
   "execution_count": null,
   "id": "72",
   "metadata": {},
   "outputs": [],
   "source": [
    "for kisf in sorted_isf_rignot:\n",
    "    if kisf not in Nisf_likely:\n",
    "        print(file_isf['isf_name'].sel(Nisf=kisf).values)"
   ]
  },
  {
   "cell_type": "code",
   "execution_count": null,
   "id": "73",
   "metadata": {},
   "outputs": [],
   "source": [
    "(file_isf['ISF_mask'] == Nisf_likely).sum('Nisf').plot()"
   ]
  },
  {
   "cell_type": "code",
   "execution_count": null,
   "id": "74",
   "metadata": {},
   "outputs": [],
   "source": []
  }
 ],
 "metadata": {
  "kernelspec": {
   "display_name": "py38",
   "language": "python",
   "name": "py38"
  },
  "language_info": {
   "codemirror_mode": {
    "name": "ipython",
    "version": 3
   },
   "file_extension": ".py",
   "mimetype": "text/x-python",
   "name": "python",
   "nbconvert_exporter": "python",
   "pygments_lexer": "ipython3",
   "version": "3.8.12"
  }
 },
 "nbformat": 4,
 "nbformat_minor": 5
}
