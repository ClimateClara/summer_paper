{
 "cells": [
  {
   "cell_type": "code",
   "execution_count": null,
   "id": "2ec41bf7-4e40-44c8-868e-2b3a9cf36ccd",
   "metadata": {},
   "outputs": [],
   "source": [
    "\"\"\"\n",
    "Created on Tue Jun 27 16:57 2023\n",
    "\n",
    "Look at the grounding line flux from ABUMIP\n",
    "\n",
    "@author: Clara Burgard\n",
    "\"\"\""
   ]
  },
  {
   "cell_type": "code",
   "execution_count": null,
   "id": "5b34db23-3a0e-4893-bac7-401624ef8e73",
   "metadata": {},
   "outputs": [],
   "source": [
    "import xarray as xr\n",
    "import matplotlib.pyplot as plt\n",
    "import glob\n",
    "import numpy as np\n",
    "\n",
    "import basal_melt_param.create_isf_mask_functions as isfm\n",
    "import basal_melt_param.useful_functions as uf"
   ]
  },
  {
   "cell_type": "code",
   "execution_count": null,
   "id": "8d19dbf6-2ab4-4dd9-9f3e-3b23fc300155",
   "metadata": {},
   "outputs": [],
   "source": [
    "%matplotlib qt5"
   ]
  },
  {
   "cell_type": "code",
   "execution_count": null,
   "id": "030d1dd9-7b68-431e-b86c-dd2a6fe9969c",
   "metadata": {},
   "outputs": [],
   "source": [
    "inputpath = '/bettik/burgardc/DATA/SUMMER_PAPER/raw/ABUMIP_DATA/'"
   ]
  },
  {
   "cell_type": "code",
   "execution_count": null,
   "id": "573ab9c1-7c8c-41f4-83d6-1634697f849a",
   "metadata": {},
   "outputs": [],
   "source": [
    "file_list = glob.glob(inputpath+'/*/ligroundf*.nc')"
   ]
  },
  {
   "cell_type": "code",
   "execution_count": null,
   "id": "b4351e32-7955-41e0-a669-224a029b0543",
   "metadata": {},
   "outputs": [],
   "source": [
    "file_for_coord = xr.open_dataset(inputpath + 'DOE_MALI_abuk/ligroundf_AIS_DOE_MALI_abuk.nc',decode_times=False)\n",
    "xx = file_for_coord.x\n",
    "yy = file_for_coord.y"
   ]
  },
  {
   "cell_type": "code",
   "execution_count": null,
   "id": "e6ec4096-157d-4e36-9d73-337f612c9e5a",
   "metadata": {},
   "outputs": [],
   "source": [
    "GL_list = []\n",
    "for ff in file_list:\n",
    "    mod_name_sep = ff.split('/')[7].split('_')[0:2]\n",
    "    mod_name = '_'.join(mod_name_sep)\n",
    "    print(mod_name)\n",
    "    \n",
    "    GL_flux_ff = xr.open_dataset(ff,decode_times=False)\n",
    "    GL_flux_mod = GL_flux_ff['ligroundf'].assign_coords({'model': mod_name, 'time': np.arange(len(GL_flux_ff.time)), 'y': yy, 'x': xx})\n",
    "    GL_list.append(GL_flux_mod)\n",
    "    if mod_name not in ['CPOM_BISICLES', 'NCAR_CISM']:\n",
    "        print(GL_flux_mod.units)\n",
    "\n",
    "GL_ds = xr.concat(GL_list, dim='model')"
   ]
  },
  {
   "cell_type": "code",
   "execution_count": null,
   "id": "6361a33c-d414-498b-bd9f-1c1bc38a9ad5",
   "metadata": {},
   "outputs": [],
   "source": [
    "for mmod in GL_ds.model:\n",
    "    plt.figure()\n",
    "    GL_ds.mean('time').sel(model=mmod).plot()"
   ]
  },
  {
   "cell_type": "code",
   "execution_count": null,
   "id": "59844b79-3563-4d8e-8f6e-c66bbf78c562",
   "metadata": {},
   "outputs": [],
   "source": [
    "for mmod in GL_ds.model:\n",
    "    if mmod not in ['IMAU_IMAUICE','NCAR_CISM','CPOM_BISICLES']:\n",
    "        GL_ds.sel(model=mmod).sum(['x','y']).plot(label=mmod.values)\n",
    "plt.legend()"
   ]
  },
  {
   "cell_type": "code",
   "execution_count": null,
   "id": "38bf2817-7465-4abc-bf09-5cb1871713b5",
   "metadata": {},
   "outputs": [],
   "source": [
    "outputpath_mask='/bettik/burgardc/SCRIPTS/basal_melt_param/data/interim/ANTARCTICA_IS_MASKS/nemo_5km_OPM016/'\n",
    "whole_ds = xr.open_dataset(outputpath_mask + 'nemo_5km_isf_masks_and_info_and_distance_new_oneFRIS.nc')\n",
    "nonnan_Nisf = whole_ds['Nisf'].where(np.isfinite(whole_ds['front_bot_depth_max']), drop=True).astype(int)\n",
    "file_isf_nonnan = whole_ds.sel(Nisf=nonnan_Nisf)\n",
    "#large_isf = file_isf_nonnan['Nisf'].where(file_isf_nonnan['isf_area_here'] >= 2500, drop=True)\n",
    "large_isf = file_isf_nonnan['Nisf'].where(file_isf_nonnan['isf_area_here'] >= 3200, drop=True)\n",
    "file_isf = file_isf_nonnan.sel(Nisf=large_isf)\n",
    "isf_mask = file_isf['ISF_mask']"
   ]
  },
  {
   "cell_type": "code",
   "execution_count": null,
   "id": "3be9f6bf-1b5d-440b-a757-64adf8656644",
   "metadata": {},
   "outputs": [],
   "source": [
    "GL_flux_list = []\n",
    "for kisf in file_isf.Nisf:\n",
    "    GL_flux_kisf = GL_ds.where(isf_mask == kisf).sum(['x','y'])\n",
    "    GL_flux_list.append(GL_flux_kisf.assign_coords({'Nisf':kisf}))\n",
    "GL_flux_timeseries = xr.concat(GL_flux_list, dim='Nisf')"
   ]
  },
  {
   "cell_type": "code",
   "execution_count": null,
   "id": "a30e182f-a8d8-475b-88a2-30f6f9f6df97",
   "metadata": {},
   "outputs": [],
   "source": [
    "plt.close('all')"
   ]
  },
  {
   "cell_type": "code",
   "execution_count": null,
   "id": "ec9aa0f3-0ed1-4882-a1ab-74a92825022d",
   "metadata": {},
   "outputs": [],
   "source": [
    "for kisf in GL_flux_timeseries.Nisf:\n",
    "    plt.figure()\n",
    "    for mmod in GL_flux_timeseries.model:\n",
    "        GL_flux_timeseries.sel(model=mmod, Nisf=kisf).plot(label=mmod.values)\n",
    "    plt.legend()\n",
    "    plt.title(file_isf['isf_name'].sel(Nisf=kisf).values)"
   ]
  },
  {
   "cell_type": "code",
   "execution_count": null,
   "id": "12365ae1-d7e9-4d48-9a4d-93508d4e96dd",
   "metadata": {},
   "outputs": [],
   "source": [
    "kisf = 66\n",
    "plt.figure()\n",
    "for mmod in GL_flux_timeseries.model:\n",
    "    GL_flux_timeseries.sel(model=mmod, Nisf=kisf).plot(label=mmod.values)\n",
    "plt.legend()\n",
    "plt.title(file_isf['isf_name'].sel(Nisf=kisf).values)\n",
    "#plt.ylim(-5,5)"
   ]
  },
  {
   "cell_type": "code",
   "execution_count": null,
   "id": "92fdb921-ae37-4722-82be-0bf53b67aa67",
   "metadata": {},
   "outputs": [],
   "source": []
  }
 ],
 "metadata": {
  "kernelspec": {
   "display_name": "py38",
   "language": "python",
   "name": "py38"
  },
  "language_info": {
   "codemirror_mode": {
    "name": "ipython",
    "version": 3
   },
   "file_extension": ".py",
   "mimetype": "text/x-python",
   "name": "python",
   "nbconvert_exporter": "python",
   "pygments_lexer": "ipython3",
   "version": "3.8.12"
  }
 },
 "nbformat": 4,
 "nbformat_minor": 5
}
