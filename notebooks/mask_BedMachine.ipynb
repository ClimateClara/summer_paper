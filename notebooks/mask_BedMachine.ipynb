{
 "cells": [
  {
   "cell_type": "code",
   "execution_count": null,
   "id": "7ef714be-f379-41cb-87f4-cbe2efcb8796",
   "metadata": {},
   "outputs": [],
   "source": [
    "\"\"\"\n",
    "Created on Mon Jul 10 18:47 2023\n",
    "\n",
    "Use cdo to regrid the BedMachine to a lower resolution\n",
    "\n",
    "@author: Clara Burgard\n",
    "\"\"\""
   ]
  },
  {
   "cell_type": "code",
   "execution_count": null,
   "id": "fc1a90af-c19b-46af-9163-0bec38533e80",
   "metadata": {},
   "outputs": [],
   "source": [
    "import xarray as xr\n",
    "import numpy as np\n",
    "import matplotlib.pyplot as plt\n",
    "from pyproj import Transformer\n",
    "import pandas as pd\n",
    "import sys,os\n",
    "from cdo import Cdo\n",
    "import time\n",
    "from tqdm.notebook import tqdm"
   ]
  },
  {
   "cell_type": "code",
   "execution_count": null,
   "id": "7ec4c4c7-2845-4e17-9f37-bfcf01370a30",
   "metadata": {},
   "outputs": [],
   "source": [
    "%matplotlib qt5"
   ]
  },
  {
   "cell_type": "code",
   "execution_count": null,
   "id": "3e97e736-f07f-49bb-b40c-d6ed74dd9df2",
   "metadata": {},
   "outputs": [],
   "source": [
    "cdo = Cdo()\n",
    "print('this is CDO version %s'%(cdo.version()))"
   ]
  },
  {
   "cell_type": "code",
   "execution_count": null,
   "id": "1c7c610f-f095-4b1b-acdc-9d04a584014f",
   "metadata": {},
   "outputs": [],
   "source": [
    "inputpath_BedMachine='/bettik/burgardc/DATA/ERWIN_PAPER/'\n",
    "inputpath_grid='/bettik/burgardc/DATA/SUMMER_PAPER/interim/'"
   ]
  },
  {
   "cell_type": "code",
   "execution_count": null,
   "id": "8791c178-a5df-419d-8a4b-1bad30e2964f",
   "metadata": {},
   "outputs": [],
   "source": [
    "\n",
    "time_start = time.time()\n",
    "cdo.remapcon(inputpath_grid+'ISMIP6_AIS_4000m_grid.nc',\n",
    "                 input = inputpath_BedMachine+'BedMachineAntarctica-v3.nc', \n",
    "                 output = inputpath_BedMachine+'BedMachineAntarctica-v3_remapcon4km.nc')\n",
    "timelength = time.time() - time_start\n"
   ]
  },
  {
   "cell_type": "code",
   "execution_count": null,
   "id": "a3e890a5-4ccf-4a6c-b960-a2cb0355b1ba",
   "metadata": {},
   "outputs": [],
   "source": []
  }
 ],
 "metadata": {
  "kernelspec": {
   "display_name": "py38",
   "language": "python",
   "name": "py38"
  },
  "language_info": {
   "codemirror_mode": {
    "name": "ipython",
    "version": 3
   },
   "file_extension": ".py",
   "mimetype": "text/x-python",
   "name": "python",
   "nbconvert_exporter": "python",
   "pygments_lexer": "ipython3",
   "version": "3.8.12"
  }
 },
 "nbformat": 4,
 "nbformat_minor": 5
}
