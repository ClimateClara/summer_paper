{
 "cells": [
  {
   "cell_type": "code",
   "execution_count": null,
   "id": "0",
   "metadata": {},
   "outputs": [],
   "source": [
    "\"\"\"\n",
    "Created on Mon Apr 28 14:15 2025\n",
    "\n",
    "Create a BedMachine-similar file for ElmerIce-geometries as input for Christoph\n",
    "\n",
    "Author: @claraburgard\n",
    "\n",
    "\"\"\""
   ]
  },
  {
   "cell_type": "code",
   "execution_count": null,
   "id": "1",
   "metadata": {},
   "outputs": [],
   "source": [
    "import xarray as xr\n",
    "import numpy as np\n",
    "import matplotlib.pyplot as plt\n",
    "import multimelt.useful_functions as uf"
   ]
  },
  {
   "cell_type": "code",
   "execution_count": null,
   "id": "2",
   "metadata": {},
   "outputs": [],
   "source": [
    "%matplotlib qt5"
   ]
  },
  {
   "cell_type": "code",
   "execution_count": null,
   "id": "3",
   "metadata": {},
   "outputs": [],
   "source": [
    "inputpath_ElmerIce='/bettik/burgardc/DATA/SUMMER_PAPER/raw/ELMERICE_GEOMETRIES/'\n",
    "outputpath_ElmerIce='/bettik/burgardc/DATA/SUMMER_PAPER/interim/ELMERICE_NEWGEO/'\n",
    "inputpath_data='/bettik/burgardc/DATA/SUMMER_PAPER/interim/'\n"
   ]
  },
  {
   "cell_type": "code",
   "execution_count": null,
   "id": "4",
   "metadata": {},
   "outputs": [],
   "source": [
    "map_lim = [-3000000,3000000]"
   ]
  },
  {
   "cell_type": "code",
   "execution_count": null,
   "id": "5",
   "metadata": {},
   "outputs": [],
   "source": [
    "file_BedMachine_orig = xr.open_dataset(inputpath_data+'BedMachine_v2_aggregated4km_allvars.nc')\n",
    "file_BedMachine_orig_cut = uf.cut_domain_stereo(file_BedMachine_orig, map_lim, map_lim)"
   ]
  },
  {
   "cell_type": "code",
   "execution_count": null,
   "id": "6",
   "metadata": {},
   "outputs": [],
   "source": [
    "yyear = 2025\n",
    "eexp = '104' #'104'"
   ]
  },
  {
   "cell_type": "code",
   "execution_count": null,
   "id": "7",
   "metadata": {},
   "outputs": [],
   "source": [
    "mask_file_raw = xr.open_dataset(inputpath_ElmerIce + 'ISMIP6_GL1-SSP585_IPSL-CM6A-LR_MAR_EXP'+eexp+'_Y'+str(yyear)+'.4km.nc')"
   ]
  },
  {
   "cell_type": "code",
   "execution_count": null,
   "id": "8",
   "metadata": {},
   "outputs": [],
   "source": [
    "mask_file_new = mask_file_raw.copy().transpose('y','x')"
   ]
  },
  {
   "cell_type": "code",
   "execution_count": null,
   "id": "9",
   "metadata": {},
   "outputs": [],
   "source": [
    "ground_conc = (mask_file_new['gmask'] + 1)/2\n",
    "isf_conc = 1 - ground_conc"
   ]
  },
  {
   "cell_type": "code",
   "execution_count": null,
   "id": "10",
   "metadata": {},
   "outputs": [],
   "source": [
    "mask_file_new['thickness'] = mask_file_new['surface'] - mask_file_new['base']\n",
    "mask_file_new['ground_conc'] = ground_conc.where(np.isfinite(ground_conc), 0)\n",
    "mask_file_new['isf_conc'] = isf_conc.where(np.isfinite(isf_conc), 0)\n",
    "mask_file_new['icefree_conc'] = mask_file_new['isf_conc'] * 0\n",
    "mask_file_new['bed'] = mask_file_new['bedrock']"
   ]
  },
  {
   "cell_type": "code",
   "execution_count": null,
   "id": "11",
   "metadata": {},
   "outputs": [],
   "source": [
    "isf_mask = (mask_file_new['isf_conc'] > 0).astype(int)\n",
    "ground_mask_0_1 = (mask_file_new['ground_conc'] == 1).astype(int) \n",
    "ground_mask_0_2 = ground_mask_0_1.where(ground_mask_0_1 == 0, 2)\n",
    "mask_0_1_2 = isf_mask + ground_mask_0_2"
   ]
  },
  {
   "cell_type": "markdown",
   "id": "12",
   "metadata": {},
   "source": [
    "Correct the mask for Berkner Island"
   ]
  },
  {
   "cell_type": "code",
   "execution_count": null,
   "id": "13",
   "metadata": {},
   "outputs": [],
   "source": [
    "xx = file_BedMachine_orig_cut.x\n",
    "yy = file_BedMachine_orig_cut.y\n",
    "mask_Berkner_Island = file_BedMachine_orig_cut['mask_0_1_2'].where((xx >= -1e6) & (xx <= -7.26e5) & (yy >= 5.8e5) & (yy <= 9.4e5))"
   ]
  },
  {
   "cell_type": "code",
   "execution_count": null,
   "id": "14",
   "metadata": {},
   "outputs": [],
   "source": [
    "mask_0_1_2_corr = mask_0_1_2.where(mask_Berkner_Island != 2, 2)\n",
    "mask_0_1_2_corr = mask_0_1_2_corr.where(mask_Berkner_Island != 1, 2)\n",
    "mask_0_1_2_corr = mask_0_1_2_corr.where(~((mask_0_1_2_corr == 2) & (mask_0_1_2 == 1)), 1)"
   ]
  },
  {
   "cell_type": "code",
   "execution_count": null,
   "id": "15",
   "metadata": {},
   "outputs": [],
   "source": [
    "mask_file_new['mask_0_1_2'] = mask_0_1_2_corr"
   ]
  },
  {
   "cell_type": "code",
   "execution_count": null,
   "id": "16",
   "metadata": {},
   "outputs": [],
   "source": [
    "if eexp == '004':\n",
    "    mask_file_new[['mask_0_1_2', 'ground_conc', 'isf_conc', 'icefree_conc', 'bed', 'surface', 'thickness', 'base']].to_netcdf(outputpath_ElmerIce+'ElmerIce_4km_allvars_'+str(yyear)+'.nc')\n",
    "elif eexp == '104':\n",
    "    mask_file_new[['mask_0_1_2', 'ground_conc', 'isf_conc', 'icefree_conc', 'bed', 'surface', 'thickness', 'base']].to_netcdf(outputpath_ElmerIce+'ElmerIce_4km_allvars_'+str(yyear)+'_constantSMB.nc')"
   ]
  },
  {
   "cell_type": "code",
   "execution_count": null,
   "id": "17",
   "metadata": {},
   "outputs": [],
   "source": [
    "ground_conc.plot()"
   ]
  },
  {
   "cell_type": "code",
   "execution_count": null,
   "id": "18",
   "metadata": {},
   "outputs": [],
   "source": []
  }
 ],
 "metadata": {
  "kernelspec": {
   "display_name": "py38",
   "language": "python",
   "name": "py38"
  },
  "language_info": {
   "codemirror_mode": {
    "name": "ipython",
    "version": 3
   },
   "file_extension": ".py",
   "mimetype": "text/x-python",
   "name": "python",
   "nbconvert_exporter": "python",
   "pygments_lexer": "ipython3",
   "version": "3.8.20"
  }
 },
 "nbformat": 4,
 "nbformat_minor": 5
}
