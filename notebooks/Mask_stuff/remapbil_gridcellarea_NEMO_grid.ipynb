{
 "cells": [
  {
   "cell_type": "code",
   "execution_count": null,
   "id": "0",
   "metadata": {},
   "outputs": [],
   "source": [
    "\"\"\"\n",
    "\n",
    "Prepared clean stereographic grid for NEMO runs (5 kms) with bounds and so on\n",
    "\n",
    "\"\"\""
   ]
  },
  {
   "cell_type": "code",
   "execution_count": null,
   "id": "1",
   "metadata": {},
   "outputs": [],
   "source": [
    "import xarray as xr\n",
    "from cdo import Cdo\n",
    "import multimelt.useful_functions as uf\n",
    "from tqdm.notebook import tqdm"
   ]
  },
  {
   "cell_type": "code",
   "execution_count": null,
   "id": "2",
   "metadata": {},
   "outputs": [],
   "source": [
    "outputpath = '/bettik/burgardc/DATA/SUMMER_PAPER/interim/'"
   ]
  },
  {
   "cell_type": "code",
   "execution_count": null,
   "id": "3",
   "metadata": {},
   "outputs": [],
   "source": [
    "ISMIP_4km_grid = xr.open_dataset(outputpath + 'ISMIP6_AIS_4000m_grid.nc')"
   ]
  },
  {
   "cell_type": "code",
   "execution_count": null,
   "id": "4",
   "metadata": {},
   "outputs": [],
   "source": [
    "ISMIP_4km_grid"
   ]
  },
  {
   "cell_type": "code",
   "execution_count": null,
   "id": "5",
   "metadata": {},
   "outputs": [],
   "source": [
    "ISMIP_4km_grid['cell_area'].plot()"
   ]
  },
  {
   "cell_type": "code",
   "execution_count": null,
   "id": "6",
   "metadata": {},
   "outputs": [],
   "source": [
    "uf.change_coord_stereo_to_latlon(ISMIP_4km_grid.x[100] - 2000.,ISMIP_4km_grid.y[110] + 2000.)"
   ]
  },
  {
   "cell_type": "code",
   "execution_count": null,
   "id": "7",
   "metadata": {},
   "outputs": [],
   "source": [
    "ISMIP_4km_grid['mapping'].load()#['lon_bnds'].isel(x=100,y=110,nv4=3).load()"
   ]
  },
  {
   "cell_type": "code",
   "execution_count": null,
   "id": "8",
   "metadata": {},
   "outputs": [],
   "source": [
    "nemo_5km_grid = xr.open_dataset(outputpath+'NEMO_ctrl94_ANT_STEREO/stereo_grid.nc')"
   ]
  },
  {
   "cell_type": "code",
   "execution_count": null,
   "id": "9",
   "metadata": {},
   "outputs": [],
   "source": [
    "half_res = 2500."
   ]
  },
  {
   "cell_type": "code",
   "execution_count": null,
   "id": "10",
   "metadata": {},
   "outputs": [],
   "source": [
    "meshx,meshy = np.meshgrid(nemo_5km_grid.x,nemo_5km_grid.y)"
   ]
  },
  {
   "cell_type": "code",
   "execution_count": null,
   "id": "11",
   "metadata": {},
   "outputs": [],
   "source": [
    "meshlon_ll,meshlat_ll = uf.change_coord_stereo_to_latlon(meshx - half_res, meshy - half_res)\n",
    "meshlon_lr,meshlat_lr = uf.change_coord_stereo_to_latlon(meshx + half_res, meshy - half_res)\n",
    "meshlon_ur,meshlat_ur = uf.change_coord_stereo_to_latlon(meshx + half_res, meshy + half_res)\n",
    "meshlon_ul,meshlat_ul = uf.change_coord_stereo_to_latlon(meshx - half_res, meshy + half_res)"
   ]
  },
  {
   "cell_type": "code",
   "execution_count": null,
   "id": "12",
   "metadata": {},
   "outputs": [],
   "source": [
    "meshlon,meshlat = uf.change_coord_stereo_to_latlon(meshx, meshy)"
   ]
  },
  {
   "cell_type": "code",
   "execution_count": null,
   "id": "13",
   "metadata": {},
   "outputs": [],
   "source": [
    "lon_bnds = xr.DataArray(data=np.array([meshlon_ll, meshlon_lr, meshlon_ur, meshlon_ul]), dims=['nv4','y','x'])\n",
    "lat_bnds = xr.DataArray(data=np.array([meshlat_ll, meshlat_lr, meshlat_ur, meshlat_ul]), dims=['nv4','y','x'])"
   ]
  },
  {
   "cell_type": "code",
   "execution_count": null,
   "id": "14",
   "metadata": {},
   "outputs": [],
   "source": [
    "lon = xr.DataArray(data=np.array(meshlon), dims=['y','x'])\n",
    "lat = xr.DataArray(data=np.array(meshlat), dims=['y','x'])"
   ]
  },
  {
   "cell_type": "code",
   "execution_count": null,
   "id": "15",
   "metadata": {},
   "outputs": [],
   "source": [
    "nemo_5km_new_grid = xr.merge([lon_bnds.rename('lon_bnds'),lat_bnds.rename('lat_bnds')]).assign_coords({'lon': lon, 'lat': lat, 'y': nemo_5km_grid.y, 'x': nemo_5km_grid.x})"
   ]
  },
  {
   "cell_type": "code",
   "execution_count": null,
   "id": "16",
   "metadata": {},
   "outputs": [],
   "source": [
    "nemo_5km_new_grid['mapping'] = ISMIP_4km_grid['mapping'].copy()"
   ]
  },
  {
   "cell_type": "code",
   "execution_count": null,
   "id": "17",
   "metadata": {},
   "outputs": [],
   "source": [
    "nemo_5km_new_grid.transpose('y','x','nv4').to_netcdf(outputpath + 'nemo_5km_stereo_withbnds.nc')"
   ]
  },
  {
   "cell_type": "code",
   "execution_count": null,
   "id": "18",
   "metadata": {},
   "outputs": [],
   "source": [
    "nemo_5km_new_grid[['lon','lat']].to_netcdf(outputpath + 'nemo_5km_stereo_mapping.nc')"
   ]
  },
  {
   "cell_type": "code",
   "execution_count": null,
   "id": "19",
   "metadata": {},
   "outputs": [],
   "source": [
    "gridinfo = open(outputpath+\"griddes_4000m.txt\", \"r\")"
   ]
  },
  {
   "cell_type": "code",
   "execution_count": null,
   "id": "20",
   "metadata": {},
   "outputs": [],
   "source": [
    "with open(outputpath+'griddes_4000m.txt','r') as file:\n",
    "    line_list = file.readlines()\n",
    "    print(ll)"
   ]
  },
  {
   "cell_type": "code",
   "execution_count": null,
   "id": "21",
   "metadata": {},
   "outputs": [],
   "source": [
    "for ll in range(len(line_list)):\n",
    "    if 'bounds' in line_list[ll][0:10]:\n",
    "        print(line_list[ll])\n",
    "        print(ll)"
   ]
  },
  {
   "cell_type": "code",
   "execution_count": null,
   "id": "22",
   "metadata": {},
   "outputs": [],
   "source": [
    "meshlat_lr[::-1]"
   ]
  },
  {
   "cell_type": "code",
   "execution_count": null,
   "id": "23",
   "metadata": {},
   "outputs": [],
   "source": [
    "for ll in range(289018,289024):\n",
    "    print(line_list[ll])\n",
    "    "
   ]
  },
  {
   "cell_type": "code",
   "execution_count": null,
   "id": "24",
   "metadata": {},
   "outputs": [],
   "source": [
    "nemo_5km_new_grid.transpose('y','x','nv4')"
   ]
  },
  {
   "cell_type": "code",
   "execution_count": null,
   "id": "25",
   "metadata": {},
   "outputs": [],
   "source": [
    "ISMIP_4km_grid"
   ]
  },
  {
   "cell_type": "code",
   "execution_count": null,
   "id": "26",
   "metadata": {},
   "outputs": [],
   "source": [
    "with open(outputpath+\"stereo_grid_curvilinear_definition.txt\", \"w\") as txt_file:\n",
    "\n",
    "    txt_file.write('# \\n')\n",
    "    txt_file.write('# gridID 1 \\n')\n",
    "    txt_file.write('# \\n')\n",
    "    txt_file.write('gridtype  = curvilinear \\n')\n",
    "    txt_file.write('gridsize  = 1779556 \\n')\n",
    "    txt_file.write('datatype  = float \\n')\n",
    "    txt_file.write('xsize     = 1334 \\n')\n",
    "    txt_file.write('ysize     = 1334 \\n')\n",
    "    txt_file.write('xname     = lon \\n')\n",
    "    txt_file.write('xdimname  = x \\n')\n",
    "    txt_file.write('xlongname = \"longitude\" \\n')\n",
    "    txt_file.write('xunits    = \"degrees_east\" \\n')\n",
    "    txt_file.write('yname     = lat \\n')\n",
    "    txt_file.write('ydimname  = y \\n')\n",
    "    txt_file.write('ylongname = \"latitude\" \\n')\n",
    "    txt_file.write('yunits    = \"degrees_north\" \\n')\n",
    "    txt_file.write('vdimname  = nv4 \\n')\n",
    "    txt_file.write('xvals = ')\n",
    "    for vv in tqdm(meshlon.flatten()):\n",
    "        txt_file.write(str(vv) + ' ')\n",
    "    txt_file.write('\\n')\n",
    "    txt_file.write('yvals = ')\n",
    "    for vv in tqdm(meshlat.flatten()):\n",
    "        txt_file.write(str(vv) + ' ')\n",
    "    txt_file.write('\\n')\n",
    "    txt_file.write('xbounds = ')\n",
    "    for vv in tqdm(nemo_5km_new_grid['lon_bnds'].values.flatten()):\n",
    "        txt_file.write(str(vv) + ' ')\n",
    "    txt_file.write('\\n')\n",
    "    txt_file.write('ybounds = ')\n",
    "    for vv in tqdm(nemo_5km_new_grid['lat_bnds'].values.flatten()):\n",
    "        txt_file.write(str(vv) + ' ')\n",
    "    txt_file.write('\\n')\n",
    "    txt_file.write('gridtype = projection \\n')\n",
    "    txt_file.write('gridsize  = 1779556 \\n')\n",
    "    txt_file.write('xsize     = 1334 \\n')\n",
    "    txt_file.write('ysize     = 1334 \\n')\n",
    "    txt_file.write('xname     = x \\n')\n",
    "    txt_file.write('xlongname = \"x-coordinate in Cartesian system\" \\n')\n",
    "    txt_file.write('xunits = \"m\" \\n')\n",
    "    txt_file.write('yname     = y \\n')\n",
    "    txt_file.write('ylongname = \"y-coordinate in Cartesian system\" \\n')\n",
    "    txt_file.write('yunits = \"m\" \\n')\n",
    "    txt_file.write('xfirst = '+str(nemo_5km_new_grid.x.min().values)+' \\n')\n",
    "    txt_file.write('xinc = 5000 \\n')\n",
    "    txt_file.write('yfirst = '+str(nemo_5km_new_grid.y.min().values)+' \\n')\n",
    "    txt_file.write('yinc = 5000 \\n')\n",
    "    txt_file.write('grid_mapping = Projection \\n')\n",
    "    \n",
    "txt_file.close()"
   ]
  },
  {
   "cell_type": "code",
   "execution_count": null,
   "id": "27",
   "metadata": {},
   "outputs": [],
   "source": []
  }
 ],
 "metadata": {
  "kernelspec": {
   "display_name": "py38",
   "language": "python",
   "name": "py38"
  },
  "language_info": {
   "codemirror_mode": {
    "name": "ipython",
    "version": 3
   },
   "file_extension": ".py",
   "mimetype": "text/x-python",
   "name": "python",
   "nbconvert_exporter": "python",
   "pygments_lexer": "ipython3",
   "version": "3.8.12"
  }
 },
 "nbformat": 4,
 "nbformat_minor": 5
}
