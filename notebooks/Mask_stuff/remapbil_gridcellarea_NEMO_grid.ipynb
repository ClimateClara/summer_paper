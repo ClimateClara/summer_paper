{
 "cells": [
  {
   "cell_type": "code",
   "execution_count": null,
   "id": "98f0da3e-0a0b-46c4-b908-51359798ebac",
   "metadata": {},
   "outputs": [],
   "source": [
    "\"\"\"\n",
    "\n",
    "Prepared clean stereographic grid for NEMO runs (5 kms) with bounds and so on\n",
    "\n",
    "\"\"\""
   ]
  },
  {
   "cell_type": "code",
   "execution_count": null,
   "id": "218dd532-91d5-476d-80b7-aa30b1d62b67",
   "metadata": {},
   "outputs": [],
   "source": [
    "import xarray as xr\n",
    "from cdo import Cdo\n",
    "import multimelt.useful_functions as uf\n",
    "from tqdm.notebook import tqdm"
   ]
  },
  {
   "cell_type": "code",
   "execution_count": null,
   "id": "25ea5280-0f83-4d9b-a9f2-f56f41770630",
   "metadata": {},
   "outputs": [],
   "source": [
    "outputpath = '/bettik/burgardc/DATA/SUMMER_PAPER/interim/'"
   ]
  },
  {
   "cell_type": "code",
   "execution_count": null,
   "id": "10e576bb-240c-435e-8772-64f406ad1a74",
   "metadata": {},
   "outputs": [],
   "source": [
    "ISMIP_4km_grid = xr.open_dataset(outputpath + 'ISMIP6_AIS_4000m_grid.nc')"
   ]
  },
  {
   "cell_type": "code",
   "execution_count": null,
   "id": "32465902-005c-4ec6-94e4-3d5b9ec92da9",
   "metadata": {},
   "outputs": [],
   "source": [
    "ISMIP_4km_grid"
   ]
  },
  {
   "cell_type": "code",
   "execution_count": null,
   "id": "1eb638e2-90d9-4110-be9e-2bb85bb928c2",
   "metadata": {},
   "outputs": [],
   "source": [
    "ISMIP_4km_grid['cell_area'].plot()"
   ]
  },
  {
   "cell_type": "code",
   "execution_count": null,
   "id": "f3d8444b-9ba5-4759-bfb6-8c189e63b140",
   "metadata": {},
   "outputs": [],
   "source": [
    "uf.change_coord_stereo_to_latlon(ISMIP_4km_grid.x[100] - 2000.,ISMIP_4km_grid.y[110] + 2000.)"
   ]
  },
  {
   "cell_type": "code",
   "execution_count": null,
   "id": "ec50f0f0-3af8-43de-9c1e-085a72ab1e29",
   "metadata": {},
   "outputs": [],
   "source": [
    "ISMIP_4km_grid['mapping'].load()#['lon_bnds'].isel(x=100,y=110,nv4=3).load()"
   ]
  },
  {
   "cell_type": "code",
   "execution_count": null,
   "id": "3bd1b0aa-a6fb-4a0b-b4e6-18735b730f6b",
   "metadata": {},
   "outputs": [],
   "source": [
    "nemo_5km_grid = xr.open_dataset(outputpath+'NEMO_ctrl94_ANT_STEREO/stereo_grid.nc')"
   ]
  },
  {
   "cell_type": "code",
   "execution_count": null,
   "id": "a8c21a33-27c3-47ac-a34d-5015fbe49ed3",
   "metadata": {},
   "outputs": [],
   "source": [
    "half_res = 2500."
   ]
  },
  {
   "cell_type": "code",
   "execution_count": null,
   "id": "4cce6ad3-33a5-4404-ac2d-c6b77192f2c2",
   "metadata": {},
   "outputs": [],
   "source": [
    "meshx,meshy = np.meshgrid(nemo_5km_grid.x,nemo_5km_grid.y)"
   ]
  },
  {
   "cell_type": "code",
   "execution_count": null,
   "id": "a044dd8d-1df0-4a17-8e26-76e1ee0458ca",
   "metadata": {},
   "outputs": [],
   "source": [
    "meshlon_ll,meshlat_ll = uf.change_coord_stereo_to_latlon(meshx - half_res, meshy - half_res)\n",
    "meshlon_lr,meshlat_lr = uf.change_coord_stereo_to_latlon(meshx + half_res, meshy - half_res)\n",
    "meshlon_ur,meshlat_ur = uf.change_coord_stereo_to_latlon(meshx + half_res, meshy + half_res)\n",
    "meshlon_ul,meshlat_ul = uf.change_coord_stereo_to_latlon(meshx - half_res, meshy + half_res)"
   ]
  },
  {
   "cell_type": "code",
   "execution_count": null,
   "id": "8cfe611e-a058-4e5f-af6e-24ad4c1b4229",
   "metadata": {},
   "outputs": [],
   "source": [
    "meshlon,meshlat = uf.change_coord_stereo_to_latlon(meshx, meshy)"
   ]
  },
  {
   "cell_type": "code",
   "execution_count": null,
   "id": "29a24109-cf5c-4c72-af57-c5a3d9263f42",
   "metadata": {},
   "outputs": [],
   "source": [
    "lon_bnds = xr.DataArray(data=np.array([meshlon_ll, meshlon_lr, meshlon_ur, meshlon_ul]), dims=['nv4','y','x'])\n",
    "lat_bnds = xr.DataArray(data=np.array([meshlat_ll, meshlat_lr, meshlat_ur, meshlat_ul]), dims=['nv4','y','x'])"
   ]
  },
  {
   "cell_type": "code",
   "execution_count": null,
   "id": "6c8513bc-fd77-4c4d-aaf5-a7921a3c76b4",
   "metadata": {},
   "outputs": [],
   "source": [
    "lon = xr.DataArray(data=np.array(meshlon), dims=['y','x'])\n",
    "lat = xr.DataArray(data=np.array(meshlat), dims=['y','x'])"
   ]
  },
  {
   "cell_type": "code",
   "execution_count": null,
   "id": "d4c7e342-e90b-4fd9-a6ea-df352a5b68cb",
   "metadata": {},
   "outputs": [],
   "source": [
    "nemo_5km_new_grid = xr.merge([lon_bnds.rename('lon_bnds'),lat_bnds.rename('lat_bnds')]).assign_coords({'lon': lon, 'lat': lat, 'y': nemo_5km_grid.y, 'x': nemo_5km_grid.x})"
   ]
  },
  {
   "cell_type": "code",
   "execution_count": null,
   "id": "3b558a0a-ab71-4777-9143-963565306061",
   "metadata": {},
   "outputs": [],
   "source": [
    "nemo_5km_new_grid['mapping'] = ISMIP_4km_grid['mapping'].copy()"
   ]
  },
  {
   "cell_type": "code",
   "execution_count": null,
   "id": "190e9478-508c-41d5-8a14-ad4c2af1adc7",
   "metadata": {},
   "outputs": [],
   "source": [
    "nemo_5km_new_grid.transpose('y','x','nv4').to_netcdf(outputpath + 'nemo_5km_stereo_withbnds.nc')"
   ]
  },
  {
   "cell_type": "code",
   "execution_count": null,
   "id": "72162268-6b09-47f1-a066-20e815f73fb7",
   "metadata": {},
   "outputs": [],
   "source": [
    "nemo_5km_new_grid[['lon','lat']].to_netcdf(outputpath + 'nemo_5km_stereo_mapping.nc')"
   ]
  },
  {
   "cell_type": "code",
   "execution_count": null,
   "id": "6d3ab91d-2736-4cf2-9dd0-4f91b74dcd3e",
   "metadata": {},
   "outputs": [],
   "source": [
    "gridinfo = open(outputpath+\"griddes_4000m.txt\", \"r\")"
   ]
  },
  {
   "cell_type": "code",
   "execution_count": null,
   "id": "3a5cb9e3-b89d-449b-90a0-73417e553e4e",
   "metadata": {},
   "outputs": [],
   "source": [
    "with open(outputpath+'griddes_4000m.txt','r') as file:\n",
    "    line_list = file.readlines()\n",
    "    print(ll)"
   ]
  },
  {
   "cell_type": "code",
   "execution_count": null,
   "id": "6f751d33-a3d8-44f4-a06f-02bc17970913",
   "metadata": {},
   "outputs": [],
   "source": [
    "for ll in range(len(line_list)):\n",
    "    if 'bounds' in line_list[ll][0:10]:\n",
    "        print(line_list[ll])\n",
    "        print(ll)"
   ]
  },
  {
   "cell_type": "code",
   "execution_count": null,
   "id": "c192a3ac-c1fb-4408-be1a-45cf6db1a0af",
   "metadata": {},
   "outputs": [],
   "source": [
    "meshlat_lr[::-1]"
   ]
  },
  {
   "cell_type": "code",
   "execution_count": null,
   "id": "48a97f10-3165-471f-87ea-8777809c666b",
   "metadata": {},
   "outputs": [],
   "source": [
    "for ll in range(289018,289024):\n",
    "    print(line_list[ll])\n",
    "    "
   ]
  },
  {
   "cell_type": "code",
   "execution_count": null,
   "id": "6a99e8a3-d735-4747-a24a-90f034248377",
   "metadata": {},
   "outputs": [],
   "source": [
    "nemo_5km_new_grid.transpose('y','x','nv4')"
   ]
  },
  {
   "cell_type": "code",
   "execution_count": null,
   "id": "9441ebcf-20e2-4532-a0bf-b04840052c24",
   "metadata": {},
   "outputs": [],
   "source": [
    "ISMIP_4km_grid"
   ]
  },
  {
   "cell_type": "code",
   "execution_count": null,
   "id": "3a916a7c-cc1d-46ba-b509-0e524ab10e7c",
   "metadata": {},
   "outputs": [],
   "source": [
    "with open(outputpath+\"stereo_grid_curvilinear_definition.txt\", \"w\") as txt_file:\n",
    "\n",
    "    txt_file.write('# \\n')\n",
    "    txt_file.write('# gridID 1 \\n')\n",
    "    txt_file.write('# \\n')\n",
    "    txt_file.write('gridtype  = curvilinear \\n')\n",
    "    txt_file.write('gridsize  = 1779556 \\n')\n",
    "    txt_file.write('datatype  = float \\n')\n",
    "    txt_file.write('xsize     = 1334 \\n')\n",
    "    txt_file.write('ysize     = 1334 \\n')\n",
    "    txt_file.write('xname     = lon \\n')\n",
    "    txt_file.write('xdimname  = x \\n')\n",
    "    txt_file.write('xlongname = \"longitude\" \\n')\n",
    "    txt_file.write('xunits    = \"degrees_east\" \\n')\n",
    "    txt_file.write('yname     = lat \\n')\n",
    "    txt_file.write('ydimname  = y \\n')\n",
    "    txt_file.write('ylongname = \"latitude\" \\n')\n",
    "    txt_file.write('yunits    = \"degrees_north\" \\n')\n",
    "    txt_file.write('vdimname  = nv4 \\n')\n",
    "    txt_file.write('xvals = ')\n",
    "    for vv in tqdm(meshlon.flatten()):\n",
    "        txt_file.write(str(vv) + ' ')\n",
    "    txt_file.write('\\n')\n",
    "    txt_file.write('yvals = ')\n",
    "    for vv in tqdm(meshlat.flatten()):\n",
    "        txt_file.write(str(vv) + ' ')\n",
    "    txt_file.write('\\n')\n",
    "    txt_file.write('xbounds = ')\n",
    "    for vv in tqdm(nemo_5km_new_grid['lon_bnds'].values.flatten()):\n",
    "        txt_file.write(str(vv) + ' ')\n",
    "    txt_file.write('\\n')\n",
    "    txt_file.write('ybounds = ')\n",
    "    for vv in tqdm(nemo_5km_new_grid['lat_bnds'].values.flatten()):\n",
    "        txt_file.write(str(vv) + ' ')\n",
    "    txt_file.write('\\n')\n",
    "    txt_file.write('gridtype = projection \\n')\n",
    "    txt_file.write('gridsize  = 1779556 \\n')\n",
    "    txt_file.write('xsize     = 1334 \\n')\n",
    "    txt_file.write('ysize     = 1334 \\n')\n",
    "    txt_file.write('xname     = x \\n')\n",
    "    txt_file.write('xlongname = \"x-coordinate in Cartesian system\" \\n')\n",
    "    txt_file.write('xunits = \"m\" \\n')\n",
    "    txt_file.write('yname     = y \\n')\n",
    "    txt_file.write('ylongname = \"y-coordinate in Cartesian system\" \\n')\n",
    "    txt_file.write('yunits = \"m\" \\n')\n",
    "    txt_file.write('xfirst = '+str(nemo_5km_new_grid.x.min().values)+' \\n')\n",
    "    txt_file.write('xinc = 5000 \\n')\n",
    "    txt_file.write('yfirst = '+str(nemo_5km_new_grid.y.min().values)+' \\n')\n",
    "    txt_file.write('yinc = 5000 \\n')\n",
    "    txt_file.write('grid_mapping = Projection \\n')\n",
    "    \n",
    "txt_file.close()"
   ]
  },
  {
   "cell_type": "code",
   "execution_count": null,
   "id": "2c279b30-0d42-4ef6-9dd7-22a79569b751",
   "metadata": {},
   "outputs": [],
   "source": []
  }
 ],
 "metadata": {
  "kernelspec": {
   "display_name": "py38",
   "language": "python",
   "name": "py38"
  },
  "language_info": {
   "codemirror_mode": {
    "name": "ipython",
    "version": 3
   },
   "file_extension": ".py",
   "mimetype": "text/x-python",
   "name": "python",
   "nbconvert_exporter": "python",
   "pygments_lexer": "ipython3",
   "version": "3.8.12"
  }
 },
 "nbformat": 4,
 "nbformat_minor": 5
}
