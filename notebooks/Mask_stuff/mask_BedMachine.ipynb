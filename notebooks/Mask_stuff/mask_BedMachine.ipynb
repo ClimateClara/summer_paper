{
 "cells": [
  {
   "cell_type": "code",
   "execution_count": null,
   "id": "0",
   "metadata": {},
   "outputs": [],
   "source": [
    "\"\"\"\n",
    "Created on Mon Jul 10 18:47 2023\n",
    "\n",
    "Use cdo to regrid the BedMachine to a lower resolution\n",
    "\n",
    "@author: Clara Burgard\n",
    "\"\"\""
   ]
  },
  {
   "cell_type": "code",
   "execution_count": null,
   "id": "1",
   "metadata": {},
   "outputs": [],
   "source": [
    "import xarray as xr\n",
    "import numpy as np\n",
    "import matplotlib.pyplot as plt\n",
    "from pyproj import Transformer\n",
    "import pandas as pd\n",
    "import sys,os\n",
    "import time\n",
    "from tqdm.notebook import tqdm\n",
    "from cdo import Cdo\n",
    "import basal_melt_param.plume_functions as pf\n",
    "import cc3d"
   ]
  },
  {
   "cell_type": "code",
   "execution_count": null,
   "id": "2",
   "metadata": {},
   "outputs": [],
   "source": [
    "%matplotlib qt5"
   ]
  },
  {
   "cell_type": "code",
   "execution_count": null,
   "id": "3",
   "metadata": {},
   "outputs": [],
   "source": [
    "inputpath_BedMachine='/bettik/burgardc/DATA/SUMMER_PAPER/interim/'\n",
    "#inputpath_BedMachine_orig='/bettik/burgardc/DATA/ERWIN_PAPER/'\n",
    "inputpath_BedMachine_orig='/bettik/burgardc/DATA/SUMMER_PAPER/raw/'"
   ]
  },
  {
   "cell_type": "markdown",
   "id": "4",
   "metadata": {},
   "source": [
    "SET ALL LAND TO LAND"
   ]
  },
  {
   "cell_type": "code",
   "execution_count": null,
   "id": "5",
   "metadata": {},
   "outputs": [],
   "source": [
    "BedMachine_orig = xr.open_dataset(inputpath_BedMachine_orig+'BedMachineAntarctica_2020-07-15_v02.nc')\n"
   ]
  },
  {
   "cell_type": "code",
   "execution_count": null,
   "id": "6",
   "metadata": {},
   "outputs": [],
   "source": [
    "mask_0_2_3 = BedMachine_orig['mask'].where(BedMachine_orig['mask'] != 4, 2).where(BedMachine_orig['mask'] != 1, 2)\n",
    "mask_0_1_2 = mask_0_2_3.where(mask_0_2_3 != 3, 1).astype(float)\n",
    "mask_0_1_2.attrs['flag_meanings'] = 'ocean floating_ice ice_free_land_and_grounded_ice'\n",
    "mask_0_1_2.attrs['flag_values'] = '[0 1 2]'\n",
    "mask_0_1_2.attrs['valid_range'] = '[0 2]'\n",
    "mask_0_1_2.to_dataset(name='mask_0_1_2').to_netcdf(inputpath_BedMachine_orig + 'BedMachine_v2_mask_012.nc')"
   ]
  },
  {
   "cell_type": "markdown",
   "id": "7",
   "metadata": {},
   "source": [
    "SET LAND VOSTOK TO GROUNDED ICE"
   ]
  },
  {
   "cell_type": "code",
   "execution_count": null,
   "id": "8",
   "metadata": {},
   "outputs": [],
   "source": [
    "mask_0_1_2_3 = BedMachine_orig['mask'].where(BedMachine_orig['mask'] != 4, 2).astype(float)\n",
    "mask_0_1_2_3.attrs['flag_meanings'] = 'ocean ice_free_land grounded_ice floating_ice'\n",
    "mask_0_1_2_3.attrs['flag_values'] = '[0 1 2 3]'\n",
    "mask_0_1_2_3.attrs['valid_range'] = '[0 3]'\n",
    "mask_0_1_2_3.to_dataset(name='mask_0_1_2_3').to_netcdf(inputpath_BedMachine_orig + 'BedMachine_v2_mask_0123.nc')"
   ]
  },
  {
   "cell_type": "markdown",
   "id": "9",
   "metadata": {},
   "source": [
    "DOWNSCALE TO 4 KM"
   ]
  },
  {
   "cell_type": "code",
   "execution_count": null,
   "id": "10",
   "metadata": {},
   "outputs": [],
   "source": [
    "weights_filter = np.zeros((9,9)) + 1\n",
    "weights_filter[0,:] = 0.5\n",
    "weights_filter[:,0] = 0.5\n",
    "weights_filter[8,:] = 0.5\n",
    "weights_filter[:,8] = 0.5\n",
    "weights_filter[0,8] = 0.25\n",
    "weights_filter[8,0] = 0.25\n",
    "weights_filter[8,8] = 0.25\n",
    "weights_filter[0,0] = 0.25\n",
    "\n",
    "weights_da = xr.DataArray(data=weights_filter,dims=['y0','x0'])"
   ]
  },
  {
   "cell_type": "code",
   "execution_count": null,
   "id": "11",
   "metadata": {},
   "outputs": [],
   "source": [
    "mask_0_1_2_3 = xr.open_dataset(inputpath_BedMachine_orig + 'BedMachine_v2_mask_0123.nc')['mask_0_1_2_3']\n",
    "ISMIP_grid_4km = xr.open_dataset(inputpath_BedMachine+'ISMIP6_AIS_4000m_grid.nc')"
   ]
  },
  {
   "cell_type": "code",
   "execution_count": null,
   "id": "12",
   "metadata": {},
   "outputs": [],
   "source": [
    "mask_0_1_2_3"
   ]
  },
  {
   "cell_type": "code",
   "execution_count": null,
   "id": "13",
   "metadata": {},
   "outputs": [],
   "source": [
    "mask_ocean = (mask_0_1_2_3 == 0).astype(float)\n",
    "mask_rock = (mask_0_1_2_3 == 1).astype(float)\n",
    "mask_ground = (mask_0_1_2_3 == 2).astype(float)\n",
    "mask_isf = (mask_0_1_2_3 == 3).astype(float)"
   ]
  },
  {
   "cell_type": "code",
   "execution_count": null,
   "id": "14",
   "metadata": {},
   "outputs": [],
   "source": [
    "corr_ocean = pf.xr_nd_corr_v2(mask_ocean, weights_filter).sel(x=ISMIP_grid_4km.x,y=ISMIP_grid_4km.y)\n",
    "corr_rock = pf.xr_nd_corr_v2(mask_rock, weights_filter).sel(x=ISMIP_grid_4km.x,y=ISMIP_grid_4km.y)\n",
    "corr_ground = pf.xr_nd_corr_v2(mask_ground, weights_filter).sel(x=ISMIP_grid_4km.x,y=ISMIP_grid_4km.y)\n",
    "corr_isf = pf.xr_nd_corr_v2(mask_isf, weights_filter).sel(x=ISMIP_grid_4km.x,y=ISMIP_grid_4km.y)"
   ]
  },
  {
   "cell_type": "markdown",
   "id": "15",
   "metadata": {},
   "source": [
    "compute concentrations"
   ]
  },
  {
   "cell_type": "code",
   "execution_count": null,
   "id": "16",
   "metadata": {},
   "outputs": [],
   "source": [
    "corr_ocean_norm = corr_ocean/64\n",
    "corr_rock_norm = corr_rock/64\n",
    "corr_ground_norm = corr_ground/64\n",
    "corr_isf_norm = corr_isf/64"
   ]
  },
  {
   "cell_type": "markdown",
   "id": "17",
   "metadata": {},
   "source": [
    "set everything where there is a bit of ice shelf to 1"
   ]
  },
  {
   "cell_type": "code",
   "execution_count": null,
   "id": "18",
   "metadata": {},
   "outputs": [],
   "source": [
    "ls_mask_01 = ((corr_ground_norm > 0) | (corr_rock_norm > 0)).astype(int)\n",
    "ls_mask_02 = ls_mask_01.where(ls_mask_01 == 0, 2)\n",
    "ls_mask_012 = ls_mask_02.where(corr_isf == 0, 1)"
   ]
  },
  {
   "cell_type": "markdown",
   "id": "19",
   "metadata": {},
   "source": [
    "correct ice shelf points that are within grounded ice"
   ]
  },
  {
   "cell_type": "code",
   "execution_count": null,
   "id": "20",
   "metadata": {},
   "outputs": [],
   "source": [
    "dx = abs(ls_mask_012.x[1] - ls_mask_012.x[0]).values.astype(int)\n",
    "dy = abs(ls_mask_012.y[1] - ls_mask_012.y[0]).values.astype(int)"
   ]
  },
  {
   "cell_type": "code",
   "execution_count": null,
   "id": "21",
   "metadata": {},
   "outputs": [],
   "source": [
    "isf_only_mask = ls_mask_012 == 1\n",
    "\n",
    "connectivity = 4\n",
    "threshold = 1\n",
    "\n",
    "dusted = cc3d.dust(isf_only_mask.values.astype(np.int64), \n",
    "           threshold = threshold, \n",
    "           connectivity = connectivity, \n",
    "           in_place = False)\n",
    "\n",
    "labels_out = cc3d.connected_components(dusted, \n",
    "                               connectivity = connectivity)\n",
    "\n",
    "labelled = xr.DataArray(labels_out, \n",
    "                coords = {\"y\": ls_mask_012.y, \"x\": ls_mask_012.x}, \n",
    "                dims = [\"y\", \"x\"],\n",
    "                name = \"labels\")\n",
    "\n",
    "# filter that checks the point around\n",
    "weights_filter = np.zeros((3,3))\n",
    "weights_filter[0,1] = 1\n",
    "weights_filter[1,0] = 1\n",
    "weights_filter[1,2] = 1\n",
    "weights_filter[2,1] = 1\n",
    "\n",
    "weights_da = xr.DataArray(data=weights_filter,dims=['y0','x0'])\n",
    "\n",
    "new_mask = ls_mask_012.copy()\n",
    "new_corr_ground_norm = corr_ground_norm.copy()\n",
    "new_corr_isf_norm = corr_isf_norm.copy()\n",
    "\n",
    "for conn_label in tqdm(range(1,labels_out.max()+1)):\n",
    "    dom_region = isf_only_mask.where(labelled == conn_label, drop=True)\n",
    "    dom_bounds_plus1 = np.array([dom_region.x.min().values - dx,dom_region.x.max().values + dx,dom_region.y.min().values - dy,dom_region.y.max().values + dy]).astype(int)\n",
    "    dom_plus1_mask = isf_only_mask.sel(x=range(dom_bounds_plus1[0],dom_bounds_plus1[1]+1,dx), y=range(dom_bounds_plus1[2],dom_bounds_plus1[3]+1,dy))\n",
    "    corr = pf.xr_nd_corr_v2(dom_plus1_mask, weights_filter)\n",
    "    only_contour = (corr ^ dom_plus1_mask)\n",
    "    neighboring_pixels = ls_mask_012.where(only_contour).where(labelled != conn_label)\n",
    "    if neighboring_pixels.min() > 0:\n",
    "        print('There is no ocean, this cannot be an ice shelf! I am putting it to grounded ice!')\n",
    "        new_mask = new_mask.where(labelled != conn_label, 2)\n",
    "        new_corr_ground_norm = new_corr_ground_norm.where(labelled != conn_label, corr_isf_norm + corr_ground_norm)\n",
    "        new_corr_isf_norm = new_corr_isf_norm.where(labelled != conn_label, 0)"
   ]
  },
  {
   "cell_type": "markdown",
   "id": "22",
   "metadata": {},
   "source": [
    "correct ocean points that are within ice"
   ]
  },
  {
   "cell_type": "code",
   "execution_count": null,
   "id": "23",
   "metadata": {},
   "outputs": [],
   "source": [
    "ocean_only_mask = ls_mask_012 == 0\n",
    "\n",
    "connectivity = 4\n",
    "threshold = 1\n",
    "\n",
    "dusted = cc3d.dust(ocean_only_mask.values.astype(np.int64), \n",
    "           threshold = threshold, \n",
    "           connectivity = connectivity, \n",
    "           in_place = False)\n",
    "\n",
    "labels_out = cc3d.connected_components(dusted, \n",
    "                               connectivity = connectivity)\n",
    "\n",
    "labelled = xr.DataArray(labels_out, \n",
    "                coords = {\"y\": ls_mask_012.y, \"x\": ls_mask_012.x}, \n",
    "                dims = [\"y\", \"x\"],\n",
    "                name = \"labels\")\n",
    "\n",
    "# filter that checks the point around\n",
    "weights_filter = np.zeros((3,3))\n",
    "weights_filter[0,1] = 1\n",
    "weights_filter[1,0] = 1\n",
    "weights_filter[1,2] = 1\n",
    "weights_filter[2,1] = 1\n",
    "\n",
    "weights_da = xr.DataArray(data=weights_filter,dims=['y0','x0'])\n",
    "\n",
    "new_corr_ocean_norm = corr_ocean_norm.copy()\n",
    "\n",
    "for conn_label in tqdm(range(2,labels_out.max()+1)):\n",
    "    dom_region = ocean_only_mask.where(labelled == conn_label, drop=True)\n",
    "    dom_bounds_plus1 = np.array([dom_region.x.min().values - dx,dom_region.x.max().values + dx,dom_region.y.min().values - dy,dom_region.y.max().values + dy]).astype(int)\n",
    "    dom_plus1_mask = ocean_only_mask.sel(x=range(dom_bounds_plus1[0],dom_bounds_plus1[1]+1,dx), y=range(dom_bounds_plus1[2],dom_bounds_plus1[3]+1,dy))\n",
    "    corr = pf.xr_nd_corr_v2(dom_plus1_mask, weights_filter)\n",
    "    only_contour = (corr ^ dom_plus1_mask)\n",
    "    neighboring_pixels = ls_mask_012.where(only_contour).where(labelled != conn_label)\n",
    "    if neighboring_pixels.min() > 0:\n",
    "        print('There is no ocean around it, this cannot be an ocean point')\n",
    "        #print(neighboring_pixels.min().values)\n",
    "        new_mask = new_mask.where(labelled != conn_label, neighboring_pixels.min().values)\n",
    "        if neighboring_pixels.min().values == 1:\n",
    "            new_corr_isf_norm = new_corr_isf_norm.where(labelled != conn_label, corr_ocean_norm + corr_isf_norm)\n",
    "        elif neighboring_pixels.min().values == 2:\n",
    "            new_corr_ground_norm = new_corr_ground_norm.where(labelled != conn_label, corr_ocean_norm + corr_ground_norm)\n",
    "        new_corr_ocean_norm = new_corr_ocean_norm.where(labelled != conn_label, 0)"
   ]
  },
  {
   "cell_type": "markdown",
   "id": "24",
   "metadata": {},
   "source": [
    "Checking the sums"
   ]
  },
  {
   "cell_type": "code",
   "execution_count": null,
   "id": "25",
   "metadata": {},
   "outputs": [],
   "source": [
    "sum_norms = new_corr_ocean_norm + new_corr_isf_norm + new_corr_ground_norm + corr_rock_norm"
   ]
  },
  {
   "cell_type": "code",
   "execution_count": null,
   "id": "26",
   "metadata": {},
   "outputs": [],
   "source": [
    "sum_norms.min()"
   ]
  },
  {
   "cell_type": "markdown",
   "id": "27",
   "metadata": {},
   "source": [
    "Writing to netcdf"
   ]
  },
  {
   "cell_type": "code",
   "execution_count": null,
   "id": "28",
   "metadata": {},
   "outputs": [],
   "source": [
    "new_corr_ocean_norm.plot()"
   ]
  },
  {
   "cell_type": "code",
   "execution_count": null,
   "id": "29",
   "metadata": {},
   "outputs": [],
   "source": [
    "all_masks = new_mask.to_dataset(name='mask_0_1_2')\n",
    "all_masks['mask_0_1_2'].attrs['flag_meanings'] = 'only_ocean contains_floating_ice only_ice_free_land_and_grounded_ice'\n",
    "all_masks['mask_0_1_2'].attrs['flag_values'] = '[0 1 2]'\n",
    "#all_masks['mask_0_1_2'].attrs['valid_range'] = '[0 2]'\n",
    "\n",
    "all_masks['ocean_conc'] = new_corr_ocean_norm\n",
    "all_masks['ocean_conc'].attrs['long_name'] = 'Ocean concentration between 0 and 1'\n",
    "all_masks['ocean_conc'].attrs['valid_range'] = '[0 1]'\n",
    "\n",
    "all_masks['ground_conc'] = new_corr_ground_norm\n",
    "all_masks['ground_conc'].attrs['long_name'] = 'Grounded ice concentration between 0 and 1'\n",
    "#all_masks['ground_conc'].attrs['valid_range'] = '[0 1]'\n",
    "\n",
    "all_masks['isf_conc'] = new_corr_isf_norm\n",
    "all_masks['isf_conc'].attrs['long_name'] = 'Floating ice concentration between 0 and 1'\n",
    "#all_masks['isf_conc'].attrs['valid_range'] = '[0 1]'\n",
    "\n",
    "all_masks['icefree_conc'] = corr_rock_norm\n",
    "all_masks['icefree_conc'].attrs['long_name'] = 'Ice-free ground concentration between 0 and 1'\n",
    "#all_masks['icefree_conc'].attrs['valid_range'] = '[0 1]'\n",
    "\n",
    "all_masks.to_netcdf(inputpath_BedMachine + 'BedMachine_v2_aggregated4km_masks_only.nc')"
   ]
  },
  {
   "cell_type": "markdown",
   "id": "30",
   "metadata": {},
   "source": [
    "OTHER VARIABLES"
   ]
  },
  {
   "cell_type": "code",
   "execution_count": null,
   "id": "31",
   "metadata": {},
   "outputs": [],
   "source": [
    "all_masks = xr.open_dataset(inputpath_BedMachine + 'BedMachine_v2_aggregated4km_masks_only.nc')"
   ]
  },
  {
   "cell_type": "code",
   "execution_count": null,
   "id": "32",
   "metadata": {},
   "outputs": [],
   "source": [
    "weights_filter = np.zeros((9,9)) + 1\n",
    "weights_filter[0,:] = 0.5\n",
    "weights_filter[:,0] = 0.5\n",
    "weights_filter[8,:] = 0.5\n",
    "weights_filter[:,8] = 0.5\n",
    "weights_filter[0,8] = 0.25\n",
    "weights_filter[8,0] = 0.25\n",
    "weights_filter[8,8] = 0.25\n",
    "weights_filter[0,0] = 0.25\n",
    "\n",
    "weights_da = xr.DataArray(data=weights_filter,dims=['y0','x0'])"
   ]
  },
  {
   "cell_type": "code",
   "execution_count": null,
   "id": "33",
   "metadata": {},
   "outputs": [],
   "source": [
    "for vvar in ['firn','surface','thickness','bed','errbed','geoid']:\n",
    "    print(vvar)\n",
    "    var_field = BedMachine_orig[vvar].astype(float)\n",
    "    var_4km = pf.xr_nd_corr_v2(var_field, weights_filter).sel(x=ISMIP_grid_4km.x,y=ISMIP_grid_4km.y)\n",
    "    all_masks[vvar] = var_4km/64\n",
    "    all_masks[vvar].attrs = BedMachine_orig[vvar].attrs\n",
    "    "
   ]
  },
  {
   "cell_type": "code",
   "execution_count": null,
   "id": "34",
   "metadata": {},
   "outputs": [],
   "source": [
    "all_masks.to_netcdf(inputpath_BedMachine + 'BedMachine_v2_aggregated4km_allvars.nc')"
   ]
  },
  {
   "cell_type": "code",
   "execution_count": null,
   "id": "35",
   "metadata": {},
   "outputs": [],
   "source": [
    "all_masks['surface'].plot()"
   ]
  },
  {
   "cell_type": "code",
   "execution_count": null,
   "id": "36",
   "metadata": {},
   "outputs": [],
   "source": [
    "all_masks['bed'].plot()"
   ]
  },
  {
   "cell_type": "code",
   "execution_count": null,
   "id": "37",
   "metadata": {},
   "outputs": [],
   "source": [
    "BedMachine_orig['surface'].plot()"
   ]
  },
  {
   "cell_type": "code",
   "execution_count": null,
   "id": "38",
   "metadata": {},
   "outputs": [],
   "source": []
  }
 ],
 "metadata": {
  "kernelspec": {
   "display_name": "py38",
   "language": "python",
   "name": "py38"
  },
  "language_info": {
   "codemirror_mode": {
    "name": "ipython",
    "version": 3
   },
   "file_extension": ".py",
   "mimetype": "text/x-python",
   "name": "python",
   "nbconvert_exporter": "python",
   "pygments_lexer": "ipython3",
   "version": "3.8.20"
  }
 },
 "nbformat": 4,
 "nbformat_minor": 5
}
