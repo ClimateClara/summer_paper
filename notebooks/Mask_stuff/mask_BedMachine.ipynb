{
 "cells": [
  {
   "cell_type": "code",
   "execution_count": null,
   "id": "7ef714be-f379-41cb-87f4-cbe2efcb8796",
   "metadata": {},
   "outputs": [],
   "source": [
    "\"\"\"\n",
    "Created on Mon Jul 10 18:47 2023\n",
    "\n",
    "Use cdo to regrid the BedMachine to a lower resolution\n",
    "\n",
    "@author: Clara Burgard\n",
    "\"\"\""
   ]
  },
  {
   "cell_type": "code",
   "execution_count": null,
   "id": "fc1a90af-c19b-46af-9163-0bec38533e80",
   "metadata": {},
   "outputs": [],
   "source": [
    "import xarray as xr\n",
    "import numpy as np\n",
    "import matplotlib.pyplot as plt\n",
    "from pyproj import Transformer\n",
    "import pandas as pd\n",
    "import sys,os\n",
    "import time\n",
    "from tqdm.notebook import tqdm\n",
    "from cdo import Cdo\n",
    "import basal_melt_param.plume_functions as pf\n",
    "import cc3d"
   ]
  },
  {
   "cell_type": "code",
   "execution_count": null,
   "id": "7ec4c4c7-2845-4e17-9f37-bfcf01370a30",
   "metadata": {},
   "outputs": [],
   "source": [
    "%matplotlib qt5"
   ]
  },
  {
   "cell_type": "code",
   "execution_count": null,
   "id": "1c7c610f-f095-4b1b-acdc-9d04a584014f",
   "metadata": {},
   "outputs": [],
   "source": [
    "inputpath_BedMachine='/bettik/burgardc/DATA/SUMMER_PAPER/interim/'\n",
    "#inputpath_BedMachine_orig='/bettik/burgardc/DATA/ERWIN_PAPER/'\n",
    "inputpath_BedMachine_orig='/bettik/burgardc/DATA/SUMMER_PAPER/raw/'"
   ]
  },
  {
   "cell_type": "markdown",
   "id": "ac889d87-0469-44f7-8eaa-1ddd1d436f6f",
   "metadata": {},
   "source": [
    "SET ALL LAND TO LAND"
   ]
  },
  {
   "cell_type": "code",
   "execution_count": null,
   "id": "eb03b80e-2873-4be6-bb0f-922434fa2c4b",
   "metadata": {},
   "outputs": [],
   "source": [
    "BedMachine_orig = xr.open_dataset(inputpath_BedMachine_orig+'BedMachineAntarctica_2020-07-15_v02.nc')\n"
   ]
  },
  {
   "cell_type": "code",
   "execution_count": null,
   "id": "31070c93-2cc5-4319-a440-a18caf89a138",
   "metadata": {},
   "outputs": [],
   "source": [
    "mask_0_2_3 = BedMachine_orig['mask'].where(BedMachine_orig['mask'] != 4, 2).where(BedMachine_orig['mask'] != 1, 2)\n",
    "mask_0_1_2 = mask_0_2_3.where(mask_0_2_3 != 3, 1).astype(float)\n",
    "mask_0_1_2.attrs['flag_meanings'] = 'ocean floating_ice ice_free_land_and_grounded_ice'\n",
    "mask_0_1_2.attrs['flag_values'] = '[0 1 2]'\n",
    "mask_0_1_2.attrs['valid_range'] = '[0 2]'\n",
    "mask_0_1_2.to_dataset(name='mask_0_1_2').to_netcdf(inputpath_BedMachine_orig + 'BedMachine_v2_mask_012.nc')"
   ]
  },
  {
   "cell_type": "markdown",
   "id": "76440173-e89b-4668-9cb1-8e0a2d972472",
   "metadata": {},
   "source": [
    "SET LAND VOSTOK TO GROUNDED ICE"
   ]
  },
  {
   "cell_type": "code",
   "execution_count": null,
   "id": "106854e2-c886-484c-858a-f282b5044843",
   "metadata": {},
   "outputs": [],
   "source": [
    "mask_0_1_2_3 = BedMachine_orig['mask'].where(BedMachine_orig['mask'] != 4, 2).astype(float)\n",
    "mask_0_1_2_3.attrs['flag_meanings'] = 'ocean ice_free_land grounded_ice floating_ice'\n",
    "mask_0_1_2_3.attrs['flag_values'] = '[0 1 2 3]'\n",
    "mask_0_1_2_3.attrs['valid_range'] = '[0 3]'\n",
    "mask_0_1_2_3.to_dataset(name='mask_0_1_2_3').to_netcdf(inputpath_BedMachine_orig + 'BedMachine_v2_mask_0123.nc')"
   ]
  },
  {
   "cell_type": "markdown",
   "id": "24fe7801-b0fd-4a6f-93d6-6767cabcbe80",
   "metadata": {},
   "source": [
    "DOWNSCALE TO 4 KM"
   ]
  },
  {
   "cell_type": "code",
   "execution_count": null,
   "id": "4e338736-178a-4d5d-88c0-78ba833ce441",
   "metadata": {},
   "outputs": [],
   "source": [
    "weights_filter = np.zeros((9,9)) + 1\n",
    "weights_filter[0,:] = 0.5\n",
    "weights_filter[:,0] = 0.5\n",
    "weights_filter[8,:] = 0.5\n",
    "weights_filter[:,8] = 0.5\n",
    "weights_filter[0,8] = 0.25\n",
    "weights_filter[8,0] = 0.25\n",
    "weights_filter[8,8] = 0.25\n",
    "weights_filter[0,0] = 0.25\n",
    "\n",
    "weights_da = xr.DataArray(data=weights_filter,dims=['y0','x0'])"
   ]
  },
  {
   "cell_type": "code",
   "execution_count": null,
   "id": "4889a348-20e6-416b-a2ea-c024b97550c3",
   "metadata": {},
   "outputs": [],
   "source": [
    "mask_0_1_2_3 = xr.open_dataset(inputpath_BedMachine_orig + 'BedMachine_v2_mask_0123.nc')['mask_0_1_2_3']\n",
    "ISMIP_grid_4km = xr.open_dataset(inputpath_BedMachine+'ISMIP6_AIS_4000m_grid.nc')"
   ]
  },
  {
   "cell_type": "code",
   "execution_count": null,
   "id": "15941c5f-f326-4e76-88ae-d74568a4b502",
   "metadata": {},
   "outputs": [],
   "source": [
    "mask_0_1_2_3"
   ]
  },
  {
   "cell_type": "code",
   "execution_count": null,
   "id": "9a3017c0-7cc7-4c71-81a6-0629caa7d08c",
   "metadata": {},
   "outputs": [],
   "source": [
    "mask_ocean = (mask_0_1_2_3 == 0).astype(float)\n",
    "mask_rock = (mask_0_1_2_3 == 1).astype(float)\n",
    "mask_ground = (mask_0_1_2_3 == 2).astype(float)\n",
    "mask_isf = (mask_0_1_2_3 == 3).astype(float)"
   ]
  },
  {
   "cell_type": "code",
   "execution_count": null,
   "id": "0e6b21c2-3aa1-4a08-a12e-5668b99b668d",
   "metadata": {},
   "outputs": [],
   "source": [
    "corr_ocean = pf.xr_nd_corr_v2(mask_ocean, weights_filter).sel(x=ISMIP_grid_4km.x,y=ISMIP_grid_4km.y)\n",
    "corr_rock = pf.xr_nd_corr_v2(mask_rock, weights_filter).sel(x=ISMIP_grid_4km.x,y=ISMIP_grid_4km.y)\n",
    "corr_ground = pf.xr_nd_corr_v2(mask_ground, weights_filter).sel(x=ISMIP_grid_4km.x,y=ISMIP_grid_4km.y)\n",
    "corr_isf = pf.xr_nd_corr_v2(mask_isf, weights_filter).sel(x=ISMIP_grid_4km.x,y=ISMIP_grid_4km.y)"
   ]
  },
  {
   "cell_type": "markdown",
   "id": "fa908460-4633-40fd-bc97-a718e8251c06",
   "metadata": {},
   "source": [
    "compute concentrations"
   ]
  },
  {
   "cell_type": "code",
   "execution_count": null,
   "id": "63bbcc0e-f06b-4de3-9527-d909353dd1d3",
   "metadata": {},
   "outputs": [],
   "source": [
    "corr_ocean_norm = corr_ocean/64\n",
    "corr_rock_norm = corr_rock/64\n",
    "corr_ground_norm = corr_ground/64\n",
    "corr_isf_norm = corr_isf/64"
   ]
  },
  {
   "cell_type": "markdown",
   "id": "0fcae89c-3163-4770-9848-927e9bfaa65a",
   "metadata": {},
   "source": [
    "set everything where there is a bit of ice shelf to 1"
   ]
  },
  {
   "cell_type": "code",
   "execution_count": null,
   "id": "20d8eced-08c2-46fb-b255-df3ec43add7d",
   "metadata": {},
   "outputs": [],
   "source": [
    "ls_mask_01 = ((corr_ground_norm > 0) | (corr_rock_norm > 0)).astype(int)\n",
    "ls_mask_02 = ls_mask_01.where(ls_mask_01 == 0, 2)\n",
    "ls_mask_012 = ls_mask_02.where(corr_isf == 0, 1)"
   ]
  },
  {
   "cell_type": "markdown",
   "id": "98ef4aa9-d8ff-4671-86c5-9a14ec265c4c",
   "metadata": {},
   "source": [
    "correct ice shelf points that are within grounded ice"
   ]
  },
  {
   "cell_type": "code",
   "execution_count": null,
   "id": "b50b500d-1a39-441b-a138-ddd4ce372ef7",
   "metadata": {},
   "outputs": [],
   "source": [
    "dx = abs(ls_mask_012.x[1] - ls_mask_012.x[0]).values.astype(int)\n",
    "dy = abs(ls_mask_012.y[1] - ls_mask_012.y[0]).values.astype(int)"
   ]
  },
  {
   "cell_type": "code",
   "execution_count": null,
   "id": "24f1e953-e18d-48a8-a7a2-3cc0e2ef94ce",
   "metadata": {},
   "outputs": [],
   "source": [
    "isf_only_mask = ls_mask_012 == 1\n",
    "\n",
    "connectivity = 4\n",
    "threshold = 1\n",
    "\n",
    "dusted = cc3d.dust(isf_only_mask.values.astype(np.int64), \n",
    "           threshold = threshold, \n",
    "           connectivity = connectivity, \n",
    "           in_place = False)\n",
    "\n",
    "labels_out = cc3d.connected_components(dusted, \n",
    "                               connectivity = connectivity)\n",
    "\n",
    "labelled = xr.DataArray(labels_out, \n",
    "                coords = {\"y\": ls_mask_012.y, \"x\": ls_mask_012.x}, \n",
    "                dims = [\"y\", \"x\"],\n",
    "                name = \"labels\")\n",
    "\n",
    "# filter that checks the point around\n",
    "weights_filter = np.zeros((3,3))\n",
    "weights_filter[0,1] = 1\n",
    "weights_filter[1,0] = 1\n",
    "weights_filter[1,2] = 1\n",
    "weights_filter[2,1] = 1\n",
    "\n",
    "weights_da = xr.DataArray(data=weights_filter,dims=['y0','x0'])\n",
    "\n",
    "new_mask = ls_mask_012.copy()\n",
    "new_corr_ground_norm = corr_ground_norm.copy()\n",
    "new_corr_isf_norm = corr_isf_norm.copy()\n",
    "\n",
    "for conn_label in tqdm(range(1,labels_out.max()+1)):\n",
    "    dom_region = isf_only_mask.where(labelled == conn_label, drop=True)\n",
    "    dom_bounds_plus1 = np.array([dom_region.x.min().values - dx,dom_region.x.max().values + dx,dom_region.y.min().values - dy,dom_region.y.max().values + dy]).astype(int)\n",
    "    dom_plus1_mask = isf_only_mask.sel(x=range(dom_bounds_plus1[0],dom_bounds_plus1[1]+1,dx), y=range(dom_bounds_plus1[2],dom_bounds_plus1[3]+1,dy))\n",
    "    corr = pf.xr_nd_corr_v2(dom_plus1_mask, weights_filter)\n",
    "    only_contour = (corr ^ dom_plus1_mask)\n",
    "    neighboring_pixels = ls_mask_012.where(only_contour).where(labelled != conn_label)\n",
    "    if neighboring_pixels.min() > 0:\n",
    "        print('There is no ocean, this cannot be an ice shelf! I am putting it to grounded ice!')\n",
    "        new_mask = new_mask.where(labelled != conn_label, 2)\n",
    "        new_corr_ground_norm = new_corr_ground_norm.where(labelled != conn_label, corr_isf_norm + corr_ground_norm)\n",
    "        new_corr_isf_norm = new_corr_isf_norm.where(labelled != conn_label, 0)"
   ]
  },
  {
   "cell_type": "markdown",
   "id": "e021ecd2-407a-4ebd-9b40-411a092acc2a",
   "metadata": {},
   "source": [
    "correct ocean points that are within ice"
   ]
  },
  {
   "cell_type": "code",
   "execution_count": null,
   "id": "5909d461-2f41-421c-a561-5496acd061e6",
   "metadata": {},
   "outputs": [],
   "source": [
    "ocean_only_mask = ls_mask_012 == 0\n",
    "\n",
    "connectivity = 4\n",
    "threshold = 1\n",
    "\n",
    "dusted = cc3d.dust(ocean_only_mask.values.astype(np.int64), \n",
    "           threshold = threshold, \n",
    "           connectivity = connectivity, \n",
    "           in_place = False)\n",
    "\n",
    "labels_out = cc3d.connected_components(dusted, \n",
    "                               connectivity = connectivity)\n",
    "\n",
    "labelled = xr.DataArray(labels_out, \n",
    "                coords = {\"y\": ls_mask_012.y, \"x\": ls_mask_012.x}, \n",
    "                dims = [\"y\", \"x\"],\n",
    "                name = \"labels\")\n",
    "\n",
    "# filter that checks the point around\n",
    "weights_filter = np.zeros((3,3))\n",
    "weights_filter[0,1] = 1\n",
    "weights_filter[1,0] = 1\n",
    "weights_filter[1,2] = 1\n",
    "weights_filter[2,1] = 1\n",
    "\n",
    "weights_da = xr.DataArray(data=weights_filter,dims=['y0','x0'])\n",
    "\n",
    "new_corr_ocean_norm = corr_ocean_norm.copy()\n",
    "\n",
    "for conn_label in tqdm(range(2,labels_out.max()+1)):\n",
    "    dom_region = ocean_only_mask.where(labelled == conn_label, drop=True)\n",
    "    dom_bounds_plus1 = np.array([dom_region.x.min().values - dx,dom_region.x.max().values + dx,dom_region.y.min().values - dy,dom_region.y.max().values + dy]).astype(int)\n",
    "    dom_plus1_mask = ocean_only_mask.sel(x=range(dom_bounds_plus1[0],dom_bounds_plus1[1]+1,dx), y=range(dom_bounds_plus1[2],dom_bounds_plus1[3]+1,dy))\n",
    "    corr = pf.xr_nd_corr_v2(dom_plus1_mask, weights_filter)\n",
    "    only_contour = (corr ^ dom_plus1_mask)\n",
    "    neighboring_pixels = ls_mask_012.where(only_contour).where(labelled != conn_label)\n",
    "    if neighboring_pixels.min() > 0:\n",
    "        print('There is no ocean around it, this cannot be an ocean point')\n",
    "        #print(neighboring_pixels.min().values)\n",
    "        new_mask = new_mask.where(labelled != conn_label, neighboring_pixels.min().values)\n",
    "        if neighboring_pixels.min().values == 1:\n",
    "            new_corr_isf_norm = new_corr_isf_norm.where(labelled != conn_label, corr_ocean_norm + corr_isf_norm)\n",
    "        elif neighboring_pixels.min().values == 2:\n",
    "            new_corr_ground_norm = new_corr_ground_norm.where(labelled != conn_label, corr_ocean_norm + corr_ground_norm)\n",
    "        new_corr_ocean_norm = new_corr_ocean_norm.where(labelled != conn_label, 0)"
   ]
  },
  {
   "cell_type": "markdown",
   "id": "90420c13-4122-44e9-957f-7cf8c64c4e87",
   "metadata": {},
   "source": [
    "Checking the sums"
   ]
  },
  {
   "cell_type": "code",
   "execution_count": null,
   "id": "744f37e8-c2d9-423d-852f-77606f008634",
   "metadata": {},
   "outputs": [],
   "source": [
    "sum_norms = new_corr_ocean_norm + new_corr_isf_norm + new_corr_ground_norm + corr_rock_norm"
   ]
  },
  {
   "cell_type": "code",
   "execution_count": null,
   "id": "7a0024f4-1eb4-471b-908c-a01c925f1226",
   "metadata": {},
   "outputs": [],
   "source": [
    "sum_norms.min()"
   ]
  },
  {
   "cell_type": "markdown",
   "id": "97b70cff-b0b1-49c9-8a96-b5a09777972e",
   "metadata": {},
   "source": [
    "Writing to netcdf"
   ]
  },
  {
   "cell_type": "code",
   "execution_count": null,
   "id": "4afe17e5-989a-4601-bd6e-f0a6431b21fb",
   "metadata": {},
   "outputs": [],
   "source": [
    "new_corr_ocean_norm.plot()"
   ]
  },
  {
   "cell_type": "code",
   "execution_count": null,
   "id": "1f01ed5c-5def-4c42-81ad-ef457af24b17",
   "metadata": {},
   "outputs": [],
   "source": [
    "all_masks = new_mask.to_dataset(name='mask_0_1_2')\n",
    "all_masks['mask_0_1_2'].attrs['flag_meanings'] = 'only_ocean contains_floating_ice only_ice_free_land_and_grounded_ice'\n",
    "all_masks['mask_0_1_2'].attrs['flag_values'] = '[0 1 2]'\n",
    "#all_masks['mask_0_1_2'].attrs['valid_range'] = '[0 2]'\n",
    "\n",
    "all_masks['ocean_conc'] = new_corr_ocean_norm\n",
    "all_masks['ocean_conc'].attrs['long_name'] = 'Ocean concentration between 0 and 1'\n",
    "all_masks['ocean_conc'].attrs['valid_range'] = '[0 1]'\n",
    "\n",
    "all_masks['ground_conc'] = new_corr_ground_norm\n",
    "all_masks['ground_conc'].attrs['long_name'] = 'Grounded ice concentration between 0 and 1'\n",
    "#all_masks['ground_conc'].attrs['valid_range'] = '[0 1]'\n",
    "\n",
    "all_masks['isf_conc'] = new_corr_isf_norm\n",
    "all_masks['isf_conc'].attrs['long_name'] = 'Floating ice concentration between 0 and 1'\n",
    "#all_masks['isf_conc'].attrs['valid_range'] = '[0 1]'\n",
    "\n",
    "all_masks['icefree_conc'] = corr_rock_norm\n",
    "all_masks['icefree_conc'].attrs['long_name'] = 'Ice-free ground concentration between 0 and 1'\n",
    "#all_masks['icefree_conc'].attrs['valid_range'] = '[0 1]'\n",
    "\n",
    "all_masks.to_netcdf(inputpath_BedMachine + 'BedMachine_v2_aggregated4km_masks_only.nc')"
   ]
  },
  {
   "cell_type": "markdown",
   "id": "66f84095-b43d-4263-9659-a3ec22ed1bce",
   "metadata": {},
   "source": [
    "OTHER VARIABLES"
   ]
  },
  {
   "cell_type": "code",
   "execution_count": null,
   "id": "ec5842ae-f288-4b5f-af1d-60b0035fa899",
   "metadata": {},
   "outputs": [],
   "source": [
    "all_masks = xr.open_dataset(inputpath_BedMachine + 'BedMachine_v2_aggregated4km_masks_only.nc')"
   ]
  },
  {
   "cell_type": "code",
   "execution_count": null,
   "id": "43984239-1cff-412a-a5f8-cb933b8f5750",
   "metadata": {},
   "outputs": [],
   "source": [
    "weights_filter = np.zeros((9,9)) + 1\n",
    "weights_filter[0,:] = 0.5\n",
    "weights_filter[:,0] = 0.5\n",
    "weights_filter[8,:] = 0.5\n",
    "weights_filter[:,8] = 0.5\n",
    "weights_filter[0,8] = 0.25\n",
    "weights_filter[8,0] = 0.25\n",
    "weights_filter[8,8] = 0.25\n",
    "weights_filter[0,0] = 0.25\n",
    "\n",
    "weights_da = xr.DataArray(data=weights_filter,dims=['y0','x0'])"
   ]
  },
  {
   "cell_type": "code",
   "execution_count": null,
   "id": "c2d0c67c-87a4-4169-9183-a91d3c9ac9f4",
   "metadata": {},
   "outputs": [],
   "source": [
    "for vvar in ['firn','surface','thickness','bed','errbed','geoid']:\n",
    "    print(vvar)\n",
    "    var_field = BedMachine_orig[vvar].astype(float)\n",
    "    var_4km = pf.xr_nd_corr_v2(var_field, weights_filter).sel(x=ISMIP_grid_4km.x,y=ISMIP_grid_4km.y)\n",
    "    all_masks[vvar] = var_4km/64\n",
    "    all_masks[vvar].attrs = BedMachine_orig[vvar].attrs\n",
    "    "
   ]
  },
  {
   "cell_type": "code",
   "execution_count": null,
   "id": "b5c98a0d-0eba-46f3-98ef-48ca70a0be86",
   "metadata": {},
   "outputs": [],
   "source": [
    "all_masks.to_netcdf(inputpath_BedMachine + 'BedMachine_v2_aggregated4km_allvars.nc')"
   ]
  },
  {
   "cell_type": "code",
   "execution_count": null,
   "id": "9f695c5e-75f4-49ac-8789-b240b76d45d0",
   "metadata": {},
   "outputs": [],
   "source": [
    "all_masks['surface'].plot()"
   ]
  },
  {
   "cell_type": "code",
   "execution_count": null,
   "id": "952252d6-6a78-4da6-8fad-819d638a8000",
   "metadata": {},
   "outputs": [],
   "source": [
    "all_masks['bed'].plot()"
   ]
  },
  {
   "cell_type": "code",
   "execution_count": null,
   "id": "1064c739-1a3b-442d-afb4-be160f8be264",
   "metadata": {},
   "outputs": [],
   "source": [
    "BedMachine_orig['surface'].plot()"
   ]
  },
  {
   "cell_type": "code",
   "execution_count": null,
   "id": "ca98bf16-d49d-4f9f-9eec-2eb810c6b889",
   "metadata": {},
   "outputs": [],
   "source": []
  }
 ],
 "metadata": {
  "kernelspec": {
   "display_name": "py38",
   "language": "python",
   "name": "py38"
  },
  "language_info": {
   "codemirror_mode": {
    "name": "ipython",
    "version": 3
   },
   "file_extension": ".py",
   "mimetype": "text/x-python",
   "name": "python",
   "nbconvert_exporter": "python",
   "pygments_lexer": "ipython3",
   "version": "3.8.12"
  }
 },
 "nbformat": 4,
 "nbformat_minor": 5
}
