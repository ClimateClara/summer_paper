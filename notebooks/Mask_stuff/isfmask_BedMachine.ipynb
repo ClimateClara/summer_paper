{
 "cells": [
  {
   "cell_type": "code",
   "execution_count": null,
   "id": "0",
   "metadata": {},
   "outputs": [],
   "source": [
    "\"\"\"\n",
    "\n",
    "Prepare the masks of the ice shelves based on BedMachine\n",
    "\n",
    "\"\"\""
   ]
  },
  {
   "cell_type": "code",
   "execution_count": null,
   "id": "1",
   "metadata": {},
   "outputs": [],
   "source": [
    "import xarray as xr\n",
    "import numpy as np\n",
    "from pyproj import Transformer\n",
    "import pandas as pd\n",
    "from tqdm.notebook import trange, tqdm\n",
    "import cc3d\n",
    "import matplotlib as mpl\n",
    "\n",
    "\n",
    "import multimelt.plume_functions as pf\n",
    "import multimelt.box_functions as bf\n",
    "import multimelt.useful_functions as uf\n",
    "import basal_melt_param.create_isf_mask_functions as isfmf\n",
    "\n",
    "import distributed"
   ]
  },
  {
   "cell_type": "code",
   "execution_count": null,
   "id": "2",
   "metadata": {},
   "outputs": [],
   "source": [
    "%matplotlib qt5"
   ]
  },
  {
   "cell_type": "code",
   "execution_count": null,
   "id": "3",
   "metadata": {},
   "outputs": [],
   "source": [
    "map_lim = [-3000000,3000000]\n",
    "\n",
    "#chunk_size = 700\n",
    "chunk_size = False"
   ]
  },
  {
   "cell_type": "markdown",
   "id": "4",
   "metadata": {},
   "source": [
    "READ IN DATA"
   ]
  },
  {
   "cell_type": "code",
   "execution_count": null,
   "id": "5",
   "metadata": {},
   "outputs": [],
   "source": [
    "inputpath_data='/bettik/burgardc/DATA/SUMMER_PAPER/interim/'\n",
    "inputpath_metadata='/bettik/burgardc/SCRIPTS/basal_melt_param/data/raw/MASK_METADATA/'\n",
    "outputpath_mask ='/bettik/burgardc/DATA/SUMMER_PAPER/interim/ANTARCTICA_IS_MASKS/BedMachine_4km/'\n",
    "outputpath_boxes = '/bettik/burgardc/DATA/SUMMER_PAPER/interim/BOXES/BedMachine_4km/'\n",
    "outputpath_plumes = '/bettik/burgardc/DATA/SUMMER_PAPER/interim/PLUMES/BedMachine_4km/'\n",
    "\n",
    "file_mask_orig = xr.open_dataset(inputpath_data+'BedMachine_v2_aggregated4km_allvars.nc')\n",
    "file_mask_orig_cut = uf.cut_domain_stereo(file_mask_orig, map_lim, map_lim)"
   ]
  },
  {
   "cell_type": "code",
   "execution_count": null,
   "id": "6",
   "metadata": {},
   "outputs": [],
   "source": [
    "file_msk = file_mask_orig_cut['mask_0_1_2']  #0 = ocean, 1 = ice shelves, 2 = grounded ice"
   ]
  },
  {
   "cell_type": "code",
   "execution_count": null,
   "id": "7",
   "metadata": {},
   "outputs": [],
   "source": [
    "file_bed_orig = -1*file_mask_orig_cut['bed']\n",
    "file_draft = (file_mask_orig_cut['thickness'] - file_mask_orig_cut['surface']).where(file_msk==1)\n",
    "file_draft = file_draft.where(file_draft > 0, 0)\n",
    "file_isf_conc = file_mask_orig_cut['isf_conc']\n",
    "file_msk = file_mask_orig_cut['mask_0_1_2']  #0 = ocean, 1 = ice shelves, 2 = grounded ice\n",
    "\n",
    "xx = file_msk['x']\n",
    "yy = file_msk['y']\n",
    "\n",
    "dx = abs(xx[1] - xx[0])\n",
    "dy = abs(yy[1] - yy[0])"
   ]
  },
  {
   "cell_type": "code",
   "execution_count": null,
   "id": "8",
   "metadata": {},
   "outputs": [],
   "source": [
    "IMBIE_file = xr.open_dataset(inputpath_data + 'Mask_Iceshelf_4km_IMBIE_withNisf.nc')"
   ]
  },
  {
   "cell_type": "code",
   "execution_count": null,
   "id": "9",
   "metadata": {},
   "outputs": [],
   "source": [
    "IMBIE_file['Iceshelf_extrap'].where(IMBIE_file['Iceshelf_extrap'] == 2).plot()"
   ]
  },
  {
   "cell_type": "code",
   "execution_count": null,
   "id": "10",
   "metadata": {},
   "outputs": [],
   "source": [
    "prelim_file = file_mask_basins['ID_IMBIE'].where(file_mask_basins['ID_IMBIE'] != 1, 159).where(file_msk == 1)\n",
    "prelim_file = prelim_file.where(file_msk != 2, 0).where(file_msk != 0, 1)\n",
    "prelim_file = prelim_file.where(prelim_file != 104, 103) # FRIS\n",
    "prelim_file = prelim_file.where(prelim_file != 58, 57) # Ross"
   ]
  },
  {
   "cell_type": "code",
   "execution_count": null,
   "id": "11",
   "metadata": {},
   "outputs": [],
   "source": [
    "#whole_ds = isfmf.create_mask_and_metadata_isf(file_msk, -1*file_bed_orig, file_msk, -1*file_draft, file_isf_conc, False, \n",
    "#                                          inputpath_metadata+'lonlat_masks.txt', outputpath_mask, \n",
    "#                                          inputpath_metadata + 'iceshelves_metadata_Nico.txt', \n",
    "#                                          inputpath_metadata+'GL_flux_rignot13.csv', mouginot_basins=True, variable_geometry=False,\n",
    "#                                          write_ismask = 'yes', write_groundmask = 'yes', write_outfile='yes',\n",
    "#                                          ground_point ='no',dist=40, add_fac=120, connectivity=4, threshold=4,\n",
    "#                                          write_metadata='yes')\n",
    "\n",
    "whole_ds = isfmf.create_mask_and_metadata_isf(file_msk, -1*file_bed_orig, file_msk, -1*file_draft, file_isf_conc, False, \n",
    "                                          inputpath_data + 'Mask_Iceshelf_4km_IMBIE_withNisf.nc', outputpath_mask, \n",
    "                                          inputpath_metadata + 'iceshelves_metadata_Nico.txt', \n",
    "                                          inputpath_metadata+'GL_flux_rignot13.csv', mouginot_basins=True, variable_geometry=False,\n",
    "                                          write_ismask = 'yes', write_groundmask = 'yes', write_outfile='yes',\n",
    "                                          ground_point ='no',dist=40, add_fac=250, connectivity=4, threshold=4,\n",
    "                                          write_metadata='yes')\n",
    "\n",
    "# Write to netcdf\n",
    "print('------- WRITE TO NETCDF -----------')\n",
    "whole_ds.to_netcdf(outputpath_mask + 'BedMachinev2_4km_isf_masks_and_info_and_distance_oneFRIS.nc','w')\n"
   ]
  },
  {
   "cell_type": "code",
   "execution_count": null,
   "id": "12",
   "metadata": {},
   "outputs": [],
   "source": [
    "file_bed_orig = -1*file_mask_orig_cut['bed']\n",
    "file_draft = (file_mask_orig_cut['thickness'] - file_mask_orig_cut['surface']).where(file_msk==1)\n",
    "file_draft = file_draft.where(file_draft > 0, 0)\n",
    "file_isf_conc = file_mask_orig_cut['isf_conc']\n",
    "file_msk = file_mask_orig_cut['mask_0_1_2']  #0 = ocean, 1 = ice shelves, 2 = grounded ice\n",
    "\n",
    "xx = file_mask_orig_cut['x']\n",
    "yy = file_mask_orig_cut['y']\n",
    "\n",
    "whole_ds_tt = xr.open_dataset(outputpath_mask + 'BedMachinev2_4km_isf_masks_and_info_and_distance_oneFRIS.nc')\n",
    "\n",
    "nonnan_Nisf = whole_ds_tt['Nisf'].where(np.isfinite(whole_ds_tt['front_bot_depth_max']), drop=True).astype(int)\n",
    "file_isf_nonnan = whole_ds_tt.sel(Nisf=nonnan_Nisf)\n",
    "rignot_isf = file_isf_nonnan.Nisf.where(np.isfinite(file_isf_nonnan['isf_area_rignot']), drop=True)\n",
    "file_isf = file_isf_nonnan.sel(Nisf=rignot_isf)"
   ]
  },
  {
   "cell_type": "code",
   "execution_count": null,
   "id": "13",
   "metadata": {},
   "outputs": [],
   "source": [
    "isf_var_of_int = whole_ds_tt[['ISF_mask', 'GL_mask', 'dGL', 'dIF', 'latitude', 'longitude', 'isf_name']]\n",
    "out_2D, out_1D = bf.box_charac_file(file_isf['Nisf'],isf_var_of_int, -1*file_draft, file_isf_conc, outputpath_boxes, max_nb_box=10)\n",
    "out_2D.to_netcdf(outputpath_boxes + 'BedMachine_4km_boxes_2D_oneFRIS.nc')\n",
    "out_1D.to_netcdf(outputpath_boxes + 'BedMachine_4km_boxes_1D_oneFRIS.nc')\n",
    "    \n",
    "# double check here which ice shelves we want    "
   ]
  },
  {
   "cell_type": "code",
   "execution_count": null,
   "id": "14",
   "metadata": {},
   "outputs": [],
   "source": [
    "plume_param_options = ['new_lazero'] #'cavity',, 'local','lazero'\n",
    "\n",
    "plume_var_of_int = file_isf[['ISF_mask', 'GL_mask', 'IF_mask', 'dIF', 'dGL_dIF', 'latitude', 'longitude', 'front_ice_depth_avg']]\n",
    "\n",
    "# Compute the ice draft\n",
    "ice_draft_pos = file_draft\n",
    "# Be careful with ice shelf 178 and 195 - they have a negative ice draft\n",
    "# I don't know how to fix it at the moment so I put it to nan\n",
    "#ice_draft_pos = ice_draft_pos.where(plume_var_of_int['ISF_mask'] != 178, np.nan)\n",
    "#ice_draft_pos = ice_draft_pos.where(plume_var_of_int['ISF_mask'] != 195, np.nan)\n",
    "\n",
    "ice_draft_neg = -1*ice_draft_pos\n",
    "\n",
    "plume_charac_shift2 = pf.prepare_plume_charac(plume_param_options, ice_draft_pos, plume_var_of_int, grad_corr=5, dir_nb=16, extra_shift=2, dist_incl=1)\n",
    "plume_charac_shift1 = pf.prepare_plume_charac(plume_param_options, ice_draft_pos, plume_var_of_int, grad_corr=5, dir_nb=16, extra_shift=1, dist_incl=1)\n",
    "plume_charac = plume_charac_shift2.combine_first(plume_charac_shift1)\n",
    "print('------ WRITE TO NETCDF -------')\n",
    "#plume_charac.to_netcdf(outputpath_plumes+'BedMachine_4km_plume_characteristics.nc')\n",
    "plume_charac.to_netcdf(outputpath_plumes+'BedMachine_4km_plume_characteristics_lazero_comparison_mixedshift.nc')\n",
    "# smoothed was with grad_corr=2, dir_nb=16, extra_shift=2, dist_incl=1"
   ]
  },
  {
   "cell_type": "code",
   "execution_count": null,
   "id": "15",
   "metadata": {},
   "outputs": [],
   "source": [
    "plume_param_options = ['new_lazero'] #'cavity',, 'local','lazero'\n",
    "\n",
    "plume_var_of_int = file_isf[['ISF_mask', 'GL_mask', 'IF_mask', 'dIF', 'dGL_dIF', 'latitude', 'longitude', 'front_ice_depth_avg']]\n",
    "\n",
    "# Compute the ice draft\n",
    "ice_draft_pos = file_draft\n",
    "# Be careful with ice shelf 178 and 195 - they have a negative ice draft\n",
    "# I don't know how to fix it at the moment so I put it to nan\n",
    "#ice_draft_pos = ice_draft_pos.where(plume_var_of_int['ISF_mask'] != 178, np.nan)\n",
    "#ice_draft_pos = ice_draft_pos.where(plume_var_of_int['ISF_mask'] != 195, np.nan)\n",
    "\n",
    "ice_draft_neg = -1*ice_draft_pos\n",
    "\n",
    "plume_charac = pf.prepare_plume_charac(plume_param_options, ice_draft_pos, plume_var_of_int, grad_corr=5, dir_nb=16, extra_shift=1, dist_incl=1)\n",
    "print('------ WRITE TO NETCDF -------')\n",
    "#plume_charac.to_netcdf(outputpath_plumes+'BedMachine_4km_plume_characteristics.nc')\n",
    "plume_charac.to_netcdf(outputpath_plumes+'BedMachine_4km_plume_characteristics_lazero_comparison_shift1.nc')\n",
    "# smoothed was with grad_corr=2, dir_nb=16, extra_shift=2, dist_incl=1"
   ]
  },
  {
   "cell_type": "code",
   "execution_count": null,
   "id": "16",
   "metadata": {},
   "outputs": [],
   "source": [
    "plume_charac.to_netcdf(outputpath_plumes+'BedMachine_4km_plume_characteristics_lazero_comparison.nc')\n"
   ]
  },
  {
   "cell_type": "code",
   "execution_count": null,
   "id": "17",
   "metadata": {},
   "outputs": [],
   "source": [
    "plume_var_of_int.Nisf"
   ]
  },
  {
   "cell_type": "code",
   "execution_count": null,
   "id": "18",
   "metadata": {},
   "outputs": [],
   "source": [
    "plume_charac = xr.open_dataset(outputpath_plumes+'BedMachine_4km_plume_characteristics_lazero_comparison.nc')\n",
    "plume_charac_smoothed = xr.open_dataset(outputpath_plumes+'BedMachine_4km_plume_characteristics_lazero_comparison_smoothed.nc')"
   ]
  },
  {
   "cell_type": "code",
   "execution_count": null,
   "id": "19",
   "metadata": {},
   "outputs": [],
   "source": [
    "alpha_test = plume_charac['alpha'].sel(option='new_lazero')\n",
    "#alpha_test_smoothed = plume_charac_smoothed['alpha'].sel(option='new_lazero')"
   ]
  },
  {
   "cell_type": "code",
   "execution_count": null,
   "id": "20",
   "metadata": {},
   "outputs": [],
   "source": [
    "zGL_test = plume_charac['zGL'].sel(option='new_lazero')\n",
    "#zGL_test_smoothed = plume_charac_smoothed['zGL'].sel(option='new_lazero')"
   ]
  },
  {
   "cell_type": "code",
   "execution_count": null,
   "id": "21",
   "metadata": {},
   "outputs": [],
   "source": [
    "zGL_test.plot()"
   ]
  },
  {
   "cell_type": "code",
   "execution_count": null,
   "id": "22",
   "metadata": {},
   "outputs": [],
   "source": [
    "np.isnan(zGL_test).sum()"
   ]
  },
  {
   "cell_type": "code",
   "execution_count": null,
   "id": "23",
   "metadata": {},
   "outputs": [],
   "source": [
    "zGL_test.where(file_isf['ISF_mask'] > 1).plot()"
   ]
  },
  {
   "cell_type": "code",
   "execution_count": null,
   "id": "24",
   "metadata": {},
   "outputs": [],
   "source": [
    "alpha_test.where(file_isf['ISF_mask'] > 1).plot()"
   ]
  },
  {
   "cell_type": "code",
   "execution_count": null,
   "id": "25",
   "metadata": {},
   "outputs": [],
   "source": [
    "plt.figure()\n",
    "(zGL_test_smoothed - zGL_test).plot(vmax=0.005)"
   ]
  },
  {
   "cell_type": "code",
   "execution_count": null,
   "id": "26",
   "metadata": {},
   "outputs": [],
   "source": [
    "plt.figure()\n",
    "(alpha_test_smoothed - alpha_test).plot(vmax=0.005)"
   ]
  },
  {
   "cell_type": "code",
   "execution_count": null,
   "id": "27",
   "metadata": {},
   "outputs": [],
   "source": [
    "zGL_test.where((zGL_test == 0) & (file_isf['ISF_mask'] > 1)).plot()"
   ]
  },
  {
   "cell_type": "code",
   "execution_count": null,
   "id": "28",
   "metadata": {},
   "outputs": [],
   "source": [
    "(np.isnan(alpha_test) & (file_isf['ISF_mask'] > 1)).plot()"
   ]
  },
  {
   "cell_type": "code",
   "execution_count": null,
   "id": "29",
   "metadata": {},
   "outputs": [],
   "source": [
    "plt.figure()\n",
    "alpha_test_smoothed.where((alpha_test_smoothed == 0) & (file_isf['ISF_mask'] > 1)).plot()"
   ]
  },
  {
   "cell_type": "code",
   "execution_count": null,
   "id": "30",
   "metadata": {},
   "outputs": [],
   "source": [
    "np.tan(plume_charac['alpha'].sel(option='new_lazero')).plot(vmax=0.005,cmap=mpl.cm.jet)"
   ]
  },
  {
   "cell_type": "code",
   "execution_count": null,
   "id": "31",
   "metadata": {},
   "outputs": [],
   "source": [
    "for kisf in file_isf.Nisf.isel(Nisf=range(10)):\n",
    "    plt.figure()\n",
    "    ((plume_charac['alpha'].sel(option='new_lazero') == 0).where(file_isf['ISF_mask'] == kisf, drop=True)).plot()\n",
    "    plt.title(str(kisf.values)+' '+str(file_isf['isf_name'].sel(Nisf=kisf).values))"
   ]
  },
  {
   "cell_type": "code",
   "execution_count": null,
   "id": "32",
   "metadata": {},
   "outputs": [],
   "source": [
    "file_isf['ISF_mask'].plot()"
   ]
  },
  {
   "cell_type": "code",
   "execution_count": null,
   "id": "33",
   "metadata": {},
   "outputs": [],
   "source": [
    "(plume_charac['alpha'].where((file_isf['ISF_mask'] > 5) & (file_isf['ISF_mask'] < 500)).sel(option='new_lazero') == 0).plot()"
   ]
  },
  {
   "cell_type": "code",
   "execution_count": null,
   "id": "34",
   "metadata": {},
   "outputs": [],
   "source": [
    "plume_charac.to_netcdf(outputpath_plumes+'BedMachine_4km_plume_characteristics.nc')"
   ]
  },
  {
   "cell_type": "code",
   "execution_count": null,
   "id": "35",
   "metadata": {},
   "outputs": [],
   "source": [
    "plume_charac = xr.open_dataset(outputpath_plumes+'BedMachine_4km_plume_characteristics.nc')"
   ]
  },
  {
   "cell_type": "code",
   "execution_count": null,
   "id": "36",
   "metadata": {},
   "outputs": [],
   "source": [
    "file_isf['isf_name'].sel(Nisf=42)"
   ]
  },
  {
   "cell_type": "code",
   "execution_count": null,
   "id": "37",
   "metadata": {},
   "outputs": [],
   "source": [
    "alpha_kisf = plume_charac['alpha'].sel(option='lazero').where(file_isf['ISF_mask'] == 42, drop=True)"
   ]
  },
  {
   "cell_type": "code",
   "execution_count": null,
   "id": "38",
   "metadata": {},
   "outputs": [],
   "source": [
    "alpha_kisf.where(alpha_kisf > 0).plot()"
   ]
  },
  {
   "cell_type": "code",
   "execution_count": null,
   "id": "39",
   "metadata": {},
   "outputs": [],
   "source": [
    "plume_charac['alpha'].sel(option='lazero').where(plume_charac['alpha'].sel(option='lazero') == 0).plot()"
   ]
  },
  {
   "cell_type": "markdown",
   "id": "40",
   "metadata": {},
   "source": [
    "FILL POINTS WHERE SLOPE IS NOT INCLINED TOWARDS GROUNDING LINE"
   ]
  },
  {
   "cell_type": "code",
   "execution_count": null,
   "id": "41",
   "metadata": {},
   "outputs": [],
   "source": [
    "plume_charac = xr.open_dataset(outputpath_plumes+'BedMachine_4km_plume_characteristics.nc')\n",
    "\n",
    "alpha_all_corrected = plume_charac['alpha'].sel(option='lazero') * np.nan\n",
    "zGL_all_corrected = plume_charac['zGL'].sel(option='lazero') * np.nan\n",
    "\n",
    "for kisf in tqdm(file_isf.Nisf):\n",
    "    alpha_kisf_lazero = plume_charac['alpha'].sel(option='lazero').where(file_isf['ISF_mask']==kisf, drop=True).drop('Nisf')\n",
    "    alpha_kisf_local = plume_charac['alpha'].sel(option='local').where(file_isf['ISF_mask']==kisf, drop=True).drop('Nisf')\n",
    "    alpha_kisf_lazero_corrected = alpha_kisf_lazero.where(alpha_kisf_lazero > 0, alpha_kisf_local)\n",
    "\n",
    "    zGL_kisf_lazero = plume_charac['zGL'].sel(option='lazero').where(file_isf['ISF_mask']==kisf, drop=True).drop('Nisf')\n",
    "    zGL_kisf_local = plume_charac['zGL'].sel(option='local').where(file_isf['ISF_mask']==kisf, drop=True).drop('Nisf')\n",
    "\n",
    "    zGL_kisf_lazero_fillx = zGL_kisf_lazero.where(alpha_kisf_lazero != 0).interpolate_na(dim='x',method='nearest')\n",
    "    zGL_kisf_lazero_filly = zGL_kisf_lazero.where(alpha_kisf_lazero != 0).interpolate_na(dim='y',method='nearest')\n",
    "    zGL_kisf_lazero_maxboth = xr.concat([zGL_kisf_lazero_fillx,zGL_kisf_lazero_filly],dim='dim0').max('dim0')\n",
    "    #zGL_kisf_lazero_999_minboth = xr.concat([zGL_kisf_lazero_999_fillx,zGL_kisf_lazero_999_filly],dim='dim0').mean('dim0')\n",
    "    zGL_kisf_lazero_corrected = zGL_kisf_lazero_maxboth.where(np.isfinite(zGL_kisf_lazero))\n",
    "    \n",
    "    alpha_all_corrected = alpha_all_corrected.where(file_isf['ISF_mask']!=kisf, alpha_kisf_lazero_corrected.reindex_like(alpha_all_corrected))\n",
    "    zGL_all_corrected = zGL_all_corrected.where(file_isf['ISF_mask']!=kisf, zGL_kisf_lazero_corrected.reindex_like(alpha_all_corrected))\n",
    "alpha_all_corrected = alpha_all_corrected.where(np.isfinite(alpha_all_corrected), 0)\n",
    "zGL_all_corrected = zGL_all_corrected.where(np.isfinite(alpha_all_corrected), 0)"
   ]
  },
  {
   "cell_type": "code",
   "execution_count": null,
   "id": "42",
   "metadata": {},
   "outputs": [],
   "source": [
    "plume_charac['alpha'] = xr.concat([plume_charac['alpha'].sel(option='cavity'),alpha_all_corrected,plume_charac['alpha'].sel(option='local')], dim='option', coords='minimal')\n",
    "plume_charac['zGL'] = xr.concat([plume_charac['zGL'].sel(option='cavity'),zGL_all_corrected,plume_charac['zGL'].sel(option='local')], dim='option', coords='minimal')\n"
   ]
  },
  {
   "cell_type": "code",
   "execution_count": null,
   "id": "43",
   "metadata": {},
   "outputs": [],
   "source": [
    "print('------ WRITE TO NETCDF -------')\n",
    "plume_charac.to_netcdf(outputpath_plumes+'BedMachine_4km_plume_characteristics_corrected.nc')"
   ]
  },
  {
   "cell_type": "code",
   "execution_count": null,
   "id": "44",
   "metadata": {},
   "outputs": [],
   "source": [
    "plt.figure()\n",
    "plume_charac['zGL'].sel(option='lazero').plot()"
   ]
  },
  {
   "cell_type": "code",
   "execution_count": null,
   "id": "45",
   "metadata": {},
   "outputs": [],
   "source": [
    "plt.figure()\n",
    "(plume_charac['alpha'].sel(option='local') == 0).plot()"
   ]
  },
  {
   "cell_type": "code",
   "execution_count": null,
   "id": "46",
   "metadata": {},
   "outputs": [],
   "source": [
    "plume_charac_orig = xr.open_dataset(outputpath_plumes+'BedMachine_4km_plume_characteristics.nc')\n",
    "plume_charac_corr = xr.open_dataset(outputpath_plumes+'BedMachine_4km_plume_characteristic_corrected.nc')"
   ]
  },
  {
   "cell_type": "code",
   "execution_count": null,
   "id": "47",
   "metadata": {},
   "outputs": [],
   "source": [
    "kisf = 66\n",
    "plt.figure()\n",
    "plume_charac_orig['zGL'].sel(option='lazero').where(whole_ds_tt['ISF_mask'] == kisf, drop=True).plot()\n",
    "plt.figure()\n",
    "plume_charac_corr['zGL'].sel(option='lazero').where(whole_ds_tt['ISF_mask'] == kisf, drop=True).plot()\n",
    "plt.figure()\n",
    "plume_charac_orig['alpha'].sel(option='lazero').where(whole_ds_tt['ISF_mask'] == kisf, drop=True).plot()\n",
    "plt.figure()\n",
    "plume_charac_corr['alpha'].sel(option='lazero').where(whole_ds_tt['ISF_mask'] == kisf, drop=True).plot()"
   ]
  },
  {
   "cell_type": "markdown",
   "id": "48",
   "metadata": {},
   "source": [
    "DO THE MASKS FOR 8 KM GRID AS WELL"
   ]
  },
  {
   "cell_type": "code",
   "execution_count": null,
   "id": "49",
   "metadata": {},
   "outputs": [],
   "source": [
    "inputpath_data='/bettik/burgardc/DATA/SUMMER_PAPER/interim/'\n",
    "inputpath_metadata='/bettik/burgardc/SCRIPTS/basal_melt_param/data/raw/MASK_METADATA/'\n",
    "outputpath_mask ='/bettik/burgardc/DATA/SUMMER_PAPER/interim/ANTARCTICA_IS_MASKS/BedMachine_8km/'\n",
    "\n",
    "\n",
    "file_mask_orig = xr.open_dataset(inputpath_data+'BedMachine_v3_aggregated8km_allvars.nc')\n",
    "file_mask_orig_cut = uf.cut_domain_stereo(file_mask_orig, map_lim, map_lim)"
   ]
  },
  {
   "cell_type": "code",
   "execution_count": null,
   "id": "50",
   "metadata": {},
   "outputs": [],
   "source": [
    "file_msk = file_mask_orig_cut['mask_0_1_2']  #0 = ocean, 1 = ice shelves, 2 = grounded ice"
   ]
  },
  {
   "cell_type": "code",
   "execution_count": null,
   "id": "51",
   "metadata": {},
   "outputs": [],
   "source": [
    "file_bed_orig = -1*file_mask_orig_cut['bed']\n",
    "file_draft = (file_mask_orig_cut['thickness'] - file_mask_orig_cut['surface']).where(file_msk==1)\n",
    "file_isf_conc = file_mask_orig_cut['isf_conc']\n",
    "\n",
    "xx = file_msk['x']\n",
    "yy = file_msk['y']\n",
    "\n",
    "dx = abs(xx[1] - xx[0])\n",
    "dy = abs(yy[1] - yy[0])"
   ]
  },
  {
   "cell_type": "code",
   "execution_count": null,
   "id": "52",
   "metadata": {},
   "outputs": [],
   "source": [
    "whole_ds = isfmf.create_mask_and_metadata_isf(file_msk, -1*file_bed_orig, file_msk, -1*file_draft, file_isf_conc, False, \n",
    "                                          inputpath_metadata+'lonlat_masks.txt', outputpath_mask, \n",
    "                                          inputpath_metadata + 'iceshelves_metadata_Nico.txt', \n",
    "                                          inputpath_metadata+'GL_flux_rignot13.csv', mouginot_basins=False, variable_geometry=False,\n",
    "                                          write_ismask = 'yes', write_groundmask = 'yes', write_outfile='yes',\n",
    "                                          ground_point ='no',dist=40, add_fac=120, connectivity=4, threshold=4,\n",
    "                                          write_metadata='yes')\n",
    "\n",
    "# Write to netcdf\n",
    "print('------- WRITE TO NETCDF -----------')\n",
    "whole_ds.to_netcdf(outputpath_mask + 'BedMachine_8km_isf_masks_and_info_and_distance_oneFRIS.nc','w')\n"
   ]
  },
  {
   "cell_type": "code",
   "execution_count": null,
   "id": "53",
   "metadata": {},
   "outputs": [],
   "source": []
  }
 ],
 "metadata": {
  "kernelspec": {
   "display_name": "py38",
   "language": "python",
   "name": "py38"
  },
  "language_info": {
   "codemirror_mode": {
    "name": "ipython",
    "version": 3
   },
   "file_extension": ".py",
   "mimetype": "text/x-python",
   "name": "python",
   "nbconvert_exporter": "python",
   "pygments_lexer": "ipython3",
   "version": "3.8.12"
  }
 },
 "nbformat": 4,
 "nbformat_minor": 5
}
