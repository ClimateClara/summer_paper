{
 "cells": [
  {
   "cell_type": "code",
   "execution_count": null,
   "id": "3338746f-330b-42bd-8e1a-827a74df5dbf",
   "metadata": {},
   "outputs": [],
   "source": [
    "\"\"\"\n",
    "\n",
    "Prepare the masks of the ice shelves based on BedMachine\n",
    "\n",
    "\"\"\""
   ]
  },
  {
   "cell_type": "code",
   "execution_count": 1,
   "id": "af733bb4-17ac-4330-b1bd-b1cbaa3a02fb",
   "metadata": {},
   "outputs": [],
   "source": [
    "import xarray as xr\n",
    "import numpy as np\n",
    "from pyproj import Transformer\n",
    "import pandas as pd\n",
    "from tqdm.notebook import trange, tqdm\n",
    "import cc3d\n",
    "\n",
    "\n",
    "import multimelt.plume_functions as pf\n",
    "import multimelt.box_functions as bf\n",
    "import multimelt.useful_functions as uf\n",
    "import basal_melt_param.create_isf_mask_functions as isfmf\n",
    "\n",
    "import distributed"
   ]
  },
  {
   "cell_type": "code",
   "execution_count": 2,
   "id": "88c58f4f-3db0-45fc-b853-3553ca5cff3e",
   "metadata": {},
   "outputs": [
    {
     "name": "stderr",
     "output_type": "stream",
     "text": [
      "QStandardPaths: XDG_RUNTIME_DIR not set, defaulting to '/tmp/runtime-burgardc'\n"
     ]
    }
   ],
   "source": [
    "%matplotlib qt5"
   ]
  },
  {
   "cell_type": "code",
   "execution_count": 3,
   "id": "36b4b9c1-8a52-4f49-b62b-18c875aef474",
   "metadata": {},
   "outputs": [],
   "source": [
    "map_lim = [-3000000,3000000]\n",
    "\n",
    "#chunk_size = 700\n",
    "chunk_size = False"
   ]
  },
  {
   "cell_type": "markdown",
   "id": "e165f05a-e50a-4958-a1af-894d8dbb09de",
   "metadata": {},
   "source": [
    "READ IN DATA"
   ]
  },
  {
   "cell_type": "code",
   "execution_count": 4,
   "id": "1a3a9667-a1e3-4c8d-b248-f0c05fe21360",
   "metadata": {},
   "outputs": [],
   "source": [
    "inputpath_data='/bettik/burgardc/DATA/SUMMER_PAPER/interim/'\n",
    "inputpath_metadata='/bettik/burgardc/SCRIPTS/basal_melt_param/data/raw/MASK_METADATA/'\n",
    "outputpath_mask ='/bettik/burgardc/DATA/SUMMER_PAPER/interim/ANTARCTICA_IS_MASKS/BedMachine_4km/'\n",
    "outputpath_boxes = '/bettik/burgardc/DATA/SUMMER_PAPER/interim/BOXES/BedMachine_4km/'\n",
    "outputpath_plumes = '/bettik/burgardc/DATA/SUMMER_PAPER/interim/PLUMES/BedMachine_4km/'\n",
    "\n",
    "file_mask_orig = xr.open_dataset(inputpath_data+'BedMachine_v2_aggregated4km_allvars.nc')\n",
    "file_mask_orig_cut = uf.cut_domain_stereo(file_mask_orig, map_lim, map_lim)"
   ]
  },
  {
   "cell_type": "code",
   "execution_count": 5,
   "id": "330f5497-54ad-4117-b6c1-092c170c43dd",
   "metadata": {},
   "outputs": [],
   "source": [
    "file_msk = file_mask_orig_cut['mask_0_1_2']  #0 = ocean, 1 = ice shelves, 2 = grounded ice"
   ]
  },
  {
   "cell_type": "code",
   "execution_count": 6,
   "id": "b6cb8651-8daa-48ce-8f5d-57a2d550ce2f",
   "metadata": {},
   "outputs": [],
   "source": [
    "file_bed_orig = -1*file_mask_orig_cut['bed']\n",
    "file_draft = (file_mask_orig_cut['thickness'] - file_mask_orig_cut['surface']).where(file_msk==1)\n",
    "file_isf_conc = file_mask_orig_cut['isf_conc']\n",
    "\n",
    "xx = file_msk['x']\n",
    "yy = file_msk['y']\n",
    "\n",
    "dx = abs(xx[1] - xx[0])\n",
    "dy = abs(yy[1] - yy[0])"
   ]
  },
  {
   "cell_type": "code",
   "execution_count": null,
   "id": "013fbd00-68b0-467d-a9a8-58323c93a36b",
   "metadata": {},
   "outputs": [],
   "source": [
    "#whole_ds = isfmf.create_mask_and_metadata_isf(file_msk, -1*file_bed_orig, file_msk, -1*file_draft, file_isf_conc, False, \n",
    "#                                          inputpath_metadata+'lonlat_masks.txt', outputpath_mask, \n",
    "#                                          inputpath_metadata + 'iceshelves_metadata_Nico.txt', \n",
    "#                                          inputpath_metadata+'GL_flux_rignot13.csv', mouginot_basins=True, variable_geometry=False,\n",
    "#                                          write_ismask = 'yes', write_groundmask = 'yes', write_outfile='yes',\n",
    "#                                          ground_point ='no',dist=40, add_fac=120, connectivity=4, threshold=4,\n",
    "#                                          write_metadata='yes')\n",
    "\n",
    "whole_ds = isfmf.create_mask_and_metadata_isf(file_msk, -1*file_bed_orig, file_msk, -1*file_draft, file_isf_conc, False, \n",
    "                                          inputpath_data + 'Mask_Iceshelf_4km_IMBIE_withNisf.nc', outputpath_mask, \n",
    "                                          inputpath_metadata + 'iceshelves_metadata_Nico.txt', \n",
    "                                          inputpath_metadata+'GL_flux_rignot13.csv', mouginot_basins=True, variable_geometry=False,\n",
    "                                          write_ismask = 'yes', write_groundmask = 'yes', write_outfile='yes',\n",
    "                                          ground_point ='no',dist=40, add_fac=250, connectivity=4, threshold=4,\n",
    "                                          write_metadata='yes')\n",
    "\n",
    "# Write to netcdf\n",
    "print('------- WRITE TO NETCDF -----------')\n",
    "whole_ds.to_netcdf(outputpath_mask + 'BedMachinev2_4km_isf_masks_and_info_and_distance_oneFRIS.nc','w')\n"
   ]
  },
  {
   "cell_type": "code",
   "execution_count": 7,
   "id": "50fa2b15-7164-42dc-93ac-fd7a90c6ceb4",
   "metadata": {},
   "outputs": [],
   "source": [
    "file_bed_orig = -1*file_mask_orig_cut['bed']\n",
    "file_draft = (file_mask_orig_cut['thickness'] - file_mask_orig_cut['surface']).where(file_msk==1)\n",
    "file_isf_conc = file_mask_orig_cut['isf_conc']\n",
    "file_msk = file_mask_orig_cut['mask_0_1_2']  #0 = ocean, 1 = ice shelves, 2 = grounded ice\n",
    "\n",
    "xx = file_mask_orig_cut['x']\n",
    "yy = file_mask_orig_cut['y']\n",
    "\n",
    "whole_ds_tt = xr.open_dataset(outputpath_mask + 'BedMachinev2_4km_isf_masks_and_info_and_distance_oneFRIS.nc')\n",
    "\n",
    "nonnan_Nisf = whole_ds_tt['Nisf'].where(np.isfinite(whole_ds_tt['front_bot_depth_max']), drop=True).astype(int)\n",
    "file_isf_nonnan = whole_ds_tt.sel(Nisf=nonnan_Nisf)\n",
    "rignot_isf = file_isf_nonnan.Nisf.where(np.isfinite(file_isf_nonnan['isf_area_rignot']), drop=True)\n",
    "file_isf = file_isf_nonnan.sel(Nisf=rignot_isf)"
   ]
  },
  {
   "cell_type": "code",
   "execution_count": null,
   "id": "22cea7a1-8051-41cc-b653-25b725118932",
   "metadata": {},
   "outputs": [],
   "source": [
    "isf_var_of_int = whole_ds_tt[['ISF_mask', 'GL_mask', 'dGL', 'dIF', 'latitude', 'longitude', 'isf_name']]\n",
    "out_2D, out_1D = bf.box_charac_file(file_isf['Nisf'],isf_var_of_int, -1*file_draft, file_isf_conc, outputpath_boxes, max_nb_box=10)\n",
    "out_2D.to_netcdf(outputpath_boxes + 'BedMachine_4km_boxes_2D_oneFRIS.nc')\n",
    "out_1D.to_netcdf(outputpath_boxes + 'BedMachine_4km_boxes_1D_oneFRIS.nc')\n",
    "    \n",
    "# double check here which ice shelves we want    "
   ]
  },
  {
   "cell_type": "code",
   "execution_count": null,
   "id": "39cb2621-2edb-4951-9bcd-e7be9759987a",
   "metadata": {},
   "outputs": [],
   "source": [
    "plume_param_options = ['cavity','lazero', 'local']\n",
    "\n",
    "plume_var_of_int = file_isf[['ISF_mask', 'GL_mask', 'IF_mask', 'dIF', 'dGL_dIF', 'latitude', 'longitude', 'front_ice_depth_avg']]\n",
    "\n",
    "# Compute the ice draft\n",
    "ice_draft_pos = file_draft\n",
    "# Be careful with ice shelf 178 and 195 - they have a negative ice draft\n",
    "# I don't know how to fix it at the moment so I put it to nan\n",
    "#ice_draft_pos = ice_draft_pos.where(plume_var_of_int['ISF_mask'] != 178, np.nan)\n",
    "#ice_draft_pos = ice_draft_pos.where(plume_var_of_int['ISF_mask'] != 195, np.nan)\n",
    "\n",
    "ice_draft_neg = -1*ice_draft_pos\n",
    "\n",
    "\n",
    "plume_charac = pf.prepare_plume_charac(plume_param_options, ice_draft_pos, plume_var_of_int)\n",
    "print('------ WRITE TO NETCDF -------')\n",
    "plume_charac.to_netcdf(outputpath_plumes+'BedMachine_4km_plume_characteristics.nc')"
   ]
  },
  {
   "cell_type": "code",
   "execution_count": null,
   "id": "d8943737-5865-40d4-b609-f592c04d6413",
   "metadata": {},
   "outputs": [],
   "source": [
    "plume_charac.to_netcdf(outputpath_plumes+'BedMachine_4km_plume_characteristics.nc')"
   ]
  },
  {
   "cell_type": "code",
   "execution_count": null,
   "id": "633f3bed-70ba-4e52-8e28-46ddf75c7f24",
   "metadata": {},
   "outputs": [],
   "source": [
    "plume_charac['alpha'].sel(option='lazero').where(plume_charac['alpha'].sel(option='lazero') == 0).plot()"
   ]
  },
  {
   "cell_type": "markdown",
   "id": "9e66b5a2-3209-48b8-9bea-0811aed39c7c",
   "metadata": {},
   "source": [
    "FILL POINTS WHERE SLOPE IS NOT INCLINED TOWARDS GROUNDING LINE"
   ]
  },
  {
   "cell_type": "code",
   "execution_count": 9,
   "id": "588e45d7-e9ae-4c5b-9769-d3d2b499c408",
   "metadata": {},
   "outputs": [
    {
     "data": {
      "application/vnd.jupyter.widget-view+json": {
       "model_id": "b60bb36fc0cb41e9befa8f4301c14267",
       "version_major": 2,
       "version_minor": 0
      },
      "text/plain": [
       "  0%|          | 0/64 [00:00<?, ?it/s]"
      ]
     },
     "metadata": {},
     "output_type": "display_data"
    },
    {
     "ename": "ValueError",
     "evalue": "One or more of the specified variables cannot be found in this dataset",
     "output_type": "error",
     "traceback": [
      "\u001b[0;31m---------------------------------------------------------------------------\u001b[0m",
      "\u001b[0;31mValueError\u001b[0m                                Traceback (most recent call last)",
      "Cell \u001b[0;32mIn[9], line 22\u001b[0m\n\u001b[1;32m     20\u001b[0m     alpha_all_corrected \u001b[38;5;241m=\u001b[39m alpha_all_corrected\u001b[38;5;241m.\u001b[39mwhere(file_isf[\u001b[38;5;124m'\u001b[39m\u001b[38;5;124mISF_mask\u001b[39m\u001b[38;5;124m'\u001b[39m]\u001b[38;5;241m!=\u001b[39mkisf, alpha_kisf_lazero_corrected\u001b[38;5;241m.\u001b[39mreindex_like(alpha_all_corrected))\n\u001b[1;32m     21\u001b[0m     zGL_all_corrected \u001b[38;5;241m=\u001b[39m zGL_all_corrected\u001b[38;5;241m.\u001b[39mwhere(file_isf[\u001b[38;5;124m'\u001b[39m\u001b[38;5;124mISF_mask\u001b[39m\u001b[38;5;124m'\u001b[39m]\u001b[38;5;241m!=\u001b[39mkisf, zGL_kisf_lazero_corrected\u001b[38;5;241m.\u001b[39mreindex_like(alpha_all_corrected))\n\u001b[0;32m---> 22\u001b[0m alpha_all_corrected \u001b[38;5;241m=\u001b[39m \u001b[43malpha_all_corrected\u001b[49m\u001b[38;5;241;43m.\u001b[39;49m\u001b[43mwhere\u001b[49m\u001b[43m(\u001b[49m\u001b[43mnp\u001b[49m\u001b[38;5;241;43m.\u001b[39;49m\u001b[43misfinite\u001b[49m\u001b[43m(\u001b[49m\u001b[43malpha_all_corrected\u001b[49m\u001b[43m)\u001b[49m\u001b[43m,\u001b[49m\u001b[43m \u001b[49m\u001b[38;5;241;43m0\u001b[39;49m\u001b[43m)\u001b[49m\u001b[38;5;241;43m.\u001b[39;49m\u001b[43mdrop\u001b[49m\u001b[43m(\u001b[49m\u001b[38;5;124;43m'\u001b[39;49m\u001b[38;5;124;43mNisf\u001b[39;49m\u001b[38;5;124;43m'\u001b[39;49m\u001b[43m)\u001b[49m\n\u001b[1;32m     23\u001b[0m zGL_all_corrected \u001b[38;5;241m=\u001b[39m zGL_all_corrected\u001b[38;5;241m.\u001b[39mwhere(np\u001b[38;5;241m.\u001b[39misfinite(alpha_all_corrected), \u001b[38;5;241m0\u001b[39m)\u001b[38;5;241m.\u001b[39mdrop(\u001b[38;5;124m'\u001b[39m\u001b[38;5;124mNisf\u001b[39m\u001b[38;5;124m'\u001b[39m)\n",
      "File \u001b[0;32m~/miniconda3/envs/py38/lib/python3.8/site-packages/xarray/core/dataarray.py:3039\u001b[0m, in \u001b[0;36mDataArray.drop\u001b[0;34m(self, labels, dim, errors, **labels_kwargs)\u001b[0m\n\u001b[1;32m   3022\u001b[0m \u001b[38;5;28;01mdef\u001b[39;00m \u001b[38;5;21mdrop\u001b[39m(\n\u001b[1;32m   3023\u001b[0m     \u001b[38;5;28mself\u001b[39m: T_DataArray,\n\u001b[1;32m   3024\u001b[0m     labels: Mapping[Any, Any] \u001b[38;5;241m|\u001b[39m \u001b[38;5;28;01mNone\u001b[39;00m \u001b[38;5;241m=\u001b[39m \u001b[38;5;28;01mNone\u001b[39;00m,\n\u001b[0;32m   (...)\u001b[0m\n\u001b[1;32m   3028\u001b[0m     \u001b[38;5;241m*\u001b[39m\u001b[38;5;241m*\u001b[39mlabels_kwargs,\n\u001b[1;32m   3029\u001b[0m ) \u001b[38;5;241m-\u001b[39m\u001b[38;5;241m>\u001b[39m T_DataArray:\n\u001b[1;32m   3030\u001b[0m \u001b[38;5;250m    \u001b[39m\u001b[38;5;124;03m\"\"\"Backward compatible method based on `drop_vars` and `drop_sel`\u001b[39;00m\n\u001b[1;32m   3031\u001b[0m \n\u001b[1;32m   3032\u001b[0m \u001b[38;5;124;03m    Using either `drop_vars` or `drop_sel` is encouraged\u001b[39;00m\n\u001b[0;32m   (...)\u001b[0m\n\u001b[1;32m   3037\u001b[0m \u001b[38;5;124;03m    DataArray.drop_sel\u001b[39;00m\n\u001b[1;32m   3038\u001b[0m \u001b[38;5;124;03m    \"\"\"\u001b[39;00m\n\u001b[0;32m-> 3039\u001b[0m     ds \u001b[38;5;241m=\u001b[39m \u001b[38;5;28;43mself\u001b[39;49m\u001b[38;5;241;43m.\u001b[39;49m\u001b[43m_to_temp_dataset\u001b[49m\u001b[43m(\u001b[49m\u001b[43m)\u001b[49m\u001b[38;5;241;43m.\u001b[39;49m\u001b[43mdrop\u001b[49m\u001b[43m(\u001b[49m\u001b[43mlabels\u001b[49m\u001b[43m,\u001b[49m\u001b[43m \u001b[49m\u001b[43mdim\u001b[49m\u001b[43m,\u001b[49m\u001b[43m \u001b[49m\u001b[43merrors\u001b[49m\u001b[38;5;241;43m=\u001b[39;49m\u001b[43merrors\u001b[49m\u001b[43m,\u001b[49m\u001b[43m \u001b[49m\u001b[38;5;241;43m*\u001b[39;49m\u001b[38;5;241;43m*\u001b[39;49m\u001b[43mlabels_kwargs\u001b[49m\u001b[43m)\u001b[49m\n\u001b[1;32m   3040\u001b[0m     \u001b[38;5;28;01mreturn\u001b[39;00m \u001b[38;5;28mself\u001b[39m\u001b[38;5;241m.\u001b[39m_from_temp_dataset(ds)\n",
      "File \u001b[0;32m~/miniconda3/envs/py38/lib/python3.8/site-packages/xarray/core/dataset.py:5185\u001b[0m, in \u001b[0;36mDataset.drop\u001b[0;34m(self, labels, dim, errors, **labels_kwargs)\u001b[0m\n\u001b[1;32m   5179\u001b[0m \u001b[38;5;28;01mif\u001b[39;00m dim \u001b[38;5;129;01mis\u001b[39;00m \u001b[38;5;28;01mNone\u001b[39;00m \u001b[38;5;129;01mand\u001b[39;00m (is_scalar(labels) \u001b[38;5;129;01mor\u001b[39;00m \u001b[38;5;28misinstance\u001b[39m(labels, Iterable)):\n\u001b[1;32m   5180\u001b[0m     warnings\u001b[38;5;241m.\u001b[39mwarn(\n\u001b[1;32m   5181\u001b[0m         \u001b[38;5;124m\"\u001b[39m\u001b[38;5;124mdropping variables using `drop` will be deprecated; using drop_vars is encouraged.\u001b[39m\u001b[38;5;124m\"\u001b[39m,\n\u001b[1;32m   5182\u001b[0m         \u001b[38;5;167;01mPendingDeprecationWarning\u001b[39;00m,\n\u001b[1;32m   5183\u001b[0m         stacklevel\u001b[38;5;241m=\u001b[39m\u001b[38;5;241m2\u001b[39m,\n\u001b[1;32m   5184\u001b[0m     )\n\u001b[0;32m-> 5185\u001b[0m     \u001b[38;5;28;01mreturn\u001b[39;00m \u001b[38;5;28;43mself\u001b[39;49m\u001b[38;5;241;43m.\u001b[39;49m\u001b[43mdrop_vars\u001b[49m\u001b[43m(\u001b[49m\u001b[43mlabels\u001b[49m\u001b[43m,\u001b[49m\u001b[43m \u001b[49m\u001b[43merrors\u001b[49m\u001b[38;5;241;43m=\u001b[39;49m\u001b[43merrors\u001b[49m\u001b[43m)\u001b[49m\n\u001b[1;32m   5186\u001b[0m \u001b[38;5;28;01mif\u001b[39;00m dim \u001b[38;5;129;01mis\u001b[39;00m \u001b[38;5;129;01mnot\u001b[39;00m \u001b[38;5;28;01mNone\u001b[39;00m:\n\u001b[1;32m   5187\u001b[0m     warnings\u001b[38;5;241m.\u001b[39mwarn(\n\u001b[1;32m   5188\u001b[0m         \u001b[38;5;124m\"\u001b[39m\u001b[38;5;124mdropping labels using list-like labels is deprecated; using \u001b[39m\u001b[38;5;124m\"\u001b[39m\n\u001b[1;32m   5189\u001b[0m         \u001b[38;5;124m\"\u001b[39m\u001b[38;5;124mdict-like arguments with `drop_sel`, e.g. `ds.drop_sel(dim=[labels]).\u001b[39m\u001b[38;5;124m\"\u001b[39m,\n\u001b[1;32m   5190\u001b[0m         \u001b[38;5;167;01mDeprecationWarning\u001b[39;00m,\n\u001b[1;32m   5191\u001b[0m         stacklevel\u001b[38;5;241m=\u001b[39m\u001b[38;5;241m2\u001b[39m,\n\u001b[1;32m   5192\u001b[0m     )\n",
      "File \u001b[0;32m~/miniconda3/envs/py38/lib/python3.8/site-packages/xarray/core/dataset.py:5065\u001b[0m, in \u001b[0;36mDataset.drop_vars\u001b[0;34m(self, names, errors)\u001b[0m\n\u001b[1;32m   5063\u001b[0m     names \u001b[38;5;241m=\u001b[39m \u001b[38;5;28mset\u001b[39m(names)\n\u001b[1;32m   5064\u001b[0m \u001b[38;5;28;01mif\u001b[39;00m errors \u001b[38;5;241m==\u001b[39m \u001b[38;5;124m\"\u001b[39m\u001b[38;5;124mraise\u001b[39m\u001b[38;5;124m\"\u001b[39m:\n\u001b[0;32m-> 5065\u001b[0m     \u001b[38;5;28;43mself\u001b[39;49m\u001b[38;5;241;43m.\u001b[39;49m\u001b[43m_assert_all_in_dataset\u001b[49m\u001b[43m(\u001b[49m\u001b[43mnames\u001b[49m\u001b[43m)\u001b[49m\n\u001b[1;32m   5067\u001b[0m \u001b[38;5;66;03m# GH6505\u001b[39;00m\n\u001b[1;32m   5068\u001b[0m other_names \u001b[38;5;241m=\u001b[39m \u001b[38;5;28mset\u001b[39m()\n",
      "File \u001b[0;32m~/miniconda3/envs/py38/lib/python3.8/site-packages/xarray/core/dataset.py:5032\u001b[0m, in \u001b[0;36mDataset._assert_all_in_dataset\u001b[0;34m(self, names, virtual_okay)\u001b[0m\n\u001b[1;32m   5030\u001b[0m     bad_names \u001b[38;5;241m-\u001b[39m\u001b[38;5;241m=\u001b[39m \u001b[38;5;28mself\u001b[39m\u001b[38;5;241m.\u001b[39mvirtual_variables\n\u001b[1;32m   5031\u001b[0m \u001b[38;5;28;01mif\u001b[39;00m bad_names:\n\u001b[0;32m-> 5032\u001b[0m     \u001b[38;5;28;01mraise\u001b[39;00m \u001b[38;5;167;01mValueError\u001b[39;00m(\n\u001b[1;32m   5033\u001b[0m         \u001b[38;5;124m\"\u001b[39m\u001b[38;5;124mOne or more of the specified variables \u001b[39m\u001b[38;5;124m\"\u001b[39m\n\u001b[1;32m   5034\u001b[0m         \u001b[38;5;124m\"\u001b[39m\u001b[38;5;124mcannot be found in this dataset\u001b[39m\u001b[38;5;124m\"\u001b[39m\n\u001b[1;32m   5035\u001b[0m     )\n",
      "\u001b[0;31mValueError\u001b[0m: One or more of the specified variables cannot be found in this dataset"
     ]
    }
   ],
   "source": [
    "plume_charac = xr.open_dataset(outputpath_plumes+'BedMachine_4km_plume_characteristics.nc')\n",
    "\n",
    "alpha_all_corrected = plume_charac['alpha'].sel(option='lazero') * np.nan\n",
    "zGL_all_corrected = plume_charac['zGL'].sel(option='lazero') * np.nan\n",
    "\n",
    "for kisf in tqdm(file_isf.Nisf):\n",
    "    alpha_kisf_lazero = plume_charac['alpha'].sel(option='lazero').where(file_isf['ISF_mask']==kisf, drop=True).drop('Nisf')\n",
    "    alpha_kisf_local = plume_charac['alpha'].sel(option='local').where(file_isf['ISF_mask']==kisf, drop=True).drop('Nisf')\n",
    "    alpha_kisf_lazero_corrected = alpha_kisf_lazero.where(alpha_kisf_lazero > 0, alpha_kisf_local)\n",
    "\n",
    "    zGL_kisf_lazero = plume_charac['zGL'].sel(option='lazero').where(file_isf['ISF_mask']==kisf, drop=True).drop('Nisf')\n",
    "    zGL_kisf_local = plume_charac['zGL'].sel(option='local').where(file_isf['ISF_mask']==kisf, drop=True).drop('Nisf')\n",
    "\n",
    "    zGL_kisf_lazero_fillx = zGL_kisf_lazero.where(alpha_kisf_lazero != 0).interpolate_na(dim='x',method='nearest')\n",
    "    zGL_kisf_lazero_filly = zGL_kisf_lazero.where(alpha_kisf_lazero != 0).interpolate_na(dim='y',method='nearest')\n",
    "    zGL_kisf_lazero_maxboth = xr.concat([zGL_kisf_lazero_fillx,zGL_kisf_lazero_filly],dim='dim0').max('dim0')\n",
    "    #zGL_kisf_lazero_999_minboth = xr.concat([zGL_kisf_lazero_999_fillx,zGL_kisf_lazero_999_filly],dim='dim0').mean('dim0')\n",
    "    zGL_kisf_lazero_corrected = zGL_kisf_lazero_maxboth.where(np.isfinite(zGL_kisf_lazero))\n",
    "    \n",
    "    alpha_all_corrected = alpha_all_corrected.where(file_isf['ISF_mask']!=kisf, alpha_kisf_lazero_corrected.reindex_like(alpha_all_corrected))\n",
    "    zGL_all_corrected = zGL_all_corrected.where(file_isf['ISF_mask']!=kisf, zGL_kisf_lazero_corrected.reindex_like(alpha_all_corrected))\n",
    "alpha_all_corrected = alpha_all_corrected.where(np.isfinite(alpha_all_corrected), 0)\n",
    "zGL_all_corrected = zGL_all_corrected.where(np.isfinite(alpha_all_corrected), 0)"
   ]
  },
  {
   "cell_type": "code",
   "execution_count": 11,
   "id": "809c8c9b-0638-487d-9f7d-3e6afe0d9297",
   "metadata": {},
   "outputs": [],
   "source": [
    "plume_charac['alpha'] = xr.concat([plume_charac['alpha'].sel(option='cavity'),alpha_all_corrected,plume_charac['alpha'].sel(option='local')], dim='option', coords='minimal')\n",
    "plume_charac['zGL'] = xr.concat([plume_charac['zGL'].sel(option='cavity'),zGL_all_corrected,plume_charac['zGL'].sel(option='local')], dim='option', coords='minimal')\n"
   ]
  },
  {
   "cell_type": "code",
   "execution_count": 12,
   "id": "77dbd13b-c7b6-4a09-bb28-e02549aa2e13",
   "metadata": {},
   "outputs": [
    {
     "name": "stdout",
     "output_type": "stream",
     "text": [
      "------ WRITE TO NETCDF -------\n"
     ]
    }
   ],
   "source": [
    "print('------ WRITE TO NETCDF -------')\n",
    "plume_charac.to_netcdf(outputpath_plumes+'BedMachine_4km_plume_characteristics_corrected.nc')"
   ]
  },
  {
   "cell_type": "code",
   "execution_count": null,
   "id": "6e26da3b-8709-4ab9-8d91-d643085b69f2",
   "metadata": {},
   "outputs": [],
   "source": [
    "plt.figure()\n",
    "plume_charac['zGL'].sel(option='lazero').plot()"
   ]
  },
  {
   "cell_type": "code",
   "execution_count": null,
   "id": "78892332-2767-4951-af08-bf7451023446",
   "metadata": {},
   "outputs": [],
   "source": [
    "plt.figure()\n",
    "(plume_charac['alpha'].sel(option='local') == 0).plot()"
   ]
  },
  {
   "cell_type": "code",
   "execution_count": null,
   "id": "ac90b046-3f78-44a0-ad12-6e117d9695ad",
   "metadata": {},
   "outputs": [],
   "source": [
    "plume_charac_orig = xr.open_dataset(outputpath_plumes+'BedMachine_4km_plume_characteristics.nc')\n",
    "plume_charac_corr = xr.open_dataset(outputpath_plumes+'BedMachine_4km_plume_characteristic_corrected.nc')"
   ]
  },
  {
   "cell_type": "code",
   "execution_count": null,
   "id": "d622bf24-aab7-4dd6-a058-f11c7ca50220",
   "metadata": {},
   "outputs": [],
   "source": [
    "kisf = 66\n",
    "plt.figure()\n",
    "plume_charac_orig['zGL'].sel(option='lazero').where(whole_ds_tt['ISF_mask'] == kisf, drop=True).plot()\n",
    "plt.figure()\n",
    "plume_charac_corr['zGL'].sel(option='lazero').where(whole_ds_tt['ISF_mask'] == kisf, drop=True).plot()\n",
    "plt.figure()\n",
    "plume_charac_orig['alpha'].sel(option='lazero').where(whole_ds_tt['ISF_mask'] == kisf, drop=True).plot()\n",
    "plt.figure()\n",
    "plume_charac_corr['alpha'].sel(option='lazero').where(whole_ds_tt['ISF_mask'] == kisf, drop=True).plot()"
   ]
  },
  {
   "cell_type": "markdown",
   "id": "70e95135-68e8-47f7-8b51-9fd88410b406",
   "metadata": {},
   "source": [
    "DO THE MASKS FOR 8 KM GRID AS WELL"
   ]
  },
  {
   "cell_type": "code",
   "execution_count": null,
   "id": "d38018fd-897e-46ce-b978-1ae0a658abbf",
   "metadata": {},
   "outputs": [],
   "source": [
    "inputpath_data='/bettik/burgardc/DATA/SUMMER_PAPER/interim/'\n",
    "inputpath_metadata='/bettik/burgardc/SCRIPTS/basal_melt_param/data/raw/MASK_METADATA/'\n",
    "outputpath_mask ='/bettik/burgardc/DATA/SUMMER_PAPER/interim/ANTARCTICA_IS_MASKS/BedMachine_8km/'\n",
    "\n",
    "\n",
    "file_mask_orig = xr.open_dataset(inputpath_data+'BedMachine_v3_aggregated8km_allvars.nc')\n",
    "file_mask_orig_cut = uf.cut_domain_stereo(file_mask_orig, map_lim, map_lim)"
   ]
  },
  {
   "cell_type": "code",
   "execution_count": null,
   "id": "97501ab7-d4c8-47a6-80e9-fe7cb6f71b6c",
   "metadata": {},
   "outputs": [],
   "source": [
    "file_msk = file_mask_orig_cut['mask_0_1_2']  #0 = ocean, 1 = ice shelves, 2 = grounded ice"
   ]
  },
  {
   "cell_type": "code",
   "execution_count": null,
   "id": "9764457e-2104-4477-ab7c-f5c61bbce570",
   "metadata": {},
   "outputs": [],
   "source": [
    "file_bed_orig = -1*file_mask_orig_cut['bed']\n",
    "file_draft = (file_mask_orig_cut['thickness'] - file_mask_orig_cut['surface']).where(file_msk==1)\n",
    "file_isf_conc = file_mask_orig_cut['isf_conc']\n",
    "\n",
    "xx = file_msk['x']\n",
    "yy = file_msk['y']\n",
    "\n",
    "dx = abs(xx[1] - xx[0])\n",
    "dy = abs(yy[1] - yy[0])"
   ]
  },
  {
   "cell_type": "code",
   "execution_count": null,
   "id": "61f671e5-4121-4816-826a-94e20b28a7e8",
   "metadata": {},
   "outputs": [],
   "source": [
    "whole_ds = isfmf.create_mask_and_metadata_isf(file_msk, -1*file_bed_orig, file_msk, -1*file_draft, file_isf_conc, False, \n",
    "                                          inputpath_metadata+'lonlat_masks.txt', outputpath_mask, \n",
    "                                          inputpath_metadata + 'iceshelves_metadata_Nico.txt', \n",
    "                                          inputpath_metadata+'GL_flux_rignot13.csv', mouginot_basins=False, variable_geometry=False,\n",
    "                                          write_ismask = 'yes', write_groundmask = 'yes', write_outfile='yes',\n",
    "                                          ground_point ='no',dist=40, add_fac=120, connectivity=4, threshold=4,\n",
    "                                          write_metadata='yes')\n",
    "\n",
    "# Write to netcdf\n",
    "print('------- WRITE TO NETCDF -----------')\n",
    "whole_ds.to_netcdf(outputpath_mask + 'BedMachine_8km_isf_masks_and_info_and_distance_oneFRIS.nc','w')\n"
   ]
  },
  {
   "cell_type": "code",
   "execution_count": null,
   "id": "12f86da8-7b64-4dd0-9a91-a329ff79428c",
   "metadata": {},
   "outputs": [],
   "source": []
  }
 ],
 "metadata": {
  "kernelspec": {
   "display_name": "py38",
   "language": "python",
   "name": "py38"
  },
  "language_info": {
   "codemirror_mode": {
    "name": "ipython",
    "version": 3
   },
   "file_extension": ".py",
   "mimetype": "text/x-python",
   "name": "python",
   "nbconvert_exporter": "python",
   "pygments_lexer": "ipython3",
   "version": "3.8.12"
  }
 },
 "nbformat": 4,
 "nbformat_minor": 5
}
