{
 "cells": [
  {
   "cell_type": "code",
   "execution_count": null,
   "id": "0",
   "metadata": {},
   "outputs": [],
   "source": [
    "\"\"\"\n",
    "Created on Tue Apr 29 14:33 2025\n",
    "\n",
    "Check the new geometries from ElmerIce to assess how different they are from present\n",
    "\n",
    "Author: @claraburgard\n",
    "\n",
    "\n",
    "\"\"\""
   ]
  },
  {
   "cell_type": "code",
   "execution_count": null,
   "id": "1",
   "metadata": {},
   "outputs": [],
   "source": [
    "import xarray as xr\n",
    "import matplotlib.pyplot as plt\n",
    "import multimelt.useful_functions as uf"
   ]
  },
  {
   "cell_type": "code",
   "execution_count": null,
   "id": "2",
   "metadata": {},
   "outputs": [],
   "source": [
    "%matplotlib qt5"
   ]
  },
  {
   "cell_type": "code",
   "execution_count": null,
   "id": "3",
   "metadata": {},
   "outputs": [],
   "source": [
    "outputpath_ElmerIce='/bettik/burgardc/DATA/SUMMER_PAPER/interim/ELMERICE_NEWGEO/'\n",
    "inputpath_data='/bettik/burgardc/DATA/SUMMER_PAPER/interim/'"
   ]
  },
  {
   "cell_type": "code",
   "execution_count": null,
   "id": "4",
   "metadata": {},
   "outputs": [],
   "source": [
    "map_lim = [-3000000,3000000]\n",
    "file_BedMachine_orig = xr.open_dataset(inputpath_data+'BedMachine_v2_aggregated4km_allvars.nc')\n",
    "file_BedMachine_orig_cut = uf.cut_domain_stereo(file_BedMachine_orig, map_lim, map_lim)"
   ]
  },
  {
   "cell_type": "code",
   "execution_count": null,
   "id": "5",
   "metadata": {},
   "outputs": [],
   "source": [
    "yy_list = []\n",
    "draft_yy_list = []\n",
    "for yyear in [2025,2100,2150]:\n",
    "    file_yy = xr.open_dataset(outputpath_ElmerIce+'ElmerIce_4km_allvars_'+str(yyear)+'.nc')\n",
    "    yy_list.append(file_yy['mask_0_1_2'].assign_coords({'time': yyear}))\n",
    "    draft_yy_list.append((file_yy['thickness'] - file_yy['surface']).transpose('y','x').assign_coords({'time': yyear}))\n",
    "masks_yy1 = xr.concat(yy_list, dim='time')\n",
    "draft_yy1 = xr.concat(draft_yy_list, dim='time')"
   ]
  },
  {
   "cell_type": "code",
   "execution_count": null,
   "id": "6",
   "metadata": {},
   "outputs": [],
   "source": [
    "draft_yy1.mean('time').plot()"
   ]
  },
  {
   "cell_type": "code",
   "execution_count": null,
   "id": "7",
   "metadata": {},
   "outputs": [],
   "source": [
    "plt.figure()\n",
    "(masks_yy1 == 1).sum('time').plot()\n",
    "plt.title('With evolving SMB')"
   ]
  },
  {
   "cell_type": "code",
   "execution_count": null,
   "id": "8",
   "metadata": {},
   "outputs": [],
   "source": [
    "# with constant SMB\n",
    "yy_list = []\n",
    "for yyear in [2025,2100,2150]:\n",
    "    file_yy = xr.open_dataset(outputpath_ElmerIce+'ElmerIce_4km_allvars_'+str(yyear)+'_constantSMB.nc')\n",
    "    yy_list.append(file_yy['mask_0_1_2'].assign_coords({'time': yyear}))\n",
    "masks_yy2 = xr.concat(yy_list, dim='time')"
   ]
  },
  {
   "cell_type": "code",
   "execution_count": null,
   "id": "9",
   "metadata": {},
   "outputs": [],
   "source": [
    "plt.figure()\n",
    "(masks_yy2 == 1).sum('time').plot()\n",
    "plt.title('With constant SMB')"
   ]
  },
  {
   "cell_type": "code",
   "execution_count": null,
   "id": "10",
   "metadata": {},
   "outputs": [],
   "source": [
    "(masks_yy1 - masks_yy2).max('time').plot()"
   ]
  },
  {
   "cell_type": "markdown",
   "id": "11",
   "metadata": {},
   "source": [
    "With the 1m criterion"
   ]
  },
  {
   "cell_type": "code",
   "execution_count": null,
   "id": "12",
   "metadata": {},
   "outputs": [],
   "source": [
    "(draft_yy1.where(draft_yy1 > 0)).isel(time=1).plot(vmax=1)"
   ]
  },
  {
   "cell_type": "code",
   "execution_count": null,
   "id": "13",
   "metadata": {},
   "outputs": [],
   "source": [
    "((masks_yy1 == 1) & (draft_yy1 < 1)).sel(time=2100).plot()"
   ]
  },
  {
   "cell_type": "code",
   "execution_count": null,
   "id": "14",
   "metadata": {},
   "outputs": [],
   "source": [
    "plt.figure()\n",
    "draft_yy1.where((masks_yy1 == 1) & (draft_yy1 > 0)).sel(time=2100).plot(vmax=10) #vmax=1"
   ]
  },
  {
   "cell_type": "code",
   "execution_count": null,
   "id": "15",
   "metadata": {},
   "outputs": [],
   "source": [
    "plt.figure()\n",
    "draft_yy1.where((masks_yy1 == 1) & (draft_yy1 > 0)).sel(time=2100).plot() #vmax=1"
   ]
  },
  {
   "cell_type": "code",
   "execution_count": null,
   "id": "16",
   "metadata": {},
   "outputs": [],
   "source": []
  }
 ],
 "metadata": {
  "kernelspec": {
   "display_name": "py38",
   "language": "python",
   "name": "py38"
  },
  "language_info": {
   "codemirror_mode": {
    "name": "ipython",
    "version": 3
   },
   "file_extension": ".py",
   "mimetype": "text/x-python",
   "name": "python",
   "nbconvert_exporter": "python",
   "pygments_lexer": "ipython3",
   "version": "3.8.20"
  }
 },
 "nbformat": 4,
 "nbformat_minor": 5
}
