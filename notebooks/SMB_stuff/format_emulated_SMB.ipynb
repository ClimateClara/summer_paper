{
 "cells": [
  {
   "cell_type": "code",
   "execution_count": null,
   "id": "74ab9cd1-3087-4def-852d-efd1c1b2b703",
   "metadata": {},
   "outputs": [],
   "source": [
    "\"\"\"\n",
    "Created on Fri Nov 24 15:28 2023\n",
    "\n",
    "Format SMB from Nico\n",
    "\n",
    "Author: @claraburgard\n",
    "\n",
    "\"\"\""
   ]
  },
  {
   "cell_type": "code",
   "execution_count": 1,
   "id": "3df578ac-352b-486f-8578-884d4a530862",
   "metadata": {},
   "outputs": [],
   "source": [
    "import xarray as xr\n",
    "import pandas as pd\n",
    "import numpy as np\n",
    "from multimelt.constants import *\n",
    "import cftime\n",
    "from tqdm.notebook import tqdm"
   ]
  },
  {
   "cell_type": "code",
   "execution_count": 2,
   "id": "2401173e-9955-46e9-a381-ed5ef92edc99",
   "metadata": {},
   "outputs": [],
   "source": [
    "home_path = '/bettik/burgardc/'"
   ]
  },
  {
   "cell_type": "code",
   "execution_count": 3,
   "id": "4c3d474a-1218-49f8-8100-e8a754deefef",
   "metadata": {},
   "outputs": [],
   "source": [
    "inputpath_mask = home_path+'/DATA/SUMMER_PAPER/interim/ANTARCTICA_IS_MASKS/BedMachine_4km/'\n",
    "inputpath_SMB_orig = '/bettik/jourdai1/RCM_summer_paper/'\n",
    "inputpath_BedMachine='/bettik/burgardc/DATA/SUMMER_PAPER/interim/'\n",
    "inputpath_Chris = '/bettik/burgardc/DATA/SUMMER_PAPER/raw/TS_SMB_DATA/out/'\n",
    "outputpath_smb = '/bettik/burgardc/DATA/SUMMER_PAPER/interim/SMB_EMULATED/'"
   ]
  },
  {
   "cell_type": "code",
   "execution_count": 4,
   "id": "9fd6e387-d245-4d90-a974-f8de3bbb5a89",
   "metadata": {},
   "outputs": [],
   "source": [
    "file_isf_orig = xr.open_dataset(inputpath_mask+'BedMachinev2_4km_isf_masks_and_info_and_distance_oneFRIS.nc')\n",
    "nonnan_Nisf = file_isf_orig['Nisf'].where(np.isfinite(file_isf_orig['front_bot_depth_max']), drop=True).astype(int)\n",
    "file_isf_nonnan = file_isf_orig.sel(Nisf=nonnan_Nisf)\n",
    "rignot_isf = file_isf_nonnan.Nisf.where(np.isfinite(file_isf_nonnan['isf_area_rignot']), drop=True)\n",
    "file_isf = file_isf_nonnan.sel(Nisf=rignot_isf)"
   ]
  },
  {
   "cell_type": "code",
   "execution_count": 5,
   "id": "6d0e7523-a7fa-49fc-b00e-b3dffb58fb75",
   "metadata": {},
   "outputs": [],
   "source": [
    "file_BedMachine_orig = xr.open_dataset(inputpath_BedMachine+'BedMachine_v2_aggregated4km_allvars.nc').sel(x=file_isf.x,y=file_isf.y)\n",
    "isf_conc = file_BedMachine_orig['isf_conc']\n",
    "\n",
    "grid_cell_area_file = xr.open_dataset(inputpath_BedMachine+'gridarea_ISMIP6_AIS_4000m_grid.nc').sel(x=file_isf.x,y=file_isf.y)\n",
    "true_grid_cell_area = grid_cell_area_file['cell_area'].drop('lon').drop('lat')\n",
    "#cell_area_weight = true_grid_cell_area/(4000 * 4000)\n",
    "\n",
    "lon = file_isf.longitude\n",
    "lat = file_isf.latitude\n",
    "\n",
    "#xx = file_isf.x\n",
    "#yy = file_isf.y\n",
    "#dx = (xx[2] - xx[1]).values\n",
    "#dy = (yy[2] - yy[1]).values\n",
    "#grid_cell_area_const = abs(dx*dy)  \n",
    "grid_cell_area_weighted = isf_conc * true_grid_cell_area"
   ]
  },
  {
   "cell_type": "code",
   "execution_count": 6,
   "id": "d31aa6a6-b130-40c3-9c18-567dc49669fb",
   "metadata": {},
   "outputs": [],
   "source": [
    "ref_to_compare = xr.open_dataset(inputpath_Chris + 'ERA5_SMB_historical-1980-2014.nc')\n",
    "ref_to_compare['time'] = ref_to_compare['time'].dt.year"
   ]
  },
  {
   "cell_type": "code",
   "execution_count": 7,
   "id": "32df95e6-e12e-4d03-826d-1fd76e2bb93d",
   "metadata": {},
   "outputs": [],
   "source": [
    "scenario = 'ssp585'\n"
   ]
  },
  {
   "cell_type": "code",
   "execution_count": 8,
   "id": "141fddd4-574e-485c-84a1-706fb0018a9a",
   "metadata": {},
   "outputs": [
    {
     "name": "stderr",
     "output_type": "stream",
     "text": [
      "/home/burgardc/miniconda3/envs/py38/lib/python3.8/site-packages/xarray/core/indexing.py:1374: PerformanceWarning: Slicing is producing a large chunk. To accept the large\n",
      "chunk and silence this warning, set the option\n",
      "    >>> with dask.config.set(**{'array.slicing.split_large_chunks': False}):\n",
      "    ...     array[indexer]\n",
      "\n",
      "To avoid creating the large chunks, set the option\n",
      "    >>> with dask.config.set(**{'array.slicing.split_large_chunks': True}):\n",
      "    ...     array[indexer]\n",
      "  return self.array[key]\n",
      "/home/burgardc/miniconda3/envs/py38/lib/python3.8/site-packages/xarray/core/indexing.py:1374: PerformanceWarning: Slicing is producing a large chunk. To accept the large\n",
      "chunk and silence this warning, set the option\n",
      "    >>> with dask.config.set(**{'array.slicing.split_large_chunks': False}):\n",
      "    ...     array[indexer]\n",
      "\n",
      "To avoid creating the large chunks, set the option\n",
      "    >>> with dask.config.set(**{'array.slicing.split_large_chunks': True}):\n",
      "    ...     array[indexer]\n",
      "  return self.array[key]\n",
      "/home/burgardc/miniconda3/envs/py38/lib/python3.8/site-packages/xarray/core/indexing.py:1374: PerformanceWarning: Slicing is producing a large chunk. To accept the large\n",
      "chunk and silence this warning, set the option\n",
      "    >>> with dask.config.set(**{'array.slicing.split_large_chunks': False}):\n",
      "    ...     array[indexer]\n",
      "\n",
      "To avoid creating the large chunks, set the option\n",
      "    >>> with dask.config.set(**{'array.slicing.split_large_chunks': True}):\n",
      "    ...     array[indexer]\n",
      "  return self.array[key]\n"
     ]
    },
    {
     "data": {
      "application/vnd.jupyter.widget-view+json": {
       "model_id": "70e30c89ed1b4c7ab806b72b551c5e97",
       "version_major": 2,
       "version_minor": 0
      },
      "text/plain": [
       "  0%|          | 0/64 [00:00<?, ?it/s]"
      ]
     },
     "metadata": {},
     "output_type": "display_data"
    },
    {
     "name": "stderr",
     "output_type": "stream",
     "text": [
      "/home/burgardc/miniconda3/envs/py38/lib/python3.8/site-packages/xarray/core/indexing.py:1380: PerformanceWarning: Slicing is producing a large chunk. To accept the large\n",
      "chunk and silence this warning, set the option\n",
      "    >>> with dask.config.set(**{'array.slicing.split_large_chunks': False}):\n",
      "    ...     array[indexer]\n",
      "\n",
      "To avoid creating the large chunks, set the option\n",
      "    >>> with dask.config.set(**{'array.slicing.split_large_chunks': True}):\n",
      "    ...     array[indexer]\n",
      "  value = value[(slice(None),) * axis + (subkey,)]\n",
      "/home/burgardc/miniconda3/envs/py38/lib/python3.8/site-packages/xarray/core/indexing.py:1380: PerformanceWarning: Slicing is producing a large chunk. To accept the large\n",
      "chunk and silence this warning, set the option\n",
      "    >>> with dask.config.set(**{'array.slicing.split_large_chunks': False}):\n",
      "    ...     array[indexer]\n",
      "\n",
      "To avoid creating the large chunks, set the option\n",
      "    >>> with dask.config.set(**{'array.slicing.split_large_chunks': True}):\n",
      "    ...     array[indexer]\n",
      "  value = value[(slice(None),) * axis + (subkey,)]\n"
     ]
    }
   ],
   "source": [
    "for mod in ['ACCESS-CM2']:\n",
    "\n",
    "    if mod in ['CNRM-CM6-1','CNRM-ESM2-1']:\n",
    "        ens_run = 'r1i1p1f2'\n",
    "        to2300 = False\n",
    "    elif mod in ['GISS-E2-1-H']:\n",
    "        ens_run = 'r1i1p1f2'\n",
    "        to2300 = True\n",
    "    elif mod in ['ACCESS-CM2','ACCESS-ESM1-5','CESM2-WACCM','CanESM5','IPSL-CM6A-LR','MRI-ESM2-0']:\n",
    "        ens_run = 'r1i1p1f1'\n",
    "        to2300 = True\n",
    "    elif mod in ['MPI-ESM1-2-HR','GFDL-CM4','GFDL-ESM4']:\n",
    "        ens_run = 'r1i1p1f1'\n",
    "        to2300 = False\n",
    "    elif mod == 'UKESM1-0-LL':\n",
    "        ens_run = 'r4i1p1f2'\n",
    "        to2300 = True     \n",
    "    elif mod == 'CESM2':\n",
    "        ens_run = 'r11i1p1f1'\n",
    "        to2300 = False        \n",
    "\n",
    "\n",
    "    if scenario == 'historical':\n",
    "        yystart = 1980 #1850\n",
    "        yyend = 2014\n",
    "    elif scenario == 'ssp245':\n",
    "        yystart = 2015\n",
    "        yyend = 2100  \n",
    "    else:\n",
    "        if to2300:\n",
    "            yystart = 2015\n",
    "            yyend = 2299\n",
    "        else:\n",
    "            yystart = 2015\n",
    "            yyend = 2100   \n",
    "\n",
    "    SMB_clim = xr.open_dataset(inputpath_SMB_orig + 'MAR-'+mod+'-'+ens_run+'_smb_1995-2014_clim.nc',decode_times=False)\n",
    "    \n",
    "    if scenario == 'historical':\n",
    "        SMB_ano = xr.open_dataset(inputpath_SMB_orig + 'MAR-'+mod+'-'+ens_run+'_asmb_1980-2014_histo.nc',decode_times=False)\n",
    "    else:\n",
    "        SMB_ano = xr.open_mfdataset(inputpath_SMB_orig + 'MAR-'+mod+'-'+ens_run+'_asmb_*_'+scenario+'.nc',decode_times=False)\n",
    "        \n",
    "    SMB_ano['time'] = (SMB_ano['time'] + 1900).astype(int) \n",
    "    \n",
    "    sum_SMB = SMB_clim['smb'] + SMB_ano['asmb']\n",
    "    SMB_Gt_per_y = sum_SMB * grid_cell_area_weighted * yearinsec * (10**-12)\n",
    "    \n",
    "    int_SMB_list = []\n",
    "    for kisf in tqdm(file_isf.Nisf):\n",
    "        kisf_mask = file_isf['ISF_mask'] == kisf\n",
    "        integrated_SMB = SMB_Gt_per_y.where(kisf_mask, drop=True).sum(['x','y'])\n",
    "        int_SMB_list.append(integrated_SMB.assign_coords({'Nisf':kisf}))\n",
    "    int_SMB_all = xr.concat(int_SMB_list, dim='Nisf')\n",
    "    int_SMB_all.to_dataset(name='SMB').to_netcdf(outputpath_smb + mod +'_SMB_'+scenario+'-'+str(yystart)+'-'+str(yyend)+'.nc') "
   ]
  },
  {
   "cell_type": "code",
   "execution_count": 9,
   "id": "90d348ed-9ffe-4786-a86e-c765d3e5ebf9",
   "metadata": {},
   "outputs": [],
   "source": [
    "int_SMB_all = xr.open_dataset(outputpath_smb + mod +'_SMB_'+scenario+'-'+str(yystart)+'-'+str(yyend)+'.nc')"
   ]
  },
  {
   "cell_type": "code",
   "execution_count": 10,
   "id": "b0be01ff-e442-4785-9176-3699a4fadfb6",
   "metadata": {},
   "outputs": [
    {
     "data": {
      "text/plain": [
       "[<matplotlib.lines.Line2D at 0x7f6cb3929370>]"
      ]
     },
     "execution_count": 10,
     "metadata": {},
     "output_type": "execute_result"
    },
    {
     "data": {
      "image/png": "[encoded data removed]",
      "text/plain": [
       "<Figure size 640x480 with 1 Axes>"
      ]
     },
     "metadata": {},
     "output_type": "display_data"
    }
   ],
   "source": [
    "int_SMB_all['SMB'].sum('Nisf').plot()"
   ]
  },
  {
   "cell_type": "code",
   "execution_count": null,
   "id": "ed892c84-03bc-4d99-98e7-05c219c581be",
   "metadata": {},
   "outputs": [],
   "source": [
    "SMB_Gt_per_y.sum(['x','y']).mean()"
   ]
  },
  {
   "cell_type": "code",
   "execution_count": null,
   "id": "2453dd8c-68d0-4662-8443-1c9433e92b0f",
   "metadata": {},
   "outputs": [],
   "source": [
    "int_SMB_list = []\n",
    "for kisf in file_isf.Nisf:\n",
    "    kisf_mask = file_isf['ISF_mask'] == kisf\n",
    "    integrated_SMB = SMB_Gt_per_y.where(kisf_mask, drop=True).sum(['x','y'])\n",
    "    int_SMB_list.append(integrated_SMB.assign_coords({'Nisf':kisf}))\n",
    "int_SMB_all = xr.concat(int_SMB_list, dim='Nisf')"
   ]
  },
  {
   "cell_type": "code",
   "execution_count": null,
   "id": "0d64b824-98e6-4089-8a92-993d29b0b167",
   "metadata": {},
   "outputs": [],
   "source": [
    "int_SMB_all"
   ]
  },
  {
   "cell_type": "code",
   "execution_count": null,
   "id": "a1235c61-2f18-436a-b868-6986cf265fcd",
   "metadata": {},
   "outputs": [],
   "source": [
    "int_SMB_all.sel(Nisf=66).plot()\n",
    "ref_to_compare['SMB'].sel(Nisf=66).plot()"
   ]
  },
  {
   "cell_type": "code",
   "execution_count": null,
   "id": "92512b4d-b51f-4099-8d3d-8d40a7e3ec17",
   "metadata": {},
   "outputs": [],
   "source": [
    "def SMBcomponents_to_gt(SMB_array, nisf,mask,ice_frac,data_start=1980, data_end=2100):\n",
    "    \"\"\" This function returns a daily time series of absolute SMB component values, expressed as gigatons. 35 000 m = MAR resolution 1e12 factor to convert kg/m² in Gt \"\"\"\n",
    "    \n",
    "    ice=ice_frac.where(mask.values==nisf)\n",
    "    reso=4.*1000.\n",
    "    data = SMB_array*ice.values#*area.values\n",
    "    # Make sure only wanted time frame is used\n",
    "    #data = data.loc[str(data_start) + ‘-01-01’:str(data_end) + ‘-12-31’]\n",
    "    # Convert to gigatons and sum up spatially over the AIS\n",
    "    sum_spatial = data.sum(dim=['x', 'y']) * ((reso * reso) / (1e12))\n",
    "    return sum_spatial"
   ]
  },
  {
   "cell_type": "code",
   "execution_count": null,
   "id": "278c4de2-d02d-42b1-ab7d-8170ca69f886",
   "metadata": {},
   "outputs": [],
   "source": [
    "# =============================================================================\n",
    "# # OPEN the ICE MASK\n",
    "# =============================================================================\n",
    "mask = xr.open_dataset('BedMachinev2_4km_isf_masks_and_info_and_distance_oneFRIS.nc'\n",
    "            ,decode_times=False)\n",
    "\n",
    "isfarea=mask[\"isf_area_rignot\"]\n",
    "names=mask[\"isf_name\"]\n",
    "nisf_values=mask['Nisf'].values\n",
    "mask=mask['ISF_mask']\n",
    "\n",
    "ice=xr.open_dataset(\"BedMachine_v2_aggregated4km_allvars_cut.nc\")\n",
    "ice=ice[\"isf_conc\"]\n",
    "forcing='ACCESS1.3'\n",
    "yearstart=1980\n",
    "yearend=2100\n",
    "ssp='rcp8.5'"
   ]
  },
  {
   "cell_type": "code",
   "execution_count": null,
   "id": "2fb302c7-466e-4286-a7c0-2c50b70d2e50",
   "metadata": {},
   "outputs": [],
   "source": [
    "# =============================================================================\n",
    "# # Create the future xarray dataset\n",
    "# =============================================================================\n",
    "# Generate nisf and time dimensions\n",
    "# Generate nisf and time dimensions\n",
    "#nisf_values = np.arange(0, 64, 1) # From 0 to 216\n",
    "time_values = np.arange(yearstart, yearend+1, 1) # From 1980 to 2100 #will be converted later with a real time\n",
    "# Generate random data for the dataset\n",
    "data1 = np.random.rand(len(nisf_values), len(time_values))*0\n",
    "data2 = np.random.rand(len(nisf_values), len(time_values))*0\n",
    "dates = xr.cftime_range(start=str(yearstart)+\"-01-01\", end=str(yearend)+\"-12-31\", freq='AS')\n",
    "                        "
   ]
  },
  {
   "cell_type": "code",
   "execution_count": null,
   "id": "c57945ca-4e52-43f4-ba9c-32b4aa771c6f",
   "metadata": {},
   "outputs": [],
   "source": [
    "# =============================================================================\n",
    "# # OPEN the SMB file\n",
    "# =============================================================================\n",
    "var_list=[“SMB”,“RU”,“SF”,“RF”,“ME”]\n",
    "var_list=[“SMB”]\n",
    "for var in var_list:\n",
    "    MAR=xr.open_dataset(\"in/MAR3.11-\"+forcing+\"_\"+ssp+\"-onbedmachinev2-4km_\"+str(yearstart)+\"-\"+str(yearend)+\".nc\",decode_times=False)\n",
    "    MAR[“time”]=dates\n",
    "    # Create the xarray dataset\n",
    "    dataset = xr.Dataset(\n",
    "    data_vars={var: ([‘Nisf’, ‘time’], data1),\n",
    "          var+‘org’: ([‘Nisf’, ‘time’], data2)},\n",
    "    coords={‘Nisf’: nisf_values, ‘time’: dates})\n",
    "    \n",
    "    varint=MAR[var]\n",
    "    varorg=MAR[var+'org']\n",
    "    area=MAR[\"AREA\"]\n",
    "    newice=ice*area.values\n",
    "    MAR[\"time\"]=dates\n",
    "    del(MAR)\n",
    "    for nisf in range(0,len(nisf_values)):\n",
    "        print (nisf,nisf_values[nisf], names.values[nisf])\n",
    "        if np.isfinite(isfarea[nisf].values):\n",
    "            print (nisf, \"ok\")\n",
    "            dataset[var][nisf]=SMBcomponents_to_gt(varint, nisf_values[nisf],mask,newice).values\n",
    "            dataset[var+‘org’][nisf]=SMBcomponents_to_gt(varorg, nisf_values[nisf],mask,newice).values\n",
    "\n",
    "    # Save the xarray dataset to a NetCDF file\n",
    "    historical=dataset.sel(time=slice(\"1980-01-01\",\"2014-12-31\"))\n",
    "    if forcing != \"ERA5\":\n",
    "        ssp585=dataset.sel(time=slice(\"2015-01-01\",str(yearend)+\"-12-31\"))\n",
    "        output_filename = \"./out/\"+forcing+'_'+var+'_'+ssp+'-2015-'+str(yearend)+'.nc'\n",
    "        ssp585.to_netcdf(output_filename)\n",
    "        print(“Xarray dataset saved to “+output_filename)\n",
    "    \n",
    "    output_filename = \"./out/\"+forcing+'_'+var+‘_historical-‘+str(yearstart)+‘-2014.nc’\n",
    "    historical.to_netcdf(output_filename)\n",
    "    print(“Xarray dataset saved to “+output_filename)"
   ]
  }
 ],
 "metadata": {
  "kernelspec": {
   "display_name": "py38",
   "language": "python",
   "name": "py38"
  },
  "language_info": {
   "codemirror_mode": {
    "name": "ipython",
    "version": 3
   },
   "file_extension": ".py",
   "mimetype": "text/x-python",
   "name": "python",
   "nbconvert_exporter": "python",
   "pygments_lexer": "ipython3",
   "version": "3.8.12"
  }
 },
 "nbformat": 4,
 "nbformat_minor": 5
}
