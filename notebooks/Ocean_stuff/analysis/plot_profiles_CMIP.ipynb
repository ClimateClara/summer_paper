{
 "cells": [
  {
   "cell_type": "code",
   "execution_count": null,
   "id": "9f779562-ac5e-4cfe-a302-bd3d7a43ea4b",
   "metadata": {},
   "outputs": [],
   "source": [
    "\"\"\"\n",
    "Created on Mon Jul 17 14:42 2023\n",
    "\n",
    "This script is to check the T and S profiles from CMIP\n",
    "\n",
    "@author: Clara Burgard\n",
    "\"\"\""
   ]
  },
  {
   "cell_type": "code",
   "execution_count": null,
   "id": "0d780c98-f42e-4906-aff0-7fae754cd5f9",
   "metadata": {},
   "outputs": [],
   "source": [
    "import xarray as xr\n",
    "import numpy as np\n",
    "import pandas as pd\n",
    "from tqdm.notebook import tqdm\n",
    "import matplotlib.pyplot as plt\n",
    "import seaborn as sns\n",
    "from matplotlib import cm\n",
    "import cartopy\n",
    "import cartopy.crs as ccrs\n",
    "import matplotlib as mpl\n",
    "import cmocean\n",
    "import glob"
   ]
  },
  {
   "cell_type": "code",
   "execution_count": null,
   "id": "6bd6188b-9f65-4e7b-85ed-a1a1e926a845",
   "metadata": {},
   "outputs": [],
   "source": [
    "%matplotlib qt5"
   ]
  },
  {
   "cell_type": "markdown",
   "id": "7837e03d-e8d2-417f-84a1-810c1a296a04",
   "metadata": {},
   "source": [
    "READ IN DATA"
   ]
  },
  {
   "cell_type": "code",
   "execution_count": null,
   "id": "db40d283-4ca3-4560-87e7-845844cad793",
   "metadata": {},
   "outputs": [],
   "source": [
    "plot_path = '/bettik/burgardc/PLOTS/summer_paper_plots/'\n",
    "outputpath_simple_all = '/bettik/burgardc/SCRIPTS/basal_melt_param/data/interim/SIMPLE/nemo_5km_06161821/'\n"
   ]
  },
  {
   "cell_type": "code",
   "execution_count": null,
   "id": "90db1662-d81e-4648-bcdb-f2c4727981c7",
   "metadata": {},
   "outputs": [],
   "source": [
    "mod = 'CNRM-CM6-1' # 'EPM026','EPM031', 'EPM034'\n",
    "scenario = 'historical'\n",
    "\n",
    "if scenario == 'historical':\n",
    "    yystart = 1850\n",
    "    yyend = 2014\n",
    "else:\n",
    "    yystart = 2015\n",
    "    yyend = 2100"
   ]
  },
  {
   "cell_type": "code",
   "execution_count": null,
   "id": "8d2e06e8-655b-43f6-9483-987eb839e152",
   "metadata": {},
   "outputs": [],
   "source": [
    "inputpath_isf='/bettik/burgardc/DATA/SUMMER_PAPER/interim/ANTARCTICA_IS_MASKS/BedMachine_4km/'\n",
    "file_isf_orig = xr.open_dataset(inputpath_isf+'BedMachinev2_4km_isf_masks_and_info_and_distance_oneFRIS.nc')\n",
    "nonnan_Nisf = file_isf_orig['Nisf'].where(np.isfinite(file_isf_orig['front_bot_depth_max']), drop=True).astype(int)\n",
    "file_isf_nonnan = file_isf_orig.sel(Nisf=nonnan_Nisf)\n",
    "rignot_isf = file_isf_nonnan.Nisf.where(np.isfinite(file_isf_nonnan['isf_area_rignot']), drop=True)\n",
    "file_isf = file_isf_nonnan.sel(Nisf=rignot_isf)\n"
   ]
  },
  {
   "cell_type": "code",
   "execution_count": null,
   "id": "e32db240-45b2-4f05-b415-1cf2b22f80ab",
   "metadata": {},
   "outputs": [],
   "source": [
    "inputpath_profiles = '/bettik/burgardc/DATA/SUMMER_PAPER/interim/T_S_PROF/CMIP/'+mod+'/'\n",
    "file_T_list = []\n",
    "for yy in tqdm(range(yystart,yyend+1)):\n",
    "    file_T_yy = xr.open_dataset(inputpath_profiles+'T_mean_prof_50km_contshelf_'+mod+'_'+scenario+'_'+str(yy)+'.nc')\n",
    "    file_T_list.append(file_T_yy.assign_coords({'time': yy}))\n",
    "file_T = xr.concat(file_T_list, dim='time')\n",
    "\n",
    "file_S_list = []\n",
    "for yy in tqdm(range(yystart,yyend+1)):\n",
    "    file_S_yy = xr.open_dataset(inputpath_profiles+'S_mean_prof_50km_contshelf_'+mod+'_'+scenario+'_'+str(yy)+'.nc')\n",
    "    file_S_list.append(file_S_yy.assign_coords({'time': yy}))\n",
    "file_S = xr.concat(file_S_list, dim='time')\n",
    "\n",
    "file_TS = xr.merge([file_T,file_S])"
   ]
  },
  {
   "cell_type": "code",
   "execution_count": null,
   "id": "71e86dde-a7af-4335-a0c7-7d86ee7055b8",
   "metadata": {},
   "outputs": [],
   "source": [
    "file_TS_cut_depth = file_TS.where(file_TS.z >= -1*file_isf['front_bot_depth_max'])"
   ]
  },
  {
   "cell_type": "code",
   "execution_count": null,
   "id": "e9b7b302-1f5c-4a9b-8a97-6c9829630e31",
   "metadata": {},
   "outputs": [],
   "source": [
    "regions = ['Weddell','Bellingshausen','Amundsen','Ross','Eastern Ross','East 1','East 2','Dronning Maud Land']\n",
    "colors = ['red','orange','gold','mediumturquoise','maroon','magenta','cornflowerblue','grey','yellowgreen']\n",
    "\n",
    "reg_list = file_isf['region'].astype(str)\n",
    "\n",
    "alpha_val = 0.07\n",
    "\n",
    "f = plt.figure()\n",
    "f.set_size_inches(8.25*1.5, 8.25*1.5)\n",
    "\n",
    "ax={}\n",
    "\n",
    "leg_hdl = []\n",
    "\n",
    "i = 0\n",
    "\n",
    "for kisf in tqdm(file_isf.Nisf):\n",
    "\n",
    "    ax[i] = f.add_subplot(8,8,i+1)\n",
    "\n",
    "    for tt in file_TS.time:\n",
    "\n",
    "        T_data = file_TS_cut_depth['thetao'].sel(time = tt, Nisf = kisf)\n",
    "        ax[i].plot(T_data,T_data.z, color='grey', alpha=alpha_val)\n",
    "        \n",
    "\n",
    "\n",
    "        #leg, = plt.plot(mean_run,-1*file_TS_mean_all.depth, color=colors[n], linewidth=3)\n",
    "        #plt.fill_betweenx(-1*mean_run.depth, mean_run - std_run, mean_run + std_run, -1*mean_run.depth, alpha=0.2, color=colors[n])\n",
    "        #leg_hdl.append(leg)\n",
    "\n",
    "    ax[i].set_title(str(file_isf_orig['isf_name'].sel(Nisf=kisf).values))\n",
    "    #ax[i].set_xlim(-2,2)\n",
    "\n",
    "    i = i+1\n",
    "\n",
    "\n",
    "f.subplots_adjust(bottom=0.05, wspace=0.1)\n",
    "\n",
    "f.tight_layout()\n",
    "sns.despine()\n",
    "#f.savefig(plot_path + 'T_profiles_CMIP_'+mod+'_'+scenario+'_all.png', dpi=300)"
   ]
  },
  {
   "cell_type": "code",
   "execution_count": null,
   "id": "8e5360b4-240b-4d60-b0ae-2f9b7533d66f",
   "metadata": {},
   "outputs": [],
   "source": [
    "regions = ['Weddell','Bellingshausen','Amundsen','Ross','Eastern Ross','East 1','East 2','Dronning Maud Land']\n",
    "colors = ['red','orange','gold','mediumturquoise','maroon','magenta','cornflowerblue','grey','yellowgreen']\n",
    "\n",
    "reg_list = file_isf['region'].astype(str)\n",
    "\n",
    "alpha_val = 0.07\n",
    "\n",
    "f = plt.figure()\n",
    "f.set_size_inches(8.25*1.5, 8.25*1.5)\n",
    "\n",
    "ax={}\n",
    "\n",
    "leg_hdl = []\n",
    "\n",
    "i = 0\n",
    "\n",
    "for kisf in tqdm(file_isf.Nisf):\n",
    "\n",
    "    ax[i] = f.add_subplot(8,8,i+1)\n",
    "\n",
    "    for tt in file_TS.time:\n",
    "\n",
    "        T_data = file_TS_cut_depth['so'].sel(time = tt, Nisf = kisf)\n",
    "        ax[i].plot(T_data,T_data.z, color='grey', alpha=alpha_val)\n",
    "        \n",
    "\n",
    "\n",
    "        #leg, = plt.plot(mean_run,-1*file_TS_mean_all.depth, color=colors[n], linewidth=3)\n",
    "        #plt.fill_betweenx(-1*mean_run.depth, mean_run - std_run, mean_run + std_run, -1*mean_run.depth, alpha=0.2, color=colors[n])\n",
    "        #leg_hdl.append(leg)\n",
    "\n",
    "    ax[i].set_title(str(file_isf_orig['isf_name'].sel(Nisf=kisf).values))\n",
    "    #ax[i].set_xlim(33,35)\n",
    "\n",
    "    i = i+1\n",
    "\n",
    "\n",
    "f.subplots_adjust(bottom=0.05, wspace=0.1)\n",
    "\n",
    "f.tight_layout()\n",
    "sns.despine()\n",
    "#f.savefig(plot_path + 'S_profiles_CMIP_'+mod+'_'+scenario+'_all.png', dpi=300)"
   ]
  },
  {
   "cell_type": "code",
   "execution_count": null,
   "id": "b9a01a25-eb9d-4b27-bc7b-8647995a401b",
   "metadata": {},
   "outputs": [],
   "source": []
  }
 ],
 "metadata": {
  "kernelspec": {
   "display_name": "py38",
   "language": "python",
   "name": "py38"
  },
  "language_info": {
   "codemirror_mode": {
    "name": "ipython",
    "version": 3
   },
   "file_extension": ".py",
   "mimetype": "text/x-python",
   "name": "python",
   "nbconvert_exporter": "python",
   "pygments_lexer": "ipython3",
   "version": "3.8.12"
  }
 },
 "nbformat": 4,
 "nbformat_minor": 5
}
