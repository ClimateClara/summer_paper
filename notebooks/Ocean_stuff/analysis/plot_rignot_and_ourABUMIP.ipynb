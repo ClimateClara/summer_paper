{
 "cells": [
  {
   "cell_type": "code",
   "execution_count": null,
   "id": "cd62f0d4-269f-4558-ad19-70d3283e003e",
   "metadata": {},
   "outputs": [],
   "source": [
    "\"\"\"\n",
    "\n",
    "Compare the melt resulting from old and new tuning for last 10 years of\n",
    "OPM026,OPM031,ctrl94,isf94\n",
    "\n",
    "\"\"\""
   ]
  },
  {
   "cell_type": "code",
   "execution_count": null,
   "id": "e5ab8e28-8d20-4be9-9d90-5386ed55f06c",
   "metadata": {},
   "outputs": [],
   "source": [
    "import xarray as xr\n",
    "import numpy as np\n",
    "import pandas as pd\n",
    "from tqdm.notebook import tqdm\n",
    "import matplotlib.pyplot as plt\n",
    "import seaborn as sns\n",
    "from matplotlib import cm\n",
    "import cartopy\n",
    "import cartopy.crs as ccrs\n",
    "import matplotlib as mpl\n",
    "import cmocean\n",
    "import glob\n",
    "import seaborn as sns"
   ]
  },
  {
   "cell_type": "code",
   "execution_count": null,
   "id": "fdb36fad-cafc-4bc1-9c2c-5f1ef3dc42e9",
   "metadata": {},
   "outputs": [],
   "source": [
    "sns.set_context('paper')"
   ]
  },
  {
   "cell_type": "code",
   "execution_count": null,
   "id": "88614adc-09a2-453a-93ee-7fe766c921c8",
   "metadata": {},
   "outputs": [],
   "source": [
    "%matplotlib qt5"
   ]
  },
  {
   "cell_type": "code",
   "execution_count": null,
   "id": "933d8118-3fc7-435b-8e72-31115a4e82f4",
   "metadata": {},
   "outputs": [],
   "source": [
    "home_path = '/bettik/burgardc/'"
   ]
  },
  {
   "cell_type": "code",
   "execution_count": null,
   "id": "97e1b919-c39c-4b15-bb09-ad2fff94cd63",
   "metadata": {},
   "outputs": [],
   "source": [
    "inputpath_mask = home_path+'/DATA/SUMMER_PAPER/interim/ANTARCTICA_IS_MASKS/BedMachine_4km/'\n",
    "file_isf_orig = xr.open_dataset(inputpath_mask+'BedMachinev2_4km_isf_masks_and_info_and_distance_oneFRIS.nc')\n",
    "nonnan_Nisf = file_isf_orig['Nisf'].where(np.isfinite(file_isf_orig['front_bot_depth_max']), drop=True).astype(int)\n",
    "file_isf_nonnan = file_isf_orig.sel(Nisf=nonnan_Nisf)\n",
    "rignot_isf = file_isf_nonnan.Nisf.where(np.isfinite(file_isf_nonnan['isf_area_rignot']), drop=True)\n",
    "file_isf = file_isf_nonnan.sel(Nisf=rignot_isf)\n",
    "    \n",
    "plot_path='/bettik/burgardc/PLOTS/summer_paper_plots/'"
   ]
  },
  {
   "cell_type": "markdown",
   "id": "37f5e860-1dde-4788-bc04-6e50e9eb66d2",
   "metadata": {},
   "source": [
    "READ IN AND FORMAT RIGNOT TABLE"
   ]
  },
  {
   "cell_type": "code",
   "execution_count": null,
   "id": "e8c4b270-2f36-489d-b6cb-5f8df9014920",
   "metadata": {},
   "outputs": [],
   "source": [
    "inputpath_rignot = home_path+'/DATA/SUMMER_PAPER/raw/'\n",
    "file_rignot = pd.read_csv(inputpath_rignot + 'Rignot_data_withoutfootnotes.csv',delimiter=';',header=[0],index_col=0).dropna(how='all',axis=1)"
   ]
  },
  {
   "cell_type": "code",
   "execution_count": null,
   "id": "0383abae-250b-42e7-b950-b4f1887f08af",
   "metadata": {},
   "outputs": [],
   "source": [
    "rignot_list_val = []\n",
    "rignot_list_unc = []\n",
    "nisf_list = []\n",
    "for kisf in file_isf.Nisf:\n",
    "    nname = file_isf['isf_name'].sel(Nisf=kisf).values\n",
    "    \n",
    "    if nname == 'Vincennes Bay':\n",
    "        rignot_row = file_rignot.loc['Vincennes [8]']\n",
    "    elif nname == 'Roi Baudouin':\n",
    "        rignot_row = file_rignot.loc['Baudouin [9]']\n",
    "    elif nname == 'Atka':\n",
    "        rignot_row = file_rignot.loc['Atka [8]']\n",
    "    elif nname == 'Moscow Univ.':\n",
    "        rignot_row = file_rignot.loc['Moscow University']\n",
    "    elif nname == 'Tracy Tremenchus':\n",
    "        rignot_row = file_rignot.loc['Tracy/Tremenchus']\n",
    "    elif nname == 'Stancomb Brunt':\n",
    "        rignot_row = file_rignot.loc['Brunt/Stancomb']\n",
    "    elif nname == 'Filchner-Ronne':\n",
    "        rignot_row = file_rignot.loc['Ronne']\n",
    "    elif nname == 'Ross':\n",
    "        rignot_row = file_rignot.loc['Ross East']\n",
    "    else:\n",
    "        rignot_row = file_rignot.loc[nname]\n",
    "    GL_flux = xr.DataArray(data=np.array(rignot_row['Grounding line flux'].split('±')[0]))\n",
    "    GL_flux_unc = xr.DataArray(data=np.array(rignot_row['Grounding line flux'].split('±')[1]))\n",
    "    Calv_flux = xr.DataArray(data=np.array(rignot_row['Ice-front flux'].split('±')[0]))\n",
    "    Calv_flux_unc = xr.DataArray(data=np.array(rignot_row['Ice-front flux'].split('±')[1]))\n",
    "    SMB = xr.DataArray(data=np.array(rignot_row['SMB'].split('±')[0]))\n",
    "    SMB_unc = xr.DataArray(data=np.array(rignot_row['SMB'].split('±')[1]))\n",
    "    SMB = xr.DataArray(data=np.array(rignot_row['SMB'].split('±')[0]))\n",
    "    SMB_unc = xr.DataArray(data=np.array(rignot_row['SMB'].split('±')[1]))\n",
    "    BMB = xr.DataArray(data=np.array(rignot_row['B'].split('±')[0]))\n",
    "    BMB_unc = xr.DataArray(data=np.array(rignot_row['B'].split('±')[1]))\n",
    "    val_ds = xr.merge([GL_flux.rename('GL_flux'),Calv_flux.rename('Calv_flux'),SMB.rename('SMB'),BMB.rename('Basal_melt')]).assign_coords({'Nisf': kisf})\n",
    "    unc_ds = xr.merge([GL_flux_unc.rename('GL_flux'),Calv_flux_unc.rename('Calv_flux'),SMB_unc.rename('SMB'),BMB_unc.rename('Basal_melt')]).assign_coords({'Nisf': kisf})\n",
    "    rignot_list_val.append(val_ds.astype(float))\n",
    "    rignot_list_unc.append(unc_ds.astype(float))\n",
    "\n",
    "rignot_val_all = xr.concat(rignot_list_val, dim='Nisf')\n",
    "rignot_unc_all = xr.concat(rignot_list_unc, dim='Nisf')\n"
   ]
  },
  {
   "cell_type": "markdown",
   "id": "867505dc-d3e2-4d65-bd0d-385172408ea3",
   "metadata": {},
   "source": [
    "READ IN ABUMIP FLUX"
   ]
  },
  {
   "cell_type": "code",
   "execution_count": null,
   "id": "67899a21-75b1-4a64-b6c8-598973a56829",
   "metadata": {},
   "outputs": [],
   "source": [
    "inputpath_GL = '/bettik/burgardc/DATA/SUMMER_PAPER/processed/GL_FLUX/'\n",
    "\n",
    "GL_fluxes = xr.open_dataset(inputpath_GL + 'all_GL_fluxes.nc')"
   ]
  },
  {
   "cell_type": "markdown",
   "id": "391884b2-852a-4777-a2c0-1b14da518ff4",
   "metadata": {},
   "source": [
    "PLOT"
   ]
  },
  {
   "cell_type": "code",
   "execution_count": null,
   "id": "d8afe7ca-525a-49f8-a216-abe7422a2a2d",
   "metadata": {},
   "outputs": [],
   "source": [
    "sorted_isf_rignot = [11,69,43,28,12,57,\n",
    "                     70,44,29,13,58,71,45,30,14,\n",
    "                     59,72,46,\n",
    "                     31,\n",
    "                     15,61,73,47,32,16,48,33,17,62,49,34,18,63,74,\n",
    "                     50,35,19,64,\n",
    "                     10,\n",
    "                     36,20,65,51,37,\n",
    "                     22,38,52,23,66,53,39,24,\n",
    "                     67,40,54,75,25,41,\n",
    "                     26,42,55,68,60,27]"
   ]
  },
  {
   "cell_type": "code",
   "execution_count": null,
   "id": "802a0840-1350-411e-b6a3-3eb6c0d9848f",
   "metadata": {},
   "outputs": [],
   "source": [
    "GL_fluxes"
   ]
  },
  {
   "cell_type": "code",
   "execution_count": null,
   "id": "78fecff2-c911-4f1e-8501-2d1624a208c5",
   "metadata": {},
   "outputs": [],
   "source": [
    "plt.figure(figsize=(8.25, 8.25/2))\n",
    "\n",
    "for kisf in sorted_isf_rignot:\n",
    "    rignot_val_kisf = rignot_val_all.sel(Nisf=kisf)\n",
    "    flux_sum = - rignot_val_kisf['SMB'] + rignot_val_kisf['Calv_flux'] + rignot_val_kisf['Basal_melt']\n",
    "    ABUMIP_pres_kisf = GL_fluxes['flux_Gt_ABUMIP'].sel(Nisf=kisf)\n",
    "    \n",
    "    plt.scatter(kisf, flux_sum, c='deepskyblue')\n",
    "    plt.scatter(kisf, ABUMIP_pres_kisf, c='orange')\n",
    "plt.xticks(ticks=sorted_isf_rignot, labels=file_isf['isf_name'].sel(Nisf=sorted_isf_rignot).values,rotation=90)\n",
    "plt.tight_layout()\n",
    "sns.despine()"
   ]
  },
  {
   "cell_type": "code",
   "execution_count": null,
   "id": "1e44acd1-566e-4b63-8d2b-85284dd82825",
   "metadata": {},
   "outputs": [],
   "source": [
    "regions = ['Weddell','Bellingshausen','Amundsen','Ross','East 1','East 2','Dronning Maud Land']\n",
    "colors = ['red','orange','gold','mediumturquoise','maroon','magenta','cornflowerblue','grey','yellowgreen']\n",
    "\n",
    "f = plt.figure()\n",
    "f.set_size_inches(8.25*2, 8.25*2)\n",
    "\n",
    "ax={}\n",
    "\n",
    "leg_hdl = []\n",
    "\n",
    "i = 0\n",
    "\n",
    "\n",
    "for kisf in tqdm(sorted_isf_rignot):\n",
    "    \n",
    "    ax[i] = f.add_subplot(8,8,i+1)\n",
    "    \n",
    "    rignot_val_kisf = rignot_val_all.sel(Nisf=kisf)\n",
    "    flux_sum = - rignot_val_kisf['SMB'] + rignot_val_kisf['Calv_flux'] + rignot_val_kisf['Basal_melt']\n",
    "    \n",
    "    ax[i].axhline(y=GL_fluxes['flux_Gt_ABUMIP'].sel(Nisf=kisf), color='orange')\n",
    "    ax[i].axhline(y=rignot_val_kisf['GL_flux'], color='k')\n",
    "    ax[i].axhline(y=GL_fluxes['flux_Gt_ref'].sel(Nisf=kisf), color='grey',linestyle='--')\n",
    "    ax[i].axhline(y=flux_sum, color='deepskyblue')\n",
    "\n",
    "\n",
    "    \n",
    "\n",
    "\n",
    "\n",
    "    #if kisf == 23:\n",
    "    #    ax[i].set_title('Tracy Tremenchus')\n",
    "    #elif kisf == 24:\n",
    "    #    ax[i].set_title('Conger/Glenzer')\n",
    "    #elif kisf == 110:\n",
    "    #    ax[i].set_title('Ekström')\n",
    "    #else:\n",
    "    ax[i].set_title(str(file_isf_orig['isf_name'].sel(Nisf=kisf).values))\n",
    "    #ax[i].set_xlim(0,60)\n",
    "    #ax[i].axvline(x=30, c='k', linestyle='--')\n",
    "\n",
    "    i = i+1\n",
    "\n",
    "#f.legend()\n",
    "f.subplots_adjust(bottom=0.05, wspace=0.1)\n",
    "\n",
    "f.tight_layout()\n",
    "sns.despine()\n",
    "plt.savefig(plot_path+'comparison_rignot_ABUMIPref.pdf')"
   ]
  },
  {
   "cell_type": "code",
   "execution_count": null,
   "id": "d3dc59d9-9a28-4d04-9fcb-ac852d2dda4e",
   "metadata": {},
   "outputs": [],
   "source": []
  }
 ],
 "metadata": {
  "kernelspec": {
   "display_name": "py38",
   "language": "python",
   "name": "py38"
  },
  "language_info": {
   "codemirror_mode": {
    "name": "ipython",
    "version": 3
   },
   "file_extension": ".py",
   "mimetype": "text/x-python",
   "name": "python",
   "nbconvert_exporter": "python",
   "pygments_lexer": "ipython3",
   "version": "3.8.12"
  }
 },
 "nbformat": 4,
 "nbformat_minor": 5
}
