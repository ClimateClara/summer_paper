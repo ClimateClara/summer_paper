{
 "cells": [
  {
   "cell_type": "code",
   "execution_count": null,
   "id": "0",
   "metadata": {},
   "outputs": [],
   "source": [
    "\"\"\"\n",
    "\n",
    "Plot melt resulting from the different percentiles of parameters\n",
    "\n",
    "\"\"\""
   ]
  },
  {
   "cell_type": "code",
   "execution_count": null,
   "id": "1",
   "metadata": {},
   "outputs": [],
   "source": [
    "import xarray as xr\n",
    "import numpy as np\n",
    "import pandas as pd\n",
    "from tqdm.notebook import tqdm\n",
    "import matplotlib.pyplot as plt\n",
    "import seaborn as sns\n",
    "from matplotlib import cm\n",
    "import cartopy\n",
    "import cartopy.crs as ccrs\n",
    "import matplotlib as mpl\n",
    "import cmocean\n",
    "import glob"
   ]
  },
  {
   "cell_type": "code",
   "execution_count": null,
   "id": "2",
   "metadata": {},
   "outputs": [],
   "source": [
    "%matplotlib qt5"
   ]
  },
  {
   "cell_type": "code",
   "execution_count": null,
   "id": "3",
   "metadata": {},
   "outputs": [],
   "source": [
    "home_path = '/bettik/burgardc/'"
   ]
  },
  {
   "cell_type": "code",
   "execution_count": null,
   "id": "4",
   "metadata": {},
   "outputs": [],
   "source": [
    "inputpath_mask = '/bettik/burgardc/SCRIPTS/basal_melt_param/data/interim/ANTARCTICA_IS_MASKS/nemo_5km_OPM016/'\n",
    "file_isf_orig = xr.open_dataset(inputpath_mask+'nemo_5km_isf_masks_and_info_and_distance_new_oneFRIS.nc')\n",
    "home_path = '/bettik/burgardc/'\n",
    "plot_path='/bettik/burgardc/PLOTS/summer_paper_plots/'"
   ]
  },
  {
   "cell_type": "code",
   "execution_count": null,
   "id": "5",
   "metadata": {},
   "outputs": [],
   "source": [
    "ref_Gt_list = []\n",
    "ref_box1_list = []\n",
    "ds_melt_param_list = []\n",
    "file_isf_list = []\n",
    "ds_melt_pctl_nrun_list = []\n",
    "\n",
    "run_list = ['OPM006','OPM016','OPM018','OPM021']\n",
    "for n,nemo_run in enumerate(run_list):\n",
    "    outputpath_melt = home_path+'DATA/BASAL_MELT_PARAM/processed/MELT_RATE/nemo_5km_'+nemo_run+'/'\n",
    "    NEMO_melt_rates_1D = xr.open_dataset(outputpath_melt+'melt_rates_1D_NEMO_oneFRIS.nc')\n",
    "    ref_Gt = NEMO_melt_rates_1D['melt_Gt_per_y_tot']\n",
    "    ref_Gt_list.append(ref_Gt.assign_coords({'nemo_run': nemo_run}))\n",
    "        \n",
    "    # File mask\n",
    "    inputpath_mask = home_path+'DATA/BASAL_MELT_PARAM/interim/ANTARCTICA_IS_MASKS/nemo_5km_'+nemo_run+'/'\n",
    "    file_isf_orig = xr.open_dataset(inputpath_mask+'nemo_5km_isf_masks_and_info_and_distance_new_oneFRIS.nc')\n",
    "    nonnan_Nisf = file_isf_orig['Nisf'].where(np.isfinite(file_isf_orig['front_bot_depth_max']), drop=True).astype(int)\n",
    "    file_isf_nonnan = file_isf_orig.sel(Nisf=nonnan_Nisf)\n",
    "    large_isf = file_isf_nonnan['Nisf'].where(file_isf_nonnan['isf_area_here'] >= 2500, drop=True)\n",
    "    file_isf = file_isf_nonnan.sel(Nisf=large_isf)\n",
    "    file_isf_list.append(file_isf)\n",
    "    \n",
    "    ## Melt percentiles\n",
    "    outputpath_melt = home_path+'DATA/SUMMER_PAPER/processed/OCEAN_MELT_RATE_BT_RESULTS/nemo_5km_'+nemo_run+'/'\n",
    "    \n",
    "\n",
    "    ds_melt_pctl_param_list = []\n",
    "    for pctl in [5,33,50,66,95]:\n",
    "        melt_pctl_files = list(sorted(glob.glob(outputpath_melt+'eval_metrics_1D_*_oneFRIS_'+str(pctl).zfill(2)+'.nc')))\n",
    "\n",
    "        param_pctl_list = []\n",
    "\n",
    "        for mfilename in melt_pctl_files:\n",
    "            #paramname = mfilename[97:157].split('.')[0].split('_')[:-1]\n",
    "            paramname = mfilename[104:157].split('.')[0].split('_')[:-2]\n",
    "            #paramname = mfilename[105:157].split('.')[0].split('_')[:-1]\n",
    "            mparam = '_'.join(paramname)+'_tuned'\n",
    "            param_pctl_list.append(mparam)\n",
    "\n",
    "        ds_melt_pctl_param  = xr.open_mfdataset(melt_pctl_files, concat_dim='new_param', combine='nested', coords='minimal',compat='override')#, chunks={'x': chunksize, 'y': chunksize})\n",
    "        ds_melt_pctl_param = ds_melt_pctl_param.rename({'new_param': 'param'})\n",
    "        ds_melt_pctl_param = ds_melt_pctl_param.assign_coords(param=param_pctl_list)\n",
    "        ds_melt_pctl_param_Gt = ds_melt_pctl_param['melt_1D_Gt_per_y']\n",
    "        ds_melt_pctl_param_list.append(ds_melt_pctl_param_Gt.assign_coords({'pctl': pctl}))\n",
    "    \n",
    "    ds_melt_pctl_nrun = xr.concat(ds_melt_pctl_param_list, dim='pctl')\n",
    "    ds_melt_pctl_nrun_list.append(ds_melt_pctl_nrun.assign_coords({'nemo_run': nemo_run}))\n",
    "    \n",
    "file_isf_all = xr.concat(file_isf_list, dim='nemo_run').assign_coords({'nemo_run': run_list})\n",
    "ds_melt_param_pctl_all = xr.concat(ds_melt_pctl_nrun_list, dim='nemo_run').assign_coords({'nemo_run': run_list})\n",
    "ref_Gt_all = xr.concat(ref_Gt_list, dim='nemo_run').assign_coords({'nemo_run': run_list})\n"
   ]
  },
  {
   "cell_type": "code",
   "execution_count": null,
   "id": "6",
   "metadata": {},
   "outputs": [],
   "source": [
    "ds_melt_param_pctl_all.sel(nemo_run='OPM006', profile_domain=50)"
   ]
  },
  {
   "cell_type": "code",
   "execution_count": null,
   "id": "7",
   "metadata": {},
   "outputs": [],
   "source": [
    "nemo_run = 'OPM021'"
   ]
  },
  {
   "cell_type": "code",
   "execution_count": null,
   "id": "8",
   "metadata": {},
   "outputs": [],
   "source": [
    "regions = ['Weddell','Bellingshausen','Amundsen','Ross','East 1','East 2','Dronning Maud Land']\n",
    "colors = ['red','orange','gold','mediumturquoise','maroon','magenta','cornflowerblue','grey','yellowgreen']\n",
    "\n",
    "f = plt.figure()\n",
    "f.set_size_inches(8.25*1.5, 8.25*1.5)\n",
    "\n",
    "ax={}\n",
    "\n",
    "leg_hdl = []\n",
    "\n",
    "i = 0\n",
    "\n",
    "sorted_isf_all = [11,69,43,12,70,44,13,58,71,45,30,31,61,73,47,48,33,18,10,65,51,22,38,52,23,66,53,39,24,40,54,75,25,42,55]\n",
    "\n",
    "for kisf in tqdm(sorted_isf_all):\n",
    "    \n",
    "    ax[i] = f.add_subplot(6,6,i+1)\n",
    "    ax[i].plot(ref_Gt_all.time, ref_Gt_all.sel(nemo_run=nemo_run, Nisf=kisf), color='k')\n",
    "\n",
    "    \n",
    "    for n,mparam in enumerate(ds_melt_param_pctl_all.param):\n",
    "    #for n,nrun in enumerate(['ctrl94','isf94','isfru94']):\n",
    "        \n",
    "        for pctl in ds_melt_param_pctl_all.pctl:\n",
    "            ax[i].plot(ref_Gt_all.time, ds_melt_param_pctl_all.sel(nemo_run='OPM006', \n",
    "                                                                   profile_domain=50,\n",
    "                                                                   Nisf=kisf,\n",
    "                                                                   pctl=pctl,\n",
    "                                                                   param=mparam), color=colors[n],alpha=0.2)\n",
    "\n",
    "\n",
    "    #if kisf == 23:\n",
    "    #    ax[i].set_title('Tracy Tremenchus')\n",
    "    #elif kisf == 24:\n",
    "    #    ax[i].set_title('Conger/Glenzer')\n",
    "    #elif kisf == 110:\n",
    "    #    ax[i].set_title('Ekström')\n",
    "    #else:\n",
    "    ax[i].set_title(str(file_isf_orig['isf_name'].sel(Nisf=kisf).values))\n",
    "    #ax[i].set_xlim(0,60)\n",
    "    #ax[i].axvline(x=30, c='k', linestyle='--')\n",
    "\n",
    "    i = i+1\n",
    "\n",
    "\n",
    "f.subplots_adjust(bottom=0.05, wspace=0.1)\n",
    "\n",
    "f.tight_layout()\n",
    "sns.despine()\n",
    "plt.savefig(plot_path+'melt_pctl_timeseries_'+nemo_run+'.pdf')"
   ]
  },
  {
   "cell_type": "code",
   "execution_count": null,
   "id": "9",
   "metadata": {},
   "outputs": [],
   "source": [
    "ds_melt_param_pctl_all.param"
   ]
  },
  {
   "cell_type": "code",
   "execution_count": null,
   "id": "10",
   "metadata": {},
   "outputs": [],
   "source": [
    "ds_melt_param_all"
   ]
  },
  {
   "cell_type": "code",
   "execution_count": null,
   "id": "11",
   "metadata": {},
   "outputs": [],
   "source": [
    "ds_melt_param_all.sel(param='boxes_4_pismyes_picopno_tuned')"
   ]
  },
  {
   "cell_type": "code",
   "execution_count": null,
   "id": "12",
   "metadata": {},
   "outputs": [],
   "source": []
  }
 ],
 "metadata": {
  "kernelspec": {
   "display_name": "py38",
   "language": "python",
   "name": "py38"
  },
  "language_info": {
   "codemirror_mode": {
    "name": "ipython",
    "version": 3
   },
   "file_extension": ".py",
   "mimetype": "text/x-python",
   "name": "python",
   "nbconvert_exporter": "python",
   "pygments_lexer": "ipython3",
   "version": "3.8.12"
  }
 },
 "nbformat": 4,
 "nbformat_minor": 5
}
