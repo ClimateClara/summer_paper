{
 "cells": [
  {
   "cell_type": "code",
   "execution_count": null,
   "id": "0",
   "metadata": {},
   "outputs": [],
   "source": [
    "\"\"\"\n",
    "Prepare Davison et al. 2023 calving data to use in summer paper\n",
    "\n",
    "\"\"\""
   ]
  },
  {
   "cell_type": "code",
   "execution_count": null,
   "id": "1",
   "metadata": {},
   "outputs": [],
   "source": [
    "import xarray as xr\n",
    "import pandas as pd\n",
    "import seaborn as sns"
   ]
  },
  {
   "cell_type": "code",
   "execution_count": null,
   "id": "2",
   "metadata": {},
   "outputs": [],
   "source": [
    "sns.set_context('paper')"
   ]
  },
  {
   "cell_type": "code",
   "execution_count": null,
   "id": "3",
   "metadata": {},
   "outputs": [],
   "source": [
    "%matplotlib qt5"
   ]
  },
  {
   "cell_type": "markdown",
   "id": "4",
   "metadata": {},
   "source": [
    "READ IN DATA"
   ]
  },
  {
   "cell_type": "code",
   "execution_count": null,
   "id": "5",
   "metadata": {},
   "outputs": [],
   "source": [
    "home_path = '/bettik/burgardc/'"
   ]
  },
  {
   "cell_type": "code",
   "execution_count": null,
   "id": "6",
   "metadata": {},
   "outputs": [],
   "source": [
    "inputpath_mask = home_path+'/DATA/SUMMER_PAPER/interim/ANTARCTICA_IS_MASKS/BedMachine_4km/'\n",
    "file_isf_orig = xr.open_dataset(inputpath_mask+'BedMachinev2_4km_isf_masks_and_info_and_distance_oneFRIS.nc')\n",
    "nonnan_Nisf = file_isf_orig['Nisf'].where(np.isfinite(file_isf_orig['front_bot_depth_max']), drop=True).astype(int)\n",
    "file_isf_nonnan = file_isf_orig.sel(Nisf=nonnan_Nisf)\n",
    "rignot_isf = file_isf_nonnan.Nisf.where(np.isfinite(file_isf_nonnan['isf_area_rignot']), drop=True)\n",
    "file_isf = file_isf_nonnan.sel(Nisf=rignot_isf)\n",
    "    \n",
    "plot_path='/bettik/burgardc/PLOTS/summer_paper_plots/'"
   ]
  },
  {
   "cell_type": "code",
   "execution_count": null,
   "id": "7",
   "metadata": {},
   "outputs": [],
   "source": [
    "inputpath_davison = home_path+'/DATA/SUMMER_PAPER/raw/'\n",
    "file_davison = pd.read_csv(inputpath_rignot + 'Davison_calving.csv',delimiter=';',header=[1,2],index_col=0).dropna(how='all',axis=1)"
   ]
  },
  {
   "cell_type": "code",
   "execution_count": null,
   "id": "8",
   "metadata": {},
   "outputs": [],
   "source": [
    "file_davison"
   ]
  },
  {
   "cell_type": "code",
   "execution_count": null,
   "id": "9",
   "metadata": {},
   "outputs": [],
   "source": [
    "file_davison.index.values"
   ]
  },
  {
   "cell_type": "code",
   "execution_count": null,
   "id": "10",
   "metadata": {},
   "outputs": [],
   "source": [
    "calv_nisf_list = []\n",
    "for kisf in file_isf.Nisf:\n",
    "    nname = file_isf['isf_name'].sel(Nisf=kisf).values\n",
    "    \n",
    "    if nname == 'Filchner-Ronne':\n",
    "        davison_row = file_davison.loc['Filchner']\n",
    "        davison_row.loc['Filchner'] =  file_davison.loc['Filchner'].values + file_davison.loc['Ronne'].values\n",
    "    elif nname == 'Ross':\n",
    "        davison_row = file_davison.loc['Ross_East']\n",
    "        davison_row.loc['Ross_East'] =  file_davison.loc['Ross_East'].values + file_davison.loc['Ross_West'].values\n",
    "    elif nname == 'Vincennes Bay':\n",
    "        davison_row  = file_davison.loc['Vincennes_Bay']\n",
    "    elif nname == 'George VI':\n",
    "        davison_row  = file_davison.loc['George_VI']\n",
    "    elif nname == 'Larsen B':\n",
    "        davison_row  = file_davison.loc['Larsen_B']\n",
    "    elif nname == 'Larsen C':\n",
    "        davison_row  = file_davison.loc['Larsen_C']\n",
    "    elif nname == 'Larsen D':\n",
    "        davison_row  = file_davison.loc['Larsen_D']\n",
    "    elif nname == 'Larsen E':\n",
    "        davison_row  = file_davison.loc['Larsen_E']\n",
    "    elif nname == 'Larsen F':\n",
    "        davison_row  = file_davison.loc['Larsen_F']\n",
    "    elif nname == 'Larsen G':\n",
    "        davison_row  = file_davison.loc['Larsen_G']\n",
    "    elif nname == 'Prince Harald':\n",
    "        davison_row  = file_davison.loc['Prince_Harald']\n",
    "    elif nname == 'Moscow Univ.':\n",
    "        davison_row  = file_davison.loc['Moscow_University']\n",
    "    elif nname == 'Riiser-Larsen':\n",
    "        davison_row  = file_davison.loc['Riiser_Larsen']\n",
    "    elif nname == 'Conger/Glenzer':\n",
    "        davison_row  = file_davison.loc['Conger_Glenzer']\n",
    "    elif nname == 'Roi Baudouin':\n",
    "        davison_row  = file_davison.loc['Baudouin']\n",
    "    elif nname == 'Wilma/Robert/Downer':\n",
    "        davison_row  = file_davison.loc['Wilma_Robert_Downer']\n",
    "    elif nname == 'Tracy Tremenchus':\n",
    "        davison_row  = file_davison.loc['Tracy_Tremenchus']\n",
    "    elif nname == 'Rayner/Thyer':\n",
    "        davison_row  = file_davison.loc['Rayner_Thyer']\n",
    "    elif nname == 'Pine Island':\n",
    "        davison_row  = file_davison.loc['Pine_Island']\n",
    "    elif nname == 'Stancomb Brunt':\n",
    "        davison_row  = file_davison.loc['Brunt_Stancomb']\n",
    "    elif nname == 'Edward VIII':\n",
    "        davison_row  = file_davison.loc['Edward_VIII']\n",
    "    else:\n",
    "        davison_row  = file_davison.loc[nname]\n",
    "    \n",
    "    calv_list = []\n",
    "    for yy in range(1997,2022):\n",
    "        Calv_flux = xr.DataArray(data=np.array(davison_row[str(yy)+',5']['observed'].replace(\",\", \".\")).astype(float)).assign_coords({'time': yy})\n",
    "        calv_list.append(Calv_flux)\n",
    "        #Calv_flux_unc = xr.DataArray(data=np.array(davison_row['uncertainty']))\n",
    "\n",
    "    calv_alltime = xr.concat(calv_list, dim='time')    \n",
    "    calv_nisf_list.append(calv_alltime.assign_coords({'Nisf':kisf}))\n",
    "\n",
    "calv_all = xr.concat(calv_nisf_list, dim='Nisf')\n",
    "calv_all.to_dataset(name='calving_flux').to_netcdf(inputpath_davison + 'calving_flux_davison23.nc')"
   ]
  },
  {
   "cell_type": "code",
   "execution_count": null,
   "id": "11",
   "metadata": {},
   "outputs": [],
   "source": [
    "calv_all"
   ]
  },
  {
   "cell_type": "code",
   "execution_count": null,
   "id": "12",
   "metadata": {},
   "outputs": [],
   "source": []
  }
 ],
 "metadata": {
  "kernelspec": {
   "display_name": "py38",
   "language": "python",
   "name": "py38"
  },
  "language_info": {
   "codemirror_mode": {
    "name": "ipython",
    "version": 3
   },
   "file_extension": ".py",
   "mimetype": "text/x-python",
   "name": "python",
   "nbconvert_exporter": "python",
   "pygments_lexer": "ipython3",
   "version": "3.8.12"
  }
 },
 "nbformat": 4,
 "nbformat_minor": 5
}
