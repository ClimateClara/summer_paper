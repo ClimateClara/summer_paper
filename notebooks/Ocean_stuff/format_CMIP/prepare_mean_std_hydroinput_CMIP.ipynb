{
 "cells": [
  {
   "cell_type": "code",
   "execution_count": null,
   "id": "41fd4a90-1fd7-4207-813c-e00158cdc0bb",
   "metadata": {},
   "outputs": [],
   "source": [
    "\"\"\"\n",
    "Prepare cav mean and cav std\n",
    "\n",
    "\"\"\""
   ]
  },
  {
   "cell_type": "code",
   "execution_count": null,
   "id": "7d76886d-474c-43be-b0c7-4a5c2cbbc9b5",
   "metadata": {},
   "outputs": [],
   "source": [
    "import xarray as xr\n",
    "import summer_paper.useful_functions as uf\n",
    "from tqdm.notebook import tqdm\n",
    "\n",
    "import distributed"
   ]
  },
  {
   "cell_type": "markdown",
   "id": "250c17ec-1eb0-4a3d-9892-856ebacf24cc",
   "metadata": {},
   "source": [
    "READ IN DATA"
   ]
  },
  {
   "cell_type": "code",
   "execution_count": null,
   "id": "dd0f33f1-3ec8-4146-9292-1a9719efbc69",
   "metadata": {},
   "outputs": [],
   "source": [
    "#mod = 'MPI-ESM1-2-HR' # 'EPM026','EPM031', 'EPM034'\n",
    "scenario = 'ssp585'\n",
    "to2300 = False\n",
    "\n",
    "if scenario == 'historical':\n",
    "    yystart = 1980 #1850\n",
    "    yyend = 2014\n",
    "else:\n",
    "    if to2300:\n",
    "        yystart = 2015\n",
    "        yyend = 2300\n",
    "    else:\n",
    "        yystart = 2015\n",
    "        yyend = 2100   "
   ]
  },
  {
   "cell_type": "code",
   "execution_count": null,
   "id": "a054dec9-5878-4247-9ade-2133713fd901",
   "metadata": {},
   "outputs": [],
   "source": [
    "inputpath_data='/bettik/burgardc/DATA/SUMMER_PAPER/interim/'\n",
    "inputpath_mask='/bettik/burgardc/DATA/SUMMER_PAPER/interim/ANTARCTICA_IS_MASKS/BedMachine_4km/'"
   ]
  },
  {
   "cell_type": "code",
   "execution_count": null,
   "id": "eda166c5-3b10-4a93-af82-7bdb9b4a0a0d",
   "metadata": {},
   "outputs": [],
   "source": [
    "file_isf_orig = xr.open_dataset(inputpath_mask+'BedMachinev2_4km_isf_masks_and_info_and_distance_oneFRIS.nc')\n",
    "nonnan_Nisf = file_isf_orig['Nisf'].where(np.isfinite(file_isf_orig['front_bot_depth_max']), drop=True).astype(int)\n",
    "file_isf_nonnan = file_isf_orig.sel(Nisf=nonnan_Nisf)\n",
    "rignot_isf = file_isf_nonnan.Nisf.where(np.isfinite(file_isf_nonnan['isf_area_rignot']), drop=True)\n",
    "file_isf = file_isf_nonnan.sel(Nisf=rignot_isf)\n",
    "\n",
    "isf_stack_mask = uf.create_stacked_mask(file_isf['ISF_mask'], file_isf.Nisf, ['y','x'], 'mask_coord')"
   ]
  },
  {
   "cell_type": "code",
   "execution_count": null,
   "id": "3fc37f11-1190-4a4a-8f75-5f73e9216487",
   "metadata": {},
   "outputs": [],
   "source": [
    "grid_cell_area_file = xr.open_dataset(inputpath_data+'gridarea_ISMIP6_AIS_4000m_grid.nc').sel(x=file_isf.x,y=file_isf.y)\n",
    "true_grid_cell_area = grid_cell_area_file['cell_area']\n",
    "cell_area_weight = true_grid_cell_area/(4000 * 4000)\n"
   ]
  },
  {
   "cell_type": "code",
   "execution_count": null,
   "id": "ebf0fe8d-fb3d-42f4-9a3d-9ec29ab3925b",
   "metadata": {},
   "outputs": [],
   "source": [
    "file_BedMachine_orig = xr.open_dataset(inputpath_data+'BedMachine_v2_aggregated4km_allvars.nc')\n",
    "BedMachine = file_BedMachine_orig.sel(x=file_isf.x, y=file_isf.y)\n",
    "isf_conc = BedMachine['isf_conc']"
   ]
  },
  {
   "cell_type": "code",
   "execution_count": null,
   "id": "07ec5da8-0e3c-42bf-945d-556da07f129c",
   "metadata": {},
   "outputs": [],
   "source": [
    "for mod in ['ACCESS-ESM1-5','CESM2','CESM2-WACCM','CNRM-CM6-1','CNRM-ESM2-1',\n",
    "           'CanESM5','GFDL-CM4','GFDL-ESM4','GISS-E2-1-H','IPSL-CM6A-LR','MPI-ESM1-2-HR',\n",
    "           'MRI-ESM2-0','UKESM1-0-LL']: #'ACCESS-CM2',,:\n",
    "    \n",
    "    print(mod)\n",
    "    \n",
    "    if mod in ['CNRM-CM6-1','CNRM-ESM2-1']:\n",
    "        to2300 = False\n",
    "    elif mod in ['GISS-E2-1-H']:\n",
    "        to2300 = True\n",
    "    elif mod in ['ACCESS-CM2','ACCESS-ESM1-5','CESM2-WACCM','CanESM5','IPSL-CM6A-LR','MRI-ESM2-0']:\n",
    "        to2300 = True\n",
    "    elif mod in ['MPI-ESM1-2-HR','CESM2','GFDL-CM4','GFDL-ESM4']:\n",
    "        to2300 = False\n",
    "    elif mod == 'UKESM1-0-LL':\n",
    "        to2300 = True       \n",
    "        \n",
    "    if scenario == 'historical':\n",
    "        yystart = 1980 #1850\n",
    "        yyend = 2014\n",
    "    else:\n",
    "        if to2300:\n",
    "            yystart = 2015\n",
    "            yyend = 2300\n",
    "        else:\n",
    "            yystart = 2015\n",
    "            yyend = 2100   \n",
    "\n",
    "    inputpath_profiles='/bettik/burgardc/DATA/SUMMER_PAPER/interim/T_S_PROF/CMIP/'+mod+'/'\n",
    "    \n",
    "    # T and S extrapolated to ice draft depth\n",
    "    T_S_2D_isfdraft = xr.open_mfdataset(inputpath_profiles+'T_S_2D_fields_isf_draft_'+mod+'_'+scenario+'_*.nc', combine='nested', concat_dim='time') #, chunks=({'time': 5}\n",
    "\n",
    "    n = 0\n",
    "    for kisf in tqdm(file_isf.Nisf):\n",
    "        #conc_isf = uf.choose_isf(file_conc_cut['isfdraft_conc'],isf_stack_mask, kisf)\n",
    "        T_isf = uf.choose_isf(T_S_2D_isfdraft['theta_in'],isf_stack_mask, kisf).load()\n",
    "        S_isf = uf.choose_isf(T_S_2D_isfdraft['salinity_in'],isf_stack_mask, kisf).load()\n",
    "        cell_area_kisf = uf.choose_isf(cell_area_weight ,isf_stack_mask, kisf) \n",
    "        isf_conc_kisf = uf.choose_isf(isf_conc,isf_stack_mask, kisf) \n",
    "        weight_kisf = cell_area_kisf * isf_conc_kisf\n",
    "\n",
    "        T_mean_cav = uf.weighted_mean(T_isf, 'mask_coord', weight_kisf).to_dataset(name='T_mean')\n",
    "        S_mean_cav = uf.weighted_mean(S_isf, 'mask_coord', weight_kisf).to_dataset(name='S_mean')\n",
    "        T_std_cav = uf.weighted_std(T_isf, 'mask_coord', weight_kisf).to_dataset(name='T_std')\n",
    "        S_std_cav = uf.weighted_std(S_isf, 'mask_coord', weight_kisf).to_dataset(name='S_std')\n",
    "\n",
    "        all_TS_isf = xr.merge([T_mean_cav,S_mean_cav,T_std_cav,S_std_cav])\n",
    "        all_TS_isf_2D = all_TS_isf.where(T_isf).load()\n",
    "\n",
    "        if n == 0:\n",
    "            all_TS_all = all_TS_isf_2D.squeeze().drop('Nisf')\n",
    "        else:\n",
    "             all_TS_all =  all_TS_all.combine_first(all_TS_isf_2D).squeeze().drop('Nisf')\n",
    "        n = n+1\n",
    "\n",
    "        del all_TS_isf_2D\n",
    "\n",
    "    all_TS_all_unstacked = uf.bring_back_to_2D(all_TS_all)\n",
    "    all_TS_all_unstacked.to_netcdf(inputpath_profiles+'T_S_2D_meanstd_isf_draft_'+mod+'_'+scenario+'.nc')"
   ]
  },
  {
   "cell_type": "code",
   "execution_count": null,
   "id": "7249a514-2129-4b5c-90e2-920ece24e263",
   "metadata": {},
   "outputs": [],
   "source": [
    "TS_list = []\n",
    "for tt in range(yy_start,yy_end+1):\n",
    "    ds_tt = xr.open_dataset(inputpath_profiles+'T_S_2D_meanstd_isf_draft_'+mod+'_'+scenario+'_'+str(tt)+'.nc')\n",
    "    TS_list.append(ds_tt)\n",
    "TS_ds = xr.concat(TS_list, dim='time')\n",
    "TS_ds.to_netcdf(inputpath_profiles+'T_S_2D_meanstd_isf_draft_'+mod+'_'+scenario+'.nc')"
   ]
  },
  {
   "cell_type": "code",
   "execution_count": null,
   "id": "974e01e5-62c2-4170-b96e-5fa5cf0ce6db",
   "metadata": {},
   "outputs": [],
   "source": [
    "print('test')"
   ]
  },
  {
   "cell_type": "code",
   "execution_count": null,
   "id": "e9662c8f-5f6a-41b7-9c0e-b0cad2a7e828",
   "metadata": {},
   "outputs": [],
   "source": [
    "all_TS_all_unstacked.to_netcdf(inputpath_profiles+'T_S_2D_meanstd_isf_draft_'+mod+'_'+scenario+'.nc')"
   ]
  },
  {
   "cell_type": "code",
   "execution_count": null,
   "id": "49fb7c94-0a68-411d-a898-7bdb2ded6149",
   "metadata": {},
   "outputs": [],
   "source": []
  }
 ],
 "metadata": {
  "kernelspec": {
   "display_name": "py38",
   "language": "python",
   "name": "py38"
  },
  "language_info": {
   "codemirror_mode": {
    "name": "ipython",
    "version": 3
   },
   "file_extension": ".py",
   "mimetype": "text/x-python",
   "name": "python",
   "nbconvert_exporter": "python",
   "pygments_lexer": "ipython3",
   "version": "3.8.12"
  }
 },
 "nbformat": 4,
 "nbformat_minor": 5
}
