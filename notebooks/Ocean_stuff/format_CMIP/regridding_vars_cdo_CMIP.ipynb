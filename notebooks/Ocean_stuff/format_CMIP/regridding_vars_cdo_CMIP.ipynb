{
 "cells": [
  {
   "cell_type": "code",
   "execution_count": null,
   "id": "5099b9f3-6511-44b5-8639-6ebd183c35e0",
   "metadata": {},
   "outputs": [],
   "source": [
    "\"\"\"\n",
    "Created on Mon Jul 10 18:47 2023\n",
    "\n",
    "Use cdo to regrid the variables to 4km stereographic grid\n",
    "\n",
    "@author: Clara Burgard\n",
    "\"\"\""
   ]
  },
  {
   "cell_type": "code",
   "execution_count": null,
   "id": "441deaf0-e538-4e0b-8263-bddb3b8e5f3a",
   "metadata": {},
   "outputs": [],
   "source": [
    "import xarray as xr\n",
    "import numpy as np\n",
    "import matplotlib.pyplot as plt\n",
    "from pyproj import Transformer\n",
    "import pandas as pd\n",
    "import sys,os\n",
    "from cdo import Cdo\n",
    "import time\n",
    "from tqdm.notebook import tqdm"
   ]
  },
  {
   "cell_type": "code",
   "execution_count": null,
   "id": "4924080c-a3bb-46e7-b89f-dbce97ebc47e",
   "metadata": {},
   "outputs": [],
   "source": [
    "%matplotlib qt5"
   ]
  },
  {
   "cell_type": "code",
   "execution_count": null,
   "id": "d3e743e4-d513-49d7-bd96-b3f3525e020b",
   "metadata": {},
   "outputs": [],
   "source": [
    "cdo = Cdo()\n",
    "print('this is CDO version %s'%(cdo.version()))"
   ]
  },
  {
   "cell_type": "markdown",
   "id": "5fb75335-10e6-46bf-8bda-a6558130e4f4",
   "metadata": {},
   "source": [
    "PREPARE PATH AND CONTEXT"
   ]
  },
  {
   "cell_type": "code",
   "execution_count": null,
   "id": "b9783ab7-a139-4ef9-933e-c92da0ac507e",
   "metadata": {},
   "outputs": [],
   "source": [
    "homepath='/bettik/burgardc'\n",
    "\n",
    "mod='CNRM-CM6-1'\n",
    "scenario='historical'\n",
    "ens_run='r1i1p1f2'"
   ]
  },
  {
   "cell_type": "code",
   "execution_count": null,
   "id": "c898c873-a2c6-4781-b4c7-ffb736902243",
   "metadata": {},
   "outputs": [],
   "source": [
    "path1='/bettik/jourdai1/OCEAN_DATA_CMIP6_STEREO/'+mod+'/'\n",
    "path2=homepath+'/DATA/SUMMER_PAPER/raw/CMIP_DATA/'+mod+'/'\n",
    "path3=homepath+'/DATA/SUMMER_PAPER/interim/'"
   ]
  },
  {
   "cell_type": "code",
   "execution_count": null,
   "id": "6b5b846c-4193-4b2a-8664-a232c474a7ef",
   "metadata": {},
   "outputs": [],
   "source": [
    "ISMIP_4km = xr.open_dataset(path3+'ISMIP6_AIS_4000m_grid.nc')"
   ]
  },
  {
   "cell_type": "code",
   "execution_count": null,
   "id": "a8fa91c8-5615-4448-a732-024bfd382370",
   "metadata": {},
   "outputs": [],
   "source": [
    "ISMIP_8km = ISMIP_4km.sel(x=ISMIP_4km.x[::2],y=ISMIP_4km.y[::2])"
   ]
  },
  {
   "cell_type": "code",
   "execution_count": null,
   "id": "21fca01d-a16f-4e96-84fc-404d28cea1d7",
   "metadata": {},
   "outputs": [],
   "source": [
    "ISMIP_8km['cell_area'] = ISMIP_8km['cell_area']*0 + (8000. * 8000.)"
   ]
  },
  {
   "cell_type": "code",
   "execution_count": null,
   "id": "ca301a81-dd2a-4356-9acc-d48873dde305",
   "metadata": {},
   "outputs": [],
   "source": [
    "ISMIP_8km.to_netcdf(path3+'ISMIP6_AIS_8000m_grid_Clara.nc')"
   ]
  },
  {
   "cell_type": "code",
   "execution_count": null,
   "id": "dc095730-0c58-4f3a-8d80-7ff2347ed31a",
   "metadata": {},
   "outputs": [],
   "source": [
    "Nico_CMIP = xr.open_dataset(path1+'thetao_Oyr_'+mod+'_'+scenario+'_'+ens_run+'_185001_194912.nc')"
   ]
  },
  {
   "cell_type": "code",
   "execution_count": null,
   "id": "a0d7fc4e-58fb-404d-ae25-5307544af3ad",
   "metadata": {},
   "outputs": [],
   "source": [
    "Nico_CMIP"
   ]
  },
  {
   "cell_type": "markdown",
   "id": "bfda4fd8-eb40-45bc-af1a-bc25878169fc",
   "metadata": {},
   "source": [
    "REGRIDDING THETA"
   ]
  },
  {
   "cell_type": "code",
   "execution_count": null,
   "id": "18ad1375-0ae6-47c9-9ed6-d5496f79bade",
   "metadata": {},
   "outputs": [],
   "source": [
    "time_start = time.time()\n",
    "cdo.remapbil(path3+'ISMIP6_AIS_4000m_grid.nc', \n",
    "             input = path1+'thetao_Oyr_'+mod+'_'+scenario+'_'+ens_run+'_185001_194912.nc', \n",
    "             output = path2+'thetao_Oyr_'+mod+'_'+scenario+'_'+ens_run+'_185001_194912_4km.nc')\n",
    "timelength = time.time() - time_start"
   ]
  },
  {
   "cell_type": "markdown",
   "id": "7d3dda0a-43c4-4942-bc72-81ef3baa2325",
   "metadata": {},
   "source": [
    "REGRIDDING THE MELT AND MAKING LAND NAN FOR OTHER VARIABLES"
   ]
  },
  {
   "cell_type": "code",
   "execution_count": null,
   "id": "a9a40f9e-36ab-40ae-8ad9-ecf9e1b67c21",
   "metadata": {},
   "outputs": [],
   "source": [
    "file_tmask_3D = xr.open_dataset(outputpath + 'mask_variables_of_interest_Ant.nc')\n",
    "for yy in tqdm(range(yy_start,yy_end+1)):\n",
    "    var_of_int = xr.open_dataset(outputpath + 'variables_of_interest_'+str(yy)+'_Ant_wolandmask.nc')\n",
    "    \n",
    "    var_of_int = var_of_int.rename({'y_grid_T': 'y','x_grid_T': 'x','deptht': 'nav_lev' })\n",
    "    var_of_int[['thetao','so']].where(file_tmask_3D['tmask_2']).rename({\n",
    "    'nav_lev': 'deptht'}).to_netcdf(outputpath + 'variables_of_interest_'+str(yy)+'_Ant.nc')\n",
    "\n",
    "    melt_check = var_of_int['fwfisf'].where(file_tmask_3D['tmask'])\n",
    "    var_of_int['melt_cavity'] = melt_check.where(np.isfinite(melt_check),0)\n",
    "    check2 = -1*var_of_int[['melt_cavity']]\n",
    "    check2.to_netcdf(outputpath+'cavity_melt_'+str(yy)+'_Ant.nc')\n",
    "    \n",
    "    "
   ]
  },
  {
   "cell_type": "code",
   "execution_count": null,
   "id": "4b853010-a47a-42ac-970f-102994b87d0d",
   "metadata": {},
   "outputs": [],
   "source": [
    "for yy in tqdm(range(yy_start,yy_end+1)):\n",
    "    #print('computing ',yy)\n",
    "    time_start = time.time()\n",
    "    cdo.remapbil(outputpath+'stereo_grid.nc', input = outputpath+'cavity_melt_'+str(yy)+'_Ant.nc', output = outputpath+'cavity_melt_'+str(yy)+'_Ant_stereo.nc')\n",
    "    timelength = time.time() - time_start\n",
    "    #print(timelength)"
   ]
  },
  {
   "cell_type": "markdown",
   "id": "3390c81b-c95d-42fc-9f3f-afc4ce1f828f",
   "metadata": {},
   "source": [
    "REGRIDDING ALL OTHER VARIABLES OF INTEREST"
   ]
  },
  {
   "cell_type": "code",
   "execution_count": null,
   "id": "fa7fb8fe-bccc-4f1b-9f5f-596384c2cc1b",
   "metadata": {},
   "outputs": [],
   "source": [
    "#for yy in tqdm(range(yy_start,yy_end+1)): #restart at 1998\n",
    "for yy in tqdm(range(2093,yy_end+1)): #\n",
    "    print('computing ',yy)\n",
    "    time_start = time.time()\n",
    "    cdo.remapbil(outputpath+'stereo_grid.nc', input = outputpath+'variables_of_interest_'+str(yy)+'_Ant.nc', output = outputpath+'variables_of_interest_'+str(yy)+'_Ant_stereo.nc')\n",
    "    timelength = time.time() - time_start\n",
    "    print(timelength)"
   ]
  },
  {
   "cell_type": "markdown",
   "id": "c7da1bbe-36c0-40df-9da2-4a9d609aba97",
   "metadata": {},
   "source": [
    "FINISHED? GOOD! THEN YOU ARE READY TO GO TO THE PRE-PROCESSING OF THE MASKS AND TEMPERATURE & SALINITY PROFILES =)"
   ]
  },
  {
   "cell_type": "code",
   "execution_count": null,
   "id": "381dc2af-59cd-406d-94ae-3dfcdb3af1cb",
   "metadata": {},
   "outputs": [],
   "source": []
  }
 ],
 "metadata": {
  "kernelspec": {
   "display_name": "py38",
   "language": "python",
   "name": "py38"
  },
  "language_info": {
   "codemirror_mode": {
    "name": "ipython",
    "version": 3
   },
   "file_extension": ".py",
   "mimetype": "text/x-python",
   "name": "python",
   "nbconvert_exporter": "python",
   "pygments_lexer": "ipython3",
   "version": "3.8.12"
  }
 },
 "nbformat": 4,
 "nbformat_minor": 5
}
