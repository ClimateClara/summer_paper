{
 "cells": [
  {
   "cell_type": "code",
   "execution_count": null,
   "id": "0",
   "metadata": {},
   "outputs": [],
   "source": [
    "\"\"\"\n",
    "Created on Mon Jul 10 18:47 2023\n",
    "\n",
    "Use cdo to regrid the variables to 4km stereographic grid\n",
    "\n",
    "@author: Clara Burgard\n",
    "\"\"\""
   ]
  },
  {
   "cell_type": "code",
   "execution_count": null,
   "id": "1",
   "metadata": {},
   "outputs": [],
   "source": [
    "import xarray as xr\n",
    "import numpy as np\n",
    "import matplotlib.pyplot as plt\n",
    "from pyproj import Transformer\n",
    "import pandas as pd\n",
    "import sys,os\n",
    "from cdo import Cdo\n",
    "import time\n",
    "from tqdm.notebook import tqdm"
   ]
  },
  {
   "cell_type": "code",
   "execution_count": null,
   "id": "2",
   "metadata": {},
   "outputs": [],
   "source": [
    "%matplotlib qt5"
   ]
  },
  {
   "cell_type": "code",
   "execution_count": null,
   "id": "3",
   "metadata": {},
   "outputs": [],
   "source": [
    "cdo = Cdo()\n",
    "print('this is CDO version %s'%(cdo.version()))"
   ]
  },
  {
   "cell_type": "markdown",
   "id": "4",
   "metadata": {},
   "source": [
    "PREPARE PATH AND CONTEXT"
   ]
  },
  {
   "cell_type": "code",
   "execution_count": null,
   "id": "5",
   "metadata": {},
   "outputs": [],
   "source": [
    "homepath='/bettik/burgardc'\n",
    "\n",
    "mod='CNRM-CM6-1'\n",
    "scenario='historical'\n",
    "ens_run='r1i1p1f2'"
   ]
  },
  {
   "cell_type": "code",
   "execution_count": null,
   "id": "6",
   "metadata": {},
   "outputs": [],
   "source": [
    "path1='/bettik/jourdai1/OCEAN_DATA_CMIP6_STEREO/'+mod+'/'\n",
    "path2=homepath+'/DATA/SUMMER_PAPER/raw/CMIP_DATA/'+mod+'/'\n",
    "path3=homepath+'/DATA/SUMMER_PAPER/interim/'"
   ]
  },
  {
   "cell_type": "code",
   "execution_count": null,
   "id": "7",
   "metadata": {},
   "outputs": [],
   "source": [
    "ISMIP_4km = xr.open_dataset(path3+'ISMIP6_AIS_4000m_grid.nc')"
   ]
  },
  {
   "cell_type": "code",
   "execution_count": null,
   "id": "8",
   "metadata": {},
   "outputs": [],
   "source": [
    "ISMIP_8km = ISMIP_4km.sel(x=ISMIP_4km.x[::2],y=ISMIP_4km.y[::2])"
   ]
  },
  {
   "cell_type": "code",
   "execution_count": null,
   "id": "9",
   "metadata": {},
   "outputs": [],
   "source": [
    "ISMIP_8km['cell_area'] = ISMIP_8km['cell_area']*0 + (8000. * 8000.)"
   ]
  },
  {
   "cell_type": "code",
   "execution_count": null,
   "id": "10",
   "metadata": {},
   "outputs": [],
   "source": [
    "ISMIP_8km.to_netcdf(path3+'ISMIP6_AIS_8000m_grid_Clara.nc')"
   ]
  },
  {
   "cell_type": "code",
   "execution_count": null,
   "id": "11",
   "metadata": {},
   "outputs": [],
   "source": [
    "Nico_CMIP = xr.open_dataset(path1+'thetao_Oyr_'+mod+'_'+scenario+'_'+ens_run+'_185001_194912.nc')"
   ]
  },
  {
   "cell_type": "code",
   "execution_count": null,
   "id": "12",
   "metadata": {},
   "outputs": [],
   "source": [
    "Nico_CMIP"
   ]
  },
  {
   "cell_type": "markdown",
   "id": "13",
   "metadata": {},
   "source": [
    "REGRIDDING THETA"
   ]
  },
  {
   "cell_type": "code",
   "execution_count": null,
   "id": "14",
   "metadata": {},
   "outputs": [],
   "source": [
    "time_start = time.time()\n",
    "cdo.remapbil(path3+'ISMIP6_AIS_4000m_grid.nc', \n",
    "             input = path1+'thetao_Oyr_'+mod+'_'+scenario+'_'+ens_run+'_185001_194912.nc', \n",
    "             output = path2+'thetao_Oyr_'+mod+'_'+scenario+'_'+ens_run+'_185001_194912_4km.nc')\n",
    "timelength = time.time() - time_start"
   ]
  },
  {
   "cell_type": "markdown",
   "id": "15",
   "metadata": {},
   "source": [
    "REGRIDDING THE MELT AND MAKING LAND NAN FOR OTHER VARIABLES"
   ]
  },
  {
   "cell_type": "code",
   "execution_count": null,
   "id": "16",
   "metadata": {},
   "outputs": [],
   "source": [
    "file_tmask_3D = xr.open_dataset(outputpath + 'mask_variables_of_interest_Ant.nc')\n",
    "for yy in tqdm(range(yy_start,yy_end+1)):\n",
    "    var_of_int = xr.open_dataset(outputpath + 'variables_of_interest_'+str(yy)+'_Ant_wolandmask.nc')\n",
    "    \n",
    "    var_of_int = var_of_int.rename({'y_grid_T': 'y','x_grid_T': 'x','deptht': 'nav_lev' })\n",
    "    var_of_int[['thetao','so']].where(file_tmask_3D['tmask_2']).rename({\n",
    "    'nav_lev': 'deptht'}).to_netcdf(outputpath + 'variables_of_interest_'+str(yy)+'_Ant.nc')\n",
    "\n",
    "    melt_check = var_of_int['fwfisf'].where(file_tmask_3D['tmask'])\n",
    "    var_of_int['melt_cavity'] = melt_check.where(np.isfinite(melt_check),0)\n",
    "    check2 = -1*var_of_int[['melt_cavity']]\n",
    "    check2.to_netcdf(outputpath+'cavity_melt_'+str(yy)+'_Ant.nc')\n",
    "    \n",
    "    "
   ]
  },
  {
   "cell_type": "code",
   "execution_count": null,
   "id": "17",
   "metadata": {},
   "outputs": [],
   "source": [
    "for yy in tqdm(range(yy_start,yy_end+1)):\n",
    "    #print('computing ',yy)\n",
    "    time_start = time.time()\n",
    "    cdo.remapbil(outputpath+'stereo_grid.nc', input = outputpath+'cavity_melt_'+str(yy)+'_Ant.nc', output = outputpath+'cavity_melt_'+str(yy)+'_Ant_stereo.nc')\n",
    "    timelength = time.time() - time_start\n",
    "    #print(timelength)"
   ]
  },
  {
   "cell_type": "markdown",
   "id": "18",
   "metadata": {},
   "source": [
    "REGRIDDING ALL OTHER VARIABLES OF INTEREST"
   ]
  },
  {
   "cell_type": "code",
   "execution_count": null,
   "id": "19",
   "metadata": {},
   "outputs": [],
   "source": [
    "#for yy in tqdm(range(yy_start,yy_end+1)): #restart at 1998\n",
    "for yy in tqdm(range(2093,yy_end+1)): #\n",
    "    print('computing ',yy)\n",
    "    time_start = time.time()\n",
    "    cdo.remapbil(outputpath+'stereo_grid.nc', input = outputpath+'variables_of_interest_'+str(yy)+'_Ant.nc', output = outputpath+'variables_of_interest_'+str(yy)+'_Ant_stereo.nc')\n",
    "    timelength = time.time() - time_start\n",
    "    print(timelength)"
   ]
  },
  {
   "cell_type": "markdown",
   "id": "20",
   "metadata": {},
   "source": [
    "FINISHED? GOOD! THEN YOU ARE READY TO GO TO THE PRE-PROCESSING OF THE MASKS AND TEMPERATURE & SALINITY PROFILES =)"
   ]
  },
  {
   "cell_type": "code",
   "execution_count": null,
   "id": "21",
   "metadata": {},
   "outputs": [],
   "source": []
  }
 ],
 "metadata": {
  "kernelspec": {
   "display_name": "py38",
   "language": "python",
   "name": "py38"
  },
  "language_info": {
   "codemirror_mode": {
    "name": "ipython",
    "version": 3
   },
   "file_extension": ".py",
   "mimetype": "text/x-python",
   "name": "python",
   "nbconvert_exporter": "python",
   "pygments_lexer": "ipython3",
   "version": "3.8.12"
  }
 },
 "nbformat": 4,
 "nbformat_minor": 5
}
