{
 "cells": [
  {
   "cell_type": "code",
   "execution_count": null,
   "id": "hindu-cleaning",
   "metadata": {},
   "outputs": [],
   "source": [
    "\"\"\"\n",
    "Created on Fri Jul 09 09:39 2021\n",
    "\n",
    "This script is to transform the mean profiles to 2D fields to accelerate the tuning process\n",
    "\n",
    "@author: Clara Burgard\n",
    "\"\"\""
   ]
  },
  {
   "cell_type": "code",
   "execution_count": null,
   "id": "green-stopping",
   "metadata": {},
   "outputs": [],
   "source": [
    "import xarray as xr\n",
    "import numpy as np\n",
    "import pandas as pd\n",
    "import matplotlib.pyplot as plt\n",
    "import multimelt.useful_functions as uf\n",
    "import multimelt.melt_functions as meltf\n",
    "from scipy import stats\n",
    "from dask import delayed\n",
    "\n",
    "import distributed\n",
    "import glob\n",
    "\n",
    "from tqdm.notebook import tqdm\n"
   ]
  },
  {
   "cell_type": "code",
   "execution_count": null,
   "id": "residential-beast",
   "metadata": {},
   "outputs": [],
   "source": [
    "%matplotlib qt5"
   ]
  },
  {
   "cell_type": "code",
   "execution_count": null,
   "id": "threaded-understanding",
   "metadata": {},
   "outputs": [],
   "source": [
    "client = distributed.Client(n_workers=18,dashboard_address=':8795', local_directory='/tmp', memory_limit='4GB')"
   ]
  },
  {
   "cell_type": "code",
   "execution_count": null,
   "id": "composite-elephant",
   "metadata": {},
   "outputs": [],
   "source": [
    "client"
   ]
  },
  {
   "cell_type": "markdown",
   "id": "incomplete-bookmark",
   "metadata": {},
   "source": [
    "READ IN DATA"
   ]
  },
  {
   "cell_type": "code",
   "execution_count": null,
   "id": "1c87efda-2933-4a07-aff3-8410aba39919",
   "metadata": {},
   "outputs": [],
   "source": [
    "mod = 'CNRM-CM6-1' # 'EPM026','EPM031', 'EPM034'\n",
    "scenario = 'historical'\n",
    "to2300 = False\n",
    "\n",
    "if scenario == 'historical':\n",
    "    yystart = 1850\n",
    "    yyend = 2014\n",
    "else:\n",
    "    if to2300:\n",
    "        yystart = 2015\n",
    "        yyend = 2300\n",
    "    else:\n",
    "        yystart = 2015\n",
    "        yyend = 2100        "
   ]
  },
  {
   "cell_type": "code",
   "execution_count": null,
   "id": "frequent-asian",
   "metadata": {},
   "outputs": [],
   "source": [
    "inputpath_data='/bettik/burgardc/DATA/SUMMER_PAPER/interim/'\n",
    "inputpath_profiles='/bettik/burgardc/DATA/SUMMER_PAPER/interim/T_S_PROF/CMIP/'+mod+'/'\n",
    "inputpath_mask='/bettik/burgardc/DATA/SUMMER_PAPER/interim/ANTARCTICA_IS_MASKS/BedMachine_4km/'"
   ]
  },
  {
   "cell_type": "code",
   "execution_count": null,
   "id": "veterinary-beads",
   "metadata": {},
   "outputs": [],
   "source": [
    "# make the domain a little smaller to make the computation even more efficient - file isf has already been made smaller at its creation\n",
    "map_lim = [-3000000,3000000]\n",
    "\n",
    "chunk_size = 500"
   ]
  },
  {
   "cell_type": "markdown",
   "id": "macro-cookie",
   "metadata": {},
   "source": [
    "Files for param"
   ]
  },
  {
   "cell_type": "code",
   "execution_count": null,
   "id": "b1073de0-719e-4059-b130-8fa3240e68c2",
   "metadata": {},
   "outputs": [],
   "source": [
    "inputpath_isf='/bettik/burgardc/DATA/SUMMER_PAPER/interim/ANTARCTICA_IS_MASKS/BedMachine_4km/'\n",
    "file_isf_orig = xr.open_dataset(inputpath_isf+'BedMachine_4km_isf_masks_and_info_and_distance_oneFRIS.nc')\n",
    "nonnan_Nisf = file_isf_orig['Nisf'].where(np.isfinite(file_isf_orig['front_bot_depth_max']), drop=True).astype(int)\n",
    "file_isf_nonnan = file_isf_orig.sel(Nisf=nonnan_Nisf)\n",
    "rignot_isf = file_isf_nonnan.Nisf.where(np.isfinite(file_isf_nonnan['isf_area_rignot']), drop=True)\n",
    "file_isf = file_isf_nonnan.sel(Nisf=rignot_isf).chunk(chunks={'x': chunk_size, 'y': chunk_size})\n",
    "\n"
   ]
  },
  {
   "cell_type": "code",
   "execution_count": null,
   "id": "58e44d00-66a9-49d5-8483-1f869302b0cc",
   "metadata": {},
   "outputs": [],
   "source": [
    "BedMachine_orig = xr.open_dataset(inputpath_data+'BedMachine_v3_aggregated4km_allvars.nc')\n",
    "BedMachine_orig_cut = BedMachine_orig.sel(x=file_isf.x, y=file_isf.y)\n",
    "\n",
    "ice_draft_pos = (BedMachine_orig_cut['thickness'] - BedMachine_orig_cut['surface']).where(file_isf['ISF_mask'] > 1)\n",
    "ice_draft_isf = ice_draft_pos.where(file_isf['ISF_mask'] == file_isf.Nisf)"
   ]
  },
  {
   "cell_type": "code",
   "execution_count": null,
   "id": "b2d13a3b-b7d7-4633-9288-0aed4f26401a",
   "metadata": {},
   "outputs": [],
   "source": [
    "tt"
   ]
  },
  {
   "cell_type": "code",
   "execution_count": null,
   "id": "c8d273a5-6c6d-4bc7-a983-5cacd96971b7",
   "metadata": {},
   "outputs": [],
   "source": [
    "for tt in tqdm(range(yystart, yyend+1)): #continue at 1989\n",
    "\n",
    "    file_T_orig = xr.open_mfdataset(inputpath_profiles+'T_mean_prof_50km_contshelf_'+mod+'_'+scenario+'_'+str(tt)+'.nc', chunks={'Nisf': 1})\n",
    "    file_S_orig = xr.open_mfdataset(inputpath_profiles+'S_mean_prof_50km_contshelf_'+mod+'_'+scenario+'_'+str(tt)+'.nc', chunks={'Nisf': 1})\n",
    "    file_TS_orig = xr.merge([file_T_orig,file_S_orig])\n",
    "    file_TS_orig = file_TS_orig.assign_coords({'z': -1*file_TS_orig['z'].values}).rename({'z':'depth'})\n",
    "    file_TS = file_TS_orig.sel(Nisf=rignot_isf).chunk(chunks={'depth': 20})\n",
    "    \n",
    "    filled_TS = file_TS.ffill(dim='depth')\n",
    "    \n",
    "    depth_of_int = ice_draft_isf.where(ice_draft_isf<file_isf['front_bot_depth_max'], \n",
    "                                       file_isf['front_bot_depth_max']).chunk(chunks={'Nisf':1})  \n",
    "    T_isf = filled_TS['thetao'].interp({'depth': depth_of_int}).drop('depth')\n",
    "    \n",
    "    #print('here1')\n",
    "    T_isf = T_isf.where(file_isf['ISF_mask']==file_isf.Nisf).sum('Nisf')#.where(depth_of_int>0)\n",
    "    T_isf = T_isf.to_dataset(name='theta_in')\n",
    "    #print('here2')\n",
    "    T_isf['salinity_in'] = filled_TS['so'].interp({'depth': depth_of_int}).drop('depth')\n",
    "    T_isf['salinity_in'] = T_isf['salinity_in'].where(file_isf['ISF_mask']==file_isf.Nisf).sum('Nisf')#.where(depth_of_int>0)\n",
    "    #print('here3')\n",
    "    depth_of_int = depth_of_int.where(file_isf['ISF_mask'] == file_isf.Nisf)\n",
    "    depth_of_int = depth_of_int.where(file_isf['ISF_mask'] > 1).sum('Nisf')\n",
    "    depth_of_int = depth_of_int.where(depth_of_int>0)\n",
    "    T_isf['freezing_T'] = meltf.freezing_temperature(T_isf['salinity_in'], -1*depth_of_int)\n",
    "    #print('here4')\n",
    "    T_isf['thermal_forcing'] = T_isf['theta_in'] - T_isf['freezing_T']\n",
    "    T_isf['depth_of_int'] = depth_of_int\n",
    "    T_isf = T_isf.where(T_isf['salinity_in']>0)\n",
    "    \n",
    "    \n",
    "    T_isf.to_netcdf(inputpath_profiles+'T_S_2D_fields_isf_draft_'+mod+'_'+scenario+'_'+str(tt)+'.nc','w')\n",
    "    del T_isf\n",
    "    del depth_of_int"
   ]
  },
  {
   "cell_type": "code",
   "execution_count": null,
   "id": "c02b9a7c-f5ee-4eef-b4ca-8beb0af29749",
   "metadata": {},
   "outputs": [],
   "source": [
    "tt = 1950\n",
    "ds_tt = xr.open_dataset(inputpath_profiles+'T_S_2D_fields_isf_draft_'+mod+'_'+scenario+'_'+str(tt)+'.nc')"
   ]
  },
  {
   "cell_type": "code",
   "execution_count": null,
   "id": "b361d1bd-a122-49a5-9725-512c5cd3173a",
   "metadata": {},
   "outputs": [],
   "source": [
    "ds_tt['theta_in'].plot()"
   ]
  },
  {
   "cell_type": "code",
   "execution_count": null,
   "id": "a6e992c2-7d8f-4ae6-aa5e-7b4b4ec01571",
   "metadata": {},
   "outputs": [],
   "source": [
    "TS_list = []\n",
    "for tt in range(yy_start,yy_end+1):\n",
    "    ds_tt = xr.open_dataset(inputpath_profiles+'T_S_2D_fields_isf_draft_'+mod+'_'+scenario+'_'+str(tt)+'.nc')\n",
    "    TS_list.append(ds_tt)\n",
    "TS_ds = xr.concat(TS_list, dim='time')\n",
    "TS_ds.to_netcdf(inputpath_profiles+'T_S_2D_fields_isf_draft_'+mod+'_'+scenario+'_allyy.nc')"
   ]
  }
 ],
 "metadata": {
  "kernelspec": {
   "display_name": "py38",
   "language": "python",
   "name": "py38"
  },
  "language_info": {
   "codemirror_mode": {
    "name": "ipython",
    "version": 3
   },
   "file_extension": ".py",
   "mimetype": "text/x-python",
   "name": "python",
   "nbconvert_exporter": "python",
   "pygments_lexer": "ipython3",
   "version": "3.8.12"
  }
 },
 "nbformat": 4,
 "nbformat_minor": 5
}
