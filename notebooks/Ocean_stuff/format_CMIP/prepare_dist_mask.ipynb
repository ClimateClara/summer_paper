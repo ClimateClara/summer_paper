{
 "cells": [
  {
   "cell_type": "code",
   "execution_count": null,
   "id": "6bf6468b-1093-474c-8047-b05228fe9520",
   "metadata": {},
   "outputs": [],
   "source": [
    "\"\"\"\n",
    "Created on Mon Jul 24 11:36 2023\n",
    "\n",
    "This is a script to prepare the 50 km in front of ice shelf based on BedMachine\n",
    "\n",
    "@author: Clara Burgard\n",
    "\"\"\""
   ]
  },
  {
   "cell_type": "code",
   "execution_count": null,
   "id": "c1f4e2a5-1f36-4565-81a9-8bad4af11359",
   "metadata": {},
   "outputs": [],
   "source": [
    "import xarray as xr\n",
    "import numpy as np\n",
    "import pandas as pd\n",
    "#from tqdm.notebook import tqdm\n",
    "from tqdm import tqdm\n",
    "import gsw\n",
    "import matplotlib.pyplot as plt\n",
    "import basal_melt_param.useful_functions as uf\n",
    "import basal_melt_param.T_S_profile_functions as tspf\n",
    "import basal_melt_param.melt_functions as meltf\n",
    "import basal_melt_param.box_functions as bf\n",
    "\n",
    "from scipy.spatial import cKDTree\n",
    "\n",
    "import itertools\n",
    "\n",
    "import glob"
   ]
  },
  {
   "cell_type": "code",
   "execution_count": null,
   "id": "86d7fe0f-e3d9-4b11-860a-77865f3a197a",
   "metadata": {},
   "outputs": [],
   "source": [
    "inputpath_isf='/bettik/burgardc/DATA/SUMMER_PAPER/interim/ANTARCTICA_IS_MASKS/BedMachine_8km/'\n",
    "inputpath_BedMachine='/bettik/burgardc/DATA/SUMMER_PAPER/interim/'\n",
    "outputpath_profiles='/bettik/burgardc/DATA/SUMMER_PAPER/interim/T_S_PROF/CMIP/'\n",
    "\n",
    "# make the domain a little smaller to make the computation even more efficient - file isf has already been made smaller at its creation\n",
    "map_lim = [-3000000,3000000]"
   ]
  },
  {
   "cell_type": "code",
   "execution_count": null,
   "id": "ca5d6a13-2766-4798-8e24-9a8dcba72d94",
   "metadata": {},
   "outputs": [],
   "source": [
    "file_isf_orig = xr.open_dataset(inputpath_isf+'BedMachine_8km_isf_masks_and_info_and_distance_oneFRIS.nc')\n",
    "nonnan_Nisf = file_isf_orig['Nisf'].where(np.isfinite(file_isf_orig['front_bot_depth_max']), drop=True).astype(int)\n",
    "file_isf_nonnan = file_isf_orig.sel(Nisf=nonnan_Nisf)\n",
    "rignot_isf = file_isf_nonnan.Nisf.where(np.isfinite(file_isf_nonnan['isf_area_rignot']), drop=True)\n",
    "file_isf = file_isf_nonnan.sel(Nisf=rignot_isf)\n"
   ]
  },
  {
   "cell_type": "code",
   "execution_count": null,
   "id": "7f9c7761-bed3-4145-a781-2a9e9cd17582",
   "metadata": {},
   "outputs": [],
   "source": [
    "lon = file_isf['longitude']\n",
    "lat = file_isf['latitude']"
   ]
  },
  {
   "cell_type": "code",
   "execution_count": null,
   "id": "d5db1509-f29a-422d-a364-c3336da7481b",
   "metadata": {},
   "outputs": [],
   "source": [
    "file_BedMachine_orig = xr.open_dataset(inputpath_BedMachine+'BedMachine_v3_aggregated8km_allvars.nc')\n",
    "file_mask = file_BedMachine_orig.sel(x=file_isf.x,y=file_isf.y)"
   ]
  },
  {
   "cell_type": "code",
   "execution_count": null,
   "id": "dbc251b9-8b50-41de-b168-5285a9d158f4",
   "metadata": {},
   "outputs": [],
   "source": [
    "ocean = file_mask['ocean_conc'] > 0\n",
    "# only points below 1500 m\n",
    "offshore = file_mask['bed'] < -1500 # .drop('lon').drop('lat')\n",
    "# only points above 1500 m\n",
    "contshelf = file_mask['bed'] >= -1500 # .drop('lon').drop('lat')"
   ]
  },
  {
   "cell_type": "code",
   "execution_count": null,
   "id": "943c89c4-91ed-4a9b-b7e8-cef0581a6658",
   "metadata": {},
   "outputs": [],
   "source": [
    "mask_50km = (ocean & contshelf).load()\n",
    "\n",
    "lon_box = np.array([10.0])\n",
    "lat_box = np.array([3.5])\n",
    "\n",
    "close_region_around_isf_mask = tspf.mask_boxes_around_IF_new(lon, lat, mask_50km, \n",
    "                                file_isf['front_min_lon'], file_isf['front_max_lon'], \n",
    "                                file_isf['front_min_lat'], file_isf['front_max_lat'],  \n",
    "                                lon_box, lat_box, \n",
    "                                file_isf['isf_name'])"
   ]
  },
  {
   "cell_type": "code",
   "execution_count": null,
   "id": "6834f5b6-5cb7-41c3-ace3-ee9e733744c7",
   "metadata": {},
   "outputs": [],
   "source": [
    "def distance_isf_points_from_line_small_domain(isf_points_da,line_points_da):\n",
    "    \n",
    "    \"\"\"\n",
    "    Compute the distance between ice shelf points and a line.\n",
    "    \n",
    "    This function computes the distance between ice shelf points and a line. This line can be the grounding\n",
    "    line or the ice shelf front.\n",
    "    \n",
    "    Parameters\n",
    "    ----------\n",
    "    whole_domain : xarray.DataArray\n",
    "        ice-shelf mask - all ice shelves are represented by a number, all other points (ocean, land) set to nan\n",
    "    isf_points_da : xarray.DataArray\n",
    "        array containing only points from one ice shelf\n",
    "    line_points_da : xarray.DataArray\n",
    "        mask representing the grounding line or ice shelf front mask corresponding to the ice shelf selected in ``isf_points_da``\n",
    "        \n",
    "    Returns\n",
    "    -------\n",
    "    xr_dist_to_line : xarray.DataArray\n",
    "        distance of the each ice shelf point to the given line of interest\n",
    "    \"\"\"\n",
    "    \n",
    "    # add a common dimension 'grid' along which to stack\n",
    "    stacked_isf_points = isf_points_da.stack(grid=['y', 'x'])\n",
    "    stacked_line = line_points_da.stack(grid=['y', 'x'])\n",
    "    \n",
    "    # remove nans\n",
    "    filtered_isf_points = stacked_isf_points[stacked_isf_points>0]\n",
    "    filtered_line = stacked_line[stacked_line>0]\n",
    "    \n",
    "    # write out the y,x pairs behind the dimension 'grid'\n",
    "    grid_isf_points = filtered_isf_points.indexes['grid'].to_frame().values.astype(float)\n",
    "    grid_line = filtered_line.indexes['grid'].to_frame().values.astype(float)\n",
    "    \n",
    "    # create tree to line and compute distance\n",
    "    tree_line = cKDTree(grid_line)\n",
    "    dist_yx_to_line, _ = tree_line.query(grid_isf_points)\n",
    "        \n",
    "    # add the coordinates of the previous variables\n",
    "    xr_dist_to_line = filtered_isf_points.copy(data=dist_yx_to_line)\n",
    "    # put 1D array back into the format of the grid and put away the 'grid' dimension\n",
    "    xr_dist_to_line = xr_dist_to_line.unstack('grid')\n",
    "    \n",
    "    return xr_dist_to_line"
   ]
  },
  {
   "cell_type": "code",
   "execution_count": null,
   "id": "f18e99ad-b74f-48db-827a-32d658ecc912",
   "metadata": {},
   "outputs": [],
   "source": [
    "dist_list = [ ]\n",
    "for kisf in file_isf['Nisf']:\n",
    "\n",
    "        if (file_isf['IF_mask']==kisf).sum() > 0:\n",
    "            region_to_cut_out = close_region_around_isf_mask.sel(Nisf=kisf).squeeze()\n",
    "            region_to_cut_out = region_to_cut_out.where(region_to_cut_out > 0, drop=True)\n",
    "            IF_region = file_isf['IF_mask'].where(file_isf['IF_mask']==kisf, drop=True)\n",
    "\n",
    "            dist_from_front = distance_isf_points_from_line_small_domain(region_to_cut_out,IF_region)\n",
    "            dist_list.append(dist_from_front)\n",
    "\n",
    "dist_all = xr.concat(dist_list, dim='Nisf').reindex_like(file_isf)\n",
    "dist_all.to_dataset(name='dist_from_front').to_netcdf(outputpath_profiles+'dist_to_ice_front_only_contshelf_8km.nc')"
   ]
  }
 ],
 "metadata": {
  "kernelspec": {
   "display_name": "py38",
   "language": "python",
   "name": "py38"
  },
  "language_info": {
   "codemirror_mode": {
    "name": "ipython",
    "version": 3
   },
   "file_extension": ".py",
   "mimetype": "text/x-python",
   "name": "python",
   "nbconvert_exporter": "python",
   "pygments_lexer": "ipython3",
   "version": "3.8.12"
  }
 },
 "nbformat": 4,
 "nbformat_minor": 5
}
