{
 "cells": [
  {
   "cell_type": "code",
   "execution_count": null,
   "id": "junior-special",
   "metadata": {},
   "outputs": [],
   "source": [
    "\"\"\"\n",
    "Created on Mon Jul 24 11:36 2020\n",
    "\n",
    "This is a script to cut out the T and S in the 50 km in front of the ice front\n",
    "\n",
    "@author: Clara Burgard\n",
    "\"\"\""
   ]
  },
  {
   "cell_type": "markdown",
   "id": "disciplinary-think",
   "metadata": {},
   "source": [
    "- calculate the distance to the ice front for the small domain in front of the ice shelf\n",
    "- take the ocean points at distance of ~50 km of the ice front "
   ]
  },
  {
   "cell_type": "code",
   "execution_count": null,
   "id": "unavailable-brain",
   "metadata": {},
   "outputs": [],
   "source": [
    "import xarray as xr\n",
    "import numpy as np\n",
    "import pandas as pd\n",
    "#from tqdm.notebook import tqdm\n",
    "from tqdm import tqdm\n",
    "import gsw\n",
    "import matplotlib.pyplot as plt\n",
    "import basal_melt_param.useful_functions as uf\n",
    "import basal_melt_param.T_S_profile_functions as tspf\n",
    "import basal_melt_param.melt_functions as meltf\n",
    "import basal_melt_param.box_functions as bf\n",
    "\n",
    "from scipy.spatial import cKDTree\n",
    "\n",
    "\n",
    "import itertools\n",
    "\n",
    "import distributed\n",
    "import glob"
   ]
  },
  {
   "cell_type": "code",
   "execution_count": null,
   "id": "vietnamese-tribe",
   "metadata": {},
   "outputs": [],
   "source": [
    "client = distributed.Client(n_workers=4, dashboard_address=':8795', local_directory='/tmp', memory_limit='6GB')"
   ]
  },
  {
   "cell_type": "code",
   "execution_count": null,
   "id": "boolean-provincial",
   "metadata": {},
   "outputs": [],
   "source": [
    "client"
   ]
  },
  {
   "cell_type": "code",
   "execution_count": null,
   "id": "brutal-deposit",
   "metadata": {},
   "outputs": [],
   "source": [
    "%matplotlib qt5"
   ]
  },
  {
   "cell_type": "markdown",
   "id": "grave-technical",
   "metadata": {},
   "source": [
    "READ IN THE DATA"
   ]
  },
  {
   "cell_type": "code",
   "execution_count": null,
   "id": "fbf02249-4960-461f-9a78-c91b904c4db9",
   "metadata": {},
   "outputs": [],
   "source": [
    "mod = 'CNRM-CM6-1' # 'EPM026','EPM031', 'EPM034'\n",
    "scenario = 'historical'\n",
    "\n",
    "if mod == 'CNRM-CM6-1':\n",
    "    ens_run = 'r1i1p1f2'"
   ]
  },
  {
   "cell_type": "code",
   "execution_count": null,
   "id": "fewer-nightlife",
   "metadata": {},
   "outputs": [],
   "source": [
    "inputpath_data_orig='/bettik/jourdai1/OCEAN_DATA_CMIP6_STEREO/'+mod+'/'\n",
    "inputpath_profiles='/bettik/burgardc/DATA/SUMMER_PAPER/interim/T_S_PROF/CMIP/'\n",
    "inputpath_isf='/bettik/burgardc/DATA/SUMMER_PAPER/interim/ANTARCTICA_IS_MASKS/BedMachine_8km/'\n",
    "inputpath_BedMachine='/bettik/burgardc/DATA/SUMMER_PAPER/interim/'\n",
    "\n",
    "# make the domain a little smaller to make the computation even more efficient - file isf has already been made smaller at its creation\n",
    "map_lim = [-3000000,3000000]"
   ]
  },
  {
   "cell_type": "markdown",
   "id": "streaming-flood",
   "metadata": {},
   "source": [
    "COMPUTING THE MEAN PROFILES"
   ]
  },
  {
   "cell_type": "markdown",
   "id": "blond-stamp",
   "metadata": {},
   "source": [
    "CONTINENTAL SHELF"
   ]
  },
  {
   "cell_type": "code",
   "execution_count": null,
   "id": "9508a72c-3eed-4f7f-b43a-caa0fc76b31a",
   "metadata": {},
   "outputs": [],
   "source": [
    "mask_domain_distkm = 50000"
   ]
  },
  {
   "cell_type": "markdown",
   "id": "overall-retro",
   "metadata": {},
   "source": [
    "If workers don't die (with 12 cores, took approx 1hour), if workers die, divide work by years"
   ]
  },
  {
   "cell_type": "code",
   "execution_count": null,
   "id": "compact-fleet",
   "metadata": {},
   "outputs": [],
   "source": [
    "\n",
    "dist_to_front_file = xr.open_mfdataset(inputpath_profiles+'dist_to_ice_front_only_contshelf_8km.nc',chunks={'x': 400, 'y': 400, 'Nisf': 30})\n",
    "T_ocean_files = xr.open_mfdataset(inputpath_data_orig+'thetao_Oyr_'+mod+'_'+scenario+'_'+ens_run+'_*.nc', chunks={'x': 400, 'y': 400, 'depth': 50, 'time': 5}, parallel=True)\n",
    "S_ocean_files = xr.open_mfdataset(inputpath_data_orig+'so_Oyr_'+mod+'_'+scenario+'_'+ens_run+'_*.nc', chunks={'x': 400, 'y': 400, 'depth': 50, 'time': 5}, parallel=True)\n",
    "file_BedMachine_orig = xr.open_mfdataset(inputpath_BedMachine+'BedMachine_v3_aggregated8km_allvars.nc').sel(x=dist_to_front_file.x,y=dist_to_front_file.y).chunk({'x': 400, 'y': 400})\n",
    "\n",
    "dist_to_front = dist_to_front_file['dist_from_front']\n",
    "ocean_conc = file_BedMachine_orig['ocean_conc']"
   ]
  },
  {
   "cell_type": "code",
   "execution_count": null,
   "id": "0267d24d-293b-462d-94f5-98d2763393e3",
   "metadata": {},
   "outputs": [],
   "source": [
    "mask_km = dist_to_front <= mask_domain_distkm"
   ]
  },
  {
   "cell_type": "code",
   "execution_count": null,
   "id": "357dba92-7890-4d24-9c8b-f4b8c3d09b10",
   "metadata": {},
   "outputs": [],
   "source": [
    "mask_depth = S_ocean_files['so'].isel(time=0).squeeze().drop('time') > 0\n",
    "mask_all = mask_km & mask_depth"
   ]
  },
  {
   "cell_type": "code",
   "execution_count": null,
   "id": "9d655d59-efad-43e5-bf26-735e4cb2f52f",
   "metadata": {},
   "outputs": [],
   "source": [
    "mask_sum = (mask_all * ocean_conc).sum(['x','y'])\n",
    "mask_sum = mask_sum.load()\n",
    "mask_sum.to_dataset(name='mask_sum').to_netcdf(inputpath_profiles + 'mask_sum.nc')"
   ]
  },
  {
   "cell_type": "code",
   "execution_count": null,
   "id": "774191ce-f138-4a27-96af-e1b4cd2fda35",
   "metadata": {},
   "outputs": [],
   "source": [
    "mask_sum = xr.open_mfdataset(inputpath_profiles + 'mask_sum.nc', chunks={'x': 400, 'y': 400, 'Nisf': 30})"
   ]
  },
  {
   "cell_type": "code",
   "execution_count": null,
   "id": "4287b3f5-8b2b-4838-b5a5-1b29a05c568a",
   "metadata": {},
   "outputs": [],
   "source": [
    "for tt in T_ocean_files['thetao'].time:\n",
    "    print(tt.values)\n",
    "    ds_T_sum = (T_ocean_files['thetao'].sel(time=tt) * mask_km * ocean_conc).sum(['x','y'])\n",
    "    ds_S_sum = (S_ocean_files['so'].sel(time=tt) * mask_km * ocean_conc).sum(['x','y'])\n",
    "\n",
    "    ds_T_mean = (ds_T_sum/mask_sum['mask_sum'])\n",
    "    ds_S_mean = (ds_S_sum/mask_sum['mask_sum'])\n",
    "    \n",
    "    ds_T_mean.to_dataset(name='thetao').to_netcdf(inputpath_profiles + mod + '/T_mean_prof_50km_contshelf_'+mod+'_'+scenario+'_'+str(tt.values)[0:4]+'.nc')\n",
    "    ds_S_mean.to_dataset(name='so').to_netcdf(inputpath_profiles + mod + '/S_mean_prof_50km_contshelf_'+mod+'_'+scenario+'_'+str(tt.values)[0:4]+'.nc')"
   ]
  },
  {
   "cell_type": "code",
   "execution_count": null,
   "id": "fa05cbe2-390b-493d-a2d9-5f76881b8880",
   "metadata": {},
   "outputs": [],
   "source": [
    "#T_S_mean = xr.merge([ds_T_mean,ds_S_mean]).load()"
   ]
  },
  {
   "cell_type": "code",
   "execution_count": null,
   "id": "b7b25e6c-9823-43d4-833d-321810513ae2",
   "metadata": {},
   "outputs": [],
   "source": []
  },
  {
   "cell_type": "code",
   "execution_count": null,
   "id": "lined-profit",
   "metadata": {},
   "outputs": [],
   "source": [
    "TS_list = []\n",
    "for tt in range(yy_start,yy_end+1):\n",
    "    ds_tt = xr.open_dataset(inputpath_profiles+'T_S_mean_prof_corrected_km_contshelf_'+str(tt)+'.nc')\n",
    "    TS_list.append(ds_tt)\n",
    "TS_ds = xr.concat(TS_list, dim='time')\n",
    "TS_ds.to_netcdf(inputpath_profiles+'T_S_mean_prof_corrected_km_contshelf_allyy.nc')"
   ]
  },
  {
   "cell_type": "code",
   "execution_count": null,
   "id": "959f22ef-b497-4ff7-9c34-ade6cbfafc25",
   "metadata": {},
   "outputs": [],
   "source": []
  }
 ],
 "metadata": {
  "kernelspec": {
   "display_name": "py38",
   "language": "python",
   "name": "py38"
  },
  "language_info": {
   "codemirror_mode": {
    "name": "ipython",
    "version": 3
   },
   "file_extension": ".py",
   "mimetype": "text/x-python",
   "name": "python",
   "nbconvert_exporter": "python",
   "pygments_lexer": "ipython3",
   "version": "3.8.12"
  }
 },
 "nbformat": 4,
 "nbformat_minor": 5
}
