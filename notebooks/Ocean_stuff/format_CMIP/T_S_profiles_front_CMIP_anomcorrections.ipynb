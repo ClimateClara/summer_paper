{
 "cells": [
  {
   "cell_type": "code",
   "execution_count": null,
   "id": "junior-special",
   "metadata": {},
   "outputs": [],
   "source": [
    "\"\"\"\n",
    "Created on Mon Jul 24 11:36 2020\n",
    "\n",
    "This is a script to cut out the T and S in the 50 km in front of the ice front\n",
    "\n",
    "@author: Clara Burgard\n",
    "\"\"\""
   ]
  },
  {
   "cell_type": "markdown",
   "id": "disciplinary-think",
   "metadata": {},
   "source": [
    "- calculate the distance to the ice front for the small domain in front of the ice shelf\n",
    "- take the ocean points at distance of ~50 km of the ice front "
   ]
  },
  {
   "cell_type": "code",
   "execution_count": null,
   "id": "unavailable-brain",
   "metadata": {},
   "outputs": [],
   "source": [
    "import xarray as xr\n",
    "import numpy as np\n",
    "import pandas as pd\n",
    "import matplotlib.pyplot as plt\n",
    "import datetime as dt\n",
    "\n",
    "import itertools\n",
    "\n",
    "import distributed\n",
    "import glob\n",
    "\n",
    "from tqdm.notebook import tqdm\n"
   ]
  },
  {
   "cell_type": "code",
   "execution_count": null,
   "id": "vietnamese-tribe",
   "metadata": {},
   "outputs": [],
   "source": [
    "client = distributed.Client(n_workers=8, dashboard_address=':8795', local_directory='/tmp', memory_limit='6GB')"
   ]
  },
  {
   "cell_type": "code",
   "execution_count": null,
   "id": "boolean-provincial",
   "metadata": {},
   "outputs": [],
   "source": [
    "client"
   ]
  },
  {
   "cell_type": "code",
   "execution_count": null,
   "id": "brutal-deposit",
   "metadata": {},
   "outputs": [],
   "source": [
    "%matplotlib qt5"
   ]
  },
  {
   "cell_type": "markdown",
   "id": "grave-technical",
   "metadata": {},
   "source": [
    "READ IN THE DATA"
   ]
  },
  {
   "cell_type": "code",
   "execution_count": null,
   "id": "e4f78a0d-2d54-45b6-b73c-bed2b011a93a",
   "metadata": {
    "tags": []
   },
   "outputs": [],
   "source": [
    "mod = 'UKESM1-0-LL' # 'EPM026','EPM031', 'EPM034'\n",
    "scenario = 'historical'\n",
    "\n",
    "if mod in ['CNRM-CM6-1','CNRM-ESM2-1']:\n",
    "    ens_run = 'r1i1p1f2'\n",
    "    to2300 = False\n",
    "elif mod in ['GISS-E2-1-H']:\n",
    "    ens_run = 'r1i1p1f2'\n",
    "    to2300 = True\n",
    "elif mod in ['ACCESS-CM2','ACCESS-ESM1-5','CESM2-WACCM','CanESM5','IPSL-CM6A-LR','MRI-ESM2-0']:\n",
    "    ens_run = 'r1i1p1f1'\n",
    "    to2300 = True\n",
    "elif mod in ['MPI-ESM1-2-HR','GFDL-CM4','GFDL-ESM4']:\n",
    "    ens_run = 'r1i1p1f1'\n",
    "    to2300 = False\n",
    "elif mod == 'UKESM1-0-LL':\n",
    "    ens_run = 'r4i1p1f2'\n",
    "    to2300 = True     \n",
    "elif mod == 'CESM2':\n",
    "    ens_run = 'r11i1p1f1'\n",
    "    to2300 = False        \n",
    "\n",
    "\n",
    "if scenario == 'historical':\n",
    "    yystart = 1980 #1850\n",
    "    yyend = 2014\n",
    "elif scenario == 'ssp245':\n",
    "    yystart = 2015\n",
    "    yyend = 2100  \n",
    "else:\n",
    "    if to2300:\n",
    "        yystart = 2015\n",
    "        yyend = 2300\n",
    "    else:\n",
    "        yystart = 2015\n",
    "        yyend = 2100   "
   ]
  },
  {
   "cell_type": "code",
   "execution_count": null,
   "id": "fewer-nightlife",
   "metadata": {},
   "outputs": [],
   "source": [
    "inputpath_profiles='/bettik/burgardc/DATA/SUMMER_PAPER/interim/T_S_PROF/CMIP/'\n",
    "inputpath_isf='/bettik/burgardc/DATA/SUMMER_PAPER/interim/ANTARCTICA_IS_MASKS/BedMachine_8km/'\n",
    "inputpath_BedMachine='/bettik/burgardc/DATA/SUMMER_PAPER/interim/'\n",
    "inputpath_ISMIP = '/bettik/burgardc/DATA/BASAL_MELT_PARAM/raw/T_S_PROF/WOA2018_EN4_MEOP/'\n",
    "\n",
    "# make the domain a little smaller to make the computation even more efficient - file isf has already been made smaller at its creation\n",
    "map_lim = [-3000000,3000000]"
   ]
  },
  {
   "cell_type": "markdown",
   "id": "streaming-flood",
   "metadata": {},
   "source": [
    "COMPUTING THE MEAN PROFILES"
   ]
  },
  {
   "cell_type": "markdown",
   "id": "blond-stamp",
   "metadata": {},
   "source": [
    "CONTINENTAL SHELF"
   ]
  },
  {
   "cell_type": "code",
   "execution_count": null,
   "id": "9508a72c-3eed-4f7f-b43a-caa0fc76b31a",
   "metadata": {},
   "outputs": [],
   "source": [
    "mask_domain_distkm = 50000"
   ]
  },
  {
   "cell_type": "markdown",
   "id": "58b4e6f7-22d1-460f-9f12-416e007fe87d",
   "metadata": {},
   "source": [
    "CREATE SUM OF T AND S OVER THE DOMAIN OF INTEREST"
   ]
  },
  {
   "cell_type": "code",
   "execution_count": null,
   "id": "0be677c2-65f8-4205-821c-ba83f60c994a",
   "metadata": {},
   "outputs": [],
   "source": [
    "chunk_size = 200"
   ]
  },
  {
   "cell_type": "code",
   "execution_count": null,
   "id": "936c359c-ee2b-47d8-9409-8d2c879584fc",
   "metadata": {},
   "outputs": [],
   "source": [
    "dist_to_front_file = xr.open_mfdataset(inputpath_profiles+'dist_to_ice_front_only_contshelf_8km.nc',chunks={'x': chunk_size, 'y': chunk_size, 'Nisf': 30})\n",
    "\n",
    "T_ocean_ISMIP = xr.open_mfdataset(inputpath_ISMIP + 'obs_temperature_1995-2017_8km_x_60m.nc', chunks={'x': chunk_size, 'y': chunk_size, 'depth': 50})\n",
    "S_ocean_ISMIP = xr.open_mfdataset(inputpath_ISMIP + 'obs_salinity_1995-2017_8km_x_60m.nc', chunks={'x': chunk_size, 'y': chunk_size, 'depth': 50})\n",
    "\n",
    "mask_sum = xr.open_dataset(inputpath_profiles + 'mask_sum.nc', chunks={'x': chunk_size, 'y': chunk_size, 'Nisf': 30})\n",
    "file_BedMachine_orig = xr.open_mfdataset(inputpath_BedMachine+'BedMachine_v2_aggregated8km_allvars.nc').sel(x=dist_to_front_file.x,y=dist_to_front_file.y).chunk({'x': chunk_size, 'y': chunk_size})\n",
    "grid_cell_area_file = xr.open_mfdataset(inputpath_BedMachine+'gridarea_ISMIP6_AIS_8000m_grid_Clara.nc').sel(x=dist_to_front_file.x,y=dist_to_front_file.y).chunk({'x': chunk_size, 'y': chunk_size})\n",
    "\n",
    "dist_to_front = dist_to_front_file['dist_from_front']\n",
    "ocean_conc = file_BedMachine_orig['ocean_conc']\n",
    "true_grid_cell_area = grid_cell_area_file['true_grid_cell_area']"
   ]
  },
  {
   "cell_type": "code",
   "execution_count": null,
   "id": "774191ce-f138-4a27-96af-e1b4cd2fda35",
   "metadata": {},
   "outputs": [],
   "source": [
    "mask_km = dist_to_front <= mask_domain_distkm\n",
    "ocean_mask = ocean_conc > 0\n",
    "depth_mask = S_ocean_ISMIP.z >= file_BedMachine_orig['bed']\n",
    "ocean_and_depth = ocean_mask & depth_mask"
   ]
  },
  {
   "cell_type": "code",
   "execution_count": null,
   "id": "61fd9d79-8283-4f3c-827e-eb2fc6b95030",
   "metadata": {},
   "outputs": [],
   "source": [
    "weighted_ocean_mask = (mask_km * ocean_conc * ocean_and_depth * true_grid_cell_area)#.load()"
   ]
  },
  {
   "cell_type": "code",
   "execution_count": null,
   "id": "ee26c8a8-b30d-41dc-aac2-1064f4f05ad5",
   "metadata": {},
   "outputs": [],
   "source": [
    "ds_T_sum = (T_ocean_ISMIP['temperature'] * weighted_ocean_mask).sum(['x','y'])#.load()\n",
    "ds_T_mean = (ds_T_sum/mask_sum['mask_sum'])\n",
    "\n",
    "ds_T_mean.to_dataset(name='thetao').to_netcdf(inputpath_profiles + 'T_mean_prof_50km_contshelf_ISMIP.nc')\n",
    "\n",
    "ds_S_sum = (S_ocean_ISMIP['salinity'] * weighted_ocean_mask).sum(['x','y'])#.load()\n",
    "ds_S_mean = (ds_S_sum/mask_sum['mask_sum'])\n",
    "\n",
    "ds_S_mean.to_dataset(name='so').to_netcdf(inputpath_profiles + 'S_mean_prof_50km_contshelf_ISMIP.nc')"
   ]
  },
  {
   "cell_type": "code",
   "execution_count": null,
   "id": "ab9849c5-d029-4618-b33a-111005fa5591",
   "metadata": {},
   "outputs": [],
   "source": [
    "scenario = 'historical'\n",
    "\n",
    "for mod in ['ACCESS-CM2','ACCESS-ESM1-5','CESM2','CESM2-WACCM','CNRM-CM6-1','CNRM-ESM2-1',\n",
    "           'CanESM5','GFDL-CM4','GFDL-ESM4','GISS-E2-1-H','IPSL-CM6A-LR','MPI-ESM1-2-HR',\n",
    "           'MRI-ESM2-0','UKESM1-0-LL']:\n",
    "    \n",
    "    print(mod)\n",
    "    \n",
    "    inputpath_data_orig='/bettik/jourdai1/OCEAN_DATA_CMIP6_STEREO/'+mod+'/'\n",
    "\n",
    "    \n",
    "    if mod in ['CNRM-CM6-1','CNRM-ESM2-1']:\n",
    "        ens_run = 'r1i1p1f2'\n",
    "        to2300 = False\n",
    "    elif mod in ['GISS-E2-1-H']:\n",
    "        ens_run = 'r1i1p1f2'\n",
    "        to2300 = True\n",
    "    elif mod in ['ACCESS-CM2','ACCESS-ESM1-5','CESM2-WACCM','CanESM5','IPSL-CM6A-LR','MRI-ESM2-0']:\n",
    "        ens_run = 'r1i1p1f1'\n",
    "        to2300 = True\n",
    "    elif mod in ['MPI-ESM1-2-HR','GFDL-CM4','GFDL-ESM4']:\n",
    "        ens_run = 'r1i1p1f1'\n",
    "        to2300 = False\n",
    "    elif mod == 'UKESM1-0-LL':\n",
    "        ens_run = 'r4i1p1f2'\n",
    "        to2300 = True     \n",
    "    elif mod == 'CESM2':\n",
    "        ens_run = 'r11i1p1f1'\n",
    "        to2300 = False\n",
    "\n",
    "    T_ocean_clim = xr.open_mfdataset(inputpath_data_orig+'thetao_Clim_'+mod+'_'+scenario+'_'+ens_run+'_*.nc', use_cftime=True, parallel=True, chunks={'x': chunk_size, 'y': chunk_size, 'depth': 50}).squeeze().drop('time')\n",
    "    S_ocean_clim = xr.open_mfdataset(inputpath_data_orig+'so_Clim_'+mod+'_'+scenario+'_'+ens_run+'_*.nc', use_cftime=True, parallel=True, chunks={'x': chunk_size, 'y': chunk_size, 'depth': 50}).squeeze().drop('time') #, chunks={'x': 300, 'y': 300, 'depth': 50, 'time': 5})\n",
    "\n",
    "    ds_T_sum = (T_ocean_clim['thetao'] * weighted_ocean_mask).sum(['x','y'])#.load()\n",
    "    ds_T_mean = (ds_T_sum/mask_sum['mask_sum'])\n",
    "\n",
    "    ds_T_mean.to_dataset(name='thetao').to_netcdf(inputpath_profiles + mod + '/T_mean_prof_50km_contshelf_'+mod+'_clim.nc')\n",
    "\n",
    "    ds_S_sum = (S_ocean_clim['so'] * weighted_ocean_mask).sum(['x','y'])#.load()\n",
    "    ds_S_mean = (ds_S_sum/mask_sum['mask_sum'])\n",
    "\n",
    "    ds_S_mean.to_dataset(name='so').to_netcdf(inputpath_profiles + mod + '/S_mean_prof_50km_contshelf_'+mod+'_clim.nc')"
   ]
  },
  {
   "cell_type": "code",
   "execution_count": null,
   "id": "1d181d5d-3e12-4f3c-8ef2-1f7c7edb10de",
   "metadata": {},
   "outputs": [],
   "source": []
  }
 ],
 "metadata": {
  "kernelspec": {
   "display_name": "py38",
   "language": "python",
   "name": "py38"
  },
  "language_info": {
   "codemirror_mode": {
    "name": "ipython",
    "version": 3
   },
   "file_extension": ".py",
   "mimetype": "text/x-python",
   "name": "python",
   "nbconvert_exporter": "python",
   "pygments_lexer": "ipython3",
   "version": "3.8.12"
  }
 },
 "nbformat": 4,
 "nbformat_minor": 5
}
