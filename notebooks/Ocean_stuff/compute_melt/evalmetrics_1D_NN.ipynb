{
 "cells": [
  {
   "cell_type": "code",
   "execution_count": null,
   "id": "39f5dfe2-7fa8-458b-a30c-e0a11be8d55f",
   "metadata": {},
   "outputs": [],
   "source": [
    "\"\"\"\n",
    "Created on Mon Mar 27 17:37 2023\n",
    "\n",
    "Apply the ensemble of NN to Smith data and only take ensemble mean\n",
    "\n",
    "Author: @claraburgard\n",
    "\n",
    "\"\"\""
   ]
  },
  {
   "cell_type": "code",
   "execution_count": null,
   "id": "c731f235-1948-4d8e-8bca-d6206005bcb4",
   "metadata": {},
   "outputs": [],
   "source": [
    "import numpy as np\n",
    "import xarray as xr\n",
    "from tqdm.notebook import trange, tqdm\n",
    "#from tqdm import tqdm\n",
    "import glob\n",
    "import matplotlib as mpl\n",
    "import seaborn as sns\n",
    "import datetime\n",
    "import time\n",
    "import os,sys\n",
    "\n",
    "import tensorflow as tf\n",
    "from tensorflow import keras\n",
    "from contextlib import redirect_stdout\n",
    "\n",
    "from multimelt.constants import *\n",
    "import summer_paper.data_formatting_NN as dfmt\n",
    "import summer_paper.postprocessing_functions_NN as pp\n"
   ]
  },
  {
   "cell_type": "markdown",
   "id": "8e9625ca-6f3d-4c7b-ad41-625d54472bcf",
   "metadata": {},
   "source": [
    "DEFINE OPTIONS"
   ]
  },
  {
   "cell_type": "code",
   "execution_count": null,
   "id": "200ce0dc-b22d-4f8f-b178-3b74e9dd35fa",
   "metadata": {},
   "outputs": [],
   "source": [
    "mod_size =  'large' #'mini', 'small', 'medium', 'large', 'extra_large'\n",
    "TS_opt = 'extrap' # extrap, whole, thermocline\n",
    "norm_method =  'std' # std, interquart, minmax\n",
    "exp_name = 'newbasic2'#'allbutconstants' #'onlyTSdraftandslope' #'TSdraftbotandiceddandwcd' #'onlyTSisfdraft' #'TSdraftbotandiceddandwcdreldGL' #TSdraftslopereldGL"
   ]
  },
  {
   "cell_type": "code",
   "execution_count": null,
   "id": "484ab770-f73b-40e4-8be2-6a4af0f6afa7",
   "metadata": {},
   "outputs": [],
   "source": [
    "outputpath_info = '/bettik/burgardc/DATA/SUMMER_PAPER/interim/'"
   ]
  },
  {
   "cell_type": "code",
   "execution_count": null,
   "id": "d2f22c01-07e7-47de-90e8-c5d9643eb4b3",
   "metadata": {},
   "outputs": [],
   "source": [
    "nemo_run = 'ctrl94' # 'EPM031', 'EPM034'"
   ]
  },
  {
   "cell_type": "code",
   "execution_count": null,
   "id": "21da86c9-9c12-48b6-9668-b285afa3f3fc",
   "metadata": {},
   "outputs": [],
   "source": [
    "file_info = pd.read_csv(outputpath_info+'info_chunks.txt', delimiter=',', header=None)\n",
    "file_info = file_info.set_index(file_info[0])\n",
    "\n",
    "for chunk_nb in file_info[file_info[1]==nemo_run][0].values:\n",
    "    start_yy = file_info[file_info[1]==nemo_run][2].loc[chunk_nb]\n",
    "    end_yy = file_info[file_info[1]==nemo_run][3].loc[chunk_nb]\n",
    "    trange = range(start_yy,end_yy+1)\n",
    "    print(chunk_nb,start_yy,end_yy)"
   ]
  },
  {
   "cell_type": "code",
   "execution_count": null,
   "id": "beeb886a-30e8-41fd-9428-0d6dda944b90",
   "metadata": {},
   "outputs": [],
   "source": [
    "if (end_yy - start_yy) == 9:\n",
    "    tblock_dim = [chunk_nb]\n",
    "else:\n",
    "    tblock_dim = [chunk_nb-1,chunk_nb]\n",
    "print(tblock_dim)"
   ]
  },
  {
   "cell_type": "markdown",
   "id": "54666cc3-7f68-4d51-bc27-1bf2acc53e52",
   "metadata": {},
   "source": [
    "READ IN DATA"
   ]
  },
  {
   "cell_type": "code",
   "execution_count": null,
   "id": "ecad98a6-8d8a-4ae9-a160-d3c800d4ab2f",
   "metadata": {},
   "outputs": [],
   "source": [
    "inputpath_data_nn = '/bettik/burgardc/DATA/NN_PARAM/interim/INPUT_DATA/'"
   ]
  },
  {
   "cell_type": "code",
   "execution_count": null,
   "id": "773b2ac3-134f-49bf-a409-fe1ad93be78c",
   "metadata": {},
   "outputs": [],
   "source": [
    "if TS_opt == 'extrap':\n",
    "    inputpath_CVinput = inputpath_data_nn+'EXTRAPOLATED_ISFDRAFT_CHUNKS/'\n",
    "    inputpath_csv = inputpath_data_nn+'EXTRAPOLATED_ISFDRAFT_CHUNKS/'"
   ]
  },
  {
   "cell_type": "markdown",
   "id": "d18341ff-f9ff-4989-bb6a-88d03f6c0b8f",
   "metadata": {},
   "source": [
    "APPLY MODEL"
   ]
  },
  {
   "cell_type": "code",
   "execution_count": null,
   "id": "a81faaad-7b19-44c8-b661-10c1f60cb600",
   "metadata": {},
   "outputs": [],
   "source": [
    "input_vars = ['dGL','dIF','corrected_isfdraft','bathy_metry','slope_bed_lon','slope_bed_lat','slope_ice_lon','slope_ice_lat',\n",
    "                'theta_in','salinity_in','T_mean', 'S_mean', 'T_std', 'S_std']"
   ]
  },
  {
   "cell_type": "code",
   "execution_count": null,
   "id": "8165c94f-88aa-4d57-8bb5-2ed77da68e83",
   "metadata": {},
   "outputs": [],
   "source": [
    "tuning_sort = 'new'"
   ]
  },
  {
   "cell_type": "code",
   "execution_count": null,
   "id": "fb87604c-683b-4d84-911a-532fee8bdfb5",
   "metadata": {},
   "outputs": [],
   "source": [
    "### use any model from CV over time\n",
    "outputpath_melt = '/bettik/burgardc/DATA/SUMMER_PAPER/processed/OCEAN_MELT_RATE_CHECK_TUNING/nemo_5km_'+nemo_run+'/'\n",
    "if tuning_sort == 'new':\n",
    "    path_model = '/bettik/burgardc/DATA/SUMMER_PAPER/interim/NN_MODELS/'\n",
    "elif tuning_sort == 'old':\n",
    "    path_model = '/bettik/burgardc/DATA/NN_PARAM/interim/NN_MODELS/experiments/WHOLE/'\n",
    "\n",
    "file_isf, geometry_info_2D, box_charac_2D, box_charac_1D, isf_stack_mask = pp.read_input_evalmetrics_NN(nemo_run)\n",
    "\n",
    "norm_metrics_file = xr.open_dataset(inputpath_CVinput + 'metrics_norm_wholedataset_origexcept26_christoph_new.nc')\n",
    "norm_metrics = norm_metrics_file.to_dataframe()\n",
    "\n",
    "box_loc_config2 = box_charac_2D['box_location'].sel(box_nb_tot=box_charac_1D['nD_config'].sel(config=2))\n",
    "box1 = box_loc_config2.where(box_loc_config2==1).isel(Nisf=1).drop('Nisf')"
   ]
  },
  {
   "cell_type": "code",
   "execution_count": null,
   "id": "baa050ff-e9fb-4926-9c53-e0145ef7403e",
   "metadata": {},
   "outputs": [],
   "source": [
    "for tblock in tblock_dim:\n",
    "    \n",
    "    res_1D_list = []\n",
    "    for kisf in tqdm(file_isf.Nisf.values): \n",
    "        \n",
    "        df_nrun = pd.read_csv(inputpath_csv + 'dataframe_input_isf'+str(kisf).zfill(3)+'_'+str(tblock).zfill(3)+'_new.csv',index_col=[0,1,2])\n",
    "\n",
    "        ens_res2D_list = []\n",
    "        #for seed_nb in range(1,11):\n",
    "        for seed_nb in range(1,2):\n",
    "            model = keras.models.load_model(path_model + 'model_nn_'+mod_size+'_'+exp_name+'_wholedataset_'+str(seed_nb).zfill(2)+'_TS'+TS_opt+'_norm'+norm_method+'.h5')\n",
    "\n",
    "            res_2D = pp.apply_NN_results_2D_1isf_1tblock(file_isf, norm_metrics, df_nrun, model, input_vars)\n",
    "\n",
    "            ens_res2D_list.append(res_2D.assign_coords({'seed_nb': seed_nb}))\n",
    "\n",
    "        xr_ens_res2D = xr.concat(ens_res2D_list, dim='seed_nb')\n",
    "        xr_ensmean_res2D = xr_ens_res2D.mean('seed_nb')\n",
    "\n",
    "        geometry_isf_2D = dfmt.choose_isf(geometry_info_2D,isf_stack_mask, kisf)\n",
    "        melt_rate_2D_isf_m_per_y = dfmt.choose_isf(xr_ensmean_res2D,isf_stack_mask, kisf)\n",
    "\n",
    "        melt_rate_1D_isf_Gt_per_y = (melt_rate_2D_isf_m_per_y * geometry_isf_2D['grid_cell_area_weighted']).sum(dim=['mask_coord']) * rho_i / 10**12\n",
    "\n",
    "        box_loc_config_stacked = dfmt.choose_isf(box1, isf_stack_mask, kisf)\n",
    "        param_melt_2D_box1_isf = melt_rate_2D_isf_m_per_y.where(np.isfinite(box_loc_config_stacked))\n",
    "\n",
    "        melt_rate_1D_isf_myr_box1_mean = dfmt.weighted_mean(param_melt_2D_box1_isf,['mask_coord'], geometry_isf_2D['isfdraft_conc'])     \n",
    "\n",
    "        out_1D = xr.concat([melt_rate_1D_isf_Gt_per_y, melt_rate_1D_isf_myr_box1_mean], dim='metrics').assign_coords({'metrics': ['Gt','box1']})\n",
    "        res_1D_list.append(out_1D) \n",
    "    \n",
    "    res_1D_all = xr.concat(res_1D_list, dim='Nisf')\n",
    "    res_1D_all.to_netcdf(outputpath_melt + 'evalmetrics_1D_'+mod_size+'_'+exp_name+'_ensmean_'+TS_opt+'_norm'+norm_method+'_'+str(tblock).zfill(3)+'_'+tuning_sort+'tuning.nc')"
   ]
  },
  {
   "cell_type": "code",
   "execution_count": null,
   "id": "878b9c8a-2ab4-4574-87c4-ffe9129e7adc",
   "metadata": {},
   "outputs": [],
   "source": []
  }
 ],
 "metadata": {
  "kernelspec": {
   "display_name": "neuralnet",
   "language": "python",
   "name": "neuralnet"
  },
  "language_info": {
   "codemirror_mode": {
    "name": "ipython",
    "version": 3
   },
   "file_extension": ".py",
   "mimetype": "text/x-python",
   "name": "python",
   "nbconvert_exporter": "python",
   "pygments_lexer": "ipython3",
   "version": "3.9.16"
  }
 },
 "nbformat": 4,
 "nbformat_minor": 5
}
