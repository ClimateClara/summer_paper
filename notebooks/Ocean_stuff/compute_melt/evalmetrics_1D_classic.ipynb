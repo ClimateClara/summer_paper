{
 "cells": [
  {
   "cell_type": "code",
   "execution_count": null,
   "id": "43b9d168-b138-4b6e-9c4f-6e75d0d1390f",
   "metadata": {},
   "outputs": [],
   "source": [
    "\"\"\"\n",
    "\n",
    "Apply the uncertainty of the parameters from Burgard et al. 2022 to show that \n",
    "uncertainty from parameters is lower than uncertainty from parameterisations\n",
    "\n",
    "\"\"\""
   ]
  },
  {
   "cell_type": "code",
   "execution_count": 1,
   "id": "c077934d-9455-49a5-9350-d6ca8f36dbda",
   "metadata": {},
   "outputs": [],
   "source": [
    "import xarray as xr\n",
    "import numpy as np\n",
    "import matplotlib.pyplot as plt\n",
    "from matplotlib import cm\n",
    "import cartopy\n",
    "import cartopy.crs as ccrs\n",
    "import matplotlib as mpl\n",
    "import pandas as pd \n",
    "from tqdm.notebook import trange, tqdm\n",
    "import time\n",
    "import multimelt.melt_functions as meltf\n",
    "import multimelt.plume_functions as pf\n",
    "import summer_paper.useful_functions as uf\n",
    "from multimelt.constants import *\n",
    "import seaborn as sns\n",
    "import os, glob\n",
    "import distributed"
   ]
  },
  {
   "cell_type": "code",
   "execution_count": 2,
   "id": "c6ab8f1b-b994-4a65-b2cb-b7a738e36c07",
   "metadata": {},
   "outputs": [],
   "source": [
    "#home_path = '/Users/claraburgard/bettik_clara/'\n",
    "home_path='/bettik/burgardc/'\n",
    "#home_path='/data/users/burgardc/bettik_clara/'"
   ]
  },
  {
   "cell_type": "code",
   "execution_count": 104,
   "id": "19bc4f12-91d9-4fc1-be6a-29b7c42d047e",
   "metadata": {},
   "outputs": [],
   "source": [
    "nemo_run = 'isfru94'"
   ]
  },
  {
   "cell_type": "code",
   "execution_count": 105,
   "id": "c95f1a2e-bd26-48be-9593-1c3a95d9fb15",
   "metadata": {},
   "outputs": [],
   "source": [
    "if nemo_run in ['ctrl94','isf94','isfru94']:\n",
    "    inputpath_data=home_path+'/DATA/SUMMER_PAPER/interim/NEMO_'+nemo_run+'_ANT_STEREO/'\n",
    "    inputpath_mask = home_path+'/DATA/SUMMER_PAPER/interim/ANTARCTICA_IS_MASKS/nemo_5km_'+nemo_run+'/'\n",
    "    inputpath_profiles = home_path+'/DATA/SUMMER_PAPER/interim/T_S_PROF/nemo_5km_'+nemo_run+'/'\n",
    "    outputpath_simple = home_path+'/DATA/SUMMER_PAPER/interim/SIMPLE/nemo_5km_'+nemo_run+'/'\n",
    "    inputpath_plumes = home_path+'/DATA/SUMMER_PAPER/interim/PLUMES/nemo_5km_'+nemo_run+'/'\n",
    "    outputpath_plumes = home_path+'/DATA/SUMMER_PAPER/interim/PLUMES/nemo_5km_'+nemo_run+'/'\n",
    "    inputpath_boxes = home_path+'/DATA/SUMMER_PAPER/interim/BOXES/nemo_5km_'+nemo_run+'/'\n",
    "    outputpath_boxes = home_path+'/DATA/SUMMER_PAPER/interim/BOXES/nemo_5km_'+nemo_run+'/'\n",
    "else:\n",
    "    inputpath_data=home_path+'/DATA/BASAL_MELT_PARAM/interim/NEMO_eORCA025.L121_'+nemo_run+'_ANT_STEREO/'\n",
    "    inputpath_mask = home_path+'/DATA/BASAL_MELT_PARAM/interim/ANTARCTICA_IS_MASKS/nemo_5km_'+nemo_run+'/'\n",
    "    inputpath_profiles = home_path+'/DATA/BASAL_MELT_PARAM/interim/T_S_PROF/nemo_5km_'+nemo_run+'/'\n",
    "    outputpath_simple = home_path+'/DATA/BASAL_MELT_PARAM/interim/SIMPLE/nemo_5km_'+nemo_run+'/'\n",
    "    inputpath_plumes = home_path+'/DATA/BASAL_MELT_PARAM/interim/PLUMES/nemo_5km_'+nemo_run+'/'\n",
    "    outputpath_plumes = home_path+'/DATA/BASAL_MELT_PARAM/interim/PLUMES/nemo_5km_'+nemo_run+'/'\n",
    "    inputpath_boxes = home_path+'/DATA/BASAL_MELT_PARAM/interim/BOXES/nemo_5km_'+nemo_run+'/'\n",
    "    outputpath_boxes = home_path+'/DATA/BASAL_MELT_PARAM/interim/BOXES/nemo_5km_'+nemo_run+'/'\n",
    "\n",
    "outputpath_simple_all_old = home_path+'/DATA/BASAL_MELT_PARAM/interim/SIMPLE/nemo_5km_06161821_oneFRIS/'\n",
    "outputpath_simple_all_new = home_path+'/DATA/SUMMER_PAPER/interim/SIMPLE/nemo_5km_orig_christoph_oneFRIS/'\n",
    "outputpath_melt = home_path+'/DATA/SUMMER_PAPER/processed/OCEAN_MELT_RATE_CHECK_TUNING/nemo_5km_'+nemo_run+'/'\n"
   ]
  },
  {
   "cell_type": "code",
   "execution_count": 106,
   "id": "acb3f3d5-03e5-4e96-97a2-ca7542a9ad71",
   "metadata": {},
   "outputs": [],
   "source": [
    "# make the domain a little smaller to make the computation even more efficient - file isf has already been made smaller at its creation\n",
    "map_lim = [-3000000,3000000]"
   ]
  },
  {
   "cell_type": "code",
   "execution_count": 107,
   "id": "b1bd9c4a-7a6d-484f-ac4d-255b2347ff33",
   "metadata": {},
   "outputs": [],
   "source": [
    "file_other = xr.open_dataset(inputpath_data+'corrected_draft_bathy_isf.nc')#, chunks={'x': chunk_size, 'y': chunk_size})\n",
    "file_other_cut = uf.cut_domain_stereo(file_other, map_lim, map_lim)\n",
    "file_conc = xr.open_dataset(inputpath_data+'isfdraft_conc_Ant_stereo.nc')\n",
    "file_conc_cut = uf.cut_domain_stereo(file_conc, map_lim, map_lim)"
   ]
  },
  {
   "cell_type": "code",
   "execution_count": 108,
   "id": "6f082c30-ab83-40ed-82de-ef5fb8b9f72c",
   "metadata": {},
   "outputs": [],
   "source": [
    "#file_isf_orig = xr.open_dataset(inputpath_mask+'nemo_5km_isf_masks_and_info_and_distance_new.nc')\n",
    "if nemo_run in ['ctrl94','isf94','isfru94']:\n",
    "    file_isf_orig = xr.open_dataset(inputpath_mask+'nemo_5km_isf_masks_and_info_and_distance_oneFRIS.nc')\n",
    "else:\n",
    "    file_isf_orig = xr.open_dataset(inputpath_mask+'nemo_5km_isf_masks_and_info_and_distance_new_oneFRIS.nc')\n",
    "nonnan_Nisf = file_isf_orig['Nisf'].where(np.isfinite(file_isf_orig['front_bot_depth_max']), drop=True).astype(int)\n",
    "file_isf_nonnan = file_isf_orig.sel(Nisf=nonnan_Nisf)\n",
    "large_isf = file_isf_nonnan['Nisf'].where(file_isf_nonnan['isf_area_here'] >= 2500, drop=True)\n",
    "file_isf = file_isf_nonnan.sel(Nisf=large_isf)\n",
    "file_isf['isf_name'] = file_isf['isf_name'].astype(str)\n",
    "file_isf['region'] = file_isf['region'].astype(str)\n",
    "\n",
    "\n",
    "#file_TS = xr.open_dataset(inputpath_profiles+'T_S_mean_prof_km_contshelf_1980-2018.nc')\n",
    "#file_TS = file_TS.rename({'dist_from_front': 'profile_domain'})\n",
    "#file_TS_orig = xr.open_dataset(inputpath_profiles+'T_S_mean_prof_corrected_km_contshelf_and_offshore_1980-2018.nc')\n",
    "if nemo_run in ['ctrl94','isf94','isfru94']:\n",
    "    file_TS_orig = xr.open_dataset(inputpath_profiles+'T_S_mean_prof_corrected_km_contshelf_allyy.nc')\n",
    "else:\n",
    "    file_TS_orig = xr.open_dataset(inputpath_profiles+'T_S_mean_prof_corrected_km_contshelf_and_offshore_1980-2018_oneFRIS.nc')\n",
    "    file_TS_orig = file_TS_orig.sel(Nisf=large_isf).sel(profile_domain=50).squeeze().drop('profile_domain')#.isel(time=range(40,70))\n",
    "\n",
    "file_TS = file_TS_orig#.sel(time=file_TS_orig.time[-10::])"
   ]
  },
  {
   "cell_type": "code",
   "execution_count": 109,
   "id": "fff7afc9-066e-446e-b5df-7f4f2d99dd29",
   "metadata": {},
   "outputs": [],
   "source": [
    "lon = file_isf.longitude\n",
    "lat = file_isf.latitude"
   ]
  },
  {
   "cell_type": "code",
   "execution_count": 110,
   "id": "92bfa1ae-7f72-4010-b9c9-f32a862f2af2",
   "metadata": {},
   "outputs": [],
   "source": [
    "file_isf_conc = file_conc_cut['isfdraft_conc']\n",
    "\n",
    "xx = file_isf.x\n",
    "yy = file_isf.y\n",
    "dx = (xx[2] - xx[1]).values\n",
    "dy = (yy[2] - yy[1]).values\n",
    "grid_cell_area = abs(dx*dy)  \n",
    "grid_cell_area_weighted = file_isf_conc * grid_cell_area"
   ]
  },
  {
   "cell_type": "code",
   "execution_count": 111,
   "id": "ded361c1-fc08-4462-b221-6fdb8dc05840",
   "metadata": {},
   "outputs": [],
   "source": [
    "ice_draft_pos = file_other_cut['corrected_isfdraft']\n",
    "ice_draft_neg = -ice_draft_pos"
   ]
  },
  {
   "cell_type": "code",
   "execution_count": 112,
   "id": "fbb91e50-24e9-448c-a939-7c11a0398441",
   "metadata": {},
   "outputs": [],
   "source": [
    "isf_stack_mask = uf.create_stacked_mask(file_isf['ISF_mask'], file_isf.Nisf, ['y','x'], 'mask_coord')"
   ]
  },
  {
   "cell_type": "code",
   "execution_count": 113,
   "id": "4eb04ab2-59a0-449a-bb39-ed0318a3859b",
   "metadata": {},
   "outputs": [],
   "source": [
    "box_charac_all_2D = xr.open_dataset(inputpath_boxes + 'nemo_5km_boxes_2D_oneFRIS.nc')\n",
    "box_charac_all_1D = xr.open_dataset(inputpath_boxes + 'nemo_5km_boxes_1D_oneFRIS.nc')\n",
    "plume_charac = xr.open_dataset(inputpath_plumes+'nemo_5km_plume_characteristics_oneFRIS_corrected.nc')\n",
    "plume_charac['option'] = ['cavity','lazero','local']"
   ]
  },
  {
   "cell_type": "code",
   "execution_count": 114,
   "id": "e5af5a1c-ef52-404e-b09e-d510d0e33ec6",
   "metadata": {},
   "outputs": [],
   "source": [
    "param_var_of_int_2D = file_isf[['ISF_mask', 'latitude', 'longitude', 'dGL']]\n",
    "param_var_of_int_1D = file_isf[['front_bot_depth_avg', 'front_bot_depth_max','isf_name']]"
   ]
  },
  {
   "cell_type": "code",
   "execution_count": 115,
   "id": "b291dcb8-411a-4154-81dd-ec3f2aa93d69",
   "metadata": {},
   "outputs": [],
   "source": [
    "geometry_info_2D = plume_charac.merge(param_var_of_int_2D).merge(ice_draft_pos).rename({'corrected_isfdraft':'ice_draft_pos'}).merge(grid_cell_area_weighted).rename({'isfdraft_conc':'grid_cell_area_weighted'}).merge(file_isf_conc)\n",
    "geometry_info_1D = param_var_of_int_1D"
   ]
  },
  {
   "cell_type": "code",
   "execution_count": 116,
   "id": "983624ac-b2a2-44ac-9eda-15d32162e48f",
   "metadata": {},
   "outputs": [],
   "source": [
    "geometry_info_2D = geometry_info_2D.assign_coords({'option': ['cavity','lazero','local']})"
   ]
  },
  {
   "cell_type": "code",
   "execution_count": null,
   "id": "1052758b-8215-4b32-a415-c94d94df66c7",
   "metadata": {},
   "outputs": [],
   "source": [
    "gammas_new_tuning = xr.open_dataset(outputpath_simple_all_new + 'gammas_simple_ALL.nc')\n",
    "gammas_old_tuning = xr.open_dataset(outputpath_simple_all_old + 'gammas_simple_ALL.nc')\n",
    "gammas_SMALL_tuning = xr.open_dataset(outputpath_simple_all_new + 'gammas_simple_SMALL.nc')\n",
    "gammas_LARGE_tuning = xr.open_dataset(outputpath_simple_all_new + 'gammas_simple_LARGE.nc')\n",
    "\n",
    "simple_param_types = ['linear_local', 'quadratic_local', 'quadratic_local_locslope',\n",
    "                      'quadratic_mixed_mean', 'quadratic_mixed_locslope'] \n",
    "\n",
    "nisf_list_orig = geometry_info_1D.Nisf\n",
    "T_S_profile = file_TS.ffill(dim='depth')\n",
    "\n",
    "\n",
    "for mparam in simple_param_types:\n",
    "    \n",
    "    eval_1D_list = []\n",
    "    for tuning_sort in ['LARGE','SMALL']: #'old','SMALL'\n",
    "\n",
    "        if tuning_sort == 'LARGE':\n",
    "            nisf_list = nisf_list_orig.sel(Nisf=[10,11])\n",
    "            gamma = gammas_LARGE_tuning['slope'].sel(param=mparam)\n",
    "        elif tuning_sort == 'SMALL':\n",
    "            nisf_list = nisf_list_orig.drop_sel(Nisf=[10,11])\n",
    "            gamma = gammas_SMALL_tuning['slope'].sel(param=mparam)\n",
    "        \n",
    "        eval_1D = meltf.calculate_melt_rate_Gt_and_box1_all_isf(nisf_list, T_S_profile, \n",
    "                                                                geometry_info_2D, geometry_info_1D, isf_stack_mask, \n",
    "                                                                mparam, gamma, U_param=True, \n",
    "                                                                box_charac_2D=box_charac_all_2D, box_charac_1D=box_charac_all_1D, verbose=True)\n",
    "        eval_1D_list.append(eval_1D)\n",
    "        \n",
    "    eval_1D_all = xr.concat(eval_1D_list,dim='Nisf')\n",
    "\n",
    "    eval_1D_all.to_netcdf(outputpath_melt+'eval_metrics_1D_'+mparam+'_newtuning_oneFRIS.nc')\n",
    "\n",
    "nisf_list_orig = geometry_info_1D.Nisf\n",
    "T_S_profile = file_TS.ffill(dim='depth')"
   ]
  },
  {
   "cell_type": "code",
   "execution_count": 117,
   "id": "6779d960-415d-481e-8783-971e708f0a45",
   "metadata": {},
   "outputs": [
    {
     "name": "stdout",
     "output_type": "stream",
     "text": [
      "WELCOME! AS YOU WISH, I WILL COMPUTE THE EVALUATION METRICS FOR THE PARAMETERISATION \"lazero19\" FOR 35 ICE SHELVES\n"
     ]
    },
    {
     "data": {
      "application/vnd.jupyter.widget-view+json": {
       "model_id": "bfd3069509cf42839c27528c43467278",
       "version_major": 2,
       "version_minor": 0
      },
      "text/plain": [
       "  0%|          | 0/35 [00:00<?, ?it/s]"
      ]
     },
     "metadata": {},
     "output_type": "display_data"
    },
    {
     "name": "stdout",
     "output_type": "stream",
     "text": [
      "I AM DONE! IT TOOK: 20.41 seconds.\n"
     ]
    }
   ],
   "source": [
    "nisf_list_orig = geometry_info_1D.Nisf\n",
    "T_S_profile = file_TS.ffill(dim='depth')\n",
    "\n",
    "#########\n",
    "\n",
    "mparam = 'lazero19'    \n",
    "\n",
    "nisf_list = nisf_list_orig\n",
    "gamma = 6.2e-4\n",
    "E0 = 2.0e-2\n",
    "\n",
    "\n",
    "eval_1D = meltf.calculate_melt_rate_Gt_and_box1_all_isf(nisf_list, T_S_profile, \n",
    "                                                 geometry_info_2D, geometry_info_1D, isf_stack_mask, \n",
    "                                                 mparam, gamma, E0=E0, \n",
    "                                                 box_charac_2D=box_charac_all_2D, box_charac_1D=box_charac_all_1D, verbose=True)\n",
    "\n",
    "\n",
    "\n",
    "eval_1D.to_netcdf(outputpath_melt+'eval_metrics_1D_'+mparam+'_newtuning_oneFRIS.nc')"
   ]
  },
  {
   "cell_type": "code",
   "execution_count": 16,
   "id": "2d840570-92eb-49a0-9d52-419e75a1383d",
   "metadata": {},
   "outputs": [
    {
     "name": "stdout",
     "output_type": "stream",
     "text": [
      "WELCOME! AS YOU WISH, I WILL COMPUTE THE EVALUATION METRICS FOR THE PARAMETERISATION \"lazero19\" FOR 35 ICE SHELVES\n"
     ]
    },
    {
     "data": {
      "application/vnd.jupyter.widget-view+json": {
       "model_id": "27d7a197c56f4ccab13dbda0e791f96d",
       "version_major": 2,
       "version_minor": 0
      },
      "text/plain": [
       "  0%|          | 0/35 [00:00<?, ?it/s]"
      ]
     },
     "metadata": {},
     "output_type": "display_data"
    },
    {
     "name": "stdout",
     "output_type": "stream",
     "text": [
      "I AM DONE! IT TOOK: 14.44 seconds.\n",
      "WELCOME! AS YOU WISH, I WILL COMPUTE THE EVALUATION METRICS FOR THE PARAMETERISATION \"boxes_4_pismyes_picopno\" FOR 35 ICE SHELVES\n"
     ]
    },
    {
     "data": {
      "application/vnd.jupyter.widget-view+json": {
       "model_id": "b0a54ef7b8a64cbd9c0d0f380ef44dbc",
       "version_major": 2,
       "version_minor": 0
      },
      "text/plain": [
       "  0%|          | 0/35 [00:00<?, ?it/s]"
      ]
     },
     "metadata": {},
     "output_type": "display_data"
    },
    {
     "name": "stdout",
     "output_type": "stream",
     "text": [
      "I AM DONE! IT TOOK: 26.51 seconds.\n"
     ]
    }
   ],
   "source": [
    "#########\n",
    "\n",
    "nisf_list_orig = geometry_info_1D.Nisf\n",
    "T_S_profile = file_TS.ffill(dim='depth')\n",
    "    \n",
    "mparam = 'boxes_4_pismyes_picopno'\n",
    "pism_version = 'yes'\n",
    "nD_config = 4\n",
    "\n",
    "nisf_list = nisf_list_orig\n",
    "gamma = 0.88e-5\n",
    "C = 2.9e6\n",
    "\n",
    "        \n",
    "eval_1D = meltf.calculate_melt_rate_Gt_and_box1_all_isf(nisf_list, T_S_profile, \n",
    "                                                         geometry_info_2D, geometry_info_1D, isf_stack_mask, \n",
    "                                                         mparam, gamma, C=C, angle_option='local',\n",
    "                                                         box_charac_2D=box_charac_all_2D, box_charac_1D=box_charac_all_1D, box_tot=nD_config, \n",
    "                                                         box_tot_option='nD_config', pism_version=pism_version, picop_opt='no',\n",
    "                                                         verbose=True)  \n",
    "    \n",
    "eval_1D.to_netcdf(outputpath_melt+'eval_metrics_1D_'+mparam+'_newtuning_oneFRIS.nc')"
   ]
  },
  {
   "cell_type": "code",
   "execution_count": null,
   "id": "0a848680-a0ca-4d02-8cc5-2de75fb7fe7f",
   "metadata": {},
   "outputs": [],
   "source": [
    "eval_1D"
   ]
  },
  {
   "cell_type": "markdown",
   "id": "262ec64f-fdaf-4de0-beef-d762557fc7d5",
   "metadata": {},
   "source": [
    "SIMPLE"
   ]
  },
  {
   "cell_type": "code",
   "execution_count": null,
   "id": "98d6ce92-0821-4a1c-a3ff-ed296902da1f",
   "metadata": {},
   "outputs": [],
   "source": [
    "gammas_new_tuning = xr.open_dataset(outputpath_simple_all_new + 'gammas_simple_ALL.nc')\n",
    "gammas_old_tuning = xr.open_dataset(outputpath_simple_all_old + 'gammas_simple_ALL.nc')"
   ]
  },
  {
   "cell_type": "code",
   "execution_count": null,
   "id": "ecf95301-4d48-4e89-9a5a-5bd2b3af19cd",
   "metadata": {},
   "outputs": [],
   "source": [
    "simple_param_types = ['linear_local', 'quadratic_local', 'quadratic_local_locslope',\n",
    "                      'quadratic_mixed_mean', 'quadratic_mixed_locslope'] \n",
    "\n",
    "nisf_list = geometry_info_1D.Nisf\n",
    "T_S_profile = file_TS.ffill(dim='depth')\n",
    "\n",
    "for tuning_sort in ['old','new']: \n",
    "    \n",
    "    for mparam in simple_param_types:\n",
    "        \n",
    "        if tuning_sort == 'old':\n",
    "            gamma = gammas_old_tuning['slope'].sel(param=mparam)\n",
    "        elif tuning_sort == 'new':\n",
    "            gamma = gammas_new_tuning['slope'].sel(param=mparam)\n",
    "\n",
    "        eval_1D = meltf.calculate_melt_rate_Gt_and_box1_all_isf(nisf_list, T_S_profile, \n",
    "                                                                geometry_info_2D, geometry_info_1D, isf_stack_mask, \n",
    "                                                                mparam, gamma, U_param=True, \n",
    "                                                                box_charac_2D=box_charac_all_2D, box_charac_1D=box_charac_all_1D, verbose=True)\n",
    "\n",
    "        eval_1D.to_netcdf(outputpath_melt+'eval_metrics_1D_'+mparam+'_'+tuning_sort+'tuning_oneFRIS.nc')\n"
   ]
  },
  {
   "cell_type": "code",
   "execution_count": null,
   "id": "f9c03ffb-db2e-48ef-bde7-74b6ddcf3495",
   "metadata": {},
   "outputs": [],
   "source": [
    "nisf_list = geometry_info_1D.Nisf\n",
    "T_S_profile = file_TS.ffill(dim='depth')\n",
    "\n",
    "for tuning_sort in ['old','new']: \n",
    "    \n",
    "    mparam = 'lazero19'\n",
    "    \n",
    "    if tuning_sort == 'old':\n",
    "        gamma = 2.8e-4\n",
    "        E0 = 4.2e-2\n",
    "    elif tuning_sort == 'new':\n",
    "        gamma = 6.2e-4 \n",
    "        E0 = 2.0e-2 \n",
    "        \n",
    "    eval_1D = meltf.calculate_melt_rate_Gt_and_box1_all_isf(nisf_list, T_S_profile, \n",
    "                                                         geometry_info_2D, geometry_info_1D, isf_stack_mask, \n",
    "                                                         mparam, gamma, E0=E0, \n",
    "                                                         box_charac_2D=box_charac_all_2D, box_charac_1D=box_charac_all_1D, verbose=True)\n",
    "    \n",
    "    eval_1D.to_netcdf(outputpath_melt+'eval_metrics_1D_'+mparam+'_'+tuning_sort+'tuning_oneFRIS.nc')\n"
   ]
  },
  {
   "cell_type": "code",
   "execution_count": null,
   "id": "4b916e89-6884-425c-ab05-1fe1af62eeee",
   "metadata": {},
   "outputs": [],
   "source": [
    "nisf_list = geometry_info_1D.Nisf\n",
    "T_S_profile = file_TS.ffill(dim='depth')\n",
    "\n",
    "for tuning_sort in ['old','new']: \n",
    "    \n",
    "    mparam = 'boxes_4_pismyes_picopno'\n",
    "    pism_version = 'yes'\n",
    "    nD_config = 4\n",
    "        \n",
    "    if tuning_sort == 'old':\n",
    "        gamma = 0.39e-5\n",
    "        C = 20.5e6\n",
    "    elif tuning_sort == 'new':\n",
    "        gamma = 0.87e-5 \n",
    "        C = 2.8e6\n",
    "        \n",
    "    eval_1D = meltf.calculate_melt_rate_Gt_and_box1_all_isf(nisf_list, T_S_profile, \n",
    "                                                             geometry_info_2D, geometry_info_1D, isf_stack_mask, \n",
    "                                                             mparam, gamma, C=C, angle_option='local',\n",
    "                                                             box_charac_2D=box_charac_all_2D, box_charac_1D=box_charac_all_1D, box_tot=nD_config, \n",
    "                                                             box_tot_option='nD_config', pism_version=pism_version, picop_opt='no',\n",
    "                                                             verbose=True)  \n",
    "    \n",
    "    eval_1D.to_netcdf(outputpath_melt+'eval_metrics_1D_'+mparam+'_'+tuning_sort+'tuning_oneFRIS.nc')\n"
   ]
  },
  {
   "cell_type": "code",
   "execution_count": null,
   "id": "1da0845e-bbaf-4171-86ad-26164046e8fc",
   "metadata": {},
   "outputs": [],
   "source": []
  }
 ],
 "metadata": {
  "kernelspec": {
   "display_name": "py38",
   "language": "python",
   "name": "py38"
  },
  "language_info": {
   "codemirror_mode": {
    "name": "ipython",
    "version": 3
   },
   "file_extension": ".py",
   "mimetype": "text/x-python",
   "name": "python",
   "nbconvert_exporter": "python",
   "pygments_lexer": "ipython3",
   "version": "3.8.12"
  }
 },
 "nbformat": 4,
 "nbformat_minor": 5
}
