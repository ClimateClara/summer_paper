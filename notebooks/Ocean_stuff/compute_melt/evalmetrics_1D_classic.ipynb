{
 "cells": [
  {
   "cell_type": "code",
   "execution_count": null,
   "id": "0",
   "metadata": {},
   "outputs": [],
   "source": [
    "\"\"\"\n",
    "\n",
    "Apply the uncertainty of the parameters from Burgard et al. 2022 to show that \n",
    "uncertainty from parameters is lower than uncertainty from parameterisations\n",
    "\n",
    "\"\"\""
   ]
  },
  {
   "cell_type": "code",
   "execution_count": null,
   "id": "1",
   "metadata": {},
   "outputs": [],
   "source": [
    "import xarray as xr\n",
    "import numpy as np\n",
    "import matplotlib.pyplot as plt\n",
    "from matplotlib import cm\n",
    "import cartopy\n",
    "import cartopy.crs as ccrs\n",
    "import matplotlib as mpl\n",
    "import pandas as pd \n",
    "from tqdm.notebook import trange, tqdm\n",
    "import time\n",
    "import multimelt.melt_functions as meltf\n",
    "import multimelt.plume_functions as pf\n",
    "import summer_paper.useful_functions as uf\n",
    "from multimelt.constants import *\n",
    "import seaborn as sns\n",
    "import os, glob\n",
    "import distributed"
   ]
  },
  {
   "cell_type": "code",
   "execution_count": null,
   "id": "2",
   "metadata": {},
   "outputs": [],
   "source": [
    "#home_path = '/Users/claraburgard/bettik_clara/'\n",
    "home_path='/bettik/burgardc/'\n",
    "#home_path='/data/users/burgardc/bettik_clara/'"
   ]
  },
  {
   "cell_type": "code",
   "execution_count": null,
   "id": "3",
   "metadata": {},
   "outputs": [],
   "source": [
    "nemo_run = 'isfru94'"
   ]
  },
  {
   "cell_type": "code",
   "execution_count": null,
   "id": "4",
   "metadata": {},
   "outputs": [],
   "source": [
    "if nemo_run in ['ctrl94','isf94','isfru94']:\n",
    "    inputpath_data=home_path+'/DATA/SUMMER_PAPER/interim/NEMO_'+nemo_run+'_ANT_STEREO/'\n",
    "    inputpath_mask = home_path+'/DATA/SUMMER_PAPER/interim/ANTARCTICA_IS_MASKS/nemo_5km_'+nemo_run+'/'\n",
    "    inputpath_profiles = home_path+'/DATA/SUMMER_PAPER/interim/T_S_PROF/nemo_5km_'+nemo_run+'/'\n",
    "    outputpath_simple = home_path+'/DATA/SUMMER_PAPER/interim/SIMPLE/nemo_5km_'+nemo_run+'/'\n",
    "    inputpath_plumes = home_path+'/DATA/SUMMER_PAPER/interim/PLUMES/nemo_5km_'+nemo_run+'/'\n",
    "    outputpath_plumes = home_path+'/DATA/SUMMER_PAPER/interim/PLUMES/nemo_5km_'+nemo_run+'/'\n",
    "    inputpath_boxes = home_path+'/DATA/SUMMER_PAPER/interim/BOXES/nemo_5km_'+nemo_run+'/'\n",
    "    outputpath_boxes = home_path+'/DATA/SUMMER_PAPER/interim/BOXES/nemo_5km_'+nemo_run+'/'\n",
    "else:\n",
    "    inputpath_data=home_path+'/DATA/BASAL_MELT_PARAM/interim/NEMO_eORCA025.L121_'+nemo_run+'_ANT_STEREO/'\n",
    "    inputpath_mask = home_path+'/DATA/BASAL_MELT_PARAM/interim/ANTARCTICA_IS_MASKS/nemo_5km_'+nemo_run+'/'\n",
    "    inputpath_profiles = home_path+'/DATA/BASAL_MELT_PARAM/interim/T_S_PROF/nemo_5km_'+nemo_run+'/'\n",
    "    outputpath_simple = home_path+'/DATA/BASAL_MELT_PARAM/interim/SIMPLE/nemo_5km_'+nemo_run+'/'\n",
    "    inputpath_plumes = home_path+'/DATA/BASAL_MELT_PARAM/interim/PLUMES/nemo_5km_'+nemo_run+'/'\n",
    "    outputpath_plumes = home_path+'/DATA/BASAL_MELT_PARAM/interim/PLUMES/nemo_5km_'+nemo_run+'/'\n",
    "    inputpath_boxes = home_path+'/DATA/BASAL_MELT_PARAM/interim/BOXES/nemo_5km_'+nemo_run+'/'\n",
    "    outputpath_boxes = home_path+'/DATA/BASAL_MELT_PARAM/interim/BOXES/nemo_5km_'+nemo_run+'/'\n",
    "\n",
    "outputpath_simple_all_old = home_path+'/DATA/BASAL_MELT_PARAM/interim/SIMPLE/nemo_5km_06161821_oneFRIS/'\n",
    "outputpath_simple_all_new = home_path+'/DATA/SUMMER_PAPER/interim/SIMPLE/nemo_5km_orig_christoph_oneFRIS/'\n",
    "outputpath_melt = home_path+'/DATA/SUMMER_PAPER/processed/OCEAN_MELT_RATE_CHECK_TUNING/nemo_5km_'+nemo_run+'/'\n"
   ]
  },
  {
   "cell_type": "code",
   "execution_count": null,
   "id": "5",
   "metadata": {},
   "outputs": [],
   "source": [
    "# make the domain a little smaller to make the computation even more efficient - file isf has already been made smaller at its creation\n",
    "map_lim = [-3000000,3000000]"
   ]
  },
  {
   "cell_type": "code",
   "execution_count": null,
   "id": "6",
   "metadata": {},
   "outputs": [],
   "source": [
    "file_other = xr.open_dataset(inputpath_data+'corrected_draft_bathy_isf.nc')#, chunks={'x': chunk_size, 'y': chunk_size})\n",
    "file_other_cut = uf.cut_domain_stereo(file_other, map_lim, map_lim)\n",
    "file_conc = xr.open_dataset(inputpath_data+'isfdraft_conc_Ant_stereo.nc')\n",
    "file_conc_cut = uf.cut_domain_stereo(file_conc, map_lim, map_lim)"
   ]
  },
  {
   "cell_type": "code",
   "execution_count": null,
   "id": "7",
   "metadata": {},
   "outputs": [],
   "source": [
    "#file_isf_orig = xr.open_dataset(inputpath_mask+'nemo_5km_isf_masks_and_info_and_distance_new.nc')\n",
    "if nemo_run in ['ctrl94','isf94','isfru94']:\n",
    "    file_isf_orig = xr.open_dataset(inputpath_mask+'nemo_5km_isf_masks_and_info_and_distance_oneFRIS.nc')\n",
    "else:\n",
    "    file_isf_orig = xr.open_dataset(inputpath_mask+'nemo_5km_isf_masks_and_info_and_distance_new_oneFRIS.nc')\n",
    "nonnan_Nisf = file_isf_orig['Nisf'].where(np.isfinite(file_isf_orig['front_bot_depth_max']), drop=True).astype(int)\n",
    "file_isf_nonnan = file_isf_orig.sel(Nisf=nonnan_Nisf)\n",
    "large_isf = file_isf_nonnan['Nisf'].where(file_isf_nonnan['isf_area_here'] >= 2500, drop=True)\n",
    "file_isf = file_isf_nonnan.sel(Nisf=large_isf)\n",
    "file_isf['isf_name'] = file_isf['isf_name'].astype(str)\n",
    "file_isf['region'] = file_isf['region'].astype(str)\n",
    "\n",
    "\n",
    "#file_TS = xr.open_dataset(inputpath_profiles+'T_S_mean_prof_km_contshelf_1980-2018.nc')\n",
    "#file_TS = file_TS.rename({'dist_from_front': 'profile_domain'})\n",
    "#file_TS_orig = xr.open_dataset(inputpath_profiles+'T_S_mean_prof_corrected_km_contshelf_and_offshore_1980-2018.nc')\n",
    "if nemo_run in ['ctrl94','isf94','isfru94']:\n",
    "    file_TS_orig = xr.open_dataset(inputpath_profiles+'T_S_mean_prof_corrected_km_contshelf_allyy.nc')\n",
    "else:\n",
    "    file_TS_orig = xr.open_dataset(inputpath_profiles+'T_S_mean_prof_corrected_km_contshelf_and_offshore_1980-2018_oneFRIS.nc')\n",
    "    file_TS_orig = file_TS_orig.sel(Nisf=large_isf).sel(profile_domain=50).squeeze().drop('profile_domain')#.isel(time=range(40,70))\n",
    "\n",
    "file_TS = file_TS_orig#.sel(time=file_TS_orig.time[-10::])"
   ]
  },
  {
   "cell_type": "code",
   "execution_count": null,
   "id": "8",
   "metadata": {},
   "outputs": [],
   "source": [
    "lon = file_isf.longitude\n",
    "lat = file_isf.latitude"
   ]
  },
  {
   "cell_type": "code",
   "execution_count": null,
   "id": "9",
   "metadata": {},
   "outputs": [],
   "source": [
    "file_isf_conc = file_conc_cut['isfdraft_conc']\n",
    "\n",
    "xx = file_isf.x\n",
    "yy = file_isf.y\n",
    "dx = (xx[2] - xx[1]).values\n",
    "dy = (yy[2] - yy[1]).values\n",
    "grid_cell_area = abs(dx*dy)  \n",
    "grid_cell_area_weighted = file_isf_conc * grid_cell_area"
   ]
  },
  {
   "cell_type": "code",
   "execution_count": null,
   "id": "10",
   "metadata": {},
   "outputs": [],
   "source": [
    "ice_draft_pos = file_other_cut['corrected_isfdraft']\n",
    "ice_draft_neg = -ice_draft_pos"
   ]
  },
  {
   "cell_type": "code",
   "execution_count": null,
   "id": "11",
   "metadata": {},
   "outputs": [],
   "source": [
    "isf_stack_mask = uf.create_stacked_mask(file_isf['ISF_mask'], file_isf.Nisf, ['y','x'], 'mask_coord')"
   ]
  },
  {
   "cell_type": "code",
   "execution_count": null,
   "id": "12",
   "metadata": {},
   "outputs": [],
   "source": [
    "box_charac_all_2D = xr.open_dataset(inputpath_boxes + 'nemo_5km_boxes_2D_oneFRIS.nc')\n",
    "box_charac_all_1D = xr.open_dataset(inputpath_boxes + 'nemo_5km_boxes_1D_oneFRIS.nc')\n",
    "plume_charac = xr.open_dataset(inputpath_plumes+'nemo_5km_plume_characteristics_oneFRIS_corrected.nc')\n",
    "plume_charac['option'] = ['cavity','lazero','local']"
   ]
  },
  {
   "cell_type": "code",
   "execution_count": null,
   "id": "13",
   "metadata": {},
   "outputs": [],
   "source": [
    "param_var_of_int_2D = file_isf[['ISF_mask', 'latitude', 'longitude', 'dGL']]\n",
    "param_var_of_int_1D = file_isf[['front_bot_depth_avg', 'front_bot_depth_max','isf_name']]"
   ]
  },
  {
   "cell_type": "code",
   "execution_count": null,
   "id": "14",
   "metadata": {},
   "outputs": [],
   "source": [
    "geometry_info_2D = plume_charac.merge(param_var_of_int_2D).merge(ice_draft_pos).rename({'corrected_isfdraft':'ice_draft_pos'}).merge(grid_cell_area_weighted).rename({'isfdraft_conc':'grid_cell_area_weighted'}).merge(file_isf_conc)\n",
    "geometry_info_1D = param_var_of_int_1D"
   ]
  },
  {
   "cell_type": "code",
   "execution_count": null,
   "id": "15",
   "metadata": {},
   "outputs": [],
   "source": [
    "geometry_info_2D = geometry_info_2D.assign_coords({'option': ['cavity','lazero','local']})"
   ]
  },
  {
   "cell_type": "code",
   "execution_count": null,
   "id": "16",
   "metadata": {},
   "outputs": [],
   "source": [
    "gammas_new_tuning = xr.open_dataset(outputpath_simple_all_new + 'gammas_simple_ALL.nc')\n",
    "gammas_old_tuning = xr.open_dataset(outputpath_simple_all_old + 'gammas_simple_ALL.nc')\n",
    "gammas_SMALL_tuning = xr.open_dataset(outputpath_simple_all_new + 'gammas_simple_SMALL.nc')\n",
    "gammas_LARGE_tuning = xr.open_dataset(outputpath_simple_all_new + 'gammas_simple_LARGE.nc')\n",
    "\n",
    "simple_param_types = ['linear_local', 'quadratic_local', 'quadratic_local_locslope',\n",
    "                      'quadratic_mixed_mean', 'quadratic_mixed_locslope'] \n",
    "\n",
    "nisf_list_orig = geometry_info_1D.Nisf\n",
    "T_S_profile = file_TS.ffill(dim='depth')\n",
    "\n",
    "\n",
    "for mparam in simple_param_types:\n",
    "    \n",
    "    eval_1D_list = []\n",
    "    for tuning_sort in ['LARGE','SMALL']: #'old','SMALL'\n",
    "\n",
    "        if tuning_sort == 'LARGE':\n",
    "            nisf_list = nisf_list_orig.sel(Nisf=[10,11])\n",
    "            gamma = gammas_LARGE_tuning['slope'].sel(param=mparam)\n",
    "        elif tuning_sort == 'SMALL':\n",
    "            nisf_list = nisf_list_orig.drop_sel(Nisf=[10,11])\n",
    "            gamma = gammas_SMALL_tuning['slope'].sel(param=mparam)\n",
    "        \n",
    "        eval_1D = meltf.calculate_melt_rate_Gt_and_box1_all_isf(nisf_list, T_S_profile, \n",
    "                                                                geometry_info_2D, geometry_info_1D, isf_stack_mask, \n",
    "                                                                mparam, gamma, U_param=True, \n",
    "                                                                box_charac_2D=box_charac_all_2D, box_charac_1D=box_charac_all_1D, verbose=True)\n",
    "        eval_1D_list.append(eval_1D)\n",
    "        \n",
    "    eval_1D_all = xr.concat(eval_1D_list,dim='Nisf')\n",
    "\n",
    "    eval_1D_all.to_netcdf(outputpath_melt+'eval_metrics_1D_'+mparam+'_newtuning_oneFRIS.nc')\n",
    "\n",
    "nisf_list_orig = geometry_info_1D.Nisf\n",
    "T_S_profile = file_TS.ffill(dim='depth')"
   ]
  },
  {
   "cell_type": "code",
   "execution_count": null,
   "id": "17",
   "metadata": {},
   "outputs": [],
   "source": [
    "nisf_list_orig = geometry_info_1D.Nisf\n",
    "T_S_profile = file_TS.ffill(dim='depth')\n",
    "\n",
    "#########\n",
    "\n",
    "mparam = 'lazero19'    \n",
    "\n",
    "nisf_list = nisf_list_orig\n",
    "gamma = 6.2e-4\n",
    "E0 = 2.0e-2\n",
    "\n",
    "\n",
    "eval_1D = meltf.calculate_melt_rate_Gt_and_box1_all_isf(nisf_list, T_S_profile, \n",
    "                                                 geometry_info_2D, geometry_info_1D, isf_stack_mask, \n",
    "                                                 mparam, gamma, E0=E0, \n",
    "                                                 box_charac_2D=box_charac_all_2D, box_charac_1D=box_charac_all_1D, verbose=True)\n",
    "\n",
    "\n",
    "\n",
    "eval_1D.to_netcdf(outputpath_melt+'eval_metrics_1D_'+mparam+'_newtuning_oneFRIS.nc')"
   ]
  },
  {
   "cell_type": "code",
   "execution_count": null,
   "id": "18",
   "metadata": {},
   "outputs": [],
   "source": [
    "#########\n",
    "\n",
    "nisf_list_orig = geometry_info_1D.Nisf\n",
    "T_S_profile = file_TS.ffill(dim='depth')\n",
    "    \n",
    "mparam = 'boxes_4_pismyes_picopno'\n",
    "pism_version = 'yes'\n",
    "nD_config = 4\n",
    "\n",
    "nisf_list = nisf_list_orig\n",
    "gamma = 0.88e-5\n",
    "C = 2.9e6\n",
    "\n",
    "        \n",
    "eval_1D = meltf.calculate_melt_rate_Gt_and_box1_all_isf(nisf_list, T_S_profile, \n",
    "                                                         geometry_info_2D, geometry_info_1D, isf_stack_mask, \n",
    "                                                         mparam, gamma, C=C, angle_option='local',\n",
    "                                                         box_charac_2D=box_charac_all_2D, box_charac_1D=box_charac_all_1D, box_tot=nD_config, \n",
    "                                                         box_tot_option='nD_config', pism_version=pism_version, picop_opt='no',\n",
    "                                                         verbose=True)  \n",
    "    \n",
    "eval_1D.to_netcdf(outputpath_melt+'eval_metrics_1D_'+mparam+'_newtuning_oneFRIS.nc')"
   ]
  },
  {
   "cell_type": "code",
   "execution_count": null,
   "id": "19",
   "metadata": {},
   "outputs": [],
   "source": [
    "eval_1D"
   ]
  },
  {
   "cell_type": "markdown",
   "id": "20",
   "metadata": {},
   "source": [
    "SIMPLE"
   ]
  },
  {
   "cell_type": "code",
   "execution_count": null,
   "id": "21",
   "metadata": {},
   "outputs": [],
   "source": [
    "gammas_new_tuning = xr.open_dataset(outputpath_simple_all_new + 'gammas_simple_ALL.nc')\n",
    "gammas_old_tuning = xr.open_dataset(outputpath_simple_all_old + 'gammas_simple_ALL.nc')"
   ]
  },
  {
   "cell_type": "code",
   "execution_count": null,
   "id": "22",
   "metadata": {},
   "outputs": [],
   "source": [
    "simple_param_types = ['linear_local', 'quadratic_local', 'quadratic_local_locslope',\n",
    "                      'quadratic_mixed_mean', 'quadratic_mixed_locslope'] \n",
    "\n",
    "nisf_list = geometry_info_1D.Nisf\n",
    "T_S_profile = file_TS.ffill(dim='depth')\n",
    "\n",
    "for tuning_sort in ['old','new']: \n",
    "    \n",
    "    for mparam in simple_param_types:\n",
    "        \n",
    "        if tuning_sort == 'old':\n",
    "            gamma = gammas_old_tuning['slope'].sel(param=mparam)\n",
    "        elif tuning_sort == 'new':\n",
    "            gamma = gammas_new_tuning['slope'].sel(param=mparam)\n",
    "\n",
    "        eval_1D = meltf.calculate_melt_rate_Gt_and_box1_all_isf(nisf_list, T_S_profile, \n",
    "                                                                geometry_info_2D, geometry_info_1D, isf_stack_mask, \n",
    "                                                                mparam, gamma, U_param=True, \n",
    "                                                                box_charac_2D=box_charac_all_2D, box_charac_1D=box_charac_all_1D, verbose=True)\n",
    "\n",
    "        eval_1D.to_netcdf(outputpath_melt+'eval_metrics_1D_'+mparam+'_'+tuning_sort+'tuning_oneFRIS.nc')\n"
   ]
  },
  {
   "cell_type": "code",
   "execution_count": null,
   "id": "23",
   "metadata": {},
   "outputs": [],
   "source": [
    "nisf_list = geometry_info_1D.Nisf\n",
    "T_S_profile = file_TS.ffill(dim='depth')\n",
    "\n",
    "for tuning_sort in ['old','new']: \n",
    "    \n",
    "    mparam = 'lazero19'\n",
    "    \n",
    "    if tuning_sort == 'old':\n",
    "        gamma = 2.8e-4\n",
    "        E0 = 4.2e-2\n",
    "    elif tuning_sort == 'new':\n",
    "        gamma = 6.2e-4 \n",
    "        E0 = 2.0e-2 \n",
    "        \n",
    "    eval_1D = meltf.calculate_melt_rate_Gt_and_box1_all_isf(nisf_list, T_S_profile, \n",
    "                                                         geometry_info_2D, geometry_info_1D, isf_stack_mask, \n",
    "                                                         mparam, gamma, E0=E0, \n",
    "                                                         box_charac_2D=box_charac_all_2D, box_charac_1D=box_charac_all_1D, verbose=True)\n",
    "    \n",
    "    eval_1D.to_netcdf(outputpath_melt+'eval_metrics_1D_'+mparam+'_'+tuning_sort+'tuning_oneFRIS.nc')\n"
   ]
  },
  {
   "cell_type": "code",
   "execution_count": null,
   "id": "24",
   "metadata": {},
   "outputs": [],
   "source": [
    "nisf_list = geometry_info_1D.Nisf\n",
    "T_S_profile = file_TS.ffill(dim='depth')\n",
    "\n",
    "for tuning_sort in ['old','new']: \n",
    "    \n",
    "    mparam = 'boxes_4_pismyes_picopno'\n",
    "    pism_version = 'yes'\n",
    "    nD_config = 4\n",
    "        \n",
    "    if tuning_sort == 'old':\n",
    "        gamma = 0.39e-5\n",
    "        C = 20.5e6\n",
    "    elif tuning_sort == 'new':\n",
    "        gamma = 0.87e-5 \n",
    "        C = 2.8e6\n",
    "        \n",
    "    eval_1D = meltf.calculate_melt_rate_Gt_and_box1_all_isf(nisf_list, T_S_profile, \n",
    "                                                             geometry_info_2D, geometry_info_1D, isf_stack_mask, \n",
    "                                                             mparam, gamma, C=C, angle_option='local',\n",
    "                                                             box_charac_2D=box_charac_all_2D, box_charac_1D=box_charac_all_1D, box_tot=nD_config, \n",
    "                                                             box_tot_option='nD_config', pism_version=pism_version, picop_opt='no',\n",
    "                                                             verbose=True)  \n",
    "    \n",
    "    eval_1D.to_netcdf(outputpath_melt+'eval_metrics_1D_'+mparam+'_'+tuning_sort+'tuning_oneFRIS.nc')\n"
   ]
  },
  {
   "cell_type": "code",
   "execution_count": null,
   "id": "25",
   "metadata": {},
   "outputs": [],
   "source": []
  }
 ],
 "metadata": {
  "kernelspec": {
   "display_name": "py38",
   "language": "python",
   "name": "py38"
  },
  "language_info": {
   "codemirror_mode": {
    "name": "ipython",
    "version": 3
   },
   "file_extension": ".py",
   "mimetype": "text/x-python",
   "name": "python",
   "nbconvert_exporter": "python",
   "pygments_lexer": "ipython3",
   "version": "3.8.12"
  }
 },
 "nbformat": 4,
 "nbformat_minor": 5
}
