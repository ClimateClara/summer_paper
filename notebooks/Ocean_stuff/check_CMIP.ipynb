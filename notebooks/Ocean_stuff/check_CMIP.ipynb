{
 "cells": [
  {
   "cell_type": "code",
   "execution_count": null,
   "id": "d42e6b86-292b-4700-a5d0-c3c0c4027c5f",
   "metadata": {},
   "outputs": [],
   "source": [
    "import xarray as xr"
   ]
  },
  {
   "cell_type": "code",
   "execution_count": null,
   "id": "00bf648b-2663-4daa-8d51-979f17b27b96",
   "metadata": {},
   "outputs": [],
   "source": [
    "xr.open_dataset('/bettik/jourdai1/OCEAN_DATA_CMIP6_STEREO/ACCESS-CM2/thetao_Oyr_ACCESS-CM2_ssp126_r1i1p1f1_210101_220012.nc')"
   ]
  },
  {
   "cell_type": "code",
   "execution_count": null,
   "id": "e72e178f-65fc-4d30-b875-832f13951506",
   "metadata": {},
   "outputs": [],
   "source": []
  }
 ],
 "metadata": {
  "kernelspec": {
   "display_name": "py38",
   "language": "python",
   "name": "py38"
  },
  "language_info": {
   "codemirror_mode": {
    "name": "ipython",
    "version": 3
   },
   "file_extension": ".py",
   "mimetype": "text/x-python",
   "name": "python",
   "nbconvert_exporter": "python",
   "pygments_lexer": "ipython3",
   "version": "3.8.12"
  }
 },
 "nbformat": 4,
 "nbformat_minor": 5
}
