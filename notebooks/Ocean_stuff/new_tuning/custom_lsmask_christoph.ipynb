{
 "cells": [
  {
   "cell_type": "code",
   "execution_count": null,
   "id": "1cf66627-ab73-4a00-9575-2785712be127",
   "metadata": {},
   "outputs": [],
   "source": [
    "\"\"\"\n",
    "Created on Mon Jul 10 18:30 2023\n",
    "\n",
    "reformat basic mask to give 0-1-2 and floats for Christoph data\n",
    "to be used after \"format_Christoph_data.sh\"\n",
    "\n",
    "@author: Clara Burgard\n",
    "\"\"\""
   ]
  },
  {
   "cell_type": "code",
   "execution_count": null,
   "id": "c8c936e2-6408-4ddc-b8dd-370b64276a2f",
   "metadata": {},
   "outputs": [],
   "source": [
    "import xarray as xr\n",
    "import numpy as np\n",
    "import matplotlib.pyplot as plt\n",
    "from cdo import Cdo\n",
    "import time"
   ]
  },
  {
   "cell_type": "code",
   "execution_count": null,
   "id": "4d213581-e25c-4961-aa67-2955afd73ad3",
   "metadata": {},
   "outputs": [],
   "source": [
    "cdo = Cdo()\n",
    "print('this is CDO version %s'%(cdo.version()))"
   ]
  },
  {
   "cell_type": "code",
   "execution_count": null,
   "id": "16631430-54a8-444b-81e9-717cd49c3691",
   "metadata": {},
   "outputs": [],
   "source": [
    "nemo_run = 'ctrl94' # 'EPM026','EPM031', 'EPM034'\n",
    "if nemo_run in ['ctrl94']:\n",
    "    ystart = 1982\n",
    "    yend = 2013\n",
    "elif nemo_run == ['isf94','isfru94']:\n",
    "    ystart = 2014\n",
    "    yend = 2100"
   ]
  },
  {
   "cell_type": "code",
   "execution_count": null,
   "id": "f3a75af1-95ae-45dc-bfd6-910920946687",
   "metadata": {},
   "outputs": [],
   "source": [
    "inputpath_data='/bettik/burgardc/DATA/SUMMER_PAPER/interim/NEMO_'+nemo_run+'_ANT_STEREO/'"
   ]
  },
  {
   "cell_type": "markdown",
   "id": "965d9ed1-1b4a-4e64-ac74-afb0316edbc1",
   "metadata": {},
   "source": [
    "PREPARE THE FLOAT MASK (0 = ocean, 1 = ice shelf, 2 = ground)"
   ]
  },
  {
   "cell_type": "code",
   "execution_count": null,
   "id": "6ea4c051-f642-4c61-a240-ecd10982fa32",
   "metadata": {},
   "outputs": [],
   "source": [
    "mask_file = xr.open_dataset(inputpath_data+'lsmask_0-1-2_Ant.nc')\n",
    "file_map_orig = xr.open_dataset(inputpath_data+'mask_variables_of_interest_Ant.nc')\n",
    "ls_mask012 = mask_file['tmask'].squeeze().astype('float')\n",
    "ls_mask012.to_dataset(name='ls_mask012').to_netcdf(inputpath_data+'custom_lsmask_Ant.nc')"
   ]
  },
  {
   "cell_type": "markdown",
   "id": "39555089-73e8-4505-8047-31a6b7f17380",
   "metadata": {},
   "source": [
    "SEPARATE OTHER VARIABLES"
   ]
  },
  {
   "cell_type": "code",
   "execution_count": null,
   "id": "49eec7d2-b0bd-4a45-a634-9f072bb1af59",
   "metadata": {},
   "outputs": [],
   "source": [
    "file_map_orig = xr.open_dataset(inputpath_data+'mask_variables_of_interest_Ant.nc')\n",
    "isfdraft = file_map_orig['isf_draft'].squeeze()\n",
    "isfdraft.to_dataset().to_netcdf(inputpath_data+'isfdraft_Ant.nc')\n",
    "\n",
    "T_levs = file_map_orig['e3w_0'].squeeze()\n",
    "T_levs_cumsum = T_levs.cumsum(dim='nav_lev') - (T_levs.isel(nav_lev=0)/2)\n",
    "gdept_0 = T_levs.copy(data=T_levs_cumsum).rename('gdept_0')\n",
    "    \n",
    "bathy_metry = file_map_orig[['bathy_metry']].squeeze()\n",
    "other_mask_vars = xr.merge([gdept_0,bathy_metry])\n",
    "other_mask_vars.to_netcdf(inputpath_data+'other_mask_vars_Ant.nc')"
   ]
  },
  {
   "cell_type": "markdown",
   "id": "c4ddc6d9-b6d2-44bf-917f-60bc6ebe2bf5",
   "metadata": {},
   "source": [
    "INTERPOLATE TO STEREOGRAPHIC GRID"
   ]
  },
  {
   "cell_type": "code",
   "execution_count": null,
   "id": "17632802-00b3-4398-9ed1-d042eac7b810",
   "metadata": {},
   "outputs": [],
   "source": [
    "print('interpolate float mask')\n",
    "time_start = time.time()\n",
    "cdo.remapbil(inputpath_data+'stereo_grid.nc', input = inputpath_data+'custom_lsmask_Ant.nc', output = inputpath_data+'custom_lsmask_Ant_stereo.nc')\n",
    "timelength = time.time() - time_start\n",
    "print(timelength)"
   ]
  },
  {
   "cell_type": "code",
   "execution_count": null,
   "id": "45ec8993-bc4d-4ca7-af5e-0c07e3920ca0",
   "metadata": {},
   "outputs": [],
   "source": [
    "print('interpolate isfdraft')\n",
    "time_start = time.time()\n",
    "cdo.remapbil(inputpath_data+'stereo_grid.nc', input = inputpath_data+'isfdraft_Ant.nc', output = inputpath_data+'isfdraft_Ant_stereo.nc')\n",
    "timelength = time.time() - time_start\n",
    "print(timelength)"
   ]
  },
  {
   "cell_type": "markdown",
   "id": "f808b383-d13b-43d3-a544-732283ee6826",
   "metadata": {},
   "source": [
    "Other variables of interest"
   ]
  },
  {
   "cell_type": "code",
   "execution_count": null,
   "id": "604c6290-f9c5-4084-b316-ccfe87c3b2db",
   "metadata": {},
   "outputs": [],
   "source": [
    "print('computing mask')\n",
    "time_start = time.time()\n",
    "cdo.remapbil(inputpath_data+'stereo_grid.nc', input = inputpath_data+'other_mask_vars_Ant.nc', output = inputpath_data+'other_mask_vars_Ant_stereo.nc')\n",
    "timelength = time.time() - time_start\n",
    "print(timelength)"
   ]
  },
  {
   "cell_type": "code",
   "execution_count": null,
   "id": "21093628-8ded-4010-9bda-e94823879585",
   "metadata": {},
   "outputs": [],
   "source": [
    "print('creating mean depth coordinate')\n",
    "time_start = time.time()\n",
    "cdo.fldmean(input=' -selvar,gdept_0 '+inputpath_data+'other_mask_vars_Ant_stereo.nc', \n",
    "              output = inputpath_data+'mask_depth_coord_Ant_stereo.nc') \n",
    "timelength = time.time() - time_start\n",
    "print(timelength)"
   ]
  },
  {
   "cell_type": "markdown",
   "id": "7e500e73-db6b-4fa4-aa60-cf523f6b5854",
   "metadata": {},
   "source": [
    "PREPARE AN ICE SHELF CONCENTRATION"
   ]
  },
  {
   "cell_type": "code",
   "execution_count": null,
   "id": "22206380-f43a-40d2-b6a6-a6807f86e57f",
   "metadata": {},
   "outputs": [],
   "source": [
    "print('prepare an ice shelf concentration')\n",
    "float_ls_mask = xr.open_dataset(inputpath_data+'custom_lsmask_Ant_stereo.nc')\n",
    "isfdraft = xr.open_dataset(inputpath_data+'isfdraft_Ant_stereo.nc')\n",
    "    \n",
    "lsmask_012_withcenter = float_ls_mask['ls_mask012'].where(np.isfinite(float_ls_mask['ls_mask012']),2)\n",
    "should_not_be_ground = (float_ls_mask['ls_mask012']==0) | (isfdraft['isf_draft']>0)\n",
    "lsmask_below2 = float_ls_mask['ls_mask012'].where(should_not_be_ground,2)\n",
    "\n",
    "lsmask_below2.to_dataset(name='ls_mask012').to_netcdf(inputpath_data+'custom_lsmask_Ant_stereo_clean.nc')\n",
    "\n",
    "first_isfdraft_mask = float_ls_mask['ls_mask012'].where(isfdraft['isf_draft']>0,0) # ignore the points of transition between ocean and land\n",
    "isfdraft_conc = first_isfdraft_mask.where(first_isfdraft_mask <= 1,(2 - first_isfdraft_mask))\n",
    "isfdraft_conc.to_dataset(name='isfdraft_conc').to_netcdf(inputpath_data+'isfdraft_conc_Ant_stereo.nc')\n",
    "\n",
    "corrected_isfdraft_raw = isfdraft['isf_draft']/isfdraft_conc\n",
    "corrected_isfdraft = corrected_isfdraft_raw.where(corrected_isfdraft_raw<=3000,3000).where(corrected_isfdraft_raw>0) # cut unrealistically high drafts\n",
    "corrections = corrected_isfdraft.to_dataset(name='corrected_isfdraft')\n",
    "\n",
    "mask_vars = xr.open_dataset(inputpath_data+'other_mask_vars_Ant_stereo.nc')\n",
    "corrected_bathy_raw = mask_vars['bathy_metry']/isfdraft_conc # not realistically cuttable because bathymetry is set to 0 on land...\n",
    "corrected_bathy = corrected_bathy_raw.where(corrected_bathy_raw<=3000,3000).where(corrected_bathy_raw>0)\n",
    "\n",
    "corrections['corrected_isf_bathy'] = corrected_bathy\n",
    "\n",
    "corrections.to_netcdf(inputpath_data+'corrected_draft_bathy_isf.nc')"
   ]
  },
  {
   "cell_type": "markdown",
   "id": "f2200e70-b230-492f-8052-66dee5239c59",
   "metadata": {},
   "source": [
    "FINISHED? THEN MOVE TO \"regridding_vars_cdo.ipynb\""
   ]
  },
  {
   "cell_type": "code",
   "execution_count": null,
   "id": "e2a1fcf9-bfed-4ed1-8a14-15d6cbed67ee",
   "metadata": {},
   "outputs": [],
   "source": []
  }
 ],
 "metadata": {
  "kernelspec": {
   "display_name": "py38",
   "language": "python",
   "name": "py38"
  },
  "language_info": {
   "codemirror_mode": {
    "name": "ipython",
    "version": 3
   },
   "file_extension": ".py",
   "mimetype": "text/x-python",
   "name": "python",
   "nbconvert_exporter": "python",
   "pygments_lexer": "ipython3",
   "version": "3.8.12"
  }
 },
 "nbformat": 4,
 "nbformat_minor": 5
}
