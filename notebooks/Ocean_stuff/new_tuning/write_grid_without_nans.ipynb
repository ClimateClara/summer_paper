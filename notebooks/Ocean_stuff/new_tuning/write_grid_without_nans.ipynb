{
 "cells": [
  {
   "cell_type": "code",
   "execution_count": null,
   "id": "51d42be7-f90d-400f-9cff-e1ad02a3a40c",
   "metadata": {},
   "outputs": [],
   "source": [
    "\"\"\"\n",
    "try assigning grid without NaNs in the inland to the tmask\n",
    "\"\"\""
   ]
  },
  {
   "cell_type": "code",
   "execution_count": null,
   "id": "5d786af1-d660-4250-ae71-44852b7462ac",
   "metadata": {},
   "outputs": [],
   "source": [
    "import xarray as xr\n",
    "from tqdm.notebook import tqdm"
   ]
  },
  {
   "cell_type": "code",
   "execution_count": null,
   "id": "9b4524c3-2501-430a-a60f-8b4ee5ac1427",
   "metadata": {},
   "outputs": [],
   "source": [
    "path1 = '/bettik/burgardc/DATA/SUMMER_PAPER/raw/CHRISTOPH_DATA/'\n",
    "path2 = '/bettik/burgardc/DATA/SUMMER_PAPER/interim/CHRISTOPH_isfru94/'"
   ]
  },
  {
   "cell_type": "code",
   "execution_count": null,
   "id": "5687f545-4c31-4857-9076-056de912f065",
   "metadata": {},
   "outputs": [],
   "source": [
    "var_file = xr.open_dataset(path2+'variables_of_interest-isfru94_2015.nc')\n",
    "mask_file = xr.open_dataset(path1+'domain_cfg_eANT025.L121.nc')"
   ]
  },
  {
   "cell_type": "code",
   "execution_count": null,
   "id": "cc9b1b65-7fb5-4d1a-9831-863934e7e463",
   "metadata": {},
   "outputs": [],
   "source": [
    "len(mask_file.nav_lon)"
   ]
  },
  {
   "cell_type": "code",
   "execution_count": null,
   "id": "a31e3c75-23e2-4452-aa4e-2c25e95cb63a",
   "metadata": {},
   "outputs": [],
   "source": [
    "len(var_file.nav_lon)"
   ]
  },
  {
   "cell_type": "code",
   "execution_count": null,
   "id": "5dec6ba3-a67a-48b9-ac8a-bbcb761278f1",
   "metadata": {},
   "outputs": [],
   "source": [
    "var_file = var_file.assign_coords({'nav_lon': mask_file.nav_lon, 'nav_lat': mask_file.nav_lat})"
   ]
  },
  {
   "cell_type": "code",
   "execution_count": null,
   "id": "f1d5d4ba-8c12-45df-9fcc-565c84b61fb0",
   "metadata": {},
   "outputs": [],
   "source": [
    "with open(path2+\"var_grid_wo_nans.txt\", \"w\") as txt_file:\n",
    "    txt_file.write('# \\n')\n",
    "    txt_file.write('# gridID 1 \\n')\n",
    "    txt_file.write('# \\n')\n",
    "    txt_file.write('gridtype  = curvilinear \\n')\n",
    "    txt_file.write('gridsize  = 632160 \\n')\n",
    "    txt_file.write('datatype  = float \\n')\n",
    "    txt_file.write('xsize     = 1440 \\n')\n",
    "    txt_file.write('ysize     = 439 \\n')\n",
    "    txt_file.write('xname     = nav_lon \\n')\n",
    "    txt_file.write('xdimname  = x_grid_T \\n')\n",
    "    txt_file.write('xlongname = \"Longitude\" \\n')\n",
    "    txt_file.write('xunits    = \"degrees_east\" \\n')\n",
    "    txt_file.write('yname     = nav_lat \\n')\n",
    "    txt_file.write('ydimname  = y_grid_T \\n')\n",
    "    txt_file.write('ylongname = \"Latitude\" \\n')\n",
    "    txt_file.write('yunits    = \"degrees_north\" \\n')\n",
    "    txt_file.write('vdimname  = nvertex_grid_T \\n')\n",
    "    txt_file.write('xvals = ')\n",
    "    for vv in tqdm(var_file.nav_lon.values.flatten()):\n",
    "        txt_file.write(str(vv) + ' ')\n",
    "    txt_file.write('\\n')\n",
    "    txt_file.write('yvals = ')\n",
    "    for vv in tqdm(var_file.nav_lat.values.flatten()):\n",
    "        txt_file.write(str(vv) + ' ')\n",
    "    txt_file.write('\\n')\n",
    "txt_file.close()"
   ]
  },
  {
   "cell_type": "code",
   "execution_count": null,
   "id": "24a9cdf9-fbf4-4496-8a59-44a9decf42a5",
   "metadata": {},
   "outputs": [],
   "source": []
  }
 ],
 "metadata": {
  "kernelspec": {
   "display_name": "py38",
   "language": "python",
   "name": "py38"
  },
  "language_info": {
   "codemirror_mode": {
    "name": "ipython",
    "version": 3
   },
   "file_extension": ".py",
   "mimetype": "text/x-python",
   "name": "python",
   "nbconvert_exporter": "python",
   "pygments_lexer": "ipython3",
   "version": "3.8.12"
  }
 },
 "nbformat": 4,
 "nbformat_minor": 5
}
