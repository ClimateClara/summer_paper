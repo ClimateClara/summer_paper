{
 "cells": [
  {
   "cell_type": "code",
   "execution_count": null,
   "id": "775e7427-fa71-4ef2-af87-4f541c127631",
   "metadata": {},
   "outputs": [],
   "source": [
    "\"\"\"\n",
    "Created on Tue Jul 18 11:29 2023\n",
    "This notebook is to test the script to run tuning of the params, options read in from BASH => including the ones from Christoph for summer paper\n",
    "@author: Clara Burgard\n",
    "\"\"\""
   ]
  },
  {
   "cell_type": "code",
   "execution_count": 1,
   "id": "5b9c3de8-7dee-4337-a051-0a2bb5ee699f",
   "metadata": {},
   "outputs": [],
   "source": [
    "import sys\n",
    "import pandas as pd\n",
    "import xarray as xr\n",
    "import numpy as np\n",
    "import summer_paper.tuning_functions as tf\n",
    "import summer_paper.useful_functions as uf"
   ]
  },
  {
   "cell_type": "code",
   "execution_count": 2,
   "id": "463f2b4d-d89b-439e-bf1d-63200fb3f438",
   "metadata": {},
   "outputs": [],
   "source": [
    "run_list = ['OPM006','OPM016','OPM018','OPM021','OPM031','ctrl94','isf94','isfru94']  #\n",
    "\n",
    "#inputpath_chunk_info = '/bettik/burgardc/DATA/BASAL_MELT_PARAM/interim/T_S_PROF/'\n",
    "#info_file = pd.read_csv(inputpath_chunk_info+'info_chunks.txt',header=None, index_col=0)"
   ]
  },
  {
   "cell_type": "code",
   "execution_count": 3,
   "id": "6802c8ef-b6b1-4834-b215-88df383ce0fb",
   "metadata": {},
   "outputs": [],
   "source": [
    "inputpath_chunk_info = '/bettik/burgardc/DATA/SUMMER_PAPER/interim/'\n",
    "info_file = pd.read_csv(inputpath_chunk_info+'info_chunks.txt',header=None, index_col=0)"
   ]
  },
  {
   "cell_type": "code",
   "execution_count": null,
   "id": "8555d9ee-2e9a-4dda-89a9-26e4ca96c313",
   "metadata": {},
   "outputs": [],
   "source": [
    "info_file"
   ]
  },
  {
   "cell_type": "code",
   "execution_count": 4,
   "id": "17ecdc88-f408-4833-b2aa-a31c7e24533f",
   "metadata": {},
   "outputs": [
    {
     "name": "stdout",
     "output_type": "stream",
     "text": [
      "LOADING DATA\n",
      "OPM006\n",
      "OPM016\n",
      "OPM018\n",
      "OPM021\n",
      "OPM031\n",
      "ctrl94\n",
      "isf94\n",
      "isfru94\n"
     ]
    }
   ],
   "source": [
    "tuning_approach='all_data'\n",
    "\n",
    "geometry_info_2D, geometry_info_1D, isf_stack_mask, Nisf_all, file_TS_all, target_melt_all, box_1D_all, box_2D_all, idx_ds = tf.load_data_nemo_tuning_summer_paper(run_list)\n",
    "geometry_info_2D = geometry_info_2D.assign_coords({'option': ['cavity','lazero','local']})"
   ]
  },
  {
   "cell_type": "code",
   "execution_count": null,
   "id": "0a7a9e8f-e045-44c2-b6d7-4f94d9e90b40",
   "metadata": {},
   "outputs": [],
   "source": [
    "tblock_dim = np.arange(1,14).tolist()+np.arange(21,50).tolist()\n",
    "tblock_list = tblock_dim\n",
    "\n",
    "random_time_list = []\n",
    "rrun_list = []\n",
    "for tt in tblock_list:\n",
    "    run, tstart, tend = info_file.loc[tt]\n",
    "    random_time_list.append(idx_ds['time'].where((idx_ds['run']==run) & (idx_ds['years']>=tstart) & (idx_ds['years']<=tend)).dropna(dim='time').values.astype(int))\n",
    "    rrun_list.append(run)\n",
    "time_idx = np.concatenate(random_time_list,axis=0)\n",
    "\n",
    "final_run_list = []\n",
    "for rr in run_list:\n",
    "    if rr in rrun_list:\n",
    "        final_run_list.append(rr)\n",
    "\n",
    "\n",
    "random_isf_sample = Nisf_all"
   ]
  },
  {
   "cell_type": "code",
   "execution_count": null,
   "id": "a3696b75-aa7c-4489-aff0-9f1d9663d0fb",
   "metadata": {},
   "outputs": [],
   "source": [
    "dom=50    \n",
    "\n",
    "# always needs to be filled\n",
    "option_param = 'plume' #box\n",
    "\n",
    "# if linear or qaudratic\n",
    "if option_param in ['linear','quadratic']:\n",
    "    simple_form = str(sys.argv[5]) #'quadratic_local', 'quadratic_local_cavslope', 'quadratic_local_locslope', quadratic_mixed_mean', 'quadratic_mixed_cavslope', 'quadratic_mixed_locslope' \n",
    "    plume_form = None\n",
    "    nD_config = None\n",
    "    pism_version = None\n",
    "\n",
    "# if plume\n",
    "elif option_param == 'plume':\n",
    "    plume_form = 'lazero19'\n",
    "    simple_form = None\n",
    "    nD_config = None\n",
    "    pism_version = None\n",
    "    picop_opt = None\n",
    "\n",
    "# if box \n",
    "elif option_param == 'box':\n",
    "    nD_config = 4\n",
    "    pism_version = 'yes'\n",
    "    picop_opt = 'no'\n",
    "    simple_form = None\n",
    "    plume_form = None\n",
    "\n",
    "tf.tuning_param_BT(option_param, tuning_approach, dom, \n",
    "         file_TS_all, random_isf_sample, time_idx, target_melt_all,\n",
    "         geometry_info_2D, geometry_info_1D, isf_stack_mask,\n",
    "         box_2D_all, box_1D_all, \n",
    "         plume_form=plume_form, nD_config=nD_config, pism_version=pism_version, picop_opt=picop_opt,run_list=final_run_list)"
   ]
  },
  {
   "cell_type": "code",
   "execution_count": null,
   "id": "3966777e-a87b-4cae-8799-bff4bce13218",
   "metadata": {},
   "outputs": [],
   "source": []
  }
 ],
 "metadata": {
  "kernelspec": {
   "display_name": "py38",
   "language": "python",
   "name": "py38"
  },
  "language_info": {
   "codemirror_mode": {
    "name": "ipython",
    "version": 3
   },
   "file_extension": ".py",
   "mimetype": "text/x-python",
   "name": "python",
   "nbconvert_exporter": "python",
   "pygments_lexer": "ipython3",
   "version": "3.8.12"
  }
 },
 "nbformat": 4,
 "nbformat_minor": 5
}
