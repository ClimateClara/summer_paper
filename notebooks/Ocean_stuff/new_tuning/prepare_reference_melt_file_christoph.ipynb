{
 "cells": [
  {
   "cell_type": "code",
   "execution_count": null,
   "id": "48a4f118-5c0b-4ac3-975b-d57631642043",
   "metadata": {},
   "outputs": [],
   "source": [
    "\"\"\"\n",
    "Created on Fri Apr 8 10:29 2022\n",
    "\n",
    "Prepare reference metrics in NEMO for tuning and evaluation\n",
    "\n",
    "@author: Clara Burgard\n",
    "\"\"\""
   ]
  },
  {
   "cell_type": "code",
   "execution_count": null,
   "id": "d21425c4-9233-4042-a62d-13046ef1afd9",
   "metadata": {},
   "outputs": [],
   "source": [
    "import xarray as xr\n",
    "import numpy as np\n",
    "import pandas as pd\n",
    "from tqdm.notebook import tqdm\n",
    "import matplotlib.pyplot as plt\n",
    "import basal_melt_param.useful_functions as uf\n",
    "from basal_melt_param.constants import *\n",
    "import matplotlib as mpl\n",
    "import glob"
   ]
  },
  {
   "cell_type": "code",
   "execution_count": null,
   "id": "516b2665-0086-4c4a-b95b-043215ccf9c7",
   "metadata": {},
   "outputs": [],
   "source": [
    "# make the domain a little smaller to make the computation even more efficient - file isf has already been made smaller at its creation\n",
    "map_lim = [-3000000,3000000]"
   ]
  },
  {
   "cell_type": "code",
   "execution_count": null,
   "id": "e802d65f-2f24-4f62-8793-2c23bc1ce8e7",
   "metadata": {},
   "outputs": [],
   "source": [
    "nemo_run = 'isfru94' # 'EPM026','EPM031', 'EPM034'\n",
    "if nemo_run in ['ctrl94']:\n",
    "    yy_start = 1982\n",
    "    yy_end = 2013\n",
    "elif nemo_run in ['isf94','isfru94']:\n",
    "    yy_start = 2014\n",
    "    yy_end = 2100"
   ]
  },
  {
   "cell_type": "markdown",
   "id": "7c008fde-844f-42c0-b7c8-ad6746b88e7e",
   "metadata": {},
   "source": [
    "READ IN DATA"
   ]
  },
  {
   "cell_type": "code",
   "execution_count": null,
   "id": "3666d6a0-45fd-482b-859e-f39bdf25934f",
   "metadata": {},
   "outputs": [],
   "source": [
    "inputpath_data='/bettik/burgardc/DATA/SUMMER_PAPER/interim/NEMO_'+nemo_run+'_ANT_STEREO/'\n",
    "inputpath_mask = '/bettik/burgardc/DATA/SUMMER_PAPER/interim/ANTARCTICA_IS_MASKS/nemo_5km_'+nemo_run+'/'\n",
    "inputpath_profiles = '/bettik/burgardc/DATA/SUMMER_PAPER/interim/T_S_PROF/nemo_5km_'+nemo_run+'/'\n",
    "inputpath_plumes = '/bettik/burgardc/DATA/SUMMER_PAPER/interim/PLUMES/nemo_5km_'+nemo_run+'/'\n",
    "inputpath_boxes = '/bettik/burgardc/DATA/SUMMER_PAPER/interim/BOXES/nemo_5km_'+nemo_run+'/'\n",
    "outputpath_melt = '/bettik/burgardc/DATA/SUMMER_PAPER/processed/OCEAN_MELT_RATE_TUNING/nemo_5km_'+nemo_run+'/'\n",
    "outputpath = '/bettik/burgardc/DATA/SUMMER_PAPER/interim/'"
   ]
  },
  {
   "cell_type": "code",
   "execution_count": null,
   "id": "6e93ceaf-54bf-4e26-b456-3dc6279a69c4",
   "metadata": {},
   "outputs": [],
   "source": [
    "file_isf_orig = xr.open_mfdataset(inputpath_mask+'nemo_5km_isf_masks_and_info_and_distance_oneFRIS.nc')\n",
    "nonnan_Nisf = file_isf_orig['Nisf'].where(np.isfinite(file_isf_orig['front_bot_depth_max']), drop=True).astype(int)\n",
    "file_isf_nonnan = file_isf_orig.sel(Nisf=nonnan_Nisf)\n",
    "large_isf = file_isf_nonnan['Nisf'].where(file_isf_nonnan['isf_area_here'] >= 2500, drop=True)\n",
    "file_isf = file_isf_nonnan.sel(Nisf=large_isf)\n",
    "\n",
    "file_conc = xr.open_mfdataset(inputpath_data+'isfdraft_conc_Ant_stereo.nc')\n",
    "file_conc_cut = uf.cut_domain_stereo(file_conc, map_lim, map_lim)#.chunk(chunks={'x': chunk_size, 'y': chunk_size})"
   ]
  },
  {
   "cell_type": "code",
   "execution_count": null,
   "id": "a9998999-055e-4be8-8b04-ee6da22b56d2",
   "metadata": {},
   "outputs": [],
   "source": [
    "isf_mask = (file_isf['ISF_mask'] == file_isf.Nisf)"
   ]
  },
  {
   "cell_type": "code",
   "execution_count": null,
   "id": "d88ae89d-d468-4dc2-94fc-8b4125addafe",
   "metadata": {},
   "outputs": [],
   "source": [
    "xx = file_isf.x\n",
    "yy = file_isf.y\n",
    "dx = (xx[2] - xx[1]).values\n",
    "dy = (yy[2] - yy[1]).values\n",
    "grid_cell_area = abs(dx*dy)"
   ]
  },
  {
   "cell_type": "code",
   "execution_count": null,
   "id": "5763c040-f6e5-481d-982b-5ec5bdb506a5",
   "metadata": {},
   "outputs": [],
   "source": [
    "melt_files = list(sorted(glob.glob(inputpath_data+'cavity_melt_*_Ant_stereo.nc')))\n",
    "ds_melt  = xr.open_mfdataset(melt_files, concat_dim='time_counter', combine='nested')#, chunks={'x': chunksize, 'y': chunksize})\n",
    "ds_melt = ds_melt.rename({'time_counter': 'time'})\n",
    "ds_melt = ds_melt.assign_coords(time=np.arange(yy_start, yy_end+1))\n",
    "ds_melt_cutted = uf.cut_domain_stereo(ds_melt, map_lim, map_lim)"
   ]
  },
  {
   "cell_type": "code",
   "execution_count": null,
   "id": "da0abdc3-7495-40a0-99fb-0eab618a893a",
   "metadata": {},
   "outputs": [],
   "source": [
    "ds_melt_cutted.to_netcdf(inputpath_data+'cavity_melt_'+str(yy_start)+'-'+str(yy_end)+'_Ant_stereo.nc')"
   ]
  },
  {
   "cell_type": "markdown",
   "id": "381c98b7-d304-420d-841a-8528add6e4ff",
   "metadata": {},
   "source": [
    "2D m ice per y"
   ]
  },
  {
   "cell_type": "code",
   "execution_count": null,
   "id": "df5687ca-b377-4215-ad8b-c29c29889139",
   "metadata": {},
   "outputs": [],
   "source": [
    "ds_melt_cutted = xr.open_mfdataset(inputpath_data+'cavity_melt_'+str(yy_start)+'-'+str(yy_end)+'_Ant_stereo.nc')"
   ]
  },
  {
   "cell_type": "code",
   "execution_count": null,
   "id": "7d3e444f-4c90-4b3a-9991-9cacc8445142",
   "metadata": {},
   "outputs": [],
   "source": [
    "melt_m_ice_per_y_whole_cell = (ds_melt_cutted['melt_cavity']*yearinsec/rho_i)\n",
    "melt_m_ice_per_y = melt_m_ice_per_y_whole_cell/file_conc_cut['isfdraft_conc']"
   ]
  },
  {
   "cell_type": "code",
   "execution_count": null,
   "id": "9b0518df-20f3-427c-be60-9c52a75ddd75",
   "metadata": {},
   "outputs": [],
   "source": [
    "melt_m_ice_per_y.to_dataset(name='melt_m_ice_per_y').to_netcdf(outputpath_melt+'melt_rates_2D_NEMO.nc')"
   ]
  },
  {
   "cell_type": "markdown",
   "id": "b7c639bf-1b9b-4116-b601-366f0c531343",
   "metadata": {},
   "source": [
    "1D "
   ]
  },
  {
   "cell_type": "code",
   "execution_count": null,
   "id": "a8785347-ae6c-4a22-94ac-897447f88563",
   "metadata": {},
   "outputs": [],
   "source": [
    "chunked_mask = isf_mask.chunk({'x': 500, 'y': 500})\n",
    "file_isf_conc = file_conc['isfdraft_conc'].where(chunked_mask)\n",
    "melt_m_ice_per_y_avg = melt_m_ice_per_y_whole_cell.where(chunked_mask).mean(['x','y'])"
   ]
  },
  {
   "cell_type": "code",
   "execution_count": null,
   "id": "13cb8ccc-cc59-405f-ad2c-17768c637c76",
   "metadata": {},
   "outputs": [],
   "source": [
    "NEMO_melt_rates_1D = xr.Dataset({'melt_m_ice_per_y_avg': (melt_m_ice_per_y_avg.dims, melt_m_ice_per_y_avg.data)}, \n",
    "                                coords=melt_m_ice_per_y_avg.coords)"
   ]
  },
  {
   "cell_type": "code",
   "execution_count": null,
   "id": "b3bbea84-47dd-41ef-ac6a-ec2efac7f476",
   "metadata": {},
   "outputs": [],
   "source": [
    "NEMO_melt_rates_1D['melt_Gt_per_y_tot'] = ds_melt_cutted['melt_cavity'].where(chunked_mask).sum(['x','y']) * grid_cell_area * yearinsec / 10**12\n",
    "\n",
    "NEMO_melt_rates_1D['isf_area'] = (isf_mask*file_isf_conc).sum(['x','y'])*grid_cell_area"
   ]
  },
  {
   "cell_type": "code",
   "execution_count": null,
   "id": "3ec20853-2fcd-40f9-9912-0a9224fe109b",
   "metadata": {},
   "outputs": [],
   "source": [
    "#NEMO_melt_rates_1D.to_netcdf(outputpath_melt+'melt_rates_1D_NEMO.nc','w')\n",
    "NEMO_melt_rates_1D.to_netcdf(outputpath_melt+'melt_rates_1D_NEMO_oneFRIS.nc','w')"
   ]
  },
  {
   "cell_type": "markdown",
   "id": "6d4fa596-e1f7-475b-805a-e1fda538ceb1",
   "metadata": {},
   "source": [
    "Time mean 2D"
   ]
  },
  {
   "cell_type": "code",
   "execution_count": null,
   "id": "d12b7f93-0d19-48ae-aabc-a40997b1e5e3",
   "metadata": {},
   "outputs": [],
   "source": [
    "NEMO_melt_rates_2D = xr.open_mfdataset(outputpath_melt+'melt_rates_2D_NEMO.nc')"
   ]
  },
  {
   "cell_type": "code",
   "execution_count": null,
   "id": "2d21fbb1-2c60-4897-8b46-82095f43a8a4",
   "metadata": {},
   "outputs": [],
   "source": [
    "NEMO_melt_rates_2D_timmean = NEMO_melt_rates_2D.mean('time')\n",
    "NEMO_melt_rates_2D_timmean.to_netcdf(outputpath_melt+'melt_rates_2D_NEMO_timmean.nc')"
   ]
  },
  {
   "cell_type": "markdown",
   "id": "b575c91f-9ee1-4abf-8287-0561c175d91f",
   "metadata": {},
   "source": [
    "BOX 1"
   ]
  },
  {
   "cell_type": "code",
   "execution_count": null,
   "id": "0345c8b4-6adf-4814-8560-0b2e76179a44",
   "metadata": {},
   "outputs": [],
   "source": [
    "grid_cell_area = abs(dx*dy)  \n",
    "grid_cell_area_weighted = file_isf_conc * grid_cell_area\n",
    "\n",
    "isf_stack_mask = uf.create_stacked_mask(file_isf['ISF_mask'], file_isf.Nisf, ['y','x'], 'mask_coord')"
   ]
  },
  {
   "cell_type": "code",
   "execution_count": null,
   "id": "91e22056-2a81-4d3e-b681-f566b3ff8642",
   "metadata": {},
   "outputs": [],
   "source": [
    "# Box characteristics\n",
    "#box_charac_all_2D = xr.open_dataset(inputpath_boxes + 'nemo_5km_boxes_2D.nc')\n",
    "#box_charac_all_1D = xr.open_dataset(inputpath_boxes + 'nemo_5km_boxes_1D.nc')\n",
    "box_charac_all_2D = xr.open_dataset(inputpath_boxes + 'nemo_5km_boxes_2D_oneFRIS.nc')\n",
    "box_charac_all_1D = xr.open_dataset(inputpath_boxes + 'nemo_5km_boxes_1D_oneFRIS.nc')\n",
    "box_loc_config2 = box_charac_all_2D['box_location'].sel(box_nb_tot=box_charac_all_1D['nD_config'].sel(config=2))\n",
    "\n",
    "box1 = box_loc_config2.where(box_loc_config2==1).isel(Nisf=0).drop('Nisf')\n",
    "\n",
    "file_isf_conc = file_conc['isfdraft_conc']\n",
    "\n",
    "# Reference 2D \n",
    "ref_melt_2D = xr.open_dataset(outputpath_melt+'melt_rates_2D_NEMO.nc')\n",
    "\n",
    "# Reference (in m/yr)\n",
    "box1_list = []\n",
    "ref_box1_myr_list = []\n",
    "    \n",
    "for kisf in tqdm(file_isf.Nisf.values):\n",
    "    isf_conc_isf = uf.choose_isf(file_isf_conc, isf_stack_mask, kisf)\n",
    "    box_loc_config_stacked = uf.choose_isf(box1, isf_stack_mask, kisf)\n",
    "    ref_melt_2D_box1_isf = uf.choose_isf(ref_melt_2D['melt_m_ice_per_y'], isf_stack_mask, kisf).where(np.isfinite(box_loc_config_stacked))\n",
    "    ref_melt_2D_box1_isf_mean = uf.weighted_mean(ref_melt_2D_box1_isf,['mask_coord'], isf_conc_isf)\n",
    "    ref_box1_myr_list.append(ref_melt_2D_box1_isf_mean)\n",
    "\n",
    "ref_box1_myr_all = xr.concat(ref_box1_myr_list, dim='Nisf')\n",
    "\n",
    "#ref_box1_myr_all.to_dataset(name='mean_melt_box1_myr').to_netcdf(outputpath_melt+'melt_rates_box1_NEMO.nc')\n",
    "ref_box1_myr_all.to_dataset(name='mean_melt_box1_myr').to_netcdf(outputpath_melt+'melt_rates_box1_NEMO_oneFRIS.nc')"
   ]
  },
  {
   "cell_type": "code",
   "execution_count": null,
   "id": "89db88af-185e-4310-87d7-8aa37c2f1e97",
   "metadata": {},
   "outputs": [],
   "source": []
  }
 ],
 "metadata": {
  "kernelspec": {
   "display_name": "py38",
   "language": "python",
   "name": "py38"
  },
  "language_info": {
   "codemirror_mode": {
    "name": "ipython",
    "version": 3
   },
   "file_extension": ".py",
   "mimetype": "text/x-python",
   "name": "python",
   "nbconvert_exporter": "python",
   "pygments_lexer": "ipython3",
   "version": "3.8.12"
  }
 },
 "nbformat": 4,
 "nbformat_minor": 5
}
