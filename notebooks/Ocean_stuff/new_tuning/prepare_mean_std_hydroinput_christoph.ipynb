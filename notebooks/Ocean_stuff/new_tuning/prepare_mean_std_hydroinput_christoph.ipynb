{
 "cells": [
  {
   "cell_type": "code",
   "execution_count": null,
   "id": "41fd4a90-1fd7-4207-813c-e00158cdc0bb",
   "metadata": {},
   "outputs": [],
   "source": [
    "\"\"\"\n",
    "Prepare cav mean and cav std\n",
    "\n",
    "\"\"\""
   ]
  },
  {
   "cell_type": "code",
   "execution_count": null,
   "id": "7d76886d-474c-43be-b0c7-4a5c2cbbc9b5",
   "metadata": {},
   "outputs": [],
   "source": [
    "import xarray as xr\n",
    "import summer_paper.useful_functions as uf\n",
    "from tqdm.notebook import tqdm"
   ]
  },
  {
   "cell_type": "markdown",
   "id": "250c17ec-1eb0-4a3d-9892-856ebacf24cc",
   "metadata": {},
   "source": [
    "READ IN DATA"
   ]
  },
  {
   "cell_type": "code",
   "execution_count": null,
   "id": "dd0f33f1-3ec8-4146-9292-1a9719efbc69",
   "metadata": {},
   "outputs": [],
   "source": [
    "nemo_run = 'ctrl94' # 'EPM026','EPM031', 'EPM034'\n",
    "if nemo_run in ['ctrl94']:\n",
    "    yy_start = 1982\n",
    "    yy_end = 2013\n",
    "    yy_ex = 2000\n",
    "elif nemo_run in ['isf94','isfru94']:\n",
    "    yy_start = 2014\n",
    "    yy_end = 2100\n",
    "    yy_ex = 2016\n",
    "elif nemo_run == 'OPM026':\n",
    "    yy_start = 1989\n",
    "    yy_end = 2018\n",
    "elif nemo_run == 'OPM031':\n",
    "    yy_start = 1999\n",
    "    yy_end = 2068"
   ]
  },
  {
   "cell_type": "code",
   "execution_count": null,
   "id": "a054dec9-5878-4247-9ade-2133713fd901",
   "metadata": {},
   "outputs": [],
   "source": [
    "if nemo_run in ['ctrl94','isf94','isfru94']:\n",
    "    inputpath_data='/bettik/burgardc/DATA/SUMMER_PAPER/interim/NEMO_'+nemo_run+'_ANT_STEREO/'\n",
    "    inputpath_mask = '/bettik/burgardc/DATA/SUMMER_PAPER/interim/ANTARCTICA_IS_MASKS/nemo_5km_'+nemo_run+'/'\n",
    "    inputpath_profiles = '/bettik/burgardc/DATA/SUMMER_PAPER/interim/T_S_PROF/nemo_5km_'+nemo_run+'/'\n",
    "else:\n",
    "    inputpath_data='/bettik/burgardc/DATA/BASAL_MELT_PARAM/interim/NEMO_eORCA025.L121_'+nemo_run+'_ANT_STEREO/'\n",
    "    inputpath_mask = '/bettik/burgardc/DATA/BASAL_MELT_PARAM/interim/ANTARCTICA_IS_MASKS/nemo_5km_'+nemo_run+'/'\n",
    "    inputpath_profiles = '/bettik/burgardc/DATA/BASAL_MELT_PARAM/interim/T_S_PROF/nemo_5km_'+nemo_run+'/'\n"
   ]
  },
  {
   "cell_type": "code",
   "execution_count": null,
   "id": "9e282b3a-b7a8-4826-9d66-10aed088f7e4",
   "metadata": {},
   "outputs": [],
   "source": [
    "# make the domain a little smaller to make the computation even more efficient - file isf has already been made smaller at its creation\n",
    "map_lim = [-3000000,3000000]"
   ]
  },
  {
   "cell_type": "code",
   "execution_count": null,
   "id": "9edc140c-7e2d-411f-8190-4969cc7842dc",
   "metadata": {},
   "outputs": [],
   "source": [
    "# dIF, dGL\n",
    "if nemo_run in ['ctrl94','isf94','isfru94']:\n",
    "    file_isf_orig = xr.open_dataset(inputpath_mask+'nemo_5km_isf_masks_and_info_and_distance_oneFRIS.nc')\n",
    "else:\n",
    "    file_isf_orig = xr.open_dataset(inputpath_mask+'nemo_5km_isf_masks_and_info_and_distance_new_oneFRIS.nc')\n",
    "\n",
    "nonnan_Nisf = file_isf_orig['Nisf'].where(np.isfinite(file_isf_orig['front_bot_depth_max']), drop=True).astype(int)\n",
    "file_isf_nonnan = file_isf_orig.sel(Nisf=nonnan_Nisf)\n",
    "large_isf = file_isf_nonnan['Nisf'].where(file_isf_nonnan['isf_area_here'] >= 2500, drop=True)\n",
    "file_isf = file_isf_nonnan.sel(Nisf=large_isf)\n",
    "\n",
    "isf_stack_mask = uf.create_stacked_mask(file_isf['ISF_mask'], file_isf.Nisf, ['y','x'], 'mask_coord')\n",
    "\n",
    "file_conc = xr.open_dataset(inputpath_data+'isfdraft_conc_Ant_stereo.nc')\n",
    "file_conc_cut = uf.cut_domain_stereo(file_conc, map_lim, map_lim)\n",
    "file_isf_conc = file_conc_cut['isfdraft_conc']\n"
   ]
  },
  {
   "cell_type": "code",
   "execution_count": null,
   "id": "e22d2bc9-8f3f-4d0f-ad90-52f5f5c726aa",
   "metadata": {},
   "outputs": [],
   "source": [
    "for tt in tqdm(range(yy_start, yy_end+1)): #continue at 1978\n",
    "\n",
    "    # T and S extrapolated to ice draft depth\n",
    "    if nemo_run in ['ctrl94','isf94','isfru94']:\n",
    "        T_S_2D_isfdraft = xr.open_dataset(inputpath_profiles+'T_S_2D_fields_isf_draft_oneFRIS_'+str(tt)+'.nc')\n",
    "    else:\n",
    "        T_S_2D_isfdraft = xr.open_dataset(inputpath_profiles+'T_S_2D_fields_isf_draft_oneFRIS.nc').sel(profile_domain=50,time=tt).squeeze().drop('profile_domain')\n",
    "\n",
    "    n = 0\n",
    "    for kisf in file_isf.Nisf:\n",
    "        T_isf = uf.choose_isf(T_S_2D_isfdraft['theta_in'],isf_stack_mask, kisf)\n",
    "        S_isf = uf.choose_isf(T_S_2D_isfdraft['salinity_in'],isf_stack_mask, kisf)\n",
    "        isf_conc_kisf = uf.choose_isf(file_isf_conc,isf_stack_mask, kisf) \n",
    "        weight_kisf = isf_conc_kisf\n",
    "\n",
    "        T_mean_cav = uf.weighted_mean(T_isf, 'mask_coord', weight_kisf).to_dataset(name='T_mean')\n",
    "        S_mean_cav = uf.weighted_mean(S_isf, 'mask_coord', weight_kisf).to_dataset(name='S_mean')\n",
    "        T_std_cav = uf.weighted_std(T_isf, 'mask_coord', weight_kisf).to_dataset(name='T_std')\n",
    "        S_std_cav = uf.weighted_std(S_isf, 'mask_coord', weight_kisf).to_dataset(name='S_std')\n",
    "\n",
    "\n",
    "        all_TS_isf = xr.merge([T_mean_cav,S_mean_cav,T_std_cav,S_std_cav])\n",
    "        all_TS_isf_2D = all_TS_isf.where(T_isf).load()\n",
    "\n",
    "        if n == 0:\n",
    "            all_TS_all = all_TS_isf_2D.squeeze().drop('Nisf')\n",
    "        else:\n",
    "             all_TS_all =  all_TS_all.combine_first(all_TS_isf_2D).squeeze().drop('Nisf')\n",
    "        n = n+1\n",
    "\n",
    "        del all_TS_isf_2D\n",
    "\n",
    "    all_TS_all_unstacked = uf.bring_back_to_2D(all_TS_all)\n",
    "    \n",
    "    all_TS_all_unstacked.to_netcdf(inputpath_profiles + 'T_S_2D_meanstd_isf_draft_oneFRIS_'+str(tt)+'.nc')"
   ]
  },
  {
   "cell_type": "code",
   "execution_count": null,
   "id": "7249a514-2129-4b5c-90e2-920ece24e263",
   "metadata": {},
   "outputs": [],
   "source": [
    "TS_list = []\n",
    "for tt in range(yy_start,yy_end+1):\n",
    "    ds_tt = xr.open_dataset(inputpath_profiles+'T_S_2D_meanstd_isf_draft_oneFRIS_'+str(tt)+'.nc')\n",
    "    TS_list.append(ds_tt)\n",
    "TS_ds = xr.concat(TS_list, dim='time')\n",
    "TS_ds.to_netcdf(inputpath_profiles+'T_S_2D_meanstd_isf_draft_oneFRIS.nc')"
   ]
  },
  {
   "cell_type": "code",
   "execution_count": null,
   "id": "7aa3f639-de26-485c-a596-6d1741a77017",
   "metadata": {},
   "outputs": [],
   "source": [
    "TS_list = []\n",
    "for tt in range(yy_start,yy_end+1):\n",
    "    ds_tt = xr.open_dataset(inputpath_profiles+'T_S_2D_fields_isf_draft_oneFRIS_'+str(tt)+'.nc')\n",
    "    TS_list.append(ds_tt)\n",
    "TS_ds = xr.concat(TS_list, dim='time')\n",
    "TS_ds.to_netcdf(inputpath_profiles+'T_S_2D_fields_isf_draft_oneFRIS.nc')"
   ]
  },
  {
   "cell_type": "code",
   "execution_count": null,
   "id": "974e01e5-62c2-4170-b96e-5fa5cf0ce6db",
   "metadata": {},
   "outputs": [],
   "source": [
    "print('test')"
   ]
  },
  {
   "cell_type": "code",
   "execution_count": null,
   "id": "e9662c8f-5f6a-41b7-9c0e-b0cad2a7e828",
   "metadata": {},
   "outputs": [],
   "source": []
  }
 ],
 "metadata": {
  "kernelspec": {
   "display_name": "py38",
   "language": "python",
   "name": "py38"
  },
  "language_info": {
   "codemirror_mode": {
    "name": "ipython",
    "version": 3
   },
   "file_extension": ".py",
   "mimetype": "text/x-python",
   "name": "python",
   "nbconvert_exporter": "python",
   "pygments_lexer": "ipython3",
   "version": "3.8.12"
  }
 },
 "nbformat": 4,
 "nbformat_minor": 5
}
