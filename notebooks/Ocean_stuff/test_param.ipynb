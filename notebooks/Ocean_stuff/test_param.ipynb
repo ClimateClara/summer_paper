{
 "cells": [
  {
   "cell_type": "code",
   "execution_count": null,
   "id": "64bbd742-024f-488a-b263-1ab78ca99d9b",
   "metadata": {},
   "outputs": [],
   "source": [
    "import xarray as xr\n",
    "import multimelt.melt_functions as meltf\n",
    "from multimelt.constants import *"
   ]
  },
  {
   "cell_type": "code",
   "execution_count": null,
   "id": "de75c516-defa-4cce-b5af-dfdb0a8b28bf",
   "metadata": {},
   "outputs": [],
   "source": [
    "%matplotlib qt5"
   ]
  },
  {
   "cell_type": "code",
   "execution_count": null,
   "id": "1b200cb8-b423-45e9-bef5-1702b3afb365",
   "metadata": {},
   "outputs": [],
   "source": [
    "S = 34.8\n",
    "T = -0.5 \n",
    "z = 400\n",
    "gamma = 11.6*10**(-5) * 2.9*10**(-3)"
   ]
  },
  {
   "cell_type": "code",
   "execution_count": null,
   "id": "336e7763-af16-4149-9de2-800507a05774",
   "metadata": {},
   "outputs": [],
   "source": [
    "Tf = meltf.freezing_temperature(S, z)\n",
    "thermal_forcing = T - Tf\n",
    "\n",
    "U_factor = (c_po / L_i) * beta_coeff_lazero * (g/(2*abs(f_coriolis))) * S"
   ]
  },
  {
   "cell_type": "code",
   "execution_count": null,
   "id": "28d9f84a-4620-473c-a7bf-87fd073df02a",
   "metadata": {},
   "outputs": [],
   "source": [
    "meltf.quadratic_local_param(gamma, melt_factor, thermal_forcing, U_factor)\n"
   ]
  },
  {
   "cell_type": "code",
   "execution_count": null,
   "id": "2c0b8216-366b-428d-a281-59b3cc5c5d19",
   "metadata": {},
   "outputs": [],
   "source": []
  }
 ],
 "metadata": {
  "kernelspec": {
   "display_name": "py38",
   "language": "python",
   "name": "py38"
  },
  "language_info": {
   "codemirror_mode": {
    "name": "ipython",
    "version": 3
   },
   "file_extension": ".py",
   "mimetype": "text/x-python",
   "name": "python",
   "nbconvert_exporter": "python",
   "pygments_lexer": "ipython3",
   "version": "3.8.12"
  }
 },
 "nbformat": 4,
 "nbformat_minor": 5
}
