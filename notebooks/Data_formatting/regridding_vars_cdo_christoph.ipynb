{
 "cells": [
  {
   "cell_type": "code",
   "execution_count": null,
   "id": "5099b9f3-6511-44b5-8639-6ebd183c35e0",
   "metadata": {},
   "outputs": [],
   "source": [
    "\"\"\"\n",
    "Created on Mon Jul 10 18:47 2023\n",
    "\n",
    "Use cdo to regrid the variables to stereographic grid with cdo\n",
    "to be used after \"custom_lsmask_christoph.ipynb\"\n",
    "\n",
    "@author: Clara Burgard\n",
    "\"\"\""
   ]
  },
  {
   "cell_type": "code",
   "execution_count": null,
   "id": "441deaf0-e538-4e0b-8263-bddb3b8e5f3a",
   "metadata": {},
   "outputs": [],
   "source": [
    "import xarray as xr\n",
    "import numpy as np\n",
    "import matplotlib.pyplot as plt\n",
    "from pyproj import Transformer\n",
    "import pandas as pd\n",
    "import sys,os\n",
    "from cdo import Cdo\n",
    "import time\n",
    "from tqdm.notebook import tqdm"
   ]
  },
  {
   "cell_type": "code",
   "execution_count": null,
   "id": "4924080c-a3bb-46e7-b89f-dbce97ebc47e",
   "metadata": {},
   "outputs": [],
   "source": [
    "%matplotlib qt5"
   ]
  },
  {
   "cell_type": "code",
   "execution_count": null,
   "id": "d3e743e4-d513-49d7-bd96-b3f3525e020b",
   "metadata": {},
   "outputs": [],
   "source": [
    "cdo = Cdo()\n",
    "print('this is CDO version %s'%(cdo.version()))"
   ]
  },
  {
   "cell_type": "markdown",
   "id": "5fb75335-10e6-46bf-8bda-a6558130e4f4",
   "metadata": {},
   "source": [
    "PREPARE PATH AND CONTEXT"
   ]
  },
  {
   "cell_type": "code",
   "execution_count": null,
   "id": "4a31313e-eeca-423d-97f1-72ad37fc22d5",
   "metadata": {},
   "outputs": [],
   "source": [
    "nemo_run = 'isfru94' # 'EPM026','EPM031', 'EPM034'\n",
    "if nemo_run in ['ctrl94']:\n",
    "    yy_start = 1982\n",
    "    yy_end = 2013\n",
    "elif nemo_run in ['isf94','isfru94']:\n",
    "    yy_start = 2014\n",
    "    yy_end = 2100"
   ]
  },
  {
   "cell_type": "code",
   "execution_count": null,
   "id": "ec86e93d-4a8e-4ff5-8e38-80ad817dafe4",
   "metadata": {},
   "outputs": [],
   "source": [
    "outputpath='/bettik/burgardc/DATA/SUMMER_PAPER/interim/NEMO_'+nemo_run+'_ANT_STEREO/'"
   ]
  },
  {
   "cell_type": "markdown",
   "id": "7d3dda0a-43c4-4942-bc72-81ef3baa2325",
   "metadata": {},
   "source": [
    "REGRIDDING THE MELT"
   ]
  },
  {
   "cell_type": "code",
   "execution_count": null,
   "id": "a9a40f9e-36ab-40ae-8ad9-ecf9e1b67c21",
   "metadata": {},
   "outputs": [],
   "source": [
    "for yy in tqdm(range(yy_start,yy_end+1)):\n",
    "    check = xr.open_dataset(outputpath+'variables_of_interest_'+str(yy)+'_Ant.nc')\n",
    "    check['melt_cavity'] = check['fwfisf'].where(np.isfinite(check['fwfisf']),0)\n",
    "    check2 = check[['melt_cavity']]\n",
    "    check2.to_netcdf(outputpath+'cavity_melt_'+str(yy)+'_Ant.nc')"
   ]
  },
  {
   "cell_type": "code",
   "execution_count": null,
   "id": "4b853010-a47a-42ac-970f-102994b87d0d",
   "metadata": {},
   "outputs": [],
   "source": [
    "for yy in tqdm(range(yy_start,yy_end+1)):\n",
    "    #print('computing ',yy)\n",
    "    time_start = time.time()\n",
    "    cdo.remapbil(outputpath+'stereo_grid.nc', input = outputpath+'cavity_melt_'+str(yy)+'_Ant.nc', output = outputpath+'cavity_melt_'+str(yy)+'_Ant_stereo.nc')\n",
    "    timelength = time.time() - time_start\n",
    "    #print(timelength)"
   ]
  },
  {
   "cell_type": "markdown",
   "id": "3390c81b-c95d-42fc-9f3f-afc4ce1f828f",
   "metadata": {},
   "source": [
    "REGRIDDING ALL OTHER VARIABLES OF INTEREST"
   ]
  },
  {
   "cell_type": "code",
   "execution_count": null,
   "id": "fa7fb8fe-bccc-4f1b-9f5f-596384c2cc1b",
   "metadata": {},
   "outputs": [],
   "source": [
    "for yy in tqdm(range(yy_start,yy_end+1)): #restart at 1998\n",
    "#for yy in tqdm(range(2056,yy_end+1)): #\n",
    "    print('computing ',yy)\n",
    "    time_start = time.time()\n",
    "    cdo.remapbil(outputpath+'stereo_grid.nc', input = outputpath+'variables_of_interest_'+str(yy)+'_Ant.nc', output = outputpath+'variables_of_interest_'+str(yy)+'_Ant_stereo.nc')\n",
    "    timelength = time.time() - time_start\n",
    "    print(timelength)"
   ]
  },
  {
   "cell_type": "markdown",
   "id": "c7da1bbe-36c0-40df-9da2-4a9d609aba97",
   "metadata": {},
   "source": [
    "FINISHED? GOOD! THEN YOU ARE READY TO GO TO THE PRE-PROCESSING OF THE MASKS AND TEMPERATURE & SALINITY PROFILES =)"
   ]
  },
  {
   "cell_type": "code",
   "execution_count": null,
   "id": "381dc2af-59cd-406d-94ae-3dfcdb3af1cb",
   "metadata": {},
   "outputs": [],
   "source": []
  }
 ],
 "metadata": {
  "kernelspec": {
   "display_name": "py38",
   "language": "python",
   "name": "py38"
  },
  "language_info": {
   "codemirror_mode": {
    "name": "ipython",
    "version": 3
   },
   "file_extension": ".py",
   "mimetype": "text/x-python",
   "name": "python",
   "nbconvert_exporter": "python",
   "pygments_lexer": "ipython3",
   "version": "3.8.12"
  }
 },
 "nbformat": 4,
 "nbformat_minor": 5
}
