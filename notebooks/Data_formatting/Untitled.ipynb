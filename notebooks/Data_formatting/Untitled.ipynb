{
 "cells": [
  {
   "cell_type": "code",
   "execution_count": null,
   "id": "64bbd742-024f-488a-b263-1ab78ca99d9b",
   "metadata": {},
   "outputs": [],
   "source": [
    "import xarray as xr"
   ]
  },
  {
   "cell_type": "code",
   "execution_count": null,
   "id": "de75c516-defa-4cce-b5af-dfdb0a8b28bf",
   "metadata": {},
   "outputs": [],
   "source": [
    "%matplotlib qt5"
   ]
  },
  {
   "cell_type": "code",
   "execution_count": null,
   "id": "9a3ecf74-7f48-4a39-9a3b-ce37aba52254",
   "metadata": {},
   "outputs": [],
   "source": [
    "inputpath='/bettik/burgardc/DATA/SUMMER_PAPER/interim/NEMO_isf94_ANT_STEREO/'"
   ]
  },
  {
   "cell_type": "code",
   "execution_count": null,
   "id": "33955f95-398f-40ed-be8f-b1c2434dec09",
   "metadata": {},
   "outputs": [],
   "source": [
    "test_data = xr.open_dataset(inputpath+'lsmask_0-2_Ant.nc')"
   ]
  },
  {
   "cell_type": "code",
   "execution_count": null,
   "id": "b9156cb7-71bf-442b-a21b-a7babfc06e5f",
   "metadata": {},
   "outputs": [],
   "source": [
    "test_data['so']"
   ]
  },
  {
   "cell_type": "code",
   "execution_count": null,
   "id": "2c0b8216-366b-428d-a281-59b3cc5c5d19",
   "metadata": {},
   "outputs": [],
   "source": []
  }
 ],
 "metadata": {
  "kernelspec": {
   "display_name": "py38",
   "language": "python",
   "name": "py38"
  },
  "language_info": {
   "codemirror_mode": {
    "name": "ipython",
    "version": 3
   },
   "file_extension": ".py",
   "mimetype": "text/x-python",
   "name": "python",
   "nbconvert_exporter": "python",
   "pygments_lexer": "ipython3",
   "version": "3.8.12"
  }
 },
 "nbformat": 4,
 "nbformat_minor": 5
}
