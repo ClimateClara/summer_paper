{
 "cells": [
  {
   "cell_type": "code",
   "execution_count": null,
   "id": "668b4fe2-2d22-4898-8b4c-28241d4db13c",
   "metadata": {},
   "outputs": [],
   "source": [
    "\"\"\"\n",
    "Created on Fri Oct 27 11:29 2023\n",
    "\n",
    "Plot scatter between temperature anomaly and melt\n",
    "\n",
    "Author: @claraburgard\n",
    "\"\"\""
   ]
  },
  {
   "cell_type": "code",
   "execution_count": null,
   "id": "2c3805f7-d7e1-4e82-bc30-f1e00dec5f8a",
   "metadata": {},
   "outputs": [],
   "source": [
    "import xarray as xr\n",
    "import numpy as np\n",
    "from tqdm.notebook import tqdm"
   ]
  },
  {
   "cell_type": "code",
   "execution_count": null,
   "id": "fc37d676-e9e9-4f8d-b2a1-c8d059e31cf3",
   "metadata": {},
   "outputs": [],
   "source": [
    "%matplotlib qt5"
   ]
  },
  {
   "cell_type": "markdown",
   "id": "a6b41fb9-ec74-495d-bdf8-bf2368aea12e",
   "metadata": {},
   "source": [
    "READ IN DATA"
   ]
  },
  {
   "cell_type": "code",
   "execution_count": null,
   "id": "5cbc958b-a4b5-471f-8e9d-f6e3bc152d72",
   "metadata": {},
   "outputs": [],
   "source": [
    "home_path = '/bettik/burgardc/'\n",
    "plot_path = '/bettik/burgardc/PLOTS/summer_paper_plots/'"
   ]
  },
  {
   "cell_type": "code",
   "execution_count": null,
   "id": "c4172d96-7c14-4780-87d0-7c5eed3088be",
   "metadata": {},
   "outputs": [],
   "source": [
    "sorted_isf_rignot = [11,69,43,28,12,57,\n",
    "                     70,44,29,13,58,71,45,30,14,\n",
    "                     59,72,46,\n",
    "                     31,\n",
    "                     15,61,73,47,32,16,48,33,17,62,49,34,18,63,74,\n",
    "                     50,35,19,64,\n",
    "                     10,\n",
    "                     36,20,65,51,37,\n",
    "                     22,38,52,23,66,53,39,24,\n",
    "                     67,40,54,75,25,41,\n",
    "                     26,42,55,68,60,27]"
   ]
  },
  {
   "cell_type": "code",
   "execution_count": null,
   "id": "5e434fc0-cf38-4d06-b604-235d816a457f",
   "metadata": {},
   "outputs": [],
   "source": [
    "param_classic_list = ['linear_local',\n",
    "              'quadratic_local','quadratic_local_locslope',\n",
    "              'quadratic_mixed_mean','quadratic_mixed_locslope',\n",
    "              'lazero19',\n",
    "              'boxes_4_pismyes_picopno']\n",
    "\n",
    "param_NN_list = ['NNxsmall96',\n",
    "              'NNsmall','NNlarge']"
   ]
  },
  {
   "cell_type": "markdown",
   "id": "513d670c-9ea0-40f8-b04b-2b9810506464",
   "metadata": {},
   "source": [
    "Models"
   ]
  },
  {
   "cell_type": "markdown",
   "id": "ef5608cb-0d08-440b-bde5-2058255a58dc",
   "metadata": {},
   "source": [
    "Temperature"
   ]
  },
  {
   "cell_type": "code",
   "execution_count": null,
   "id": "07b46a1f-2d94-43cd-8a79-a4e7b3fbc965",
   "metadata": {},
   "outputs": [],
   "source": [
    "inputpath_tas = '/bettik/burgardc/DATA/SUMMER_PAPER/interim/CMIP_TEMP/'"
   ]
  },
  {
   "cell_type": "code",
   "execution_count": null,
   "id": "d46529a4-afa1-4373-ae77-04bc8e105e90",
   "metadata": {},
   "outputs": [],
   "source": [
    "mod_list = ['ACCESS-CM2','ACCESS-ESM1-5','CNRM-CM6-1','CNRM-ESM2-1',\n",
    "            'CESM2-WACCM','CESM2','CanESM5','IPSL-CM6A-LR','MRI-ESM2-0','MPI-ESM1-2-HR',\n",
    "            'GFDL-ESM4','UKESM1-0-LL'] #'GFDL-CM4','GISS_E2-1-H',"
   ]
  },
  {
   "cell_type": "code",
   "execution_count": null,
   "id": "dd0bf889-4286-4233-b55e-dd9adbae458f",
   "metadata": {},
   "outputs": [],
   "source": [
    "tas_mod_list = []\n",
    "\n",
    "for mod in mod_list:\n",
    "    print(mod)\n",
    "    if mod not in ['GISS_E2-1-H']:\n",
    "        tas_scen_list = []\n",
    "        for scen in ['historical','ssp126','ssp245','ssp585']:\n",
    "            if (mod == 'GFDL-CM4') and (scen == 'ssp126'):\n",
    "                tas_mod_scen['tas'] = tas_mod_scen['tas']*np.nan\n",
    "            else:\n",
    "                tas_mod_scen = xr.open_dataset(inputpath_tas+mod+'/tas_Amon_'+mod+'_'+scen+'_fldmean_ymean.nc')\n",
    "                tas_mod_scen['time'] = tas_mod_scen.time.dt.year\n",
    "            tas_out = tas_mod_scen['tas'].squeeze(drop=True)\n",
    "            if 'height' in tas_out.coords:\n",
    "                tas_out = tas_out.drop('height')\n",
    "            tas_scen_list.append(tas_out.assign_coords({'scenario':scen}))\n",
    "\n",
    "        tas_all_scen = xr.concat(tas_scen_list,dim='scenario')\n",
    "        tas_mod_list.append(tas_all_scen.assign_coords({'model':mod}))\n",
    "        \n",
    "tas_all_mod = xr.concat(tas_mod_list, dim='model')"
   ]
  },
  {
   "cell_type": "code",
   "execution_count": null,
   "id": "1cfe5c64-c355-43ed-be38-4bcd0e2004ae",
   "metadata": {},
   "outputs": [],
   "source": [
    "anom_mod_scen = tas_all_mod - tas_all_mod.sel(scenario='historical').sel(time=range(1850,1880)).mean('time')"
   ]
  },
  {
   "cell_type": "markdown",
   "id": "29b780ca-fcf4-4c30-b1ff-abcdae6fb8cf",
   "metadata": {},
   "source": [
    "Melt"
   ]
  },
  {
   "cell_type": "code",
   "execution_count": null,
   "id": "5c4c9dc2-336b-4fce-89fd-6e65589ae3e3",
   "metadata": {},
   "outputs": [],
   "source": [
    "## Melt outputpath\n",
    "\n",
    "\n",
    "Gt_all_scen_list = []\n",
    "for scenario in ['historical','ssp126','ssp245','ssp585']:\n",
    "\n",
    "    Gt_allmod_list = []\n",
    "    box1_allmod_list = []\n",
    "    for mod in ['ACCESS-ESM1-5','ACCESS-CM2','CESM2','CESM2-WACCM','CNRM-CM6-1','CNRM-ESM2-1',\n",
    "                'CanESM5', 'GFDL-ESM4','IPSL-CM6A-LR',\n",
    "               'MPI-ESM1-2-HR','MRI-ESM2-0','UKESM1-0-LL']: #'GISS-E2-1-H','GFDL-CM4',\n",
    "\n",
    "    #for mod in ['ACCESS-ESM1-5']:\n",
    "\n",
    "        outputpath_melt = '/bettik/burgardc/DATA/SUMMER_PAPER/processed/OCEAN_MELT_RATE_CMIP/'+mod+'/'\n",
    "\n",
    "        melt1D_list = []\n",
    "        for mparam in param_classic_list:\n",
    "            melt1D_scenario = xr.open_dataset(outputpath_melt + 'eval_metrics_1D_'+mparam+'_'+scenario+'_oneFRIS.nc')\n",
    "            melt1D_list.append(melt1D_scenario.assign_coords({'param':mparam}))\n",
    "        melt1D_classic = xr.concat(melt1D_list, dim='param')       \n",
    "        Gt_classic = melt1D_classic['melt_1D_Gt_per_y']\n",
    "\n",
    "        melt1D_list = []\n",
    "        for mparam in param_NN_list:\n",
    "            melt1D_scenario = xr.open_dataset(outputpath_melt + 'evalmetrics_1D_'+mparam+'_'+scenario+'.nc')\n",
    "            melt1D_list.append(melt1D_scenario.assign_coords({'param':mparam}))\n",
    "        melt1D_NN = xr.concat(melt1D_list, dim='param')   \n",
    "        Gt_NN = melt1D_NN['predicted_melt'].sel(metrics='Gt')\n",
    "\n",
    "        Gt_all = xr.concat([Gt_classic, Gt_NN], dim='param')\n",
    "\n",
    "        Gt_allmod_list.append(Gt_all.assign_coords({'model': mod}))\n",
    "\n",
    "    Gt_allmod = xr.concat(Gt_allmod_list, dim='model')\n",
    "    Gt_all_scen_list.append(Gt_allmod.assign_coords({'scenario': scenario}))\n",
    "\n",
    "Gt_all_scen = xr.concat(Gt_all_scen_list, dim='scenario')\n",
    "    "
   ]
  },
  {
   "cell_type": "markdown",
   "id": "d515c485-a612-48ff-86ef-6309f779e655",
   "metadata": {},
   "source": [
    "Observations"
   ]
  },
  {
   "cell_type": "markdown",
   "id": "06c8d7d9-561f-427b-a558-b4c984a64be7",
   "metadata": {},
   "source": [
    "Temperature"
   ]
  },
  {
   "cell_type": "code",
   "execution_count": null,
   "id": "8f093ad3-d869-4f05-9441-42ab4d2f0424",
   "metadata": {},
   "outputs": [],
   "source": [
    "inputpath_raw = home_path+'/DATA/SUMMER_PAPER/raw/'\n",
    "HadCRUT_temp = xr.open_dataset(inputpath_raw + 'HadCRUT.5.0.0.0.analysis.summary_series.global.annual.nc')\n",
    "HadCRUT_tas = HadCRUT_temp['tas_mean']\n",
    "HadCRUT_tas['time'] = HadCRUT_temp.time.dt.year"
   ]
  },
  {
   "cell_type": "code",
   "execution_count": null,
   "id": "342bdc41-d6f0-4b73-88e0-c0696f844801",
   "metadata": {},
   "outputs": [],
   "source": [
    "anom_baseline = HadCRUT_tas.sel(time=range(1850,1880)).mean('time')\n",
    "anom_picontrol = HadCRUT_tas - anom_baseline"
   ]
  },
  {
   "cell_type": "markdown",
   "id": "a3139fac-0b1f-4fa7-ab21-9028f694a530",
   "metadata": {},
   "source": [
    "Melt"
   ]
  },
  {
   "cell_type": "code",
   "execution_count": null,
   "id": "c90dd111-a4e6-4d61-96dd-02656138d78d",
   "metadata": {},
   "outputs": [],
   "source": [
    "inputpath_Paolo_processed = '/bettik/millanr/DATA_SERVER/ANTARCTICA/OCEANICE/DATASET_FINAL/'\n",
    "integrated_Paolo = pd.read_csv(inputpath_Paolo_processed + 'Merged_Integrated_melt_rates.csv',index_col=0)\n",
    "Paolo_Gt_ds = integrated_Paolo.to_xarray()\n",
    "\n",
    "inputpath_Paolo_processed = '/bettik/millanr/DATA_SERVER/ANTARCTICA/OCEANICE/DATASET_FINAL/'\n",
    "integrated_Paolo_unc = pd.read_csv(inputpath_Paolo_processed + 'Merged_Integrated_melt_err_rates.csv',index_col=0)\n",
    "Paolo_Gt_unc_ds = integrated_Paolo_unc.to_xarray()"
   ]
  },
  {
   "cell_type": "code",
   "execution_count": null,
   "id": "341e9992-d82a-4c46-83b2-2fc667ca70ad",
   "metadata": {},
   "outputs": [],
   "source": [
    "year_list = ['1992'] + np.arange(1994,2015).astype(str).tolist()\n",
    "merged_list = []\n",
    "merged_list_unc = []\n",
    "for vvar in year_list:\n",
    "    merged_list.append(Paolo_Gt_ds[vvar].rename('melt_Gt').assign_coords({'time': int(vvar)}))\n",
    "    merged_list_unc.append(Paolo_Gt_unc_ds[vvar].rename('melt_Gt_unc').assign_coords({'time': int(vvar)}))\n",
    "merged_ds = xr.concat(merged_list, dim='time')\n",
    "merged_unc_ds = xr.concat(merged_list_unc, dim='time')\n",
    "merged_ds_both = xr.merge([merged_ds,merged_unc_ds])"
   ]
  },
  {
   "cell_type": "code",
   "execution_count": null,
   "id": "816b2b4c-0bd4-4843-bb8b-704a4006a088",
   "metadata": {},
   "outputs": [],
   "source": [
    "inputpath_mask = home_path+'/DATA/SUMMER_PAPER/interim/ANTARCTICA_IS_MASKS/BedMachine_4km/'\n",
    "file_isf_orig = xr.open_dataset(inputpath_mask+'BedMachinev2_4km_isf_masks_and_info_and_distance_oneFRIS.nc')\n",
    "nonnan_Nisf = file_isf_orig['Nisf'].where(np.isfinite(file_isf_orig['front_bot_depth_max']), drop=True).astype(int)\n",
    "file_isf_nonnan = file_isf_orig.sel(Nisf=nonnan_Nisf)\n",
    "rignot_isf = file_isf_nonnan.Nisf.where(np.isfinite(file_isf_nonnan['isf_area_rignot']), drop=True)\n",
    "file_isf = file_isf_nonnan.sel(Nisf=rignot_isf)"
   ]
  },
  {
   "cell_type": "code",
   "execution_count": null,
   "id": "80a445d5-7703-496b-b530-fab114e94fd8",
   "metadata": {},
   "outputs": [],
   "source": [
    "melt_Gt_list = []\n",
    "for kisf in file_isf.Nisf:\n",
    "    nname = file_isf['isf_name'].sel(Nisf=kisf).values\n",
    "    if nname in merged_ds['Names']:\n",
    "        melt_Gt_kisf = merged_ds_both.sel(Names=nname).squeeze().drop('Names')\n",
    "    elif nname == 'Conger/Glenzer':\n",
    "        melt_Gt_kisf = merged_ds_both.sel(Names='Conger_Glenzer').squeeze().drop('Names')\n",
    "    elif nname == 'George VI':\n",
    "        melt_Gt_kisf = merged_ds_both.sel(Names='George_VI').squeeze().drop('Names')\n",
    "    elif str(nname)[0:7] == 'Larsen ':\n",
    "        melt_Gt_kisf = merged_ds_both.sel(Names='Larsen'+str(nname)[7]).squeeze().drop('Names')\n",
    "    elif nname == 'Prince Harald':\n",
    "        melt_Gt_kisf = merged_ds_both.sel(Names='Prince_Harald').squeeze().drop('Names')\n",
    "    elif nname == 'Moscow Univ.':    \n",
    "        melt_Gt_kisf = merged_ds_both.sel(Names='Moscow_University').squeeze().drop('Names')\n",
    "    elif nname == 'Roi Baudouin':\n",
    "        melt_Gt_kisf = merged_ds_both.sel(Names='Baudouin').squeeze().drop('Names')\n",
    "    elif nname == 'Wilma/Robert/Downer':\n",
    "        melt_Gt_kisf = merged_ds_both.sel(Names='WilmaRobertDowner').squeeze().drop('Names')\n",
    "    elif nname == 'Tracy Tremenchus':\n",
    "        melt_Gt_kisf = merged_ds_both.sel(Names='Tracy_Tremenchus').squeeze().drop('Names')\n",
    "    elif nname == 'Rayner/Thyer':\n",
    "        melt_Gt_kisf = merged_ds_both.sel(Names='Rayner_Thyer').squeeze().drop('Names')\n",
    "    elif nname == 'Pine Island':\n",
    "        melt_Gt_kisf = merged_ds_both.sel(Names='Pine_Island').squeeze().drop('Names')\n",
    "    elif nname == 'Stancomb Brunt':\n",
    "        melt_Gt_kisf = merged_ds_both.sel(Names='Brunt_Stancomb').squeeze().drop('Names')\n",
    "    elif nname == 'Edward VIII':\n",
    "        melt_Gt_kisf = merged_ds_both.sel(Names='Edward_VIII').squeeze().drop('Names')\n",
    "    elif nname == 'Vincennes Bay':\n",
    "        melt_Gt_kisf = merged_ds_both.sel(Names='Vincennes_Bay').squeeze().drop('Names')\n",
    "    elif nname == 'Filchner-Ronne':\n",
    "        melt_Gt_kisf = merged_ds_both.sel(Names='Ronne').squeeze().drop('Names') + merged_ds_both.sel(Names='Filchner').squeeze().drop('Names')\n",
    "    elif nname == 'Ross':\n",
    "        melt_Gt_kisf = merged_ds_both.sel(Names='Ross_East').squeeze().drop('Names') + merged_ds_both.sel(Names='Ross_West').squeeze().drop('Names')\n",
    "    elif nname == 'Wordie':\n",
    "        melt_Gt_kisf = merged_ds_both.sel(Names='Wordie_(Harriott)').squeeze().drop('Names') + merged_ds_both.sel(Names='Wordie_(Harriott_Headland)'\n",
    "                                                                               ).squeeze().drop('Names') + merged_ds_both.sel(Names='Wordie_(Cape_Jeremy)'\n",
    "                                                                               ).squeeze().drop('Names') + merged_ds_both.sel(Names='Wordie_(Prospect)'\n",
    "                                                                               ).squeeze().drop('Names') + merged_ds_both.sel(Names='Wordie_(Airy_Rotz_Seller)').squeeze().drop('Names')\n",
    "    melt_Gt_list.append(melt_Gt_kisf.assign_coords({'Nisf': kisf}))\n",
    "\n",
    "melt_Gt_all_Paolo = xr.concat(melt_Gt_list, dim='Nisf')\n",
    "        \n"
   ]
  },
  {
   "cell_type": "code",
   "execution_count": null,
   "id": "ef253227-6fb6-45b2-a300-d80461e6e701",
   "metadata": {},
   "outputs": [],
   "source": [
    "temp_range_obs = [anom_picontrol.sel(time=melt_Gt_all_Paolo.time).min().values,anom_picontrol.sel(time=melt_Gt_all_Paolo.time).max().values]"
   ]
  },
  {
   "cell_type": "code",
   "execution_count": null,
   "id": "7e7783f8-e8f2-42c1-bd11-bcf7e8170e3b",
   "metadata": {},
   "outputs": [],
   "source": [
    "temp_range_obs"
   ]
  },
  {
   "cell_type": "code",
   "execution_count": null,
   "id": "fc567a68-08d6-43c4-8a5b-834395c0c08d",
   "metadata": {},
   "outputs": [],
   "source": [
    "regions = ['Weddell','Bellingshausen','Amundsen','Ross','East 1','East 2','Dronning Maud Land']\n",
    "colors = ['red','orange','gold','mediumturquoise','maroon','magenta','cornflowerblue','lightseagreen',\n",
    "          'yellowgreen','royalblue','tomato','darkslateblue','purple','darkgoldenrod']\n",
    "\n",
    "f = plt.figure()\n",
    "f.set_size_inches(8.25*3, 8.25*3)\n",
    "\n",
    "ax={}\n",
    "\n",
    "leg_hdl = []\n",
    "\n",
    "i = 0\n",
    "\n",
    "\n",
    "for kisf in tqdm(sorted_isf_rignot):\n",
    "    \n",
    "    ax[i] = f.add_subplot(8,8,i+1)\n",
    "    \n",
    "    melt_obs_kisf = melt_Gt_all_Paolo['melt_Gt'].sel(Nisf=kisf).values\n",
    "\n",
    "    ax[i].scatter(anom_picontrol.sel(time=melt_Gt_all_Paolo.time),melt_Gt_all_Paolo['melt_Gt'].sel(Nisf=kisf))\n",
    "\n",
    "\n",
    "\n",
    "    #if kisf == 23:\n",
    "    #    ax[i].set_title('Tracy Tremenchus')\n",
    "    #elif kisf == 24:\n",
    "    #    ax[i].set_title('Conger/Glenzer')\n",
    "    #elif kisf == 110:\n",
    "    #    ax[i].set_title('Ekström')\n",
    "    #else:\n",
    "    ax[i].set_title(str(file_isf_orig['isf_name'].sel(Nisf=kisf).values))\n",
    "    #ax[i].set_xlim(0,60)\n",
    "    #ax[i].axvline(x=30, c='k', linestyle='--')\n",
    "\n",
    "    i = i+1\n",
    "\n",
    "#f.legend()\n",
    "#f.subplots_adjust(bottom=0.05, wspace=0.1)\n",
    "\n",
    "f.tight_layout()\n",
    "sns.despine()\n"
   ]
  },
  {
   "cell_type": "markdown",
   "id": "45dcd265-2f61-4b1d-b9af-51a30c3a846b",
   "metadata": {},
   "source": [
    "find melt for same temperature anomaly range"
   ]
  },
  {
   "cell_type": "code",
   "execution_count": null,
   "id": "408a79c0-73bd-4180-b67b-49bad92ac781",
   "metadata": {},
   "outputs": [],
   "source": [
    "time_mod = anom_mod_scen.time.where(((anom_mod_scen >= temp_range_obs[0]) & (anom_mod_scen <= temp_range_obs[1]))).sel(scenario='historical').dropna('time',how='all')"
   ]
  },
  {
   "cell_type": "code",
   "execution_count": null,
   "id": "24efe784-2100-4259-8b62-39b66e048749",
   "metadata": {},
   "outputs": [],
   "source": [
    "regions = ['Weddell','Bellingshausen','Amundsen','Ross','East 1','East 2','Dronning Maud Land']\n",
    "colors = ['red','orange','gold','mediumturquoise','maroon','magenta','cornflowerblue','lightseagreen',\n",
    "          'yellowgreen','royalblue','tomato','darkslateblue','purple','darkgoldenrod']\n",
    "\n",
    "f = plt.figure()\n",
    "f.set_size_inches(8.25*3, 8.25*3)\n",
    "\n",
    "ax={}\n",
    "\n",
    "leg_hdl = []\n",
    "\n",
    "i = 0\n",
    "\n",
    "\n",
    "for kisf in tqdm(sorted_isf_rignot):\n",
    "    \n",
    "    ax[i] = f.add_subplot(8,8,i+1)\n",
    "    \n",
    "    melt_obs_kisf = melt_Gt_all_Paolo['melt_Gt'].sel(Nisf=kisf).values\n",
    "\n",
    "    ax[i].scatter(anom_picontrol.sel(time=melt_Gt_all_Paolo.time),melt_Gt_all_Paolo['melt_Gt'].sel(Nisf=kisf))\n",
    "    for mod in Gt_all_scen.model:\n",
    "        time_mod0 = time_mod.sel(model=mod).dropna('time')\n",
    "        time_mod0 = time_mod0.where(time_mod0>=1980,drop=True)\n",
    "        for mparam in Gt_all_scen.param:\n",
    "            ax[i].scatter(anom_mod_scen.sel(model=mod,time=time_mod0,scenario='historical'),Gt_all_scen.sel(time=time_mod0,Nisf=kisf,scenario='historical',model=mod,param=mparam), color='k',s=10,alpha=0.1)\n",
    "\n",
    "\n",
    "    #if kisf == 23:\n",
    "    #    ax[i].set_title('Tracy Tremenchus')\n",
    "    #elif kisf == 24:\n",
    "    #    ax[i].set_title('Conger/Glenzer')\n",
    "    #elif kisf == 110:\n",
    "    #    ax[i].set_title('Ekström')\n",
    "    #else:\n",
    "    ax[i].set_title(str(file_isf_orig['isf_name'].sel(Nisf=kisf).values))\n",
    "    #ax[i].set_xlim(0,60)\n",
    "    #ax[i].axvline(x=30, c='k', linestyle='--')\n",
    "\n",
    "    i = i+1\n",
    "\n",
    "#f.legend()\n",
    "#f.subplots_adjust(bottom=0.05, wspace=0.1)\n",
    "\n",
    "f.tight_layout()\n",
    "sns.despine()\n",
    "f.savefig(plot_path + 'scatter_temp_melt_historical.pdf')"
   ]
  },
  {
   "cell_type": "code",
   "execution_count": null,
   "id": "87802169-d1ee-4d93-af20-b890fd277b46",
   "metadata": {},
   "outputs": [],
   "source": [
    "regions = ['Weddell','Bellingshausen','Amundsen','Ross','East 1','East 2','Dronning Maud Land']\n",
    "colors = ['red','orange','gold','mediumturquoise','maroon','magenta','cornflowerblue','lightseagreen',\n",
    "          'yellowgreen','royalblue','tomato','darkslateblue','purple','darkgoldenrod']\n",
    "\n",
    "f = plt.figure()\n",
    "f.set_size_inches(8.25*3, 8.25*3)\n",
    "\n",
    "ax={}\n",
    "\n",
    "leg_hdl = []\n",
    "\n",
    "i = 0\n",
    "\n",
    "\n",
    "for kisf in tqdm(sorted_isf_rignot):\n",
    "    \n",
    "    ax[i] = f.add_subplot(8,8,i+1)\n",
    "    for mod in Gt_all_scen.model:\n",
    "        for scen in anom_mod_scen.scenario:\n",
    "            if scen == 'historical':\n",
    "                ccolor='grey'\n",
    "            elif scen == 'ssp126':\n",
    "                ccolor='orange'\n",
    "            elif scen == 'ssp245':\n",
    "                ccolor='maroon' \n",
    "            elif scen == 'ssp585':\n",
    "                ccolor='red'   \n",
    "            for mparam in Gt_all_scen.param:\n",
    "                ax[i].scatter(anom_mod_scen.sel(time=range(1980,2301),scenario=scen,model=mod),Gt_all_scen.sel(time=range(1980,2301),Nisf=kisf,scenario=scen,model=mod,param=mparam),\n",
    "                          alpha=0.1,s=10,color=ccolor)\n",
    "\n",
    "\n",
    "    #if kisf == 23:\n",
    "    #    ax[i].set_title('Tracy Tremenchus')\n",
    "    #elif kisf == 24:\n",
    "    #    ax[i].set_title('Conger/Glenzer')\n",
    "    #elif kisf == 110:\n",
    "    #    ax[i].set_title('Ekström')\n",
    "    #else:\n",
    "    ax[i].set_title(str(file_isf_orig['isf_name'].sel(Nisf=kisf).values))\n",
    "    #ax[i].set_xlim(0,60)\n",
    "    #ax[i].axvline(x=30, c='k', linestyle='--')\n",
    "\n",
    "    i = i+1\n",
    "\n",
    "#f.legend()\n",
    "#f.subplots_adjust(bottom=0.05, wspace=0.1)\n",
    "\n",
    "f.tight_layout()\n",
    "sns.despine()\n",
    "f.savefig(plot_path + 'scatter_temp_melt_allscenarios.png',dpi=300)"
   ]
  },
  {
   "cell_type": "code",
   "execution_count": null,
   "id": "ba73e70d-15a3-4313-be40-182b2d2f3468",
   "metadata": {},
   "outputs": [],
   "source": [
    "plt.figure()\n",
    "for scen in anom_mod_scen.scenario:\n",
    "    for mparam in Gt_all_scen.param:\n",
    "        plt.scatter(anom_mod_scen.sel(time=range(1980,2101),scenario=scen),Gt_all_scen.sum('Nisf').sel(time=range(1980,2101),scenario=scen,model=mod,param=mparam),\n",
    "                      alpha=0.1,s=10)"
   ]
  },
  {
   "cell_type": "code",
   "execution_count": null,
   "id": "4d07fd69-cbc7-4098-9a33-0efec3ea9151",
   "metadata": {},
   "outputs": [],
   "source": []
  }
 ],
 "metadata": {
  "kernelspec": {
   "display_name": "py38",
   "language": "python",
   "name": "py38"
  },
  "language_info": {
   "codemirror_mode": {
    "name": "ipython",
    "version": 3
   },
   "file_extension": ".py",
   "mimetype": "text/x-python",
   "name": "python",
   "nbconvert_exporter": "python",
   "pygments_lexer": "ipython3",
   "version": "3.8.12"
  }
 },
 "nbformat": 4,
 "nbformat_minor": 5
}
