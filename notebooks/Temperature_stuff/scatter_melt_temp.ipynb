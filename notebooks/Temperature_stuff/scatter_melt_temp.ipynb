{
 "cells": [
  {
   "cell_type": "code",
   "execution_count": null,
   "id": "0",
   "metadata": {},
   "outputs": [],
   "source": [
    "\"\"\"\n",
    "Created on Fri Oct 27 11:29 2023\n",
    "\n",
    "Plot scatter between temperature anomaly and melt\n",
    "\n",
    "Author: @claraburgard\n",
    "\"\"\""
   ]
  },
  {
   "cell_type": "code",
   "execution_count": null,
   "id": "1",
   "metadata": {},
   "outputs": [],
   "source": [
    "import xarray as xr\n",
    "import numpy as np\n",
    "from tqdm.notebook import tqdm"
   ]
  },
  {
   "cell_type": "code",
   "execution_count": null,
   "id": "2",
   "metadata": {},
   "outputs": [],
   "source": [
    "%matplotlib qt5"
   ]
  },
  {
   "cell_type": "markdown",
   "id": "3",
   "metadata": {},
   "source": [
    "READ IN DATA"
   ]
  },
  {
   "cell_type": "code",
   "execution_count": null,
   "id": "4",
   "metadata": {},
   "outputs": [],
   "source": [
    "home_path = '/bettik/burgardc/'\n",
    "plot_path = '/bettik/burgardc/PLOTS/summer_paper_plots/'"
   ]
  },
  {
   "cell_type": "code",
   "execution_count": null,
   "id": "5",
   "metadata": {},
   "outputs": [],
   "source": [
    "sorted_isf_rignot = [11,69,43,28,12,57,\n",
    "                     70,44,29,13,58,71,45,30,14,\n",
    "                     59,72,46,\n",
    "                     31,\n",
    "                     15,61,73,47,32,16,48,33,17,62,49,34,18,63,74,\n",
    "                     50,35,19,64,\n",
    "                     10,\n",
    "                     36,20,65,51,37,\n",
    "                     22,38,52,23,66,53,39,24,\n",
    "                     67,40,54,75,25,41,\n",
    "                     26,42,55,68,60,27]"
   ]
  },
  {
   "cell_type": "code",
   "execution_count": null,
   "id": "6",
   "metadata": {},
   "outputs": [],
   "source": [
    "param_classic_list = ['linear_local',\n",
    "              'quadratic_local','quadratic_local_locslope',\n",
    "              'quadratic_mixed_mean','quadratic_mixed_locslope',\n",
    "              'lazero19',\n",
    "              'boxes_4_pismyes_picopno']\n",
    "\n",
    "param_NN_list = ['NNxsmall96',\n",
    "              'NNsmall','NNlarge']"
   ]
  },
  {
   "cell_type": "markdown",
   "id": "7",
   "metadata": {},
   "source": [
    "Models"
   ]
  },
  {
   "cell_type": "markdown",
   "id": "8",
   "metadata": {},
   "source": [
    "Temperature"
   ]
  },
  {
   "cell_type": "code",
   "execution_count": null,
   "id": "9",
   "metadata": {},
   "outputs": [],
   "source": [
    "inputpath_tas = '/bettik/burgardc/DATA/SUMMER_PAPER/interim/CMIP_TEMP/'"
   ]
  },
  {
   "cell_type": "code",
   "execution_count": null,
   "id": "10",
   "metadata": {},
   "outputs": [],
   "source": [
    "mod_list = ['ACCESS-CM2','ACCESS-ESM1-5','CNRM-CM6-1','CNRM-ESM2-1',\n",
    "            'CESM2-WACCM','CESM2','CanESM5','GISS-E2-1-H','IPSL-CM6A-LR','MRI-ESM2-0','MPI-ESM1-2-HR',\n",
    "            'GFDL-ESM4','UKESM1-0-LL'] #'GFDL-CM4',"
   ]
  },
  {
   "cell_type": "code",
   "execution_count": null,
   "id": "11",
   "metadata": {},
   "outputs": [],
   "source": [
    "tas_mod_list = []\n",
    "\n",
    "for mod in mod_list:\n",
    "    print(mod)\n",
    "    tas_scen_list = []\n",
    "    for scen in ['historical','ssp126','ssp245','ssp585']:\n",
    "        if (mod == 'GFDL-CM4') and (scen == 'ssp126'):\n",
    "            tas_mod_scen['tas'] = tas_mod_scen['tas']*np.nan\n",
    "        else:\n",
    "            tas_mod_scen = xr.open_dataset(inputpath_tas+mod+'/tas_Amon_'+mod+'_'+scen+'_fldmean_ymean.nc')\n",
    "            tas_mod_scen['time'] = tas_mod_scen.time.dt.year\n",
    "        tas_out = tas_mod_scen['tas'].squeeze(drop=True)\n",
    "        if 'height' in tas_out.coords:\n",
    "            tas_out = tas_out.drop('height')\n",
    "        tas_scen_list.append(tas_out.assign_coords({'scenario':scen}))\n",
    "\n",
    "    tas_all_scen = xr.concat(tas_scen_list,dim='scenario')\n",
    "    tas_mod_list.append(tas_all_scen.assign_coords({'model':mod}))\n",
    "        \n",
    "tas_all_mod = xr.concat(tas_mod_list, dim='model')"
   ]
  },
  {
   "cell_type": "code",
   "execution_count": null,
   "id": "12",
   "metadata": {},
   "outputs": [],
   "source": [
    "anom_mod_scen = tas_all_mod - tas_all_mod.sel(scenario='historical').sel(time=range(1850,1880)).mean('time')"
   ]
  },
  {
   "cell_type": "markdown",
   "id": "13",
   "metadata": {},
   "source": [
    "Melt"
   ]
  },
  {
   "cell_type": "code",
   "execution_count": null,
   "id": "14",
   "metadata": {},
   "outputs": [],
   "source": [
    "## Melt outputpath\n",
    "\n",
    "\n",
    "Gt_all_scen_list = []\n",
    "for scenario in ['historical','ssp126','ssp245','ssp585']:\n",
    "\n",
    "    Gt_allmod_list = []\n",
    "    box1_allmod_list = []\n",
    "    for mod in ['ACCESS-ESM1-5','ACCESS-CM2','CESM2','CESM2-WACCM','CNRM-CM6-1','CNRM-ESM2-1',\n",
    "                'CanESM5', 'GFDL-ESM4','GISS-E2-1-H','IPSL-CM6A-LR',\n",
    "               'MPI-ESM1-2-HR','MRI-ESM2-0','UKESM1-0-LL']: #,'GFDL-CM4',\n",
    "\n",
    "    #for mod in ['ACCESS-ESM1-5']:\n",
    "\n",
    "        outputpath_melt = '/bettik/burgardc/DATA/SUMMER_PAPER/processed/OCEAN_MELT_RATE_CMIP/'+mod+'/'\n",
    "\n",
    "        melt1D_list = []\n",
    "        for mparam in param_classic_list:\n",
    "            melt1D_scenario = xr.open_dataset(outputpath_melt + 'eval_metrics_1D_'+mparam+'_'+scenario+'_oneFRIS.nc')\n",
    "            melt1D_list.append(melt1D_scenario.assign_coords({'param':mparam}))\n",
    "        melt1D_classic = xr.concat(melt1D_list, dim='param')       \n",
    "        Gt_classic = melt1D_classic['melt_1D_Gt_per_y']\n",
    "\n",
    "        melt1D_list = []\n",
    "        for mparam in param_NN_list:\n",
    "            melt1D_scenario = xr.open_dataset(outputpath_melt + 'evalmetrics_1D_'+mparam+'_'+scenario+'.nc')\n",
    "            melt1D_list.append(melt1D_scenario.assign_coords({'param':mparam}))\n",
    "        melt1D_NN = xr.concat(melt1D_list, dim='param')   \n",
    "        Gt_NN = melt1D_NN['predicted_melt'].sel(metrics='Gt')\n",
    "\n",
    "        Gt_all = xr.concat([Gt_classic, Gt_NN], dim='param')\n",
    "\n",
    "        Gt_allmod_list.append(Gt_all.assign_coords({'model': mod}))\n",
    "\n",
    "    Gt_allmod = xr.concat(Gt_allmod_list, dim='model')\n",
    "    Gt_all_scen_list.append(Gt_allmod.assign_coords({'scenario': scenario}))\n",
    "\n",
    "Gt_all_scen = xr.concat(Gt_all_scen_list, dim='scenario')\n",
    "    "
   ]
  },
  {
   "cell_type": "markdown",
   "id": "15",
   "metadata": {},
   "source": [
    "Observations"
   ]
  },
  {
   "cell_type": "markdown",
   "id": "16",
   "metadata": {},
   "source": [
    "Temperature"
   ]
  },
  {
   "cell_type": "code",
   "execution_count": null,
   "id": "17",
   "metadata": {},
   "outputs": [],
   "source": [
    "inputpath_raw = home_path+'/DATA/SUMMER_PAPER/raw/'\n",
    "HadCRUT_temp = xr.open_dataset(inputpath_raw + 'HadCRUT.5.0.0.0.analysis.summary_series.global.annual.nc')\n",
    "HadCRUT_tas = HadCRUT_temp['tas_mean']\n",
    "HadCRUT_tas['time'] = HadCRUT_temp.time.dt.year"
   ]
  },
  {
   "cell_type": "code",
   "execution_count": null,
   "id": "18",
   "metadata": {},
   "outputs": [],
   "source": [
    "anom_baseline = HadCRUT_tas.sel(time=range(1850,1880)).mean('time')\n",
    "anom_picontrol = HadCRUT_tas - anom_baseline"
   ]
  },
  {
   "cell_type": "markdown",
   "id": "19",
   "metadata": {},
   "source": [
    "Melt"
   ]
  },
  {
   "cell_type": "code",
   "execution_count": null,
   "id": "20",
   "metadata": {},
   "outputs": [],
   "source": [
    "inputpath_Paolo_processed = '/bettik/millanr/DATA_SERVER/ANTARCTICA/OCEANICE/DATASET_FINAL/'\n",
    "integrated_Paolo = pd.read_csv(inputpath_Paolo_processed + 'Merged_Integrated_melt_rates.csv',index_col=0)\n",
    "Paolo_Gt_ds = integrated_Paolo.to_xarray()\n",
    "\n",
    "inputpath_Paolo_processed = '/bettik/millanr/DATA_SERVER/ANTARCTICA/OCEANICE/DATASET_FINAL/'\n",
    "integrated_Paolo_unc = pd.read_csv(inputpath_Paolo_processed + 'Merged_Integrated_melt_err_rates.csv',index_col=0)\n",
    "Paolo_Gt_unc_ds = integrated_Paolo_unc.to_xarray()"
   ]
  },
  {
   "cell_type": "code",
   "execution_count": null,
   "id": "21",
   "metadata": {},
   "outputs": [],
   "source": [
    "year_list = ['1992'] + np.arange(1994,2015).astype(str).tolist()\n",
    "merged_list = []\n",
    "merged_list_unc = []\n",
    "for vvar in year_list:\n",
    "    merged_list.append(Paolo_Gt_ds[vvar].rename('melt_Gt').assign_coords({'time': int(vvar)}))\n",
    "    merged_list_unc.append(Paolo_Gt_unc_ds[vvar].rename('melt_Gt_unc').assign_coords({'time': int(vvar)}))\n",
    "merged_ds = xr.concat(merged_list, dim='time')\n",
    "merged_unc_ds = xr.concat(merged_list_unc, dim='time')\n",
    "merged_ds_both = xr.merge([merged_ds,merged_unc_ds])"
   ]
  },
  {
   "cell_type": "code",
   "execution_count": null,
   "id": "22",
   "metadata": {},
   "outputs": [],
   "source": [
    "inputpath_mask = home_path+'/DATA/SUMMER_PAPER/interim/ANTARCTICA_IS_MASKS/BedMachine_4km/'\n",
    "file_isf_orig = xr.open_dataset(inputpath_mask+'BedMachinev2_4km_isf_masks_and_info_and_distance_oneFRIS.nc')\n",
    "nonnan_Nisf = file_isf_orig['Nisf'].where(np.isfinite(file_isf_orig['front_bot_depth_max']), drop=True).astype(int)\n",
    "file_isf_nonnan = file_isf_orig.sel(Nisf=nonnan_Nisf)\n",
    "rignot_isf = file_isf_nonnan.Nisf.where(np.isfinite(file_isf_nonnan['isf_area_rignot']), drop=True)\n",
    "file_isf = file_isf_nonnan.sel(Nisf=rignot_isf)"
   ]
  },
  {
   "cell_type": "code",
   "execution_count": null,
   "id": "23",
   "metadata": {},
   "outputs": [],
   "source": [
    "melt_Gt_list = []\n",
    "for kisf in file_isf.Nisf:\n",
    "    nname = file_isf['isf_name'].sel(Nisf=kisf).values\n",
    "    if nname in merged_ds['Names']:\n",
    "        melt_Gt_kisf = merged_ds_both.sel(Names=nname).squeeze().drop('Names')\n",
    "    elif nname == 'Conger/Glenzer':\n",
    "        melt_Gt_kisf = merged_ds_both.sel(Names='Conger_Glenzer').squeeze().drop('Names')\n",
    "    elif nname == 'George VI':\n",
    "        melt_Gt_kisf = merged_ds_both.sel(Names='George_VI').squeeze().drop('Names')\n",
    "    elif str(nname)[0:7] == 'Larsen ':\n",
    "        melt_Gt_kisf = merged_ds_both.sel(Names='Larsen'+str(nname)[7]).squeeze().drop('Names')\n",
    "    elif nname == 'Prince Harald':\n",
    "        melt_Gt_kisf = merged_ds_both.sel(Names='Prince_Harald').squeeze().drop('Names')\n",
    "    elif nname == 'Moscow Univ.':    \n",
    "        melt_Gt_kisf = merged_ds_both.sel(Names='Moscow_University').squeeze().drop('Names')\n",
    "    elif nname == 'Roi Baudouin':\n",
    "        melt_Gt_kisf = merged_ds_both.sel(Names='Baudouin').squeeze().drop('Names')\n",
    "    elif nname == 'Wilma/Robert/Downer':\n",
    "        melt_Gt_kisf = merged_ds_both.sel(Names='WilmaRobertDowner').squeeze().drop('Names')\n",
    "    elif nname == 'Tracy Tremenchus':\n",
    "        melt_Gt_kisf = merged_ds_both.sel(Names='Tracy_Tremenchus').squeeze().drop('Names')\n",
    "    elif nname == 'Rayner/Thyer':\n",
    "        melt_Gt_kisf = merged_ds_both.sel(Names='Rayner_Thyer').squeeze().drop('Names')\n",
    "    elif nname == 'Pine Island':\n",
    "        melt_Gt_kisf = merged_ds_both.sel(Names='Pine_Island').squeeze().drop('Names')\n",
    "    elif nname == 'Stancomb Brunt':\n",
    "        melt_Gt_kisf = merged_ds_both.sel(Names='Brunt_Stancomb').squeeze().drop('Names')\n",
    "    elif nname == 'Edward VIII':\n",
    "        melt_Gt_kisf = merged_ds_both.sel(Names='Edward_VIII').squeeze().drop('Names')\n",
    "    elif nname == 'Vincennes Bay':\n",
    "        melt_Gt_kisf = merged_ds_both.sel(Names='Vincennes_Bay').squeeze().drop('Names')\n",
    "    elif nname == 'Filchner-Ronne':\n",
    "        melt_Gt_kisf = merged_ds_both.sel(Names='Ronne').squeeze().drop('Names') + merged_ds_both.sel(Names='Filchner').squeeze().drop('Names')\n",
    "    elif nname == 'Ross':\n",
    "        melt_Gt_kisf = merged_ds_both.sel(Names='Ross_East').squeeze().drop('Names') + merged_ds_both.sel(Names='Ross_West').squeeze().drop('Names')\n",
    "    elif nname == 'Wordie':\n",
    "        melt_Gt_kisf = merged_ds_both.sel(Names='Wordie_(Harriott)').squeeze().drop('Names') + merged_ds_both.sel(Names='Wordie_(Harriott_Headland)'\n",
    "                                                                               ).squeeze().drop('Names') + merged_ds_both.sel(Names='Wordie_(Cape_Jeremy)'\n",
    "                                                                               ).squeeze().drop('Names') + merged_ds_both.sel(Names='Wordie_(Prospect)'\n",
    "                                                                               ).squeeze().drop('Names') + merged_ds_both.sel(Names='Wordie_(Airy_Rotz_Seller)').squeeze().drop('Names')\n",
    "    melt_Gt_list.append(melt_Gt_kisf.assign_coords({'Nisf': kisf}))\n",
    "\n",
    "melt_Gt_all_Paolo = xr.concat(melt_Gt_list, dim='Nisf')\n",
    "        \n"
   ]
  },
  {
   "cell_type": "code",
   "execution_count": null,
   "id": "24",
   "metadata": {},
   "outputs": [],
   "source": [
    "temp_range_obs = [anom_picontrol.sel(time=melt_Gt_all_Paolo.time).min().values,anom_picontrol.sel(time=melt_Gt_all_Paolo.time).max().values]"
   ]
  },
  {
   "cell_type": "code",
   "execution_count": null,
   "id": "25",
   "metadata": {},
   "outputs": [],
   "source": [
    "temp_range_obs"
   ]
  },
  {
   "cell_type": "code",
   "execution_count": null,
   "id": "26",
   "metadata": {},
   "outputs": [],
   "source": [
    "regions = ['Weddell','Bellingshausen','Amundsen','Ross','East 1','East 2','Dronning Maud Land']\n",
    "colors = ['red','orange','gold','mediumturquoise','maroon','magenta','cornflowerblue','lightseagreen',\n",
    "          'yellowgreen','royalblue','tomato','darkslateblue','purple','darkgoldenrod']\n",
    "\n",
    "f = plt.figure()\n",
    "f.set_size_inches(8.25*3, 8.25*3)\n",
    "\n",
    "ax={}\n",
    "\n",
    "leg_hdl = []\n",
    "\n",
    "i = 0\n",
    "\n",
    "\n",
    "for kisf in tqdm(sorted_isf_rignot):\n",
    "    \n",
    "    ax[i] = f.add_subplot(8,8,i+1)\n",
    "    \n",
    "    melt_obs_kisf = melt_Gt_all_Paolo['melt_Gt'].sel(Nisf=kisf).values\n",
    "\n",
    "    ax[i].scatter(anom_picontrol.sel(time=melt_Gt_all_Paolo.time),melt_Gt_all_Paolo['melt_Gt'].sel(Nisf=kisf))\n",
    "\n",
    "\n",
    "\n",
    "    #if kisf == 23:\n",
    "    #    ax[i].set_title('Tracy Tremenchus')\n",
    "    #elif kisf == 24:\n",
    "    #    ax[i].set_title('Conger/Glenzer')\n",
    "    #elif kisf == 110:\n",
    "    #    ax[i].set_title('Ekström')\n",
    "    #else:\n",
    "    ax[i].set_title(str(file_isf_orig['isf_name'].sel(Nisf=kisf).values))\n",
    "    #ax[i].set_xlim(0,60)\n",
    "    #ax[i].axvline(x=30, c='k', linestyle='--')\n",
    "\n",
    "    i = i+1\n",
    "\n",
    "#f.legend()\n",
    "#f.subplots_adjust(bottom=0.05, wspace=0.1)\n",
    "\n",
    "f.tight_layout()\n",
    "sns.despine()\n"
   ]
  },
  {
   "cell_type": "markdown",
   "id": "27",
   "metadata": {},
   "source": [
    "find melt for same temperature anomaly range"
   ]
  },
  {
   "cell_type": "code",
   "execution_count": null,
   "id": "28",
   "metadata": {},
   "outputs": [],
   "source": [
    "time_mod = anom_mod_scen.time.where(((anom_mod_scen >= temp_range_obs[0]) & (anom_mod_scen <= temp_range_obs[1]))).sel(scenario='historical').dropna('time',how='all')"
   ]
  },
  {
   "cell_type": "code",
   "execution_count": null,
   "id": "29",
   "metadata": {},
   "outputs": [],
   "source": [
    "regions = ['Weddell','Bellingshausen','Amundsen','Ross','East 1','East 2','Dronning Maud Land']\n",
    "colors = ['red','orange','gold','mediumturquoise','maroon','magenta','cornflowerblue','lightseagreen',\n",
    "          'yellowgreen','royalblue','tomato','darkslateblue','purple','darkgoldenrod']\n",
    "\n",
    "f = plt.figure()\n",
    "f.set_size_inches(8.25*3, 8.25*3)\n",
    "\n",
    "ax={}\n",
    "\n",
    "leg_hdl = []\n",
    "\n",
    "i = 0\n",
    "\n",
    "\n",
    "for kisf in tqdm(sorted_isf_rignot):\n",
    "    \n",
    "    ax[i] = f.add_subplot(8,8,i+1)\n",
    "    \n",
    "    melt_obs_kisf = melt_Gt_all_Paolo['melt_Gt'].sel(Nisf=kisf).values\n",
    "\n",
    "    ax[i].scatter(anom_picontrol.sel(time=melt_Gt_all_Paolo.time),melt_Gt_all_Paolo['melt_Gt'].sel(Nisf=kisf))\n",
    "    for mod in Gt_all_scen.model:\n",
    "        time_mod0 = time_mod.sel(model=mod).dropna('time')\n",
    "        time_mod0 = time_mod0.where(time_mod0>=1980,drop=True)\n",
    "        for mparam in Gt_all_scen.param:\n",
    "            ax[i].scatter(anom_mod_scen.sel(model=mod,time=time_mod0,scenario='historical'),Gt_all_scen.sel(time=time_mod0,Nisf=kisf,scenario='historical',model=mod,param=mparam), color='k',s=10,alpha=0.1)\n",
    "\n",
    "\n",
    "    #if kisf == 23:\n",
    "    #    ax[i].set_title('Tracy Tremenchus')\n",
    "    #elif kisf == 24:\n",
    "    #    ax[i].set_title('Conger/Glenzer')\n",
    "    #elif kisf == 110:\n",
    "    #    ax[i].set_title('Ekström')\n",
    "    #else:\n",
    "    ax[i].set_title(str(file_isf_orig['isf_name'].sel(Nisf=kisf).values))\n",
    "    #ax[i].set_xlim(0,60)\n",
    "    #ax[i].axvline(x=30, c='k', linestyle='--')\n",
    "\n",
    "    i = i+1\n",
    "\n",
    "#f.legend()\n",
    "#f.subplots_adjust(bottom=0.05, wspace=0.1)\n",
    "\n",
    "f.tight_layout()\n",
    "sns.despine()\n",
    "f.savefig(plot_path + 'scatter_temp_melt_historical.pdf')"
   ]
  },
  {
   "cell_type": "code",
   "execution_count": null,
   "id": "30",
   "metadata": {},
   "outputs": [],
   "source": [
    "regions = ['Weddell','Bellingshausen','Amundsen','Ross','East 1','East 2','Dronning Maud Land']\n",
    "colors = ['red','orange','gold','mediumturquoise','maroon','magenta','cornflowerblue','lightseagreen',\n",
    "          'yellowgreen','royalblue','tomato','darkslateblue','purple','darkgoldenrod']\n",
    "\n",
    "f = plt.figure()\n",
    "f.set_size_inches(8.25*3, 8.25*3)\n",
    "\n",
    "ax={}\n",
    "\n",
    "leg_hdl = []\n",
    "\n",
    "i = 0\n",
    "\n",
    "\n",
    "for kisf in tqdm(sorted_isf_rignot):\n",
    "    \n",
    "    ax[i] = f.add_subplot(8,8,i+1)\n",
    "    for mod in Gt_all_scen.model:\n",
    "        for scen in anom_mod_scen.scenario:\n",
    "            if scen == 'historical':\n",
    "                ccolor='grey'\n",
    "            elif scen == 'ssp126':\n",
    "                ccolor='orange'\n",
    "            elif scen == 'ssp245':\n",
    "                ccolor='maroon' \n",
    "            elif scen == 'ssp585':\n",
    "                ccolor='red'   \n",
    "            for mparam in Gt_all_scen.param:\n",
    "                ax[i].scatter(anom_mod_scen.sel(time=range(1980,2301),scenario=scen,model=mod),Gt_all_scen.sel(time=range(1980,2301),Nisf=kisf,scenario=scen,model=mod,param=mparam),\n",
    "                          alpha=0.1,s=10,color=ccolor)\n",
    "\n",
    "\n",
    "    #if kisf == 23:\n",
    "    #    ax[i].set_title('Tracy Tremenchus')\n",
    "    #elif kisf == 24:\n",
    "    #    ax[i].set_title('Conger/Glenzer')\n",
    "    #elif kisf == 110:\n",
    "    #    ax[i].set_title('Ekström')\n",
    "    #else:\n",
    "    ax[i].set_title(str(file_isf_orig['isf_name'].sel(Nisf=kisf).values))\n",
    "    #ax[i].set_xlim(0,60)\n",
    "    #ax[i].axvline(x=30, c='k', linestyle='--')\n",
    "\n",
    "    i = i+1\n",
    "\n",
    "#f.legend()\n",
    "#f.subplots_adjust(bottom=0.05, wspace=0.1)\n",
    "\n",
    "f.tight_layout()\n",
    "sns.despine()\n",
    "f.savefig(plot_path + 'scatter_temp_melt_allscenarios.png',dpi=300)"
   ]
  },
  {
   "cell_type": "code",
   "execution_count": null,
   "id": "31",
   "metadata": {},
   "outputs": [],
   "source": [
    "mparam = 'NNsmall'\n",
    "regions = ['Weddell','Bellingshausen','Amundsen','Ross','East 1','East 2','Dronning Maud Land']\n",
    "colors = ['red','orange','gold','mediumturquoise','maroon','magenta','cornflowerblue','lightseagreen',\n",
    "          'yellowgreen','royalblue','tomato','darkslateblue','purple','darkgoldenrod']\n",
    "\n",
    "f = plt.figure()\n",
    "f.set_size_inches(8.25*3, 8.25*3)\n",
    "\n",
    "ax={}\n",
    "\n",
    "leg_hdl = []\n",
    "\n",
    "i = 0\n",
    "\n",
    "\n",
    "for kisf in tqdm(sorted_isf_rignot):\n",
    "    \n",
    "    ax[i] = f.add_subplot(8,8,i+1)\n",
    "    for mod in Gt_all_scen.model:\n",
    "        for scen in anom_mod_scen.scenario:\n",
    "            if scen == 'historical':\n",
    "                ccolor='grey'\n",
    "            elif scen == 'ssp126':\n",
    "                ccolor='orange'\n",
    "            elif scen == 'ssp245':\n",
    "                ccolor='maroon' \n",
    "            elif scen == 'ssp585':\n",
    "                ccolor='red'   \n",
    "            x = anom_mod_scen.sel(time=range(1980,2301),scenario=scen,model=mod)\n",
    "            y = Gt_all_scen.sel(time=range(1980,2301),Nisf=kisf,scenario=scen,model=mod,param=mparam)\n",
    "            ax[i].scatter(x.where(x <= 5),y.where(x <= 5),\n",
    "                      alpha=0.1,s=10,color=ccolor)\n",
    "\n",
    "\n",
    "    #if kisf == 23:\n",
    "    #    ax[i].set_title('Tracy Tremenchus')\n",
    "    #elif kisf == 24:\n",
    "    #    ax[i].set_title('Conger/Glenzer')\n",
    "    #elif kisf == 110:\n",
    "    #    ax[i].set_title('Ekström')\n",
    "    #else:\n",
    "    ax[i].set_title(str(file_isf_orig['isf_name'].sel(Nisf=kisf).values))\n",
    "    ax[i].set_xlim(0,5)\n",
    "    #ax[i].axvline(x=30, c='k', linestyle='--')\n",
    "\n",
    "    i = i+1\n",
    "\n",
    "#f.legend()\n",
    "#f.subplots_adjust(bottom=0.05, wspace=0.1)\n",
    "\n",
    "f.tight_layout()\n",
    "sns.despine()\n",
    "f.savefig(plot_path + 'scatter_temp_melt_allscenarios'+mparam+'_zoom5deg.png',dpi=300)"
   ]
  },
  {
   "cell_type": "code",
   "execution_count": null,
   "id": "32",
   "metadata": {},
   "outputs": [],
   "source": [
    "mparam = 'NNsmall'\n",
    "regions = ['Weddell','Bellingshausen','Amundsen','Ross','East 1','East 2','Dronning Maud Land']\n",
    "colors = ['red','orange','gold','mediumturquoise','maroon','magenta','cornflowerblue','lightseagreen',\n",
    "          'yellowgreen','royalblue','tomato','darkslateblue','purple','darkgoldenrod']\n",
    "\n",
    "f = plt.figure()\n",
    "f.set_size_inches(8.25*3, 8.25*3)\n",
    "\n",
    "ax={}\n",
    "\n",
    "leg_hdl = []\n",
    "\n",
    "i = 0\n",
    "\n",
    "\n",
    "for kisf in tqdm(sorted_isf_rignot):\n",
    "    \n",
    "    ax[i] = f.add_subplot(8,8,i+1)\n",
    "    for mod in Gt_all_scen.model:\n",
    "        for scen in anom_mod_scen.scenario:\n",
    "            if scen == 'historical':\n",
    "                ccolor='grey'\n",
    "            elif scen == 'ssp126':\n",
    "                ccolor='orange'\n",
    "            elif scen == 'ssp245':\n",
    "                ccolor='maroon' \n",
    "            elif scen == 'ssp585':\n",
    "                ccolor='red'   \n",
    "            ax[i].scatter(anom_mod_scen.sel(time=range(1980,2301),scenario=scen,model=mod),Gt_all_scen.sel(time=range(1980,2301),Nisf=kisf,scenario=scen,model=mod,param=mparam),\n",
    "                      alpha=0.1,s=10,color=ccolor)\n",
    "\n",
    "\n",
    "    #if kisf == 23:\n",
    "    #    ax[i].set_title('Tracy Tremenchus')\n",
    "    #elif kisf == 24:\n",
    "    #    ax[i].set_title('Conger/Glenzer')\n",
    "    #elif kisf == 110:\n",
    "    #    ax[i].set_title('Ekström')\n",
    "    #else:\n",
    "    ax[i].set_title(str(file_isf_orig['isf_name'].sel(Nisf=kisf).values))\n",
    "    #ax[i].axvline(x=30, c='k', linestyle='--')\n",
    "\n",
    "    i = i+1\n",
    "\n",
    "#f.legend()\n",
    "#f.subplots_adjust(bottom=0.05, wspace=0.1)\n",
    "\n",
    "f.tight_layout()\n",
    "sns.despine()\n",
    "f.savefig(plot_path + 'scatter_temp_melt_allscenarios'+mparam+'.png',dpi=300)"
   ]
  },
  {
   "cell_type": "code",
   "execution_count": null,
   "id": "33",
   "metadata": {},
   "outputs": [],
   "source": [
    "plt.close('all')"
   ]
  },
  {
   "cell_type": "code",
   "execution_count": null,
   "id": "34",
   "metadata": {},
   "outputs": [],
   "source": [
    "param_classic_list = ['linear_local',\n",
    "              'quadratic_local','quadratic_local_locslope',\n",
    "              'quadratic_mixed_mean','quadratic_mixed_locslope',\n",
    "              'lazero19',\n",
    "              'boxes_4_pismyes_picopno']\n",
    "\n",
    "param_NN_list = ['NNxsmall96',\n",
    "              'NNsmall','NNlarge']"
   ]
  }
 ],
 "metadata": {
  "kernelspec": {
   "display_name": "py38",
   "language": "python",
   "name": "py38"
  },
  "language_info": {
   "codemirror_mode": {
    "name": "ipython",
    "version": 3
   },
   "file_extension": ".py",
   "mimetype": "text/x-python",
   "name": "python",
   "nbconvert_exporter": "python",
   "pygments_lexer": "ipython3",
   "version": "3.8.12"
  }
 },
 "nbformat": 4,
 "nbformat_minor": 5
}
