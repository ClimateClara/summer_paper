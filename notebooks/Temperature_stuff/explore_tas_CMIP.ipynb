{
 "cells": [
  {
   "cell_type": "code",
   "execution_count": null,
   "id": "0",
   "metadata": {},
   "outputs": [],
   "source": [
    "\"\"\"\n",
    "Created on Fri Oct 27 10:34 2023\n",
    "\n",
    "Look at temperature data from CMIP\n",
    "\n",
    "Author: @claraburgard\n",
    "\"\"\""
   ]
  },
  {
   "cell_type": "code",
   "execution_count": null,
   "id": "1",
   "metadata": {},
   "outputs": [],
   "source": [
    "import xarray as xr\n"
   ]
  },
  {
   "cell_type": "code",
   "execution_count": null,
   "id": "2",
   "metadata": {},
   "outputs": [],
   "source": [
    "%matplotlib qt5"
   ]
  },
  {
   "cell_type": "markdown",
   "id": "3",
   "metadata": {},
   "source": [
    "READ IN DATA"
   ]
  },
  {
   "cell_type": "code",
   "execution_count": null,
   "id": "4",
   "metadata": {},
   "outputs": [],
   "source": [
    "home_path = '/bettik/burgardc/'\n"
   ]
  },
  {
   "cell_type": "markdown",
   "id": "5",
   "metadata": {},
   "source": [
    "Models"
   ]
  },
  {
   "cell_type": "code",
   "execution_count": null,
   "id": "6",
   "metadata": {},
   "outputs": [],
   "source": [
    "inputpath_tas = '/bettik/burgardc/DATA/SUMMER_PAPER/interim/CMIP_TEMP/'"
   ]
  },
  {
   "cell_type": "code",
   "execution_count": null,
   "id": "7",
   "metadata": {},
   "outputs": [],
   "source": [
    "mod_list = ['ACCESS-CM2','ACCESS-ESM1-5','CNRM-CM6-1','CNRM-ESM2-1','GISS_E2-1-H',\n",
    "            'CESM2-WACCM','CESM2','CanESM5','IPSL-CM6A-LR','MRI-ESM2-0','MPI-ESM1-2-HR',\n",
    "            'GFDL-CM4','GFDL-ESM4','UKESM1-0-LL']"
   ]
  },
  {
   "cell_type": "code",
   "execution_count": null,
   "id": "8",
   "metadata": {},
   "outputs": [],
   "source": [
    "tas_mod_list = []\n",
    "\n",
    "for mod in mod_list:\n",
    "    print(mod)\n",
    "    if mod not in ['GISS_E2-1-H']:\n",
    "        tas_scen_list = []\n",
    "        for scen in ['historical','ssp126','ssp245','ssp585']:\n",
    "            if (mod == 'GFDL-CM4') and (scen == 'ssp126'):\n",
    "                tas_mod_scen['tas'] = tas_mod_scen['tas']*np.nan\n",
    "            else:\n",
    "                tas_mod_scen = xr.open_dataset(inputpath_tas+mod+'/tas_Amon_'+mod+'_'+scen+'_fldmean_ymean.nc')\n",
    "                tas_mod_scen['time'] = tas_mod_scen.time.dt.year\n",
    "            tas_out = tas_mod_scen['tas'].squeeze(drop=True)\n",
    "            if 'height' in tas_out.coords:\n",
    "                tas_out = tas_out.drop('height')\n",
    "            tas_scen_list.append(tas_out.assign_coords({'scenario':scen}))\n",
    "\n",
    "        tas_all_scen = xr.concat(tas_scen_list,dim='scenario')\n",
    "        tas_mod_list.append(tas_all_scen.assign_coords({'model':mod}))\n",
    "        \n",
    "tas_all_mod = xr.concat(tas_mod_list, dim='model')"
   ]
  },
  {
   "cell_type": "code",
   "execution_count": null,
   "id": "9",
   "metadata": {},
   "outputs": [],
   "source": [
    "tas_all_scen"
   ]
  },
  {
   "cell_type": "code",
   "execution_count": null,
   "id": "10",
   "metadata": {},
   "outputs": [],
   "source": [
    "for scen in ['historical','ssp126','ssp245','ssp585']:\n",
    "    tas_all_scen.sel(scenario=scen).plot()\n"
   ]
  },
  {
   "cell_type": "markdown",
   "id": "11",
   "metadata": {},
   "source": [
    "Observations"
   ]
  },
  {
   "cell_type": "code",
   "execution_count": null,
   "id": "12",
   "metadata": {},
   "outputs": [],
   "source": [
    "inputpath_raw = home_path+'/DATA/SUMMER_PAPER/raw/'\n",
    "HadCRUT_temp = xr.open_dataset(inputpath_raw + 'HadCRUT.5.0.0.0.analysis.summary_series.global.annual.nc')\n",
    "HadCRUT_tas = HadCRUT_temp['tas_mean']\n",
    "HadCRUT_tas['time'] = HadCRUT_temp.time.dt.year"
   ]
  },
  {
   "cell_type": "code",
   "execution_count": null,
   "id": "13",
   "metadata": {},
   "outputs": [],
   "source": [
    "anom_baseline = HadCRUT_tas.sel(time=range(1850,1880)).mean('time')\n",
    "anom_picontrol = HadCRUT_tas - anom_baseline"
   ]
  },
  {
   "cell_type": "code",
   "execution_count": null,
   "id": "14",
   "metadata": {},
   "outputs": [],
   "source": [
    "anom_mod_scen = tas_all_mod - tas_all_mod.sel(scenario='historical').sel(time=range(1850,1880)).mean('time')"
   ]
  },
  {
   "cell_type": "code",
   "execution_count": null,
   "id": "15",
   "metadata": {},
   "outputs": [],
   "source": [
    "anom_mod_scen"
   ]
  },
  {
   "cell_type": "code",
   "execution_count": null,
   "id": "16",
   "metadata": {},
   "outputs": [],
   "source": [
    "for scen in ['historical','ssp126','ssp245','ssp585']:\n",
    "    if scen == 'historical':\n",
    "        ccolor='grey'\n",
    "    elif scen == 'ssp126':\n",
    "        ccolor='orange'\n",
    "    elif scen == 'ssp245':\n",
    "        ccolor='maroon' \n",
    "    elif scen == 'ssp585':\n",
    "        ccolor='red'         \n",
    "    for mod in anom_mod_scen.model:\n",
    "        anom_mod_scen.sel(model=mod,scenario=scen).plot(color=ccolor,alpha=0.2)\n",
    "anom_picontrol.plot(color='k')"
   ]
  },
  {
   "cell_type": "markdown",
   "id": "17",
   "metadata": {},
   "source": [
    "Masks"
   ]
  },
  {
   "cell_type": "code",
   "execution_count": null,
   "id": "18",
   "metadata": {},
   "outputs": [],
   "source": [
    "inputpath_mask = home_path+'/DATA/SUMMER_PAPER/interim/ANTARCTICA_IS_MASKS/BedMachine_4km/'\n",
    "file_isf_orig = xr.open_dataset(inputpath_mask+'BedMachinev2_4km_isf_masks_and_info_and_distance_oneFRIS.nc')\n",
    "nonnan_Nisf = file_isf_orig['Nisf'].where(np.isfinite(file_isf_orig['front_bot_depth_max']), drop=True).astype(int)\n",
    "file_isf_nonnan = file_isf_orig.sel(Nisf=nonnan_Nisf)\n",
    "rignot_isf = file_isf_nonnan.Nisf.where(np.isfinite(file_isf_nonnan['isf_area_rignot']), drop=True)\n",
    "file_isf = file_isf_nonnan.sel(Nisf=rignot_isf)"
   ]
  },
  {
   "cell_type": "code",
   "execution_count": null,
   "id": "19",
   "metadata": {},
   "outputs": [],
   "source": []
  }
 ],
 "metadata": {
  "kernelspec": {
   "display_name": "py38",
   "language": "python",
   "name": "py38"
  },
  "language_info": {
   "codemirror_mode": {
    "name": "ipython",
    "version": 3
   },
   "file_extension": ".py",
   "mimetype": "text/x-python",
   "name": "python",
   "nbconvert_exporter": "python",
   "pygments_lexer": "ipython3",
   "version": "3.8.12"
  }
 },
 "nbformat": 4,
 "nbformat_minor": 5
}
