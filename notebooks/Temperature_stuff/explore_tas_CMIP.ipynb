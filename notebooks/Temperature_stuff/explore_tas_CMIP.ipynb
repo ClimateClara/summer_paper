{
 "cells": [
  {
   "cell_type": "code",
   "execution_count": null,
   "id": "419a96c5-0342-4bee-b37f-f9220a5c583f",
   "metadata": {},
   "outputs": [],
   "source": [
    "\"\"\"\n",
    "Created on Fri Oct 27 10:34 2023\n",
    "\n",
    "Look at temperature data from CMIP\n",
    "\n",
    "Author: @claraburgard\n",
    "\"\"\""
   ]
  },
  {
   "cell_type": "code",
   "execution_count": null,
   "id": "818095e4-e4b2-49a9-b737-58801a2ddb9e",
   "metadata": {},
   "outputs": [],
   "source": [
    "import xarray as xr\n"
   ]
  },
  {
   "cell_type": "code",
   "execution_count": null,
   "id": "d4e27b5c-ad1c-4907-a03e-4f42a705545d",
   "metadata": {},
   "outputs": [],
   "source": [
    "%matplotlib qt5"
   ]
  },
  {
   "cell_type": "markdown",
   "id": "29db947d-60da-4b13-83bc-9c11cedddb8a",
   "metadata": {},
   "source": [
    "READ IN DATA"
   ]
  },
  {
   "cell_type": "code",
   "execution_count": null,
   "id": "5638a343-dbc3-44e1-bbb0-cdbbfd5f0507",
   "metadata": {},
   "outputs": [],
   "source": [
    "home_path = '/bettik/burgardc/'\n"
   ]
  },
  {
   "cell_type": "markdown",
   "id": "710a8685-559b-4ad8-8c1c-75bf9f97335a",
   "metadata": {},
   "source": [
    "Models"
   ]
  },
  {
   "cell_type": "code",
   "execution_count": null,
   "id": "00c192fa-5f7c-4a09-a20d-8ea56942d2f6",
   "metadata": {},
   "outputs": [],
   "source": [
    "inputpath_tas = '/bettik/burgardc/DATA/SUMMER_PAPER/raw/CMIP_DATA/tas_data/'"
   ]
  },
  {
   "cell_type": "code",
   "execution_count": null,
   "id": "95e3d629-02de-4172-80ff-511c852e2248",
   "metadata": {},
   "outputs": [],
   "source": [
    "mod = 'ACCESS-ESM1-5' \n",
    "scenario = 'ssp245'\n",
    "\n",
    "if mod in ['CNRM-CM6-1','CNRM-ESM2-1']:\n",
    "    ens_run = 'r1i1p1f2'\n",
    "    to2300 = False\n",
    "elif mod in ['GISS-E2-1-H']:\n",
    "    ens_run = 'r1i1p1f2'\n",
    "    to2300 = True\n",
    "elif mod in ['ACCESS-CM2','ACCESS-ESM1-5','CESM2-WACCM','CanESM5','IPSL-CM6A-LR','MRI-ESM2-0']:\n",
    "    ens_run = 'r1i1p1f1'\n",
    "    to2300 = True\n",
    "elif mod in ['MPI-ESM1-2-HR','GFDL-CM4','GFDL-ESM4']:\n",
    "    ens_run = 'r1i1p1f1'\n",
    "    to2300 = False\n",
    "elif mod == 'UKESM1-0-LL':\n",
    "    ens_run = 'r4i1p1f2'\n",
    "    to2300 = True     \n",
    "elif mod == 'CESM2':\n",
    "    ens_run = 'r11i1p1f1'\n",
    "    to2300 = False        \n",
    "\n",
    "\n",
    "if scenario == 'historical':\n",
    "    yystart = 1980 #1850\n",
    "    yyend = 2014\n",
    "elif scenario == 'ssp245':\n",
    "    yystart = 2015\n",
    "    yyend = 2100  \n",
    "else:\n",
    "    if to2300:\n",
    "        yystart = 2015\n",
    "        yyend = 2300\n",
    "    else:\n",
    "        yystart = 2015\n",
    "        yyend = 2100   "
   ]
  },
  {
   "cell_type": "code",
   "execution_count": null,
   "id": "ccfd5975-837f-49f1-b306-c44016e61cdd",
   "metadata": {},
   "outputs": [],
   "source": [
    "ens_run = 'r11i1p1f2'\n",
    "tas_scen_list = []\n",
    "\n",
    "tas_mod_hist = xr.open_dataset(inputpath_tas+mod+'/tas_Amon_'+mod+'_historical_r11i1p1f1_gn_185001-201412_fldmean_ymean.nc')\n",
    "tas_mod_hist['time'] = tas_mod_hist.time.dt.year\n",
    "tas_mod_hist_clean = tas_mod_hist['tas'].squeeze()\n",
    "tas_scen_list.append(tas_mod_hist_clean.assign_coords({'scenario':'historical'}))\n",
    "\n",
    "for scen in ['ssp126','ssp245','ssp585']:\n",
    "    tas_mod_scen = xr.open_dataset(inputpath_tas+mod+'/tas_Amon_'+mod+'_'+scen+'_r11i1p1f1_gn_201501-210012_fldmean_ymean.nc')\n",
    "    tas_mod_scen['time'] = tas_mod_scen.time.dt.year\n",
    "    tas_scen_list.append(tas_mod_scen['tas'].squeeze().assign_coords({'scenario':scen}))\n",
    "\n",
    "tas_all_scen = xr.concat(tas_scen_list,dim='scenario')"
   ]
  },
  {
   "cell_type": "code",
   "execution_count": null,
   "id": "358cb01f-68d7-4b17-ad44-2c4373366ea5",
   "metadata": {},
   "outputs": [],
   "source": [
    "for scen in ['historical','ssp126','ssp245','ssp585']:\n",
    "    tas_all_scen.sel(scenario=scen).plot()\n"
   ]
  },
  {
   "cell_type": "markdown",
   "id": "cb16e015-706b-462f-bfc2-45f9089053b7",
   "metadata": {},
   "source": [
    "Observations"
   ]
  },
  {
   "cell_type": "code",
   "execution_count": null,
   "id": "e16569e4-b331-4c8b-8c88-96136015fffd",
   "metadata": {},
   "outputs": [],
   "source": [
    "inputpath_raw = home_path+'/DATA/SUMMER_PAPER/raw/'\n",
    "HadCRUT_temp = xr.open_dataset(inputpath_raw + 'HadCRUT.5.0.0.0.analysis.summary_series.global.annual.nc')\n",
    "HadCRUT_tas = HadCRUT_temp['tas_mean']\n",
    "HadCRUT_tas['time'] = HadCRUT_temp.time.dt.year"
   ]
  },
  {
   "cell_type": "code",
   "execution_count": null,
   "id": "dc4c6131-1226-49c2-b3bc-f2b90e541111",
   "metadata": {},
   "outputs": [],
   "source": [
    "anom_baseline = HadCRUT_tas.sel(time=range(1850,1880)).mean('time')\n",
    "anom_picontrol = HadCRUT_tas - anom_baseline"
   ]
  },
  {
   "cell_type": "code",
   "execution_count": null,
   "id": "5bd6175a-da3c-4fa7-b5b3-3c8241838148",
   "metadata": {},
   "outputs": [],
   "source": [
    "anom_mod_scen = tas_all_scen - tas_all_scen.sel(scenario='historical').sel(time=range(1850,1880)).mean('time')"
   ]
  },
  {
   "cell_type": "code",
   "execution_count": null,
   "id": "4bbf62ca-754b-4f3a-b911-9d080935f285",
   "metadata": {},
   "outputs": [],
   "source": [
    "for scen in ['historical','ssp126','ssp245','ssp585']:\n",
    "    anom_mod_scen.sel(scenario=scen).plot()\n",
    "    anom_picontrol.plot(color='k')"
   ]
  },
  {
   "cell_type": "markdown",
   "id": "2fae85f2-dc58-429d-87a8-89f2922e1a4f",
   "metadata": {},
   "source": [
    "Masks"
   ]
  },
  {
   "cell_type": "code",
   "execution_count": null,
   "id": "87cca11a-ab36-434d-86f8-810a499c2aef",
   "metadata": {},
   "outputs": [],
   "source": [
    "inputpath_mask = home_path+'/DATA/SUMMER_PAPER/interim/ANTARCTICA_IS_MASKS/BedMachine_4km/'\n",
    "file_isf_orig = xr.open_dataset(inputpath_mask+'BedMachinev2_4km_isf_masks_and_info_and_distance_oneFRIS.nc')\n",
    "nonnan_Nisf = file_isf_orig['Nisf'].where(np.isfinite(file_isf_orig['front_bot_depth_max']), drop=True).astype(int)\n",
    "file_isf_nonnan = file_isf_orig.sel(Nisf=nonnan_Nisf)\n",
    "rignot_isf = file_isf_nonnan.Nisf.where(np.isfinite(file_isf_nonnan['isf_area_rignot']), drop=True)\n",
    "file_isf = file_isf_nonnan.sel(Nisf=rignot_isf)"
   ]
  },
  {
   "cell_type": "code",
   "execution_count": null,
   "id": "3913d806-f7af-438f-9f07-7932af941446",
   "metadata": {},
   "outputs": [],
   "source": []
  }
 ],
 "metadata": {
  "kernelspec": {
   "display_name": "py38",
   "language": "python",
   "name": "py38"
  },
  "language_info": {
   "codemirror_mode": {
    "name": "ipython",
    "version": 3
   },
   "file_extension": ".py",
   "mimetype": "text/x-python",
   "name": "python",
   "nbconvert_exporter": "python",
   "pygments_lexer": "ipython3",
   "version": "3.8.12"
  }
 },
 "nbformat": 4,
 "nbformat_minor": 5
}
