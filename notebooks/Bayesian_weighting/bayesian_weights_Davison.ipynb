{
 "cells": [
  {
   "cell_type": "code",
   "execution_count": 2,
   "id": "d1f2826b-57cb-4baf-b404-8f5fd375154f",
   "metadata": {},
   "outputs": [
    {
     "data": {
      "text/plain": [
       "'\\n\\nCompute Bayesian weights based on Davison et al. 23 reference\\n\\n'"
      ]
     },
     "execution_count": 2,
     "metadata": {},
     "output_type": "execute_result"
    }
   ],
   "source": [
    "\"\"\"\n",
    "\n",
    "Compute Bayesian weights based on Davison et al. 23 reference\n",
    "\n",
    "\"\"\""
   ]
  },
  {
   "cell_type": "code",
   "execution_count": 1,
   "id": "795efa0d-94d2-4c59-a907-e4464d4667bc",
   "metadata": {},
   "outputs": [],
   "source": [
    "import xarray as xr\n",
    "import numpy as np\n",
    "from tqdm.notebook import tqdm\n",
    "import seaborn as sns\n",
    "import multimelt.useful_functions as uf\n",
    "import os"
   ]
  },
  {
   "cell_type": "code",
   "execution_count": 2,
   "id": "beef9a7c-8e93-4aa0-946f-444e936526ac",
   "metadata": {},
   "outputs": [],
   "source": [
    "sns.set_context('paper')"
   ]
  },
  {
   "cell_type": "code",
   "execution_count": 3,
   "id": "55f3c563-17a1-4b3c-b4b2-53a7c3ddfb6d",
   "metadata": {},
   "outputs": [
    {
     "name": "stderr",
     "output_type": "stream",
     "text": [
      "QStandardPaths: XDG_RUNTIME_DIR not set, defaulting to '/tmp/runtime-burgardc'\n"
     ]
    }
   ],
   "source": [
    "%matplotlib qt5"
   ]
  },
  {
   "cell_type": "markdown",
   "id": "18759acd-41cd-421e-a89e-9062f2c58ca5",
   "metadata": {},
   "source": [
    "READ IN DATA"
   ]
  },
  {
   "cell_type": "code",
   "execution_count": 4,
   "id": "6ae95494-5de6-4883-86a5-3959adda5b43",
   "metadata": {},
   "outputs": [],
   "source": [
    "home_path = '/bettik/burgardc/'\n",
    "plot_path = '/bettik/burgardc/PLOTS/summer_paper_plots/'\n",
    "outputpath_GL = '/bettik/burgardc/DATA/SUMMER_PAPER/processed/GL_FLUX/'\n",
    "outputpath_weights = '/bettik/burgardc/DATA/SUMMER_PAPER/processed/ANALYSIS/'\n",
    "inputpath_raw = '/bettik/burgardc/DATA/SUMMER_PAPER/raw/'"
   ]
  },
  {
   "cell_type": "code",
   "execution_count": 5,
   "id": "aff365b9-4ba7-459b-ba56-3fe3e4c5b9a3",
   "metadata": {},
   "outputs": [],
   "source": [
    "inputpath_mask = home_path+'/DATA/SUMMER_PAPER/interim/ANTARCTICA_IS_MASKS/BedMachine_4km/'\n",
    "file_isf_orig = xr.open_dataset(inputpath_mask+'BedMachinev2_4km_isf_masks_and_info_and_distance_oneFRIS.nc')\n",
    "nonnan_Nisf = file_isf_orig['Nisf'].where(np.isfinite(file_isf_orig['front_bot_depth_max']), drop=True).astype(int)\n",
    "file_isf_nonnan = file_isf_orig.sel(Nisf=nonnan_Nisf)\n",
    "rignot_isf = file_isf_nonnan.Nisf.where(np.isfinite(file_isf_nonnan['isf_area_rignot']), drop=True)\n",
    "file_isf = file_isf_nonnan.sel(Nisf=rignot_isf)"
   ]
  },
  {
   "cell_type": "code",
   "execution_count": 6,
   "id": "5db54c98-cf30-4766-a4da-ed0111df02b3",
   "metadata": {},
   "outputs": [],
   "source": [
    "sorted_isf_rignot = [11,69,43,28,12,57,\n",
    "                     70,44,29,13,58,71,45,30,14,\n",
    "                     59,72,46,\n",
    "                     31,\n",
    "                     15,61,73,47,32,16,48,33,17,62,49,34,18,63,74,\n",
    "                     50,35,19,64,\n",
    "                     10,\n",
    "                     36,20,65,51,37,\n",
    "                     22,38,52,23,66,53,39,24,\n",
    "                     67,40,54,75,25,41,\n",
    "                     26,42,55,68,60,27]"
   ]
  },
  {
   "cell_type": "markdown",
   "id": "ed2113f7-20fc-4b30-9863-6883ce7435c9",
   "metadata": {},
   "source": [
    "REFERENCE"
   ]
  },
  {
   "cell_type": "code",
   "execution_count": 7,
   "id": "5e98b7d8-775e-496d-939b-d2846eb8dee3",
   "metadata": {},
   "outputs": [],
   "source": [
    "inputpath_davison = home_path+'/DATA/SUMMER_PAPER/raw/'\n",
    "davison_file = xr.open_dataset(inputpath_davison + 'steadystate_davison23.nc')"
   ]
  },
  {
   "cell_type": "code",
   "execution_count": 8,
   "id": "8d218a93-3c82-4ad4-8013-d60232a9b1fe",
   "metadata": {},
   "outputs": [],
   "source": [
    "mass_balance_davison = davison_file['basal_melt_obs'] - davison_file['SMB_obs'] + davison_file['calving_obs']\n",
    "mass_balance_davison_unc = np.sqrt(davison_file['basal_melt_unc']**2 + davison_file['SMB_unc']**2 + davison_file['calving_obs']**2)"
   ]
  },
  {
   "cell_type": "markdown",
   "id": "020c414f-3a16-47bd-a8aa-1a97f86290ac",
   "metadata": {},
   "source": [
    "SMB"
   ]
  },
  {
   "cell_type": "code",
   "execution_count": 9,
   "id": "4c7a72ab-03ff-4cb0-b2b5-416b63f7e33c",
   "metadata": {},
   "outputs": [],
   "source": [
    "inputpath_atmo_Chris = '/bettik/burgardc/DATA/SUMMER_PAPER/raw/TS_SMB_DATA/out/'\n",
    "inputpath_atmo_Nico = '/bettik/burgardc/DATA/SUMMER_PAPER/interim/SMB_EMULATED/'\n",
    "scenario = 'historical'\n",
    "\n",
    "melt_atmo_list = []\n",
    "for mod in ['CESM2','CNRM-CM6-1','IPSL-CM6A-LR','MPI-ESM1-2-HR','UKESM1-0-LL']:\n",
    "    if os.path.exists(inputpath_atmo_Chris+mod+'_SMB_'+scenario+'-1980-2014.nc'):\n",
    "        melt_atmo = xr.open_dataset(inputpath_atmo_Chris+mod+'_SMB_'+scenario+'-1980-2014.nc').sel(Nisf=rignot_isf)\n",
    "        melt_atmo['time'] = melt_atmo['time'].dt.year\n",
    "        melt_atmo_list.append(melt_atmo['SMB'].assign_coords({'model': mod}))\n",
    "    else:\n",
    "        melt_atmo = xr.open_dataset(inputpath_atmo_Nico+mod+'_SMB_'+scenario+'-1980-2014.nc').sel(Nisf=rignot_isf)\n",
    "        melt_atmo_list.append(melt_atmo['SMB'].assign_coords({'model': mod}))\n",
    "        \n",
    "for mod in ['ACCESS-ESM1-5','ACCESS-CM2','CESM2-WACCM','CNRM-ESM2-1',\n",
    "            'CanESM5','GFDL-CM4','GFDL-ESM4','GISS-E2-1-H', \n",
    "           'MRI-ESM2-0']:\n",
    "    melt_atmo = xr.open_dataset(inputpath_atmo_Nico+mod+'_SMB_'+scenario+'-1980-2014.nc').sel(Nisf=rignot_isf)\n",
    "    melt_atmo_list.append(melt_atmo['SMB'].assign_coords({'model': mod}))\n",
    "    \n",
    "melt_atmo_all = xr.concat(melt_atmo_list, dim='model')"
   ]
  },
  {
   "cell_type": "markdown",
   "id": "bf7f8eb9-35c0-4ad8-8f2b-95a781efbb5c",
   "metadata": {},
   "source": [
    "BASAL MELT"
   ]
  },
  {
   "cell_type": "code",
   "execution_count": 10,
   "id": "4be6ffe5-618b-40f1-964c-c72d9fc1bc0a",
   "metadata": {},
   "outputs": [],
   "source": [
    "param_classic_list = ['linear_local',\n",
    "              'quadratic_local','quadratic_local_locslope',\n",
    "              'lazero19',\n",
    "              'boxes_4_pismyes_picopno']\n",
    "\n",
    "param_NN_list = ['NNsmall']"
   ]
  },
  {
   "cell_type": "code",
   "execution_count": 11,
   "id": "f8ae1a33-7769-490b-8122-61467159547b",
   "metadata": {},
   "outputs": [],
   "source": [
    "## Melt outputpath\n",
    "Gt_allmod_list = []\n",
    "box1_allmod_list = []\n",
    "\n",
    "scenario = 'historical'\n",
    "for mod in ['ACCESS-ESM1-5','ACCESS-CM2','CESM2','CESM2-WACCM','CNRM-ESM2-1',\n",
    "            'CanESM5','GFDL-CM4','GFDL-ESM4','GISS-E2-1-H', 'IPSL-CM6A-LR',\n",
    "           'MPI-ESM1-2-HR','MRI-ESM2-0','UKESM1-0-LL']: #'CNRM-CM6-1',\n",
    "    \n",
    "    outputpath_melt = '/bettik/burgardc/DATA/SUMMER_PAPER/processed/OCEAN_MELT_RATE_CMIP/'+mod+'/'\n",
    "\n",
    "    melt1D_list = []\n",
    "    for mparam in param_classic_list:\n",
    "        melt1D_scenario = xr.open_dataset(outputpath_melt + 'eval_metrics_1D_'+mparam+'_'+scenario+'_oneFRIS_anoISMIP.nc')\n",
    "        melt1D_list.append(melt1D_scenario.assign_coords({'param':mparam}))\n",
    "    melt1D_classic = xr.concat(melt1D_list, dim='param')       \n",
    "    Gt_classic = melt1D_classic['melt_1D_Gt_per_y']\n",
    "\n",
    "    melt1D_list = []\n",
    "    for mparam in param_NN_list:\n",
    "        melt1D_scenario = xr.open_dataset(outputpath_melt + 'evalmetrics_1D_'+mparam+'_'+scenario+'_anoISMIP.nc')\n",
    "        melt1D_list.append(melt1D_scenario.assign_coords({'param':mparam}))\n",
    "    melt1D_NN = xr.concat(melt1D_list, dim='param')   \n",
    "    Gt_NN = melt1D_NN['predicted_melt'].sel(metrics='Gt')\n",
    "\n",
    "    Gt_all = xr.concat([Gt_classic, Gt_NN], dim='param')\n",
    "    \n",
    "    Gt_allmod_list.append(Gt_all.assign_coords({'model': mod}))\n",
    "\n",
    "Gt_allmod = xr.concat(Gt_allmod_list, dim='model')\n",
    "    "
   ]
  },
  {
   "cell_type": "markdown",
   "id": "612f7e40-127a-4175-99e9-44d284d78075",
   "metadata": {},
   "source": [
    "GL FLUX FOR ABUMIP"
   ]
  },
  {
   "cell_type": "code",
   "execution_count": 12,
   "id": "315493a0-6dea-4088-a81a-5e2276914ce1",
   "metadata": {},
   "outputs": [],
   "source": [
    "GL_flux_ABUMIP = xr.open_dataset(outputpath_GL + 'all_GL_fluxes.nc')"
   ]
  },
  {
   "cell_type": "markdown",
   "id": "1bb653a0-eaf4-46be-bba1-958a1e9ce807",
   "metadata": {},
   "source": [
    "SUM OF ALL TERMS"
   ]
  },
  {
   "cell_type": "code",
   "execution_count": 13,
   "id": "f797933f-3da7-4982-b269-125c01cf055d",
   "metadata": {},
   "outputs": [],
   "source": [
    "mass_balance_simu = Gt_allmod - melt_atmo_all + davison_file['calving_obs']"
   ]
  },
  {
   "cell_type": "code",
   "execution_count": 14,
   "id": "59861e67-3492-4a20-90dd-ddcd41e2e7a3",
   "metadata": {},
   "outputs": [],
   "source": [
    "diff_mod_obs = mass_balance_simu.sel(time=range(1980,2009)).mean('time') - mass_balance_davison\n",
    "sigma_obs = mass_balance_davison_unc\n",
    "sigma_mod = sigma_obs * 10"
   ]
  },
  {
   "cell_type": "code",
   "execution_count": 15,
   "id": "945f47e4-b747-4f4e-99c8-eae0f4ae170e",
   "metadata": {},
   "outputs": [],
   "source": [
    "s_j = np.exp(-((diff_mod_obs)**2/(sigma_obs**2 + sigma_mod**2)))\n",
    "\n",
    "weight = (s_j / (s_j.sum(['model','param'])))\n",
    "\n",
    "weight_clean = weight#.where(np.isfinite(weight),0)\n",
    "weight_clean.to_dataset(name='bay_weights').to_netcdf(outputpath_weights + 'bayesian_weights_davison.nc')"
   ]
  },
  {
   "cell_type": "code",
   "execution_count": 16,
   "id": "eab92595-6b88-407d-9cc1-55827c3c9603",
   "metadata": {},
   "outputs": [],
   "source": [
    "ensmean_weighted = uf.weighted_mean(mass_balance_simu, ['model','param'], weight_clean)\n",
    "ensmean_nonweighted = mass_balance_simu.mean(['model','param'])\n",
    "\n",
    "da_weighted = mass_balance_simu.weighted(weight_clean)\n",
    "\n",
    "ensstat_nonweighted = mass_balance_simu.quantile([0.05,0.5,0.95],dim=['model','param'])\n",
    "ensstat_weighted = da_weighted.quantile([0.05,0.5,0.95],dim=['model','param'])"
   ]
  },
  {
   "cell_type": "code",
   "execution_count": 17,
   "id": "7251a81f-25a2-4d5c-b883-d39d5088c8d1",
   "metadata": {},
   "outputs": [
    {
     "name": "stderr",
     "output_type": "stream",
     "text": [
      "libGL error: No matching fbConfigs or visuals found\n",
      "libGL error: failed to load driver: swrast\n"
     ]
    },
    {
     "data": {
      "application/vnd.jupyter.widget-view+json": {
       "model_id": "49006e7957844b7fb195526e43e5b8d0",
       "version_major": 2,
       "version_minor": 0
      },
      "text/plain": [
       "  0%|          | 0/64 [00:00<?, ?it/s]"
      ]
     },
     "metadata": {},
     "output_type": "display_data"
    }
   ],
   "source": [
    "regions = ['Weddell','Bellingshausen','Amundsen','Ross','East 1','East 2','Dronning Maud Land']\n",
    "colors = ['red','orange','gold','mediumturquoise','maroon','magenta','cornflowerblue','lightseagreen',\n",
    "          'yellowgreen','royalblue','tomato','darkslateblue','purple','darkgoldenrod']\n",
    "\n",
    "f = plt.figure()\n",
    "f.set_size_inches(8.25*3, 8.25*3)\n",
    "\n",
    "ax={}\n",
    "\n",
    "leg_hdl = []\n",
    "\n",
    "i = 0\n",
    "\n",
    "\n",
    "for kisf in tqdm(sorted_isf_rignot):\n",
    "    \n",
    "    ax[i] = f.add_subplot(8,8,i+1)\n",
    "    \n",
    "    melt_obs_kisf = mass_balance_davison.sel(Nisf=kisf).values\n",
    "    melt_obs_unc_kisf = mass_balance_davison_unc.sel(Nisf=kisf).values\n",
    "    ax[i].axhline(y=melt_obs_kisf,color='k')\n",
    "    ax[i].fill_between(x=ensstat_weighted.time, y1=melt_obs_kisf-melt_obs_unc_kisf, y2=melt_obs_kisf+melt_obs_unc_kisf, color='lightgrey')\n",
    "    \n",
    "    ax[i].plot(ensstat_weighted.time, ensstat_weighted.sel(quantile=0.5,Nisf=kisf), color='blue')\n",
    "    #ax[i].plot(ensstat_weighted.time, ensstat_nonweighted.sel(quantile=0.5,Nisf=kisf), color='deepskyblue')\n",
    "    ax[i].fill_between(x=ensstat_weighted.time, y1=ensstat_weighted.sel(quantile=0.05,Nisf=kisf), y2=ensstat_weighted.sel(quantile=0.95,Nisf=kisf), color='blue',alpha=0.2)\n",
    "    #ax[i].fill_between(x=ensstat_weighted.time, y1=ensstat_nonweighted.sel(quantile=0.05,Nisf=kisf), y2=ensstat_nonweighted.sel(quantile=0.95,Nisf=kisf), color='deepskyblue',alpha=0.2)\n",
    "\n",
    "\n",
    "    #if kisf == 23:\n",
    "    #    ax[i].set_title('Tracy Tremenchus')\n",
    "    #elif kisf == 24:\n",
    "    #    ax[i].set_title('Conger/Glenzer')\n",
    "    #elif kisf == 110:\n",
    "    #    ax[i].set_title('Ekström')\n",
    "    #else:\n",
    "    ax[i].set_title(str(file_isf['isf_name'].sel(Nisf=kisf).values))\n",
    "    #ax[i].set_xlim(0,60)\n",
    "    #ax[i].axvline(x=30, c='k', linestyle='--')\n",
    "\n",
    "    i = i+1\n",
    "\n",
    "#f.legend()\n",
    "#f.subplots_adjust(bottom=0.05, wspace=0.1)\n",
    "\n",
    "f.tight_layout()\n",
    "sns.despine()\n",
    "f.savefig(plot_path + 'ensmean_weighted_allmod_allmassbalance_anoISMIP.pdf')"
   ]
  },
  {
   "cell_type": "code",
   "execution_count": 20,
   "id": "8b8e2d09-b2d4-48cf-82f2-1a1aa1d02c9d",
   "metadata": {},
   "outputs": [
    {
     "data": {
      "application/vnd.jupyter.widget-view+json": {
       "model_id": "2f070232f87e4d0f98c67bf2257c6df3",
       "version_major": 2,
       "version_minor": 0
      },
      "text/plain": [
       "  0%|          | 0/64 [00:00<?, ?it/s]"
      ]
     },
     "metadata": {},
     "output_type": "display_data"
    }
   ],
   "source": [
    "\n",
    "regions = ['Weddell','Bellingshausen','Amundsen','Ross','East 1','East 2','Dronning Maud Land']\n",
    "colors = ['red','orange','gold','mediumturquoise','maroon','magenta','cornflowerblue','lightseagreen',\n",
    "          'yellowgreen','royalblue','tomato','darkslateblue','purple','darkgoldenrod']\n",
    "\n",
    "f = plt.figure()\n",
    "f.set_size_inches(8.25*3, 8.25*3)\n",
    "\n",
    "ax={}\n",
    "\n",
    "leg_hdl = []\n",
    "\n",
    "i = 0\n",
    "\n",
    "\n",
    "for kisf in tqdm(sorted_isf_rignot):\n",
    "    \n",
    "    ax[i] = f.add_subplot(8,8,i+1)\n",
    "    \n",
    "    melt_obs_kisf = mass_balance_davison.sel(Nisf=kisf).values\n",
    "    melt_obs_unc_kisf = mass_balance_davison_unc.sel(Nisf=kisf).values\n",
    "    ax[i].axhline(y=melt_obs_kisf,color='k')\n",
    "    ax[i].fill_between(x=ensstat_weighted.time, y1=melt_obs_kisf-melt_obs_unc_kisf, y2=melt_obs_kisf+melt_obs_unc_kisf, color='lightgrey')\n",
    "    \n",
    "    ax[i].plot(ensstat_weighted.time, ensstat_weighted.sel(quantile=0.5,Nisf=kisf), color='blue')\n",
    "    #ax[i].plot(ensstat_weighted.time, ensstat_nonweighted.sel(quantile=0.5,Nisf=kisf), color='deepskyblue')\n",
    "    ax[i].fill_between(x=ensstat_weighted.time, y1=ensstat_weighted.sel(quantile=0.05,Nisf=kisf), y2=ensstat_weighted.sel(quantile=0.95,Nisf=kisf), color='blue',alpha=0.2)\n",
    "    #ax[i].fill_between(x=ensstat_weighted.time, y1=ensstat_nonweighted.sel(quantile=0.05,Nisf=kisf), y2=ensstat_nonweighted.sel(quantile=0.95,Nisf=kisf), color='deepskyblue',alpha=0.2)\n",
    "    \n",
    "    ax[i].axhline(y=GL_flux_ABUMIP['flux_Gt_ref'].sel(Nisf=kisf), color='orange')\n",
    "    ax[i].axhline(y=GL_flux_ABUMIP['flux_Gt_ABUMIP'].sel(Nisf=kisf), color='red')\n",
    "\n",
    "\n",
    "    #if kisf == 23:\n",
    "    #    ax[i].set_title('Tracy Tremenchus')\n",
    "    #elif kisf == 24:\n",
    "    #    ax[i].set_title('Conger/Glenzer')\n",
    "    #elif kisf == 110:\n",
    "    #    ax[i].set_title('Ekström')\n",
    "    #else:\n",
    "    ax[i].set_title(str(file_isf['isf_name'].sel(Nisf=kisf).values))\n",
    "    #ax[i].set_xlim(0,60)\n",
    "    #ax[i].axvline(x=30, c='k', linestyle='--')\n",
    "\n",
    "    i = i+1\n",
    "\n",
    "#f.legend()\n",
    "#f.subplots_adjust(bottom=0.05, wspace=0.1)\n",
    "\n",
    "f.tight_layout()\n",
    "sns.despine()\n",
    "f.savefig(plot_path + 'ensmean_weighted_allmod_allmassbalance_withABUMIPlimit_anoISMIP.pdf')"
   ]
  },
  {
   "cell_type": "code",
   "execution_count": null,
   "id": "cfd44371-aa07-4399-9cc9-11734139b4a1",
   "metadata": {},
   "outputs": [],
   "source": []
  }
 ],
 "metadata": {
  "kernelspec": {
   "display_name": "py38",
   "language": "python",
   "name": "py38"
  },
  "language_info": {
   "codemirror_mode": {
    "name": "ipython",
    "version": 3
   },
   "file_extension": ".py",
   "mimetype": "text/x-python",
   "name": "python",
   "nbconvert_exporter": "python",
   "pygments_lexer": "ipython3",
   "version": "3.8.12"
  }
 },
 "nbformat": 4,
 "nbformat_minor": 5
}
