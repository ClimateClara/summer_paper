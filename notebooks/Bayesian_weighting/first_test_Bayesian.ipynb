{
 "cells": [
  {
   "cell_type": "code",
   "execution_count": null,
   "id": "048458db-08ba-498f-9d03-8fe8ef4e96da",
   "metadata": {},
   "outputs": [],
   "source": [
    "\"\"\"\n",
    "Created on Wed Aug 09 16:56 2023\n",
    "\n",
    "Try to infer some Bayesian weights\n",
    "\n",
    "Author: @claraburgard\n",
    "\n",
    "\"\"\""
   ]
  },
  {
   "cell_type": "code",
   "execution_count": null,
   "id": "39a6302e-6b2d-4fd0-8edf-525940569552",
   "metadata": {},
   "outputs": [],
   "source": [
    "import xarray as xr\n",
    "import numpy as np\n",
    "from tqdm.notebook import tqdm\n",
    "import seaborn as sns"
   ]
  },
  {
   "cell_type": "code",
   "execution_count": null,
   "id": "01c7c72e-fddd-406a-852e-eec31c92b28a",
   "metadata": {},
   "outputs": [],
   "source": [
    "sns.set_context('paper')"
   ]
  },
  {
   "cell_type": "code",
   "execution_count": null,
   "id": "54366694-1f4b-4731-aea0-d9592dd1b5dd",
   "metadata": {},
   "outputs": [],
   "source": [
    "%matplotlib qt5"
   ]
  },
  {
   "cell_type": "code",
   "execution_count": null,
   "id": "e7e3f2af-77cd-4d17-ab3d-1b1f74ef4bea",
   "metadata": {},
   "outputs": [],
   "source": [
    "home_path = '/bettik/burgardc/'\n",
    "plot_path = '/bettik/burgardc/PLOTS/summer_paper_plots/'"
   ]
  },
  {
   "cell_type": "code",
   "execution_count": null,
   "id": "3e117f14-6535-4900-a2bf-589c84ac8835",
   "metadata": {},
   "outputs": [],
   "source": [
    "inputpath_mask = home_path+'/DATA/SUMMER_PAPER/interim/ANTARCTICA_IS_MASKS/BedMachine_4km/'\n",
    "file_isf_orig = xr.open_dataset(inputpath_mask+'BedMachinev2_4km_isf_masks_and_info_and_distance_oneFRIS.nc')\n",
    "nonnan_Nisf = file_isf_orig['Nisf'].where(np.isfinite(file_isf_orig['front_bot_depth_max']), drop=True).astype(int)\n",
    "file_isf_nonnan = file_isf_orig.sel(Nisf=nonnan_Nisf)\n",
    "rignot_isf = file_isf_nonnan.Nisf.where(np.isfinite(file_isf_nonnan['isf_area_rignot']), drop=True)\n",
    "file_isf = file_isf_nonnan.sel(Nisf=rignot_isf)"
   ]
  },
  {
   "cell_type": "code",
   "execution_count": null,
   "id": "dd158eaa-22a0-4a03-84cb-509cae696509",
   "metadata": {},
   "outputs": [],
   "source": [
    "sorted_isf_rignot = [11,69,43,28,12,57,\n",
    "                     70,44,29,13,58,71,45,30,14,\n",
    "                     59,72,46,\n",
    "                     31,\n",
    "                     15,61,73,47,32,16,48,33,17,62,49,34,18,63,74,\n",
    "                     50,35,19,64,\n",
    "                     10,\n",
    "                     36,20,65,51,37,\n",
    "                     22,38,52,23,66,53,39,24,\n",
    "                     67,40,54,75,25,41,\n",
    "                     26,42,55,68,60,27]"
   ]
  },
  {
   "cell_type": "markdown",
   "id": "2a28301a-eef3-4baa-a369-98b604d15336",
   "metadata": {},
   "source": [
    "READ IN CALVING FLUX"
   ]
  },
  {
   "cell_type": "code",
   "execution_count": null,
   "id": "8e5cadc2-8d4f-4816-b104-2051f35cb85e",
   "metadata": {},
   "outputs": [],
   "source": [
    "inputpath_caving = '/bettik/burgardc/DATA/SUMMER_PAPER/raw/'\n",
    "calving_flux = xr.open_dataset(inputpath_caving + 'calving_flux_rignot13.nc')"
   ]
  },
  {
   "cell_type": "markdown",
   "id": "2cd8d397-a9fd-43df-9b2e-2add07792bb7",
   "metadata": {},
   "source": [
    "READ IN ATMO"
   ]
  },
  {
   "cell_type": "markdown",
   "id": "32d32bff-1f04-4cbb-beb8-c5868070f2b8",
   "metadata": {},
   "source": [
    "model"
   ]
  },
  {
   "cell_type": "code",
   "execution_count": null,
   "id": "9ff8bb6f-9f0b-4990-a845-3b7c31d83a53",
   "metadata": {},
   "outputs": [],
   "source": [
    "inputpath_atmo = '/bettik/kittelc/clara/'\n",
    "\n",
    "scenario = 'historical'\n",
    "melt_atmo = xr.open_dataset(inputpath_atmo+mod+'_SMB_'+scenario+'.nc').sel(Nisf=rignot_isf)\n",
    "melt_atmo['time'] = melt_atmo['time'].dt.year"
   ]
  },
  {
   "cell_type": "markdown",
   "id": "4b79d933-7d37-4c18-8b1b-c5833cc660ab",
   "metadata": {},
   "source": [
    "reanalysis"
   ]
  },
  {
   "cell_type": "code",
   "execution_count": null,
   "id": "a1808ee1-78d8-4d8c-86e5-6d1656bc4e3e",
   "metadata": {},
   "outputs": [],
   "source": []
  },
  {
   "cell_type": "markdown",
   "id": "543a5b61-90c5-4747-bdd2-30585baec87a",
   "metadata": {},
   "source": [
    "READ IN OCEAN"
   ]
  },
  {
   "cell_type": "markdown",
   "id": "1ba147af-6bf4-4b73-812e-2a55e44a0ce8",
   "metadata": {},
   "source": [
    "model"
   ]
  },
  {
   "cell_type": "code",
   "execution_count": null,
   "id": "ba46f7ac-de83-4ff6-a7f6-98ddf5d5a1c4",
   "metadata": {},
   "outputs": [],
   "source": [
    "param_classic_list = ['linear_local',\n",
    "              'quadratic_local','quadratic_local_locslope',\n",
    "              'quadratic_mixed_mean','quadratic_mixed_locslope',\n",
    "              'lazero19',\n",
    "              'boxes_4_pismyes_picopno']\n",
    "\n",
    "param_NN_list = ['NNxsmall96',\n",
    "              'NNsmall','NNlarge']"
   ]
  },
  {
   "cell_type": "code",
   "execution_count": null,
   "id": "3e808955-62d7-424c-8c31-da269f715523",
   "metadata": {},
   "outputs": [],
   "source": [
    "## Melt outputpath\n",
    "Gt_allmod_list = []\n",
    "box1_allmod_list = []\n",
    "\n",
    "scenario = 'historical'\n",
    "for mod in ['ACCESS-ESM1-5','ACCESS-CM2','CESM2','CESM2-WACCM','CNRM-CM6-1','CNRM-ESM2-1',\n",
    "            'CanESM5','GFDL-CM4','GFDL-ESM4','GISS-E2-1-H', 'IPSL-CM6A-LR',\n",
    "           'MPI-ESM1-2-HR','MRI-ESM2-0','UKESM1-0-LL']:\n",
    "#for mod in ['CNRM-CM6-1']:\n",
    "    \n",
    "    outputpath_melt = '/bettik/burgardc/DATA/SUMMER_PAPER/processed/OCEAN_MELT_RATE_CMIP/'+mod+'/'\n",
    "\n",
    "    melt1D_list = []\n",
    "    for mparam in param_classic_list:\n",
    "        melt1D_scenario = xr.open_dataset(outputpath_melt + 'eval_metrics_1D_'+mparam+'_'+scenario+'_oneFRIS.nc')\n",
    "        melt1D_list.append(melt1D_scenario.assign_coords({'param':mparam}))\n",
    "    melt1D_classic = xr.concat(melt1D_list, dim='param')       \n",
    "    Gt_classic = melt1D_classic['melt_1D_Gt_per_y']\n",
    "\n",
    "    melt1D_list = []\n",
    "    for mparam in param_NN_list:\n",
    "        melt1D_scenario = xr.open_dataset(outputpath_melt + 'evalmetrics_1D_'+mparam+'_'+scenario+'.nc')\n",
    "        melt1D_list.append(melt1D_scenario.assign_coords({'param':mparam}))\n",
    "    melt1D_NN = xr.concat(melt1D_list, dim='param')   \n",
    "    Gt_NN = melt1D_NN['predicted_melt'].sel(metrics='Gt')\n",
    "\n",
    "    Gt_all = xr.concat([Gt_classic, Gt_NN], dim='param')\n",
    "    \n",
    "    Gt_allmod_list.append(Gt_all.assign_coords({'model': mod}))\n",
    "\n",
    "Gt_allmod = xr.concat(Gt_allmod_list, dim='model')\n",
    "    "
   ]
  },
  {
   "cell_type": "code",
   "execution_count": null,
   "id": "09a4cbcf-1047-4b47-87b5-c44b11508adf",
   "metadata": {},
   "outputs": [],
   "source": [
    "mass_balance = Gt_allmod - melt_atmo['SMB'] + calving_flux"
   ]
  },
  {
   "cell_type": "markdown",
   "id": "37e1f354-c46d-44de-9baf-b7e20ce0a12f",
   "metadata": {},
   "source": [
    "obs estimate"
   ]
  },
  {
   "cell_type": "code",
   "execution_count": null,
   "id": "2b9cf8d7-0847-491f-9ce0-a82f7a3c9725",
   "metadata": {},
   "outputs": [],
   "source": [
    "inputpath_Paolo = '/bettik/burgardc/DATA/SUMMER_PAPER/raw/'\n",
    "data_Paolo = xr.open_dataset(inputpath_Paolo + 'ANT_G1920V01_IceShelfMelt.nc')"
   ]
  },
  {
   "cell_type": "code",
   "execution_count": null,
   "id": "2545f2c8-722c-4129-843c-38385a69dd57",
   "metadata": {},
   "outputs": [],
   "source": [
    "inputpath_Paolo_processed = '/bettik/millanr/DATA_SERVER/ANTARCTICA/OCEANICE/DATASET_FINAL/'\n",
    "integrated_Paolo = pd.read_csv(inputpath_Paolo_processed + 'Merged_Integrated_melt_rates.csv',index_col=0)\n",
    "Paolo_Gt_ds = integrated_Paolo.to_xarray()\n",
    "\n",
    "inputpath_Paolo_processed = '/bettik/millanr/DATA_SERVER/ANTARCTICA/OCEANICE/DATASET_FINAL/'\n",
    "integrated_Paolo_unc = pd.read_csv(inputpath_Paolo_processed + 'Merged_Integrated_melt_err_rates.csv',index_col=0)\n",
    "Paolo_Gt_unc_ds = integrated_Paolo_unc.to_xarray()\n"
   ]
  },
  {
   "cell_type": "code",
   "execution_count": null,
   "id": "6914aaaa-2734-40b7-b114-36ce40e6b380",
   "metadata": {},
   "outputs": [],
   "source": [
    "year_list = ['1992'] + np.arange(1994,2015).astype(str).tolist()\n",
    "merged_list = []\n",
    "merged_list_unc = []\n",
    "for vvar in year_list:\n",
    "    merged_list.append(Paolo_Gt_ds[vvar].rename('melt_Gt').assign_coords({'time': int(vvar)}))\n",
    "    merged_list_unc.append(Paolo_Gt_unc_ds[vvar].rename('melt_Gt_unc').assign_coords({'time': int(vvar)}))\n",
    "merged_ds = xr.concat(merged_list, dim='time')\n",
    "merged_unc_ds = xr.concat(merged_list_unc, dim='time')\n",
    "merged_ds_both = xr.merge([merged_ds,merged_unc_ds])"
   ]
  },
  {
   "cell_type": "code",
   "execution_count": null,
   "id": "62aea824-25a7-4695-824e-a96df22c3261",
   "metadata": {},
   "outputs": [],
   "source": [
    "melt_Gt_list = []\n",
    "for kisf in file_isf.Nisf:\n",
    "    nname = file_isf['isf_name'].sel(Nisf=kisf).values\n",
    "    if nname in merged_ds['Names']:\n",
    "        melt_Gt_kisf = merged_ds_both.sel(Names=nname).squeeze().drop('Names')\n",
    "    elif nname == 'Conger/Glenzer':\n",
    "        melt_Gt_kisf = merged_ds_both.sel(Names='Conger_Glenzer').squeeze().drop('Names')\n",
    "    elif nname == 'George VI':\n",
    "        melt_Gt_kisf = merged_ds_both.sel(Names='George_VI').squeeze().drop('Names')\n",
    "    elif str(nname)[0:7] == 'Larsen ':\n",
    "        melt_Gt_kisf = merged_ds_both.sel(Names='Larsen'+str(nname)[7]).squeeze().drop('Names')\n",
    "    elif nname == 'Prince Harald':\n",
    "        melt_Gt_kisf = merged_ds_both.sel(Names='Prince_Harald').squeeze().drop('Names')\n",
    "    elif nname == 'Moscow Univ.':    \n",
    "        melt_Gt_kisf = merged_ds_both.sel(Names='Moscow_University').squeeze().drop('Names')\n",
    "    elif nname == 'Roi Baudouin':\n",
    "        melt_Gt_kisf = merged_ds_both.sel(Names='Baudouin').squeeze().drop('Names')\n",
    "    elif nname == 'Wilma/Robert/Downer':\n",
    "        melt_Gt_kisf = merged_ds_both.sel(Names='WilmaRobertDowner').squeeze().drop('Names')\n",
    "    elif nname == 'Tracy Tremenchus':\n",
    "        melt_Gt_kisf = merged_ds_both.sel(Names='Tracy_Tremenchus').squeeze().drop('Names')\n",
    "    elif nname == 'Rayner/Thyer':\n",
    "        melt_Gt_kisf = merged_ds_both.sel(Names='Rayner_Thyer').squeeze().drop('Names')\n",
    "    elif nname == 'Pine Island':\n",
    "        melt_Gt_kisf = merged_ds_both.sel(Names='Pine_Island').squeeze().drop('Names')\n",
    "    elif nname == 'Stancomb Brunt':\n",
    "        melt_Gt_kisf = merged_ds_both.sel(Names='Brunt_Stancomb').squeeze().drop('Names')\n",
    "    elif nname == 'Edward VIII':\n",
    "        melt_Gt_kisf = merged_ds_both.sel(Names='Edward_VIII').squeeze().drop('Names')\n",
    "    elif nname == 'Vincennes Bay':\n",
    "        melt_Gt_kisf = merged_ds_both.sel(Names='Vincennes_Bay').squeeze().drop('Names')\n",
    "    elif nname == 'Filchner-Ronne':\n",
    "        melt_Gt_kisf = merged_ds_both.sel(Names='Ronne').squeeze().drop('Names') + merged_ds_both.sel(Names='Filchner').squeeze().drop('Names')\n",
    "    elif nname == 'Ross':\n",
    "        melt_Gt_kisf = merged_ds_both.sel(Names='Ross_East').squeeze().drop('Names') + merged_ds_both.sel(Names='Ross_West').squeeze().drop('Names')\n",
    "    elif nname == 'Wordie':\n",
    "        melt_Gt_kisf = merged_ds_both.sel(Names='Wordie_(Harriott)').squeeze().drop('Names') + merged_ds_both.sel(Names='Wordie_(Harriott_Headland)'\n",
    "                                                                               ).squeeze().drop('Names') + merged_ds_both.sel(Names='Wordie_(Cape_Jeremy)'\n",
    "                                                                               ).squeeze().drop('Names') + merged_ds_both.sel(Names='Wordie_(Prospect)'\n",
    "                                                                               ).squeeze().drop('Names') + merged_ds_both.sel(Names='Wordie_(Airy_Rotz_Seller)').squeeze().drop('Names')\n",
    "    melt_Gt_list.append(melt_Gt_kisf.assign_coords({'Nisf': kisf}))\n",
    "\n",
    "melt_Gt_all_Paolo = xr.concat(melt_Gt_list, dim='Nisf')\n",
    "        \n"
   ]
  },
  {
   "cell_type": "markdown",
   "id": "ce87f190-300c-4ac7-94ec-155ced1ae636",
   "metadata": {},
   "source": [
    "COMPUTE THE WEIGHT"
   ]
  },
  {
   "cell_type": "code",
   "execution_count": null,
   "id": "1b6a5f58-5428-42aa-b827-eb103c551ac5",
   "metadata": {},
   "outputs": [],
   "source": [
    "\n",
    "melt_Gt_all_Paolo"
   ]
  },
  {
   "cell_type": "code",
   "execution_count": null,
   "id": "e93dfb22-faf6-4807-af7e-da6f56d59554",
   "metadata": {},
   "outputs": [],
   "source": [
    "year_list_int = (np.array(year_list)).astype(int)\n",
    "diff_mod_obs = Gt_allmod.sel(time=year_list_int).mean('time') - melt_Gt_all_Paolo['melt_Gt'].mean('time') "
   ]
  },
  {
   "cell_type": "code",
   "execution_count": null,
   "id": "36d601f7-fa89-436c-855e-84b0a0f91cc8",
   "metadata": {},
   "outputs": [],
   "source": [
    "sigma_obs = melt_Gt_all_Paolo['melt_Gt_unc'].max('time') \n",
    "sigma_mod = sigma_obs * 10"
   ]
  },
  {
   "cell_type": "code",
   "execution_count": null,
   "id": "89ddc712-65dc-4612-b9e7-2b48c3164fe3",
   "metadata": {},
   "outputs": [],
   "source": [
    "s_j = np.exp(-((diff_mod_obs)**2/(sigma_obs**2 + sigma_mod**2)))"
   ]
  },
  {
   "cell_type": "code",
   "execution_count": null,
   "id": "181af173-e9b8-4066-a857-cba27acd4f90",
   "metadata": {},
   "outputs": [],
   "source": [
    "weight = (s_j / (s_j.sum(['model','param'])))"
   ]
  },
  {
   "cell_type": "code",
   "execution_count": null,
   "id": "ba034ebe-d042-49c9-94ce-8aaf19d699ec",
   "metadata": {},
   "outputs": [],
   "source": [
    "weight.sel(param=mparam,Nisf=kisf,model=mmod).values.item()"
   ]
  },
  {
   "cell_type": "code",
   "execution_count": null,
   "id": "1f30ac34-9d08-4c6c-919b-3bf2d0a84d8d",
   "metadata": {},
   "outputs": [],
   "source": [
    "regions = ['Weddell','Bellingshausen','Amundsen','Ross','East 1','East 2','Dronning Maud Land']\n",
    "colors = ['red','orange','gold','mediumturquoise','maroon','magenta','cornflowerblue','lightseagreen',\n",
    "          'yellowgreen','royalblue','tomato','darkslateblue','purple','darkgoldenrod']\n",
    "\n",
    "f = plt.figure()\n",
    "f.set_size_inches(8.25*3, 8.25*3)\n",
    "\n",
    "ax={}\n",
    "\n",
    "leg_hdl = []\n",
    "\n",
    "i = 0\n",
    "\n",
    "\n",
    "for kisf in tqdm(sorted_isf_rignot):\n",
    "    \n",
    "    ax[i] = f.add_subplot(8,8,i+1)\n",
    "    \n",
    "    melt_obs_kisf = melt_Gt_all_Paolo['melt_Gt'].mean('time').sel(Nisf=kisf).values\n",
    "    melt_obs_unc_kisf = melt_Gt_all_Paolo['melt_Gt_unc'].max('time').sel(Nisf=kisf).values\n",
    "    ax[i].axhline(y=melt_obs_kisf,color='k')\n",
    "    ax[i].fill_between(x=np.arange(1992,2015), y1=melt_obs_kisf-melt_obs_unc_kisf, y2=melt_obs_kisf+melt_obs_unc_kisf, color='grey')\n",
    "    \n",
    "    for m,mmod in enumerate(Gt_allmod.model):\n",
    "        for n,mparam in enumerate(Gt_allmod.param):\n",
    "\n",
    "            ax[i].plot(np.arange(1992,2015), Gt_allmod.sel(param=mparam,time=range(1992,2015),Nisf=kisf,model=mmod), color=colors[m],\n",
    "                        alpha=weight.sel(param=mparam,Nisf=kisf,model=mmod).values.item())\n",
    "\n",
    "\n",
    "\n",
    "    #if kisf == 23:\n",
    "    #    ax[i].set_title('Tracy Tremenchus')\n",
    "    #elif kisf == 24:\n",
    "    #    ax[i].set_title('Conger/Glenzer')\n",
    "    #elif kisf == 110:\n",
    "    #    ax[i].set_title('Ekström')\n",
    "    #else:\n",
    "    ax[i].set_title(str(file_isf_orig['isf_name'].sel(Nisf=kisf).values))\n",
    "    #ax[i].set_xlim(0,60)\n",
    "    #ax[i].axvline(x=30, c='k', linestyle='--')\n",
    "\n",
    "    i = i+1\n",
    "\n",
    "#f.legend()\n",
    "#f.subplots_adjust(bottom=0.05, wspace=0.1)\n",
    "\n",
    "f.tight_layout()\n",
    "sns.despine()\n",
    "plt.savefig(plot_path+'melt_historical_withobs_allmod.pdf')"
   ]
  },
  {
   "cell_type": "code",
   "execution_count": null,
   "id": "62ddd899-eab0-4040-bc00-477728ca6731",
   "metadata": {},
   "outputs": [],
   "source": [
    "regions = ['Weddell','Bellingshausen','Amundsen','Ross','East 1','East 2','Dronning Maud Land']\n",
    "colors = ['red','orange','gold','mediumturquoise','maroon','magenta','cornflowerblue','lightseagreen',\n",
    "          'yellowgreen','royalblue','tomato','darkslateblue','purple','darkgoldenrod']\n",
    "\n",
    "f = plt.figure()\n",
    "f.set_size_inches(8.25*3, 8.25*3)\n",
    "\n",
    "ax={}\n",
    "\n",
    "leg_hdl = []\n",
    "\n",
    "i = 0\n",
    "\n",
    "\n",
    "for kisf in tqdm(sorted_isf_rignot):\n",
    "    \n",
    "    ax[i] = f.add_subplot(8,8,i+1)\n",
    "    \n",
    "    melt_obs_kisf = melt_Gt_all_Paolo['melt_Gt'].mean('time').sel(Nisf=kisf).values\n",
    "    melt_obs_unc_kisf = melt_Gt_all_Paolo['melt_Gt_unc'].max('time').sel(Nisf=kisf).values\n",
    "    ax[i].axhline(y=melt_obs_kisf,color='k', linewidth=3)\n",
    "    ax[i].fill_between(x=np.arange(1992,2015), y1=melt_obs_kisf-melt_obs_unc_kisf, y2=melt_obs_kisf+melt_obs_unc_kisf, color='grey')\n",
    "    \n",
    "    for m,mmod in enumerate(Gt_allmod.model):\n",
    "        for n,mparam in enumerate(Gt_allmod.param):\n",
    "\n",
    "            ax[i].axhline(y=Gt_allmod.sel(param=mparam,time=range(1992,2015),Nisf=kisf,model=mmod).mean('time'), color=colors[m],\n",
    "                        alpha=weight.sel(param=mparam,Nisf=kisf,model=mmod).values.item() + 0.1) #x=np.arange(1992,2015), \n",
    "\n",
    "\n",
    "\n",
    "    #if kisf == 23:\n",
    "    #    ax[i].set_title('Tracy Tremenchus')\n",
    "    #elif kisf == 24:\n",
    "    #    ax[i].set_title('Conger/Glenzer')\n",
    "    #elif kisf == 110:\n",
    "    #    ax[i].set_title('Ekström')\n",
    "    #else:\n",
    "    ax[i].set_title(str(file_isf_orig['isf_name'].sel(Nisf=kisf).values))\n",
    "    #ax[i].set_xlim(0,60)\n",
    "    #ax[i].axvline(x=30, c='k', linestyle='--')\n",
    "\n",
    "    i = i+1\n",
    "\n",
    "#f.legend()\n",
    "#f.subplots_adjust(bottom=0.05, wspace=0.1)\n",
    "\n",
    "f.tight_layout()\n",
    "sns.despine()\n",
    "plt.savefig(plot_path+'melt_historical_withobs_meanallmod.pdf')"
   ]
  },
  {
   "cell_type": "code",
   "execution_count": null,
   "id": "098ec163-fa2b-4dbd-906a-49be50c0f47c",
   "metadata": {},
   "outputs": [],
   "source": [
    "regions = ['Weddell','Bellingshausen','Amundsen','Ross','East 1','East 2','Dronning Maud Land']\n",
    "colors = ['red','orange','gold','mediumturquoise','maroon','magenta','cornflowerblue','lightseagreen',\n",
    "          'yellowgreen','royalblue','tomato','darkslateblue','purple','darkgoldenrod']\n",
    "\n",
    "f = plt.figure()\n",
    "f.set_size_inches(8.25*3, 8.25*3)\n",
    "\n",
    "ax={}\n",
    "\n",
    "leg_hdl = []\n",
    "\n",
    "i = 0\n",
    "\n",
    "\n",
    "for kisf in tqdm(sorted_isf_rignot):\n",
    "    \n",
    "    ax[i] = f.add_subplot(8,8,i+1)\n",
    "    \n",
    "    melt_obs_kisf = melt_Gt_all_Paolo['melt_Gt'].mean('time').sel(Nisf=kisf).values\n",
    "    melt_obs_unc_kisf = melt_Gt_all_Paolo['melt_Gt_unc'].max('time').sel(Nisf=kisf).values\n",
    "    ax[i].axhline(y=melt_obs_kisf,color='k', linewidth=3)\n",
    "    ax[i].fill_between(x=np.arange(1992,2015), y1=melt_obs_kisf-melt_obs_unc_kisf, y2=melt_obs_kisf+melt_obs_unc_kisf, color='grey')\n",
    "    \n",
    "    for m,mmod in enumerate(Gt_allmod.model):\n",
    "        for n,mparam in enumerate(Gt_allmod.param):\n",
    "\n",
    "            ax[i].axhline(y=Gt_allmod.sel(param=mparam,time=range(1992,2015),Nisf=kisf,model=mmod).mean('time'), color='blue',\n",
    "                        alpha=weight.sel(param=mparam,Nisf=kisf,model=mmod).values.item() + 0.1) #x=np.arange(1992,2015), \n",
    "\n",
    "\n",
    "\n",
    "    #if kisf == 23:\n",
    "    #    ax[i].set_title('Tracy Tremenchus')\n",
    "    #elif kisf == 24:\n",
    "    #    ax[i].set_title('Conger/Glenzer')\n",
    "    #elif kisf == 110:\n",
    "    #    ax[i].set_title('Ekström')\n",
    "    #else:\n",
    "    ax[i].set_title(str(file_isf_orig['isf_name'].sel(Nisf=kisf).values))\n",
    "    #ax[i].set_xlim(0,60)\n",
    "    #ax[i].axvline(x=30, c='k', linestyle='--')\n",
    "\n",
    "    i = i+1\n",
    "\n",
    "#f.legend()\n",
    "#f.subplots_adjust(bottom=0.05, wspace=0.1)\n",
    "\n",
    "f.tight_layout()\n",
    "sns.despine()\n",
    "plt.savefig(plot_path+'melt_historical_withobs_meanallmod.pdf')"
   ]
  },
  {
   "cell_type": "code",
   "execution_count": null,
   "id": "1ca11723-820a-4ac5-a28f-ce25a09406a8",
   "metadata": {},
   "outputs": [],
   "source": [
    "weight.stack({'flat_dim': ['model','param']})"
   ]
  },
  {
   "cell_type": "code",
   "execution_count": null,
   "id": "6ea4fd62-cd62-4dce-a99a-8df67bdd6149",
   "metadata": {},
   "outputs": [],
   "source": [
    "regions = ['Weddell','Bellingshausen','Amundsen','Ross','East 1','East 2','Dronning Maud Land']\n",
    "colors = ['red','orange','gold','mediumturquoise','maroon','magenta','cornflowerblue','lightseagreen',\n",
    "          'yellowgreen','royalblue','tomato','darkslateblue','purple','darkgoldenrod']\n",
    "\n",
    "f = plt.figure()\n",
    "f.set_size_inches(8.25*2, 8.25*2)\n",
    "\n",
    "ax={}\n",
    "\n",
    "leg_hdl = []\n",
    "\n",
    "i = 0\n",
    "\n",
    "x = np.arange(len(weight.param))\n",
    "y = np.arange(len(weight.model))\n",
    "\n",
    "for kisf in tqdm(sorted_isf_rignot):\n",
    "    \n",
    "    ax[i] = f.add_subplot(8,8,i+1)\n",
    "    ax[i].imshow(weight.sel(Nisf=kisf).values, cmap=plt.cm.Reds, vmin=0, vmax=0.05)   \n",
    "\n",
    "    #if kisf == 23:\n",
    "    #    ax[i].set_title('Tracy Tremenchus')\n",
    "    #elif kisf == 24:\n",
    "    #    ax[i].set_title('Conger/Glenzer')\n",
    "    #elif kisf == 110:\n",
    "    #    ax[i].set_title('Ekström')\n",
    "    #else:\n",
    "    ax[i].set_title(str(file_isf_orig['isf_name'].sel(Nisf=kisf).values))\n",
    "\n",
    "    if i > 55:        \n",
    "        ax[i].set_xticks(x)\n",
    "        ax[i].set_xticklabels(labels=weight.param.values, rotation=90)\n",
    "    else:\n",
    "        ax[i].set_xticks([])\n",
    "        ax[i].set_xticklabels(labels=[])    \n",
    "    \n",
    "    if i in range(0,64,8):\n",
    "        ax[i].set_yticks(y)\n",
    "        ax[i].set_yticklabels(labels=weight.model.values)\n",
    "    else:\n",
    "        ax[i].set_yticks([])\n",
    "        ax[i].set_yticklabels(labels=[])\n",
    "\n",
    "    i = i+1\n",
    "\n",
    "#f.legend()\n",
    "#f.subplots_adjust(bottom=0.05, wspace=0.1)\n",
    "\n",
    "f.tight_layout()\n",
    "sns.despine()\n",
    "plt.savefig(plot_path+'melt_historical_weights_heatmap.pdf')\n",
    "\n"
   ]
  },
  {
   "cell_type": "code",
   "execution_count": null,
   "id": "c1df6ee8-1aee-4d81-93bf-03bbe40e30e0",
   "metadata": {},
   "outputs": [],
   "source": [
    "regions = ['Weddell','Bellingshausen','Amundsen','Ross','East 1','East 2','Dronning Maud Land']\n",
    "colors = ['red','orange','gold','mediumturquoise','maroon','magenta','cornflowerblue','lightseagreen',\n",
    "          'yellowgreen','royalblue','tomato','darkslateblue','purple','darkgoldenrod']\n",
    "\n",
    "f = plt.figure()\n",
    "f.set_size_inches(8.25*3, 8.25*3)\n",
    "\n",
    "ax={}\n",
    "\n",
    "leg_hdl = []\n",
    "\n",
    "i = 0\n",
    "\n",
    "\n",
    "for kisf in tqdm(sorted_isf_rignot):\n",
    "    \n",
    "    ax[i] = f.add_subplot(8,8,i+1)\n",
    "    \n",
    "    melt_obs_kisf = melt_Gt_all_Paolo['melt_Gt'].mean('time').sel(Nisf=kisf).values\n",
    "    melt_obs_unc_kisf = melt_Gt_all_Paolo['melt_Gt_unc'].max('time').sel(Nisf=kisf).values\n",
    "    ax[i].axhline(y=melt_obs_kisf,color='k')\n",
    "    ax[i].fill_between(x=np.arange(1992,2015), y1=melt_obs_kisf-melt_obs_unc_kisf, y2=melt_obs_kisf+melt_obs_unc_kisf, color='grey')\n",
    "    \n",
    "    for m,mmod in enumerate(Gt_allmod.model):\n",
    "        for n,mparam in enumerate(Gt_allmod.param):\n",
    "\n",
    "            ax[i].plot(np.arange(1992,2015), Gt_allmod.sel(param=mparam,time=range(1992,2015),Nisf=kisf,model=mmod), color='blue',\n",
    "                        alpha=0.2)\n",
    "\n",
    "\n",
    "\n",
    "    #if kisf == 23:\n",
    "    #    ax[i].set_title('Tracy Tremenchus')\n",
    "    #elif kisf == 24:\n",
    "    #    ax[i].set_title('Conger/Glenzer')\n",
    "    #elif kisf == 110:\n",
    "    #    ax[i].set_title('Ekström')\n",
    "    #else:\n",
    "    ax[i].set_title(str(file_isf_orig['isf_name'].sel(Nisf=kisf).values))\n",
    "    #ax[i].set_xlim(0,60)\n",
    "    #ax[i].axvline(x=30, c='k', linestyle='--')\n",
    "\n",
    "    i = i+1\n",
    "\n",
    "#f.legend()\n",
    "#f.subplots_adjust(bottom=0.05, wspace=0.1)\n",
    "\n",
    "f.tight_layout()\n",
    "sns.despine()\n",
    "plt.savefig(plot_path+'melt_historical_withobs_allmod_withoutweight.pdf')"
   ]
  },
  {
   "cell_type": "code",
   "execution_count": null,
   "id": "8f68b68b-72e1-4b9d-8b24-2f018ea8df0a",
   "metadata": {},
   "outputs": [],
   "source": [
    "regions = ['Weddell','Bellingshausen','Amundsen','Ross','East 1','East 2','Dronning Maud Land']\n",
    "#colors = ['red','orange','gold','mediumturquoise','maroon','magenta','cornflowerblue','lightseagreen',\n",
    "#          'yellowgreen','royalblue','tomato','darkslateblue','purple','darkgoldenrod']\n",
    "colors = ['red','orange','gold','mediumturquoise','maroon','magenta','cornflowerblue','grey','yellowgreen','purple']\n",
    "\n",
    "\n",
    "ax={}\n",
    "\n",
    "leg_hdl = []\n",
    "\n",
    "\n",
    "\n",
    "for m,mmod in enumerate(['CNRM-CM6-1']):\n",
    "    f = plt.figure()\n",
    "    f.set_size_inches(8.25*2, 8.25*2)\n",
    "    \n",
    "    i = 0\n",
    "\n",
    "    for kisf in tqdm(sorted_isf_rignot):\n",
    "\n",
    "        ax[i] = f.add_subplot(8,8,i+1)\n",
    "\n",
    "        melt_obs_kisf = melt_Gt_all_Paolo['melt_Gt'].mean('time').sel(Nisf=kisf).values\n",
    "        melt_obs_unc_kisf = melt_Gt_all_Paolo['melt_Gt_unc'].max('time').sel(Nisf=kisf).values\n",
    "        ax[i].axhline(y=melt_obs_kisf,color='k')\n",
    "        #ax[i].fill_between(x=np.arange(1992,2015), y1=melt_obs_kisf-melt_obs_unc_kisf, y2=melt_obs_kisf+melt_obs_unc_kisf, color='grey')\n",
    "\n",
    "        for n,mparam in enumerate(Gt_allmod.param):\n",
    "\n",
    "            ax[i].plot(np.arange(1992,2015), Gt_allmod.sel(param=mparam,time=range(1992,2015),Nisf=kisf,model=mmod), color=colors[n],\n",
    "                        alpha=0.7)\n",
    "\n",
    "\n",
    "\n",
    "        #if kisf == 23:\n",
    "        #    ax[i].set_title('Tracy Tremenchus')\n",
    "        #elif kisf == 24:\n",
    "        #    ax[i].set_title('Conger/Glenzer')\n",
    "        #elif kisf == 110:\n",
    "        #    ax[i].set_title('Ekström')\n",
    "        #else:\n",
    "        ax[i].set_title(str(file_isf_orig['isf_name'].sel(Nisf=kisf).values))\n",
    "        #ax[i].set_xlim(0,60)\n",
    "        #ax[i].axvline(x=30, c='k', linestyle='--')\n",
    "\n",
    "        i = i+1\n",
    "\n",
    "    #f.legend()\n",
    "    f.subplots_adjust(bottom=0.05, wspace=0.1)\n",
    "\n",
    "    f.tight_layout()\n",
    "    sns.despine()\n",
    "    plt.suptitle(mmod)\n",
    "#plt.savefig(plot_path+'melt_compare_params_'+mod+'.pdf')"
   ]
  },
  {
   "cell_type": "code",
   "execution_count": null,
   "id": "67550eea-ea1e-43ce-87c4-bbaa98b984d5",
   "metadata": {},
   "outputs": [],
   "source": [
    "melt_Gt_all_Paolo['melt_Gt_unc'].max('time')"
   ]
  },
  {
   "cell_type": "code",
   "execution_count": null,
   "id": "437e3ccf-1f32-4a59-a5f8-e32b943b951b",
   "metadata": {},
   "outputs": [],
   "source": []
  }
 ],
 "metadata": {
  "kernelspec": {
   "display_name": "py38",
   "language": "python",
   "name": "py38"
  },
  "language_info": {
   "codemirror_mode": {
    "name": "ipython",
    "version": 3
   },
   "file_extension": ".py",
   "mimetype": "text/x-python",
   "name": "python",
   "nbconvert_exporter": "python",
   "pygments_lexer": "ipython3",
   "version": "3.8.12"
  }
 },
 "nbformat": 4,
 "nbformat_minor": 5
}
