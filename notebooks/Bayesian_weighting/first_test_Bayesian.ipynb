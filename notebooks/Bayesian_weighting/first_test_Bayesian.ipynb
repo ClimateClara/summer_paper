{
 "cells": [
  {
   "cell_type": "code",
   "execution_count": null,
   "id": "048458db-08ba-498f-9d03-8fe8ef4e96da",
   "metadata": {},
   "outputs": [],
   "source": [
    "\"\"\"\n",
    "Created on Wed Aug 09 16:56 2023\n",
    "\n",
    "Try to infer some Bayesian weights\n",
    "\n",
    "Author: @claraburgard\n",
    "\n",
    "\"\"\""
   ]
  },
  {
   "cell_type": "code",
   "execution_count": null,
   "id": "39a6302e-6b2d-4fd0-8edf-525940569552",
   "metadata": {},
   "outputs": [],
   "source": [
    "import xarray as xr"
   ]
  },
  {
   "cell_type": "code",
   "execution_count": null,
   "id": "7eecfba6-4175-4f1f-8bb8-d8837ada4808",
   "metadata": {},
   "outputs": [],
   "source": [
    "mod = 'CNRM-CM6-1'"
   ]
  },
  {
   "cell_type": "code",
   "execution_count": null,
   "id": "e7e3f2af-77cd-4d17-ab3d-1b1f74ef4bea",
   "metadata": {},
   "outputs": [],
   "source": [
    "home_path = '/bettik/burgardc/'"
   ]
  },
  {
   "cell_type": "code",
   "execution_count": null,
   "id": "3e117f14-6535-4900-a2bf-589c84ac8835",
   "metadata": {},
   "outputs": [],
   "source": [
    "inputpath_mask = home_path+'/DATA/SUMMER_PAPER/interim/ANTARCTICA_IS_MASKS/BedMachine_4km/'\n",
    "file_isf_orig = xr.open_dataset(inputpath_mask+'BedMachinev2_4km_isf_masks_and_info_and_distance_oneFRIS.nc')\n",
    "nonnan_Nisf = file_isf_orig['Nisf'].where(np.isfinite(file_isf_orig['front_bot_depth_max']), drop=True).astype(int)\n",
    "file_isf_nonnan = file_isf_orig.sel(Nisf=nonnan_Nisf)\n",
    "rignot_isf = file_isf_nonnan.Nisf.where(np.isfinite(file_isf_nonnan['isf_area_rignot']), drop=True)\n",
    "file_isf = file_isf_nonnan.sel(Nisf=rignot_isf)"
   ]
  },
  {
   "cell_type": "markdown",
   "id": "2a28301a-eef3-4baa-a369-98b604d15336",
   "metadata": {},
   "source": [
    "READ IN CALVING FLUX"
   ]
  },
  {
   "cell_type": "code",
   "execution_count": null,
   "id": "8e5cadc2-8d4f-4816-b104-2051f35cb85e",
   "metadata": {},
   "outputs": [],
   "source": [
    "inputpath_caving = '/bettik/burgardc/DATA/SUMMER_PAPER/raw/'\n",
    "calving_flux = xr.open_dataset(inputpath_caving + 'calving_flux_rignot13.nc')"
   ]
  },
  {
   "cell_type": "markdown",
   "id": "2cd8d397-a9fd-43df-9b2e-2add07792bb7",
   "metadata": {},
   "source": [
    "READ IN ATMO"
   ]
  },
  {
   "cell_type": "markdown",
   "id": "32d32bff-1f04-4cbb-beb8-c5868070f2b8",
   "metadata": {},
   "source": [
    "model"
   ]
  },
  {
   "cell_type": "code",
   "execution_count": null,
   "id": "9ff8bb6f-9f0b-4990-a845-3b7c31d83a53",
   "metadata": {},
   "outputs": [],
   "source": [
    "inputpath_atmo = '/bettik/kittelc/clara/'\n",
    "\n",
    "scenario = 'historical'\n",
    "melt_atmo = xr.open_dataset(inputpath_atmo+mod+'_SMB_'+scenario+'.nc').sel(Nisf=rignot_isf)\n",
    "melt_atmo['time'] = melt_atmo['time'].dt.year"
   ]
  },
  {
   "cell_type": "markdown",
   "id": "4b79d933-7d37-4c18-8b1b-c5833cc660ab",
   "metadata": {},
   "source": [
    "reanalysis"
   ]
  },
  {
   "cell_type": "code",
   "execution_count": null,
   "id": "a1808ee1-78d8-4d8c-86e5-6d1656bc4e3e",
   "metadata": {},
   "outputs": [],
   "source": []
  },
  {
   "cell_type": "markdown",
   "id": "543a5b61-90c5-4747-bdd2-30585baec87a",
   "metadata": {},
   "source": [
    "READ IN OCEAN"
   ]
  },
  {
   "cell_type": "markdown",
   "id": "1ba147af-6bf4-4b73-812e-2a55e44a0ce8",
   "metadata": {},
   "source": [
    "model"
   ]
  },
  {
   "cell_type": "code",
   "execution_count": null,
   "id": "ba46f7ac-de83-4ff6-a7f6-98ddf5d5a1c4",
   "metadata": {},
   "outputs": [],
   "source": [
    "param_classic_list = ['linear_local',\n",
    "              'quadratic_local','quadratic_local_locslope',\n",
    "              'quadratic_mixed_mean','quadratic_mixed_locslope',\n",
    "              'lazero19',\n",
    "              'boxes_4_pismyes_picopno']\n",
    "\n",
    "param_NN_list = ['NNxsmall96',\n",
    "              'NNsmall','NNlarge']"
   ]
  },
  {
   "cell_type": "code",
   "execution_count": null,
   "id": "3e808955-62d7-424c-8c31-da269f715523",
   "metadata": {},
   "outputs": [],
   "source": [
    "## Melt outputpath\n",
    "outputpath_melt = '/bettik/burgardc/DATA/SUMMER_PAPER/processed/OCEAN_MELT_RATE_CMIP/'+mod+'/'\n",
    "\n",
    "melt1D_list = []\n",
    "for mparam in param_classic_list:\n",
    "    melt1D_scenario = xr.open_dataset(outputpath_melt + 'eval_metrics_1D_'+mparam+'_'+scenario+'_oneFRIS.nc')\n",
    "    melt1D_list.append(melt1D_scenario.assign_coords({'param':mparam}))\n",
    "melt1D_classic = xr.concat(melt1D_list, dim='param')       \n",
    "Gt_classic = melt1D_classic['melt_1D_Gt_per_y']\n",
    "box1_classic = melt1D_classic['melt_1D_mean_myr_box1']\n",
    "\n",
    "melt1D_list = []\n",
    "for mparam in param_NN_list:\n",
    "    melt1D_scenario = xr.open_dataset(outputpath_melt + 'evalmetrics_1D_'+mparam+'_'+scenario+'.nc')\n",
    "    melt1D_list.append(melt1D_scenario.assign_coords({'param':mparam}))\n",
    "melt1D_NN = xr.concat(melt1D_list, dim='param')   \n",
    "Gt_NN = melt1D_NN['predicted_melt'].sel(metrics='Gt')\n",
    "box1_NN = melt1D_NN['predicted_melt'].sel(metrics='box1')\n",
    "\n",
    "Gt_all = xr.concat([Gt_classic, Gt_NN], dim='param')\n",
    "box1_all = xr.concat([box1_classic, box1_NN], dim='param')"
   ]
  },
  {
   "cell_type": "code",
   "execution_count": null,
   "id": "09a4cbcf-1047-4b47-87b5-c44b11508adf",
   "metadata": {},
   "outputs": [],
   "source": [
    "mass_balance = Gt_all - melt_atmo['SMB'] + calving_flux"
   ]
  },
  {
   "cell_type": "markdown",
   "id": "37e1f354-c46d-44de-9baf-b7e20ce0a12f",
   "metadata": {},
   "source": [
    "obs estimate"
   ]
  },
  {
   "cell_type": "code",
   "execution_count": null,
   "id": "61a2167e-d7a6-44a4-9713-896f91e39073",
   "metadata": {},
   "outputs": [],
   "source": [
    "inputpath_Paolo = '/bettik/burgardc/DATA/SUMMER_PAPER/raw/'\n",
    "data_Paolo = xr.open_dataset(inputpath_Paolo + 'ANT_G1920V01_IceShelfMelt.nc')"
   ]
  },
  {
   "cell_type": "code",
   "execution_count": null,
   "id": "746f6c50-b524-4027-93ba-94e5d092d476",
   "metadata": {},
   "outputs": [],
   "source": [
    "data_Paolo['melt_mean']"
   ]
  },
  {
   "cell_type": "code",
   "execution_count": null,
   "id": "b667775d-3249-4d5a-8612-3e1ce7fd21b7",
   "metadata": {},
   "outputs": [],
   "source": [
    "data_Paolo.time.dt.year in range(1992,2015)"
   ]
  },
  {
   "cell_type": "code",
   "execution_count": null,
   "id": "3c2b1887-57db-4186-af99-118c50ad462b",
   "metadata": {},
   "outputs": [],
   "source": [
    "data_Paolo.time.dt.year < 2015"
   ]
  },
  {
   "cell_type": "code",
   "execution_count": null,
   "id": "0f859d05-54c8-4a28-9621-69d21fb6076c",
   "metadata": {},
   "outputs": [],
   "source": []
  }
 ],
 "metadata": {
  "kernelspec": {
   "display_name": "py38",
   "language": "python",
   "name": "py38"
  },
  "language_info": {
   "codemirror_mode": {
    "name": "ipython",
    "version": 3
   },
   "file_extension": ".py",
   "mimetype": "text/x-python",
   "name": "python",
   "nbconvert_exporter": "python",
   "pygments_lexer": "ipython3",
   "version": "3.8.12"
  }
 },
 "nbformat": 4,
 "nbformat_minor": 5
}
