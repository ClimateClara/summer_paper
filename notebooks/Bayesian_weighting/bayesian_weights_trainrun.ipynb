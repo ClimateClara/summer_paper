{
 "cells": [
  {
   "cell_type": "code",
   "execution_count": null,
   "id": "8aeeb578-bdc4-4148-b2eb-c5bfb3428525",
   "metadata": {},
   "outputs": [],
   "source": [
    "\"\"\"\n",
    "Created on Fri Jan 19 14:30 2024\n",
    "\n",
    "Apply some weights when comapring to training runs \n",
    "\n",
    "@author: Clara Burgard\n",
    "\"\"\""
   ]
  },
  {
   "cell_type": "code",
   "execution_count": 1,
   "id": "664d5658-589e-446a-9169-12ae8309ccdc",
   "metadata": {},
   "outputs": [],
   "source": [
    "import xarray as xr\n",
    "import numpy as np\n",
    "from tqdm.notebook import tqdm\n",
    "import seaborn as sns\n",
    "import multimelt.useful_functions as uf\n",
    "import os"
   ]
  },
  {
   "cell_type": "code",
   "execution_count": 2,
   "id": "94776932-d0ba-4021-846f-ea763485d09e",
   "metadata": {},
   "outputs": [],
   "source": [
    "sns.set_context('paper')"
   ]
  },
  {
   "cell_type": "code",
   "execution_count": 3,
   "id": "4215a147-59b2-4bd0-8236-ce95974c1494",
   "metadata": {},
   "outputs": [
    {
     "name": "stderr",
     "output_type": "stream",
     "text": [
      "QStandardPaths: XDG_RUNTIME_DIR not set, defaulting to '/tmp/runtime-burgardc'\n"
     ]
    }
   ],
   "source": [
    "%matplotlib qt5"
   ]
  },
  {
   "cell_type": "markdown",
   "id": "cd5bf8e5-e5d0-4901-bda3-56ca64068185",
   "metadata": {},
   "source": [
    "READ IN DATA"
   ]
  },
  {
   "cell_type": "code",
   "execution_count": 7,
   "id": "c2f858ad-3f89-4594-8d56-aec4978ed2ef",
   "metadata": {},
   "outputs": [],
   "source": [
    "home_path='/bettik/burgardc/'"
   ]
  },
  {
   "cell_type": "code",
   "execution_count": 4,
   "id": "277e5477-7fe0-4b71-a6ab-ab6f978d3302",
   "metadata": {},
   "outputs": [],
   "source": [
    "param_classic_list = ['linear_local',\n",
    "              'quadratic_local','quadratic_local_locslope',\n",
    "              'lazero19',\n",
    "              'boxes_4_pismyes_picopno']\n",
    "\n",
    "param_NN_list = ['NNsmall']"
   ]
  },
  {
   "cell_type": "code",
   "execution_count": 5,
   "id": "a476418f-f135-4f15-9164-7080225caa7c",
   "metadata": {},
   "outputs": [],
   "source": [
    "## Melt outputpath\n",
    "Gt_allmod_list = []\n",
    "box1_allmod_list = []\n",
    "\n",
    "for nemo_run in ['OPM006','OPM016','OPM018','OPM021','OPM031','ctrl94','isf94','isfru94']: #'CNRM-CM6-1',\n",
    "    \n",
    "    outputpath_melt = '/bettik/burgardc/DATA/SUMMER_PAPER/processed/OCEAN_MELT_RATE_CHECK_TUNING/nemo_5km_'+nemo_run+'/'\n",
    "\n",
    "    melt1D_list = []\n",
    "    for mparam in param_classic_list:\n",
    "        melt1D_scenario = xr.open_dataset(outputpath_melt+'eval_metrics_1D_'+mparam+'_newtuning_oneFRIS.nc')\n",
    "        melt1D_list.append(melt1D_scenario.assign_coords({'param':mparam}))\n",
    "    melt1D_classic = xr.concat(melt1D_list, dim='param')       \n",
    "    Gt_classic = melt1D_classic['melt_1D_Gt_per_y']\n",
    "\n",
    "    \n",
    "    if nemo_run in ['ctrl94','isf94','isfru94']:\n",
    "        inputpath_profiles = '/bettik/burgardc/DATA/SUMMER_PAPER/interim/T_S_PROF/nemo_5km_'+nemo_run+'/'\n",
    "        outputpath_melt = '/bettik/burgardc/DATA/SUMMER_PAPER/processed/OCEAN_MELT_RATE_TUNING/nemo_5km_'+nemo_run+'/'\n",
    "    else:\n",
    "        inputpath_profiles = '/bettik/burgardc/SCRIPTS/basal_melt_param/data/interim/T_S_PROF/nemo_5km_'+nemo_run+'/'\n",
    "        outputpath_melt = '/bettik/burgardc/SCRIPTS/basal_melt_param/data/processed/MELT_RATE/nemo_5km_'+nemo_run+'/'\n",
    "        \n",
    "    melt1D_list = []\n",
    "    for mparam in param_NN_list:\n",
    "        melt1D_scenario = xr.open_dataset(outputpath_melt + 'evalmetrics_1D_small_newbasic2_extrap_normstd_newtuning.nc')\n",
    "        melt1D_list.append(melt1D_scenario.assign_coords({'param':mparam}))\n",
    "    melt1D_NN = xr.concat(melt1D_list, dim='param')   \n",
    "    Gt_NN = melt1D_NN['predicted_melt'].sel(metrics='Gt')\n",
    "\n",
    "    Gt_all = xr.concat([Gt_classic, Gt_NN], dim='param')\n",
    "    \n",
    "    Gt_allmod_list.append(Gt_all.assign_coords({'nemo_run': nemo_run}))\n",
    "\n",
    "Gt_allmod = xr.concat(Gt_allmod_list, dim='nemo_run')\n"
   ]
  },
  {
   "cell_type": "code",
   "execution_count": 8,
   "id": "6d1a28f9-8857-44f3-8db4-6617f299aff7",
   "metadata": {},
   "outputs": [],
   "source": [
    "ref_Gt_list = []\n",
    "ref_box1_list = []\n",
    "\n",
    "\n",
    "run_list = ['OPM031','OPM021','OPM018','OPM016','OPM006','ctrl94','isf94','isfru94'] #'OPM026',\n",
    "for n,nemo_run in enumerate(run_list):\n",
    "    if nemo_run in ['ctrl94','isf94','isfru94']:\n",
    "        outputpath_melt = home_path+'DATA/SUMMER_PAPER/processed/OCEAN_MELT_RATE_TUNING/nemo_5km_'+nemo_run+'/'\n",
    "    else:\n",
    "        outputpath_melt = home_path+'DATA/BASAL_MELT_PARAM/processed/MELT_RATE/nemo_5km_'+nemo_run+'/'\n",
    "    NEMO_melt_rates_1D = xr.open_dataset(outputpath_melt+'melt_rates_1D_NEMO_oneFRIS.nc')\n",
    "    ref_Gt = NEMO_melt_rates_1D['melt_Gt_per_y_tot']\n",
    "    ref_Gt_list.append(ref_Gt.assign_coords({'nemo_run': nemo_run}))\n",
    "    NEMO_box1_myr = xr.open_dataset(outputpath_melt+'melt_rates_box1_NEMO_oneFRIS.nc')\n",
    "    ref_box1 = NEMO_box1_myr['mean_melt_box1_myr']\n",
    "    ref_box1_list.append(ref_box1.assign_coords({'nemo_run': nemo_run}))\n",
    "    \n",
    "ref_Gt_all = xr.concat(ref_Gt_list, dim='nemo_run')\n",
    "ref_box1_all = xr.concat(ref_box1_list, dim='nemo_run')"
   ]
  },
  {
   "cell_type": "code",
   "execution_count": 16,
   "id": "db424203-c004-4bc3-bdb1-ecbb388f2bf8",
   "metadata": {},
   "outputs": [],
   "source": [
    "Gt_param_stacked_list = []\n",
    "Gt_ref_stacked_list = []\n",
    "\n",
    "for n,nrun in enumerate(Gt_allmod.nemo_run):\n",
    "    \n",
    "    Gt_param_stacked_list.append(Gt_allmod.sel(nemo_run=nrun).assign_coords({'time': Gt_allmod.time + n*150}))\n",
    "    Gt_ref_stacked_list.append(ref_Gt_all.sel(nemo_run=nrun).assign_coords({'time': ref_Gt_all.time + n*150}))"
   ]
  },
  {
   "cell_type": "code",
   "execution_count": 17,
   "id": "d1cf088f-bffc-4193-bb5b-b398b4274fd8",
   "metadata": {},
   "outputs": [],
   "source": [
    "Gt_param_stacked = xr.concat(Gt_param_stacked_list, dim='time')\n",
    "Gt_ref_stacked = xr.concat(Gt_ref_stacked_list, dim='time')"
   ]
  },
  {
   "cell_type": "code",
   "execution_count": 21,
   "id": "a8bf10d2-950e-4a0a-b296-227e70d17208",
   "metadata": {},
   "outputs": [],
   "source": [
    "Gt_param_stacked_clean = Gt_param_stacked.where(np.isfinite(Gt_param_stacked), drop=True)\n",
    "Gt_ref_stacked_clean =  Gt_ref_stacked.where(np.isfinite(Gt_ref_stacked), drop=True)"
   ]
  },
  {
   "cell_type": "code",
   "execution_count": 25,
   "id": "67db5296-85dd-488d-b26e-3c4b0f203ae7",
   "metadata": {},
   "outputs": [],
   "source": [
    "Gt_param_stacked_clean['time'] = np.arange(len(Gt_param_stacked_clean.time))\n",
    "Gt_ref_stacked_clean['time'] = np.arange(len(Gt_ref_stacked_clean.time))"
   ]
  },
  {
   "cell_type": "code",
   "execution_count": 29,
   "id": "901e3507-f40c-4bbc-a1e4-6fd776dad46a",
   "metadata": {},
   "outputs": [
    {
     "data": {
      "text/plain": [
       "[<matplotlib.lines.Line2D at 0x7fe7c3ca0a00>]"
      ]
     },
     "execution_count": 29,
     "metadata": {},
     "output_type": "execute_result"
    }
   ],
   "source": [
    "Gt_param_stacked_clean.isel(param=0,Nisf=0).plot()\n",
    "Gt_ref_stacked_clean.isel(Nisf=0).plot()"
   ]
  },
  {
   "cell_type": "code",
   "execution_count": 33,
   "id": "a7779f3d-202a-4888-aa4e-9130b7d1c4b2",
   "metadata": {},
   "outputs": [],
   "source": [
    "diff_mod_obs = (Gt_param_stacked_clean - Gt_ref_stacked_clean).mean('time')\n",
    "sigma_obs = 100\n",
    "sigma_mod = 100"
   ]
  },
  {
   "cell_type": "code",
   "execution_count": 34,
   "id": "30fd5386-4809-4195-bb33-30f39e59793d",
   "metadata": {},
   "outputs": [],
   "source": [
    "s_j = np.exp(-((diff_mod_obs)**2/(sigma_obs**2 + sigma_mod**2)))\n",
    "\n",
    "weight = (s_j / (s_j.sum(['param'])))\n",
    "\n",
    "weight_clean = weight#.where(np.isfinite(weight),0)\n",
    "#weight_clean.to_dataset(name='bay_weights').to_netcdf(outputpath_weights + 'bayesian_weights_davison.nc')"
   ]
  },
  {
   "cell_type": "code",
   "execution_count": 40,
   "id": "3aeb4fb5-b22d-4cd0-8ff1-ff03121c17ec",
   "metadata": {},
   "outputs": [
    {
     "name": "stdout",
     "output_type": "stream",
     "text": [
      "10 ['NNsmall']\n",
      "11 ['NNsmall']\n",
      "12 ['quadratic_local_locslope']\n",
      "13 ['lazero19']\n",
      "18 ['NNsmall']\n",
      "22 ['NNsmall']\n",
      "23 ['NNsmall']\n",
      "24 ['NNsmall']\n",
      "25 ['quadratic_local']\n",
      "30 ['NNsmall']\n",
      "31 ['quadratic_local_locslope']\n",
      "33 ['NNsmall']\n",
      "38 ['NNsmall']\n",
      "39 ['quadratic_local_locslope']\n",
      "40 ['NNsmall']\n",
      "42 ['NNsmall']\n",
      "43 ['NNsmall']\n",
      "44 ['NNsmall']\n",
      "45 ['quadratic_local']\n",
      "47 ['NNsmall']\n",
      "48 ['NNsmall']\n",
      "51 ['NNsmall']\n",
      "52 ['NNsmall']\n",
      "53 ['linear_local']\n",
      "54 ['quadratic_local_locslope']\n",
      "55 ['NNsmall']\n",
      "58 ['quadratic_local']\n",
      "61 ['quadratic_local']\n",
      "65 ['NNsmall']\n",
      "66 ['NNsmall']\n",
      "69 ['NNsmall']\n",
      "70 ['NNsmall']\n",
      "71 ['NNsmall']\n",
      "73 ['NNsmall']\n",
      "75 ['NNsmall']\n"
     ]
    }
   ],
   "source": [
    "for kisf in weight_clean.Nisf:\n",
    "    print(kisf.values, weight_clean.param.where(weight_clean.sel(Nisf=kisf) == weight_clean.sel(Nisf=kisf).max(), drop=True).values)"
   ]
  },
  {
   "cell_type": "code",
   "execution_count": 43,
   "id": "ec66231e-a17a-4349-9c1d-f672e6948a73",
   "metadata": {},
   "outputs": [
    {
     "name": "stdout",
     "output_type": "stream",
     "text": [
      "10 ['linear_local']\n",
      "11 ['boxes_4_pismyes_picopno']\n",
      "12 ['linear_local']\n",
      "13 ['linear_local']\n",
      "18 ['quadratic_local_locslope']\n",
      "22 ['lazero19']\n",
      "23 ['quadratic_local_locslope']\n",
      "24 ['quadratic_local']\n",
      "25 ['lazero19']\n",
      "30 ['lazero19']\n",
      "31 ['boxes_4_pismyes_picopno']\n",
      "33 ['lazero19']\n",
      "38 ['boxes_4_pismyes_picopno']\n",
      "39 ['boxes_4_pismyes_picopno']\n",
      "40 ['boxes_4_pismyes_picopno']\n",
      "42 ['linear_local']\n",
      "43 ['linear_local']\n",
      "44 ['lazero19']\n",
      "45 ['lazero19']\n",
      "47 ['lazero19']\n",
      "48 ['quadratic_local_locslope']\n",
      "51 ['lazero19']\n",
      "52 ['lazero19']\n",
      "53 ['lazero19']\n",
      "54 ['boxes_4_pismyes_picopno']\n",
      "55 ['lazero19']\n",
      "58 ['linear_local']\n",
      "61 ['linear_local']\n",
      "65 ['quadratic_local_locslope']\n",
      "66 ['quadratic_local_locslope']\n",
      "69 ['lazero19']\n",
      "70 ['linear_local']\n",
      "71 ['lazero19']\n",
      "73 ['lazero19']\n",
      "75 ['lazero19']\n"
     ]
    }
   ],
   "source": [
    "for kisf in weight_clean.Nisf:\n",
    "    print(kisf.values, weight_clean.param.where(weight_clean.sel(Nisf=kisf) == weight_clean.sel(Nisf=kisf).min(), drop=True).values)"
   ]
  },
  {
   "cell_type": "code",
   "execution_count": null,
   "id": "536575ae-708e-432b-a9c7-6ab6272b18a0",
   "metadata": {},
   "outputs": [],
   "source": []
  }
 ],
 "metadata": {
  "kernelspec": {
   "display_name": "py38",
   "language": "python",
   "name": "py38"
  },
  "language_info": {
   "codemirror_mode": {
    "name": "ipython",
    "version": 3
   },
   "file_extension": ".py",
   "mimetype": "text/x-python",
   "name": "python",
   "nbconvert_exporter": "python",
   "pygments_lexer": "ipython3",
   "version": "3.8.12"
  }
 },
 "nbformat": 4,
 "nbformat_minor": 5
}
