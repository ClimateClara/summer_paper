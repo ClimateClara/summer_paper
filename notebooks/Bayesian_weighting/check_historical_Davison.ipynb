{
 "cells": [
  {
   "cell_type": "code",
   "execution_count": null,
   "id": "0",
   "metadata": {},
   "outputs": [],
   "source": [
    "\"\"\"\n",
    "Created on Mon Feb 05 16:56 2024\n",
    "\n",
    "Look at historical stuff, based on Davison output\n",
    "\n",
    "Author: @claraburgard\n",
    "\n",
    "\"\"\""
   ]
  },
  {
   "cell_type": "code",
   "execution_count": null,
   "id": "1",
   "metadata": {},
   "outputs": [],
   "source": [
    "import xarray as xr\n",
    "import numpy as np\n",
    "from tqdm.notebook import tqdm\n",
    "import seaborn as sns\n",
    "import multimelt.useful_functions as uf\n",
    "import os"
   ]
  },
  {
   "cell_type": "code",
   "execution_count": null,
   "id": "2",
   "metadata": {},
   "outputs": [],
   "source": [
    "sns.set_context('paper')"
   ]
  },
  {
   "cell_type": "code",
   "execution_count": null,
   "id": "3",
   "metadata": {},
   "outputs": [],
   "source": [
    "%matplotlib qt5"
   ]
  },
  {
   "cell_type": "code",
   "execution_count": null,
   "id": "4",
   "metadata": {},
   "outputs": [],
   "source": [
    "home_path = '/bettik/burgardc/'\n",
    "plot_path = '/bettik/burgardc/PLOTS/summer_paper_plots/'\n",
    "outputpath_GL = '/bettik/burgardc/DATA/SUMMER_PAPER/processed/GL_FLUX/'\n",
    "outputpath_weights = '/bettik/burgardc/DATA/SUMMER_PAPER/processed/ANALYSIS/'\n",
    "inputpath_raw = '/bettik/burgardc/DATA/SUMMER_PAPER/raw/'"
   ]
  },
  {
   "cell_type": "code",
   "execution_count": null,
   "id": "5",
   "metadata": {},
   "outputs": [],
   "source": [
    "inputpath_mask = home_path+'/DATA/SUMMER_PAPER/interim/ANTARCTICA_IS_MASKS/BedMachine_4km/'\n",
    "file_isf_orig = xr.open_dataset(inputpath_mask+'BedMachinev2_4km_isf_masks_and_info_and_distance_oneFRIS.nc')\n",
    "nonnan_Nisf = file_isf_orig['Nisf'].where(np.isfinite(file_isf_orig['front_bot_depth_max']), drop=True).astype(int)\n",
    "file_isf_nonnan = file_isf_orig.sel(Nisf=nonnan_Nisf)\n",
    "rignot_isf = file_isf_nonnan.Nisf.where(np.isfinite(file_isf_nonnan['isf_area_rignot']), drop=True)\n",
    "file_isf = file_isf_nonnan.sel(Nisf=rignot_isf)"
   ]
  },
  {
   "cell_type": "code",
   "execution_count": null,
   "id": "6",
   "metadata": {},
   "outputs": [],
   "source": [
    "sorted_isf_rignot = [11,69,43,28,12,57,\n",
    "                     70,44,29,13,58,71,45,30,14,\n",
    "                     59,72,46,\n",
    "                     31,\n",
    "                     15,61,73,47,32,16,48,33,17,62,49,34,18,63,74,\n",
    "                     50,35,19,64,\n",
    "                     10,\n",
    "                     36,20,65,51,37,\n",
    "                     22,38,52,23,66,53,39,24,\n",
    "                     67,40,54,75,25,41,\n",
    "                     26,42,55,68,60,27]"
   ]
  },
  {
   "cell_type": "code",
   "execution_count": null,
   "id": "7",
   "metadata": {},
   "outputs": [],
   "source": [
    "inputpath_davison = home_path+'/DATA/SUMMER_PAPER/raw/'\n",
    "#for vv in ['SMB','calving','melt']:\n",
    "    \n",
    "davison_file = xr.open_dataset(inputpath_davison + 'steadystate_davison23.nc')"
   ]
  },
  {
   "cell_type": "code",
   "execution_count": null,
   "id": "8",
   "metadata": {},
   "outputs": [],
   "source": []
  },
  {
   "cell_type": "code",
   "execution_count": null,
   "id": "9",
   "metadata": {},
   "outputs": [],
   "source": [
    "def figure_check_hist(isf_list,isf_name,obs,obs_unc,mod,obs2,obs2_unc,obs2_bool=False):\n",
    "    regions = ['Weddell','Bellingshausen','Amundsen','Ross','East 1','East 2','Dronning Maud Land']\n",
    "    colors = ['red','orange','gold','mediumturquoise','maroon','magenta','cornflowerblue','lightseagreen',\n",
    "              'yellowgreen','royalblue','tomato','darkslateblue','purple','darkgoldenrod']\n",
    "\n",
    "    f = plt.figure()\n",
    "    f.set_size_inches(8.25*3, 8.25*3)\n",
    "\n",
    "    ax={}\n",
    "\n",
    "    leg_hdl = []\n",
    "\n",
    "    i = 0\n",
    "\n",
    "\n",
    "    for kisf in tqdm(isf_list):\n",
    "\n",
    "        ax[i] = f.add_subplot(8,8,i+1)\n",
    "            \n",
    "            \n",
    "        for m,mmod in enumerate(mod.model):\n",
    "            if 'param' in mod.dims:\n",
    "                for n,mparam in enumerate(mod.param):\n",
    "\n",
    "                    ax[i].plot(mod.time, mod.sel(param=mparam,Nisf=kisf,model=mmod), color='grey', alpha=0.2)\n",
    "            else:\n",
    "                ax[i].plot(mod.time, mod.sel(Nisf=kisf,model=mmod), color=colors[m])\n",
    "                \n",
    "        melt_obs_kisf = obs.sel(Nisf=kisf).values\n",
    "        melt_obs_unc_kisf = obs_unc.sel(Nisf=kisf).values\n",
    "        ax[i].axhline(y=melt_obs_kisf,color='k')\n",
    "        ax[i].fill_between(x=np.arange(1980,2015), y1=melt_obs_kisf-melt_obs_unc_kisf, y2=melt_obs_kisf+melt_obs_unc_kisf, color='lightgrey')\n",
    "        \n",
    "        if obs2_bool:\n",
    "            \n",
    "            melt_obs_kisf = obs2.sel(Nisf=kisf).values\n",
    "            melt_obs_unc_kisf = obs2_unc.sel(Nisf=kisf).values\n",
    "            ax[i].axhline(y=melt_obs_kisf,color='k',linestyle='--')\n",
    "            ax[i].fill_between(x=np.arange(1980,2015), y1=melt_obs_kisf-melt_obs_unc_kisf, y2=melt_obs_kisf+melt_obs_unc_kisf, color='orange',alpha=0.3)\n",
    "\n",
    "\n",
    "        #if kisf == 23:\n",
    "        #    ax[i].set_title('Tracy Tremenchus')\n",
    "        #elif kisf == 24:\n",
    "        #    ax[i].set_title('Conger/Glenzer')\n",
    "        #elif kisf == 110:\n",
    "        #    ax[i].set_title('Ekström')\n",
    "        #else:\n",
    "        ax[i].set_title(str(isf_name.sel(Nisf=kisf).values))\n",
    "        #ax[i].set_xlim(0,60)\n",
    "        #ax[i].axvline(x=30, c='k', linestyle='--')\n",
    "\n",
    "        i = i+1\n",
    "\n",
    "    #f.legend()\n",
    "    #f.subplots_adjust(bottom=0.05, wspace=0.1)\n",
    "\n",
    "    f.tight_layout()\n",
    "    sns.despine()\n",
    "\n",
    "    return f"
   ]
  },
  {
   "cell_type": "markdown",
   "id": "10",
   "metadata": {},
   "source": [
    "SMB"
   ]
  },
  {
   "cell_type": "markdown",
   "id": "11",
   "metadata": {},
   "source": [
    "model"
   ]
  },
  {
   "cell_type": "code",
   "execution_count": null,
   "id": "12",
   "metadata": {},
   "outputs": [],
   "source": [
    "inputpath_atmo_Chris = '/bettik/burgardc/DATA/SUMMER_PAPER/raw/TS_SMB_DATA/out/'\n",
    "inputpath_atmo_Nico = '/bettik/burgardc/DATA/SUMMER_PAPER/interim/SMB_EMULATED/'\n",
    "scenario = 'historical'\n",
    "\n",
    "melt_atmo_list = []\n",
    "for mod in ['CESM2','CNRM-CM6-1','IPSL-CM6A-LR','MPI-ESM1-2-HR','UKESM1-0-LL']:\n",
    "    if os.path.exists(inputpath_atmo_Chris+mod+'_SMB_'+scenario+'-1980-2014.nc'):\n",
    "        melt_atmo = xr.open_dataset(inputpath_atmo_Chris+mod+'_SMB_'+scenario+'-1980-2014.nc').sel(Nisf=rignot_isf)\n",
    "        melt_atmo['time'] = melt_atmo['time'].dt.year\n",
    "        melt_atmo_list.append(melt_atmo['SMB'].assign_coords({'model': mod}))\n",
    "    else:\n",
    "        melt_atmo = xr.open_dataset(inputpath_atmo_Nico+mod+'_SMB_'+scenario+'-1980-2014.nc').sel(Nisf=rignot_isf)\n",
    "        melt_atmo_list.append(melt_atmo['SMB'].assign_coords({'model': mod}))\n",
    "        \n",
    "for mod in ['ACCESS-ESM1-5','ACCESS-CM2','CESM2-WACCM','CNRM-ESM2-1',\n",
    "            'CanESM5','GFDL-CM4','GFDL-ESM4','GISS-E2-1-H', \n",
    "           'MRI-ESM2-0']:\n",
    "    melt_atmo = xr.open_dataset(inputpath_atmo_Nico+mod+'_SMB_'+scenario+'-1980-2014.nc').sel(Nisf=rignot_isf)\n",
    "    melt_atmo_list.append(melt_atmo['SMB'].assign_coords({'model': mod}))\n",
    "    \n",
    "melt_atmo_all = xr.concat(melt_atmo_list, dim='model')"
   ]
  },
  {
   "cell_type": "markdown",
   "id": "13",
   "metadata": {},
   "source": [
    "reanalysis"
   ]
  },
  {
   "cell_type": "code",
   "execution_count": null,
   "id": "14",
   "metadata": {},
   "outputs": [],
   "source": [
    "scenario = 'historical'\n",
    "SMB_ERA5 = xr.open_dataset(inputpath_atmo_Chris+'ERA5_SMB_historical-1980-2014.nc').sel(Nisf=rignot_isf)\n",
    "SMB_ERA5['time'] = SMB_ERA5['time'].dt.year"
   ]
  },
  {
   "cell_type": "code",
   "execution_count": null,
   "id": "15",
   "metadata": {},
   "outputs": [],
   "source": [
    "f = figure_check_hist(sorted_isf_rignot,file_isf['isf_name'],davison_file['SMB_obs'],davison_file['SMB_unc'],\n",
    "                      melt_atmo_all,obs2=SMB_ERA5['SMBorg'].mean('time'),obs2_unc=SMB_ERA5['SMBorg'].mean('time')*0, obs2_bool=True)"
   ]
  },
  {
   "cell_type": "code",
   "execution_count": null,
   "id": "16",
   "metadata": {},
   "outputs": [],
   "source": [
    "f.savefig(plot_path + 'SMB_historical_check_with_SMBorigChris.pdf')"
   ]
  },
  {
   "cell_type": "markdown",
   "id": "17",
   "metadata": {},
   "source": [
    "BASAL MELT"
   ]
  },
  {
   "cell_type": "markdown",
   "id": "18",
   "metadata": {},
   "source": [
    "model"
   ]
  },
  {
   "cell_type": "code",
   "execution_count": null,
   "id": "19",
   "metadata": {},
   "outputs": [],
   "source": [
    "param_classic_list = ['linear_local',\n",
    "              'quadratic_local','quadratic_local_locslope',\n",
    "              'lazero19',\n",
    "              'boxes_4_pismyes_picopno']\n",
    "\n",
    "param_NN_list = ['NNsmall']"
   ]
  },
  {
   "cell_type": "code",
   "execution_count": null,
   "id": "20",
   "metadata": {},
   "outputs": [],
   "source": [
    "## Melt outputpath\n",
    "Gt_allmod_list = []\n",
    "box1_allmod_list = []\n",
    "\n",
    "scenario = 'historical'\n",
    "for mod in ['ACCESS-ESM1-5','ACCESS-CM2','CESM2','CESM2-WACCM','CNRM-CM6-1','CNRM-ESM2-1',\n",
    "            'CanESM5','GFDL-CM4','GFDL-ESM4','GISS-E2-1-H', 'IPSL-CM6A-LR',\n",
    "           'MPI-ESM1-2-HR','MRI-ESM2-0','UKESM1-0-LL']:\n",
    "#for mod in ['CESM2','CNRM-CM6-1','IPSL-CM6A-LR','MPI-ESM1-2-HR','UKESM1-0-LL']:\n",
    "    \n",
    "    outputpath_melt = '/bettik/burgardc/DATA/SUMMER_PAPER/processed/OCEAN_MELT_RATE_CMIP/'+mod+'/'\n",
    "\n",
    "    melt1D_list = []\n",
    "    for mparam in param_classic_list:\n",
    "        melt1D_scenario = xr.open_dataset(outputpath_melt + 'eval_metrics_1D_'+mparam+'_'+scenario+'_oneFRIS_anoISMIP.nc')\n",
    "        melt1D_list.append(melt1D_scenario.assign_coords({'param':mparam}))\n",
    "    melt1D_classic = xr.concat(melt1D_list, dim='param')       \n",
    "    Gt_classic = melt1D_classic['melt_1D_Gt_per_y']\n",
    "\n",
    "    melt1D_list = []\n",
    "    for mparam in param_NN_list:\n",
    "        melt1D_scenario = xr.open_dataset(outputpath_melt + 'evalmetrics_1D_'+mparam+'_'+scenario+'_anoISMIP.nc')\n",
    "        melt1D_list.append(melt1D_scenario.assign_coords({'param':mparam}))\n",
    "    melt1D_NN = xr.concat(melt1D_list, dim='param')   \n",
    "    Gt_NN = melt1D_NN['predicted_melt'].sel(metrics='Gt')\n",
    "\n",
    "    Gt_all = xr.concat([Gt_classic, Gt_NN], dim='param')\n",
    "    \n",
    "    Gt_allmod_list.append(Gt_all.assign_coords({'model': mod}))\n",
    "\n",
    "Gt_allmod = xr.concat(Gt_allmod_list, dim='model')\n",
    "    "
   ]
  },
  {
   "cell_type": "markdown",
   "id": "21",
   "metadata": {},
   "source": [
    "obs estimate from Paolo"
   ]
  },
  {
   "cell_type": "code",
   "execution_count": null,
   "id": "22",
   "metadata": {},
   "outputs": [],
   "source": [
    "melt_Paolo = xr.open_dataset(inputpath_raw + 'basal_melt_Gt_Paolo23.nc')"
   ]
  },
  {
   "cell_type": "code",
   "execution_count": null,
   "id": "23",
   "metadata": {},
   "outputs": [],
   "source": [
    "melt_Paolo"
   ]
  },
  {
   "cell_type": "code",
   "execution_count": null,
   "id": "24",
   "metadata": {},
   "outputs": [],
   "source": [
    "f = figure_check_hist(sorted_isf_rignot,file_isf['isf_name'],davison_file['basal_melt_obs'],davison_file['basal_melt_unc'],\n",
    "                      Gt_allmod,obs2=melt_Paolo['melt_Gt'].mean('time'),obs2_unc=melt_Paolo['melt_Gt_unc'].mean('time'), obs2_bool=True)"
   ]
  },
  {
   "cell_type": "code",
   "execution_count": null,
   "id": "25",
   "metadata": {},
   "outputs": [],
   "source": [
    "f.savefig(plot_path + 'BMB_historical_check_anoISMIP.pdf')"
   ]
  },
  {
   "cell_type": "code",
   "execution_count": null,
   "id": "26",
   "metadata": {},
   "outputs": [],
   "source": [
    "f = figure_check_hist(sorted_isf_rignot,file_isf['isf_name'],davison_file['basal_melt_obs'],davison_file['basal_melt_unc'],\n",
    "                      Gt_allmod.isel(param=0).drop('param')*0,obs2=melt_Paolo['melt_Gt'].mean('time'),obs2_unc=melt_Paolo['melt_Gt_unc'].mean('time'), obs2_bool=True)"
   ]
  },
  {
   "cell_type": "code",
   "execution_count": null,
   "id": "27",
   "metadata": {},
   "outputs": [],
   "source": [
    "f.savefig(plot_path + 'compare_ref_BMB_davison_paolo.pdf')"
   ]
  },
  {
   "cell_type": "markdown",
   "id": "28",
   "metadata": {},
   "source": [
    "GL flux"
   ]
  },
  {
   "cell_type": "code",
   "execution_count": null,
   "id": "29",
   "metadata": {},
   "outputs": [],
   "source": [
    "GL_flux_ABUMIP = xr.open_dataset(outputpath_GL + 'all_GL_fluxes.nc')"
   ]
  },
  {
   "cell_type": "code",
   "execution_count": null,
   "id": "30",
   "metadata": {},
   "outputs": [],
   "source": [
    "f = figure_check_hist(sorted_isf_rignot,file_isf['isf_name'],davison_file['discharge_obs'],davison_file['discharge_unc'],\n",
    "                      Gt_allmod.isel(param=0).drop('param')*0,obs2=GL_flux_ABUMIP['flux_Gt_ref'],obs2_unc=GL_flux_ABUMIP['flux_Gt_ref']*0, obs2_bool=True)"
   ]
  },
  {
   "cell_type": "code",
   "execution_count": null,
   "id": "31",
   "metadata": {},
   "outputs": [],
   "source": [
    "f.savefig(plot_path + 'compare_GL_flux_davison_cyrille.pdf')"
   ]
  },
  {
   "cell_type": "markdown",
   "id": "32",
   "metadata": {},
   "source": [
    "BMB + CALVING - SMB"
   ]
  },
  {
   "cell_type": "code",
   "execution_count": null,
   "id": "33",
   "metadata": {},
   "outputs": [],
   "source": [
    "davison_file "
   ]
  },
  {
   "cell_type": "code",
   "execution_count": null,
   "id": "34",
   "metadata": {},
   "outputs": [],
   "source": [
    "mass_balance_davison = davison_file['basal_melt_obs'] - davison_file['SMB_obs'] + davison_file['calving_obs']\n",
    "mass_balance_davison_unc = np.sqrt(davison_file['basal_melt_unc']**2 + davison_file['SMB_unc']**2 + davison_file['calving_obs']**2)"
   ]
  },
  {
   "cell_type": "code",
   "execution_count": null,
   "id": "35",
   "metadata": {},
   "outputs": [],
   "source": [
    "mass_balance_simu = Gt_allmod - melt_atmo_all + davison_file['calving_obs']"
   ]
  },
  {
   "cell_type": "code",
   "execution_count": null,
   "id": "36",
   "metadata": {},
   "outputs": [],
   "source": [
    "f = figure_check_hist(sorted_isf_rignot,file_isf['isf_name'],mass_balance_davison,mass_balance_davison_unc,\n",
    "                      mass_balance_simu,obs2=GL_flux_ABUMIP['flux_Gt_ref'],obs2_unc=GL_flux_ABUMIP['flux_Gt_ref']*0, obs2_bool=False)"
   ]
  },
  {
   "cell_type": "code",
   "execution_count": null,
   "id": "37",
   "metadata": {},
   "outputs": [],
   "source": [
    "f.savefig(plot_path + 'alltogether_historical_check.pdf')"
   ]
  },
  {
   "cell_type": "code",
   "execution_count": null,
   "id": "38",
   "metadata": {},
   "outputs": [],
   "source": []
  }
 ],
 "metadata": {
  "kernelspec": {
   "display_name": "py38",
   "language": "python",
   "name": "py38"
  },
  "language_info": {
   "codemirror_mode": {
    "name": "ipython",
    "version": 3
   },
   "file_extension": ".py",
   "mimetype": "text/x-python",
   "name": "python",
   "nbconvert_exporter": "python",
   "pygments_lexer": "ipython3",
   "version": "3.8.12"
  }
 },
 "nbformat": 4,
 "nbformat_minor": 5
}
