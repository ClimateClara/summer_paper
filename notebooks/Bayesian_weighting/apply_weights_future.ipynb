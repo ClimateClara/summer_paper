{
 "cells": [
  {
   "cell_type": "code",
   "execution_count": null,
   "id": "eb8d41e0-915c-4196-ab18-1bcbb3cbaa3d",
   "metadata": {},
   "outputs": [],
   "source": [
    "\"\"\"\n",
    "Created on Wed Nov 22 17:27 2023\n",
    "\n",
    "Apply weights to future as well\n",
    "\n",
    "Author: @claraburgard\n",
    "\n",
    "\"\"\""
   ]
  },
  {
   "cell_type": "code",
   "execution_count": null,
   "id": "0e7d3b4e-1a88-46fa-ad8b-e18dbf6fced9",
   "metadata": {},
   "outputs": [],
   "source": [
    "import xarray as xr\n",
    "import numpy as np\n",
    "from tqdm.notebook import tqdm\n",
    "import seaborn as sns\n",
    "import multimelt.useful_functions as uf"
   ]
  },
  {
   "cell_type": "code",
   "execution_count": null,
   "id": "67d7f185-418f-4f79-b59f-d6352bd5a7cf",
   "metadata": {},
   "outputs": [],
   "source": [
    "sns.set_context('paper')"
   ]
  },
  {
   "cell_type": "code",
   "execution_count": null,
   "id": "f1805f3a-fe8b-4baf-9cd4-d5575d37ca83",
   "metadata": {},
   "outputs": [],
   "source": [
    "%matplotlib qt5"
   ]
  },
  {
   "cell_type": "markdown",
   "id": "0bdd946f-5999-4af9-9bf7-e4961a5cbd37",
   "metadata": {},
   "source": [
    "READ IN DATA"
   ]
  },
  {
   "cell_type": "code",
   "execution_count": null,
   "id": "ab8a41f9-5acb-4387-a8ad-0dd267fe1d57",
   "metadata": {},
   "outputs": [],
   "source": [
    "home_path = '/bettik/burgardc/'\n",
    "plot_path = '/bettik/burgardc/PLOTS/summer_paper_plots/'\n",
    "outputpath_GL = '/bettik/burgardc/DATA/SUMMER_PAPER/processed/GL_FLUX/'\n",
    "inputpath_weights = '/bettik/burgardc/DATA/SUMMER_PAPER/processed/ANALYSIS/'\n",
    "inputpath_atmo = '/bettik/burgardc/DATA/SUMMER_PAPER/raw/TS_SMB_DATA/out/'\n"
   ]
  },
  {
   "cell_type": "code",
   "execution_count": null,
   "id": "0791e75a-08fb-419b-a446-d0d345e2ef71",
   "metadata": {},
   "outputs": [],
   "source": [
    "inputpath_mask = home_path+'/DATA/SUMMER_PAPER/interim/ANTARCTICA_IS_MASKS/BedMachine_4km/'\n",
    "file_isf_orig = xr.open_dataset(inputpath_mask+'BedMachinev2_4km_isf_masks_and_info_and_distance_oneFRIS.nc')\n",
    "nonnan_Nisf = file_isf_orig['Nisf'].where(np.isfinite(file_isf_orig['front_bot_depth_max']), drop=True).astype(int)\n",
    "file_isf_nonnan = file_isf_orig.sel(Nisf=nonnan_Nisf)\n",
    "rignot_isf = file_isf_nonnan.Nisf.where(np.isfinite(file_isf_nonnan['isf_area_rignot']), drop=True)\n",
    "file_isf = file_isf_nonnan.sel(Nisf=rignot_isf)"
   ]
  },
  {
   "cell_type": "code",
   "execution_count": null,
   "id": "f8fe98f6-70fc-406c-85f3-b801af0286f9",
   "metadata": {},
   "outputs": [],
   "source": [
    "sorted_isf_rignot = [11,69,43,28,12,57,\n",
    "                     70,44,29,13,58,71,45,30,14,\n",
    "                     59,72,46,\n",
    "                     31,\n",
    "                     15,61,73,47,32,16,48,33,17,62,49,34,18,63,74,\n",
    "                     50,35,19,64,\n",
    "                     10,\n",
    "                     36,20,65,51,37,\n",
    "                     22,38,52,23,66,53,39,24,\n",
    "                     67,40,54,75,25,41,\n",
    "                     26,42,55,68,60,27]"
   ]
  },
  {
   "cell_type": "code",
   "execution_count": null,
   "id": "a73fb8fe-8fd8-4620-9c7d-29dcb3e44bc0",
   "metadata": {},
   "outputs": [],
   "source": [
    "param_classic_list = ['linear_local',\n",
    "              'quadratic_local','quadratic_local_locslope',\n",
    "              'quadratic_mixed_mean','quadratic_mixed_locslope',\n",
    "              'lazero19',\n",
    "              'boxes_4_pismyes_picopno']\n",
    "\n",
    "param_NN_list = ['NNsmall']"
   ]
  },
  {
   "cell_type": "markdown",
   "id": "8adce1b0-8348-403b-acb9-a31899603ad0",
   "metadata": {},
   "source": [
    "CALVING"
   ]
  },
  {
   "cell_type": "code",
   "execution_count": null,
   "id": "7c0cddc7-7b76-4925-8034-0fa00427a99c",
   "metadata": {},
   "outputs": [],
   "source": [
    "inputpath_caving = '/bettik/burgardc/DATA/SUMMER_PAPER/raw/'\n",
    "calving_flux = xr.open_dataset(inputpath_caving + 'calving_flux_rignot13.nc')\n",
    "calving_flux_davison = xr.open_dataset(inputpath_caving + 'calving_flux_davison23.nc')"
   ]
  },
  {
   "cell_type": "markdown",
   "id": "315acd10-146e-4d13-90f0-2602f4bf9cc6",
   "metadata": {},
   "source": [
    "ABUMIP GL FLUX"
   ]
  },
  {
   "cell_type": "code",
   "execution_count": null,
   "id": "e49c0e8d-e8b5-4803-9462-5bb4a791882d",
   "metadata": {},
   "outputs": [],
   "source": [
    "GL_flux_ABUMIP = xr.open_dataset(outputpath_GL + 'all_GL_fluxes.nc')"
   ]
  },
  {
   "cell_type": "markdown",
   "id": "cd0cfdbb-d7cf-493b-86d8-63e19df64e2c",
   "metadata": {},
   "source": [
    "SMB"
   ]
  },
  {
   "cell_type": "code",
   "execution_count": null,
   "id": "b8b4b27a-6c8b-4d0f-b062-927c4f9b7cf5",
   "metadata": {},
   "outputs": [],
   "source": [
    "melt_atmo_list2 = []\n",
    "for mod in ['CESM2','CNRM-CM6-1','IPSL-CM6A-LR','MPI-ESM1-2-HR','UKESM1-0-LL']:\n",
    "    melt_atmo_list = []\n",
    "    for scenario in ['historical','ssp585']:\n",
    "        if scenario == 'historical':\n",
    "            melt_atmo_scenario = xr.open_dataset(inputpath_atmo+mod+'_SMB_'+scenario+'-1980-2014.nc').sel(Nisf=rignot_isf)\n",
    "        else:\n",
    "            if mod == 'IPSL-CM6A-LR':\n",
    "                melt_atmo_scenario = xr.open_dataset(inputpath_atmo+mod+'_SMB_'+scenario+'-2015-2299.nc').sel(Nisf=rignot_isf)\n",
    "            else:\n",
    "                melt_atmo_scenario = xr.open_dataset(inputpath_atmo+mod+'_SMB_'+scenario+'-2015-2100.nc').sel(Nisf=rignot_isf)\n",
    "        melt_atmo_scenario['time'] = melt_atmo_scenario['time'].dt.year\n",
    "\n",
    "        melt_atmo_list.append(melt_atmo_scenario.assign_coords({'scenario': scenario}))\n",
    "    melt_atmo = xr.concat(melt_atmo_list, dim='scenario').sel(Nisf=rignot_isf)\n",
    "    melt_atmo_list2.append(melt_atmo.assign_coords({'model': mod}))\n",
    "melt_atmo_all = xr.concat(melt_atmo_list2, dim='model')\n"
   ]
  },
  {
   "cell_type": "markdown",
   "id": "237b2c22-42d6-4645-b88a-73359fe9b5d2",
   "metadata": {},
   "source": [
    "OCEAN"
   ]
  },
  {
   "cell_type": "code",
   "execution_count": null,
   "id": "8d67e6ab-a36b-4e4f-9995-f54236d447d3",
   "metadata": {},
   "outputs": [],
   "source": [
    "Gt_list_models = []\n",
    "box1_list_models = []\n",
    "\n",
    "for mod in ['CESM2','CNRM-CM6-1','IPSL-CM6A-LR','MPI-ESM1-2-HR','UKESM1-0-LL']:\n",
    "    outputpath_melt = '/bettik/burgardc/DATA/SUMMER_PAPER/processed/OCEAN_MELT_RATE_CMIP/'+mod+'/'\n",
    "\n",
    "    melt1D_list1 = []\n",
    "\n",
    "    for mparam in param_classic_list:\n",
    "\n",
    "        melt1D_scenario_list = []\n",
    "        for scenario in ['historical','ssp585']:\n",
    "            melt_1D = xr.open_dataset(outputpath_melt + 'eval_metrics_1D_'+mparam+'_'+scenario+'_oneFRIS.nc')\n",
    "            melt1D_scenario_list.append(melt_1D.assign_coords({'scenario': scenario}))\n",
    "        melt1D_scenario = xr.concat(melt1D_scenario_list, dim='scenario')\n",
    "        melt1D_list1.append(melt1D_scenario.assign_coords({'param':mparam}))\n",
    "    melt1D_classic = xr.concat(melt1D_list1, dim='param')       \n",
    "    Gt_classic = melt1D_classic['melt_1D_Gt_per_y']\n",
    "    box1_classic = melt1D_classic['melt_1D_mean_myr_box1']\n",
    "    \n",
    "    melt1D_list2 = []\n",
    "    for mparam in param_NN_list:\n",
    "\n",
    "        melt1D_scenario_list = []\n",
    "        for scenario in ['historical','ssp585']:\n",
    "            melt_1D = xr.open_dataset(outputpath_melt + 'evalmetrics_1D_'+mparam+'_'+scenario+'.nc')\n",
    "            melt1D_scenario_list.append(melt_1D.assign_coords({'scenario': scenario}))\n",
    "        melt1D_scenario = xr.concat(melt1D_scenario_list, dim='scenario')\n",
    "        melt1D_list2.append(melt1D_scenario.assign_coords({'param':mparam}))\n",
    "    melt1D_NN = xr.concat(melt1D_list2, dim='param')   \n",
    "    Gt_NN = melt1D_NN['predicted_melt'].sel(metrics='Gt')\n",
    "    box1_NN = melt1D_NN['predicted_melt'].sel(metrics='box1')\n",
    "    \n",
    "    Gt_all = xr.concat([Gt_classic, Gt_NN], dim='param')\n",
    "    box1_all = xr.concat([box1_classic, box1_NN], dim='param')\n",
    "    \n",
    "    Gt_list_models.append(Gt_all.assign_coords({'model':mod}))\n",
    "    box1_list_models.append(box1_all.assign_coords({'model':mod}))\n",
    "\n",
    "Gt_all_mod = xr.concat(Gt_list_models, dim='model')\n",
    "box1_all_mod = xr.concat(box1_list_models, dim='model')\n",
    "\n",
    "\n",
    "    \n",
    "    "
   ]
  },
  {
   "cell_type": "markdown",
   "id": "cc1e8e86-19a3-4571-a252-5109dffbab2f",
   "metadata": {},
   "source": [
    "MASS BALANCE"
   ]
  },
  {
   "cell_type": "code",
   "execution_count": null,
   "id": "403c81e3-a638-4b7b-8ad6-dad478cfdea6",
   "metadata": {},
   "outputs": [],
   "source": [
    "mass_balance_simu = Gt_all_mod - melt_atmo_all['SMB'] + calving_flux_davison['calving_flux'].sel(time=range(1997,2015)).mean('time')"
   ]
  },
  {
   "cell_type": "code",
   "execution_count": null,
   "id": "7673bf32-cbf3-4dee-a29b-d5e5b3e034c9",
   "metadata": {},
   "outputs": [],
   "source": [
    "bay_weights = xr.open_dataset(inputpath_weights + 'Bayesian_weights.nc')['bay_weights']"
   ]
  },
  {
   "cell_type": "code",
   "execution_count": null,
   "id": "8aceb3ea-89d7-4553-ac44-fb3836c3c92f",
   "metadata": {},
   "outputs": [],
   "source": [
    "sens_weights = xr.DataArray(data=np.array([0.06,0.10,0.12,0.43,0.05]), dims=['model']).assign_coords({'model': ['CESM2','CNRM-CM6-1','IPSL-CM6A-LR','MPI-ESM1-2-HR','UKESM1-0-LL']})"
   ]
  },
  {
   "cell_type": "code",
   "execution_count": null,
   "id": "3a78e8cb-f794-4696-be51-e9ad5fa7532d",
   "metadata": {},
   "outputs": [],
   "source": [
    "ensmean_weighted = uf.weighted_mean(mass_balance_simu, ['model','param'], bay_weights * sens_weights)\n",
    "#ensmean_nonweighted = mass_balance_simu.mean(['model','param'])"
   ]
  },
  {
   "cell_type": "code",
   "execution_count": null,
   "id": "57836244-5a9e-46ce-a7d8-9454fc36846d",
   "metadata": {},
   "outputs": [],
   "source": [
    "da_weighted = mass_balance_simu.weighted(bay_weights * sens_weights)"
   ]
  },
  {
   "cell_type": "code",
   "execution_count": null,
   "id": "75f5ec41-a242-446a-9c46-f62b5c7a6b8e",
   "metadata": {},
   "outputs": [],
   "source": [
    "ensstat_weighted = da_weighted.quantile([0.05,0.5,0.95],dim=['model','param'])\n"
   ]
  },
  {
   "cell_type": "code",
   "execution_count": null,
   "id": "a1a6e26c-1e6c-4676-9c53-b980de0fa932",
   "metadata": {},
   "outputs": [],
   "source": [
    "regions = ['Weddell','Bellingshausen','Amundsen','Ross','East 1','East 2','Dronning Maud Land']\n",
    "colors = ['red','orange','gold','mediumturquoise','maroon','magenta','cornflowerblue','lightseagreen',\n",
    "          'yellowgreen','royalblue','tomato','darkslateblue','purple','darkgoldenrod']\n",
    "\n",
    "f = plt.figure()\n",
    "f.set_size_inches(8.25*3, 8.25*3)\n",
    "\n",
    "ax={}\n",
    "\n",
    "leg_hdl = []\n",
    "\n",
    "i = 0\n",
    "\n",
    "\n",
    "for kisf in tqdm(sorted_isf_rignot):\n",
    "    \n",
    "    ax[i] = f.add_subplot(8,8,i+1)\n",
    "    \n",
    "    #melt_obs_kisf = mass_balance_obs.sel(Nisf=kisf).values\n",
    "    #melt_obs_unc_kisf = melt_Gt_all_Paolo['melt_Gt_unc'].max('time').sel(Nisf=kisf).values\n",
    "    #ax[i].axhline(y=melt_obs_kisf,color='k')\n",
    "    #ax[i].fill_between(x=np.arange(1992,2015), y1=melt_obs_kisf-melt_obs_unc_kisf, y2=melt_obs_kisf+melt_obs_unc_kisf, color='grey')\n",
    "    \n",
    "    mass_bal_hist = ensstat_weighted.sel(scenario='historical')\n",
    "    mass_bal_ssp = ensstat_weighted.sel(scenario='ssp585')\n",
    "    \n",
    "    ax[i].axhline(y=GL_flux_ABUMIP['flux_Gt_ABUMIP'].sel(Nisf=kisf), color='red')\n",
    "    \n",
    "    ax[i].plot(np.arange(1990,2015), mass_bal_hist.sel(quantile=0.5,time=range(1990,2015),Nisf=kisf), color='blue')\n",
    "    ax[i].fill_between(x=np.arange(1990,2015), y1=mass_bal_hist.sel(quantile=0.05,time=range(1990,2015),Nisf=kisf), y2=mass_bal_hist.sel(quantile=0.95,time=range(1990,2015),Nisf=kisf), color='blue',alpha=0.2)\n",
    "    ax[i].plot(np.arange(2015,2101), mass_bal_ssp.sel(quantile=0.5,time=range(2015,2101),Nisf=kisf), color='blue')\n",
    "    ax[i].fill_between(x=np.arange(2015,2101), y1=mass_bal_ssp.sel(quantile=0.05,time=range(2015,2101),Nisf=kisf), y2=mass_bal_ssp.sel(quantile=0.95,time=range(2015,2101),Nisf=kisf), color='blue',alpha=0.2)\n",
    "\n",
    "\n",
    "    #if kisf == 23:\n",
    "    #    ax[i].set_title('Tracy Tremenchus')\n",
    "    #elif kisf == 24:\n",
    "    #    ax[i].set_title('Conger/Glenzer')\n",
    "    #elif kisf == 110:\n",
    "    #    ax[i].set_title('Ekström')\n",
    "    #else:\n",
    "    ax[i].set_title(str(file_isf_orig['isf_name'].sel(Nisf=kisf).values))\n",
    "    #ax[i].set_xlim(0,60)\n",
    "    #ax[i].axvline(x=30, c='k', linestyle='--')\n",
    "\n",
    "    i = i+1\n",
    "\n",
    "#f.legend()\n",
    "#f.subplots_adjust(bottom=0.05, wspace=0.1)\n",
    "\n",
    "f.tight_layout()\n",
    "sns.despine()\n",
    "plt.savefig(plot_path+'massbalance_test_withobs_onlyChrismodels_ensmean_onlyweighted_ABUMIP.pdf')"
   ]
  },
  {
   "cell_type": "code",
   "execution_count": null,
   "id": "75114844-ff31-4fcd-9ea6-cb51e4b6a160",
   "metadata": {},
   "outputs": [],
   "source": []
  }
 ],
 "metadata": {
  "kernelspec": {
   "display_name": "py38",
   "language": "python",
   "name": "py38"
  },
  "language_info": {
   "codemirror_mode": {
    "name": "ipython",
    "version": 3
   },
   "file_extension": ".py",
   "mimetype": "text/x-python",
   "name": "python",
   "nbconvert_exporter": "python",
   "pygments_lexer": "ipython3",
   "version": "3.8.12"
  }
 },
 "nbformat": 4,
 "nbformat_minor": 5
}
