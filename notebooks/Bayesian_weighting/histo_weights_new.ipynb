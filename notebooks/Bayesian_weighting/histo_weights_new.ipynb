{
 "cells": [
  {
   "cell_type": "code",
   "execution_count": null,
   "id": "0",
   "metadata": {},
   "outputs": [],
   "source": [
    "\"\"\"\n",
    "\n",
    "Look at the distribution of the weights to make a figure out of it\n",
    "\n",
    "\"\"\""
   ]
  },
  {
   "cell_type": "code",
   "execution_count": null,
   "id": "1",
   "metadata": {},
   "outputs": [],
   "source": [
    "import xarray as xr\n",
    "import numpy as np\n",
    "from tqdm.notebook import tqdm\n",
    "import seaborn as sns\n",
    "import multimelt.useful_functions as uf\n",
    "import os\n",
    "#from xhistogram.xarray import histogram\n",
    "import scipy.io\n",
    "import matplotlib.pyplot as plt\n"
   ]
  },
  {
   "cell_type": "code",
   "execution_count": null,
   "id": "2",
   "metadata": {},
   "outputs": [],
   "source": [
    "sns.set_context('paper')"
   ]
  },
  {
   "cell_type": "code",
   "execution_count": null,
   "id": "3",
   "metadata": {},
   "outputs": [],
   "source": [
    "%matplotlib qt5"
   ]
  },
  {
   "cell_type": "markdown",
   "id": "4",
   "metadata": {},
   "source": [
    "READ IN DATA"
   ]
  },
  {
   "cell_type": "code",
   "execution_count": null,
   "id": "5",
   "metadata": {},
   "outputs": [],
   "source": [
    "home_path = '/bettik/burgardc/'\n",
    "plot_path = '/bettik/burgardc/PLOTS/summer_paper_plots/'\n",
    "outputpath_GL = '/bettik/burgardc/DATA/SUMMER_PAPER/processed/GL_FLUX/'\n",
    "outputpath_weights = '/bettik/burgardc/DATA/SUMMER_PAPER/processed/ANALYSIS/'\n",
    "inputpath_raw = '/bettik/burgardc/DATA/SUMMER_PAPER/raw/'\n",
    "inputpath_data=home_path+'/DATA/SUMMER_PAPER/interim/'\n",
    "inputpath_weights = '/bettik/burgardc/DATA/SUMMER_PAPER/processed/ANALYSIS/'\n"
   ]
  },
  {
   "cell_type": "code",
   "execution_count": null,
   "id": "6",
   "metadata": {},
   "outputs": [],
   "source": [
    "inputpath_mask = home_path+'/DATA/SUMMER_PAPER/interim/ANTARCTICA_IS_MASKS/BedMachine_4km/'\n",
    "file_isf_orig = xr.open_dataset(inputpath_mask+'BedMachinev2_4km_isf_masks_and_info_and_distance_oneFRIS.nc')\n",
    "nonnan_Nisf = file_isf_orig['Nisf'].where(np.isfinite(file_isf_orig['front_bot_depth_max']), drop=True).astype(int)\n",
    "file_isf_nonnan = file_isf_orig.sel(Nisf=nonnan_Nisf)\n",
    "rignot_isf = file_isf_nonnan.Nisf.where(np.isfinite(file_isf_nonnan['isf_area_rignot']), drop=True)\n",
    "file_isf = file_isf_nonnan.sel(Nisf=rignot_isf)"
   ]
  },
  {
   "cell_type": "code",
   "execution_count": null,
   "id": "7",
   "metadata": {},
   "outputs": [],
   "source": [
    "# make the domain a little smaller to make the computation even more efficient - file isf has already been made smaller at its creation\n",
    "map_lim = [-3000000,3000000]"
   ]
  },
  {
   "cell_type": "code",
   "execution_count": null,
   "id": "8",
   "metadata": {},
   "outputs": [],
   "source": [
    "BedMachine_orig = xr.open_dataset(inputpath_data+'BedMachine_v2_aggregated4km_allvars.nc')\n",
    "file_BedMachine = uf.cut_domain_stereo(BedMachine_orig, map_lim, map_lim)\n",
    "file_isf_conc = file_BedMachine['isf_conc']\n",
    "\n",
    "grid_cell_area_file = xr.open_dataset(inputpath_data+'gridarea_ISMIP6_AIS_4000m_grid.nc').sel(x=file_isf.x,y=file_isf.y)\n",
    "true_grid_cell_area = grid_cell_area_file['cell_area'].drop('lon').drop('lat')\n",
    "cell_area_weight = true_grid_cell_area/(4000 * 4000)\n",
    "\n",
    "lon = file_isf.longitude\n",
    "lat = file_isf.latitude\n",
    "\n",
    "xx = file_isf.x\n",
    "yy = file_isf.y\n",
    "dx = (xx[2] - xx[1]).values\n",
    "dy = (yy[2] - yy[1]).values\n",
    "grid_cell_area_const = abs(dx*dy)  \n",
    "grid_cell_area_weighted = file_isf_conc * grid_cell_area_const * cell_area_weight\n",
    "\n",
    "isf_stack_mask = uf.create_stacked_mask(file_isf['ISF_mask'], file_isf.Nisf, ['y','x'], 'mask_coord')\n"
   ]
  },
  {
   "cell_type": "code",
   "execution_count": null,
   "id": "9",
   "metadata": {},
   "outputs": [],
   "source": [
    "sorted_isf_rignot = [11,69,43,28,12,57,\n",
    "                     70,44,29,13,58,71,45,30,14,\n",
    "                     59,72,46,\n",
    "                     31,\n",
    "                     15,61,73,47,32,16,48,33,17,62,49,34,18,63,74,\n",
    "                     50,35,19,64,\n",
    "                     10,\n",
    "                     36,20,65,51,37,\n",
    "                     22,38,52,23,66,53,39,24,\n",
    "                     67,40,54,75,25,41,\n",
    "                     26,42,55,68,60,27]"
   ]
  },
  {
   "cell_type": "code",
   "execution_count": null,
   "id": "10",
   "metadata": {},
   "outputs": [],
   "source": [
    "weight_2300_file = xr.open_dataset(inputpath_weights + 'bayesian_weights_davison_varying_combined_2300_withoutGISS.nc')"
   ]
  },
  {
   "cell_type": "code",
   "execution_count": null,
   "id": "11",
   "metadata": {},
   "outputs": [],
   "source": [
    "bay_weights = weight_2300_file['bay_weights']"
   ]
  },
  {
   "cell_type": "code",
   "execution_count": null,
   "id": "12",
   "metadata": {},
   "outputs": [],
   "source": [
    "sens_weights = xr.DataArray(data=np.array([0.11,\n",
    "                                           0.24,\n",
    "                                           0.03,\n",
    "                                           0.10,\n",
    "                                           0.10,\n",
    "                                           0.10,\n",
    "                                           0.10,\n",
    "                                           0.24,\n",
    "                                           0.47,\n",
    "                                           0.41,\n",
    "                                           0.12,\n",
    "                                           0.43,\n",
    "                                           0.39,\n",
    "                                           0.05]), dims=['model']).assign_coords({'model': \n",
    "                                                                                  ['ACCESS-CM2','ACCESS-ESM1-5','CanESM5',\n",
    "                                                                                   'CESM2','CESM2-WACCM','CNRM-CM6-1','CNRM-ESM2-1',\n",
    "                                                                                   'GFDL-CM4','GFDL-ESM4','GISS-E2-1-H', 'IPSL-CM6A-LR',\n",
    "                                                                                   'MPI-ESM1-2-HR','MRI-ESM2-0','UKESM1-0-LL']})"
   ]
  },
  {
   "cell_type": "code",
   "execution_count": null,
   "id": "13",
   "metadata": {},
   "outputs": [],
   "source": [
    "model_2300 = ['ACCESS-CM2','ACCESS-ESM1-5','CanESM5','CESM2-WACCM', 'IPSL-CM6A-LR','MRI-ESM2-0','UKESM1-0-LL'] #,'GISS-E2-1-H'"
   ]
  },
  {
   "cell_type": "code",
   "execution_count": null,
   "id": "14",
   "metadata": {},
   "outputs": [],
   "source": []
  },
  {
   "cell_type": "code",
   "execution_count": null,
   "id": "15",
   "metadata": {},
   "outputs": [],
   "source": [
    "ddim = 'm' #'param','model','m'\n",
    "\n",
    "\n",
    "f = plt.figure()\n",
    "f.set_size_inches(8.25*1.2, 8.25*1.2)\n",
    "\n",
    "ax={}\n",
    "\n",
    "leg_hdl = []\n",
    "\n",
    "i = 0\n",
    "\n",
    "weight = bay_weights * sens_weights\n",
    "weight['param'] = ['linear','quadratic Ant slope','quadratic local slope','plume','box','neural network']\n",
    "weight['m'] = ['1','3','5']\n",
    "\n",
    "for kisf in tqdm(sorted_isf_rignot):\n",
    "    \n",
    "    ax[i] = f.add_subplot(8,8,i+1)\n",
    "    \n",
    "    weight_norm_kisf = weight.sel(Nisf=kisf, model=model_2300) / weight.sel(Nisf=kisf).sum(['param','model','m'])\n",
    "\n",
    "    if ddim == 'param':\n",
    "        weight_ddim = weight_norm_kisf.stack(stack_dim=['model','m'])\n",
    "    elif ddim == 'model':\n",
    "        weight_ddim = weight_norm_kisf.stack(stack_dim=['param','m'])\n",
    "    elif ddim == 'm':        \n",
    "        weight_ddim = weight_norm_kisf.stack(stack_dim=['param','model'])\n",
    "\n",
    "    bins = weight_ddim[ddim]\n",
    "    _, bin_edges = np.histogram(weight_ddim.values, bins=np.arange(len(bins)), weights=weight_ddim.values)\n",
    "\n",
    "    hist = weight_ddim.sum('stack_dim') # / weight_ddim.sum()\n",
    "\n",
    "    ax[i].bar(weight_ddim[ddim], hist,  edgecolor='None')#width=1,\n",
    "\n",
    "    #ax[i].set_title(ano_choice.sel(Nisf=kisf))\n",
    "\n",
    "    #if kisf == 23:\n",
    "    #    ax[i].set_title('Tracy Tremenchus')\n",
    "    #elif kisf == 24:#\n",
    "    #    ax[i].set_title('Conger/Glenzer')\n",
    "    #elif kisf == 110:\n",
    "    #    ax[i].set_title('Ekström')\n",
    "    #else:\n",
    "    ax[i].set_title(str(file_isf['isf_name'].sel(Nisf=kisf).values))\n",
    "    #if file_isf['isf_name'].sel(Nisf=kisf).values not in ['Larsen B', 'Wordie']:\n",
    "    #    ax[i].set_ylim(0,mass_balance_simu_anoISMIP.sel(Nisf=kisf).max().values)\n",
    "    #ax[i].axvline(x=30, c='k', linestyle='--')\n",
    "    \n",
    "    if i < 56:\n",
    "        ax[i].set_xticklabels('')\n",
    "    if i not in [0,8,16,24,32,40,48,56]:\n",
    "        ax[i].set_yticklabels('')\n",
    "        \n",
    "    i = i+1\n",
    "\n",
    "    plt.xticks(rotation=90)\n",
    "#f.legend()\n",
    "#f.subplots_adjust(bottom=0.05, wspace=0.1)\n",
    "\n",
    "f.tight_layout()\n",
    "sns.despine()\n",
    "f.savefig(plot_path + 'histo_weights_per_iceshelf_2300_'+ddim+'.pdf')"
   ]
  },
  {
   "cell_type": "code",
   "execution_count": null,
   "id": "16",
   "metadata": {},
   "outputs": [],
   "source": [
    "weight.sel(model=model_2300).stack(stack_dim=['model','m','Nisf']).sum('stack_dim')"
   ]
  },
  {
   "cell_type": "code",
   "execution_count": null,
   "id": "17",
   "metadata": {},
   "outputs": [],
   "source": [
    "f = plt.figure()\n",
    "f.set_size_inches(8.25/2, 8.25/2)\n",
    "    \n",
    "#weight_norm_kisf = weight.sel(model=model_2300) / weight.sum(['param','model','m'])\n",
    "\n",
    "hist = weight.sel(model=model_2300).sum(['Nisf','model','m'])\n",
    "plt.bar(weight['param'], hist,  edgecolor='None')\n",
    "plt.xticks(rotation=90)\n",
    "f.tight_layout()\n",
    "sns.despine()\n",
    "f.savefig(plot_path + 'histo_weights_2300_param_summedallisf.pdf')"
   ]
  },
  {
   "cell_type": "code",
   "execution_count": null,
   "id": "18",
   "metadata": {},
   "outputs": [],
   "source": [
    "weight"
   ]
  },
  {
   "cell_type": "code",
   "execution_count": null,
   "id": "19",
   "metadata": {},
   "outputs": [],
   "source": []
  }
 ],
 "metadata": {
  "kernelspec": {
   "display_name": "py38",
   "language": "python",
   "name": "py38"
  },
  "language_info": {
   "codemirror_mode": {
    "name": "ipython",
    "version": 3
   },
   "file_extension": ".py",
   "mimetype": "text/x-python",
   "name": "python",
   "nbconvert_exporter": "python",
   "pygments_lexer": "ipython3",
   "version": "3.8.20"
  }
 },
 "nbformat": 4,
 "nbformat_minor": 5
}
