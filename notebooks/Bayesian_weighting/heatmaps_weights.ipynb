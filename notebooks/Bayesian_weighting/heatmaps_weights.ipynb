{
 "cells": [
  {
   "cell_type": "code",
   "execution_count": null,
   "id": "eb8d41e0-915c-4196-ab18-1bcbb3cbaa3d",
   "metadata": {},
   "outputs": [],
   "source": [
    "\"\"\"\n",
    "Created on Wed Nov 22 17:27 2023\n",
    "\n",
    "Apply weights to future as well\n",
    "\n",
    "Author: @claraburgard\n",
    "\n",
    "\"\"\""
   ]
  },
  {
   "cell_type": "code",
   "execution_count": 1,
   "id": "0e7d3b4e-1a88-46fa-ad8b-e18dbf6fced9",
   "metadata": {},
   "outputs": [],
   "source": [
    "import xarray as xr\n",
    "import numpy as np\n",
    "from tqdm.notebook import tqdm\n",
    "import seaborn as sns\n",
    "import multimelt.useful_functions as uf"
   ]
  },
  {
   "cell_type": "code",
   "execution_count": 2,
   "id": "67d7f185-418f-4f79-b59f-d6352bd5a7cf",
   "metadata": {},
   "outputs": [],
   "source": [
    "sns.set_context('paper')"
   ]
  },
  {
   "cell_type": "code",
   "execution_count": 3,
   "id": "f1805f3a-fe8b-4baf-9cd4-d5575d37ca83",
   "metadata": {},
   "outputs": [
    {
     "name": "stderr",
     "output_type": "stream",
     "text": [
      "QStandardPaths: XDG_RUNTIME_DIR not set, defaulting to '/tmp/runtime-burgardc'\n"
     ]
    }
   ],
   "source": [
    "%matplotlib qt5"
   ]
  },
  {
   "cell_type": "markdown",
   "id": "0bdd946f-5999-4af9-9bf7-e4961a5cbd37",
   "metadata": {},
   "source": [
    "READ IN DATA"
   ]
  },
  {
   "cell_type": "code",
   "execution_count": 4,
   "id": "ab8a41f9-5acb-4387-a8ad-0dd267fe1d57",
   "metadata": {},
   "outputs": [],
   "source": [
    "home_path = '/bettik/burgardc/'\n",
    "plot_path = '/bettik/burgardc/PLOTS/summer_paper_plots/'\n",
    "outputpath_GL = '/bettik/burgardc/DATA/SUMMER_PAPER/processed/GL_FLUX/'\n",
    "inputpath_weights = '/bettik/burgardc/DATA/SUMMER_PAPER/processed/ANALYSIS/'\n",
    "inputpath_atmo = '/bettik/burgardc/DATA/SUMMER_PAPER/raw/TS_SMB_DATA/out/'\n"
   ]
  },
  {
   "cell_type": "code",
   "execution_count": 5,
   "id": "0791e75a-08fb-419b-a446-d0d345e2ef71",
   "metadata": {},
   "outputs": [],
   "source": [
    "inputpath_mask = home_path+'/DATA/SUMMER_PAPER/interim/ANTARCTICA_IS_MASKS/BedMachine_4km/'\n",
    "file_isf_orig = xr.open_dataset(inputpath_mask+'BedMachinev2_4km_isf_masks_and_info_and_distance_oneFRIS.nc')\n",
    "nonnan_Nisf = file_isf_orig['Nisf'].where(np.isfinite(file_isf_orig['front_bot_depth_max']), drop=True).astype(int)\n",
    "file_isf_nonnan = file_isf_orig.sel(Nisf=nonnan_Nisf)\n",
    "rignot_isf = file_isf_nonnan.Nisf.where(np.isfinite(file_isf_nonnan['isf_area_rignot']), drop=True)\n",
    "file_isf = file_isf_nonnan.sel(Nisf=rignot_isf)"
   ]
  },
  {
   "cell_type": "code",
   "execution_count": 6,
   "id": "f8fe98f6-70fc-406c-85f3-b801af0286f9",
   "metadata": {},
   "outputs": [],
   "source": [
    "sorted_isf_rignot = [11,69,43,28,12,57,\n",
    "                     70,44,29,13,58,71,45,30,14,\n",
    "                     59,72,46,\n",
    "                     31,\n",
    "                     15,61,73,47,32,16,48,33,17,62,49,34,18,63,74,\n",
    "                     50,35,19,64,\n",
    "                     10,\n",
    "                     36,20,65,51,37,\n",
    "                     22,38,52,23,66,53,39,24,\n",
    "                     67,40,54,75,25,41,\n",
    "                     26,42,55,68,60,27]"
   ]
  },
  {
   "cell_type": "code",
   "execution_count": 7,
   "id": "a73fb8fe-8fd8-4620-9c7d-29dcb3e44bc0",
   "metadata": {},
   "outputs": [],
   "source": [
    "param_classic_list = ['linear_local',\n",
    "              'quadratic_local','quadratic_local_locslope',\n",
    "              'quadratic_mixed_mean','quadratic_mixed_locslope',\n",
    "              'lazero19',\n",
    "              'boxes_4_pismyes_picopno']\n",
    "\n",
    "param_NN_list = ['NNsmall']"
   ]
  },
  {
   "cell_type": "markdown",
   "id": "cc1e8e86-19a3-4571-a252-5109dffbab2f",
   "metadata": {},
   "source": [
    "READ IN WEIGHTS"
   ]
  },
  {
   "cell_type": "code",
   "execution_count": 8,
   "id": "7673bf32-cbf3-4dee-a29b-d5e5b3e034c9",
   "metadata": {},
   "outputs": [],
   "source": [
    "bay_weights = xr.open_dataset(inputpath_weights + 'bayesian_weights_davison.nc')['bay_weights']"
   ]
  },
  {
   "cell_type": "code",
   "execution_count": 9,
   "id": "8b2cb12c-bd39-4c8d-9acf-541492bed6a3",
   "metadata": {},
   "outputs": [],
   "source": [
    "bay_weights_meanNisf = bay_weights.mean('Nisf')"
   ]
  },
  {
   "cell_type": "code",
   "execution_count": 10,
   "id": "3d2d0e45-cb7e-4733-add9-f9f468a8db81",
   "metadata": {},
   "outputs": [
    {
     "name": "stderr",
     "output_type": "stream",
     "text": [
      "libGL error: No matching fbConfigs or visuals found\n",
      "libGL error: failed to load driver: swrast\n",
      "/tmp/ipykernel_5081/2539507994.py:9: UserWarning: FixedFormatter should only be used together with FixedLocator\n",
      "  axs.set_yticklabels(labels=plotted_var.model.values)\n",
      "/tmp/ipykernel_5081/2539507994.py:22: UserWarning: This figure includes Axes that are not compatible with tight_layout, so results might be incorrect.\n",
      "  plt.tight_layout()\n"
     ]
    }
   ],
   "source": [
    "plotted_var = bay_weights_meanNisf\n",
    "\n",
    "\n",
    "x = np.arange(len(plotted_var.param))\n",
    "y = np.arange(len(plotted_var.model))\n",
    "\n",
    "fig, axs = plt.subplots(1, 1,figsize=(8.25,8.25))\n",
    "ax0 = axs.imshow(plotted_var.values, cmap=plt.cm.Greens)\n",
    "axs.set_yticklabels(labels=plotted_var.model.values)\n",
    "\n",
    "axs.yaxis.tick_right()\n",
    "axs.set_yticks(y)\n",
    "axs.yaxis.tick_right()\n",
    "\n",
    "axs.xaxis.tick_top()    \n",
    "axs.set_xticks(x)\n",
    "axs.set_xticklabels(plotted_var.param.values, rotation=90)\n",
    "\n",
    "\n",
    "cb_ax = fig.add_axes([0.15, 0.08, 0.7, 0.02])\n",
    "cbar = fig.colorbar(ax0, cax=cb_ax, extend='both',orientation='horizontal')\n",
    "plt.tight_layout()\n",
    "fig.savefig(plot_path+'heatmap_bayesian_weights.pdf')"
   ]
  },
  {
   "cell_type": "code",
   "execution_count": 20,
   "id": "8aceb3ea-89d7-4553-ac44-fb3836c3c92f",
   "metadata": {},
   "outputs": [],
   "source": [
    "sens_weights = xr.DataArray(data=np.array([0.11,\n",
    "                                           0.24,\n",
    "                                           0.03,\n",
    "                                           0.10,\n",
    "                                           0.10,\n",
    "                                           0.10,\n",
    "                                           0.10,\n",
    "                                           0.24,\n",
    "                                           0.47,\n",
    "                                           0.41,\n",
    "                                           0.12,\n",
    "                                           0.43,\n",
    "                                           0.39,\n",
    "                                           0.05]), dims=['model']).assign_coords({'model': \n",
    "                                                                                  ['ACCESS-CM2','ACCESS-ESM1-5','CanESM5',\n",
    "                                                                                   'CESM2','CESM2-WACCM','CNRM-CM6-1','CNRM-ESM2-1',\n",
    "                                                                                   'GFDL-CM4','GFDL-ESM4','GISS-E2-1-H', 'IPSL-CM6A-LR',\n",
    "                                                                                   'MPI-ESM1-2-HR','MRI-ESM2-0','UKESM1-0-LL']})"
   ]
  },
  {
   "cell_type": "code",
   "execution_count": 21,
   "id": "817eee42-f55c-4e26-b197-8e83c2ba8cdd",
   "metadata": {},
   "outputs": [],
   "source": [
    "future_weight = bay_weights * sens_weights.sel(model=bay_weights.model)\n",
    "bay_weights_meanNisf = future_weight.mean('Nisf')"
   ]
  },
  {
   "cell_type": "code",
   "execution_count": 22,
   "id": "34dd2a95-2749-4f56-a8a9-41765b6beee4",
   "metadata": {},
   "outputs": [
    {
     "name": "stderr",
     "output_type": "stream",
     "text": [
      "/tmp/ipykernel_17883/3314147286.py:9: UserWarning: FixedFormatter should only be used together with FixedLocator\n",
      "  axs.set_yticklabels(labels=plotted_var.model.values)\n",
      "/tmp/ipykernel_17883/3314147286.py:22: UserWarning: This figure includes Axes that are not compatible with tight_layout, so results might be incorrect.\n",
      "  plt.tight_layout()\n"
     ]
    }
   ],
   "source": [
    "plotted_var = bay_weights_meanNisf\n",
    "\n",
    "\n",
    "x = np.arange(len(plotted_var.param))\n",
    "y = np.arange(len(plotted_var.model))\n",
    "\n",
    "fig, axs = plt.subplots(1, 1,figsize=(8.25,8.25))\n",
    "ax0 = axs.imshow(plotted_var.values, cmap=plt.cm.Greens)\n",
    "axs.set_yticklabels(labels=plotted_var.model.values)\n",
    "\n",
    "axs.yaxis.tick_right()\n",
    "axs.set_yticks(y)\n",
    "axs.yaxis.tick_right()\n",
    "\n",
    "axs.xaxis.tick_top()    \n",
    "axs.set_xticks(x)\n",
    "axs.set_xticklabels(plotted_var.param.values, rotation=90)\n",
    "\n",
    "\n",
    "cb_ax = fig.add_axes([0.15, 0.08, 0.7, 0.02])\n",
    "cbar = fig.colorbar(ax0, cax=cb_ax, extend='both',orientation='horizontal')\n",
    "plt.tight_layout()\n",
    "fig.savefig(plot_path+'heatmap_bayesianandsens_weights.pdf')"
   ]
  },
  {
   "cell_type": "code",
   "execution_count": null,
   "id": "2a970cc9-fa8c-4623-97a6-3e4feebad720",
   "metadata": {},
   "outputs": [],
   "source": []
  }
 ],
 "metadata": {
  "kernelspec": {
   "display_name": "py38",
   "language": "python",
   "name": "py38"
  },
  "language_info": {
   "codemirror_mode": {
    "name": "ipython",
    "version": 3
   },
   "file_extension": ".py",
   "mimetype": "text/x-python",
   "name": "python",
   "nbconvert_exporter": "python",
   "pygments_lexer": "ipython3",
   "version": "3.8.12"
  }
 },
 "nbformat": 4,
 "nbformat_minor": 5
}
