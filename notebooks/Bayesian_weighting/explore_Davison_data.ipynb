{
 "cells": [
  {
   "cell_type": "code",
   "execution_count": null,
   "id": "0",
   "metadata": {},
   "outputs": [],
   "source": [
    "\"\"\"\n",
    "Created on Fri Dec 08 15:01 2023\n",
    "\n",
    "Look at Davison masks and data\n",
    "\n",
    "Author: @claraburgard\n",
    "\n",
    "\"\"\""
   ]
  },
  {
   "cell_type": "code",
   "execution_count": null,
   "id": "1",
   "metadata": {},
   "outputs": [],
   "source": [
    "import xarray as xr\n",
    "import pandas as pd\n",
    "import numpy as np\n",
    "from tqdm.notebook import tqdm\n",
    "import seaborn as sns\n",
    "import multimelt.useful_functions as uf"
   ]
  },
  {
   "cell_type": "code",
   "execution_count": null,
   "id": "2",
   "metadata": {},
   "outputs": [],
   "source": [
    "sns.set_context('paper')"
   ]
  },
  {
   "cell_type": "code",
   "execution_count": null,
   "id": "3",
   "metadata": {},
   "outputs": [],
   "source": [
    "%matplotlib qt5"
   ]
  },
  {
   "cell_type": "code",
   "execution_count": null,
   "id": "4",
   "metadata": {},
   "outputs": [],
   "source": [
    "home_path = '/bettik/burgardc/'\n",
    "plot_path = '/bettik/burgardc/PLOTS/summer_paper_plots/'\n",
    "outputpath_GL = '/bettik/burgardc/DATA/SUMMER_PAPER/processed/GL_FLUX/'\n",
    "outputpath_weights = '/bettik/burgardc/DATA/SUMMER_PAPER/processed/ANALYSIS/'\n",
    "inputpath_masks_Davison = '/bettik/burgardc/DATA/SUMMER_PAPER/raw/DAVISON_DATA/'\n",
    "inputpath_gridarea = '/bettik/burgardc/DATA/SUMMER_PAPER/interim/'"
   ]
  },
  {
   "cell_type": "code",
   "execution_count": null,
   "id": "5",
   "metadata": {},
   "outputs": [],
   "source": [
    "inputpath_mask = home_path+'/DATA/SUMMER_PAPER/interim/ANTARCTICA_IS_MASKS/BedMachine_4km/'\n",
    "file_isf_orig = xr.open_dataset(inputpath_mask+'BedMachinev2_4km_isf_masks_and_info_and_distance_oneFRIS.nc')\n",
    "nonnan_Nisf = file_isf_orig['Nisf'].where(np.isfinite(file_isf_orig['front_bot_depth_max']), drop=True).astype(int)\n",
    "file_isf_nonnan = file_isf_orig.sel(Nisf=nonnan_Nisf)\n",
    "rignot_isf = file_isf_nonnan.Nisf.where(np.isfinite(file_isf_nonnan['isf_area_rignot']), drop=True)\n",
    "file_isf = file_isf_nonnan.sel(Nisf=rignot_isf)"
   ]
  },
  {
   "cell_type": "code",
   "execution_count": null,
   "id": "6",
   "metadata": {},
   "outputs": [],
   "source": [
    "sorted_isf_rignot = [11,69,43,28,12,57,\n",
    "                     70,44,29,13,58,71,45,30,14,\n",
    "                     59,72,46,\n",
    "                     31,\n",
    "                     15,61,73,47,32,16,48,33,17,62,49,34,18,63,74,\n",
    "                     50,35,19,64,\n",
    "                     10,\n",
    "                     36,20,65,51,37,\n",
    "                     22,38,52,23,66,53,39,24,\n",
    "                     67,40,54,75,25,41,\n",
    "                     26,42,55,68,60,27]"
   ]
  },
  {
   "cell_type": "code",
   "execution_count": null,
   "id": "7",
   "metadata": {},
   "outputs": [],
   "source": [
    "mask_intersect = xr.open_dataset(inputpath_masks_Davison + 'mask_intersect_davison.nc')['Band1'].rename({'lon':'x','lat':'y'})\n",
    "mask_union = xr.open_dataset(inputpath_masks_Davison + 'mask_union_davison.nc')['Band1'].rename({'lon':'x','lat':'y'})\n",
    "names_csv = pd.read_csv(inputpath_masks_Davison + 'Basin_id.csv', index_col=0)\n",
    "#names_xr = names_csv.to_xarray()"
   ]
  },
  {
   "cell_type": "code",
   "execution_count": null,
   "id": "8",
   "metadata": {},
   "outputs": [],
   "source": [
    "gridarea = xr.open_dataset(inputpath_gridarea + 'gridarea_ISMIP6_AIS_4000m_grid.nc')['cell_area']"
   ]
  },
  {
   "cell_type": "code",
   "execution_count": null,
   "id": "9",
   "metadata": {},
   "outputs": [],
   "source": [
    "file_isf['isf_name'].sel(Nisf=48).load()"
   ]
  },
  {
   "cell_type": "code",
   "execution_count": null,
   "id": "10",
   "metadata": {},
   "outputs": [],
   "source": [
    "davison_idx1.values"
   ]
  },
  {
   "cell_type": "code",
   "execution_count": null,
   "id": "11",
   "metadata": {},
   "outputs": [],
   "source": [
    "area_here_list = []\n",
    "area_union_list = []\n",
    "area_intersect_list = []\n",
    "\n",
    "for kisf in tqdm(sorted_isf_rignot):\n",
    "    \n",
    "    nname = file_isf['isf_name'].sel(Nisf=kisf).values\n",
    "    \n",
    "    area_here = ((file_isf['ISF_mask'] == kisf) * gridarea).sum()\n",
    "    area_here_list.append(area_here.assign_coords({'Nisf': kisf}))\n",
    "    \n",
    "    if nname == 'Filchner-Ronne':\n",
    "        davison_idx1 = names_csv.loc['Filchner'].values\n",
    "        davison_idx2 = names_csv.loc['Ronne'].values\n",
    "        \n",
    "        area_union =  (((mask_union == davison_idx1) | (mask_union == davison_idx2)) * gridarea).sum()\n",
    "        area_intersect =  (((mask_intersect == davison_idx1) | (mask_intersect == davison_idx2)) * gridarea).sum()\n",
    "        \n",
    "    elif nname == 'Ross':\n",
    "        davison_idx1 = names_csv.loc['Ross_East'].values\n",
    "        davison_idx2 = names_csv.loc['Ross_West'].values\n",
    "        \n",
    "        area_union =  (((mask_union == davison_idx1) | (mask_union == davison_idx2)) * gridarea).sum()\n",
    "        area_intersect =  (((mask_intersect == davison_idx1) | (mask_intersect == davison_idx2)) * gridarea).sum()\n",
    "    \n",
    "    else:\n",
    "        \n",
    "        if nname == 'Vincennes Bay':\n",
    "            davison_idx  = names_csv.loc['Vincennes_Bay']\n",
    "\n",
    "        elif nname == 'George VI':\n",
    "            davison_idx  = names_csv.loc['George_VI']\n",
    "\n",
    "        elif nname == 'Larsen B':\n",
    "            davison_idx  = names_csv.loc['Larsen_B']\n",
    "        elif nname == 'Larsen C':\n",
    "            davison_idx  = names_csv.loc['Larsen_C']\n",
    "        elif nname == 'Larsen D':\n",
    "            davison_idx  = names_csv.loc['Larsen_D']\n",
    "        elif nname == 'Larsen E':\n",
    "            davison_idx  = names_csv.loc['Larsen_E']\n",
    "        elif nname == 'Larsen F':\n",
    "            davison_idx  = names_csv.loc['Larsen_F']\n",
    "        elif nname == 'Larsen G':\n",
    "            davison_idx  = names_csv.loc['Larsen_G']\n",
    "        elif nname == 'Prince Harald':\n",
    "            davison_idx  = names_csv.loc['Prince_Harald']\n",
    "        elif nname == 'Moscow Univ.':\n",
    "            davison_idx  = names_csv.loc['Moscow_University']\n",
    "        elif nname == 'Riiser-Larsen':\n",
    "            davison_idx  = names_csv.loc['Riiser_Larsen']\n",
    "        elif nname == 'Conger/Glenzer':\n",
    "            davison_idx  = names_csv.loc['Conger_Glenzer']\n",
    "        elif nname == 'Roi Baudouin':\n",
    "            davison_idx  = names_csv.loc['Baudouin']\n",
    "        elif nname == 'Wilma/Robert/Downer':\n",
    "            davison_idx  = names_csv.loc['Wilma_Robert_Downer']\n",
    "        elif nname == 'Tracy Tremenchus':\n",
    "            davison_idx  = names_csv.loc['Tracy_Tremenchus']\n",
    "        elif nname == 'Rayner/Thyer':\n",
    "            davison_idx  = names_csv.loc['Rayner_Thyer']\n",
    "        elif nname == 'Pine Island':\n",
    "            davison_idx  = names_csv.loc['Pine_Island']\n",
    "        elif nname == 'Stancomb Brunt':\n",
    "            davison_idx  = names_csv.loc['Brunt_Stancomb']\n",
    "        elif nname == 'Edward VIII':\n",
    "            davison_idx  = names_csv.loc['Edward_VIII']\n",
    "        else:\n",
    "            davison_idx  = names_csv.loc[nname]\n",
    "        \n",
    "        area_union =  ((mask_union == davison_idx.values) * gridarea).sum()\n",
    "        area_intersect =  ((mask_intersect == davison_idx.values) * gridarea).sum()\n",
    "        \n",
    "    area_union_list.append(area_union.assign_coords({'Nisf': kisf}))   \n",
    "    area_intersect_list.append(area_intersect.assign_coords({'Nisf': kisf})) \n",
    "\n",
    "area_here_all = xr.concat(area_here_list, dim='Nisf')\n",
    "area_union_all = xr.concat(area_union_list, dim='Nisf')\n",
    "area_intersect_all = xr.concat(area_intersect_list, dim='Nisf')"
   ]
  },
  {
   "cell_type": "code",
   "execution_count": null,
   "id": "12",
   "metadata": {},
   "outputs": [],
   "source": [
    "plt.figure()\n",
    "plt.scatter(area_here_all/10**10,area_union_all/10**10,label='union')\n",
    "plt.scatter(area_here_all/10**10,area_intersect_all/10**10,label='intersect')\n",
    "plt.plot(range(8),range(8))\n",
    "plt.xlim(0,8)\n",
    "plt.ylim(0,8)\n",
    "plt.legend()\n",
    "sns.despine()"
   ]
  },
  {
   "cell_type": "code",
   "execution_count": null,
   "id": "13",
   "metadata": {},
   "outputs": [],
   "source": [
    "plt.figure()\n",
    "plt.scatter(area_here_all/10**10,area_union_all/10**10,label='union')\n",
    "plt.scatter(area_here_all/10**10,area_intersect_all/10**10,label='intersect')\n",
    "plt.plot(range(60),range(60))\n",
    "#plt.xlim(0,8)\n",
    "#plt.ylim(0,8)\n",
    "plt.legend()\n",
    "sns.despine()"
   ]
  },
  {
   "cell_type": "code",
   "execution_count": null,
   "id": "14",
   "metadata": {},
   "outputs": [],
   "source": [
    "area_here_all.where(area_here_all > 6e10, drop=True)"
   ]
  },
  {
   "cell_type": "code",
   "execution_count": null,
   "id": "15",
   "metadata": {},
   "outputs": [],
   "source": []
  }
 ],
 "metadata": {
  "kernelspec": {
   "display_name": "py38",
   "language": "python",
   "name": "py38"
  },
  "language_info": {
   "codemirror_mode": {
    "name": "ipython",
    "version": 3
   },
   "file_extension": ".py",
   "mimetype": "text/x-python",
   "name": "python",
   "nbconvert_exporter": "python",
   "pygments_lexer": "ipython3",
   "version": "3.8.12"
  }
 },
 "nbformat": 4,
 "nbformat_minor": 5
}
