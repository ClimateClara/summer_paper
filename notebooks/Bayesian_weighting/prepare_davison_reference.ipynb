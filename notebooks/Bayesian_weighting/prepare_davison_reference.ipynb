{
 "cells": [
  {
   "cell_type": "code",
   "execution_count": null,
   "id": "0",
   "metadata": {},
   "outputs": [],
   "source": [
    "\"\"\"\n",
    "Prepare Davison et al. 2023 steady state to use in summer paper\n",
    "\n",
    "\"\"\""
   ]
  },
  {
   "cell_type": "code",
   "execution_count": null,
   "id": "1",
   "metadata": {},
   "outputs": [],
   "source": [
    "import xarray as xr\n",
    "import pandas as pd\n",
    "import seaborn as sns\n",
    "from tqdm.notebook import tqdm"
   ]
  },
  {
   "cell_type": "code",
   "execution_count": null,
   "id": "2",
   "metadata": {},
   "outputs": [],
   "source": [
    "sns.set_context('paper')"
   ]
  },
  {
   "cell_type": "code",
   "execution_count": null,
   "id": "3",
   "metadata": {},
   "outputs": [],
   "source": [
    "%matplotlib qt5"
   ]
  },
  {
   "cell_type": "markdown",
   "id": "4",
   "metadata": {},
   "source": [
    "READ IN DATA"
   ]
  },
  {
   "cell_type": "code",
   "execution_count": null,
   "id": "5",
   "metadata": {},
   "outputs": [],
   "source": [
    "home_path = '/bettik/burgardc/'"
   ]
  },
  {
   "cell_type": "code",
   "execution_count": null,
   "id": "6",
   "metadata": {},
   "outputs": [],
   "source": [
    "inputpath_mask = home_path+'/DATA/SUMMER_PAPER/interim/ANTARCTICA_IS_MASKS/BedMachine_4km/'\n",
    "file_isf_orig = xr.open_dataset(inputpath_mask+'BedMachinev2_4km_isf_masks_and_info_and_distance_oneFRIS.nc')\n",
    "nonnan_Nisf = file_isf_orig['Nisf'].where(np.isfinite(file_isf_orig['front_bot_depth_max']), drop=True).astype(int)\n",
    "file_isf_nonnan = file_isf_orig.sel(Nisf=nonnan_Nisf)\n",
    "rignot_isf = file_isf_nonnan.Nisf.where(np.isfinite(file_isf_nonnan['isf_area_rignot']), drop=True)\n",
    "file_isf = file_isf_nonnan.sel(Nisf=rignot_isf)\n",
    "    \n",
    "plot_path='/bettik/burgardc/PLOTS/summer_paper_plots/'"
   ]
  },
  {
   "cell_type": "code",
   "execution_count": null,
   "id": "7",
   "metadata": {},
   "outputs": [],
   "source": [
    "inputpath_davison = home_path+'/DATA/SUMMER_PAPER/raw/'\n",
    "file_davison_pd = pd.read_csv(inputpath_davison + 'Data_Davison_SteadyState.csv',delimiter=';',header=0,index_col=0).dropna(how='all',axis=1)"
   ]
  },
  {
   "cell_type": "code",
   "execution_count": null,
   "id": "8",
   "metadata": {},
   "outputs": [],
   "source": [
    "file_davison = file_davison_pd.to_xarray()"
   ]
  },
  {
   "cell_type": "code",
   "execution_count": null,
   "id": "9",
   "metadata": {},
   "outputs": [],
   "source": [
    "file_davison.isel(ice_shelf=0)"
   ]
  },
  {
   "cell_type": "code",
   "execution_count": null,
   "id": "10",
   "metadata": {},
   "outputs": [],
   "source": [
    "row_list = []\n",
    "for kisf in tqdm(file_isf.Nisf):\n",
    "    nname = file_isf['isf_name'].sel(Nisf=kisf).values\n",
    "    \n",
    "    if nname == 'Filchner-Ronne':\n",
    "        abs_values = file_davison[['discharge_obs','basal_melt_obs','calving_obs','SMB_obs']].sel(ice_shelf='Filchner').drop('ice_shelf') + file_davison[['discharge_obs','basal_melt_obs','calving_obs','SMB_obs']].sel(ice_shelf='Ronne').drop('ice_shelf')\n",
    "        unc_values = np.sqrt(file_davison[['discharge_unc','basal_melt_unc','calving_unc','SMB_unc']].sel(ice_shelf='Filchner').drop('ice_shelf')**2 \n",
    "                            + file_davison[['discharge_unc','basal_melt_unc','calving_unc','SMB_unc']].sel(ice_shelf='Ronne').drop('ice_shelf')**2)\n",
    "        davison_row = xr.merge([abs_values,unc_values])\n",
    "    elif nname == 'Ross':\n",
    "        abs_values = file_davison[['discharge_obs','basal_melt_obs','calving_obs','SMB_obs']].sel(ice_shelf='Ross_East').drop('ice_shelf') + file_davison[['discharge_obs','basal_melt_obs','calving_obs','SMB_obs']].sel(ice_shelf='Ross_West').drop('ice_shelf')\n",
    "        unc_values = np.sqrt(file_davison[['discharge_unc','basal_melt_unc','calving_unc','SMB_unc']].sel(ice_shelf='Ross_East').drop('ice_shelf')**2 \n",
    "                             + file_davison[['discharge_unc','basal_melt_unc','calving_unc','SMB_unc']].sel(ice_shelf='Ross_West').drop('ice_shelf')**2)\n",
    "        davison_row = xr.merge([abs_values,unc_values])\n",
    "        \n",
    "    elif nname == 'Vincennes Bay':\n",
    "        davison_row  = file_davison.sel(ice_shelf='Vincennes_Bay').drop('ice_shelf')\n",
    "    elif nname == 'George VI':\n",
    "        davison_row  = file_davison.sel(ice_shelf='George_VI').drop('ice_shelf')\n",
    "    elif nname == 'Larsen B':\n",
    "        davison_row  = file_davison.sel(ice_shelf='Larsen_B').drop('ice_shelf')\n",
    "    elif nname == 'Larsen C':\n",
    "        davison_row  = file_davison.sel(ice_shelf='Larsen_C').drop('ice_shelf')\n",
    "    elif nname == 'Larsen D':\n",
    "        davison_row  = file_davison.sel(ice_shelf='Larsen_D').drop('ice_shelf')\n",
    "    elif nname == 'Larsen E':\n",
    "        davison_row  = file_davison.sel(ice_shelf='Larsen_E').drop('ice_shelf')\n",
    "    elif nname == 'Larsen F':\n",
    "        davison_row  = file_davison.sel(ice_shelf='Larsen_F').drop('ice_shelf')\n",
    "    elif nname == 'Larsen G':\n",
    "        davison_row  = file_davison.sel(ice_shelf='Larsen_G').drop('ice_shelf')\n",
    "    elif nname == 'Prince Harald':\n",
    "        davison_row  = file_davison.sel(ice_shelf='Prince_Harald').drop('ice_shelf')\n",
    "    elif nname == 'Moscow Univ.':\n",
    "        davison_row  = file_davison.sel(ice_shelf='Moscow_University').drop('ice_shelf')\n",
    "    elif nname == 'Riiser-Larsen':\n",
    "        davison_row  = file_davison.sel(ice_shelf='Riiser_Larsen').drop('ice_shelf')\n",
    "    elif nname == 'Conger/Glenzer':\n",
    "        davison_row  = file_davison.sel(ice_shelf='Conger_Glenzer').drop('ice_shelf')\n",
    "    elif nname == 'Roi Baudouin':\n",
    "        davison_row  = file_davison.sel(ice_shelf='Baudouin').drop('ice_shelf')\n",
    "    elif nname == 'Wilma/Robert/Downer':\n",
    "        davison_row  = file_davison.sel(ice_shelf='Wilma_Robert_Downer').drop('ice_shelf')\n",
    "    elif nname == 'Tracy Tremenchus':\n",
    "        davison_row  = file_davison.sel(ice_shelf='Tracy_Tremenchus').drop('ice_shelf')\n",
    "    elif nname == 'Rayner/Thyer':\n",
    "        davison_row  = file_davison.sel(ice_shelf='Rayner_Thyer').drop('ice_shelf')\n",
    "    elif nname == 'Pine Island':\n",
    "        davison_row  = file_davison.sel(ice_shelf='Pine_Island').drop('ice_shelf')\n",
    "    elif nname == 'Stancomb Brunt':\n",
    "        davison_row  = file_davison.sel(ice_shelf='Brunt_Stancomb').drop('ice_shelf')\n",
    "    elif nname == 'Edward VIII':\n",
    "        davison_row  = file_davison.sel(ice_shelf='Edward_VIII').drop('ice_shelf')\n",
    "    else:\n",
    "        davison_row  = file_davison.sel(ice_shelf=nname).drop('ice_shelf')\n",
    "    \n",
    "    row_list.append(davison_row.assign_coords({'Nisf': kisf}))\n",
    "    \n",
    "new_ds = xr.concat(row_list, dim='Nisf')"
   ]
  },
  {
   "cell_type": "code",
   "execution_count": null,
   "id": "11",
   "metadata": {},
   "outputs": [],
   "source": [
    "new_ds.to_netcdf(inputpath_davison + 'steadystate_davison23.nc')"
   ]
  },
  {
   "cell_type": "code",
   "execution_count": null,
   "id": "12",
   "metadata": {},
   "outputs": [],
   "source": [
    "test_allvv"
   ]
  },
  {
   "cell_type": "code",
   "execution_count": null,
   "id": "13",
   "metadata": {},
   "outputs": [],
   "source": [
    "test_allvv_list = []\n",
    "for vv in ['discharge','SMB','calving','melt']:\n",
    "    test_pd_abs = pd.read_csv(inputpath_davison + 'Davison23_'+vv+'_abs.csv',delimiter=';',header=0,index_col=0).dropna(how='all',axis=1)\n",
    "    test_pd_unc = pd.read_csv(inputpath_davison + 'Davison23_'+vv+'_unc.csv',delimiter=';',header=0,index_col=0).dropna(how='all',axis=1)\n",
    "\n",
    "    test_list = []\n",
    "    for ccol in test_pd.columns:\n",
    "        test_float_abs = test_pd_abs[ccol].str.replace('[A-Za-z]', '').str.replace(',', '.').astype(float)\n",
    "        test_float_unc = test_pd_unc[ccol].str.replace('[A-Za-z]', '').str.replace(',', '.').astype(float)\n",
    "\n",
    "        test_list.append(xr.merge([test_float_abs.to_xarray().rename(vv+'_abs').assign_coords({'time': int(ccol)}),\n",
    "                                  test_float_unc.to_xarray().rename(vv+'_unc').assign_coords({'time': int(ccol)})]))\n",
    "    test_allyy = xr.concat(test_list, dim='time')\n",
    "    test_allvv_list.append(test_allyy)\n",
    "test_allvv = xr.merge(test_allvv_list)    \n",
    "test_allvv = test_allvv.rename({'Ice shelf':'ice_shelf'})"
   ]
  },
  {
   "cell_type": "code",
   "execution_count": null,
   "id": "14",
   "metadata": {},
   "outputs": [],
   "source": [
    "test_allvv.rename({'Ice shelf':'ice_shelf'})"
   ]
  },
  {
   "cell_type": "code",
   "execution_count": null,
   "id": "15",
   "metadata": {},
   "outputs": [],
   "source": [
    "row_list = []\n",
    "for kisf in tqdm(file_isf.Nisf):\n",
    "    nname = file_isf['isf_name'].sel(Nisf=kisf).values\n",
    "    \n",
    "    if nname == 'Filchner-Ronne':\n",
    "        abs_values = test_allvv[['discharge_abs','melt_abs','calving_abs','SMB_abs']].sel(ice_shelf='Filchner').drop('ice_shelf') + test_allvv[['discharge_abs','melt_abs','calving_abs','SMB_abs']].sel(ice_shelf='Ronne').drop('ice_shelf')\n",
    "        unc_values = np.sqrt(test_allvv[['discharge_unc','melt_unc','calving_unc','SMB_unc']].sel(ice_shelf='Filchner').drop('ice_shelf')**2 \n",
    "                            + test_allvv[['discharge_unc','melt_unc','calving_unc','SMB_unc']].sel(ice_shelf='Ronne').drop('ice_shelf')**2)\n",
    "        davison_row = xr.merge([abs_values,unc_values])\n",
    "    elif nname == 'Ross':\n",
    "        abs_values = test_allvv[['discharge_abs','melt_abs','calving_abs','SMB_abs']].sel(ice_shelf='Ross_East').drop('ice_shelf') + test_allvv[['discharge_abs','melt_abs','calving_abs','SMB_abs']].sel(ice_shelf='Ross_West').drop('ice_shelf')\n",
    "        unc_values = np.sqrt(test_allvv[['discharge_unc','melt_unc','calving_unc','SMB_unc']].sel(ice_shelf='Ross_East').drop('ice_shelf')**2 \n",
    "                             + test_allvv[['discharge_unc','melt_unc','calving_unc','SMB_unc']].sel(ice_shelf='Ross_West').drop('ice_shelf')**2)\n",
    "        davison_row = xr.merge([abs_values,unc_values])\n",
    "        \n",
    "    elif nname == 'Vincennes Bay':\n",
    "        davison_row  = test_allvv.sel(ice_shelf='Vincennes_Bay').drop('ice_shelf')\n",
    "    elif nname == 'George VI':\n",
    "        davison_row  = test_allvv.sel(ice_shelf='George_VI').drop('ice_shelf')\n",
    "    elif nname == 'Larsen B':\n",
    "        davison_row  = test_allvv.sel(ice_shelf='Larsen_B').drop('ice_shelf')\n",
    "    elif nname == 'Larsen C':\n",
    "        davison_row  = test_allvv.sel(ice_shelf='Larsen_C').drop('ice_shelf')\n",
    "    elif nname == 'Larsen D':\n",
    "        davison_row  = test_allvv.sel(ice_shelf='Larsen_D').drop('ice_shelf')\n",
    "    elif nname == 'Larsen E':\n",
    "        davison_row  = test_allvv.sel(ice_shelf='Larsen_E').drop('ice_shelf')\n",
    "    elif nname == 'Larsen F':\n",
    "        davison_row  = test_allvv.sel(ice_shelf='Larsen_F').drop('ice_shelf')\n",
    "    elif nname == 'Larsen G':\n",
    "        davison_row  = test_allvv.sel(ice_shelf='Larsen_G').drop('ice_shelf')\n",
    "    elif nname == 'Prince Harald':\n",
    "        davison_row  = test_allvv.sel(ice_shelf='Prince_Harald').drop('ice_shelf')\n",
    "    elif nname == 'Moscow Univ.':\n",
    "        davison_row  = test_allvv.sel(ice_shelf='Moscow_University').drop('ice_shelf')\n",
    "    elif nname == 'Riiser-Larsen':\n",
    "        davison_row  = test_allvv.sel(ice_shelf='Riiser_Larsen').drop('ice_shelf')\n",
    "    elif nname == 'Conger/Glenzer':\n",
    "        davison_row  = test_allvv.sel(ice_shelf='Conger_Glenzer').drop('ice_shelf')\n",
    "    elif nname == 'Roi Baudouin':\n",
    "        davison_row  = test_allvv.sel(ice_shelf='Baudouin').drop('ice_shelf')\n",
    "    elif nname == 'Wilma/Robert/Downer':\n",
    "        davison_row  = test_allvv.sel(ice_shelf='Wilma_Robert_Downer').drop('ice_shelf')\n",
    "    elif nname == 'Tracy Tremenchus':\n",
    "        davison_row  = test_allvv.sel(ice_shelf='Tracy_Tremenchus').drop('ice_shelf')\n",
    "    elif nname == 'Rayner/Thyer':\n",
    "        davison_row  = test_allvv.sel(ice_shelf='Rayner_Thyer').drop('ice_shelf')\n",
    "    elif nname == 'Pine Island':\n",
    "        davison_row  = test_allvv.sel(ice_shelf='Pine_Island').drop('ice_shelf')\n",
    "    elif nname == 'Stancomb Brunt':\n",
    "        davison_row  = test_allvv.sel(ice_shelf='Brunt_Stancomb').drop('ice_shelf')\n",
    "    elif nname == 'Edward VIII':\n",
    "        davison_row  = test_allvv.sel(ice_shelf='Edward_VIII').drop('ice_shelf')\n",
    "    else:\n",
    "        davison_row  = test_allvv.sel(ice_shelf=nname).drop('ice_shelf')\n",
    "    \n",
    "    row_list.append(davison_row.assign_coords({'Nisf': kisf}))\n",
    "    \n",
    "new_ds = xr.concat(row_list, dim='Nisf')"
   ]
  },
  {
   "cell_type": "code",
   "execution_count": null,
   "id": "16",
   "metadata": {},
   "outputs": [],
   "source": [
    "new_ds.to_netcdf(inputpath_davison + 'varying_conditions_davison23.nc')"
   ]
  },
  {
   "cell_type": "markdown",
   "id": "17",
   "metadata": {},
   "source": [
    "CHANGING AREA FOR EVERY YEAR"
   ]
  },
  {
   "cell_type": "code",
   "execution_count": null,
   "id": "18",
   "metadata": {},
   "outputs": [],
   "source": [
    "file_greene_pd = pd.read_csv(inputpath_davison + 'Greene22_area_abs.csv',delimiter=';',header=0,index_col=1).dropna(how='all',axis=1)"
   ]
  },
  {
   "cell_type": "code",
   "execution_count": null,
   "id": "19",
   "metadata": {},
   "outputs": [],
   "source": [
    "test_allyy"
   ]
  },
  {
   "cell_type": "code",
   "execution_count": null,
   "id": "20",
   "metadata": {},
   "outputs": [],
   "source": [
    "file_greene_pd = pd.read_csv(inputpath_davison + 'Greene22_area_abs.csv',delimiter=';',header=0,index_col=1).dropna(how='all',axis=1)    \n",
    "\n",
    "test_list = []\n",
    "for ccol in file_greene_pd.columns[1::]:\n",
    "    #print(ccol)\n",
    "    test_float_abs = file_greene_pd[ccol].str.replace('[A-Za-z]', '').str.replace(',', '.').astype(float)\n",
    "\n",
    "    test_list.append(test_float_abs.to_xarray().rename('area_abs').assign_coords({'time': int(ccol)}))\n",
    "test_allyy = xr.concat(test_list, dim='time').rename({'Ice Shelf':'ice_shelf'})"
   ]
  },
  {
   "cell_type": "code",
   "execution_count": null,
   "id": "21",
   "metadata": {},
   "outputs": [],
   "source": [
    "row_list = []\n",
    "for kisf in tqdm(file_isf.Nisf):\n",
    "    nname = file_isf['isf_name'].sel(Nisf=kisf).values\n",
    "    \n",
    "    if nname == 'Filchner-Ronne':\n",
    "        davison_row = test_allyy.sel(ice_shelf='Filchner').drop('ice_shelf') + test_allyy.sel(ice_shelf='Ronne').drop('ice_shelf')\n",
    "\n",
    "    elif nname == 'Ross':\n",
    "        davison_row = test_allyy.sel(ice_shelf='Ross East').drop('ice_shelf') + test_allyy.sel(ice_shelf='Ross West').drop('ice_shelf')\n",
    "\n",
    "        \n",
    "    elif nname == 'Moscow Univ.':\n",
    "        davison_row  = test_allyy.sel(ice_shelf='Moscow University').drop('ice_shelf')\n",
    "    elif nname == 'Riiser-Larsen':\n",
    "        davison_row  = test_allyy.sel(ice_shelf='Riiser_Larsen').drop('ice_shelf')\n",
    "    elif nname == 'Conger/Glenzer':\n",
    "        davison_row  = test_allyy.sel(ice_shelf='Conger Glenzer').drop('ice_shelf')\n",
    "    elif nname == 'Roi Baudouin':\n",
    "        davison_row  = test_allyy.sel(ice_shelf='Baudouin').drop('ice_shelf')\n",
    "    elif nname == 'Wilma/Robert/Downer':\n",
    "        davison_row  = test_allyy.sel(ice_shelf='Wilma_Robert_Downer').drop('ice_shelf')\n",
    "    elif nname == 'Tracy Tremenchus':\n",
    "        davison_row  = test_allyy.sel(ice_shelf='Tracy_Tremenchus').drop('ice_shelf')\n",
    "    elif nname == 'Rayner/Thyer':\n",
    "        davison_row  = test_allyy.sel(ice_shelf='Rayner_Thyer').drop('ice_shelf')\n",
    "\n",
    "    elif nname == 'Stancomb Brunt':\n",
    "        davison_row  = test_allyy.sel(ice_shelf='Brunt_Stancomb').drop('ice_shelf')\n",
    "    elif nname == 'Edward VIII':\n",
    "        davison_row  = test_allyy.sel(ice_shelf='Edward_VIII').drop('ice_shelf')\n",
    "    else:\n",
    "        davison_row  = test_allyy.sel(ice_shelf=nname).drop('ice_shelf')\n",
    "    \n",
    "    row_list.append(davison_row.assign_coords({'Nisf': kisf}))\n",
    "    \n",
    "new_ds = xr.concat(row_list, dim='Nisf')"
   ]
  },
  {
   "cell_type": "code",
   "execution_count": null,
   "id": "22",
   "metadata": {},
   "outputs": [],
   "source": [
    "test_allyy.ice_shelf"
   ]
  },
  {
   "cell_type": "code",
   "execution_count": null,
   "id": "23",
   "metadata": {},
   "outputs": [],
   "source": []
  }
 ],
 "metadata": {
  "kernelspec": {
   "display_name": "py38",
   "language": "python",
   "name": "py38"
  },
  "language_info": {
   "codemirror_mode": {
    "name": "ipython",
    "version": 3
   },
   "file_extension": ".py",
   "mimetype": "text/x-python",
   "name": "python",
   "nbconvert_exporter": "python",
   "pygments_lexer": "ipython3",
   "version": "3.8.12"
  }
 },
 "nbformat": 4,
 "nbformat_minor": 5
}
