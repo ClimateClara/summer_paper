{
 "cells": [
  {
   "cell_type": "code",
   "execution_count": null,
   "id": "048458db-08ba-498f-9d03-8fe8ef4e96da",
   "metadata": {},
   "outputs": [],
   "source": [
    "\"\"\"\n",
    "Created on Wed Aug 09 16:56 2023\n",
    "\n",
    "Try to infer some Bayesian weights\n",
    "\n",
    "Author: @claraburgard\n",
    "\n",
    "\"\"\""
   ]
  },
  {
   "cell_type": "code",
   "execution_count": 1,
   "id": "39a6302e-6b2d-4fd0-8edf-525940569552",
   "metadata": {},
   "outputs": [],
   "source": [
    "import xarray as xr\n",
    "import numpy as np\n",
    "from tqdm.notebook import tqdm\n",
    "import seaborn as sns\n",
    "import multimelt.useful_functions as uf\n",
    "import os"
   ]
  },
  {
   "cell_type": "code",
   "execution_count": 2,
   "id": "01c7c72e-fddd-406a-852e-eec31c92b28a",
   "metadata": {},
   "outputs": [],
   "source": [
    "sns.set_context('paper')"
   ]
  },
  {
   "cell_type": "code",
   "execution_count": 3,
   "id": "54366694-1f4b-4731-aea0-d9592dd1b5dd",
   "metadata": {},
   "outputs": [
    {
     "name": "stderr",
     "output_type": "stream",
     "text": [
      "QStandardPaths: XDG_RUNTIME_DIR not set, defaulting to '/tmp/runtime-burgardc'\n"
     ]
    }
   ],
   "source": [
    "%matplotlib qt5"
   ]
  },
  {
   "cell_type": "code",
   "execution_count": 4,
   "id": "e7e3f2af-77cd-4d17-ab3d-1b1f74ef4bea",
   "metadata": {},
   "outputs": [],
   "source": [
    "home_path = '/bettik/burgardc/'\n",
    "plot_path = '/bettik/burgardc/PLOTS/summer_paper_plots/'\n",
    "outputpath_GL = '/bettik/burgardc/DATA/SUMMER_PAPER/processed/GL_FLUX/'\n",
    "outputpath_weights = '/bettik/burgardc/DATA/SUMMER_PAPER/processed/ANALYSIS/'\n",
    "inputpath_raw = '/bettik/burgardc/DATA/SUMMER_PAPER/raw/'"
   ]
  },
  {
   "cell_type": "code",
   "execution_count": 5,
   "id": "3e117f14-6535-4900-a2bf-589c84ac8835",
   "metadata": {},
   "outputs": [],
   "source": [
    "inputpath_mask = home_path+'/DATA/SUMMER_PAPER/interim/ANTARCTICA_IS_MASKS/BedMachine_4km/'\n",
    "file_isf_orig = xr.open_dataset(inputpath_mask+'BedMachinev2_4km_isf_masks_and_info_and_distance_oneFRIS.nc')\n",
    "nonnan_Nisf = file_isf_orig['Nisf'].where(np.isfinite(file_isf_orig['front_bot_depth_max']), drop=True).astype(int)\n",
    "file_isf_nonnan = file_isf_orig.sel(Nisf=nonnan_Nisf)\n",
    "rignot_isf = file_isf_nonnan.Nisf.where(np.isfinite(file_isf_nonnan['isf_area_rignot']), drop=True)\n",
    "file_isf = file_isf_nonnan.sel(Nisf=rignot_isf)"
   ]
  },
  {
   "cell_type": "code",
   "execution_count": 6,
   "id": "dd158eaa-22a0-4a03-84cb-509cae696509",
   "metadata": {},
   "outputs": [],
   "source": [
    "sorted_isf_rignot = [11,69,43,28,12,57,\n",
    "                     70,44,29,13,58,71,45,30,14,\n",
    "                     59,72,46,\n",
    "                     31,\n",
    "                     15,61,73,47,32,16,48,33,17,62,49,34,18,63,74,\n",
    "                     50,35,19,64,\n",
    "                     10,\n",
    "                     36,20,65,51,37,\n",
    "                     22,38,52,23,66,53,39,24,\n",
    "                     67,40,54,75,25,41,\n",
    "                     26,42,55,68,60,27]"
   ]
  },
  {
   "cell_type": "code",
   "execution_count": 7,
   "id": "b14df8c6-dd6f-46ff-8d4b-b0ac77cd898b",
   "metadata": {},
   "outputs": [],
   "source": [
    "inputpath_davison = home_path+'/DATA/SUMMER_PAPER/raw/'\n",
    "davison_file = xr.open_dataset(inputpath_davison + 'steadystate_davison23.nc')"
   ]
  },
  {
   "cell_type": "code",
   "execution_count": 8,
   "id": "447f3e90-ee8d-4365-ab6a-e895956ecfc5",
   "metadata": {},
   "outputs": [],
   "source": [
    "def figure_check_hist(isf_list,isf_name,obs,obs_unc,mod,obs2,obs2_unc,obs2_bool=False):\n",
    "    regions = ['Weddell','Bellingshausen','Amundsen','Ross','East 1','East 2','Dronning Maud Land']\n",
    "    colors = ['red','orange','gold','mediumturquoise','maroon','magenta','cornflowerblue','lightseagreen',\n",
    "              'yellowgreen','royalblue','tomato','darkslateblue','purple','darkgoldenrod']\n",
    "\n",
    "    f = plt.figure()\n",
    "    f.set_size_inches(8.25*3, 8.25*3)\n",
    "\n",
    "    ax={}\n",
    "\n",
    "    leg_hdl = []\n",
    "\n",
    "    i = 0\n",
    "\n",
    "\n",
    "    for kisf in tqdm(isf_list):\n",
    "\n",
    "        ax[i] = f.add_subplot(8,8,i+1)\n",
    "            \n",
    "            \n",
    "        for m,mmod in enumerate(mod.model):\n",
    "            if 'param' in mod.dims:\n",
    "                for n,mparam in enumerate(mod.param):\n",
    "\n",
    "                    ax[i].plot(mod.time, mod.sel(param=mparam,Nisf=kisf,model=mmod), color='grey', alpha=0.2)\n",
    "            else:\n",
    "                ax[i].plot(mod.time, mod.sel(Nisf=kisf,model=mmod), color=colors[m])\n",
    "                \n",
    "        melt_obs_kisf = obs.sel(Nisf=kisf).values\n",
    "        melt_obs_unc_kisf = obs_unc.sel(Nisf=kisf).values\n",
    "        ax[i].axhline(y=melt_obs_kisf,color='k')\n",
    "        ax[i].fill_between(x=np.arange(1980,2015), y1=melt_obs_kisf-melt_obs_unc_kisf, y2=melt_obs_kisf+melt_obs_unc_kisf, color='lightgrey')\n",
    "        \n",
    "        if obs2_bool:\n",
    "            \n",
    "            melt_obs_kisf = obs2.sel(Nisf=kisf).values\n",
    "            melt_obs_unc_kisf = obs2_unc.sel(Nisf=kisf).values\n",
    "            ax[i].axhline(y=melt_obs_kisf,color='k',linestyle='--')\n",
    "            ax[i].fill_between(x=np.arange(1980,2015), y1=melt_obs_kisf-melt_obs_unc_kisf, y2=melt_obs_kisf+melt_obs_unc_kisf, color='orange',alpha=0.3)\n",
    "\n",
    "\n",
    "        #if kisf == 23:\n",
    "        #    ax[i].set_title('Tracy Tremenchus')\n",
    "        #elif kisf == 24:\n",
    "        #    ax[i].set_title('Conger/Glenzer')\n",
    "        #elif kisf == 110:\n",
    "        #    ax[i].set_title('Ekström')\n",
    "        #else:\n",
    "        ax[i].set_title(str(isf_name.sel(Nisf=kisf).values))\n",
    "        #ax[i].set_xlim(0,60)\n",
    "        #ax[i].axvline(x=30, c='k', linestyle='--')\n",
    "\n",
    "        i = i+1\n",
    "\n",
    "    #f.legend()\n",
    "    #f.subplots_adjust(bottom=0.05, wspace=0.1)\n",
    "\n",
    "    f.tight_layout()\n",
    "    sns.despine()\n",
    "\n",
    "    return f"
   ]
  },
  {
   "cell_type": "markdown",
   "id": "2a28301a-eef3-4baa-a369-98b604d15336",
   "metadata": {},
   "source": [
    "SMB"
   ]
  },
  {
   "cell_type": "markdown",
   "id": "32d32bff-1f04-4cbb-beb8-c5868070f2b8",
   "metadata": {},
   "source": [
    "model"
   ]
  },
  {
   "cell_type": "code",
   "execution_count": 9,
   "id": "9ff8bb6f-9f0b-4990-a845-3b7c31d83a53",
   "metadata": {},
   "outputs": [],
   "source": [
    "inputpath_atmo_Chris = '/bettik/burgardc/DATA/SUMMER_PAPER/raw/TS_SMB_DATA/out/'\n",
    "inputpath_atmo_Nico = '/bettik/burgardc/DATA/SUMMER_PAPER/interim/SMB_EMULATED/'\n",
    "scenario = 'historical'\n",
    "\n",
    "melt_atmo_list = []\n",
    "for mod in ['CESM2','CNRM-CM6-1','IPSL-CM6A-LR','MPI-ESM1-2-HR','UKESM1-0-LL']:\n",
    "    if os.path.exists(inputpath_atmo_Chris+mod+'_SMB_'+scenario+'-1980-2014.nc'):\n",
    "        melt_atmo = xr.open_dataset(inputpath_atmo_Chris+mod+'_SMB_'+scenario+'-1980-2014.nc').sel(Nisf=rignot_isf)\n",
    "        melt_atmo['time'] = melt_atmo['time'].dt.year\n",
    "        melt_atmo_list.append(melt_atmo['SMB'].assign_coords({'model': mod}))\n",
    "    else:\n",
    "        melt_atmo = xr.open_dataset(inputpath_atmo_Nico+mod+'_SMB_'+scenario+'-1980-2014.nc').sel(Nisf=rignot_isf)\n",
    "        melt_atmo_list.append(melt_atmo['SMB'].assign_coords({'model': mod}))\n",
    "        \n",
    "for mod in ['ACCESS-ESM1-5','ACCESS-CM2','CESM2-WACCM','CNRM-ESM2-1',\n",
    "            'CanESM5','GFDL-CM4','GFDL-ESM4','GISS-E2-1-H', \n",
    "           'MRI-ESM2-0']:\n",
    "    melt_atmo = xr.open_dataset(inputpath_atmo_Nico+mod+'_SMB_'+scenario+'-1980-2014.nc').sel(Nisf=rignot_isf)\n",
    "    melt_atmo_list.append(melt_atmo['SMB'].assign_coords({'model': mod}))\n",
    "    \n",
    "melt_atmo_all = xr.concat(melt_atmo_list, dim='model')"
   ]
  },
  {
   "cell_type": "markdown",
   "id": "4b79d933-7d37-4c18-8b1b-c5833cc660ab",
   "metadata": {},
   "source": [
    "reanalysis"
   ]
  },
  {
   "cell_type": "code",
   "execution_count": 10,
   "id": "a1808ee1-78d8-4d8c-86e5-6d1656bc4e3e",
   "metadata": {},
   "outputs": [],
   "source": [
    "scenario = 'historical'\n",
    "SMB_ERA5 = xr.open_dataset(inputpath_atmo_Chris+'ERA5_SMB_historical-1980-2014.nc').sel(Nisf=rignot_isf)\n",
    "SMB_ERA5['time'] = SMB_ERA5['time'].dt.year"
   ]
  },
  {
   "cell_type": "code",
   "execution_count": 11,
   "id": "0e6f585b-57ab-4ce5-8119-3b28c1eab9ba",
   "metadata": {},
   "outputs": [
    {
     "name": "stderr",
     "output_type": "stream",
     "text": [
      "libGL error: No matching fbConfigs or visuals found\n",
      "libGL error: failed to load driver: swrast\n"
     ]
    },
    {
     "data": {
      "application/vnd.jupyter.widget-view+json": {
       "model_id": "6669dd61d89548fa82166b2315c7b528",
       "version_major": 2,
       "version_minor": 0
      },
      "text/plain": [
       "  0%|          | 0/64 [00:00<?, ?it/s]"
      ]
     },
     "metadata": {},
     "output_type": "display_data"
    }
   ],
   "source": [
    "f = figure_check_hist(sorted_isf_rignot,file_isf['isf_name'],davison_file['SMB_obs'],davison_file['SMB_unc'],\n",
    "                      melt_atmo_all,obs2=SMB_ERA5['SMBorg'].mean('time'),obs2_unc=SMB_ERA5['SMBorg'].mean('time')*0, obs2_bool=True)"
   ]
  },
  {
   "cell_type": "code",
   "execution_count": null,
   "id": "a89b79c8-e748-4175-9a2a-cc94b7a594bd",
   "metadata": {},
   "outputs": [],
   "source": [
    "f.savefig(plot_path + 'SMB_historical_check_with_SMBorigChris.pdf')"
   ]
  },
  {
   "cell_type": "markdown",
   "id": "543a5b61-90c5-4747-bdd2-30585baec87a",
   "metadata": {},
   "source": [
    "BASAL MELT"
   ]
  },
  {
   "cell_type": "markdown",
   "id": "1ba147af-6bf4-4b73-812e-2a55e44a0ce8",
   "metadata": {},
   "source": [
    "model"
   ]
  },
  {
   "cell_type": "code",
   "execution_count": 12,
   "id": "ba46f7ac-de83-4ff6-a7f6-98ddf5d5a1c4",
   "metadata": {},
   "outputs": [],
   "source": [
    "param_classic_list = ['linear_local',\n",
    "              'quadratic_local','quadratic_local_locslope',\n",
    "              'lazero19',\n",
    "              'boxes_4_pismyes_picopno']\n",
    "\n",
    "param_NN_list = ['NNsmall']"
   ]
  },
  {
   "cell_type": "code",
   "execution_count": 16,
   "id": "3e808955-62d7-424c-8c31-da269f715523",
   "metadata": {},
   "outputs": [],
   "source": [
    "## Melt outputpath\n",
    "Gt_allmod_list = []\n",
    "box1_allmod_list = []\n",
    "\n",
    "scenario = 'historical'\n",
    "for mod in ['ACCESS-ESM1-5','ACCESS-CM2','CESM2','CESM2-WACCM','CNRM-CM6-1','CNRM-ESM2-1',\n",
    "            'CanESM5','GFDL-CM4','GFDL-ESM4','GISS-E2-1-H', 'IPSL-CM6A-LR',\n",
    "           'MPI-ESM1-2-HR','MRI-ESM2-0','UKESM1-0-LL']:\n",
    "#for mod in ['CESM2','CNRM-CM6-1','IPSL-CM6A-LR','MPI-ESM1-2-HR','UKESM1-0-LL']:\n",
    "    \n",
    "    outputpath_melt = '/bettik/burgardc/DATA/SUMMER_PAPER/processed/OCEAN_MELT_RATE_CMIP/'+mod+'/'\n",
    "\n",
    "    melt1D_list = []\n",
    "    for mparam in param_classic_list:\n",
    "        melt1D_scenario = xr.open_dataset(outputpath_melt + 'eval_metrics_1D_'+mparam+'_'+scenario+'_oneFRIS_anoISMIP.nc')\n",
    "        melt1D_list.append(melt1D_scenario.assign_coords({'param':mparam}))\n",
    "    melt1D_classic = xr.concat(melt1D_list, dim='param')       \n",
    "    Gt_classic = melt1D_classic['melt_1D_Gt_per_y']\n",
    "\n",
    "    melt1D_list = []\n",
    "    for mparam in param_NN_list:\n",
    "        melt1D_scenario = xr.open_dataset(outputpath_melt + 'evalmetrics_1D_'+mparam+'_'+scenario+'_anoISMIP.nc')\n",
    "        melt1D_list.append(melt1D_scenario.assign_coords({'param':mparam}))\n",
    "    melt1D_NN = xr.concat(melt1D_list, dim='param')   \n",
    "    Gt_NN = melt1D_NN['predicted_melt'].sel(metrics='Gt')\n",
    "\n",
    "    Gt_all = xr.concat([Gt_classic, Gt_NN], dim='param')\n",
    "    \n",
    "    Gt_allmod_list.append(Gt_all.assign_coords({'model': mod}))\n",
    "\n",
    "Gt_allmod = xr.concat(Gt_allmod_list, dim='model')\n",
    "    "
   ]
  },
  {
   "cell_type": "markdown",
   "id": "37e1f354-c46d-44de-9baf-b7e20ce0a12f",
   "metadata": {},
   "source": [
    "obs estimate from Paolo"
   ]
  },
  {
   "cell_type": "code",
   "execution_count": 17,
   "id": "2b9cf8d7-0847-491f-9ce0-a82f7a3c9725",
   "metadata": {},
   "outputs": [],
   "source": [
    "melt_Paolo = xr.open_dataset(inputpath_raw + 'basal_melt_Gt_Paolo23.nc')"
   ]
  },
  {
   "cell_type": "code",
   "execution_count": null,
   "id": "9c175882-123d-4cdf-80af-17ce12f54ad5",
   "metadata": {},
   "outputs": [],
   "source": [
    "melt_Paolo"
   ]
  },
  {
   "cell_type": "code",
   "execution_count": 19,
   "id": "437e3ccf-1f32-4a59-a5f8-e32b943b951b",
   "metadata": {},
   "outputs": [
    {
     "data": {
      "application/vnd.jupyter.widget-view+json": {
       "model_id": "a943c9c59f574428bb210db8613651ee",
       "version_major": 2,
       "version_minor": 0
      },
      "text/plain": [
       "  0%|          | 0/64 [00:00<?, ?it/s]"
      ]
     },
     "metadata": {},
     "output_type": "display_data"
    }
   ],
   "source": [
    "f = figure_check_hist(sorted_isf_rignot,file_isf['isf_name'],davison_file['basal_melt_obs'],davison_file['basal_melt_unc'],\n",
    "                      Gt_allmod,obs2=melt_Paolo['melt_Gt'].mean('time'),obs2_unc=melt_Paolo['melt_Gt_unc'].mean('time'), obs2_bool=True)"
   ]
  },
  {
   "cell_type": "code",
   "execution_count": 20,
   "id": "909c29de-4e31-47b2-bb51-b8af09fe9954",
   "metadata": {},
   "outputs": [],
   "source": [
    "f.savefig(plot_path + 'BMB_historical_check_anoISMIP.pdf')"
   ]
  },
  {
   "cell_type": "code",
   "execution_count": 19,
   "id": "18159a2f-e3e8-4457-95a4-2f3e66f639a3",
   "metadata": {},
   "outputs": [
    {
     "data": {
      "application/vnd.jupyter.widget-view+json": {
       "model_id": "7c49166bbbfb4a5588a0cf652a56cb94",
       "version_major": 2,
       "version_minor": 0
      },
      "text/plain": [
       "  0%|          | 0/64 [00:00<?, ?it/s]"
      ]
     },
     "metadata": {},
     "output_type": "display_data"
    }
   ],
   "source": [
    "f = figure_check_hist(sorted_isf_rignot,file_isf['isf_name'],davison_file['basal_melt_obs'],davison_file['basal_melt_unc'],\n",
    "                      Gt_allmod.isel(param=0).drop('param')*0,obs2=melt_Paolo['melt_Gt'].mean('time'),obs2_unc=melt_Paolo['melt_Gt_unc'].mean('time'), obs2_bool=True)"
   ]
  },
  {
   "cell_type": "code",
   "execution_count": 20,
   "id": "4497ce27-a0d6-4282-9ebc-ae113c37d842",
   "metadata": {},
   "outputs": [],
   "source": [
    "f.savefig(plot_path + 'compare_ref_BMB_davison_paolo.pdf')"
   ]
  },
  {
   "cell_type": "markdown",
   "id": "5dd0a24f-91e3-4096-b8c0-17dc25aa6f5a",
   "metadata": {},
   "source": [
    "GL flux"
   ]
  },
  {
   "cell_type": "code",
   "execution_count": 18,
   "id": "d2cc6e7b-22ee-4013-abe8-ac55ae51549f",
   "metadata": {},
   "outputs": [],
   "source": [
    "GL_flux_ABUMIP = xr.open_dataset(outputpath_GL + 'all_GL_fluxes.nc')"
   ]
  },
  {
   "cell_type": "code",
   "execution_count": 26,
   "id": "2a215842-a12c-4b31-9f91-712b6a68b42e",
   "metadata": {},
   "outputs": [
    {
     "data": {
      "application/vnd.jupyter.widget-view+json": {
       "model_id": "8b900e2181ae426ebe8d259dc31cb114",
       "version_major": 2,
       "version_minor": 0
      },
      "text/plain": [
       "  0%|          | 0/64 [00:00<?, ?it/s]"
      ]
     },
     "metadata": {},
     "output_type": "display_data"
    }
   ],
   "source": [
    "f = figure_check_hist(sorted_isf_rignot,file_isf['isf_name'],davison_file['discharge_obs'],davison_file['discharge_unc'],\n",
    "                      Gt_allmod.isel(param=0).drop('param')*0,obs2=GL_flux_ABUMIP['flux_Gt_ref'],obs2_unc=GL_flux_ABUMIP['flux_Gt_ref']*0, obs2_bool=True)"
   ]
  },
  {
   "cell_type": "code",
   "execution_count": 25,
   "id": "5a02b725-10a2-4039-944c-364c50bcee27",
   "metadata": {},
   "outputs": [],
   "source": [
    "f.savefig(plot_path + 'compare_GL_flux_davison_cyrille.pdf')"
   ]
  },
  {
   "cell_type": "markdown",
   "id": "ac4482d3-0fc3-4175-85d1-96639f3b208f",
   "metadata": {},
   "source": [
    "BMB + CALVING - SMB"
   ]
  },
  {
   "cell_type": "code",
   "execution_count": 27,
   "id": "0df03b55-9945-4361-b164-9b3bf7cb4aef",
   "metadata": {},
   "outputs": [
    {
     "data": {
      "text/html": [
       "<div><svg style=\"position: absolute; width: 0; height: 0; overflow: hidden\">\n",
       "<defs>\n",
       "<symbol id=\"icon-database\" viewBox=\"0 0 32 32\">\n",
       "<path d=\"M16 0c-8.837 0-16 2.239-16 5v4c0 2.761 7.163 5 16 5s16-2.239 16-5v-4c0-2.761-7.163-5-16-5z\"></path>\n",
       "<path d=\"M16 17c-8.837 0-16-2.239-16-5v6c0 2.761 7.163 5 16 5s16-2.239 16-5v-6c0 2.761-7.163 5-16 5z\"></path>\n",
       "<path d=\"M16 26c-8.837 0-16-2.239-16-5v6c0 2.761 7.163 5 16 5s16-2.239 16-5v-6c0 2.761-7.163 5-16 5z\"></path>\n",
       "</symbol>\n",
       "<symbol id=\"icon-file-text2\" viewBox=\"0 0 32 32\">\n",
       "<path d=\"M28.681 7.159c-0.694-0.947-1.662-2.053-2.724-3.116s-2.169-2.030-3.116-2.724c-1.612-1.182-2.393-1.319-2.841-1.319h-15.5c-1.378 0-2.5 1.121-2.5 2.5v27c0 1.378 1.122 2.5 2.5 2.5h23c1.378 0 2.5-1.122 2.5-2.5v-19.5c0-0.448-0.137-1.23-1.319-2.841zM24.543 5.457c0.959 0.959 1.712 1.825 2.268 2.543h-4.811v-4.811c0.718 0.556 1.584 1.309 2.543 2.268zM28 29.5c0 0.271-0.229 0.5-0.5 0.5h-23c-0.271 0-0.5-0.229-0.5-0.5v-27c0-0.271 0.229-0.5 0.5-0.5 0 0 15.499-0 15.5 0v7c0 0.552 0.448 1 1 1h7v19.5z\"></path>\n",
       "<path d=\"M23 26h-14c-0.552 0-1-0.448-1-1s0.448-1 1-1h14c0.552 0 1 0.448 1 1s-0.448 1-1 1z\"></path>\n",
       "<path d=\"M23 22h-14c-0.552 0-1-0.448-1-1s0.448-1 1-1h14c0.552 0 1 0.448 1 1s-0.448 1-1 1z\"></path>\n",
       "<path d=\"M23 18h-14c-0.552 0-1-0.448-1-1s0.448-1 1-1h14c0.552 0 1 0.448 1 1s-0.448 1-1 1z\"></path>\n",
       "</symbol>\n",
       "</defs>\n",
       "</svg>\n",
       "<style>/* CSS stylesheet for displaying xarray objects in jupyterlab.\n",
       " *\n",
       " */\n",
       "\n",
       ":root {\n",
       "  --xr-font-color0: var(--jp-content-font-color0, rgba(0, 0, 0, 1));\n",
       "  --xr-font-color2: var(--jp-content-font-color2, rgba(0, 0, 0, 0.54));\n",
       "  --xr-font-color3: var(--jp-content-font-color3, rgba(0, 0, 0, 0.38));\n",
       "  --xr-border-color: var(--jp-border-color2, #e0e0e0);\n",
       "  --xr-disabled-color: var(--jp-layout-color3, #bdbdbd);\n",
       "  --xr-background-color: var(--jp-layout-color0, white);\n",
       "  --xr-background-color-row-even: var(--jp-layout-color1, white);\n",
       "  --xr-background-color-row-odd: var(--jp-layout-color2, #eeeeee);\n",
       "}\n",
       "\n",
       "html[theme=dark],\n",
       "body[data-theme=dark],\n",
       "body.vscode-dark {\n",
       "  --xr-font-color0: rgba(255, 255, 255, 1);\n",
       "  --xr-font-color2: rgba(255, 255, 255, 0.54);\n",
       "  --xr-font-color3: rgba(255, 255, 255, 0.38);\n",
       "  --xr-border-color: #1F1F1F;\n",
       "  --xr-disabled-color: #515151;\n",
       "  --xr-background-color: #111111;\n",
       "  --xr-background-color-row-even: #111111;\n",
       "  --xr-background-color-row-odd: #313131;\n",
       "}\n",
       "\n",
       ".xr-wrap {\n",
       "  display: block !important;\n",
       "  min-width: 300px;\n",
       "  max-width: 700px;\n",
       "}\n",
       "\n",
       ".xr-text-repr-fallback {\n",
       "  /* fallback to plain text repr when CSS is not injected (untrusted notebook) */\n",
       "  display: none;\n",
       "}\n",
       "\n",
       ".xr-header {\n",
       "  padding-top: 6px;\n",
       "  padding-bottom: 6px;\n",
       "  margin-bottom: 4px;\n",
       "  border-bottom: solid 1px var(--xr-border-color);\n",
       "}\n",
       "\n",
       ".xr-header > div,\n",
       ".xr-header > ul {\n",
       "  display: inline;\n",
       "  margin-top: 0;\n",
       "  margin-bottom: 0;\n",
       "}\n",
       "\n",
       ".xr-obj-type,\n",
       ".xr-array-name {\n",
       "  margin-left: 2px;\n",
       "  margin-right: 10px;\n",
       "}\n",
       "\n",
       ".xr-obj-type {\n",
       "  color: var(--xr-font-color2);\n",
       "}\n",
       "\n",
       ".xr-sections {\n",
       "  padding-left: 0 !important;\n",
       "  display: grid;\n",
       "  grid-template-columns: 150px auto auto 1fr 20px 20px;\n",
       "}\n",
       "\n",
       ".xr-section-item {\n",
       "  display: contents;\n",
       "}\n",
       "\n",
       ".xr-section-item input {\n",
       "  display: none;\n",
       "}\n",
       "\n",
       ".xr-section-item input + label {\n",
       "  color: var(--xr-disabled-color);\n",
       "}\n",
       "\n",
       ".xr-section-item input:enabled + label {\n",
       "  cursor: pointer;\n",
       "  color: var(--xr-font-color2);\n",
       "}\n",
       "\n",
       ".xr-section-item input:enabled + label:hover {\n",
       "  color: var(--xr-font-color0);\n",
       "}\n",
       "\n",
       ".xr-section-summary {\n",
       "  grid-column: 1;\n",
       "  color: var(--xr-font-color2);\n",
       "  font-weight: 500;\n",
       "}\n",
       "\n",
       ".xr-section-summary > span {\n",
       "  display: inline-block;\n",
       "  padding-left: 0.5em;\n",
       "}\n",
       "\n",
       ".xr-section-summary-in:disabled + label {\n",
       "  color: var(--xr-font-color2);\n",
       "}\n",
       "\n",
       ".xr-section-summary-in + label:before {\n",
       "  display: inline-block;\n",
       "  content: '►';\n",
       "  font-size: 11px;\n",
       "  width: 15px;\n",
       "  text-align: center;\n",
       "}\n",
       "\n",
       ".xr-section-summary-in:disabled + label:before {\n",
       "  color: var(--xr-disabled-color);\n",
       "}\n",
       "\n",
       ".xr-section-summary-in:checked + label:before {\n",
       "  content: '▼';\n",
       "}\n",
       "\n",
       ".xr-section-summary-in:checked + label > span {\n",
       "  display: none;\n",
       "}\n",
       "\n",
       ".xr-section-summary,\n",
       ".xr-section-inline-details {\n",
       "  padding-top: 4px;\n",
       "  padding-bottom: 4px;\n",
       "}\n",
       "\n",
       ".xr-section-inline-details {\n",
       "  grid-column: 2 / -1;\n",
       "}\n",
       "\n",
       ".xr-section-details {\n",
       "  display: none;\n",
       "  grid-column: 1 / -1;\n",
       "  margin-bottom: 5px;\n",
       "}\n",
       "\n",
       ".xr-section-summary-in:checked ~ .xr-section-details {\n",
       "  display: contents;\n",
       "}\n",
       "\n",
       ".xr-array-wrap {\n",
       "  grid-column: 1 / -1;\n",
       "  display: grid;\n",
       "  grid-template-columns: 20px auto;\n",
       "}\n",
       "\n",
       ".xr-array-wrap > label {\n",
       "  grid-column: 1;\n",
       "  vertical-align: top;\n",
       "}\n",
       "\n",
       ".xr-preview {\n",
       "  color: var(--xr-font-color3);\n",
       "}\n",
       "\n",
       ".xr-array-preview,\n",
       ".xr-array-data {\n",
       "  padding: 0 5px !important;\n",
       "  grid-column: 2;\n",
       "}\n",
       "\n",
       ".xr-array-data,\n",
       ".xr-array-in:checked ~ .xr-array-preview {\n",
       "  display: none;\n",
       "}\n",
       "\n",
       ".xr-array-in:checked ~ .xr-array-data,\n",
       ".xr-array-preview {\n",
       "  display: inline-block;\n",
       "}\n",
       "\n",
       ".xr-dim-list {\n",
       "  display: inline-block !important;\n",
       "  list-style: none;\n",
       "  padding: 0 !important;\n",
       "  margin: 0;\n",
       "}\n",
       "\n",
       ".xr-dim-list li {\n",
       "  display: inline-block;\n",
       "  padding: 0;\n",
       "  margin: 0;\n",
       "}\n",
       "\n",
       ".xr-dim-list:before {\n",
       "  content: '(';\n",
       "}\n",
       "\n",
       ".xr-dim-list:after {\n",
       "  content: ')';\n",
       "}\n",
       "\n",
       ".xr-dim-list li:not(:last-child):after {\n",
       "  content: ',';\n",
       "  padding-right: 5px;\n",
       "}\n",
       "\n",
       ".xr-has-index {\n",
       "  font-weight: bold;\n",
       "}\n",
       "\n",
       ".xr-var-list,\n",
       ".xr-var-item {\n",
       "  display: contents;\n",
       "}\n",
       "\n",
       ".xr-var-item > div,\n",
       ".xr-var-item label,\n",
       ".xr-var-item > .xr-var-name span {\n",
       "  background-color: var(--xr-background-color-row-even);\n",
       "  margin-bottom: 0;\n",
       "}\n",
       "\n",
       ".xr-var-item > .xr-var-name:hover span {\n",
       "  padding-right: 5px;\n",
       "}\n",
       "\n",
       ".xr-var-list > li:nth-child(odd) > div,\n",
       ".xr-var-list > li:nth-child(odd) > label,\n",
       ".xr-var-list > li:nth-child(odd) > .xr-var-name span {\n",
       "  background-color: var(--xr-background-color-row-odd);\n",
       "}\n",
       "\n",
       ".xr-var-name {\n",
       "  grid-column: 1;\n",
       "}\n",
       "\n",
       ".xr-var-dims {\n",
       "  grid-column: 2;\n",
       "}\n",
       "\n",
       ".xr-var-dtype {\n",
       "  grid-column: 3;\n",
       "  text-align: right;\n",
       "  color: var(--xr-font-color2);\n",
       "}\n",
       "\n",
       ".xr-var-preview {\n",
       "  grid-column: 4;\n",
       "}\n",
       "\n",
       ".xr-index-preview {\n",
       "  grid-column: 2 / 5;\n",
       "  color: var(--xr-font-color2);\n",
       "}\n",
       "\n",
       ".xr-var-name,\n",
       ".xr-var-dims,\n",
       ".xr-var-dtype,\n",
       ".xr-preview,\n",
       ".xr-attrs dt {\n",
       "  white-space: nowrap;\n",
       "  overflow: hidden;\n",
       "  text-overflow: ellipsis;\n",
       "  padding-right: 10px;\n",
       "}\n",
       "\n",
       ".xr-var-name:hover,\n",
       ".xr-var-dims:hover,\n",
       ".xr-var-dtype:hover,\n",
       ".xr-attrs dt:hover {\n",
       "  overflow: visible;\n",
       "  width: auto;\n",
       "  z-index: 1;\n",
       "}\n",
       "\n",
       ".xr-var-attrs,\n",
       ".xr-var-data,\n",
       ".xr-index-data {\n",
       "  display: none;\n",
       "  background-color: var(--xr-background-color) !important;\n",
       "  padding-bottom: 5px !important;\n",
       "}\n",
       "\n",
       ".xr-var-attrs-in:checked ~ .xr-var-attrs,\n",
       ".xr-var-data-in:checked ~ .xr-var-data,\n",
       ".xr-index-data-in:checked ~ .xr-index-data {\n",
       "  display: block;\n",
       "}\n",
       "\n",
       ".xr-var-data > table {\n",
       "  float: right;\n",
       "}\n",
       "\n",
       ".xr-var-name span,\n",
       ".xr-var-data,\n",
       ".xr-index-name div,\n",
       ".xr-index-data,\n",
       ".xr-attrs {\n",
       "  padding-left: 25px !important;\n",
       "}\n",
       "\n",
       ".xr-attrs,\n",
       ".xr-var-attrs,\n",
       ".xr-var-data,\n",
       ".xr-index-data {\n",
       "  grid-column: 1 / -1;\n",
       "}\n",
       "\n",
       "dl.xr-attrs {\n",
       "  padding: 0;\n",
       "  margin: 0;\n",
       "  display: grid;\n",
       "  grid-template-columns: 125px auto;\n",
       "}\n",
       "\n",
       ".xr-attrs dt,\n",
       ".xr-attrs dd {\n",
       "  padding: 0;\n",
       "  margin: 0;\n",
       "  float: left;\n",
       "  padding-right: 10px;\n",
       "  width: auto;\n",
       "}\n",
       "\n",
       ".xr-attrs dt {\n",
       "  font-weight: normal;\n",
       "  grid-column: 1;\n",
       "}\n",
       "\n",
       ".xr-attrs dt:hover span {\n",
       "  display: inline-block;\n",
       "  background: var(--xr-background-color);\n",
       "  padding-right: 10px;\n",
       "}\n",
       "\n",
       ".xr-attrs dd {\n",
       "  grid-column: 2;\n",
       "  white-space: pre-wrap;\n",
       "  word-break: break-all;\n",
       "}\n",
       "\n",
       ".xr-icon-database,\n",
       ".xr-icon-file-text2,\n",
       ".xr-no-icon {\n",
       "  display: inline-block;\n",
       "  vertical-align: middle;\n",
       "  width: 1em;\n",
       "  height: 1.5em !important;\n",
       "  stroke-width: 0;\n",
       "  stroke: currentColor;\n",
       "  fill: currentColor;\n",
       "}\n",
       "</style><pre class='xr-text-repr-fallback'>&lt;xarray.Dataset&gt;\n",
       "Dimensions:         (Nisf: 64)\n",
       "Coordinates:\n",
       "  * Nisf            (Nisf) int64 10 11 12 13 14 15 16 ... 69 70 71 72 73 74 75\n",
       "Data variables:\n",
       "    discharge_obs   (Nisf) float64 ...\n",
       "    basal_melt_obs  (Nisf) float64 ...\n",
       "    calving_obs     (Nisf) float64 ...\n",
       "    SMB_obs         (Nisf) float64 ...\n",
       "    discharge_unc   (Nisf) float64 ...\n",
       "    basal_melt_unc  (Nisf) float64 ...\n",
       "    calving_unc     (Nisf) float64 ...\n",
       "    SMB_unc         (Nisf) float64 ...</pre><div class='xr-wrap' style='display:none'><div class='xr-header'><div class='xr-obj-type'>xarray.Dataset</div></div><ul class='xr-sections'><li class='xr-section-item'><input id='section-1ad28174-6426-4fc2-bd88-c62775bc026c' class='xr-section-summary-in' type='checkbox' disabled ><label for='section-1ad28174-6426-4fc2-bd88-c62775bc026c' class='xr-section-summary'  title='Expand/collapse section'>Dimensions:</label><div class='xr-section-inline-details'><ul class='xr-dim-list'><li><span class='xr-has-index'>Nisf</span>: 64</li></ul></div><div class='xr-section-details'></div></li><li class='xr-section-item'><input id='section-6c12f861-3d8d-429b-952d-e2916eb7d7c6' class='xr-section-summary-in' type='checkbox'  checked><label for='section-6c12f861-3d8d-429b-952d-e2916eb7d7c6' class='xr-section-summary' >Coordinates: <span>(1)</span></label><div class='xr-section-inline-details'></div><div class='xr-section-details'><ul class='xr-var-list'><li class='xr-var-item'><div class='xr-var-name'><span class='xr-has-index'>Nisf</span></div><div class='xr-var-dims'>(Nisf)</div><div class='xr-var-dtype'>int64</div><div class='xr-var-preview xr-preview'>10 11 12 13 14 ... 71 72 73 74 75</div><input id='attrs-9534d329-008c-4e6f-95a8-1bc00c5c15ac' class='xr-var-attrs-in' type='checkbox' ><label for='attrs-9534d329-008c-4e6f-95a8-1bc00c5c15ac' title='Show/Hide attributes'><svg class='icon xr-icon-file-text2'><use xlink:href='#icon-file-text2'></use></svg></label><input id='data-ffcd2c0b-4b55-4301-87e4-31d6724aa254' class='xr-var-data-in' type='checkbox'><label for='data-ffcd2c0b-4b55-4301-87e4-31d6724aa254' title='Show/Hide data repr'><svg class='icon xr-icon-database'><use xlink:href='#icon-database'></use></svg></label><div class='xr-var-attrs'><dl class='xr-attrs'><dt><span>standard_name :</span></dt><dd>ice shelf ID</dd></dl></div><div class='xr-var-data'><pre>array([10, 11, 12, 13, 14, 15, 16, 17, 18, 19, 20, 22, 23, 24, 25, 26, 27, 28,\n",
       "       29, 30, 31, 32, 33, 34, 35, 36, 37, 38, 39, 40, 41, 42, 43, 44, 45, 46,\n",
       "       47, 48, 49, 50, 51, 52, 53, 54, 55, 57, 58, 59, 60, 61, 62, 63, 64, 65,\n",
       "       66, 67, 68, 69, 70, 71, 72, 73, 74, 75])</pre></div></li></ul></div></li><li class='xr-section-item'><input id='section-7c6ea825-af9e-4059-b6a7-c2c24ba7b368' class='xr-section-summary-in' type='checkbox'  checked><label for='section-7c6ea825-af9e-4059-b6a7-c2c24ba7b368' class='xr-section-summary' >Data variables: <span>(8)</span></label><div class='xr-section-inline-details'></div><div class='xr-section-details'><ul class='xr-var-list'><li class='xr-var-item'><div class='xr-var-name'><span>discharge_obs</span></div><div class='xr-var-dims'>(Nisf)</div><div class='xr-var-dtype'>float64</div><div class='xr-var-preview xr-preview'>...</div><input id='attrs-d86f9021-d7d0-41eb-9fce-e2959cd39e3f' class='xr-var-attrs-in' type='checkbox' disabled><label for='attrs-d86f9021-d7d0-41eb-9fce-e2959cd39e3f' title='Show/Hide attributes'><svg class='icon xr-icon-file-text2'><use xlink:href='#icon-file-text2'></use></svg></label><input id='data-efc58e6a-015b-42f0-b16e-e3484145d884' class='xr-var-data-in' type='checkbox'><label for='data-efc58e6a-015b-42f0-b16e-e3484145d884' title='Show/Hide data repr'><svg class='icon xr-icon-database'><use xlink:href='#icon-database'></use></svg></label><div class='xr-var-attrs'><dl class='xr-attrs'></dl></div><div class='xr-var-data'><pre>[64 values with dtype=float64]</pre></div></li><li class='xr-var-item'><div class='xr-var-name'><span>basal_melt_obs</span></div><div class='xr-var-dims'>(Nisf)</div><div class='xr-var-dtype'>float64</div><div class='xr-var-preview xr-preview'>...</div><input id='attrs-fd77ada4-5454-416b-8871-9a2d23ba081b' class='xr-var-attrs-in' type='checkbox' disabled><label for='attrs-fd77ada4-5454-416b-8871-9a2d23ba081b' title='Show/Hide attributes'><svg class='icon xr-icon-file-text2'><use xlink:href='#icon-file-text2'></use></svg></label><input id='data-6f085d64-4154-4fe8-b626-5b9ce46a94a2' class='xr-var-data-in' type='checkbox'><label for='data-6f085d64-4154-4fe8-b626-5b9ce46a94a2' title='Show/Hide data repr'><svg class='icon xr-icon-database'><use xlink:href='#icon-database'></use></svg></label><div class='xr-var-attrs'><dl class='xr-attrs'></dl></div><div class='xr-var-data'><pre>[64 values with dtype=float64]</pre></div></li><li class='xr-var-item'><div class='xr-var-name'><span>calving_obs</span></div><div class='xr-var-dims'>(Nisf)</div><div class='xr-var-dtype'>float64</div><div class='xr-var-preview xr-preview'>...</div><input id='attrs-b9261cce-011f-4b42-9eb1-b2c69189bf18' class='xr-var-attrs-in' type='checkbox' disabled><label for='attrs-b9261cce-011f-4b42-9eb1-b2c69189bf18' title='Show/Hide attributes'><svg class='icon xr-icon-file-text2'><use xlink:href='#icon-file-text2'></use></svg></label><input id='data-3e3ab1b5-b7d0-4e1e-84c9-cd0d0dd61e55' class='xr-var-data-in' type='checkbox'><label for='data-3e3ab1b5-b7d0-4e1e-84c9-cd0d0dd61e55' title='Show/Hide data repr'><svg class='icon xr-icon-database'><use xlink:href='#icon-database'></use></svg></label><div class='xr-var-attrs'><dl class='xr-attrs'></dl></div><div class='xr-var-data'><pre>[64 values with dtype=float64]</pre></div></li><li class='xr-var-item'><div class='xr-var-name'><span>SMB_obs</span></div><div class='xr-var-dims'>(Nisf)</div><div class='xr-var-dtype'>float64</div><div class='xr-var-preview xr-preview'>...</div><input id='attrs-92e6ebeb-f1d9-46f9-8092-2b8b545cd5c0' class='xr-var-attrs-in' type='checkbox' disabled><label for='attrs-92e6ebeb-f1d9-46f9-8092-2b8b545cd5c0' title='Show/Hide attributes'><svg class='icon xr-icon-file-text2'><use xlink:href='#icon-file-text2'></use></svg></label><input id='data-c1ce2b43-f5dd-4a6e-94a7-7fda1c2b541e' class='xr-var-data-in' type='checkbox'><label for='data-c1ce2b43-f5dd-4a6e-94a7-7fda1c2b541e' title='Show/Hide data repr'><svg class='icon xr-icon-database'><use xlink:href='#icon-database'></use></svg></label><div class='xr-var-attrs'><dl class='xr-attrs'></dl></div><div class='xr-var-data'><pre>[64 values with dtype=float64]</pre></div></li><li class='xr-var-item'><div class='xr-var-name'><span>discharge_unc</span></div><div class='xr-var-dims'>(Nisf)</div><div class='xr-var-dtype'>float64</div><div class='xr-var-preview xr-preview'>...</div><input id='attrs-17e16c54-6ca1-4d81-8c50-79cd6f1ceae7' class='xr-var-attrs-in' type='checkbox' disabled><label for='attrs-17e16c54-6ca1-4d81-8c50-79cd6f1ceae7' title='Show/Hide attributes'><svg class='icon xr-icon-file-text2'><use xlink:href='#icon-file-text2'></use></svg></label><input id='data-7b8b8c31-7c2f-4971-b348-360e7d527765' class='xr-var-data-in' type='checkbox'><label for='data-7b8b8c31-7c2f-4971-b348-360e7d527765' title='Show/Hide data repr'><svg class='icon xr-icon-database'><use xlink:href='#icon-database'></use></svg></label><div class='xr-var-attrs'><dl class='xr-attrs'></dl></div><div class='xr-var-data'><pre>[64 values with dtype=float64]</pre></div></li><li class='xr-var-item'><div class='xr-var-name'><span>basal_melt_unc</span></div><div class='xr-var-dims'>(Nisf)</div><div class='xr-var-dtype'>float64</div><div class='xr-var-preview xr-preview'>...</div><input id='attrs-db41e1a4-c0c2-4ecb-bdb4-922f257381a7' class='xr-var-attrs-in' type='checkbox' disabled><label for='attrs-db41e1a4-c0c2-4ecb-bdb4-922f257381a7' title='Show/Hide attributes'><svg class='icon xr-icon-file-text2'><use xlink:href='#icon-file-text2'></use></svg></label><input id='data-7abf699b-1c24-46d9-a634-1769db5d58a8' class='xr-var-data-in' type='checkbox'><label for='data-7abf699b-1c24-46d9-a634-1769db5d58a8' title='Show/Hide data repr'><svg class='icon xr-icon-database'><use xlink:href='#icon-database'></use></svg></label><div class='xr-var-attrs'><dl class='xr-attrs'></dl></div><div class='xr-var-data'><pre>[64 values with dtype=float64]</pre></div></li><li class='xr-var-item'><div class='xr-var-name'><span>calving_unc</span></div><div class='xr-var-dims'>(Nisf)</div><div class='xr-var-dtype'>float64</div><div class='xr-var-preview xr-preview'>...</div><input id='attrs-1be9255f-8081-4a5a-ad1f-8561e131fe6d' class='xr-var-attrs-in' type='checkbox' disabled><label for='attrs-1be9255f-8081-4a5a-ad1f-8561e131fe6d' title='Show/Hide attributes'><svg class='icon xr-icon-file-text2'><use xlink:href='#icon-file-text2'></use></svg></label><input id='data-67e03d2c-87e3-4085-9303-4b9d837b98b9' class='xr-var-data-in' type='checkbox'><label for='data-67e03d2c-87e3-4085-9303-4b9d837b98b9' title='Show/Hide data repr'><svg class='icon xr-icon-database'><use xlink:href='#icon-database'></use></svg></label><div class='xr-var-attrs'><dl class='xr-attrs'></dl></div><div class='xr-var-data'><pre>[64 values with dtype=float64]</pre></div></li><li class='xr-var-item'><div class='xr-var-name'><span>SMB_unc</span></div><div class='xr-var-dims'>(Nisf)</div><div class='xr-var-dtype'>float64</div><div class='xr-var-preview xr-preview'>...</div><input id='attrs-e3638021-6761-4129-800a-fb13c302ca09' class='xr-var-attrs-in' type='checkbox' disabled><label for='attrs-e3638021-6761-4129-800a-fb13c302ca09' title='Show/Hide attributes'><svg class='icon xr-icon-file-text2'><use xlink:href='#icon-file-text2'></use></svg></label><input id='data-0568b295-2233-41c9-a775-a8a8b96ab847' class='xr-var-data-in' type='checkbox'><label for='data-0568b295-2233-41c9-a775-a8a8b96ab847' title='Show/Hide data repr'><svg class='icon xr-icon-database'><use xlink:href='#icon-database'></use></svg></label><div class='xr-var-attrs'><dl class='xr-attrs'></dl></div><div class='xr-var-data'><pre>[64 values with dtype=float64]</pre></div></li></ul></div></li><li class='xr-section-item'><input id='section-054f3e2b-6444-4e61-b3ad-a9b793ad1a17' class='xr-section-summary-in' type='checkbox'  ><label for='section-054f3e2b-6444-4e61-b3ad-a9b793ad1a17' class='xr-section-summary' >Indexes: <span>(1)</span></label><div class='xr-section-inline-details'></div><div class='xr-section-details'><ul class='xr-var-list'><li class='xr-var-item'><div class='xr-index-name'><div>Nisf</div></div><div class='xr-index-preview'>PandasIndex</div><div></div><input id='index-90e8ea08-452f-4635-9d3d-aab5c676cc34' class='xr-index-data-in' type='checkbox'/><label for='index-90e8ea08-452f-4635-9d3d-aab5c676cc34' title='Show/Hide index repr'><svg class='icon xr-icon-database'><use xlink:href='#icon-database'></use></svg></label><div class='xr-index-data'><pre>PandasIndex(Int64Index([10, 11, 12, 13, 14, 15, 16, 17, 18, 19, 20, 22, 23, 24, 25, 26, 27,\n",
       "            28, 29, 30, 31, 32, 33, 34, 35, 36, 37, 38, 39, 40, 41, 42, 43, 44,\n",
       "            45, 46, 47, 48, 49, 50, 51, 52, 53, 54, 55, 57, 58, 59, 60, 61, 62,\n",
       "            63, 64, 65, 66, 67, 68, 69, 70, 71, 72, 73, 74, 75],\n",
       "           dtype=&#x27;int64&#x27;, name=&#x27;Nisf&#x27;))</pre></div></li></ul></div></li><li class='xr-section-item'><input id='section-78e7eb8f-3275-43de-94be-8e62109350d5' class='xr-section-summary-in' type='checkbox' disabled ><label for='section-78e7eb8f-3275-43de-94be-8e62109350d5' class='xr-section-summary'  title='Expand/collapse section'>Attributes: <span>(0)</span></label><div class='xr-section-inline-details'></div><div class='xr-section-details'><dl class='xr-attrs'></dl></div></li></ul></div></div>"
      ],
      "text/plain": [
       "<xarray.Dataset>\n",
       "Dimensions:         (Nisf: 64)\n",
       "Coordinates:\n",
       "  * Nisf            (Nisf) int64 10 11 12 13 14 15 16 ... 69 70 71 72 73 74 75\n",
       "Data variables:\n",
       "    discharge_obs   (Nisf) float64 ...\n",
       "    basal_melt_obs  (Nisf) float64 ...\n",
       "    calving_obs     (Nisf) float64 ...\n",
       "    SMB_obs         (Nisf) float64 ...\n",
       "    discharge_unc   (Nisf) float64 ...\n",
       "    basal_melt_unc  (Nisf) float64 ...\n",
       "    calving_unc     (Nisf) float64 ...\n",
       "    SMB_unc         (Nisf) float64 ..."
      ]
     },
     "execution_count": 27,
     "metadata": {},
     "output_type": "execute_result"
    }
   ],
   "source": [
    "davison_file "
   ]
  },
  {
   "cell_type": "code",
   "execution_count": 28,
   "id": "559d73bd-826a-4354-9afd-15cf768f76af",
   "metadata": {},
   "outputs": [],
   "source": [
    "mass_balance_davison = davison_file['basal_melt_obs'] - davison_file['SMB_obs'] + davison_file['calving_obs']\n",
    "mass_balance_davison_unc = np.sqrt(davison_file['basal_melt_unc']**2 + davison_file['SMB_unc']**2 + davison_file['calving_obs']**2)"
   ]
  },
  {
   "cell_type": "code",
   "execution_count": 31,
   "id": "e31bed60-c356-4677-b08f-02ef15ff50d7",
   "metadata": {},
   "outputs": [],
   "source": [
    "mass_balance_simu = Gt_allmod - melt_atmo_all + davison_file['calving_obs']"
   ]
  },
  {
   "cell_type": "code",
   "execution_count": 32,
   "id": "2743af30-6c85-4ddd-bbeb-4263f936b923",
   "metadata": {},
   "outputs": [
    {
     "data": {
      "application/vnd.jupyter.widget-view+json": {
       "model_id": "cdf2963d3e144385867a20d140a80d16",
       "version_major": 2,
       "version_minor": 0
      },
      "text/plain": [
       "  0%|          | 0/64 [00:00<?, ?it/s]"
      ]
     },
     "metadata": {},
     "output_type": "display_data"
    }
   ],
   "source": [
    "f = figure_check_hist(sorted_isf_rignot,file_isf['isf_name'],mass_balance_davison,mass_balance_davison_unc,\n",
    "                      mass_balance_simu,obs2=GL_flux_ABUMIP['flux_Gt_ref'],obs2_unc=GL_flux_ABUMIP['flux_Gt_ref']*0, obs2_bool=False)"
   ]
  },
  {
   "cell_type": "code",
   "execution_count": 33,
   "id": "13b13356-dacf-4958-b3aa-00923d8b511a",
   "metadata": {},
   "outputs": [],
   "source": [
    "f.savefig(plot_path + 'alltogether_historical_check.pdf')"
   ]
  },
  {
   "cell_type": "code",
   "execution_count": null,
   "id": "690901e6-0dd4-4a4f-b5b4-f6682ad53b1c",
   "metadata": {},
   "outputs": [],
   "source": []
  }
 ],
 "metadata": {
  "kernelspec": {
   "display_name": "py38",
   "language": "python",
   "name": "py38"
  },
  "language_info": {
   "codemirror_mode": {
    "name": "ipython",
    "version": 3
   },
   "file_extension": ".py",
   "mimetype": "text/x-python",
   "name": "python",
   "nbconvert_exporter": "python",
   "pygments_lexer": "ipython3",
   "version": "3.8.12"
  }
 },
 "nbformat": 4,
 "nbformat_minor": 5
}
