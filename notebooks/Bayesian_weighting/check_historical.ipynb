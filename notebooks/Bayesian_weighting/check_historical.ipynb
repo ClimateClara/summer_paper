{
 "cells": [
  {
   "cell_type": "code",
   "execution_count": null,
   "id": "048458db-08ba-498f-9d03-8fe8ef4e96da",
   "metadata": {},
   "outputs": [],
   "source": [
    "\"\"\"\n",
    "Created on Wed Aug 09 16:56 2023\n",
    "\n",
    "Try to infer some Bayesian weights\n",
    "\n",
    "Author: @claraburgard\n",
    "\n",
    "\"\"\""
   ]
  },
  {
   "cell_type": "code",
   "execution_count": 1,
   "id": "39a6302e-6b2d-4fd0-8edf-525940569552",
   "metadata": {},
   "outputs": [],
   "source": [
    "import xarray as xr\n",
    "import numpy as np\n",
    "from tqdm.notebook import tqdm\n",
    "import seaborn as sns\n",
    "import multimelt.useful_functions as uf\n",
    "import os"
   ]
  },
  {
   "cell_type": "code",
   "execution_count": 2,
   "id": "01c7c72e-fddd-406a-852e-eec31c92b28a",
   "metadata": {},
   "outputs": [],
   "source": [
    "sns.set_context('paper')"
   ]
  },
  {
   "cell_type": "code",
   "execution_count": 3,
   "id": "54366694-1f4b-4731-aea0-d9592dd1b5dd",
   "metadata": {},
   "outputs": [
    {
     "name": "stderr",
     "output_type": "stream",
     "text": [
      "QStandardPaths: XDG_RUNTIME_DIR not set, defaulting to '/tmp/runtime-burgardc'\n"
     ]
    }
   ],
   "source": [
    "%matplotlib qt5"
   ]
  },
  {
   "cell_type": "code",
   "execution_count": 4,
   "id": "e7e3f2af-77cd-4d17-ab3d-1b1f74ef4bea",
   "metadata": {},
   "outputs": [],
   "source": [
    "home_path = '/bettik/burgardc/'\n",
    "plot_path = '/bettik/burgardc/PLOTS/summer_paper_plots/'\n",
    "outputpath_GL = '/bettik/burgardc/DATA/SUMMER_PAPER/processed/GL_FLUX/'\n",
    "outputpath_weights = '/bettik/burgardc/DATA/SUMMER_PAPER/processed/ANALYSIS/'\n",
    "inputpath_raw = '/bettik/burgardc/DATA/SUMMER_PAPER/raw/'"
   ]
  },
  {
   "cell_type": "code",
   "execution_count": 5,
   "id": "3e117f14-6535-4900-a2bf-589c84ac8835",
   "metadata": {},
   "outputs": [],
   "source": [
    "inputpath_mask = home_path+'/DATA/SUMMER_PAPER/interim/ANTARCTICA_IS_MASKS/BedMachine_4km/'\n",
    "file_isf_orig = xr.open_dataset(inputpath_mask+'BedMachinev2_4km_isf_masks_and_info_and_distance_oneFRIS.nc')\n",
    "nonnan_Nisf = file_isf_orig['Nisf'].where(np.isfinite(file_isf_orig['front_bot_depth_max']), drop=True).astype(int)\n",
    "file_isf_nonnan = file_isf_orig.sel(Nisf=nonnan_Nisf)\n",
    "rignot_isf = file_isf_nonnan.Nisf.where(np.isfinite(file_isf_nonnan['isf_area_rignot']), drop=True)\n",
    "file_isf = file_isf_nonnan.sel(Nisf=rignot_isf)"
   ]
  },
  {
   "cell_type": "code",
   "execution_count": 6,
   "id": "dd158eaa-22a0-4a03-84cb-509cae696509",
   "metadata": {},
   "outputs": [],
   "source": [
    "sorted_isf_rignot = [11,69,43,28,12,57,\n",
    "                     70,44,29,13,58,71,45,30,14,\n",
    "                     59,72,46,\n",
    "                     31,\n",
    "                     15,61,73,47,32,16,48,33,17,62,49,34,18,63,74,\n",
    "                     50,35,19,64,\n",
    "                     10,\n",
    "                     36,20,65,51,37,\n",
    "                     22,38,52,23,66,53,39,24,\n",
    "                     67,40,54,75,25,41,\n",
    "                     26,42,55,68,60,27]"
   ]
  },
  {
   "cell_type": "code",
   "execution_count": 7,
   "id": "b14df8c6-dd6f-46ff-8d4b-b0ac77cd898b",
   "metadata": {},
   "outputs": [],
   "source": [
    "inputpath_davison = home_path+'/DATA/SUMMER_PAPER/raw/'\n",
    "davison_file = xr.open_dataset(inputpath_davison + 'steadystate_davison23.nc')"
   ]
  },
  {
   "cell_type": "code",
   "execution_count": 8,
   "id": "447f3e90-ee8d-4365-ab6a-e895956ecfc5",
   "metadata": {},
   "outputs": [],
   "source": [
    "def figure_check_hist(isf_list,isf_name,obs,obs_unc,mod,obs2,obs2_unc,obs2_bool=False):\n",
    "    regions = ['Weddell','Bellingshausen','Amundsen','Ross','East 1','East 2','Dronning Maud Land']\n",
    "    colors = ['red','orange','gold','mediumturquoise','maroon','magenta','cornflowerblue','lightseagreen',\n",
    "              'yellowgreen','royalblue','tomato','darkslateblue','purple','darkgoldenrod']\n",
    "\n",
    "    f = plt.figure()\n",
    "    f.set_size_inches(8.25*3, 8.25*3)\n",
    "\n",
    "    ax={}\n",
    "\n",
    "    leg_hdl = []\n",
    "\n",
    "    i = 0\n",
    "\n",
    "\n",
    "    for kisf in tqdm(isf_list):\n",
    "\n",
    "        ax[i] = f.add_subplot(8,8,i+1)\n",
    "            \n",
    "            \n",
    "        for m,mmod in enumerate(mod.model):\n",
    "            if 'param' in mod.dims:\n",
    "                for n,mparam in enumerate(mod.param):\n",
    "\n",
    "                    ax[i].plot(mod.time, mod.sel(param=mparam,Nisf=kisf,model=mmod), color='grey', alpha=0.2)\n",
    "            else:\n",
    "                ax[i].plot(mod.time, mod.sel(Nisf=kisf,model=mmod), color=colors[m])\n",
    "                \n",
    "        melt_obs_kisf = obs.sel(Nisf=kisf).values\n",
    "        melt_obs_unc_kisf = obs_unc.sel(Nisf=kisf).values\n",
    "        ax[i].axhline(y=melt_obs_kisf,color='k')\n",
    "        ax[i].fill_between(x=np.arange(1980,2015), y1=melt_obs_kisf-melt_obs_unc_kisf, y2=melt_obs_kisf+melt_obs_unc_kisf, color='lightgrey')\n",
    "        \n",
    "        if obs2_bool:\n",
    "            \n",
    "            melt_obs_kisf = obs2.sel(Nisf=kisf).values\n",
    "            melt_obs_unc_kisf = obs2_unc.sel(Nisf=kisf).values\n",
    "            ax[i].axhline(y=melt_obs_kisf,color='k',linestyle='--')\n",
    "            ax[i].fill_between(x=np.arange(1980,2015), y1=melt_obs_kisf-melt_obs_unc_kisf, y2=melt_obs_kisf+melt_obs_unc_kisf, color='orange',alpha=0.3)\n",
    "\n",
    "\n",
    "        #if kisf == 23:\n",
    "        #    ax[i].set_title('Tracy Tremenchus')\n",
    "        #elif kisf == 24:\n",
    "        #    ax[i].set_title('Conger/Glenzer')\n",
    "        #elif kisf == 110:\n",
    "        #    ax[i].set_title('Ekström')\n",
    "        #else:\n",
    "        ax[i].set_title(str(isf_name.sel(Nisf=kisf).values))\n",
    "        #ax[i].set_xlim(0,60)\n",
    "        #ax[i].axvline(x=30, c='k', linestyle='--')\n",
    "\n",
    "        i = i+1\n",
    "\n",
    "    #f.legend()\n",
    "    #f.subplots_adjust(bottom=0.05, wspace=0.1)\n",
    "\n",
    "    f.tight_layout()\n",
    "    sns.despine()\n",
    "\n",
    "    return f"
   ]
  },
  {
   "cell_type": "markdown",
   "id": "2a28301a-eef3-4baa-a369-98b604d15336",
   "metadata": {},
   "source": [
    "SMB"
   ]
  },
  {
   "cell_type": "markdown",
   "id": "32d32bff-1f04-4cbb-beb8-c5868070f2b8",
   "metadata": {},
   "source": [
    "model"
   ]
  },
  {
   "cell_type": "code",
   "execution_count": null,
   "id": "9ff8bb6f-9f0b-4990-a845-3b7c31d83a53",
   "metadata": {},
   "outputs": [],
   "source": [
    "inputpath_atmo_Chris = '/bettik/burgardc/DATA/SUMMER_PAPER/raw/TS_SMB_DATA/out/'\n",
    "inputpath_atmo_Nico = '/bettik/burgardc/DATA/SUMMER_PAPER/interim/SMB_EMULATED/'\n",
    "scenario = 'historical'\n",
    "\n",
    "melt_atmo_list = []\n",
    "for mod in ['CESM2','CNRM-CM6-1','IPSL-CM6A-LR','MPI-ESM1-2-HR','UKESM1-0-LL']:\n",
    "    if os.path.exists(inputpath_atmo_Chris+mod+'_SMB_'+scenario+'-1980-2014.nc'):\n",
    "        melt_atmo = xr.open_dataset(inputpath_atmo_Chris+mod+'_SMB_'+scenario+'-1980-2014.nc').sel(Nisf=rignot_isf)\n",
    "        melt_atmo['time'] = melt_atmo['time'].dt.year\n",
    "        melt_atmo_list.append(melt_atmo['SMB'].assign_coords({'model': mod}))\n",
    "    else:\n",
    "        melt_atmo = xr.open_dataset(inputpath_atmo_Nico+mod+'_SMB_'+scenario+'-1980-2014.nc').sel(Nisf=rignot_isf)\n",
    "        melt_atmo_list.append(melt_atmo['SMB'].assign_coords({'model': mod}))\n",
    "        \n",
    "for mod in ['ACCESS-ESM1-5','ACCESS-CM2','CESM2-WACCM','CNRM-ESM2-1',\n",
    "            'CanESM5','GFDL-CM4','GFDL-ESM4','GISS-E2-1-H', \n",
    "           'MRI-ESM2-0']:\n",
    "    melt_atmo = xr.open_dataset(inputpath_atmo_Nico+mod+'_SMB_'+scenario+'-1980-2014.nc').sel(Nisf=rignot_isf)\n",
    "    melt_atmo_list.append(melt_atmo['SMB'].assign_coords({'model': mod}))\n",
    "    \n",
    "melt_atmo_all = xr.concat(melt_atmo_list, dim='model')"
   ]
  },
  {
   "cell_type": "markdown",
   "id": "4b79d933-7d37-4c18-8b1b-c5833cc660ab",
   "metadata": {},
   "source": [
    "reanalysis"
   ]
  },
  {
   "cell_type": "code",
   "execution_count": null,
   "id": "a1808ee1-78d8-4d8c-86e5-6d1656bc4e3e",
   "metadata": {},
   "outputs": [],
   "source": [
    "scenario = 'historical'\n",
    "SMB_ERA5 = xr.open_dataset(inputpath_atmo_Chris+'ERA5_SMB_historical-1980-2014.nc').sel(Nisf=rignot_isf)\n",
    "SMB_ERA5['time'] = SMB_ERA5['time'].dt.year"
   ]
  },
  {
   "cell_type": "code",
   "execution_count": null,
   "id": "0e6f585b-57ab-4ce5-8119-3b28c1eab9ba",
   "metadata": {},
   "outputs": [],
   "source": [
    "f = figure_check_hist(sorted_isf_rignot,file_isf['isf_name'],davison_file['SMB_obs'],davison_file['SMB_unc'],\n",
    "                      melt_atmo_all,obs2=SMB_ERA5['SMBorg'].mean('time'),obs2_unc=SMB_ERA5['SMBorg'].mean('time')*0, obs2_bool=True)"
   ]
  },
  {
   "cell_type": "code",
   "execution_count": null,
   "id": "a89b79c8-e748-4175-9a2a-cc94b7a594bd",
   "metadata": {},
   "outputs": [],
   "source": [
    "f.savefig(plot_path + 'SMB_historical_check_with_SMBorigChris.pdf')"
   ]
  },
  {
   "cell_type": "markdown",
   "id": "543a5b61-90c5-4747-bdd2-30585baec87a",
   "metadata": {},
   "source": [
    "BASAL MELT"
   ]
  },
  {
   "cell_type": "markdown",
   "id": "1ba147af-6bf4-4b73-812e-2a55e44a0ce8",
   "metadata": {},
   "source": [
    "model"
   ]
  },
  {
   "cell_type": "code",
   "execution_count": 9,
   "id": "ba46f7ac-de83-4ff6-a7f6-98ddf5d5a1c4",
   "metadata": {},
   "outputs": [],
   "source": [
    "param_classic_list = ['linear_local',\n",
    "              'quadratic_local','quadratic_local_locslope',\n",
    "              'lazero19',\n",
    "              'boxes_4_pismyes_picopno']\n",
    "\n",
    "param_NN_list = ['NNsmall']"
   ]
  },
  {
   "cell_type": "code",
   "execution_count": 10,
   "id": "3e808955-62d7-424c-8c31-da269f715523",
   "metadata": {},
   "outputs": [],
   "source": [
    "## Melt outputpath\n",
    "Gt_allmod_list = []\n",
    "box1_allmod_list = []\n",
    "\n",
    "scenario = 'historical'\n",
    "for mod in ['ACCESS-ESM1-5','ACCESS-CM2','CESM2','CESM2-WACCM','CNRM-CM6-1','CNRM-ESM2-1',\n",
    "            'CanESM5','GFDL-CM4','GFDL-ESM4','GISS-E2-1-H', 'IPSL-CM6A-LR',\n",
    "           'MPI-ESM1-2-HR','MRI-ESM2-0','UKESM1-0-LL']:\n",
    "#for mod in ['CESM2','CNRM-CM6-1','IPSL-CM6A-LR','MPI-ESM1-2-HR','UKESM1-0-LL']:\n",
    "    \n",
    "    outputpath_melt = '/bettik/burgardc/DATA/SUMMER_PAPER/processed/OCEAN_MELT_RATE_CMIP/'+mod+'/'\n",
    "\n",
    "    melt1D_list = []\n",
    "    for mparam in param_classic_list:\n",
    "        melt1D_scenario = xr.open_dataset(outputpath_melt + 'eval_metrics_1D_'+mparam+'_'+scenario+'_oneFRIS_anoISMIP.nc')\n",
    "        melt1D_list.append(melt1D_scenario.assign_coords({'param':mparam}))\n",
    "    melt1D_classic = xr.concat(melt1D_list, dim='param')       \n",
    "    Gt_classic = melt1D_classic['melt_1D_Gt_per_y']\n",
    "\n",
    "    melt1D_list = []\n",
    "    for mparam in param_NN_list:\n",
    "        melt1D_scenario = xr.open_dataset(outputpath_melt + 'evalmetrics_1D_'+mparam+'_'+scenario+'_anoISMIP.nc')\n",
    "        melt1D_list.append(melt1D_scenario.assign_coords({'param':mparam}))\n",
    "    melt1D_NN = xr.concat(melt1D_list, dim='param')   \n",
    "    Gt_NN = melt1D_NN['predicted_melt'].sel(metrics='Gt')\n",
    "\n",
    "    Gt_all = xr.concat([Gt_classic, Gt_NN], dim='param')\n",
    "    \n",
    "    Gt_allmod_list.append(Gt_all.assign_coords({'model': mod}))\n",
    "\n",
    "Gt_allmod = xr.concat(Gt_allmod_list, dim='model')\n",
    "    "
   ]
  },
  {
   "cell_type": "markdown",
   "id": "37e1f354-c46d-44de-9baf-b7e20ce0a12f",
   "metadata": {},
   "source": [
    "obs estimate from Paolo"
   ]
  },
  {
   "cell_type": "code",
   "execution_count": 11,
   "id": "2b9cf8d7-0847-491f-9ce0-a82f7a3c9725",
   "metadata": {},
   "outputs": [],
   "source": [
    "melt_Paolo = xr.open_dataset(inputpath_raw + 'basal_melt_Gt_Paolo23.nc')"
   ]
  },
  {
   "cell_type": "code",
   "execution_count": null,
   "id": "9c175882-123d-4cdf-80af-17ce12f54ad5",
   "metadata": {},
   "outputs": [],
   "source": [
    "melt_Paolo"
   ]
  },
  {
   "cell_type": "code",
   "execution_count": 12,
   "id": "437e3ccf-1f32-4a59-a5f8-e32b943b951b",
   "metadata": {},
   "outputs": [
    {
     "name": "stderr",
     "output_type": "stream",
     "text": [
      "libGL error: No matching fbConfigs or visuals found\n",
      "libGL error: failed to load driver: swrast\n"
     ]
    },
    {
     "data": {
      "application/vnd.jupyter.widget-view+json": {
       "model_id": "fa8a5a6ab7b74098b4d072e6a950f202",
       "version_major": 2,
       "version_minor": 0
      },
      "text/plain": [
       "  0%|          | 0/64 [00:00<?, ?it/s]"
      ]
     },
     "metadata": {},
     "output_type": "display_data"
    }
   ],
   "source": [
    "f = figure_check_hist(sorted_isf_rignot,file_isf['isf_name'],davison_file['basal_melt_obs'],davison_file['basal_melt_unc'],\n",
    "                      Gt_allmod,obs2=melt_Paolo['melt_Gt'].mean('time'),obs2_unc=melt_Paolo['melt_Gt_unc'].mean('time'), obs2_bool=True)"
   ]
  },
  {
   "cell_type": "code",
   "execution_count": null,
   "id": "909c29de-4e31-47b2-bb51-b8af09fe9954",
   "metadata": {},
   "outputs": [],
   "source": [
    "f.savefig(plot_path + 'BMB_historical_check_anoISMIP.pdf')"
   ]
  },
  {
   "cell_type": "code",
   "execution_count": null,
   "id": "18159a2f-e3e8-4457-95a4-2f3e66f639a3",
   "metadata": {},
   "outputs": [],
   "source": [
    "f = figure_check_hist(sorted_isf_rignot,file_isf['isf_name'],davison_file['basal_melt_obs'],davison_file['basal_melt_unc'],\n",
    "                      Gt_allmod.isel(param=0).drop('param')*0,obs2=melt_Paolo['melt_Gt'].mean('time'),obs2_unc=melt_Paolo['melt_Gt_unc'].mean('time'), obs2_bool=True)"
   ]
  },
  {
   "cell_type": "code",
   "execution_count": null,
   "id": "4497ce27-a0d6-4282-9ebc-ae113c37d842",
   "metadata": {},
   "outputs": [],
   "source": [
    "f.savefig(plot_path + 'compare_ref_BMB_davison_paolo.pdf')"
   ]
  },
  {
   "cell_type": "markdown",
   "id": "5dd0a24f-91e3-4096-b8c0-17dc25aa6f5a",
   "metadata": {},
   "source": [
    "GL flux"
   ]
  },
  {
   "cell_type": "code",
   "execution_count": 14,
   "id": "d2cc6e7b-22ee-4013-abe8-ac55ae51549f",
   "metadata": {},
   "outputs": [],
   "source": [
    "GL_flux_ABUMIP = xr.open_dataset(outputpath_GL + 'all_GL_fluxes.nc')"
   ]
  },
  {
   "cell_type": "code",
   "execution_count": 15,
   "id": "2a215842-a12c-4b31-9f91-712b6a68b42e",
   "metadata": {},
   "outputs": [
    {
     "name": "stderr",
     "output_type": "stream",
     "text": [
      "libGL error: No matching fbConfigs or visuals found\n",
      "libGL error: failed to load driver: swrast\n"
     ]
    },
    {
     "data": {
      "application/vnd.jupyter.widget-view+json": {
       "model_id": "37549a1edc074192bf45ea71ab151d2c",
       "version_major": 2,
       "version_minor": 0
      },
      "text/plain": [
       "  0%|          | 0/64 [00:00<?, ?it/s]"
      ]
     },
     "metadata": {},
     "output_type": "display_data"
    }
   ],
   "source": [
    "f = figure_check_hist(sorted_isf_rignot,file_isf['isf_name'],davison_file['discharge_obs'],davison_file['discharge_unc'],\n",
    "                      Gt_allmod.isel(param=0).drop('param')*0,obs2=GL_flux_ABUMIP['flux_Gt_ref'],obs2_unc=GL_flux_ABUMIP['flux_Gt_ref']*0, obs2_bool=True)"
   ]
  },
  {
   "cell_type": "code",
   "execution_count": 16,
   "id": "5a02b725-10a2-4039-944c-364c50bcee27",
   "metadata": {},
   "outputs": [],
   "source": [
    "f.savefig(plot_path + 'compare_GL_flux_davison_cyrille.pdf')"
   ]
  },
  {
   "cell_type": "markdown",
   "id": "ac4482d3-0fc3-4175-85d1-96639f3b208f",
   "metadata": {},
   "source": [
    "BMB + CALVING - SMB"
   ]
  },
  {
   "cell_type": "code",
   "execution_count": null,
   "id": "0df03b55-9945-4361-b164-9b3bf7cb4aef",
   "metadata": {},
   "outputs": [],
   "source": [
    "davison_file "
   ]
  },
  {
   "cell_type": "code",
   "execution_count": null,
   "id": "559d73bd-826a-4354-9afd-15cf768f76af",
   "metadata": {},
   "outputs": [],
   "source": [
    "mass_balance_davison = davison_file['basal_melt_obs'] - davison_file['SMB_obs'] + davison_file['calving_obs']\n",
    "mass_balance_davison_unc = np.sqrt(davison_file['basal_melt_unc']**2 + davison_file['SMB_unc']**2 + davison_file['calving_obs']**2)"
   ]
  },
  {
   "cell_type": "code",
   "execution_count": null,
   "id": "e31bed60-c356-4677-b08f-02ef15ff50d7",
   "metadata": {},
   "outputs": [],
   "source": [
    "mass_balance_simu = Gt_allmod - melt_atmo_all + davison_file['calving_obs']"
   ]
  },
  {
   "cell_type": "code",
   "execution_count": null,
   "id": "2743af30-6c85-4ddd-bbeb-4263f936b923",
   "metadata": {},
   "outputs": [],
   "source": [
    "f = figure_check_hist(sorted_isf_rignot,file_isf['isf_name'],mass_balance_davison,mass_balance_davison_unc,\n",
    "                      mass_balance_simu,obs2=GL_flux_ABUMIP['flux_Gt_ref'],obs2_unc=GL_flux_ABUMIP['flux_Gt_ref']*0, obs2_bool=False)"
   ]
  },
  {
   "cell_type": "code",
   "execution_count": null,
   "id": "13b13356-dacf-4958-b3aa-00923d8b511a",
   "metadata": {},
   "outputs": [],
   "source": [
    "f.savefig(plot_path + 'alltogether_historical_check.pdf')"
   ]
  },
  {
   "cell_type": "code",
   "execution_count": null,
   "id": "690901e6-0dd4-4a4f-b5b4-f6682ad53b1c",
   "metadata": {},
   "outputs": [],
   "source": []
  }
 ],
 "metadata": {
  "kernelspec": {
   "display_name": "py38",
   "language": "python",
   "name": "py38"
  },
  "language_info": {
   "codemirror_mode": {
    "name": "ipython",
    "version": 3
   },
   "file_extension": ".py",
   "mimetype": "text/x-python",
   "name": "python",
   "nbconvert_exporter": "python",
   "pygments_lexer": "ipython3",
   "version": "3.8.12"
  }
 },
 "nbformat": 4,
 "nbformat_minor": 5
}
