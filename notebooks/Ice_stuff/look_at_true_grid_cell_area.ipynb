{
 "cells": [
  {
   "cell_type": "code",
   "execution_count": null,
   "id": "7da61bb3-68cd-486f-8b95-d61eecdc8d15",
   "metadata": {},
   "outputs": [],
   "source": [
    "\"\"\"\n",
    "\n",
    "Check impact of cell area on the calculation of the Gt/yr\n",
    "\n",
    "\"\"\""
   ]
  },
  {
   "cell_type": "code",
   "execution_count": null,
   "id": "7daf7854-c861-415a-853b-af7d15de832f",
   "metadata": {},
   "outputs": [],
   "source": [
    "import xarray as xr"
   ]
  },
  {
   "cell_type": "code",
   "execution_count": null,
   "id": "ca2734e0-f31c-4a97-89a5-b8f20b60a13c",
   "metadata": {},
   "outputs": [],
   "source": [
    "inputpath='~/Desktop/Not_NextCloud/DATA/'"
   ]
  },
  {
   "cell_type": "code",
   "execution_count": null,
   "id": "c1a0cc9b-1ef2-4b3c-8898-0f026cca8a9a",
   "metadata": {},
   "outputs": [],
   "source": [
    "ISMIP_cell_area = xr.open_dataset(inputpath + 'gridarea_ISMIP6_AIS_4000m_grid.nc')"
   ]
  },
  {
   "cell_type": "code",
   "execution_count": null,
   "id": "789b4837-f268-4e4e-a302-8b7a0163585d",
   "metadata": {},
   "outputs": [],
   "source": [
    "(ISMIP_cell_area['cell_area'] - 4000*4000).plot()"
   ]
  },
  {
   "cell_type": "code",
   "execution_count": null,
   "id": "78de4f00-14ab-4803-9f3d-72e1d09a9aab",
   "metadata": {},
   "outputs": [],
   "source": [
    "BedMachine_4km = xr.open_dataset(inputpath + 'SUMMER_PAPER_DATA/BedMachine_4km_isf_masks_and_info_and_distance_oneFRIS.nc')"
   ]
  },
  {
   "cell_type": "code",
   "execution_count": null,
   "id": "728f2e57-6ccb-4005-960f-5de33925685a",
   "metadata": {},
   "outputs": [],
   "source": []
  }
 ],
 "metadata": {
  "kernelspec": {
   "display_name": "ice_shelf_mask",
   "language": "python",
   "name": "ice_shelf_mask"
  },
  "language_info": {
   "codemirror_mode": {
    "name": "ipython",
    "version": 3
   },
   "file_extension": ".py",
   "mimetype": "text/x-python",
   "name": "python",
   "nbconvert_exporter": "python",
   "pygments_lexer": "ipython3",
   "version": "3.8.5"
  }
 },
 "nbformat": 4,
 "nbformat_minor": 5
}
