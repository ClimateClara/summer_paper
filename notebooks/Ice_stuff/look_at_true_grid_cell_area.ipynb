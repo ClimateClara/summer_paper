{
 "cells": [
  {
   "cell_type": "code",
   "execution_count": null,
   "id": "7da61bb3-68cd-486f-8b95-d61eecdc8d15",
   "metadata": {},
   "outputs": [],
   "source": [
    "\"\"\"\n",
    "\n",
    "Check impact of cell area on the calculation of the Gt/yr\n",
    "\n",
    "\"\"\""
   ]
  },
  {
   "cell_type": "code",
   "execution_count": null,
   "id": "7daf7854-c861-415a-853b-af7d15de832f",
   "metadata": {
    "tags": []
   },
   "outputs": [],
   "source": [
    "import xarray as xr"
   ]
  },
  {
   "cell_type": "code",
   "execution_count": null,
   "id": "6c3bedf6-6c72-4b44-9eee-242329231f65",
   "metadata": {
    "tags": []
   },
   "outputs": [],
   "source": [
    "%matplotlib qt5"
   ]
  },
  {
   "cell_type": "code",
   "execution_count": null,
   "id": "ca2734e0-f31c-4a97-89a5-b8f20b60a13c",
   "metadata": {
    "tags": []
   },
   "outputs": [],
   "source": [
    "inputpath='~/Desktop/Not_NextCloud/DATA/'"
   ]
  },
  {
   "cell_type": "code",
   "execution_count": null,
   "id": "c1a0cc9b-1ef2-4b3c-8898-0f026cca8a9a",
   "metadata": {
    "tags": []
   },
   "outputs": [],
   "source": [
    "ISMIP_cell_area = xr.open_dataset(inputpath + 'gridarea_ISMIP6_AIS_4000m_grid.nc')"
   ]
  },
  {
   "cell_type": "code",
   "execution_count": null,
   "id": "789b4837-f268-4e4e-a302-8b7a0163585d",
   "metadata": {
    "tags": []
   },
   "outputs": [],
   "source": [
    "diff_to_16 = ISMIP_cell_area['cell_area'] #- 4000*4000"
   ]
  },
  {
   "cell_type": "code",
   "execution_count": null,
   "id": "78de4f00-14ab-4803-9f3d-72e1d09a9aab",
   "metadata": {
    "tags": []
   },
   "outputs": [],
   "source": [
    "BedMachine_orig = xr.open_dataset(inputpath + 'BedMachineAntarctica-v3.nc')"
   ]
  },
  {
   "cell_type": "code",
   "execution_count": null,
   "id": "728f2e57-6ccb-4005-960f-5de33925685a",
   "metadata": {
    "tags": []
   },
   "outputs": [],
   "source": [
    "BedMachine_4km = BedMachine_orig['mask'].sel(x=ISMIP_cell_area.x,y=ISMIP_cell_area.y)"
   ]
  },
  {
   "cell_type": "code",
   "execution_count": null,
   "id": "38dbffcc-a904-4bbe-b4e8-e1d438bb663e",
   "metadata": {
    "tags": []
   },
   "outputs": [],
   "source": [
    "diff_to_16.where(BedMachine_4km==3).plot()"
   ]
  },
  {
   "cell_type": "markdown",
   "id": "e464068e-df9a-4f77-a115-b4f5eb291a75",
   "metadata": {},
   "source": [
    "COMPARE RESULTING MELT"
   ]
  },
  {
   "cell_type": "code",
   "execution_count": null,
   "id": "a6fbc696-10a6-47f8-94bd-d81b63c8d954",
   "metadata": {},
   "outputs": [],
   "source": [
    "nemo_run='ctrl94'"
   ]
  },
  {
   "cell_type": "code",
   "execution_count": null,
   "id": "eef6bd48-1f40-4b74-9e8e-cfa60189f3f1",
   "metadata": {},
   "outputs": [],
   "source": [
    "outputpath_melt = '/bettik/burgardc/DATA/SUMMER_PAPER/processed/OCEAN_MELT_RATE_TUNING/nemo_5km_'+nemo_run+'/'\n"
   ]
  },
  {
   "cell_type": "code",
   "execution_count": null,
   "id": "78f2b30c-f3e4-4be3-8652-af073717ab2b",
   "metadata": {},
   "outputs": [],
   "source": [
    "NEMO_melt_rates_1D_gridcell = xr.open_dataset(outputpath_melt+'melt_rates_1D_NEMO_oneFRIS_truegridcellarea.nc')\n",
    "NEMO_melt_rates_1D = xr.open_dataset(outputpath_melt+'melt_rates_1D_NEMO_oneFRIS.nc')"
   ]
  },
  {
   "cell_type": "code",
   "execution_count": null,
   "id": "8613d51a-4925-45d8-81d4-3848d07699d4",
   "metadata": {},
   "outputs": [],
   "source": [
    "NEMO_melt_rates_1D_gridcell['melt_Gt_per_y_tot'].sel(Nisf=10).plot(label='new')\n",
    "NEMO_melt_rates_1D['melt_Gt_per_y_tot'].sel(Nisf=10).plot(label='old')\n",
    "plt.legend()"
   ]
  },
  {
   "cell_type": "code",
   "execution_count": null,
   "id": "77ef065c-89af-4a45-b55e-f78fb5f9336c",
   "metadata": {},
   "outputs": [],
   "source": [
    "NEMO_melt_rates_1D['melt_Gt_per_y_tot'].sel(Nisf=66)"
   ]
  },
  {
   "cell_type": "code",
   "execution_count": null,
   "id": "d8ffc08d-01fb-4c4a-b9cc-49657e8db5e3",
   "metadata": {},
   "outputs": [],
   "source": []
  }
 ],
 "metadata": {
  "kernelspec": {
   "display_name": "py38",
   "language": "python",
   "name": "py38"
  },
  "language_info": {
   "codemirror_mode": {
    "name": "ipython",
    "version": 3
   },
   "file_extension": ".py",
   "mimetype": "text/x-python",
   "name": "python",
   "nbconvert_exporter": "python",
   "pygments_lexer": "ipython3",
   "version": "3.8.12"
  }
 },
 "nbformat": 4,
 "nbformat_minor": 5
}
