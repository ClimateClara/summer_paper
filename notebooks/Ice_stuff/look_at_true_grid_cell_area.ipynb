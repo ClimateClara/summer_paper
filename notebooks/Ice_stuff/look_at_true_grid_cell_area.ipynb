{
 "cells": [
  {
   "cell_type": "code",
   "execution_count": null,
   "id": "7da61bb3-68cd-486f-8b95-d61eecdc8d15",
   "metadata": {},
   "outputs": [],
   "source": [
    "\"\"\"\n",
    "\n",
    "Check impact of cell area on the calculation of the Gt/yr\n",
    "\n",
    "\"\"\""
   ]
  },
  {
   "cell_type": "code",
   "execution_count": null,
   "id": "7daf7854-c861-415a-853b-af7d15de832f",
   "metadata": {
    "tags": []
   },
   "outputs": [],
   "source": [
    "import xarray as xr"
   ]
  },
  {
   "cell_type": "code",
   "execution_count": null,
   "id": "6c3bedf6-6c72-4b44-9eee-242329231f65",
   "metadata": {
    "tags": []
   },
   "outputs": [],
   "source": [
    "%matplotlib qt5"
   ]
  },
  {
   "cell_type": "code",
   "execution_count": null,
   "id": "ca2734e0-f31c-4a97-89a5-b8f20b60a13c",
   "metadata": {
    "tags": []
   },
   "outputs": [],
   "source": [
    "inputpath='~/Desktop/Not_NextCloud/DATA/'"
   ]
  },
  {
   "cell_type": "code",
   "execution_count": null,
   "id": "c1a0cc9b-1ef2-4b3c-8898-0f026cca8a9a",
   "metadata": {
    "tags": []
   },
   "outputs": [],
   "source": [
    "ISMIP_cell_area = xr.open_dataset(inputpath + 'gridarea_ISMIP6_AIS_4000m_grid.nc')"
   ]
  },
  {
   "cell_type": "code",
   "execution_count": null,
   "id": "789b4837-f268-4e4e-a302-8b7a0163585d",
   "metadata": {
    "tags": []
   },
   "outputs": [],
   "source": [
    "diff_to_16 = ISMIP_cell_area['cell_area'] #- 4000*4000"
   ]
  },
  {
   "cell_type": "code",
   "execution_count": null,
   "id": "78de4f00-14ab-4803-9f3d-72e1d09a9aab",
   "metadata": {
    "tags": []
   },
   "outputs": [],
   "source": [
    "BedMachine_orig = xr.open_dataset(inputpath + 'BedMachineAntarctica-v3.nc')"
   ]
  },
  {
   "cell_type": "code",
   "execution_count": null,
   "id": "728f2e57-6ccb-4005-960f-5de33925685a",
   "metadata": {
    "tags": []
   },
   "outputs": [],
   "source": [
    "BedMachine_4km = BedMachine_orig['mask'].sel(x=ISMIP_cell_area.x,y=ISMIP_cell_area.y)"
   ]
  },
  {
   "cell_type": "code",
   "execution_count": null,
   "id": "38dbffcc-a904-4bbe-b4e8-e1d438bb663e",
   "metadata": {
    "tags": []
   },
   "outputs": [],
   "source": [
    "diff_to_16.where(BedMachine_4km==3).plot()"
   ]
  },
  {
   "cell_type": "code",
   "execution_count": null,
   "id": "13d0f0a8-3b06-4ebc-87ff-7f3c8af0b956",
   "metadata": {},
   "outputs": [],
   "source": []
  }
 ],
 "metadata": {
  "kernelspec": {
   "display_name": "ice_shelf_mask",
   "language": "python",
   "name": "ice_shelf_mask"
  },
  "language_info": {
   "codemirror_mode": {
    "name": "ipython",
    "version": 3
   },
   "file_extension": ".py",
   "mimetype": "text/x-python",
   "name": "python",
   "nbconvert_exporter": "python",
   "pygments_lexer": "ipython3",
   "version": "3.8.5"
  }
 },
 "nbformat": 4,
 "nbformat_minor": 5
}
