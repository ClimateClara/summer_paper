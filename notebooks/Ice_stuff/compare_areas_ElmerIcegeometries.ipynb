{
 "cells": [
  {
   "cell_type": "code",
   "execution_count": null,
   "id": "0",
   "metadata": {},
   "outputs": [],
   "source": [
    "\"\"\"\n",
    "\n",
    "Compare present area with the 2100 and 2150 areas to avoid interpreting things for ice shelves that are already non-viable\n",
    "\n",
    "\"\"\""
   ]
  },
  {
   "cell_type": "code",
   "execution_count": null,
   "id": "1",
   "metadata": {},
   "outputs": [],
   "source": [
    "import xarray as xr\n",
    "import numpy as np\n",
    "import matplotlib.pyplot as plt\n",
    "from tqdm.notebook import tqdm\n",
    "import seaborn as sns\n",
    "import multimelt.useful_functions as uf"
   ]
  },
  {
   "cell_type": "code",
   "execution_count": null,
   "id": "2",
   "metadata": {},
   "outputs": [],
   "source": [
    "%matplotlib qt5"
   ]
  },
  {
   "cell_type": "code",
   "execution_count": null,
   "id": "3",
   "metadata": {},
   "outputs": [],
   "source": [
    "inputpath = '/bettik/burgardc/DATA/SUMMER_PAPER/interim/ANTARCTICA_IS_MASKS/'"
   ]
  },
  {
   "cell_type": "code",
   "execution_count": null,
   "id": "4",
   "metadata": {},
   "outputs": [],
   "source": [
    "geo_2025 = xr.open_dataset(inputpath + 'ElmerIce_2025/ElmerIce_4km_2025isf_masks_and_info_and_distance_oneFRIS.nc')\n",
    "geo_2100 = xr.open_dataset(inputpath + 'ElmerIce_2100/ElmerIce_4km_2100isf_masks_and_info_and_distance_oneFRIS.nc')\n",
    "geo_2150 = xr.open_dataset(inputpath + 'ElmerIce_2150/ElmerIce_4km_2150isf_masks_and_info_and_distance_oneFRIS.nc')"
   ]
  },
  {
   "cell_type": "code",
   "execution_count": null,
   "id": "5",
   "metadata": {},
   "outputs": [],
   "source": [
    "inputpath_ElmerIce='/bettik/burgardc/DATA/SUMMER_PAPER/interim/ELMERICE_NEWGEO/'\n",
    "map_lim = [-3000000,3000000]\n",
    "file_mask_2100 = uf.cut_domain_stereo(xr.open_dataset(inputpath_ElmerIce+'ElmerIce_4km_allvars_2100.nc'), map_lim, map_lim)\n",
    "file_mask_2150 = uf.cut_domain_stereo(xr.open_dataset(inputpath_ElmerIce+'ElmerIce_4km_allvars_2150.nc'), map_lim, map_lim)"
   ]
  },
  {
   "cell_type": "code",
   "execution_count": null,
   "id": "6",
   "metadata": {},
   "outputs": [],
   "source": [
    "file_msk = file_mask_2100['mask_0_1_2']\n",
    "file_draft_2100 = (file_mask_2100['thickness'] - file_mask_2100['surface']).where(file_msk==1)\n",
    "file_draft_2100 = file_draft_2100.where(file_draft_2100 > 0, 0)\n",
    "file_isf_conc_2100 = file_mask_2100['isf_conc']\n",
    "\n",
    "file_msk = file_mask_2150['mask_0_1_2']\n",
    "file_draft_2150 = (file_mask_2150['thickness'] - file_mask_2150['surface']).where(file_msk==1)\n",
    "file_draft_2150 = file_draft_2150.where(file_draft_2150 > 0, 0)\n",
    "file_isf_conc_2150 = file_mask_2150['isf_conc']\n"
   ]
  },
  {
   "cell_type": "code",
   "execution_count": null,
   "id": "7",
   "metadata": {},
   "outputs": [],
   "source": [
    "home_path = '/bettik/burgardc/'"
   ]
  },
  {
   "cell_type": "code",
   "execution_count": null,
   "id": "8",
   "metadata": {},
   "outputs": [],
   "source": [
    "inputpath_mask = home_path+'/DATA/SUMMER_PAPER/interim/ANTARCTICA_IS_MASKS/BedMachine_4km/'\n",
    "file_isf_orig = xr.open_dataset(inputpath_mask+'BedMachinev2_4km_isf_masks_and_info_and_distance_oneFRIS.nc')\n",
    "nonnan_Nisf = file_isf_orig['Nisf'].where(np.isfinite(file_isf_orig['front_bot_depth_max']), drop=True).astype(int)\n",
    "file_isf_nonnan = file_isf_orig.sel(Nisf=nonnan_Nisf)\n",
    "sorted_isf_rignot = [11,69,43,28,12,57,\n",
    "                     70,44,29,13,58,71,45,30,14,\n",
    "                     59,72,46,\n",
    "                     31,\n",
    "                     15,61,73,47,32,16,48,33,17,62,49,34,18,63,74,\n",
    "                     50,35,19,64,\n",
    "                     10,\n",
    "                     36,20,65,51,37,\n",
    "                     22,38,52,23,66,53,39,24,\n",
    "                     67,40,54,75,25,41,\n",
    "                     26,42,55,68,60,27]\n",
    "file_isf = file_isf_nonnan.sel(Nisf=sorted_isf_rignot)\n",
    "file_isf['isf_name'] = file_isf['isf_name'].astype(str)\n",
    "    "
   ]
  },
  {
   "cell_type": "code",
   "execution_count": null,
   "id": "9",
   "metadata": {},
   "outputs": [],
   "source": [
    "(file_isf['ISF_mask'] == kisf) "
   ]
  },
  {
   "cell_type": "code",
   "execution_count": null,
   "id": "10",
   "metadata": {},
   "outputs": [],
   "source": [
    "(file_draft_2100 <= 10).plot()"
   ]
  },
  {
   "cell_type": "code",
   "execution_count": null,
   "id": "11",
   "metadata": {},
   "outputs": [],
   "source": [
    "new_area_2100 = []\n",
    "new_area_2150 = []\n",
    "for kisf in file_isf.Nisf:\n",
    "    area_kisf_2100 = (((geo_2100['ISF_mask'] == kisf) & (file_draft_2100 > 10)).astype(int) * file_isf_conc_2100).sum() * (4000 * 4000) * 10**-6\n",
    "    new_area_2100.append(area_kisf_2100.assign_coords({'Nisf': kisf}))\n",
    "    area_kisf_2150 = (((geo_2150['ISF_mask'] == kisf) & (file_draft_2150 > 10)).astype(int) * file_isf_conc_2150).sum() * (4000 * 4000)* 10**-6\n",
    "    new_area_2150.append(area_kisf_2150.assign_coords({'Nisf': kisf}))\n",
    "new_area_2100_da = xr.concat(new_area_2100, dim='Nisf')\n",
    "new_area_2150_da = xr.concat(new_area_2150, dim='Nisf')"
   ]
  },
  {
   "cell_type": "code",
   "execution_count": null,
   "id": "12",
   "metadata": {},
   "outputs": [],
   "source": [
    "new_area_2100_da"
   ]
  },
  {
   "cell_type": "code",
   "execution_count": null,
   "id": "13",
   "metadata": {},
   "outputs": [],
   "source": [
    "geo_2025['isf_area_here'].load()"
   ]
  },
  {
   "cell_type": "code",
   "execution_count": null,
   "id": "14",
   "metadata": {},
   "outputs": [],
   "source": [
    "\n",
    "f = plt.figure()\n",
    "f.set_size_inches(8.25*2, 8.25*2)\n",
    "\n",
    "ax={}\n",
    "\n",
    "leg_hdl = []\n",
    "\n",
    "i = 0\n",
    "\n",
    "\n",
    "for kisf in tqdm(sorted_isf_rignot):\n",
    "    \n",
    "    ax[i] = f.add_subplot(8,8,i+1)\n",
    "\n",
    "    ax[i].axhline(y=geo_2025['isf_area_here'].sel(Nisf=kisf),color='orange',linewidth=2)\n",
    "    ax[i].axhline(y=new_area_2100_da.sel(Nisf=kisf),color='red',linewidth=2)\n",
    "    ax[i].axhline(y=new_area_2150_da.sel(Nisf=kisf),color='magenta',linewidth=2)\n",
    "    #ax[i].axhline(y=geo_2100['isf_area_here'].sel(Nisf=kisf),color='red',linewidth=2)\n",
    "    #ax[i].axhline(y=geo_2150['isf_area_here'].sel(Nisf=kisf),color='magenta',linewidth=2)\n",
    "    \n",
    "    ax[i].set_title(str(file_isf_orig['isf_name'].sel(Nisf=kisf).values))\n",
    "\n",
    "\n",
    "    i = i+1\n",
    "\n",
    "#f.legend()\n",
    "f.subplots_adjust(bottom=0.05, wspace=0.1)\n",
    "\n",
    "f.tight_layout()\n",
    "sns.despine()"
   ]
  },
  {
   "cell_type": "code",
   "execution_count": null,
   "id": "15",
   "metadata": {},
   "outputs": [],
   "source": [
    "mask_2025 = geo_2025['ISF_mask'].where(geo_2025['ISF_mask'].isin(sorted_isf_rignot))\n",
    "mask_2100 = geo_2100['ISF_mask'].where((file_draft_2100 > 10) & (geo_2025['ISF_mask'].isin(sorted_isf_rignot)))\n",
    "mask_2150 = geo_2150['ISF_mask'].where((file_draft_2150 > 10) & (geo_2025['ISF_mask'].isin(sorted_isf_rignot)))\n"
   ]
  },
  {
   "cell_type": "code",
   "execution_count": null,
   "id": "16",
   "metadata": {},
   "outputs": [],
   "source": [
    "plt.figure()\n",
    "((mask_2150 > 0).astype(int) + (mask_2025 > 0).astype(int)).plot()"
   ]
  },
  {
   "cell_type": "code",
   "execution_count": null,
   "id": "17",
   "metadata": {},
   "outputs": [],
   "source": [
    "plt.figure()\n",
    "(mask_2150 > 0).plot()"
   ]
  },
  {
   "cell_type": "code",
   "execution_count": null,
   "id": "18",
   "metadata": {},
   "outputs": [],
   "source": [
    "((geo_2150['ISF_mask'] == kisf) & (file_draft_2150 > 10)).plot()"
   ]
  },
  {
   "cell_type": "code",
   "execution_count": null,
   "id": "19",
   "metadata": {},
   "outputs": [],
   "source": []
  }
 ],
 "metadata": {
  "kernelspec": {
   "display_name": "py38",
   "language": "python",
   "name": "py38"
  },
  "language_info": {
   "codemirror_mode": {
    "name": "ipython",
    "version": 3
   },
   "file_extension": ".py",
   "mimetype": "text/x-python",
   "name": "python",
   "nbconvert_exporter": "python",
   "pygments_lexer": "ipython3",
   "version": "3.8.20"
  }
 },
 "nbformat": 4,
 "nbformat_minor": 5
}
