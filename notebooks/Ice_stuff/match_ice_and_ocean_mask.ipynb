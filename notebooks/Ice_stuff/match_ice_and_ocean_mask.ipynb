{
 "cells": [
  {
   "cell_type": "code",
   "execution_count": null,
   "id": "0",
   "metadata": {},
   "outputs": [],
   "source": [
    "\"\"\"\n",
    "\n",
    "Look at IMBIE basins from Justine and try to match to my numbers\n",
    "=> can be done at 4 or 2 km, be careful with the paths!\n",
    "\n",
    "\"\"\""
   ]
  },
  {
   "cell_type": "code",
   "execution_count": null,
   "id": "1",
   "metadata": {
    "tags": []
   },
   "outputs": [],
   "source": [
    "import xarray as xr\n",
    "import matplotlib.pyplot as plt"
   ]
  },
  {
   "cell_type": "code",
   "execution_count": null,
   "id": "2",
   "metadata": {},
   "outputs": [],
   "source": [
    "%matplotlib qt5"
   ]
  },
  {
   "cell_type": "code",
   "execution_count": null,
   "id": "3",
   "metadata": {
    "tags": []
   },
   "outputs": [],
   "source": [
    "#inputpath_mask='/bettik/burgardc/DATA/SUMMER_PAPER/interim/ANTARCTICA_IS_MASKS/BedMachine_4km/'\n",
    "inputpath_mask='/bettik/burgardc/DATA/SUMMER_PAPER/interim/ANTARCTICA_IS_MASKS/BedMachine_8km/'\n",
    "#inputpath_mask='/bettik/burgardc/DATA/ERWIN_PAPER/interim/ANTARCTICA_IS_MASKS/'\n",
    "inputpath_BedMachine='/bettik/burgardc/DATA/SUMMER_PAPER/interim/'\n",
    "#inputpath_BedMachine='/bettik/burgardc/DATA/ERWIN_PAPER/interim/'"
   ]
  },
  {
   "cell_type": "code",
   "execution_count": null,
   "id": "4",
   "metadata": {
    "tags": []
   },
   "outputs": [],
   "source": [
    "#BedMachine_orig = xr.open_dataset(inputpath_BedMachine+'BedMachine_v3_aggregated4km_allvars.nc')\n",
    "mask_IMBIE = xr.open_dataset('/bettik/jcaillet/POUR_CLARA/Mask_Iceshelf_IMBIE.nc')\n",
    "#mask_IMBIE =  xr.open_dataset(inputpath_mask + 'Mask_Iceshelf_IMBIE_withNisf.nc')"
   ]
  },
  {
   "cell_type": "code",
   "execution_count": null,
   "id": "5",
   "metadata": {},
   "outputs": [],
   "source": [
    "#file_isf_orig = xr.open_dataset(inputpath_mask+'BedMachine_4km_isf_masks_and_info_and_distance_oneFRIS.nc')\n",
    "#file_isf_orig = xr.open_dataset(inputpath_mask+'BedMachine_2km_isf_masks_and_info_and_distance_oneFRIS.nc')\n",
    "file_isf_orig = xr.open_dataset(inputpath_mask+'BedMachine_8km_isf_masks_and_info_and_distance_oneFRIS.nc')\n",
    "\n",
    "#mask_BedMachine = BedMachine_orig['mask_0_1_2'].sel(x=mask_me.x,y=mask_me.y)"
   ]
  },
  {
   "cell_type": "code",
   "execution_count": null,
   "id": "6",
   "metadata": {},
   "outputs": [],
   "source": [
    "nonnan_Nisf = file_isf_orig['Nisf'].where(np.isfinite(file_isf_orig['front_bot_depth_max']), drop=True).astype(int)\n",
    "file_isf_nonnan = file_isf_orig.sel(Nisf=nonnan_Nisf)\n",
    "rignot_isf = file_isf_nonnan.Nisf.where(np.isfinite(file_isf_nonnan['isf_area_rignot']), drop=True)\n",
    "file_isf = file_isf_nonnan.sel(Nisf=rignot_isf)"
   ]
  },
  {
   "cell_type": "code",
   "execution_count": null,
   "id": "7",
   "metadata": {},
   "outputs": [],
   "source": [
    "mask_IMBIE_4km = mask_IMBIE.sel(x=file_isf.x,y=file_isf.y)"
   ]
  },
  {
   "cell_type": "code",
   "execution_count": null,
   "id": "8",
   "metadata": {},
   "outputs": [],
   "source": [
    "new_ID_list = []\n",
    "name_list = []\n",
    "nisf_list = []\n",
    "\n",
    "for kisf in file_isf.Nisf:\n",
    "    nname = file_isf['isf_name'].sel(Nisf=kisf).values\n",
    "    if nname in mask_IMBIE_4km['NAME']:\n",
    "        nisf_list.append(kisf)\n",
    "        ID_IMBIE = mask_IMBIE_4km.ID.where(mask_IMBIE_4km['NAME'] == nname, drop=True)\n",
    "    elif nname == 'Vincennes Bay':\n",
    "        nisf_list.append(kisf)\n",
    "        ID_IMBIE = mask_IMBIE_4km.ID.where(mask_IMBIE_4km['NAME'] == 'Vincennes_Bay/Underwood', drop=True)\n",
    "    elif nname == 'George VI':\n",
    "        nisf_list.append(kisf)\n",
    "        ID_IMBIE = mask_IMBIE_4km.ID.where(mask_IMBIE_4km['NAME'] == 'George_VI', drop=True)\n",
    "    elif str(nname)[0:7] == 'Larsen ':\n",
    "        nisf_list.append(kisf)\n",
    "        ID_IMBIE = mask_IMBIE_4km.ID.where(mask_IMBIE_4km['NAME'] == 'Larsen'+str(nname)[7], drop=True)\n",
    "    elif nname == 'Prince Harald':\n",
    "        nisf_list.append(kisf)\n",
    "        ID_IMBIE = mask_IMBIE_4km.ID.where(mask_IMBIE_4km['NAME'] == 'Prince_Harald', drop=True)\n",
    "    elif nname == 'Conger/Glenzer':\n",
    "        nisf_list.append(kisf)\n",
    "        ID_IMBIE = mask_IMBIE_4km.ID.where(mask_IMBIE_4km['NAME'] == 'Conger_Glenzer', drop=True)\n",
    "    elif nname == 'Moscow Univ.':\n",
    "        nisf_list.append(kisf)\n",
    "        ID_IMBIE = mask_IMBIE_4km.ID.where(mask_IMBIE_4km['NAME'] == 'Moscow_University', drop=True)\n",
    "    elif nname == 'Roi Baudouin':\n",
    "        nisf_list.append(kisf)\n",
    "        ID_IMBIE = mask_IMBIE_4km.ID.where(mask_IMBIE_4km['NAME'] == 'Baudouin', drop=True)\n",
    "    elif nname == 'Wilma/Robert/Downer':\n",
    "        nisf_list.append(kisf)\n",
    "        ID_IMBIE = mask_IMBIE_4km.ID.where(mask_IMBIE_4km['NAME'] == 'WilmaRobertDowner', drop=True)\n",
    "    elif nname == 'Tracy Tremenchus':\n",
    "        nisf_list.append(kisf)\n",
    "        ID_IMBIE = mask_IMBIE_4km.ID.where(mask_IMBIE_4km['NAME'] == 'Tracy_Tremenchus', drop=True)\n",
    "    elif nname == 'Dotson':\n",
    "        nisf_list.append(kisf)\n",
    "        ID_IMBIE = mask_IMBIE_4km.ID.where(mask_IMBIE_4km['NAME'] == 'Dotson/Philbin_Inlet', drop=True)\n",
    "    elif nname == 'Rayner/Thyer':\n",
    "        nisf_list.append(kisf)\n",
    "        ID_IMBIE = mask_IMBIE_4km.ID.where(mask_IMBIE_4km['NAME'] == 'Rayner_Thyer', drop=True)\n",
    "    elif nname == 'Pine Island':\n",
    "        nisf_list.append(kisf)\n",
    "        ID_IMBIE = mask_IMBIE_4km.ID.where(mask_IMBIE_4km['NAME'] == 'Pine_Island', drop=True)\n",
    "    elif nname == 'Stancomb Brunt':\n",
    "        nisf_list.append(kisf)\n",
    "        ID_IMBIE = mask_IMBIE_4km.ID.where(mask_IMBIE_4km['NAME'] == 'Brunt_Stancomb', drop=True)\n",
    "    elif nname == 'Edward VIII':\n",
    "        nisf_list.append(kisf)\n",
    "        ID_IMBIE = mask_IMBIE_4km.ID.where(mask_IMBIE_4km['NAME'] == 'Edward_VIII', drop=True)\n",
    "    elif nname == 'Filchner-Ronne':\n",
    "        nisf_list.append(kisf)\n",
    "        ID_IMBIE = mask_IMBIE_4km.ID.where(mask_IMBIE_4km['NAME'] == 'Ronne', drop=True)\n",
    "    elif nname == 'Ross':\n",
    "        nisf_list.append(kisf)\n",
    "        ID_IMBIE = mask_IMBIE_4km.ID.where(mask_IMBIE_4km['NAME'] == 'Ross_East', drop=True)\n",
    "    else:\n",
    "        print(nname)\n",
    "    new_ID_list.append(int(ID_IMBIE.values[0]))\n",
    "    name_list.append(file_isf['isf_name'].sel(Nisf=kisf))\n",
    "\n",
    "    \n"
   ]
  },
  {
   "cell_type": "code",
   "execution_count": null,
   "id": "9",
   "metadata": {},
   "outputs": [],
   "source": [
    "new_mask_IMBIE_extrap = mask_IMBIE['Iceshelf_extrap'].where(mask_IMBIE['Iceshelf_extrap'] != 67, 66)\n",
    "new_mask_IMBIE_extrap = new_mask_IMBIE_extrap.where(new_mask_IMBIE_extrap != 125, 124)\n",
    "\n",
    "new_mask_IMBIE = mask_IMBIE['Iceshelf'].where(mask_IMBIE['Iceshelf'] != 67, 66)\n",
    "new_mask_IMBIE = new_mask_IMBIE.where(new_mask_IMBIE != 125, 124)"
   ]
  },
  {
   "cell_type": "code",
   "execution_count": null,
   "id": "10",
   "metadata": {},
   "outputs": [],
   "source": [
    "new_ds = xr.concat(name_list, dim='Nisf')\n",
    "new_ds['ID_IMBIE'] = xr.DataArray(data=np.array(new_ID_list).astype(int), dims='Nisf')"
   ]
  },
  {
   "cell_type": "code",
   "execution_count": null,
   "id": "11",
   "metadata": {},
   "outputs": [],
   "source": [
    "new_IMBIE_ds = xr.merge([new_ds, new_mask_IMBIE, new_mask_IMBIE_extrap])\n",
    "new_IMBIE_ds.to_netcdf(inputpath_BedMachine + 'Mask_Iceshelf_IMBIE_withNisf.nc')"
   ]
  },
  {
   "cell_type": "code",
   "execution_count": null,
   "id": "12",
   "metadata": {},
   "outputs": [],
   "source": [
    "new_mask_IMBIE_extrap_4km = mask_IMBIE_4km['Iceshelf_extrap'].where(mask_IMBIE_4km['Iceshelf_extrap'] != 67, 66)\n",
    "new_mask_IMBIE_extrap_4km = new_mask_IMBIE_extrap_4km.where(new_mask_IMBIE_extrap_4km != 125, 124)\n",
    "\n",
    "new_mask_IMBIE_4km = mask_IMBIE_4km['Iceshelf'].where(mask_IMBIE_4km['Iceshelf'] != 67, 66)\n",
    "new_mask_IMBIE_4km = new_mask_IMBIE_4km.where(new_mask_IMBIE_4km != 125, 124)"
   ]
  },
  {
   "cell_type": "code",
   "execution_count": null,
   "id": "13",
   "metadata": {},
   "outputs": [],
   "source": [
    "new_IMBIE_ds_4km = xr.merge([new_ds, new_mask_IMBIE_4km, new_mask_IMBIE_extrap_4km])\n",
    "#new_IMBIE_ds_4km.to_netcdf(inputpath_BedMachine + 'Mask_Iceshelf_4km_IMBIE_withNisf.nc')\n",
    "#new_IMBIE_ds_4km.to_netcdf(inputpath_BedMachine + 'Mask_Iceshelf_2km_IMBIE_withNisf.nc')\n",
    "new_IMBIE_ds_4km.to_netcdf(inputpath_BedMachine + 'Mask_Iceshelf_8km_IMBIE_withNisf.nc')"
   ]
  },
  {
   "cell_type": "code",
   "execution_count": null,
   "id": "14",
   "metadata": {},
   "outputs": [],
   "source": [
    "mask_IMBIE_4km['Iceshelf'].where(new_mask_IMBIE_extrap_4km == 124).plot()"
   ]
  },
  {
   "cell_type": "code",
   "execution_count": null,
   "id": "15",
   "metadata": {},
   "outputs": [],
   "source": [
    "for kisf in file_isf.Nisf.isel(Nisf=range(50,64)):\n",
    "    plt.figure()\n",
    "    ((new_IMBIE_ds_4km['Iceshelf_extrap'].where(file_isf['ISF_mask'] > 9) == new_IMBIE_ds_4km.ID_IMBIE.sel(Nisf=kisf)).astype(int) + (file_isf['ISF_mask'] == kisf).astype(int) * 2).plot()\n",
    "    plt.title(file_isf['isf_name'].sel(Nisf=kisf).values)"
   ]
  }
 ],
 "metadata": {
  "kernelspec": {
   "display_name": "py38",
   "language": "python",
   "name": "py38"
  },
  "language_info": {
   "codemirror_mode": {
    "name": "ipython",
    "version": 3
   },
   "file_extension": ".py",
   "mimetype": "text/x-python",
   "name": "python",
   "nbconvert_exporter": "python",
   "pygments_lexer": "ipython3",
   "version": "3.8.12"
  }
 },
 "nbformat": 4,
 "nbformat_minor": 5
}
