{
 "cells": [
  {
   "cell_type": "code",
   "execution_count": null,
   "id": "5cb80e43-601e-46dc-b154-0e7b5e6ebada",
   "metadata": {},
   "outputs": [],
   "source": [
    "\"\"\"\n",
    "Prepare calving netcdf based on Rignot\n",
    "\"\"\""
   ]
  },
  {
   "cell_type": "code",
   "execution_count": null,
   "id": "e723d34e-3895-4349-a7c6-1f3b8ac7aa1d",
   "metadata": {},
   "outputs": [],
   "source": [
    "import xarray as xr\n",
    "import pandas as pd"
   ]
  },
  {
   "cell_type": "code",
   "execution_count": null,
   "id": "fbee60f2-0bdc-4a33-a38e-c4824be24d4e",
   "metadata": {},
   "outputs": [],
   "source": [
    "home_path = '/bettik/burgardc/'"
   ]
  },
  {
   "cell_type": "code",
   "execution_count": null,
   "id": "55f4ebc0-5b6f-4900-b472-670f05afc25a",
   "metadata": {},
   "outputs": [],
   "source": [
    "inputpath_mask = home_path+'/DATA/SUMMER_PAPER/interim/ANTARCTICA_IS_MASKS/BedMachine_4km/'\n",
    "file_isf_orig = xr.open_dataset(inputpath_mask+'BedMachine_4km_isf_masks_and_info_and_distance_oneFRIS.nc')\n",
    "nonnan_Nisf = file_isf_orig['Nisf'].where(np.isfinite(file_isf_orig['front_bot_depth_max']), drop=True).astype(int)\n",
    "file_isf_nonnan = file_isf_orig.sel(Nisf=nonnan_Nisf)\n",
    "rignot_isf = file_isf_nonnan.Nisf.where(np.isfinite(file_isf_nonnan['isf_area_rignot']), drop=True)\n",
    "file_isf = file_isf_nonnan.sel(Nisf=rignot_isf)"
   ]
  },
  {
   "cell_type": "code",
   "execution_count": null,
   "id": "324d5c98-7e8f-41f6-8059-08cdf152dd37",
   "metadata": {},
   "outputs": [],
   "source": [
    "inputpath_csv = home_path+'DATA/SUMMER_PAPER/raw/'\n",
    "Rignot_data = pd.read_csv(inputpath_csv + 'Rignot_data.csv',delimiter=';',header=[0], index_col=[0])"
   ]
  },
  {
   "cell_type": "code",
   "execution_count": null,
   "id": "7521f921-2dbe-4be4-a9c7-3f79464dbfdf",
   "metadata": {},
   "outputs": [],
   "source": [
    "Rignot_data"
   ]
  },
  {
   "cell_type": "code",
   "execution_count": null,
   "id": "920e62ba-0b15-4f93-af87-46f2190cc4c7",
   "metadata": {},
   "outputs": [],
   "source": [
    "calvflux_list = []\n",
    "for kisf in file_isf.Nisf:\n",
    "    nname = file_isf['isf_name'].sel(Nisf=kisf).values\n",
    "    if nname in Rignot_data.index.values:\n",
    "        calvflux_list.append(float(Rignot_data['Ice-front flux'][nname]))\n",
    "    elif nname == 'Ross':\n",
    "        calvflux_list.append(float(Rignot_data['Ice-front flux']['Ross East']) + float(Rignot_data['Ice-front flux']['Ross West']))\n",
    "    elif nname == 'Filchner-Ronne':\n",
    "        calvflux_list.append(float(Rignot_data['Ice-front flux']['Filchner']) + float(Rignot_data['Ice-front flux']['Ronne']))\n",
    "    else:\n",
    "        print(nname)\n",
    "calvflux_array = xr.DataArray(data=np.array(calvflux_list), dims=['Nisf']).assign_coords({'Nisf': file_isf.Nisf})"
   ]
  },
  {
   "cell_type": "code",
   "execution_count": null,
   "id": "ccc7a128-f957-48cb-bdb0-b94626f73511",
   "metadata": {},
   "outputs": [],
   "source": [
    "calvflux_array.to_dataset(name='calving_flux_rignot').to_netcdf(inputpath_csv + 'calving_flux_rignot13.nc')"
   ]
  },
  {
   "cell_type": "code",
   "execution_count": null,
   "id": "0b3f2db0-3198-46d0-bab7-d6a164f41665",
   "metadata": {},
   "outputs": [],
   "source": []
  }
 ],
 "metadata": {
  "kernelspec": {
   "display_name": "py38",
   "language": "python",
   "name": "py38"
  },
  "language_info": {
   "codemirror_mode": {
    "name": "ipython",
    "version": 3
   },
   "file_extension": ".py",
   "mimetype": "text/x-python",
   "name": "python",
   "nbconvert_exporter": "python",
   "pygments_lexer": "ipython3",
   "version": "3.8.12"
  }
 },
 "nbformat": 4,
 "nbformat_minor": 5
}
