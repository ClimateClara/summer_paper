{
 "cells": [
  {
   "cell_type": "code",
   "execution_count": null,
   "id": "0",
   "metadata": {},
   "outputs": [],
   "source": [
    "\"\"\"\n",
    "\n",
    "Compare the melt resulting from old and new tuning for last 10 years of\n",
    "OPM026,OPM031,ctrl94,isf94\n",
    "\n",
    "\"\"\""
   ]
  },
  {
   "cell_type": "code",
   "execution_count": null,
   "id": "1",
   "metadata": {},
   "outputs": [],
   "source": [
    "import xarray as xr\n",
    "import numpy as np\n",
    "import pandas as pd\n",
    "from tqdm.notebook import tqdm\n",
    "import matplotlib.pyplot as plt\n",
    "import seaborn as sns\n",
    "from matplotlib import cm\n",
    "import cartopy\n",
    "import cartopy.crs as ccrs\n",
    "import matplotlib as mpl\n",
    "import cmocean\n",
    "import glob"
   ]
  },
  {
   "cell_type": "code",
   "execution_count": null,
   "id": "2",
   "metadata": {},
   "outputs": [],
   "source": [
    "sns.set_context('paper')"
   ]
  },
  {
   "cell_type": "code",
   "execution_count": null,
   "id": "3",
   "metadata": {},
   "outputs": [],
   "source": [
    "%matplotlib qt5"
   ]
  },
  {
   "cell_type": "code",
   "execution_count": null,
   "id": "4",
   "metadata": {},
   "outputs": [],
   "source": [
    "home_path = '/bettik/burgardc/'"
   ]
  },
  {
   "cell_type": "code",
   "execution_count": null,
   "id": "5",
   "metadata": {},
   "outputs": [],
   "source": [
    "inputpath_mask = home_path+'/DATA/SUMMER_PAPER/interim/ANTARCTICA_IS_MASKS/BedMachine_4km/'\n",
    "file_isf_orig = xr.open_dataset(inputpath_mask+'BedMachinev2_4km_isf_masks_and_info_and_distance_oneFRIS.nc')\n",
    "nonnan_Nisf = file_isf_orig['Nisf'].where(np.isfinite(file_isf_orig['front_bot_depth_max']), drop=True).astype(int)\n",
    "file_isf_nonnan = file_isf_orig.sel(Nisf=nonnan_Nisf)\n",
    "sorted_isf_rignot = [11,69,43,28,12,57,\n",
    "                     70,44,29,13,58,71,45,30,14,\n",
    "                     59,72,46,\n",
    "                     31,\n",
    "                     15,61,73,47,32,16,48,33,17,62,49,34,18,63,74,\n",
    "                     50,35,19,64,\n",
    "                     10,\n",
    "                     36,20,65,51,37,\n",
    "                     22,38,52,23,66,53,39,24,\n",
    "                     67,40,54,75,25,41,\n",
    "                     26,42,55,68,60,27]\n",
    "file_isf = file_isf_nonnan.sel(Nisf=sorted_isf_rignot)\n",
    "file_isf['isf_name'] = file_isf['isf_name'].astype(str)\n",
    "    \n",
    "plot_path='/bettik/burgardc/PLOTS/summer_paper_plots/'"
   ]
  },
  {
   "cell_type": "code",
   "execution_count": null,
   "id": "6",
   "metadata": {},
   "outputs": [],
   "source": [
    "mod = 'CNRM-CM6-1'\n",
    "scenario = 'ssp585'\n",
    "\n",
    "to2300 = False\n",
    "\n",
    "if scenario == 'historical':\n",
    "    yystart = 1850\n",
    "    yyend = 2014\n",
    "else:\n",
    "    if to2300:\n",
    "        yystart = 2015\n",
    "        yyend = 2300\n",
    "    else:\n",
    "        yystart = 2015\n",
    "        yyend = 2100   "
   ]
  },
  {
   "cell_type": "code",
   "execution_count": null,
   "id": "7",
   "metadata": {},
   "outputs": [],
   "source": [
    "sorted_isf_rignot = [11,69,43,28,12,57,\n",
    "                     70,44,29,13,58,71,45,30,14,\n",
    "                     59,72,46,\n",
    "                     31,\n",
    "                     15,61,73,47,32,16,48,33,17,62,49,34,18,63,74,\n",
    "                     50,35,19,64,\n",
    "                     10,\n",
    "                     36,20,65,51,37,\n",
    "                     22,38,52,23,66,53,39,24,\n",
    "                     67,40,54,75,25,41,\n",
    "                     26,42,55,68,60,27]"
   ]
  },
  {
   "cell_type": "markdown",
   "id": "8",
   "metadata": {},
   "source": [
    "READ IN GL FLUX"
   ]
  },
  {
   "cell_type": "code",
   "execution_count": null,
   "id": "9",
   "metadata": {},
   "outputs": [],
   "source": [
    "inputpath_GL = '/bettik/burgardc/DATA/SUMMER_PAPER/processed/GL_FLUX/'\n",
    "\n",
    "GL_fluxes = xr.open_dataset(inputpath_GL + 'all_GL_fluxes_varying_m_ElmerIcegeometries.nc')\n",
    "GL_fluxes_constantSMB = xr.open_dataset(inputpath_GL + 'all_GL_fluxes_varying_m_ElmerIcegeometries_constantSMB.nc')\n",
    "GL_fluxes_orig = xr.open_dataset(inputpath_GL + 'all_GL_fluxes_varying_m.nc')\n",
    "GL_fluxes_ref = xr.open_dataset(inputpath_GL + 'all_ref_GL_fluxes_varying_m_ElmerIcegeometries.nc')\n",
    "\n",
    "\n",
    "#GL_fluxes_with_2300 = xr.open_dataset(inputpath_GL + 'all_GL_fluxes.nc')"
   ]
  },
  {
   "cell_type": "markdown",
   "id": "10",
   "metadata": {},
   "source": [
    "READ IN CALVING FLUX"
   ]
  },
  {
   "cell_type": "code",
   "execution_count": null,
   "id": "11",
   "metadata": {},
   "outputs": [],
   "source": [
    "GL_fluxes_ref"
   ]
  },
  {
   "cell_type": "code",
   "execution_count": null,
   "id": "12",
   "metadata": {},
   "outputs": [],
   "source": [
    "inputpath_caving = '/bettik/burgardc/DATA/SUMMER_PAPER/raw/'\n",
    "calving_flux = xr.open_dataset(inputpath_caving + 'calving_flux_rignot13.nc')['calving_flux_rignot']"
   ]
  },
  {
   "cell_type": "markdown",
   "id": "13",
   "metadata": {},
   "source": [
    "PLOT"
   ]
  },
  {
   "cell_type": "code",
   "execution_count": null,
   "id": "14",
   "metadata": {},
   "outputs": [],
   "source": [
    "(GL_fluxes['flux_Gt_ABUMIP_m1'] - GL_fluxes['flux_Gt_ABUMIP']).max()"
   ]
  },
  {
   "cell_type": "code",
   "execution_count": null,
   "id": "15",
   "metadata": {},
   "outputs": [],
   "source": [
    "GL_fluxes"
   ]
  },
  {
   "cell_type": "code",
   "execution_count": null,
   "id": "16",
   "metadata": {},
   "outputs": [],
   "source": [
    "GL_fluxes_orig['flux_Gt_ABUMIP_m1']"
   ]
  },
  {
   "cell_type": "code",
   "execution_count": null,
   "id": "17",
   "metadata": {},
   "outputs": [],
   "source": [
    "mnb = 1\n",
    "regions = ['Weddell','Bellingshausen','Amundsen','Ross','East 1','East 2','Dronning Maud Land']\n",
    "colors = ['red','orange','gold','mediumturquoise','maroon','magenta','cornflowerblue','grey','yellowgreen']\n",
    "\n",
    "f = plt.figure()\n",
    "f.set_size_inches(8.25*2, 8.25*2)\n",
    "\n",
    "ax={}\n",
    "\n",
    "leg_hdl = []\n",
    "\n",
    "i = 0\n",
    "\n",
    "\n",
    "for kisf in tqdm(sorted_isf_rignot):\n",
    "    \n",
    "    ax[i] = f.add_subplot(8,8,i+1)\n",
    "    \n",
    "\n",
    "    ax[i].plot(GL_fluxes['flux_Gt_ABUMIP'].geoyear, GL_fluxes['flux_Gt_ABUMIP'].sel(Nisf=kisf,m=1),alpha=0.5,color='orange')\n",
    "    ax[i].plot(GL_fluxes['flux_Gt_ABUMIP'].geoyear, GL_fluxes['flux_Gt_ABUMIP'].sel(Nisf=kisf,m=3),alpha=0.5,color='red')\n",
    "    ax[i].plot(GL_fluxes['flux_Gt_ABUMIP'].geoyear, GL_fluxes['flux_Gt_ABUMIP'].sel(Nisf=kisf,m=5),alpha=0.5,color='magenta')\n",
    "    ax[i].plot(GL_fluxes_constantSMB['flux_Gt_ABUMIP'].geoyear, GL_fluxes_constantSMB['flux_Gt_ABUMIP'].sel(Nisf=kisf,m=1),alpha=0.5,color='orange',linestyle='--')\n",
    "    ax[i].plot(GL_fluxes_constantSMB['flux_Gt_ABUMIP'].geoyear, GL_fluxes_constantSMB['flux_Gt_ABUMIP'].sel(Nisf=kisf,m=3),alpha=0.5,color='red',linestyle='--')\n",
    "    ax[i].plot(GL_fluxes_constantSMB['flux_Gt_ABUMIP'].geoyear, GL_fluxes_constantSMB['flux_Gt_ABUMIP'].sel(Nisf=kisf,m=5),alpha=0.5,color='magenta',linestyle='--')\n",
    "\n",
    "    #ax[i].axhline(y=GL_fluxes_orig['flux_Gt_ABUMIP_m1'].sel(Nisf=kisf),color='orange',linewidth=2)\n",
    "    #ax[i].axhline(y=GL_fluxes_orig['flux_Gt_ABUMIP_m3'].sel(Nisf=kisf),color='red',linewidth=2)\n",
    "    #ax[i].axhline(y=GL_fluxes_orig['flux_Gt_ABUMIP_m5'].sel(Nisf=kisf),color='magenta',linewidth=2)\n",
    "    ax[i].axhline(y=GL_fluxes['flux_Gt_ABUMIP'].sel(Nisf=kisf,m=1,geoyear=2025),color='orange',linewidth=2)\n",
    "    ax[i].axhline(y=GL_fluxes['flux_Gt_ABUMIP'].sel(Nisf=kisf,m=3,geoyear=2025),color='red',linewidth=2)\n",
    "    ax[i].axhline(y=GL_fluxes['flux_Gt_ABUMIP'].sel(Nisf=kisf,m=5,geoyear=2025),color='magenta',linewidth=2)\n",
    "    \n",
    "    #ax[i].axhline(y=calving_flux.sel(Nisf=kisf), color='grey')\n",
    "\n",
    "    #if kisf == 23:\n",
    "    #    ax[i].set_title('Tracy Tremenchus')\n",
    "    #elif kisf == 24:\n",
    "    #    ax[i].set_title('Conger/Glenzer')\n",
    "    #elif kisf == 110:\n",
    "    #    ax[i].set_title('Ekström')\n",
    "    #else:\n",
    "    ax[i].set_title(str(file_isf_orig['isf_name'].sel(Nisf=kisf).values))\n",
    "    #ax[i].set_xlim(0,60)\n",
    "    #ax[i].axvline(x=30, c='k', linestyle='--')\n",
    "\n",
    "    i = i+1\n",
    "\n",
    "#f.legend()\n",
    "f.subplots_adjust(bottom=0.05, wspace=0.1)\n",
    "\n",
    "f.tight_layout()\n",
    "sns.despine()\n",
    "plt.savefig(plot_path+'GL_flux_only_ElmerIcegeo_allm_allgeoyears.pdf')"
   ]
  },
  {
   "cell_type": "code",
   "execution_count": null,
   "id": "18",
   "metadata": {},
   "outputs": [],
   "source": [
    "GL_fluxes"
   ]
  },
  {
   "cell_type": "code",
   "execution_count": null,
   "id": "19",
   "metadata": {},
   "outputs": [],
   "source": [
    "mnb = 1\n",
    "regions = ['Weddell','Bellingshausen','Amundsen','Ross','East 1','East 2','Dronning Maud Land']\n",
    "colors = ['red','orange','gold','mediumturquoise','maroon','magenta','cornflowerblue','grey','yellowgreen']\n",
    "\n",
    "f = plt.figure()\n",
    "f.set_size_inches(8.25*2, 8.25*2)\n",
    "\n",
    "ax={}\n",
    "\n",
    "leg_hdl = []\n",
    "\n",
    "i = 0\n",
    "\n",
    "\n",
    "for kisf in tqdm(sorted_isf_rignot):\n",
    "    \n",
    "    ax[i] = f.add_subplot(8,8,i+1)\n",
    "    \n",
    "\n",
    "    ax[i].plot(GL_fluxes_ref['flux_Gt_ref'].geoyear, GL_fluxes_ref['flux_Gt_ref'].sel(Nisf=kisf,m=1),alpha=0.5,color='orange')\n",
    "    ax[i].plot(GL_fluxes_ref['flux_Gt_ref'].geoyear, GL_fluxes_ref['flux_Gt_ref'].sel(Nisf=kisf,m=3),alpha=0.5,color='red')\n",
    "    ax[i].plot(GL_fluxes_ref['flux_Gt_ref'].geoyear, GL_fluxes_ref['flux_Gt_ref'].sel(Nisf=kisf,m=5),alpha=0.5,color='magenta')\n",
    "\n",
    "    #ax[i].axhline(y=GL_fluxes_orig['flux_Gt_ABUMIP_m1'].sel(Nisf=kisf),color='orange',linewidth=2)\n",
    "    #ax[i].axhline(y=GL_fluxes_orig['flux_Gt_ABUMIP_m3'].sel(Nisf=kisf),color='red',linewidth=2)\n",
    "    #ax[i].axhline(y=GL_fluxes_orig['flux_Gt_ABUMIP_m5'].sel(Nisf=kisf),color='magenta',linewidth=2)\n",
    "    ax[i].axhline(y=GL_fluxes['flux_Gt_ABUMIP'].sel(Nisf=kisf,m=1,geoyear=2025),color='orange',linewidth=2)\n",
    "    ax[i].axhline(y=GL_fluxes['flux_Gt_ABUMIP'].sel(Nisf=kisf,m=3,geoyear=2025),color='red',linewidth=2)\n",
    "    ax[i].axhline(y=GL_fluxes['flux_Gt_ABUMIP'].sel(Nisf=kisf,m=5,geoyear=2025),color='magenta',linewidth=2)\n",
    "    \n",
    "    #ax[i].axhline(y=calving_flux.sel(Nisf=kisf), color='grey')\n",
    "\n",
    "    #if kisf == 23:\n",
    "    #    ax[i].set_title('Tracy Tremenchus')\n",
    "    #elif kisf == 24:\n",
    "    #    ax[i].set_title('Conger/Glenzer')\n",
    "    #elif kisf == 110:\n",
    "    #    ax[i].set_title('Ekström')\n",
    "    #else:\n",
    "    ax[i].set_title(str(file_isf_orig['isf_name'].sel(Nisf=kisf).values))\n",
    "    #ax[i].set_xlim(0,60)\n",
    "    #ax[i].axvline(x=30, c='k', linestyle='--')\n",
    "\n",
    "    i = i+1\n",
    "\n",
    "#f.legend()\n",
    "f.subplots_adjust(bottom=0.05, wspace=0.1)\n",
    "\n",
    "f.tight_layout()\n",
    "sns.despine()\n",
    "plt.savefig(plot_path+'GL_ref_flux_only_ElmerIcegeo_allm_allgeoyears.pdf')"
   ]
  },
  {
   "cell_type": "code",
   "execution_count": null,
   "id": "20",
   "metadata": {},
   "outputs": [],
   "source": [
    "mnb = 1\n",
    "regions = ['Weddell','Bellingshausen','Amundsen','Ross','East 1','East 2','Dronning Maud Land']\n",
    "colors = ['red','orange','gold','mediumturquoise','maroon','magenta','cornflowerblue','grey','yellowgreen']\n",
    "\n",
    "f = plt.figure()\n",
    "f.set_size_inches(8.25*2, 8.25*2)\n",
    "\n",
    "ax={}\n",
    "\n",
    "leg_hdl = []\n",
    "\n",
    "i = 0\n",
    "\n",
    "\n",
    "for kisf in tqdm(sorted_isf_rignot):\n",
    "    \n",
    "    ax[i] = f.add_subplot(8,8,i+1)\n",
    "    \n",
    "    for gg,geoyear in enumerate(GL_fluxes.geoyear):  \n",
    "        ax[i].axhline(y=GL_fluxes['flux_Gt_ABUMIP'].sel(Nisf=kisf,m=mnb,geoyear=geoyear),alpha=0.5,color=colors[gg])\n",
    "    \n",
    "    #ax[i].axhline(y=calving_flux.sel(Nisf=kisf), color='grey')\n",
    "\n",
    "    #if kisf == 23:\n",
    "    #    ax[i].set_title('Tracy Tremenchus')\n",
    "    #elif kisf == 24:\n",
    "    #    ax[i].set_title('Conger/Glenzer')\n",
    "    #elif kisf == 110:\n",
    "    #    ax[i].set_title('Ekström')\n",
    "    #else:\n",
    "    ax[i].set_title(str(file_isf_orig['isf_name'].sel(Nisf=kisf).values))\n",
    "    #ax[i].set_xlim(0,60)\n",
    "    #ax[i].axvline(x=30, c='k', linestyle='--')\n",
    "\n",
    "    i = i+1\n",
    "\n",
    "#f.legend()\n",
    "f.subplots_adjust(bottom=0.05, wspace=0.1)\n",
    "\n",
    "f.tight_layout()\n",
    "sns.despine()\n",
    "plt.savefig(plot_path+'GL_flux_only_m1_ElmerIcegeo_'+str(geoyear.values)+'.pdf')"
   ]
  },
  {
   "cell_type": "code",
   "execution_count": null,
   "id": "21",
   "metadata": {},
   "outputs": [],
   "source": [
    "regions = ['Weddell','Bellingshausen','Amundsen','Ross','East 1','East 2','Dronning Maud Land']\n",
    "colors = ['red','orange','gold','mediumturquoise','maroon','magenta','cornflowerblue','grey','yellowgreen']\n",
    "\n",
    "f = plt.figure()\n",
    "f.set_size_inches(8.25*2, 8.25*2)\n",
    "\n",
    "ax={}\n",
    "\n",
    "leg_hdl = []\n",
    "\n",
    "i = 0\n",
    "\n",
    "\n",
    "for kisf in tqdm(sorted_isf_rignot):\n",
    "    \n",
    "    ax[i] = f.add_subplot(8,8,i+1)\n",
    "    \n",
    "        \n",
    "    ax[i].axhline(y=GL_fluxes_with_2300['flux_Gt_ABUMIP_2300'].sel(Nisf=kisf), color='red',alpha=0.8)\n",
    "    ax[i].axhline(y=GL_fluxes['flux_Gt_ABUMIP_m1'].sel(Nisf=kisf), color='orange',alpha=0.8)\n",
    "    \n",
    "    #ax[i].axhline(y=calving_flux.sel(Nisf=kisf), color='grey')\n",
    "\n",
    "    #if kisf == 23:\n",
    "    #    ax[i].set_title('Tracy Tremenchus')\n",
    "    #elif kisf == 24:\n",
    "    #    ax[i].set_title('Conger/Glenzer')\n",
    "    #elif kisf == 110:\n",
    "    #    ax[i].set_title('Ekström')\n",
    "    #else:\n",
    "    ax[i].set_title(str(file_isf_orig['isf_name'].sel(Nisf=kisf).values))\n",
    "    #ax[i].set_xlim(0,60)\n",
    "    #ax[i].axvline(x=30, c='k', linestyle='--')\n",
    "\n",
    "    i = i+1\n",
    "\n",
    "#f.legend()\n",
    "f.subplots_adjust(bottom=0.05, wspace=0.1)\n",
    "\n",
    "f.tight_layout()\n",
    "sns.despine()\n",
    "plt.savefig(plot_path+'GL_flux_compare_ABUMIPref_2300.pdf')"
   ]
  },
  {
   "cell_type": "code",
   "execution_count": null,
   "id": "22",
   "metadata": {},
   "outputs": [],
   "source": [
    "GL_fluxes"
   ]
  },
  {
   "cell_type": "code",
   "execution_count": null,
   "id": "23",
   "metadata": {},
   "outputs": [],
   "source": []
  }
 ],
 "metadata": {
  "kernelspec": {
   "display_name": "py38",
   "language": "python",
   "name": "py38"
  },
  "language_info": {
   "codemirror_mode": {
    "name": "ipython",
    "version": 3
   },
   "file_extension": ".py",
   "mimetype": "text/x-python",
   "name": "python",
   "nbconvert_exporter": "python",
   "pygments_lexer": "ipython3",
   "version": "3.8.20"
  }
 },
 "nbformat": 4,
 "nbformat_minor": 5
}
