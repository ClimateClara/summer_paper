{
 "cells": [
  {
   "cell_type": "code",
   "execution_count": null,
   "id": "0",
   "metadata": {},
   "outputs": [],
   "source": [
    "\"\"\"\n",
    "\n",
    "PLOT CYRILLE'S ABUMIP RESULTS AND CORRECT THE NISFs SO THAT IT CORRESPONDS TO MINE\n",
    "\n",
    "\"\"\""
   ]
  },
  {
   "cell_type": "code",
   "execution_count": null,
   "id": "1",
   "metadata": {},
   "outputs": [],
   "source": [
    "import xarray as xr\n",
    "import pandas as pd"
   ]
  },
  {
   "cell_type": "markdown",
   "id": "2",
   "metadata": {},
   "source": [
    "READ IN DATA"
   ]
  },
  {
   "cell_type": "code",
   "execution_count": null,
   "id": "3",
   "metadata": {},
   "outputs": [],
   "source": [
    "inputpath_GL = '/bettik/burgardc/DATA/SUMMER_PAPER/processed/GL_FLUX/SUMMER_PAPER-ABUMIP/Flux_files/'\n",
    "inputpath_GL_corr = '/bettik/burgardc/DATA/SUMMER_PAPER/processed/GL_FLUX/GL_Fluxes_corrmax/'\n",
    "inputpath_BedMachine='/bettik/burgardc/DATA/SUMMER_PAPER/interim/'\n",
    "outputpath_GL = '/bettik/burgardc/DATA/SUMMER_PAPER/processed/GL_FLUX/'"
   ]
  },
  {
   "cell_type": "code",
   "execution_count": null,
   "id": "4",
   "metadata": {},
   "outputs": [],
   "source": [
    "IMBIE_file = xr.open_dataset(inputpath_BedMachine + 'Mask_Iceshelf_4km_IMBIE_withNisf.nc')"
   ]
  },
  {
   "cell_type": "code",
   "execution_count": null,
   "id": "5",
   "metadata": {},
   "outputs": [],
   "source": [
    "table_REF = pd.read_csv(inputpath_GL+'Flux_BEDMACHINE.REF.txt', header=4, delimiter='\\t\\t', index_col=0)\n",
    "table_ABUMIP = pd.read_csv(inputpath_GL+'Flux_BEDMACHINE.ABUMIP.txt', header=4, delimiter='\\t\\t', index_col=0)\n",
    "\n",
    "table_REF_2300 = pd.read_csv(inputpath_GL+'Flux_2300.AE04.REF.txt', header=4, delimiter='\\t\\t', index_col=0)\n",
    "table_ABUMIP_2300 = pd.read_csv(inputpath_GL+'Flux_2300.AE04.ABUMIP.txt', header=4, delimiter='\\t\\t', index_col=0)\n",
    "\n",
    "table_REF_m1 = pd.read_csv(inputpath_GL+'Flux_BEDMACHINE.m1.REF.txt', header=4, delimiter='\\t\\t', index_col=0)\n",
    "table_REF_m3 = pd.read_csv(inputpath_GL+'Flux_BEDMACHINE.m3.REF.txt', header=4, delimiter='\\t\\t', index_col=0)\n",
    "table_REF_m5 = pd.read_csv(inputpath_GL+'Flux_BEDMACHINE.m5.REF.txt', header=4, delimiter='\\t\\t', index_col=0)\n",
    "\n",
    "table_ABUMIP_m1 = pd.read_csv(inputpath_GL_corr+'Flux_BEDMACHINE.m1.ABUMIP.txt', header=5, delimiter='\\t\\t', index_col=0)\n",
    "table_ABUMIP_m3 = pd.read_csv(inputpath_GL_corr+'Flux_BEDMACHINE.m3.ABUMIP.txt', header=5, delimiter='\\t\\t', index_col=0)\n",
    "table_ABUMIP_m5 = pd.read_csv(inputpath_GL_corr+'Flux_BEDMACHINE.m5.ABUMIP.txt', header=5, delimiter='\\t\\t', index_col=0)\n",
    "\n"
   ]
  },
  {
   "cell_type": "code",
   "execution_count": null,
   "id": "6",
   "metadata": {},
   "outputs": [],
   "source": [
    "table_REF_clean = table_REF.drop(['Unnamed: 3','Flux (Gt/yr)'],axis=1).rename(columns={'Unnamed: 2': 'Flux (Gt/yr)'})\n",
    "table_ABUMIP_clean = table_ABUMIP.drop(['Unnamed: 3','Flux (Gt/yr)'],axis=1).rename(columns={'Unnamed: 2': 'Flux (Gt/yr)'})\n",
    "table_REF_m1_clean = table_REF_m1.drop(['Unnamed: 3','Flux (Gt/yr)'],axis=1).rename(columns={'Unnamed: 2': 'Flux (Gt/yr)'})\n",
    "table_REF_m3_clean = table_REF_m3.drop(['Unnamed: 3','Flux (Gt/yr)'],axis=1).rename(columns={'Unnamed: 2': 'Flux (Gt/yr)'})\n",
    "table_REF_m5_clean = table_REF_m5.drop(['Unnamed: 3','Flux (Gt/yr)'],axis=1).rename(columns={'Unnamed: 2': 'Flux (Gt/yr)'})\n",
    "table_ABUMIP_m1_clean = table_ABUMIP_m1.drop(['Unnamed: 3','Flux (Gt/yr)'],axis=1).rename(columns={'Unnamed: 2': 'Flux (Gt/yr)'})\n",
    "table_ABUMIP_m3_clean = table_ABUMIP_m3.drop(['Unnamed: 3','Flux (Gt/yr)'],axis=1).rename(columns={'Unnamed: 2': 'Flux (Gt/yr)'})\n",
    "table_ABUMIP_m5_clean = table_ABUMIP_m5.drop(['Unnamed: 3','Flux (Gt/yr)'],axis=1).rename(columns={'Unnamed: 2': 'Flux (Gt/yr)'})"
   ]
  },
  {
   "cell_type": "code",
   "execution_count": null,
   "id": "7",
   "metadata": {},
   "outputs": [],
   "source": [
    "table_REF_2300 = table_REF_2300.drop(['Unnamed: 3','Flux (Gt/yr)'],axis=1).rename(columns={'Unnamed: 2': 'Flux (Gt/yr)'})\n",
    "table_ABUMIP_2300 = table_ABUMIP_2300.drop(['Unnamed: 3','Flux (Gt/yr)'],axis=1).rename(columns={'Unnamed: 2': 'Flux (Gt/yr)'})"
   ]
  },
  {
   "cell_type": "code",
   "execution_count": null,
   "id": "8",
   "metadata": {},
   "outputs": [],
   "source": [
    "inputpath_mask='/bettik/burgardc/DATA/SUMMER_PAPER/interim/ANTARCTICA_IS_MASKS/BedMachine_4km/'\n",
    "file_isf_orig = xr.open_dataset(inputpath_mask+'BedMachinev2_4km_isf_masks_and_info_and_distance_oneFRIS.nc')\n",
    "nonnan_Nisf = file_isf_orig['Nisf'].where(np.isfinite(file_isf_orig['front_bot_depth_max']), drop=True).astype(int)\n",
    "file_isf_nonnan = file_isf_orig.sel(Nisf=nonnan_Nisf)\n",
    "rignot_isf = file_isf_nonnan.Nisf.where(np.isfinite(file_isf_nonnan['isf_area_rignot']), drop=True)\n",
    "file_isf = file_isf_nonnan.sel(Nisf=rignot_isf)"
   ]
  },
  {
   "cell_type": "code",
   "execution_count": null,
   "id": "9",
   "metadata": {},
   "outputs": [],
   "source": [
    "table_REF_m3_clean"
   ]
  },
  {
   "cell_type": "code",
   "execution_count": null,
   "id": "10",
   "metadata": {},
   "outputs": [],
   "source": [
    "flux_ref_list = []\n",
    "flux_ref_m1_list = []\n",
    "flux_ref_m3_list = []\n",
    "flux_ref_m5_list = []\n",
    "flux_ABUMIP_m1_list = []\n",
    "flux_ABUMIP_m3_list = []\n",
    "flux_ABUMIP_m5_list = []\n",
    "flux_ABUMIP_list = []\n",
    "flux_ref_2300_list = []\n",
    "flux_ABUMIP_2300_list = []\n",
    "\n",
    "for kisf in IMBIE_file.Nisf:\n",
    "    flux_Gt_ref = table_REF_clean['Flux (Gt/yr)'][IMBIE_file.ID_IMBIE.sel(Nisf=kisf).values]\n",
    "    flux_ref_list.append(xr.DataArray(data=np.array(flux_Gt_ref)).assign_coords({'Nisf': kisf}))\n",
    "\n",
    "    flux_Gt_ref_m1 = table_REF_m1_clean['Flux (Gt/yr)'][IMBIE_file.ID_IMBIE.sel(Nisf=kisf).values]\n",
    "    flux_ref_m1_list.append(xr.DataArray(data=np.array(flux_Gt_ref_m1)).assign_coords({'Nisf': kisf}))\n",
    "\n",
    "    flux_Gt_ref_m3 = table_REF_m3_clean['Flux (Gt/yr)'][IMBIE_file.ID_IMBIE.sel(Nisf=kisf).values]\n",
    "    flux_ref_m3_list.append(xr.DataArray(data=np.array(flux_Gt_ref_m3)).assign_coords({'Nisf': kisf}))\n",
    "\n",
    "    flux_Gt_ref_m5 = table_REF_m5_clean['Flux (Gt/yr)'][IMBIE_file.ID_IMBIE.sel(Nisf=kisf).values]\n",
    "    flux_ref_m5_list.append(xr.DataArray(data=np.array(flux_Gt_ref_m5)).assign_coords({'Nisf': kisf}))\n",
    "    \n",
    "    flux_Gt_ABUMIP_m1 = table_ABUMIP_m1_clean['Flux (Gt/yr)'][IMBIE_file.ID_IMBIE.sel(Nisf=kisf).values]\n",
    "    flux_ABUMIP_m1_list.append(xr.DataArray(data=np.array(flux_Gt_ABUMIP_m1)).assign_coords({'Nisf': kisf}))\n",
    "\n",
    "    flux_Gt_ABUMIP_m3 = table_ABUMIP_m3_clean['Flux (Gt/yr)'][IMBIE_file.ID_IMBIE.sel(Nisf=kisf).values]\n",
    "    flux_ABUMIP_m3_list.append(xr.DataArray(data=np.array(flux_Gt_ABUMIP_m3)).assign_coords({'Nisf': kisf}))\n",
    "\n",
    "    flux_Gt_ABUMIP_m5 = table_ABUMIP_m5_clean['Flux (Gt/yr)'][IMBIE_file.ID_IMBIE.sel(Nisf=kisf).values]\n",
    "    flux_ABUMIP_m5_list.append(xr.DataArray(data=np.array(flux_Gt_ABUMIP_m5)).assign_coords({'Nisf': kisf}))\n",
    "    \n",
    "    flux_Gt_ABUMIP = table_ABUMIP_clean['Flux (Gt/yr)'][IMBIE_file.ID_IMBIE.sel(Nisf=kisf).values]\n",
    "    flux_ABUMIP_list.append(xr.DataArray(data=np.array(flux_Gt_ABUMIP)).assign_coords({'Nisf': kisf}))\n",
    "    \n",
    "    flux_Gt_ref_2300 = table_REF_2300['Flux (Gt/yr)'][IMBIE_file.ID_IMBIE.sel(Nisf=kisf).values]\n",
    "    flux_ref_2300_list.append(xr.DataArray(data=np.array(flux_Gt_ref_2300)).assign_coords({'Nisf': kisf}))\n",
    "    \n",
    "    flux_Gt_ABUMIP_2300 = table_ABUMIP_2300['Flux (Gt/yr)'][IMBIE_file.ID_IMBIE.sel(Nisf=kisf).values]\n",
    "    flux_ABUMIP_2300_list.append(xr.DataArray(data=np.array(flux_Gt_ABUMIP_2300)).assign_coords({'Nisf': kisf}))\n",
    "    \n",
    "flux_ref = xr.concat(flux_ref_list, dim='Nisf').rename('flux_Gt_ref')\n",
    "flux_ref = xr.concat([xr.DataArray(data=np.array(table_REF_clean['Flux (Gt/yr)'][124] + table_REF_clean['Flux (Gt/yr)'][125])).rename('flux_Gt_ref').assign_coords({'Nisf': 11, 'ID_IMBIE': 124}),flux_ref.drop_sel(Nisf=11)], dim='Nisf')\n",
    "flux_ref = xr.concat([xr.DataArray(data=np.array(table_REF_clean['Flux (Gt/yr)'][66] + table_REF_clean['Flux (Gt/yr)'][67])).rename('flux_Gt_ref').assign_coords({'Nisf': 10, 'ID_IMBIE': 66}),flux_ref.drop_sel(Nisf=10)], dim='Nisf')\n",
    "\n",
    "flux_ref_m1 = xr.concat(flux_ref_m1_list, dim='Nisf').rename('flux_Gt_ref_m1')\n",
    "flux_ref_m1 = xr.concat([xr.DataArray(data=np.array(table_REF_m1_clean['Flux (Gt/yr)'][124] + table_REF_m1_clean['Flux (Gt/yr)'][125])).rename('flux_Gt_ref_m1').assign_coords({'Nisf': 11, 'ID_IMBIE': 124}),flux_ref_m1.drop_sel(Nisf=11)], dim='Nisf')\n",
    "flux_ref_m1 = xr.concat([xr.DataArray(data=np.array(table_REF_m1_clean['Flux (Gt/yr)'][66] + table_REF_m1_clean['Flux (Gt/yr)'][67])).rename('flux_Gt_ref_m1').assign_coords({'Nisf': 10, 'ID_IMBIE': 66}),flux_ref_m1.drop_sel(Nisf=10)], dim='Nisf')\n",
    "\n",
    "flux_ref_m3 = xr.concat(flux_ref_m3_list, dim='Nisf').rename('flux_Gt_ref_m1')\n",
    "flux_ref_m3 = xr.concat([xr.DataArray(data=np.array(table_REF_m3_clean['Flux (Gt/yr)'][124] + table_REF_m3_clean['Flux (Gt/yr)'][125])).rename('flux_Gt_ref_m3').assign_coords({'Nisf': 11, 'ID_IMBIE': 124}),flux_ref_m3.drop_sel(Nisf=11)], dim='Nisf')\n",
    "flux_ref_m3 = xr.concat([xr.DataArray(data=np.array(table_REF_m3_clean['Flux (Gt/yr)'][66] + table_REF_m3_clean['Flux (Gt/yr)'][67])).rename('flux_Gt_ref_m3').assign_coords({'Nisf': 10, 'ID_IMBIE': 66}),flux_ref_m3.drop_sel(Nisf=10)], dim='Nisf')\n",
    "\n",
    "flux_ref_m5 = xr.concat(flux_ref_m5_list, dim='Nisf').rename('flux_Gt_ref_m1')\n",
    "flux_ref_m5 = xr.concat([xr.DataArray(data=np.array(table_REF_m5_clean['Flux (Gt/yr)'][124] + table_REF_m5_clean['Flux (Gt/yr)'][125])).rename('flux_Gt_ref_m5').assign_coords({'Nisf': 11, 'ID_IMBIE': 124}),flux_ref_m5.drop_sel(Nisf=11)], dim='Nisf')\n",
    "flux_ref_m5 = xr.concat([xr.DataArray(data=np.array(table_REF_m5_clean['Flux (Gt/yr)'][66] + table_REF_m5_clean['Flux (Gt/yr)'][67])).rename('flux_Gt_ref_m5').assign_coords({'Nisf': 10, 'ID_IMBIE': 66}),flux_ref_m5.drop_sel(Nisf=10)], dim='Nisf')\n",
    "\n",
    "flux_ABUMIP_m1 = xr.concat(flux_ABUMIP_m1_list, dim='Nisf').rename('flux_Gt_ref_m1')\n",
    "flux_ABUMIP_m1 = xr.concat([xr.DataArray(data=np.array(table_ABUMIP_m1_clean['Flux (Gt/yr)'][124] + table_ABUMIP_m1_clean['Flux (Gt/yr)'][125])).rename('flux_Gt_ABUMIP_m1').assign_coords({'Nisf': 11, 'ID_IMBIE': 124}),flux_ABUMIP_m1.drop_sel(Nisf=11)], dim='Nisf')\n",
    "flux_ABUMIP_m1 = xr.concat([xr.DataArray(data=np.array(table_ABUMIP_m1_clean['Flux (Gt/yr)'][66] + table_ABUMIP_m1_clean['Flux (Gt/yr)'][67])).rename('flux_Gt_ABUMIP_m1').assign_coords({'Nisf': 10, 'ID_IMBIE': 66}),flux_ABUMIP_m1.drop_sel(Nisf=10)], dim='Nisf')\n",
    "\n",
    "flux_ABUMIP_m3 = xr.concat(flux_ABUMIP_m3_list, dim='Nisf').rename('flux_Gt_ref_m1')\n",
    "flux_ABUMIP_m3 = xr.concat([xr.DataArray(data=np.array(table_ABUMIP_m3_clean['Flux (Gt/yr)'][124] + table_ABUMIP_m3_clean['Flux (Gt/yr)'][125])).rename('flux_Gt_ABUMIP_m3').assign_coords({'Nisf': 11, 'ID_IMBIE': 124}),flux_ABUMIP_m3.drop_sel(Nisf=11)], dim='Nisf')\n",
    "flux_ABUMIP_m3 = xr.concat([xr.DataArray(data=np.array(table_ABUMIP_m3_clean['Flux (Gt/yr)'][66] + table_ABUMIP_m3_clean['Flux (Gt/yr)'][67])).rename('flux_Gt_ABUMIP_m3').assign_coords({'Nisf': 10, 'ID_IMBIE': 66}),flux_ABUMIP_m3.drop_sel(Nisf=10)], dim='Nisf')\n",
    "\n",
    "flux_ABUMIP_m5 = xr.concat(flux_ABUMIP_m5_list, dim='Nisf').rename('flux_Gt_ref_m1')\n",
    "flux_ABUMIP_m5 = xr.concat([xr.DataArray(data=np.array(table_ABUMIP_m5_clean['Flux (Gt/yr)'][124] + table_ABUMIP_m5_clean['Flux (Gt/yr)'][125])).rename('flux_Gt_ABUMIP_m5').assign_coords({'Nisf': 11, 'ID_IMBIE': 124}),flux_ABUMIP_m5.drop_sel(Nisf=11)], dim='Nisf')\n",
    "flux_ABUMIP_m5 = xr.concat([xr.DataArray(data=np.array(table_ABUMIP_m5_clean['Flux (Gt/yr)'][66] + table_ABUMIP_m5_clean['Flux (Gt/yr)'][67])).rename('flux_Gt_ABUMIP_m5').assign_coords({'Nisf': 10, 'ID_IMBIE': 66}),flux_ABUMIP_m5.drop_sel(Nisf=10)], dim='Nisf')\n",
    "\n",
    "flux_ABUMIP = xr.concat(flux_ABUMIP_list, dim='Nisf').rename('flux_Gt_ABUMIP')\n",
    "flux_ABUMIP = xr.concat([xr.DataArray(data=np.array(table_ABUMIP_clean['Flux (Gt/yr)'][124] + table_ABUMIP_clean['Flux (Gt/yr)'][125])).rename('flux_Gt_ABUMIP').assign_coords({'Nisf': 11, 'ID_IMBIE': 124}),flux_ABUMIP.drop_sel(Nisf=11)], dim='Nisf')\n",
    "flux_ABUMIP = xr.concat([xr.DataArray(data=np.array(table_ABUMIP_clean['Flux (Gt/yr)'][66] + table_ABUMIP_clean['Flux (Gt/yr)'][67])).rename('flux_Gt_ABUMIP').assign_coords({'Nisf': 10, 'ID_IMBIE': 66}),flux_ABUMIP.drop_sel(Nisf=10)], dim='Nisf')\n",
    "\n",
    "flux_ref_2300 = xr.concat(flux_ref_2300_list, dim='Nisf').rename('flux_Gt_ref_2300')\n",
    "flux_ref_2300 = xr.concat([xr.DataArray(data=np.array(table_REF_2300['Flux (Gt/yr)'][124] + table_REF_2300['Flux (Gt/yr)'][125])).rename('flux_Gt_ref_2300').assign_coords({'Nisf': 11, 'ID_IMBIE': 124}),flux_ref_2300.drop_sel(Nisf=11)], dim='Nisf')\n",
    "flux_ref_2300 = xr.concat([xr.DataArray(data=np.array(table_REF_2300['Flux (Gt/yr)'][66] + table_REF_2300['Flux (Gt/yr)'][67])).rename('flux_Gt_ref_2300').assign_coords({'Nisf': 10, 'ID_IMBIE': 66}),flux_ref_2300.drop_sel(Nisf=10)], dim='Nisf')\n",
    "\n",
    "flux_ABUMIP_2300 = xr.concat(flux_ABUMIP_2300_list, dim='Nisf').rename('flux_Gt_ABUMIP_2300')\n",
    "flux_ABUMIP_2300 = xr.concat([xr.DataArray(data=np.array(table_ABUMIP_2300['Flux (Gt/yr)'][124] + table_ABUMIP_2300['Flux (Gt/yr)'][125])).rename('flux_Gt_ABUMIP_2300').assign_coords({'Nisf': 11, 'ID_IMBIE': 124}),flux_ABUMIP_2300.drop_sel(Nisf=11)], dim='Nisf')\n",
    "flux_ABUMIP_2300 = xr.concat([xr.DataArray(data=np.array(table_ABUMIP_2300['Flux (Gt/yr)'][66] + table_ABUMIP_2300['Flux (Gt/yr)'][67])).rename('flux_Gt_ABUMIP_2300').assign_coords({'Nisf': 10, 'ID_IMBIE': 66}),flux_ABUMIP_2300.drop_sel(Nisf=10)], dim='Nisf')\n"
   ]
  },
  {
   "cell_type": "code",
   "execution_count": null,
   "id": "11",
   "metadata": {},
   "outputs": [],
   "source": [
    "flux_all = xr.merge([flux_ref,flux_ABUMIP,flux_ref_2300,flux_ABUMIP_2300])\n",
    "flux_all.to_netcdf(outputpath_GL + 'all_GL_fluxes.nc')"
   ]
  },
  {
   "cell_type": "code",
   "execution_count": null,
   "id": "12",
   "metadata": {},
   "outputs": [],
   "source": [
    "flux_all_m = xr.merge([flux_ref,flux_ref_m1,flux_ref_m3,flux_ref_m5,flux_ABUMIP,flux_ABUMIP_m1,flux_ABUMIP_m3,flux_ABUMIP_m5])\n",
    "flux_all_m.to_netcdf(outputpath_GL + 'all_GL_fluxes_varying_m.nc')"
   ]
  }
 ],
 "metadata": {
  "kernelspec": {
   "display_name": "py38",
   "language": "python",
   "name": "py38"
  },
  "language_info": {
   "codemirror_mode": {
    "name": "ipython",
    "version": 3
   },
   "file_extension": ".py",
   "mimetype": "text/x-python",
   "name": "python",
   "nbconvert_exporter": "python",
   "pygments_lexer": "ipython3",
   "version": "3.8.12"
  }
 },
 "nbformat": 4,
 "nbformat_minor": 5
}
