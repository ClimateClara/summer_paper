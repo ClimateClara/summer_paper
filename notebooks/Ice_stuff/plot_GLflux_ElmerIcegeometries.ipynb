{
 "cells": [
  {
   "cell_type": "code",
   "execution_count": null,
   "id": "0",
   "metadata": {},
   "outputs": [],
   "source": [
    "\"\"\"\n",
    "\n",
    "PLOT CYRILLE'S ABUMIP RESULTS AND CORRECT THE NISFs SO THAT IT CORRESPONDS TO MINE\n",
    "\n",
    "\"\"\""
   ]
  },
  {
   "cell_type": "code",
   "execution_count": null,
   "id": "1",
   "metadata": {},
   "outputs": [],
   "source": [
    "import xarray as xr\n",
    "import pandas as pd\n",
    "import numpy as np"
   ]
  },
  {
   "cell_type": "markdown",
   "id": "2",
   "metadata": {},
   "source": [
    "READ IN DATA"
   ]
  },
  {
   "cell_type": "code",
   "execution_count": null,
   "id": "3",
   "metadata": {},
   "outputs": [],
   "source": [
    "inputpath_GL = '/bettik/burgardc/DATA/SUMMER_PAPER/processed/GL_FLUX/Flux_files_Final/'\n",
    "#inputpath_GL_corr = '/bettik/burgardc/DATA/SUMMER_PAPER/processed/GL_FLUX/GL_Fluxes_corrmax/'\n",
    "inputpath_BedMachine='/bettik/burgardc/DATA/SUMMER_PAPER/interim/'\n",
    "outputpath_GL = '/bettik/burgardc/DATA/SUMMER_PAPER/processed/GL_FLUX/'"
   ]
  },
  {
   "cell_type": "code",
   "execution_count": null,
   "id": "4",
   "metadata": {},
   "outputs": [],
   "source": [
    "IMBIE_file = xr.open_dataset(inputpath_BedMachine + 'Mask_Iceshelf_4km_IMBIE_withNisf.nc')"
   ]
  },
  {
   "cell_type": "code",
   "execution_count": null,
   "id": "5",
   "metadata": {},
   "outputs": [],
   "source": [
    "geoyear = 2050\n",
    "pd.read_csv(inputpath_GL+'Flux_ant50.gl1-ssp585_ipsl-cm6a-lr_mar_exp004-sp.m5.abumip_'+str(geoyear)+'.txt', header=5, delimiter='\\t\\t', index_col=0)"
   ]
  },
  {
   "cell_type": "code",
   "execution_count": null,
   "id": "6",
   "metadata": {},
   "outputs": [],
   "source": [
    "mnb"
   ]
  },
  {
   "cell_type": "code",
   "execution_count": null,
   "id": "7",
   "metadata": {},
   "outputs": [],
   "source": [
    "geoyear"
   ]
  },
  {
   "cell_type": "code",
   "execution_count": null,
   "id": "8",
   "metadata": {},
   "outputs": [],
   "source": [
    "ds_all = xr.Dataset()\n",
    "#for geoyear in range(2025,2201,25):\n",
    "all_list = []\n",
    "for geoyear in range(2025,2201,25):\n",
    "    all_ABUMIP_list = []\n",
    "    for mnb in [1,3,5]:\n",
    "        ABUMIP_list = []\n",
    "        table_ABUMIP = pd.read_csv(inputpath_GL+'Flux_ant50.gl1-ssp585_ipsl-cm6a-lr_mar_exp004-sp.m'+str(mnb)+'.abumip_'+str(geoyear)+'.txt', header=5, delimiter='\\t\\t', index_col=0)\n",
    "        table_ABUMIP_clean = table_ABUMIP.drop(['Unnamed: 3','Flux (Gt/yr)'],axis=1).rename(columns={'Unnamed: 2': 'Flux (Gt/yr)'})\n",
    "        \n",
    "        for kisf in IMBIE_file.Nisf:\n",
    "            flux_Gt_ABUMIP = table_ABUMIP_clean['Flux (Gt/yr)'][IMBIE_file.ID_IMBIE.sel(Nisf=kisf).values]\n",
    "            ABUMIP_list.append(xr.DataArray(data=np.array(flux_Gt_ABUMIP)).assign_coords({'Nisf': kisf}))\n",
    "    \n",
    "        flux_ABUMIP = xr.concat(ABUMIP_list, dim='Nisf').rename('flux_Gt_ABUMIP')\n",
    "        flux_ABUMIP = xr.concat([xr.DataArray(data=np.array(table_ABUMIP_clean['Flux (Gt/yr)'][124] + table_ABUMIP_clean['Flux (Gt/yr)'][125])).rename('flux_Gt_ABUMIP_'+str(geoyear)).assign_coords({'Nisf': 11, 'ID_IMBIE': 124}),flux_ABUMIP.drop_sel(Nisf=11)], dim='Nisf')\n",
    "        flux_ABUMIP = xr.concat([xr.DataArray(data=np.array(table_ABUMIP_clean['Flux (Gt/yr)'][66] + table_ABUMIP_clean['Flux (Gt/yr)'][67])).rename('flux_Gt_ABUMIP_'+str(geoyear)).assign_coords({'Nisf': 10, 'ID_IMBIE': 66}),flux_ABUMIP.drop_sel(Nisf=10)], dim='Nisf')\n",
    "\n",
    "        all_ABUMIP_list.append(flux_ABUMIP.assign_coords({'m':mnb}))\n",
    "        \n",
    "    ABUMIP_for_m = xr.concat(all_ABUMIP_list, dim='m')\n",
    "    all_list.append(ABUMIP_for_m.assign_coords({'geoyear':geoyear}))\n",
    "\n",
    "ds_all['flux_Gt_ABUMIP'] = xr.concat(all_list, dim='geoyear')\n",
    "ds_all.to_netcdf(outputpath_GL + 'all_GL_fluxes_varying_m_ElmerIcegeometries.nc')"
   ]
  },
  {
   "cell_type": "code",
   "execution_count": null,
   "id": "9",
   "metadata": {},
   "outputs": [],
   "source": [
    "flux_all_m = xr.open_dataset(outputpath_GL + 'all_GL_fluxes_varying_m.nc')"
   ]
  },
  {
   "cell_type": "code",
   "execution_count": null,
   "id": "10",
   "metadata": {},
   "outputs": [],
   "source": [
    "flux_all_m"
   ]
  },
  {
   "cell_type": "code",
   "execution_count": null,
   "id": "11",
   "metadata": {},
   "outputs": [],
   "source": []
  }
 ],
 "metadata": {
  "kernelspec": {
   "display_name": "py38",
   "language": "python",
   "name": "py38"
  },
  "language_info": {
   "codemirror_mode": {
    "name": "ipython",
    "version": 3
   },
   "file_extension": ".py",
   "mimetype": "text/x-python",
   "name": "python",
   "nbconvert_exporter": "python",
   "pygments_lexer": "ipython3",
   "version": "3.8.20"
  }
 },
 "nbformat": 4,
 "nbformat_minor": 5
}
